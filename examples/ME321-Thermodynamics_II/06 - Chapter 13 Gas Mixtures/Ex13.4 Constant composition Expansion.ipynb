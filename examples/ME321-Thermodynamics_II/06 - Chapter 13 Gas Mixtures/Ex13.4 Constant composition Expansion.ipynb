{
 "cells": [
  {
   "cell_type": "markdown",
   "metadata": {},
   "source": [
    "# Example 13.4: Constant Composition Expansion\n",
    "\n",
    "*John F. Maddox, Ph.D., P.E.<br>\n",
    "University of Kentucky - Paducah Campus<br>\n",
    "ME 321: Engineering Thermodynamics II<br>*"
   ]
  },
  {
   "cell_type": "markdown",
   "metadata": {},
   "source": [
    "## Problem Statement\n",
    "A mixture having a molar composition of 66% $\\mathrm{N_2}$, 17% $\\mathrm{CO_2}$, 17% $\\mathrm{H_2O}$ enters a turbine at 1000 K, 8 bar with a mass flow rate of 2 kg/s.  The mixture expands isentropically to 1 bar.  Determine the exit temperature and the power output."
   ]
  },
  {
   "cell_type": "markdown",
   "metadata": {},
   "source": [
    "## Solution\n",
    "\n",
    "__[Video Explanation](https://uky.yuja.com/V/Video?v=3074207&node=10465108&a=1659172912&autoplay=1)__"
   ]
  },
  {
   "cell_type": "markdown",
   "metadata": {},
   "source": [
    "### Python Initialization\n",
    "We'll start by importing the libraries we will use for our analysis and initializing dictionaries to hold the properties we will be usings."
   ]
  },
  {
   "cell_type": "code",
   "execution_count": 1,
   "metadata": {
    "collapsed": false,
    "jupyter": {
     "outputs_hidden": false
    }
   },
   "outputs": [],
   "source": [
    "from kilojoule.templates.default import *\n",
    "from math import log\n",
    "   \n",
    "N2 = idealgas.Properties('N2')\n",
    "CO2 = idealgas.Properties('CO2')\n",
    "H2O = idealgas.Properties('H2O')\n",
    "\n",
    "# Universal gas constant\n",
    "Rbar = Quantity(8.3145,'kJ/kmol/K')\n",
    "\n",
    "T.set_units('K')"
   ]
  },
  {
   "cell_type": "markdown",
   "metadata": {},
   "source": [
    "### Given"
   ]
  },
  {
   "cell_type": "code",
   "execution_count": 2,
   "metadata": {},
   "outputs": [
    {
     "output_type": "display_data",
     "data": {
      "text/plain": "<IPython.core.display.Latex object>",
      "text/latex": "\\begin{aligned}{ \\overline{R} }&={ 8.3145\\ \\frac{\\mathrm{kJ}}{\\left(\\mathrm{K} \\cdot \\mathrm{kmol}\\right)} }&{ T_{room} }&={ 25\\ \\mathrm{°C} }&{ \\dot{m} }&={ 2\\ \\frac{\\mathrm{kg}}{\\mathrm{s}} }\\\\{  }\\end{aligned}"
     },
     "metadata": {}
    },
    {
     "output_type": "display_data",
     "data": {
      "text/plain": "<IPython.core.display.HTML object>",
      "text/html": "<table border=\"1\" class=\"dataframe\">\n  <thead>\n    <tr>\n      <th></th>\n      <th>T</th>\n      <th>p</th>\n      <th>y</th>\n    </tr>\n    <tr>\n      <th>unit</th>\n      <th>K</th>\n      <th>kPa</th>\n      <th></th>\n    </tr>\n  </thead>\n  <tbody>\n    <tr>\n      <th>1</th>\n      <td>1000.0</td>\n      <td>800.0</td>\n      <td>-</td>\n    </tr>\n    <tr>\n      <th>2</th>\n      <td>-</td>\n      <td>100.0</td>\n      <td>-</td>\n    </tr>\n    <tr>\n      <th>CO2</th>\n      <td>-</td>\n      <td>-</td>\n      <td>0.17</td>\n    </tr>\n    <tr>\n      <th>H2O</th>\n      <td>-</td>\n      <td>-</td>\n      <td>0.17</td>\n    </tr>\n    <tr>\n      <th>N2</th>\n      <td>-</td>\n      <td>-</td>\n      <td>0.66</td>\n    </tr>\n    <tr>\n      <th>mix</th>\n      <td>-</td>\n      <td>-</td>\n      <td>1.0</td>\n    </tr>\n  </tbody>\n</table>"
     },
     "metadata": {}
    }
   ],
   "source": [
    "T_room = Quantity(25,'degC')\n",
    "T[1] = Quantity(1000,'K')\n",
    "p[1] = Quantity(8,'bar')\n",
    "p[2] = Quantity(1,'bar')\n",
    "mdot = Quantity(2,'kg/s')\n",
    "y['N2'] = 0.66\n",
    "y['CO2'] = 0.17\n",
    "y['H2O'] = 0.17\n",
    "y['mix'] = y['N2'] + y['CO2'] + y['H2O']\n",
    "\n",
    "Summary();"
   ]
  },
  {
   "cell_type": "markdown",
   "metadata": {},
   "source": [
    "### Mixture Properties"
   ]
  },
  {
   "cell_type": "code",
   "execution_count": 3,
   "metadata": {},
   "outputs": [
    {
     "output_type": "display_data",
     "data": {
      "text/plain": "<IPython.core.display.Markdown object>",
      "text/markdown": " Molar Mass"
     },
     "metadata": {}
    },
    {
     "output_type": "display_data",
     "data": {
      "text/plain": "<IPython.core.display.Latex object>",
      "text/latex": "\\begin{aligned}\n  {M}_{ N2 } &=  \\underset{ N2 }{ mm }  = 28.013\\ \\frac{\\mathrm{kg}}{\\mathrm{kmol}} \n\\end{aligned}\n"
     },
     "metadata": {}
    },
    {
     "output_type": "display_data",
     "data": {
      "text/plain": "<IPython.core.display.Latex object>",
      "text/latex": "\\begin{aligned}\n  {M}_{ CO2 } &=  \\underset{ CO2 }{ mm }  = 44.01\\ \\frac{\\mathrm{kg}}{\\mathrm{kmol}} \n\\end{aligned}\n"
     },
     "metadata": {}
    },
    {
     "output_type": "display_data",
     "data": {
      "text/plain": "<IPython.core.display.Latex object>",
      "text/latex": "\\begin{aligned}\n  {M}_{ H2O } &=  \\underset{ H2O }{ mm }  = 18.015\\ \\frac{\\mathrm{kg}}{\\mathrm{kmol}} \n\\end{aligned}\n"
     },
     "metadata": {}
    },
    {
     "output_type": "display_data",
     "data": {
      "text/plain": "<IPython.core.display.Latex object>",
      "text/latex": "\\begin{aligned}\n  {M}_{ mix } &=   {y}_{ N2 }  \\cdot  {M}_{ N2 }  +  {y}_{ CO2 }  \\cdot  {M}_{ CO2 }  +  {y}_{ H2O }  \\cdot  {M}_{ H2O }  \\\\\n    &=  0.66\\  \\cdot  28.013\\ \\frac{\\mathrm{kg}}{\\mathrm{kmol}}  +  0.17\\  \\cdot  44.01\\ \\frac{\\mathrm{kg}}{\\mathrm{kmol}}  +  0.17\\  \\cdot  18.015\\ \\frac{\\mathrm{kg}}{\\mathrm{kmol}} \\\\\n    &= 29.033\\ \\frac{\\mathrm{kg}}{\\mathrm{kmol}}\n\\end{aligned}\n"
     },
     "metadata": {}
    },
    {
     "output_type": "display_data",
     "data": {
      "text/plain": "<IPython.core.display.Markdown object>",
      "text/markdown": " Mass fraction"
     },
     "metadata": {}
    },
    {
     "output_type": "display_data",
     "data": {
      "text/plain": "<IPython.core.display.Latex object>",
      "text/latex": "\\begin{aligned}\n  {mf}_{ N2 } &=  \\frac{  {y}_{ N2 }  \\cdot  {M}_{ N2 }  }{ {M}_{ mix } } \\\\\n    &= \\frac{  0.66\\  \\cdot  28.013\\ \\frac{\\mathrm{kg}}{\\mathrm{kmol}}  }{ 29.033\\ \\frac{\\mathrm{kg}}{\\mathrm{kmol}} }\\\\\n    &= 0.63682\\\n\\end{aligned}\n"
     },
     "metadata": {}
    },
    {
     "output_type": "display_data",
     "data": {
      "text/plain": "<IPython.core.display.Latex object>",
      "text/latex": "\\begin{aligned}\n  {mf}_{ CO2 } &=  \\frac{  {y}_{ CO2 }  \\cdot  {M}_{ CO2 }  }{ {M}_{ mix } } \\\\\n    &= \\frac{  0.17\\  \\cdot  44.01\\ \\frac{\\mathrm{kg}}{\\mathrm{kmol}}  }{ 29.033\\ \\frac{\\mathrm{kg}}{\\mathrm{kmol}} }\\\\\n    &= 0.25769\\\n\\end{aligned}\n"
     },
     "metadata": {}
    },
    {
     "output_type": "display_data",
     "data": {
      "text/plain": "<IPython.core.display.Latex object>",
      "text/latex": "\\begin{aligned}\n  {mf}_{ H2O } &=  \\frac{  {y}_{ H2O }  \\cdot  {M}_{ H2O }  }{ {M}_{ mix } } \\\\\n    &= \\frac{  0.17\\  \\cdot  18.015\\ \\frac{\\mathrm{kg}}{\\mathrm{kmol}}  }{ 29.033\\ \\frac{\\mathrm{kg}}{\\mathrm{kmol}} }\\\\\n    &= 0.10549\\\n\\end{aligned}\n"
     },
     "metadata": {}
    },
    {
     "output_type": "display_data",
     "data": {
      "text/plain": "<IPython.core.display.Latex object>",
      "text/latex": "\\begin{aligned}\n  {mf}_{ mix } &=  {mf}_{ N2 } + {mf}_{ CO2 } + {mf}_{ H2O } \\\\\n    &= 0.63682\\ + 0.25769\\ + 0.10549\\\\\\\n    &= 1.0\\\n\\end{aligned}\n"
     },
     "metadata": {}
    },
    {
     "output_type": "display_data",
     "data": {
      "text/plain": "<IPython.core.display.Markdown object>",
      "text/markdown": " Constant pressure specific heat"
     },
     "metadata": {}
    },
    {
     "output_type": "display_data",
     "data": {
      "text/plain": "<IPython.core.display.Latex object>",
      "text/latex": "\\begin{aligned}\n  {c_{p}}_{ N2 } &=  \\mathrm{ \\underset{ N2 }{ cp } }\\left( T_{room} \\right)  = \\mathrm{ \\underset{ N2 }{ cp } }\\left( 25\\ \\mathrm{°C} \\right) = 1.0396\\ \\frac{\\mathrm{kJ}}{\\left(\\mathrm{K} \\cdot \\mathrm{kg}\\right)}\n\\end{aligned}\n"
     },
     "metadata": {}
    },
    {
     "output_type": "display_data",
     "data": {
      "text/plain": "<IPython.core.display.Latex object>",
      "text/latex": "\\begin{aligned}\n  {c_{p}}_{ CO2 } &=  \\mathrm{ \\underset{ CO2 }{ cp } }\\left( T_{room} \\right)  = \\mathrm{ \\underset{ CO2 }{ cp } }\\left( 25\\ \\mathrm{°C} \\right) = 0.84379\\ \\frac{\\mathrm{kJ}}{\\left(\\mathrm{K} \\cdot \\mathrm{kg}\\right)}\n\\end{aligned}\n"
     },
     "metadata": {}
    },
    {
     "output_type": "display_data",
     "data": {
      "text/plain": "<IPython.core.display.Latex object>",
      "text/latex": "\\begin{aligned}\n  {c_{p}}_{ H2O } &=  \\mathrm{ \\underset{ H2O }{ cp } }\\left( T_{room} \\right)  = \\mathrm{ \\underset{ H2O }{ cp } }\\left( 25\\ \\mathrm{°C} \\right) = 1.8644\\ \\frac{\\mathrm{kJ}}{\\left(\\mathrm{K} \\cdot \\mathrm{kg}\\right)}\n\\end{aligned}\n"
     },
     "metadata": {}
    },
    {
     "output_type": "display_data",
     "data": {
      "text/plain": "<IPython.core.display.Latex object>",
      "text/latex": "\\begin{aligned}\n  {c_{p}}_{ mix } &=   {mf}_{ N2 }  \\cdot  {c_{p}}_{ N2 }  +  {mf}_{ CO2 }  \\cdot  {c_{p}}_{ CO2 }  +  {mf}_{ H2O }  \\cdot  {c_{p}}_{ H2O }  \\\\\n    &=  0.63682\\  \\cdot  1.0396\\ \\frac{\\mathrm{kJ}}{\\left(\\mathrm{K} \\cdot \\mathrm{kg}\\right)}  +  0.25769\\  \\cdot  0.84379\\ \\frac{\\mathrm{kJ}}{\\left(\\mathrm{K} \\cdot \\mathrm{kg}\\right)}  +  0.10549\\  \\cdot  1.8644\\ \\frac{\\mathrm{kJ}}{\\left(\\mathrm{K} \\cdot \\mathrm{kg}\\right)} \\\\\n    &= 1.0762\\ \\frac{\\mathrm{kJ}}{\\left(\\mathrm{K} \\cdot \\mathrm{kg}\\right)}\n\\end{aligned}\n"
     },
     "metadata": {}
    },
    {
     "output_type": "display_data",
     "data": {
      "text/plain": "<IPython.core.display.Markdown object>",
      "text/markdown": " Constant volume specific heat"
     },
     "metadata": {}
    },
    {
     "output_type": "display_data",
     "data": {
      "text/plain": "<IPython.core.display.Latex object>",
      "text/latex": "\\begin{aligned}\n  {c_{v}}_{ N2 } &=  \\mathrm{ \\underset{ N2 }{ cv } }\\left( T_{room} \\right)  = \\mathrm{ \\underset{ N2 }{ cv } }\\left( 25\\ \\mathrm{°C} \\right) = 0.74285\\ \\frac{\\mathrm{kJ}}{\\left(\\mathrm{K} \\cdot \\mathrm{kg}\\right)}\n\\end{aligned}\n"
     },
     "metadata": {}
    },
    {
     "output_type": "display_data",
     "data": {
      "text/plain": "<IPython.core.display.Latex object>",
      "text/latex": "\\begin{aligned}\n  {c_{v}}_{ CO2 } &=  \\mathrm{ \\underset{ CO2 }{ cv } }\\left( T_{room} \\right)  = \\mathrm{ \\underset{ CO2 }{ cv } }\\left( 25\\ \\mathrm{°C} \\right) = 0.65487\\ \\frac{\\mathrm{kJ}}{\\left(\\mathrm{K} \\cdot \\mathrm{kg}\\right)}\n\\end{aligned}\n"
     },
     "metadata": {}
    },
    {
     "output_type": "display_data",
     "data": {
      "text/plain": "<IPython.core.display.Latex object>",
      "text/latex": "\\begin{aligned}\n  {c_{v}}_{ H2O } &=  \\mathrm{ \\underset{ H2O }{ cv } }\\left( T_{room} \\right)  = \\mathrm{ \\underset{ H2O }{ cv } }\\left( 25\\ \\mathrm{°C} \\right) = 1.4029\\ \\frac{\\mathrm{kJ}}{\\left(\\mathrm{K} \\cdot \\mathrm{kg}\\right)}\n\\end{aligned}\n"
     },
     "metadata": {}
    },
    {
     "output_type": "display_data",
     "data": {
      "text/plain": "<IPython.core.display.Latex object>",
      "text/latex": "\\begin{aligned}\n  {c_{v}}_{ mix } &=   {mf}_{ N2 }  \\cdot  {c_{v}}_{ N2 }  +  {mf}_{ CO2 }  \\cdot  {c_{v}}_{ CO2 }  +  {mf}_{ H2O }  \\cdot  {c_{v}}_{ H2O }  \\\\\n    &=  0.63682\\  \\cdot  0.74285\\ \\frac{\\mathrm{kJ}}{\\left(\\mathrm{K} \\cdot \\mathrm{kg}\\right)}  +  0.25769\\  \\cdot  0.65487\\ \\frac{\\mathrm{kJ}}{\\left(\\mathrm{K} \\cdot \\mathrm{kg}\\right)}  +  0.10549\\  \\cdot  1.4029\\ \\frac{\\mathrm{kJ}}{\\left(\\mathrm{K} \\cdot \\mathrm{kg}\\right)} \\\\\n    &= 0.7898\\ \\frac{\\mathrm{kJ}}{\\left(\\mathrm{K} \\cdot \\mathrm{kg}\\right)}\n\\end{aligned}\n"
     },
     "metadata": {}
    },
    {
     "output_type": "display_data",
     "data": {
      "text/plain": "<IPython.core.display.Markdown object>",
      "text/markdown": " Specific heat ratio"
     },
     "metadata": {}
    },
    {
     "output_type": "display_data",
     "data": {
      "text/plain": "<IPython.core.display.Latex object>",
      "text/latex": "\\begin{aligned}\n  {k}_{ N2 } &=  \\mathrm{ \\underset{ N2 }{ k } }\\left( T_{room} \\right)  = \\mathrm{ \\underset{ N2 }{ k } }\\left( 25\\ \\mathrm{°C} \\right) = 1.3995\\\n\\end{aligned}\n"
     },
     "metadata": {}
    },
    {
     "output_type": "display_data",
     "data": {
      "text/plain": "<IPython.core.display.Latex object>",
      "text/latex": "\\begin{aligned}\n  {k}_{ CO2 } &=  \\mathrm{ \\underset{ CO2 }{ k } }\\left( T_{room} \\right)  = \\mathrm{ \\underset{ CO2 }{ k } }\\left( 25\\ \\mathrm{°C} \\right) = 1.2885\\\n\\end{aligned}\n"
     },
     "metadata": {}
    },
    {
     "output_type": "display_data",
     "data": {
      "text/plain": "<IPython.core.display.Latex object>",
      "text/latex": "\\begin{aligned}\n  {k}_{ H2O } &=  \\mathrm{ \\underset{ H2O }{ k } }\\left( T_{room} \\right)  = \\mathrm{ \\underset{ H2O }{ k } }\\left( 25\\ \\mathrm{°C} \\right) = 1.329\\\n\\end{aligned}\n"
     },
     "metadata": {}
    },
    {
     "output_type": "display_data",
     "data": {
      "text/plain": "<IPython.core.display.Latex object>",
      "text/latex": "\\begin{aligned}\n  {k}_{ mix } &=   {mf}_{ N2 }  \\cdot  {k}_{ N2 }  +  {mf}_{ CO2 }  \\cdot  {k}_{ CO2 }  +  {mf}_{ H2O }  \\cdot  {k}_{ H2O }  \\\\\n    &=  0.63682\\  \\cdot  1.3995\\  +  0.25769\\  \\cdot  1.2885\\  +  0.10549\\  \\cdot  1.329\\ \\\\\n    &= 1.3635\\\n\\end{aligned}\n"
     },
     "metadata": {}
    }
   ],
   "source": [
    "%%showcalc\n",
    "# Molar Mass\n",
    "M['N2'] = N2.mm\n",
    "M['CO2'] = CO2.mm\n",
    "M['H2O'] = H2O.mm\n",
    "M['mix'] = y['N2']*M['N2'] + y['CO2']*M['CO2'] + y['H2O']*M['H2O']\n",
    "\n",
    "# Mass fraction\n",
    "mf['N2'] = y['N2']*M['N2']/M['mix']\n",
    "mf['CO2'] = y['CO2']*M['CO2']/M['mix']\n",
    "mf['H2O'] = y['H2O']*M['H2O']/M['mix']\n",
    "mf['mix'] = mf['N2'] + mf['CO2'] + mf['H2O']\n",
    "\n",
    "# Constant pressure specific heat\n",
    "c_p['N2'] = N2.cp(T_room)\n",
    "c_p['CO2'] = CO2.cp(T_room)\n",
    "c_p['H2O'] = H2O.cp(T_room)\n",
    "c_p['mix'] = mf['N2']*c_p['N2'] + mf['CO2']*c_p['CO2'] + mf['H2O']*c_p['H2O']\n",
    "\n",
    "# Constant volume specific heat\n",
    "c_v['N2'] = N2.cv(T_room)\n",
    "c_v['CO2'] = CO2.cv(T_room)\n",
    "c_v['H2O'] = H2O.cv(T_room)\n",
    "c_v['mix'] = mf['N2']*c_v['N2'] + mf['CO2']*c_v['CO2'] + mf['H2O']*c_v['H2O']\n",
    "\n",
    "# Specific heat ratio\n",
    "k['N2'] = N2.k(T_room)\n",
    "k['CO2'] = CO2.k(T_room)\n",
    "k['H2O'] = H2O.k(T_room)\n",
    "k['mix'] = mf['N2']*k['N2'] + mf['CO2']*k['CO2'] + mf['H2O']*k['H2O']"
   ]
  },
  {
   "cell_type": "code",
   "execution_count": 4,
   "metadata": {},
   "outputs": [
    {
     "output_type": "display_data",
     "data": {
      "text/plain": "<IPython.core.display.HTML object>",
      "text/html": "<table border=\"1\" class=\"dataframe\">\n  <thead>\n    <tr>\n      <th></th>\n      <th>T</th>\n      <th>p</th>\n      <th>y</th>\n      <th>mf</th>\n      <th>M</th>\n      <th>c_v</th>\n      <th>c_p</th>\n      <th>k</th>\n    </tr>\n    <tr>\n      <th>unit</th>\n      <th>K</th>\n      <th>kPa</th>\n      <th></th>\n      <th></th>\n      <th>kg/kmol</th>\n      <th>kJ/K/kg</th>\n      <th>kJ/K/kg</th>\n      <th></th>\n    </tr>\n  </thead>\n  <tbody>\n    <tr>\n      <th>1</th>\n      <td>1000.0</td>\n      <td>800.0</td>\n      <td>-</td>\n      <td>-</td>\n      <td>-</td>\n      <td>-</td>\n      <td>-</td>\n      <td>-</td>\n    </tr>\n    <tr>\n      <th>2</th>\n      <td>-</td>\n      <td>100.0</td>\n      <td>-</td>\n      <td>-</td>\n      <td>-</td>\n      <td>-</td>\n      <td>-</td>\n      <td>-</td>\n    </tr>\n    <tr>\n      <th>CO2</th>\n      <td>-</td>\n      <td>-</td>\n      <td>0.17</td>\n      <td>0.257694</td>\n      <td>44.0098</td>\n      <td>0.65487</td>\n      <td>0.843793</td>\n      <td>1.288489</td>\n    </tr>\n    <tr>\n      <th>H2O</th>\n      <td>-</td>\n      <td>-</td>\n      <td>0.17</td>\n      <td>0.105486</td>\n      <td>18.01528</td>\n      <td>1.402867</td>\n      <td>1.86439</td>\n      <td>1.328985</td>\n    </tr>\n    <tr>\n      <th>N2</th>\n      <td>-</td>\n      <td>-</td>\n      <td>0.66</td>\n      <td>0.63682</td>\n      <td>28.01348</td>\n      <td>0.742846</td>\n      <td>1.039649</td>\n      <td>1.399547</td>\n    </tr>\n    <tr>\n      <th>mix</th>\n      <td>-</td>\n      <td>-</td>\n      <td>1.0</td>\n      <td>1.0</td>\n      <td>29.03316</td>\n      <td>0.789799</td>\n      <td>1.076177</td>\n      <td>1.363485</td>\n    </tr>\n  </tbody>\n</table>"
     },
     "metadata": {}
    }
   ],
   "source": [
    "states.display();"
   ]
  },
  {
   "cell_type": "markdown",
   "metadata": {},
   "source": [
    "### First Law"
   ]
  },
  {
   "cell_type": "code",
   "execution_count": 5,
   "metadata": {},
   "outputs": [
    {
     "output_type": "display_data",
     "data": {
      "text/plain": "<IPython.core.display.Markdown object>",
      "text/markdown": " Isentropic Expansion"
     },
     "metadata": {}
    },
    {
     "output_type": "display_data",
     "data": {
      "text/plain": "<IPython.core.display.Latex object>",
      "text/latex": "\\begin{aligned}\n  {T}_{ 2 } &=   {T}_{ 1 }  \\cdot  \\left(\\frac{ {p}_{ 2 } }{ {p}_{ 1 } }\\right)^\\frac{  {k}_{ mix } - 1  }{ {k}_{ mix } }  \\\\\n    &=  1000\\ \\mathrm{K}  \\cdot  \\left(\\frac{ 100.0\\ \\mathrm{kPa} }{ 800.0\\ \\mathrm{kPa} }\\right)^\\frac{  1.3635\\ - 1  }{ 1.3635\\ } \\\\\n    &= 574.45\\ \\mathrm{K}\n\\end{aligned}\n"
     },
     "metadata": {}
    },
    {
     "output_type": "display_data",
     "data": {
      "text/plain": "<IPython.core.display.Markdown object>",
      "text/markdown": " First Law"
     },
     "metadata": {}
    },
    {
     "output_type": "display_data",
     "data": {
      "text/plain": "<IPython.core.display.Latex object>",
      "text/latex": "\\begin{aligned}\n  \\dot{W}_{t} &=    \\dot{m}  \\cdot  {c_{p}}_{ mix }   \\cdot  \\left(  {T}_{ 1 } - {T}_{ 2 }  \\right)  \\\\\n    &=   2\\ \\frac{\\mathrm{kg}}{\\mathrm{s}}  \\cdot  1.0762\\ \\frac{\\mathrm{kJ}}{\\left(\\mathrm{K} \\cdot \\mathrm{kg}\\right)}   \\cdot  \\left(  1000\\ \\mathrm{K} - 574.45\\ \\mathrm{K}  \\right) \\\\\n    &= 915.94\\ \\frac{\\mathrm{kJ}}{\\mathrm{s}}\n\\end{aligned}\n"
     },
     "metadata": {}
    }
   ],
   "source": [
    "%%showcalc\n",
    "# Isentropic Expansion\n",
    "T[2] = T[1].to('K')*(p[2]/p[1])**((k['mix']-1)/k['mix'])\n",
    "\n",
    "# First Law\n",
    "Wdot_t = mdot*c_p['mix']*(T[1]-T[2])"
   ]
  }
 ],
 "metadata": {
  "kernelspec": {
   "display_name": "Python 3",
   "language": "python",
   "name": "python3"
  }
 },
 "nbformat": 4,
 "nbformat_minor": 4
}