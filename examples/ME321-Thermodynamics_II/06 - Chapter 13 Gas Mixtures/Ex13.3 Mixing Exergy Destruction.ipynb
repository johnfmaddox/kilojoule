{
 "cells": [
  {
   "cell_type": "markdown",
   "metadata": {},
   "source": [
    "# Example 13.3: Mixing Exergy Destruction\n",
    "\n",
    "*John F. Maddox, Ph.D., P.E.<br>\n",
    "University of Kentucky - Paducah Campus<br>\n",
    "ME 321: Engineering Thermodynamics II<br>*"
   ]
  },
  {
   "cell_type": "markdown",
   "metadata": {},
   "source": [
    "## Problem Statement\n",
    "What is the exergy destruction when 79% nitrogen and 21% oxygen (initially separated) mix at constant temperature and pressure, $T_0=300\\ \\mathrm{K}$"
   ]
  },
  {
   "cell_type": "markdown",
   "metadata": {},
   "source": [
    "## Solution\n",
    "\n",
    "__[Video Explanation](https://uky.yuja.com/V/Video?v=3074206&node=10465106&a=1345575442&autoplay=1)__"
   ]
  },
  {
   "cell_type": "markdown",
   "metadata": {},
   "source": [
    "### Python Initialization\n",
    "We'll start by importing the libraries we will use for our analysis and initializing dictionaries to hold the properties we will be usings."
   ]
  },
  {
   "cell_type": "code",
   "execution_count": 1,
   "metadata": {
    "collapsed": false,
    "jupyter": {
     "outputs_hidden": false
    }
   },
   "outputs": [],
   "source": [
    "from kilojoule.templates.USCS_R import *\n",
    "from math import log\n",
    "   \n",
    "N2 = idealgas.Properties('N2')\n",
    "O2 = idealgas.Properties('O2')\n",
    "\n",
    "# Universal gas constant\n",
    "Rbar = Quantity(8.3145,'kJ/kmol/K')\n",
    "\n",
    "# Add columns to states table\n",
    "y = states.add_property('y','')\n"
   ]
  },
  {
   "cell_type": "markdown",
   "metadata": {},
   "source": [
    "### Given"
   ]
  },
  {
   "cell_type": "code",
   "execution_count": 2,
   "metadata": {},
   "outputs": [
    {
     "output_type": "display_data",
     "data": {
      "text/plain": "<IPython.core.display.Latex object>",
      "text/latex": "\\begin{aligned}{ \\overline{R} }&={ 8.3145\\ \\frac{\\mathrm{kJ}}{\\left(\\mathrm{K} \\cdot \\mathrm{kmol}\\right)} }&{ T_{0} }&={ 300\\ \\mathrm{K} }&{  }\\end{aligned}"
     },
     "metadata": {}
    },
    {
     "output_type": "display_data",
     "data": {
      "text/plain": "<IPython.core.display.HTML object>",
      "text/html": "<table border=\"1\" class=\"dataframe\">\n  <thead>\n    <tr>\n      <th></th>\n      <th>T</th>\n      <th>y</th>\n    </tr>\n    <tr>\n      <th>unit</th>\n      <th>°R</th>\n      <th></th>\n    </tr>\n  </thead>\n  <tbody>\n    <tr>\n      <th>1</th>\n      <td>540.0</td>\n      <td>-</td>\n    </tr>\n    <tr>\n      <th>2</th>\n      <td>540.0</td>\n      <td>-</td>\n    </tr>\n    <tr>\n      <th>N2</th>\n      <td>-</td>\n      <td>0.79</td>\n    </tr>\n    <tr>\n      <th>O2</th>\n      <td>-</td>\n      <td>0.21</td>\n    </tr>\n  </tbody>\n</table>"
     },
     "metadata": {}
    }
   ],
   "source": [
    "T_0 = T[1] = T[2] = Quantity(300,'K')\n",
    "y['N2'] = Quantity(0.79,'')\n",
    "y['O2'] = Quantity(0.21,'')\n",
    "\n",
    "Summary();"
   ]
  },
  {
   "cell_type": "markdown",
   "metadata": {},
   "source": [
    "### Exergy Destruction"
   ]
  },
  {
   "cell_type": "code",
   "execution_count": 3,
   "metadata": {},
   "outputs": [
    {
     "output_type": "display_data",
     "data": {
      "text/plain": "<IPython.core.display.Markdown object>",
      "text/markdown": " 2nd Law"
     },
     "metadata": {}
    },
    {
     "output_type": "display_data",
     "data": {
      "text/plain": "<IPython.core.display.Latex object>",
      "text/latex": "\\begin{aligned}\n  \\overline{s}_{gen} &=   -\\overline{R}  \\cdot  \\left(  {y}_{ N2 }  \\cdot  \\mathrm{ log }\\left( {y}_{ N2 } \\right)  +  {y}_{ O2 }  \\cdot  \\mathrm{ log }\\left( {y}_{ O2 } \\right)  \\right)  \\\\\n    &=  -\\left( 8.3145\\ \\frac{\\mathrm{kJ}}{\\left(\\mathrm{K} \\cdot \\mathrm{kmol}\\right)} \\right)  \\cdot  \\left(  0.79\\  \\cdot  \\mathrm{ log }\\left( 0.79\\ \\right)  +  0.21\\  \\cdot  \\mathrm{ log }\\left( 0.21\\ \\right)  \\right) \\\\\n    &= 4.2733\\ \\frac{\\mathrm{kJ}}{\\left(\\mathrm{K} \\cdot \\mathrm{kmol}\\right)}\n\\end{aligned}\n"
     },
     "metadata": {}
    },
    {
     "output_type": "display_data",
     "data": {
      "text/plain": "<IPython.core.display.Markdown object>",
      "text/markdown": " Exergy destruction"
     },
     "metadata": {}
    },
    {
     "output_type": "display_data",
     "data": {
      "text/plain": "<IPython.core.display.Latex object>",
      "text/latex": "\\begin{aligned}\n  \\overline{\\phi}_{dest} &=   T_{0}  \\cdot  \\overline{s}_{gen}  \\\\\n    &=  300\\ \\mathrm{K}  \\cdot  4.2733\\ \\frac{\\mathrm{kJ}}{\\left(\\mathrm{K} \\cdot \\mathrm{kmol}\\right)} \\\\\n    &= 1282.0\\ \\frac{\\mathrm{kJ}}{\\mathrm{kmol}}\n\\end{aligned}\n"
     },
     "metadata": {}
    }
   ],
   "source": [
    "%%showcalc\n",
    "# 2nd Law\n",
    "sbar_gen = -Rbar*( y['N2']*log(y['N2']) + y['O2']*log(y['O2']) )\n",
    "\n",
    "# Exergy destruction\n",
    "phibar_dest = T_0*sbar_gen"
   ]
  }
 ],
 "metadata": {
  "kernelspec": {
   "display_name": "Python 3",
   "language": "python",
   "name": "python3"
  }
 },
 "nbformat": 4,
 "nbformat_minor": 4
}