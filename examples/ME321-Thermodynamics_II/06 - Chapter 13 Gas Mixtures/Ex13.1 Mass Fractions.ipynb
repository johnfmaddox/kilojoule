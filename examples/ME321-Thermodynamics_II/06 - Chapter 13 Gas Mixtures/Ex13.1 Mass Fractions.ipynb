{
 "cells": [
  {
   "cell_type": "markdown",
   "metadata": {},
   "source": [
    "# Example 13.1: Mass Fractions\n",
    "\n",
    "*John F. Maddox, Ph.D., P.E.<br>\n",
    "University of Kentucky - Paducah Campus<br>\n",
    "ME 321: Engineering Thermodynamics II<br>*"
   ]
  },
  {
   "cell_type": "markdown",
   "metadata": {},
   "source": [
    "## Problem Statement\n",
    "Compute the molecular weight of a mixture of 78% $\\mathrm{N}_2$, 21% $\\mathrm{O_2}$, 1% $\\mathrm{Ar}$ (by volume). Convert the mixture description to mass fractions."
   ]
  },
  {
   "cell_type": "markdown",
   "metadata": {},
   "source": [
    "## Solution\n",
    "\n",
    "__[Video Explanation](https://uky.yuja.com/V/Video?v=3074202&node=10465101&a=1724602972&autoplay=1)__"
   ]
  },
  {
   "cell_type": "markdown",
   "metadata": {},
   "source": [
    "### Python Initialization\n",
    "We'll start by importing the libraries we will use for our analysis and initializing dictionaries to hold the properties we will be usings."
   ]
  },
  {
   "cell_type": "code",
   "execution_count": 1,
   "metadata": {
    "collapsed": false,
    "jupyter": {
     "outputs_hidden": false
    }
   },
   "outputs": [],
   "source": [
    "from kilojoule.templates.default import *\n",
    "   \n",
    "N2 =idealgas.Properties('N2')\n",
    "O2 = idealgas.Properties('O2')\n",
    "Ar = idealgas.Properties('Ar')\n",
    "\n",
    "V = Vol\n",
    "y = states.add_property('y','')\n",
    "M = states.add_property('M','kg/kmol')\n",
    "mf = states.add_property('mf','')"
   ]
  },
  {
   "cell_type": "code",
   "execution_count": 2,
   "metadata": {},
   "outputs": [
    {
     "output_type": "display_data",
     "data": {
      "text/plain": "<IPython.core.display.Markdown object>",
      "text/markdown": " Volumes"
     },
     "metadata": {}
    },
    {
     "output_type": "display_data",
     "data": {
      "text/plain": "<IPython.core.display.Latex object>",
      "text/latex": "\\begin{aligned}\n  {V}_{ N2 } &=  0.78\\ \\mathrm{m}^{3} \n\\end{aligned}\n"
     },
     "metadata": {}
    },
    {
     "output_type": "display_data",
     "data": {
      "text/plain": "<IPython.core.display.Latex object>",
      "text/latex": "\\begin{aligned}\n  {V}_{ O2 } &=  0.21\\ \\mathrm{m}^{3} \n\\end{aligned}\n"
     },
     "metadata": {}
    },
    {
     "output_type": "display_data",
     "data": {
      "text/plain": "<IPython.core.display.Latex object>",
      "text/latex": "\\begin{aligned}\n  {V}_{ Ar } &=  0.01\\ \\mathrm{m}^{3} \n\\end{aligned}\n"
     },
     "metadata": {}
    },
    {
     "output_type": "display_data",
     "data": {
      "text/plain": "<IPython.core.display.Latex object>",
      "text/latex": "\\begin{aligned}\n  {V}_{ m } &=  {V}_{ N2 } + {V}_{ O2 } + {V}_{ Ar } \\\\\n    &= 0.78\\ \\mathrm{m}^{3} + 0.21\\ \\mathrm{m}^{3} + 0.01\\ \\mathrm{m}^{3}\\\\\n    &= 1.0\\ \\mathrm{m}^{3}\n\\end{aligned}\n"
     },
     "metadata": {}
    },
    {
     "output_type": "display_data",
     "data": {
      "text/plain": "<IPython.core.display.Markdown object>",
      "text/markdown": " Mole Fractions"
     },
     "metadata": {}
    },
    {
     "output_type": "display_data",
     "data": {
      "text/plain": "<IPython.core.display.Markdown object>",
      "text/markdown": " Apparent Molar Mass"
     },
     "metadata": {}
    },
    {
     "output_type": "display_data",
     "data": {
      "text/plain": "<IPython.core.display.Latex object>",
      "text/latex": "\\begin{aligned}\n  {M}_{ N2 } &=  \\underset{ N2 }{ mm }  = 28.013\\ \\frac{\\mathrm{kg}}{\\mathrm{kmol}} \n\\end{aligned}\n"
     },
     "metadata": {}
    },
    {
     "output_type": "display_data",
     "data": {
      "text/plain": "<IPython.core.display.Latex object>",
      "text/latex": "\\begin{aligned}\n  {M}_{ O2 } &=  \\underset{ O2 }{ mm }  = 31.999\\ \\frac{\\mathrm{kg}}{\\mathrm{kmol}} \n\\end{aligned}\n"
     },
     "metadata": {}
    },
    {
     "output_type": "display_data",
     "data": {
      "text/plain": "<IPython.core.display.Latex object>",
      "text/latex": "\\begin{aligned}\n  {M}_{ Ar } &=  \\underset{ Ar }{ mm }  = 39.948\\ \\frac{\\mathrm{kg}}{\\mathrm{kmol}} \n\\end{aligned}\n"
     },
     "metadata": {}
    },
    {
     "output_type": "stream",
     "name": "stdout",
     "text": [
      "not implemented for ListComp\n"
     ]
    },
    {
     "output_type": "display_data",
     "data": {
      "text/plain": "<IPython.core.display.Latex object>",
      "text/latex": "\\begin{aligned}\n  {M}_{ m } &=  \\mathrm{ sum }\\left(  \\right)  = 28.97\\ \\frac{\\mathrm{kg}}{\\mathrm{kmol}} \n\\end{aligned}\n"
     },
     "metadata": {}
    },
    {
     "output_type": "display_data",
     "data": {
      "text/plain": "<IPython.core.display.Markdown object>",
      "text/markdown": " Mass Fraction Composition"
     },
     "metadata": {}
    }
   ],
   "source": [
    "%%showcalc\n",
    "# Volumes\n",
    "V['N2'] = Quantity(0.78,'m^3')\n",
    "V['O2'] = Quantity(0.21,'m^3')\n",
    "V['Ar'] = Quantity(0.01,'m^3')\n",
    "V['m'] = V['N2'] + V['O2'] + V['Ar']\n",
    "\n",
    "# Mole Fractions\n",
    "for i in 'N2 O2 Ar m'.split():\n",
    "    y[i] = V[i]/V['m']\n",
    "\n",
    "# Apparent Molar Mass\n",
    "M['N2'] = N2.mm\n",
    "M['O2'] = O2.mm\n",
    "M['Ar'] = Ar.mm\n",
    "M['m'] = sum([y[i]*M[i] for i in 'N2 O2 Ar'.split()])\n",
    "\n",
    "# Mass Fraction Composition\n",
    "for i in 'N2 O2 Ar m'.split():\n",
    "    mf[i] = y[i]*M[i]/M['m']"
   ]
  },
  {
   "cell_type": "code",
   "execution_count": 3,
   "metadata": {},
   "outputs": [
    {
     "output_type": "display_data",
     "data": {
      "text/plain": "<IPython.core.display.HTML object>",
      "text/html": "<table border=\"1\" class=\"dataframe\">\n  <thead>\n    <tr>\n      <th></th>\n      <th>Vol</th>\n      <th>y</th>\n      <th>mf</th>\n      <th>M</th>\n    </tr>\n    <tr>\n      <th>unit</th>\n      <th>m³</th>\n      <th></th>\n      <th></th>\n      <th>kg/kmol</th>\n    </tr>\n  </thead>\n  <tbody>\n    <tr>\n      <th>Ar</th>\n      <td>0.01</td>\n      <td>0.01</td>\n      <td>0.013790</td>\n      <td>39.948000</td>\n    </tr>\n    <tr>\n      <th>N2</th>\n      <td>0.78</td>\n      <td>0.78</td>\n      <td>0.754253</td>\n      <td>28.013480</td>\n    </tr>\n    <tr>\n      <th>O2</th>\n      <td>0.21</td>\n      <td>0.21</td>\n      <td>0.231957</td>\n      <td>31.998800</td>\n    </tr>\n    <tr>\n      <th>m</th>\n      <td>1.00</td>\n      <td>1.00</td>\n      <td>1.000000</td>\n      <td>28.969742</td>\n    </tr>\n  </tbody>\n</table>"
     },
     "metadata": {}
    }
   ],
   "source": [
    "states.display();"
   ]
  }
 ],
 "metadata": {
  "kernelspec": {
   "display_name": "Python 3",
   "language": "python",
   "name": "python3"
  }
 },
 "nbformat": 4,
 "nbformat_minor": 4
}