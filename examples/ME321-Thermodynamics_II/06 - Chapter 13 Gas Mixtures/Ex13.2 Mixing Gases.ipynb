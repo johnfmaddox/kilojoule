{
 "cells": [
  {
   "cell_type": "markdown",
   "metadata": {},
   "source": [
    "# Example 13.2: Mixing Gases\n",
    "\n",
    "*John F. Maddox, Ph.D., P.E.<br>\n",
    "University of Kentucky - Paducah Campus<br>\n",
    "ME 321: Engineering Thermodynamics II<br>*"
   ]
  },
  {
   "cell_type": "markdown",
   "metadata": {},
   "source": [
    "## Problem Statement\n",
    "A rigid insulated tank has two compartments.  One is filled with 5 lmbol of Ar at $100^\\circ\\mathrm{F}$ and $20\\ \\mathrm{psia}$.  The other is filled with 10 lbmol of He at $200^\\circ\\ mathrm{F}$ and 30 psia.  The gases mix and reach equilibrium.  Determine the final temperature, final pressure and the amount of entropy produced."
   ]
  },
  {
   "cell_type": "markdown",
   "metadata": {},
   "source": [
    "## Solution\n",
    "\n",
    "__[Video Explanation](https://uky.yuja.com/V/Video?v=3074204&node=10465104&a=130117961&autoplay=1)__"
   ]
  },
  {
   "cell_type": "markdown",
   "metadata": {},
   "source": [
    "### Python Initialization\n",
    "We'll start by importing the libraries we will use for our analysis and initializing dictionaries to hold the properties we will be usings."
   ]
  },
  {
   "cell_type": "code",
   "execution_count": 1,
   "metadata": {
    "collapsed": false,
    "jupyter": {
     "outputs_hidden": false
    }
   },
   "outputs": [],
   "source": [
    "from kilojoule.templates.USCS_R import *\n",
    "from math import log\n",
    "   \n",
    "He = idealgas.Properties('He')\n",
    "Ar = idealgas.Properties('Ar')\n",
    "\n",
    "# Universal gas constant\n",
    "Rbar = Quantity(1.986,'Btu/lbmol/degR')\n",
    "\n",
    "# Add columns to states table\n",
    "V = Vol\n",
    "y = states.add_property('y','')\n",
    "M = states.add_property('M','lb/lbmol')\n",
    "mf = states.add_property('mf','')\n",
    "N = states.add_property('N','lbmol')\n",
    "c_v = states.add_property('cv','Btu/lb/degR')\n",
    "R = states.add_property('R','Btu/lb/degR')"
   ]
  },
  {
   "cell_type": "markdown",
   "metadata": {},
   "source": [
    "### Given"
   ]
  },
  {
   "cell_type": "code",
   "execution_count": 2,
   "metadata": {},
   "outputs": [],
   "source": [
    "T_room = Quantity(80,'degF')\n",
    "T['B'] = Quantity(200,'degF')\n",
    "T['A'] = Quantity(100,'degF')\n",
    "p['B'] = Quantity(30,'psi')\n",
    "p['A'] = Quantity(20,'psi')\n",
    "N['He'] = Quantity(10,'lbmol')\n",
    "N['Ar'] = Quantity(5,'lbmol')"
   ]
  },
  {
   "cell_type": "code",
   "execution_count": 3,
   "metadata": {},
   "outputs": [],
   "source": [
    "# Mass\n",
    "M['Ar'] = Ar.mm\n",
    "m['Ar'] = M['Ar']*N['Ar']\n",
    "M['He'] = He.mm\n",
    "m['He'] = M['He']*N['He']\n",
    "\n",
    "# Specific heat\n",
    "c_v['Ar'] = Ar.cv(T_room)\n",
    "c_v['He'] = He.cv(T_room)\n",
    "\n",
    "# Specific Gas Constant\n",
    "R['Ar'] = Rbar/M['Ar']\n",
    "R['He'] = Rbar/M['He']"
   ]
  },
  {
   "cell_type": "code",
   "execution_count": 4,
   "metadata": {},
   "outputs": [
    {
     "output_type": "display_data",
     "data": {
      "text/plain": "<IPython.core.display.HTML object>",
      "text/html": "<table border=\"1\" class=\"dataframe\">\n  <thead>\n    <tr>\n      <th></th>\n      <th>T</th>\n      <th>p</th>\n      <th>m</th>\n      <th>M</th>\n      <th>N</th>\n      <th>cv</th>\n      <th>R</th>\n    </tr>\n    <tr>\n      <th>unit</th>\n      <th>°R</th>\n      <th>psi</th>\n      <th>lb</th>\n      <th>lb/lbmol</th>\n      <th>lbmol</th>\n      <th>Btu/lb/°R</th>\n      <th>Btu/lb/°R</th>\n    </tr>\n  </thead>\n  <tbody>\n    <tr>\n      <th>A</th>\n      <td>559.67</td>\n      <td>20.0</td>\n      <td>-</td>\n      <td>-</td>\n      <td>-</td>\n      <td>-</td>\n      <td>-</td>\n    </tr>\n    <tr>\n      <th>Ar</th>\n      <td>-</td>\n      <td>-</td>\n      <td>199.74</td>\n      <td>39.948</td>\n      <td>5.0</td>\n      <td>0.074567</td>\n      <td>0.049715</td>\n    </tr>\n    <tr>\n      <th>B</th>\n      <td>659.67</td>\n      <td>30.0</td>\n      <td>-</td>\n      <td>-</td>\n      <td>-</td>\n      <td>-</td>\n      <td>-</td>\n    </tr>\n    <tr>\n      <th>He</th>\n      <td>-</td>\n      <td>-</td>\n      <td>40.026</td>\n      <td>4.0026</td>\n      <td>10.0</td>\n      <td>0.744219</td>\n      <td>0.496177</td>\n    </tr>\n  </tbody>\n</table>"
     },
     "metadata": {}
    }
   ],
   "source": [
    "states.display()"
   ]
  },
  {
   "cell_type": "markdown",
   "metadata": {},
   "source": [
    "### First Law"
   ]
  },
  {
   "cell_type": "code",
   "execution_count": 5,
   "metadata": {},
   "outputs": [
    {
     "output_type": "display_data",
     "data": {
      "text/plain": "<IPython.core.display.Latex object>",
      "text/latex": "\\begin{aligned}\n  {T}_{ 2 } &=  \\frac{   {m}_{ Ar }  \\cdot  {c_{v}}_{ Ar }   \\cdot  {T}_{ A }  +   {m}_{ He }  \\cdot  {c_{v}}_{ He }   \\cdot  {T}_{ B }  }{  {m}_{ Ar }  \\cdot  {c_{v}}_{ Ar }  +  {m}_{ He }  \\cdot  {c_{v}}_{ He }  } \\\\\n    &= \\frac{   199.74\\ \\mathrm{lb}  \\cdot  0.074567\\ \\frac{\\mathrm{Btu}}{\\left(\\mathrm{lb} \\cdot \\mathrm{°R}\\right)}   \\cdot  559.67\\ \\mathrm{°R}  +   40.026\\ \\mathrm{lb}  \\cdot  0.74422\\ \\frac{\\mathrm{Btu}}{\\left(\\mathrm{lb} \\cdot \\mathrm{°R}\\right)}   \\cdot  659.67\\ \\mathrm{°R}  }{  199.74\\ \\mathrm{lb}  \\cdot  0.074567\\ \\frac{\\mathrm{Btu}}{\\left(\\mathrm{lb} \\cdot \\mathrm{°R}\\right)}  +  40.026\\ \\mathrm{lb}  \\cdot  0.74422\\ \\frac{\\mathrm{Btu}}{\\left(\\mathrm{lb} \\cdot \\mathrm{°R}\\right)}  }\\\\\n    &= 626.34\\ \\mathrm{°R}\n\\end{aligned}\n"
     },
     "metadata": {}
    }
   ],
   "source": [
    "%%showcalc\n",
    "T[2] = (m['Ar']*c_v['Ar']*T['A'] + m['He']*c_v['He']*T['B'])/(m['Ar']*c_v['Ar']+m['He']*c_v['He'])"
   ]
  },
  {
   "cell_type": "markdown",
   "metadata": {},
   "source": [
    "### Final Pressure - Ideal Gas Law"
   ]
  },
  {
   "cell_type": "code",
   "execution_count": 6,
   "metadata": {},
   "outputs": [
    {
     "output_type": "display_data",
     "data": {
      "text/plain": "<IPython.core.display.Markdown object>",
      "text/markdown": " Volumes for each compartment"
     },
     "metadata": {}
    },
    {
     "output_type": "display_data",
     "data": {
      "text/plain": "<IPython.core.display.Latex object>",
      "text/latex": "\\begin{aligned}\n  {V}_{ A } &=  \\frac{   {\\mathtt{\\text{<function,N,at,0x7f787353cca0>}}}_{ Ar }  \\cdot  \\overline{R}   \\cdot  {T}_{ A }  }{ {p}_{ A } } \\\\\n    &= \\frac{   5\\ \\mathrm{lbmol}  \\cdot  1.986\\ \\frac{\\mathrm{Btu}}{\\left(\\mathrm{lbmol} \\cdot \\mathrm{°R}\\right)}   \\cdot  559.67\\ \\mathrm{°R}  }{ 20\\ \\mathrm{psi} }\\\\\n    &= 1501.6\\ \\mathrm{ft}^{3}\n\\end{aligned}\n"
     },
     "metadata": {}
    },
    {
     "output_type": "display_data",
     "data": {
      "text/plain": "<IPython.core.display.Latex object>",
      "text/latex": "\\begin{aligned}\n  {V}_{ B } &=  \\frac{   {\\mathtt{\\text{<function,N,at,0x7f787353cca0>}}}_{ He }  \\cdot  \\overline{R}   \\cdot  {T}_{ B }  }{ {p}_{ B } } \\\\\n    &= \\frac{   10\\ \\mathrm{lbmol}  \\cdot  1.986\\ \\frac{\\mathrm{Btu}}{\\left(\\mathrm{lbmol} \\cdot \\mathrm{°R}\\right)}   \\cdot  659.67\\ \\mathrm{°R}  }{ 30\\ \\mathrm{psi} }\\\\\n    &= 2359.9\\ \\mathrm{ft}^{3}\n\\end{aligned}\n"
     },
     "metadata": {}
    },
    {
     "output_type": "display_data",
     "data": {
      "text/plain": "<IPython.core.display.Markdown object>",
      "text/markdown": " Total volume"
     },
     "metadata": {}
    },
    {
     "output_type": "display_data",
     "data": {
      "text/plain": "<IPython.core.display.Latex object>",
      "text/latex": "\\begin{aligned}\n  {V}_{ 2 } &=  {V}_{ A } + {V}_{ B } \\\\\n    &= 1501.6\\ \\mathrm{ft}^{3} + 2359.9\\ \\mathrm{ft}^{3}\\\\\n    &= 3861.5\\ \\mathrm{ft}^{3}\n\\end{aligned}\n"
     },
     "metadata": {}
    },
    {
     "output_type": "display_data",
     "data": {
      "text/plain": "<IPython.core.display.Markdown object>",
      "text/markdown": " Final Pressure"
     },
     "metadata": {}
    },
    {
     "output_type": "display_data",
     "data": {
      "text/plain": "<IPython.core.display.Latex object>",
      "text/latex": "\\begin{aligned}\n  {\\mathtt{\\text{<function,N,at,0x7f787353cca0>}}}_{ mix } &=  {\\mathtt{\\text{<function,N,at,0x7f787353cca0>}}}_{ Ar } + {\\mathtt{\\text{<function,N,at,0x7f787353cca0>}}}_{ He } \\\\\n    &= 5\\ \\mathrm{lbmol} + 10\\ \\mathrm{lbmol}\\\\\n    &= 15\\ \\mathrm{lbmol}\n\\end{aligned}\n"
     },
     "metadata": {}
    },
    {
     "output_type": "display_data",
     "data": {
      "text/plain": "<IPython.core.display.Latex object>",
      "text/latex": "\\begin{aligned}\n  {p}_{ 2 } &=  \\frac{   {\\mathtt{\\text{<function,N,at,0x7f787353cca0>}}}_{ mix }  \\cdot  \\overline{R}   \\cdot  {T}_{ 2 }  }{ {V}_{ 2 } } \\\\\n    &= \\frac{   15\\ \\mathrm{lbmol}  \\cdot  1.986\\ \\frac{\\mathrm{Btu}}{\\left(\\mathrm{lbmol} \\cdot \\mathrm{°R}\\right)}   \\cdot  626.34\\ \\mathrm{°R}  }{ 3861.5\\ \\mathrm{ft}^{3} }\\\\\n    &= 26.111\\ \\mathrm{psi}\n\\end{aligned}\n"
     },
     "metadata": {}
    }
   ],
   "source": [
    "%%showcalc\n",
    "# Volumes for each compartment\n",
    "V['A'] = (N['Ar']*Rbar*T['A'])/p['A']\n",
    "V['B'] = (N['He']*Rbar*T['B'])/p['B']\n",
    "\n",
    "# Total volume\n",
    "V[2] = V['A'] + V['B']\n",
    "\n",
    "# Final Pressure\n",
    "N['mix'] = N['Ar'] + N['He']\n",
    "p['2'] = N['mix']*Rbar*T['2']/(V[2])"
   ]
  },
  {
   "cell_type": "markdown",
   "metadata": {},
   "source": [
    "### Entropy Generation"
   ]
  },
  {
   "cell_type": "code",
   "execution_count": 7,
   "metadata": {},
   "outputs": [
    {
     "output_type": "display_data",
     "data": {
      "text/plain": "<IPython.core.display.Markdown object>",
      "text/markdown": " 2nd Law"
     },
     "metadata": {}
    },
    {
     "output_type": "display_data",
     "data": {
      "text/plain": "<IPython.core.display.Latex object>",
      "text/latex": "\\begin{aligned}\n  S_{gen} &=   {m}_{ Ar }  \\cdot  \\left(  {c_{v}}_{ Ar }  \\cdot  \\mathrm{ log }\\left( \\frac{ {T}_{ 2 } }{ {T}_{ A } } \\right)  +  {R}_{ Ar }  \\cdot  \\mathrm{ log }\\left( \\frac{ {V}_{ 2 } }{ {V}_{ A } } \\right)  \\right)  +  {m}_{ He }  \\cdot  \\left(  {c_{v}}_{ He }  \\cdot  \\mathrm{ log }\\left( \\frac{ {T}_{ 2 } }{ {T}_{ B } } \\right)  +  {R}_{ He }  \\cdot  \\mathrm{ log }\\left( \\frac{ {V}_{ 2 } }{ {V}_{ B } } \\right)  \\right)  \\\\\n    &=  199.74\\ \\mathrm{lb}  \\cdot  \\left(  0.074567\\ \\frac{\\mathrm{Btu}}{\\left(\\mathrm{lb} \\cdot \\mathrm{°R}\\right)}  \\cdot  \\mathrm{ log }\\left( \\frac{ 626.34\\ \\mathrm{°R} }{ 559.67\\ \\mathrm{°R} } \\right)  +  0.049715\\ \\frac{\\mathrm{Btu}}{\\left(\\mathrm{lb} \\cdot \\mathrm{°R}\\right)}  \\cdot  \\mathrm{ log }\\left( \\frac{ 3861.5\\ \\mathrm{ft}^{3} }{ 1501.6\\ \\mathrm{ft}^{3} } \\right)  \\right)  +  40.026\\ \\mathrm{lb}  \\cdot  \\left(  0.74422\\ \\frac{\\mathrm{Btu}}{\\left(\\mathrm{lb} \\cdot \\mathrm{°R}\\right)}  \\cdot  \\mathrm{ log }\\left( \\frac{ 626.34\\ \\mathrm{°R} }{ 659.67\\ \\mathrm{°R} } \\right)  +  0.49618\\ \\frac{\\mathrm{Btu}}{\\left(\\mathrm{lb} \\cdot \\mathrm{°R}\\right)}  \\cdot  \\mathrm{ log }\\left( \\frac{ 3861.5\\ \\mathrm{ft}^{3} }{ 2359.9\\ \\mathrm{ft}^{3} } \\right)  \\right) \\\\\n    &= 19.291\\ \\frac{\\mathrm{Btu}}{\\mathrm{°R}}\n\\end{aligned}\n"
     },
     "metadata": {}
    }
   ],
   "source": [
    "%%showcalc\n",
    "# 2nd Law\n",
    "S_gen = m['Ar']*( c_v['Ar']*log(T[2]/T['A']) + R['Ar']*log(V['2']/V['A']) ) + m['He']*( c_v['He']*log(T[2]/T['B']) + R['He']*log(V[2]/V['B']) )"
   ]
  }
 ],
 "metadata": {
  "kernelspec": {
   "display_name": "Python 3",
   "language": "python",
   "name": "python3"
  }
 },
 "nbformat": 4,
 "nbformat_minor": 4
}