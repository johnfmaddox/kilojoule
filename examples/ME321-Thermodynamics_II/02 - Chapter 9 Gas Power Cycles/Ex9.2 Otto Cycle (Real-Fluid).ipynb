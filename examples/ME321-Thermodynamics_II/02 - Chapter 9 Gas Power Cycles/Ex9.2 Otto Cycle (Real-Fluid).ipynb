{
 "cells": [
  {
   "cell_type": "markdown",
   "metadata": {},
   "source": [
    "# Example 9.2: Otto Cycle \n",
    "\n",
    "*John F. Maddox, Ph.D., P.E.<br>\n",
    "University of Kentucky - Paducah Campus<br>\n",
    "ME 321: Engineering Thermodynamics II<br>*"
   ]
  },
  {
   "cell_type": "markdown",
   "metadata": {},
   "source": [
    "## Problem Statement\n",
    "An Otto cycle with compression ratio of $8$ starts its compression stroke from $p_1=1\\ \\text{bar}$, $T_1=300\\ \\text{K}$.  The maximum temperature after combustion is $1200\\ \\text{K}$.  \n",
    "Determine:\n",
    "* (a) $p$-$v$ diagram\n",
    "* (b) $T$-$s$ diagram\n",
    "* (c) $T$,$p$ at each state\n",
    "* (d) $q_{in}$\n",
    "* (e) $w_{net}$\n",
    "* (f) $\\eta_{th}$"
   ]
  },
  {
   "cell_type": "markdown",
   "metadata": {},
   "source": [
    "## Solution\n",
    "\n",
    "__[Video Explanation](https://uky.yuja.com/V/Video?v=3074244&node=10465167&a=685460354&autoplay=1)__"
   ]
  },
  {
   "cell_type": "markdown",
   "metadata": {},
   "source": [
    "### Python Initialization\n",
    "We'll start by importing the libraries we will use for our analysis and initializing dictionaries to hold the properties we will be usings."
   ]
  },
  {
   "cell_type": "code",
   "execution_count": 1,
   "metadata": {
    "collapsed": false,
    "jupyter": {
     "outputs_hidden": false
    }
   },
   "outputs": [],
   "source": [
    "from kilojoule.templates.kSI_K import *\n",
    "\n",
    "air = realfluid.Properties('Air', unit_system='SI_K')"
   ]
  },
  {
   "cell_type": "markdown",
   "metadata": {},
   "source": [
    "### Given Parameters\n",
    "We now define variables to hold our known values."
   ]
  },
  {
   "cell_type": "code",
   "execution_count": 2,
   "metadata": {
    "collapsed": false,
    "jupyter": {
     "outputs_hidden": false
    }
   },
   "outputs": [
    {
     "data": {
      "text/latex": [
       "\\begin{aligned}\n",
       "  T_{1} &=  300\\ \\mathrm{K} \n",
       "\\end{aligned}\n"
      ],
      "text/plain": [
       "<IPython.core.display.Latex object>"
      ]
     },
     "metadata": {},
     "output_type": "display_data"
    },
    {
     "data": {
      "text/latex": [
       "\\begin{aligned}\n",
       "  p_{1} &=  1\\ \\mathrm{bar}  = 100.0\\ \\mathrm{kPa} \n",
       "\\end{aligned}\n"
      ],
      "text/plain": [
       "<IPython.core.display.Latex object>"
      ]
     },
     "metadata": {},
     "output_type": "display_data"
    },
    {
     "data": {
      "text/latex": [
       "\\begin{aligned}\n",
       "  T_{max} &=  1200\\ \\mathrm{K}  = { 1200\\ \\mathrm{K} } \n",
       "\\end{aligned}\n"
      ],
      "text/plain": [
       "<IPython.core.display.Latex object>"
      ]
     },
     "metadata": {},
     "output_type": "display_data"
    },
    {
     "data": {
      "text/latex": [
       "\\begin{aligned}\n",
       "  r &=  8\\  = { 8\\ } \n",
       "\\end{aligned}\n"
      ],
      "text/plain": [
       "<IPython.core.display.Latex object>"
      ]
     },
     "metadata": {},
     "output_type": "display_data"
    }
   ],
   "source": [
    "T[1] = Quantity(300,'K')\n",
    "p[1] = Quantity(1,'bar')\n",
    "T_max = Quantity(1200,'K')\n",
    "r = Quantity(8,'')\n",
    "\n",
    "Calculations();"
   ]
  },
  {
   "cell_type": "markdown",
   "metadata": {},
   "source": [
    "### Assumptions\n",
    "  - Treat air as a real fluid\n",
    "  - Variable Specific Heat"
   ]
  },
  {
   "cell_type": "markdown",
   "metadata": {},
   "source": [
    "#### (c) $T$,$p$ at each state "
   ]
  },
  {
   "cell_type": "code",
   "execution_count": 3,
   "metadata": {
    "collapsed": false,
    "jupyter": {
     "outputs_hidden": false
    }
   },
   "outputs": [
    {
     "data": {
      "text/markdown": [
       " Isentropic Compression $1\\to2$"
      ],
      "text/plain": [
       "<IPython.core.display.Markdown object>"
      ]
     },
     "metadata": {},
     "output_type": "display_data"
    },
    {
     "data": {
      "text/latex": [
       "\\begin{aligned}\n",
       "  s_{1} &=  \\mathrm{ \\underset{air}{s} }\\left( \\mathrm{ T } = T_{1}, \\mathrm{ p } = p_{1} \\right) \\\\\n",
       "    &= \\mathrm{ \\underset{air}{s} }\\left( \\mathrm{ T } = 300\\ \\mathrm{K}, \\mathrm{ p } = 100.0\\ \\mathrm{kPa} \\right)\\\\\n",
       "    &= 3.8905\\ \\frac{\\mathrm{kJ}}{\\left(\\mathrm{K} \\cdot \\mathrm{kg}\\right)}\n",
       "\\end{aligned}\n"
      ],
      "text/plain": [
       "<IPython.core.display.Latex object>"
      ]
     },
     "metadata": {},
     "output_type": "display_data"
    },
    {
     "data": {
      "text/latex": [
       "\\begin{aligned}\n",
       "  v_{1} &=  \\mathrm{ \\underset{air}{v} }\\left( \\mathrm{ T } = T_{1}, \\mathrm{ p } = p_{1} \\right) \\\\\n",
       "    &= \\mathrm{ \\underset{air}{v} }\\left( \\mathrm{ T } = 300\\ \\mathrm{K}, \\mathrm{ p } = 100.0\\ \\mathrm{kPa} \\right)\\\\\n",
       "    &= 0.86088\\ \\frac{\\mathrm{m}^{3}}{\\mathrm{kg}}\n",
       "\\end{aligned}\n"
      ],
      "text/plain": [
       "<IPython.core.display.Latex object>"
      ]
     },
     "metadata": {},
     "output_type": "display_data"
    },
    {
     "data": {
      "text/latex": [
       "\\begin{aligned}\n",
       "  v_{2} &=  \\frac{ v_{1} }{ r } \\\\\n",
       "    &= \\frac{ 0.86088\\ \\frac{\\mathrm{m}^{3}}{\\mathrm{kg}} }{ { 8\\ } }\\\\\n",
       "    &= 0.10761\\ \\frac{\\mathrm{m}^{3}}{\\mathrm{kg}}\n",
       "\\end{aligned}\n"
      ],
      "text/plain": [
       "<IPython.core.display.Latex object>"
      ]
     },
     "metadata": {},
     "output_type": "display_data"
    },
    {
     "data": {
      "text/latex": [
       "\\begin{aligned}\n",
       "  s_{2} &=  s_{1}  = 3.8905\\ \\frac{\\mathrm{kJ}}{\\left(\\mathrm{K} \\cdot \\mathrm{kg}\\right)} \n",
       "\\end{aligned}\n"
      ],
      "text/plain": [
       "<IPython.core.display.Latex object>"
      ]
     },
     "metadata": {},
     "output_type": "display_data"
    },
    {
     "data": {
      "text/latex": [
       "\\begin{aligned}\n",
       "  T_{2} &=  \\mathrm{ \\underset{air}{T} }\\left( \\mathrm{ s } = s_{2}, \\mathrm{ v } = v_{2} \\right) \\\\\n",
       "    &= \\mathrm{ \\underset{air}{T} }\\left( \\mathrm{ s } = 3.8905\\ \\frac{\\mathrm{kJ}}{\\left(\\mathrm{K} \\cdot \\mathrm{kg}\\right)}, \\mathrm{ v } = 0.10761\\ \\frac{\\mathrm{m}^{3}}{\\mathrm{kg}} \\right)\\\\\n",
       "    &= 675.53\\ \\mathrm{K}\n",
       "\\end{aligned}\n"
      ],
      "text/plain": [
       "<IPython.core.display.Latex object>"
      ]
     },
     "metadata": {},
     "output_type": "display_data"
    },
    {
     "data": {
      "text/latex": [
       "\\begin{aligned}\n",
       "  p_{2} &=  \\mathrm{ \\underset{air}{p} }\\left( \\mathrm{ s } = s_{2}, \\mathrm{ v } = v_{2} \\right) \\\\\n",
       "    &= \\mathrm{ \\underset{air}{p} }\\left( \\mathrm{ s } = 3.8905\\ \\frac{\\mathrm{kJ}}{\\left(\\mathrm{K} \\cdot \\mathrm{kg}\\right)}, \\mathrm{ v } = 0.10761\\ \\frac{\\mathrm{m}^{3}}{\\mathrm{kg}} \\right)\\\\\n",
       "    &= 1814.1\\ \\mathrm{kPa}\n",
       "\\end{aligned}\n"
      ],
      "text/plain": [
       "<IPython.core.display.Latex object>"
      ]
     },
     "metadata": {},
     "output_type": "display_data"
    },
    {
     "data": {
      "text/markdown": [
       " Isochoric Heat Addition $2\\to3$"
      ],
      "text/plain": [
       "<IPython.core.display.Markdown object>"
      ]
     },
     "metadata": {},
     "output_type": "display_data"
    },
    {
     "data": {
      "text/latex": [
       "\\begin{aligned}\n",
       "  v_{3} &=  v_{2}  = 0.10761\\ \\frac{\\mathrm{m}^{3}}{\\mathrm{kg}} \n",
       "\\end{aligned}\n"
      ],
      "text/plain": [
       "<IPython.core.display.Latex object>"
      ]
     },
     "metadata": {},
     "output_type": "display_data"
    },
    {
     "data": {
      "text/latex": [
       "\\begin{aligned}\n",
       "  T_{3} &=  T_{max} \\\\\n",
       "    &= { 1200\\ \\mathrm{K} }\\\\\n",
       "    &= 1200\\ \\mathrm{K}\n",
       "\\end{aligned}\n"
      ],
      "text/plain": [
       "<IPython.core.display.Latex object>"
      ]
     },
     "metadata": {},
     "output_type": "display_data"
    },
    {
     "data": {
      "text/latex": [
       "\\begin{aligned}\n",
       "  p_{3} &=  \\mathrm{ \\underset{air}{p} }\\left( \\mathrm{ T } = T_{3}, \\mathrm{ v } = v_{3} \\right) \\\\\n",
       "    &= \\mathrm{ \\underset{air}{p} }\\left( \\mathrm{ T } = 1200\\ \\mathrm{K}, \\mathrm{ v } = 0.10761\\ \\frac{\\mathrm{m}^{3}}{\\mathrm{kg}} \\right)\\\\\n",
       "    &= 3229.4\\ \\mathrm{kPa}\n",
       "\\end{aligned}\n"
      ],
      "text/plain": [
       "<IPython.core.display.Latex object>"
      ]
     },
     "metadata": {},
     "output_type": "display_data"
    },
    {
     "data": {
      "text/markdown": [
       " Isentropic Expansion $3\\to4$"
      ],
      "text/plain": [
       "<IPython.core.display.Markdown object>"
      ]
     },
     "metadata": {},
     "output_type": "display_data"
    },
    {
     "data": {
      "text/latex": [
       "\\begin{aligned}\n",
       "  s_{3} &=  \\mathrm{ \\underset{air}{s} }\\left( \\mathrm{ T } = T_{3}, \\mathrm{ v } = v_{3} \\right) \\\\\n",
       "    &= \\mathrm{ \\underset{air}{s} }\\left( \\mathrm{ T } = 1200\\ \\mathrm{K}, \\mathrm{ v } = 0.10761\\ \\frac{\\mathrm{m}^{3}}{\\mathrm{kg}} \\right)\\\\\n",
       "    &= 4.3702\\ \\frac{\\mathrm{kJ}}{\\left(\\mathrm{K} \\cdot \\mathrm{kg}\\right)}\n",
       "\\end{aligned}\n"
      ],
      "text/plain": [
       "<IPython.core.display.Latex object>"
      ]
     },
     "metadata": {},
     "output_type": "display_data"
    },
    {
     "data": {
      "text/latex": [
       "\\begin{aligned}\n",
       "  s_{4} &=  s_{3}  = 4.3702\\ \\frac{\\mathrm{kJ}}{\\left(\\mathrm{K} \\cdot \\mathrm{kg}\\right)} \n",
       "\\end{aligned}\n"
      ],
      "text/plain": [
       "<IPython.core.display.Latex object>"
      ]
     },
     "metadata": {},
     "output_type": "display_data"
    },
    {
     "data": {
      "text/latex": [
       "\\begin{aligned}\n",
       "  v_{4} &=   r  \\cdot  v_{3}  \\\\\n",
       "    &=  { 8\\ }  \\cdot  0.10761\\ \\frac{\\mathrm{m}^{3}}{\\mathrm{kg}} \\\\\n",
       "    &= 0.86088\\ \\frac{\\mathrm{m}^{3}}{\\mathrm{kg}}\n",
       "\\end{aligned}\n"
      ],
      "text/plain": [
       "<IPython.core.display.Latex object>"
      ]
     },
     "metadata": {},
     "output_type": "display_data"
    },
    {
     "data": {
      "text/latex": [
       "\\begin{aligned}\n",
       "  T_{4} &=  \\mathrm{ \\underset{air}{T} }\\left( \\mathrm{ v } = v_{4}, \\mathrm{ s } = s_{4} \\right) \\\\\n",
       "    &= \\mathrm{ \\underset{air}{T} }\\left( \\mathrm{ v } = 0.86088\\ \\frac{\\mathrm{m}^{3}}{\\mathrm{kg}}, \\mathrm{ s } = 4.3702\\ \\frac{\\mathrm{kJ}}{\\left(\\mathrm{K} \\cdot \\mathrm{kg}\\right)} \\right)\\\\\n",
       "    &= 577.77\\ \\mathrm{K}\n",
       "\\end{aligned}\n"
      ],
      "text/plain": [
       "<IPython.core.display.Latex object>"
      ]
     },
     "metadata": {},
     "output_type": "display_data"
    },
    {
     "data": {
      "text/latex": [
       "\\begin{aligned}\n",
       "  p_{4} &=  \\mathrm{ \\underset{air}{p} }\\left( \\mathrm{ v } = v_{4}, \\mathrm{ s } = s_{4} \\right) \\\\\n",
       "    &= \\mathrm{ \\underset{air}{p} }\\left( \\mathrm{ v } = 0.86088\\ \\frac{\\mathrm{m}^{3}}{\\mathrm{kg}}, \\mathrm{ s } = 4.3702\\ \\frac{\\mathrm{kJ}}{\\left(\\mathrm{K} \\cdot \\mathrm{kg}\\right)} \\right)\\\\\n",
       "    &= 192.78\\ \\mathrm{kPa}\n",
       "\\end{aligned}\n"
      ],
      "text/plain": [
       "<IPython.core.display.Latex object>"
      ]
     },
     "metadata": {},
     "output_type": "display_data"
    },
    {
     "data": {
      "text/html": [
       "<table border=\"1\" class=\"dataframe\">\n",
       "  <thead>\n",
       "    <tr>\n",
       "      <th></th>\n",
       "      <th>T</th>\n",
       "      <th>p</th>\n",
       "      <th>v</th>\n",
       "      <th>s</th>\n",
       "    </tr>\n",
       "    <tr>\n",
       "      <th>unit</th>\n",
       "      <th>K</th>\n",
       "      <th>kPa</th>\n",
       "      <th>m³/kg</th>\n",
       "      <th>kJ/K/kg</th>\n",
       "    </tr>\n",
       "  </thead>\n",
       "  <tbody>\n",
       "    <tr>\n",
       "      <th>1</th>\n",
       "      <td>300.000000</td>\n",
       "      <td>100.000000</td>\n",
       "      <td>0.860882</td>\n",
       "      <td>3.890501</td>\n",
       "    </tr>\n",
       "    <tr>\n",
       "      <th>2</th>\n",
       "      <td>675.533302</td>\n",
       "      <td>1814.106993</td>\n",
       "      <td>0.107610</td>\n",
       "      <td>3.890501</td>\n",
       "    </tr>\n",
       "    <tr>\n",
       "      <th>3</th>\n",
       "      <td>1200.000000</td>\n",
       "      <td>3229.436176</td>\n",
       "      <td>0.107610</td>\n",
       "      <td>4.370191</td>\n",
       "    </tr>\n",
       "    <tr>\n",
       "      <th>4</th>\n",
       "      <td>577.773976</td>\n",
       "      <td>192.784764</td>\n",
       "      <td>0.860882</td>\n",
       "      <td>4.370191</td>\n",
       "    </tr>\n",
       "  </tbody>\n",
       "</table>"
      ],
      "text/plain": [
       "<IPython.core.display.HTML object>"
      ]
     },
     "metadata": {},
     "output_type": "display_data"
    }
   ],
   "source": [
    "# Isentropic Compression $1\\to2$\n",
    "s[1] = air.s(T=T[1],p=p[1])\n",
    "v[1] = air.v(T=T[1],p=p[1])\n",
    "v[2] = v[1]/r\n",
    "s[2] = s[1]\n",
    "T[2] = air.T(s=s[2],v=v[2])\n",
    "p[2] = air.p(s=s[2],v=v[2])\n",
    "\n",
    "# Isochoric Heat Addition $2\\to3$\n",
    "v[3] = v[2]\n",
    "T[3] = T_max\n",
    "p[3] = air.p(T=T[3],v=v[3])\n",
    "\n",
    "# Isentropic Expansion $3\\to4$\n",
    "s[3] = air.s(T=T[3],v=v[3])\n",
    "s[4] = s[3]\n",
    "v[4] = r*v[3]\n",
    "T[4] = air.T(v=v[4],s=s[4])\n",
    "p[4] = air.p(v=v[4],s=s[4])\n",
    "\n",
    "\n",
    "Calculations();\n",
    "states.display()"
   ]
  },
  {
   "cell_type": "markdown",
   "metadata": {},
   "source": [
    "#### (a) $p$-$v$ diagram "
   ]
  },
  {
   "cell_type": "code",
   "execution_count": 4,
   "metadata": {
    "collapsed": false,
    "jupyter": {
     "outputs_hidden": false
    }
   },
   "outputs": [
    {
     "data": {
      "image/png": "[encoded data removed]",
      "text/plain": [
       "<Figure size 1200x800 with 1 Axes>"
      ]
     },
     "metadata": {
      "needs_background": "light"
     },
     "output_type": "display_data"
    }
   ],
   "source": [
    "pv = air.pv_diagram()\n",
    "for i in [1,2,3,4]:\n",
    "    pv.plot_state(states[i],label_loc='east')\n",
    "pv.plot_process(states[1],states[2], path='isentropic',label='isentropic',pos=.8)\n",
    "pv.plot_process(states[2],states[3], path='isochoric')\n",
    "pv.plot_process(states[3],states[4], path='isentropic',label='isentropic')\n",
    "pv.plot_process(states[4],states[1], path='isochoric');\n",
    "\n",
    "pv.plot_isotherm(T[3])\n",
    "pv.plot_isotherm(T[1],pos=.1);"
   ]
  },
  {
   "cell_type": "markdown",
   "metadata": {},
   "source": [
    "#### (b) $T$-$s$ diagram "
   ]
  },
  {
   "cell_type": "code",
   "execution_count": 5,
   "metadata": {
    "collapsed": false,
    "jupyter": {
     "outputs_hidden": false
    }
   },
   "outputs": [
    {
     "data": {
      "image/png": "[encoded data removed]",
      "text/plain": [
       "<Figure size 1200x800 with 1 Axes>"
      ]
     },
     "metadata": {
      "needs_background": "light"
     },
     "output_type": "display_data"
    }
   ],
   "source": [
    "Ts = air.Ts_diagram()\n",
    "for i in [1,2,3,4]:\n",
    "    Ts.plot_state(states[i], label_loc='north east')\n",
    "Ts.plot_process(states[1],states[2], path='isentropic')\n",
    "Ts.plot_process(states[2],states[3], path='isochoric',label='isochoric')\n",
    "Ts.plot_process(states[3],states[4], path='isentropic')\n",
    "Ts.plot_process(states[4],states[1], path='isochoric',label='isochoric');\n",
    "\n",
    "Ts.plot_isobar(p[3],pos=.1)\n",
    "Ts.plot_isobar(p[1]);"
   ]
  },
  {
   "cell_type": "markdown",
   "metadata": {},
   "source": [
    "#### (d) $q_{in}$"
   ]
  },
  {
   "cell_type": "code",
   "execution_count": 6,
   "metadata": {
    "collapsed": false,
    "jupyter": {
     "outputs_hidden": false
    }
   },
   "outputs": [
    {
     "data": {
      "text/markdown": [
       " Heat transfer only takes place from $2\\to3$ and from $4\\to1$"
      ],
      "text/plain": [
       "<IPython.core.display.Markdown object>"
      ]
     },
     "metadata": {},
     "output_type": "display_data"
    },
    {
     "data": {
      "text/latex": [
       "\\begin{aligned}\n",
       "  u_{2} &=  \\mathrm{ \\underset{air}{u} }\\left( \\mathrm{ T } = T_{2}, \\mathrm{ p } = p_{2} \\right) \\\\\n",
       "    &= \\mathrm{ \\underset{air}{u} }\\left( \\mathrm{ T } = 675.53\\ \\mathrm{K}, \\mathrm{ p } = 1814.1\\ \\mathrm{kPa} \\right)\\\\\n",
       "    &= 618.43\\ \\frac{\\mathrm{kJ}}{\\mathrm{kg}}\n",
       "\\end{aligned}\n"
      ],
      "text/plain": [
       "<IPython.core.display.Latex object>"
      ]
     },
     "metadata": {},
     "output_type": "display_data"
    },
    {
     "data": {
      "text/latex": [
       "\\begin{aligned}\n",
       "  u_{3} &=  \\mathrm{ \\underset{air}{u} }\\left( \\mathrm{ T } = T_{3}, \\mathrm{ p } = p_{3} \\right) \\\\\n",
       "    &= \\mathrm{ \\underset{air}{u} }\\left( \\mathrm{ T } = 1200\\ \\mathrm{K}, \\mathrm{ p } = 3229.4\\ \\mathrm{kPa} \\right)\\\\\n",
       "    &= 1059.0\\ \\frac{\\mathrm{kJ}}{\\mathrm{kg}}\n",
       "\\end{aligned}\n"
      ],
      "text/plain": [
       "<IPython.core.display.Latex object>"
      ]
     },
     "metadata": {},
     "output_type": "display_data"
    },
    {
     "data": {
      "text/latex": [
       "\\begin{aligned}\n",
       "  q_{2\\to{}3} &=   u_{3} - u_{2}  \\\\\n",
       "    &=  1059.0\\ \\frac{\\mathrm{kJ}}{\\mathrm{kg}} - 618.43\\ \\frac{\\mathrm{kJ}}{\\mathrm{kg}} \\\\\n",
       "    &= { 440.53\\ \\frac{\\mathrm{kJ}}{\\mathrm{kg}} }\n",
       "\\end{aligned}\n"
      ],
      "text/plain": [
       "<IPython.core.display.Latex object>"
      ]
     },
     "metadata": {},
     "output_type": "display_data"
    },
    {
     "data": {
      "text/latex": [
       "\\begin{aligned}\n",
       "  q_{in} &=  q_{2\\to{}3}  = { 440.53\\ \\frac{\\mathrm{kJ}}{\\mathrm{kg}} } \n",
       "\\end{aligned}\n"
      ],
      "text/plain": [
       "<IPython.core.display.Latex object>"
      ]
     },
     "metadata": {},
     "output_type": "display_data"
    }
   ],
   "source": [
    "# Heat transfer only takes place from $2\\to3$ and from $4\\to1$\n",
    "u[2] = air.u(T=T[2],p=p[2])\n",
    "u[3] = air.u(T=T[3],p=p[3])\n",
    "\n",
    "q_2_to_3 = u[3]-u[2]\n",
    "q_in = q_2_to_3\n",
    "\n",
    "Calculations();"
   ]
  },
  {
   "cell_type": "markdown",
   "metadata": {},
   "source": [
    "#### (e) $w_{net}$"
   ]
  },
  {
   "cell_type": "code",
   "execution_count": 7,
   "metadata": {
    "collapsed": false,
    "jupyter": {
     "outputs_hidden": false
    }
   },
   "outputs": [
    {
     "data": {
      "text/latex": [
       "\\begin{aligned}\n",
       "  u_{1} &=  \\mathrm{ \\underset{air}{u} }\\left( \\mathrm{ T } = T_{1}, \\mathrm{ p } = p_{1} \\right) \\\\\n",
       "    &= \\mathrm{ \\underset{air}{u} }\\left( \\mathrm{ T } = 300\\ \\mathrm{K}, \\mathrm{ p } = 100.0\\ \\mathrm{kPa} \\right)\\\\\n",
       "    &= 340.21\\ \\frac{\\mathrm{kJ}}{\\mathrm{kg}}\n",
       "\\end{aligned}\n"
      ],
      "text/plain": [
       "<IPython.core.display.Latex object>"
      ]
     },
     "metadata": {},
     "output_type": "display_data"
    },
    {
     "data": {
      "text/latex": [
       "\\begin{aligned}\n",
       "  u_{4} &=  \\mathrm{ \\underset{air}{u} }\\left( \\mathrm{ T } = T_{4}, \\mathrm{ p } = p_{4} \\right) \\\\\n",
       "    &= \\mathrm{ \\underset{air}{u} }\\left( \\mathrm{ T } = 577.77\\ \\mathrm{K}, \\mathrm{ p } = 192.78\\ \\mathrm{kPa} \\right)\\\\\n",
       "    &= 544.12\\ \\frac{\\mathrm{kJ}}{\\mathrm{kg}}\n",
       "\\end{aligned}\n"
      ],
      "text/plain": [
       "<IPython.core.display.Latex object>"
      ]
     },
     "metadata": {},
     "output_type": "display_data"
    },
    {
     "data": {
      "text/latex": [
       "\\begin{aligned}\n",
       "  q_{4\\to{}1} &=   u_{4} - u_{1}  \\\\\n",
       "    &=  544.12\\ \\frac{\\mathrm{kJ}}{\\mathrm{kg}} - 340.21\\ \\frac{\\mathrm{kJ}}{\\mathrm{kg}} \\\\\n",
       "    &= { 203.91\\ \\frac{\\mathrm{kJ}}{\\mathrm{kg}} }\n",
       "\\end{aligned}\n"
      ],
      "text/plain": [
       "<IPython.core.display.Latex object>"
      ]
     },
     "metadata": {},
     "output_type": "display_data"
    },
    {
     "data": {
      "text/latex": [
       "\\begin{aligned}\n",
       "  q_{out} &=  q_{4\\to{}1}  = { 203.91\\ \\frac{\\mathrm{kJ}}{\\mathrm{kg}} } \n",
       "\\end{aligned}\n"
      ],
      "text/plain": [
       "<IPython.core.display.Latex object>"
      ]
     },
     "metadata": {},
     "output_type": "display_data"
    },
    {
     "data": {
      "text/latex": [
       "\\begin{aligned}\n",
       "  w_{net} &=   q_{in} - q_{out}  \\\\\n",
       "    &=  { 440.53\\ \\frac{\\mathrm{kJ}}{\\mathrm{kg}} } - { 203.91\\ \\frac{\\mathrm{kJ}}{\\mathrm{kg}} } \\\\\n",
       "    &= { 236.62\\ \\frac{\\mathrm{kJ}}{\\mathrm{kg}} }\n",
       "\\end{aligned}\n"
      ],
      "text/plain": [
       "<IPython.core.display.Latex object>"
      ]
     },
     "metadata": {},
     "output_type": "display_data"
    }
   ],
   "source": [
    "u[1] = air.u(T=T[1],p=p[1])\n",
    "u[4] = air.u(T=T[4],p=p[4])\n",
    "q_4_to_1 = u[4]-u[1]\n",
    "q_out = q_4_to_1\n",
    "\n",
    "w_net = q_in-q_out\n",
    "\n",
    "Calculations();"
   ]
  },
  {
   "cell_type": "markdown",
   "metadata": {},
   "source": [
    "#### (f)  $\\eta_{th}$"
   ]
  },
  {
   "cell_type": "code",
   "execution_count": 8,
   "metadata": {
    "collapsed": false,
    "jupyter": {
     "outputs_hidden": false
    }
   },
   "outputs": [
    {
     "data": {
      "text/markdown": [
       " Thermal efficiency"
      ],
      "text/plain": [
       "<IPython.core.display.Markdown object>"
      ]
     },
     "metadata": {},
     "output_type": "display_data"
    },
    {
     "data": {
      "text/latex": [
       "\\begin{aligned}\n",
       "  \\eta_{th} &=  \\frac{ w_{net} }{ q_{in} } \\\\\n",
       "    &= \\frac{ { 236.62\\ \\frac{\\mathrm{kJ}}{\\mathrm{kg}} } }{ { 440.53\\ \\frac{\\mathrm{kJ}}{\\mathrm{kg}} } }\\\\\n",
       "    &= { 0.53712\\ }\n",
       "\\end{aligned}\n"
      ],
      "text/plain": [
       "<IPython.core.display.Latex object>"
      ]
     },
     "metadata": {},
     "output_type": "display_data"
    }
   ],
   "source": [
    "# Thermal efficiency\n",
    "eta_th = w_net/q_in\n",
    "\n",
    "Calculations();"
   ]
  },
  {
   "cell_type": "code",
   "execution_count": 9,
   "metadata": {
    "collapsed": false,
    "jupyter": {
     "outputs_hidden": false
    }
   },
   "outputs": [
    {
     "data": {
      "text/latex": [
       "\\begin{aligned}{ T_{max} }&={ 1200\\ \\mathrm{K} }&{ \\eta_{th} }&={ 0.53712\\ }&{ q_{2\\to{}3} }&={ 440.53\\ \\frac{\\mathrm{kJ}}{\\mathrm{kg}} }\\\\{ q_{4\\to{}1} }&={ 203.91\\ \\frac{\\mathrm{kJ}}{\\mathrm{kg}} }&{ q_{in} }&={ 440.53\\ \\frac{\\mathrm{kJ}}{\\mathrm{kg}} }&{ q_{out} }&={ 203.91\\ \\frac{\\mathrm{kJ}}{\\mathrm{kg}} }\\\\{ r }&={ 8\\ }&{ w_{net} }&={ 236.62\\ \\frac{\\mathrm{kJ}}{\\mathrm{kg}} }&{  }\\end{aligned}"
      ],
      "text/plain": [
       "<IPython.core.display.Latex object>"
      ]
     },
     "metadata": {},
     "output_type": "display_data"
    },
    {
     "data": {
      "text/html": [
       "<table border=\"1\" class=\"dataframe\">\n",
       "  <thead>\n",
       "    <tr>\n",
       "      <th></th>\n",
       "      <th>T</th>\n",
       "      <th>p</th>\n",
       "      <th>v</th>\n",
       "      <th>u</th>\n",
       "      <th>s</th>\n",
       "    </tr>\n",
       "    <tr>\n",
       "      <th>unit</th>\n",
       "      <th>K</th>\n",
       "      <th>kPa</th>\n",
       "      <th>m³/kg</th>\n",
       "      <th>kJ/kg</th>\n",
       "      <th>kJ/K/kg</th>\n",
       "    </tr>\n",
       "  </thead>\n",
       "  <tbody>\n",
       "    <tr>\n",
       "      <th>1</th>\n",
       "      <td>300.000000</td>\n",
       "      <td>100.000000</td>\n",
       "      <td>0.860882</td>\n",
       "      <td>340.212594</td>\n",
       "      <td>3.890501</td>\n",
       "    </tr>\n",
       "    <tr>\n",
       "      <th>2</th>\n",
       "      <td>675.533302</td>\n",
       "      <td>1814.106993</td>\n",
       "      <td>0.107610</td>\n",
       "      <td>618.429558</td>\n",
       "      <td>3.890501</td>\n",
       "    </tr>\n",
       "    <tr>\n",
       "      <th>3</th>\n",
       "      <td>1200.000000</td>\n",
       "      <td>3229.436176</td>\n",
       "      <td>0.107610</td>\n",
       "      <td>1058.961027</td>\n",
       "      <td>4.370191</td>\n",
       "    </tr>\n",
       "    <tr>\n",
       "      <th>4</th>\n",
       "      <td>577.773976</td>\n",
       "      <td>192.784764</td>\n",
       "      <td>0.860882</td>\n",
       "      <td>544.124530</td>\n",
       "      <td>4.370191</td>\n",
       "    </tr>\n",
       "  </tbody>\n",
       "</table>"
      ],
      "text/plain": [
       "<IPython.core.display.HTML object>"
      ]
     },
     "metadata": {},
     "output_type": "display_data"
    },
    {
     "data": {
      "text/latex": [
       "\\begin{aligned}{ q_{in} }&={ 440.53\\ \\frac{\\mathrm{kJ}}{\\mathrm{kg}} }\\\\{ w_{net} }&={ 236.62\\ \\frac{\\mathrm{kJ}}{\\mathrm{kg}} }\\\\{ \\eta_{th} }&={ 0.53712\\ }\\\\{  }\\end{aligned}"
      ],
      "text/plain": [
       "<IPython.core.display.Latex object>"
      ]
     },
     "metadata": {},
     "output_type": "display_data"
    }
   ],
   "source": [
    "Summary()\n",
    "Summary(['q_in','w_net','eta_th']);"
   ]
  }
 ],
 "metadata": {
  "kernelspec": {
   "display_name": "Python 3",
   "language": "python",
   "name": "python3"
  },
  "language_info": {
   "codemirror_mode": {
    "name": "ipython",
    "version": 3
   },
   "file_extension": ".py",
   "mimetype": "text/x-python",
   "name": "python",
   "nbconvert_exporter": "python",
   "pygments_lexer": "ipython3",
   "version": "3.8.5"
  }
 },
 "nbformat": 4,
 "nbformat_minor": 4
}
