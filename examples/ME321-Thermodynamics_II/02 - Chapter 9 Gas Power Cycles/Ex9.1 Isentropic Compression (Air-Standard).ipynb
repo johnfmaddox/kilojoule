{
 "cells": [
  {
   "cell_type": "markdown",
   "metadata": {},
   "source": [
    "# Example 9.1: Isentropic Compression (Air-Standard)\n",
    "\n",
    "*John F. Maddox, Ph.D., P.E.<br>\n",
    "University of Kentucky - Paducah Campus<br>\n",
    "ME 321: Engineering Thermodynamics II<br>*"
   ]
  },
  {
   "cell_type": "markdown",
   "metadata": {},
   "source": [
    "## Problem Statement\n",
    "Air is compressed isentropically form $T_1=250\\ \\text{K}$, $p_1=1\\ \\text{bar}$ to $T_2=400\\ \\text{K}$\n",
    "* (a) What is the compression ratio\n",
    "* (b) What is the final pressure"
   ]
  },
  {
   "cell_type": "markdown",
   "metadata": {},
   "source": [
    "## Solution\n",
    "\n",
    "__[Video Explanation](https://uky.yuja.com/V/Video?v=3074239&node=10465156&a=1753145453&autoplay=1)__"
   ]
  },
  {
   "cell_type": "markdown",
   "metadata": {},
   "source": [
    "### Python Initialization\n",
    "We'll start by importing the libraries we will use for our analysis and initializing dictionaries to hold the properties we will be usings."
   ]
  },
  {
   "cell_type": "code",
   "execution_count": 1,
   "metadata": {
    "collapsed": false,
    "jupyter": {
     "outputs_hidden": false
    }
   },
   "outputs": [],
   "source": [
    "from kilojoule.templates.kSI_K import *\n",
    "air = idealgas.Properties('Air', unit_system='SI_K')"
   ]
  },
  {
   "cell_type": "markdown",
   "metadata": {},
   "source": [
    "### Given Parameters\n",
    "We now define variables to hold our known values."
   ]
  },
  {
   "cell_type": "code",
   "execution_count": 2,
   "metadata": {
    "collapsed": false,
    "jupyter": {
     "outputs_hidden": false
    }
   },
   "outputs": [
    {
     "data": {
      "text/latex": [
       "\\begin{aligned}\n",
       "  T_{1} &=  250\\ \\mathrm{K} \n",
       "\\end{aligned}\n"
      ],
      "text/plain": [
       "<IPython.core.display.Latex object>"
      ]
     },
     "metadata": {},
     "output_type": "display_data"
    },
    {
     "data": {
      "text/latex": [
       "\\begin{aligned}\n",
       "  p_{1} &=  1\\ \\mathrm{bar}  = 100.0\\ \\mathrm{kPa} \n",
       "\\end{aligned}\n"
      ],
      "text/plain": [
       "<IPython.core.display.Latex object>"
      ]
     },
     "metadata": {},
     "output_type": "display_data"
    },
    {
     "data": {
      "text/latex": [
       "\\begin{aligned}\n",
       "  T_{2} &=  400\\ \\mathrm{K} \n",
       "\\end{aligned}\n"
      ],
      "text/plain": [
       "<IPython.core.display.Latex object>"
      ]
     },
     "metadata": {},
     "output_type": "display_data"
    }
   ],
   "source": [
    "T[1] = Quantity(250,'K')\n",
    "p[1] = Quantity(1,'bar')\n",
    "T[2] = Quantity(400,'K')\n",
    "\n",
    "Calculations();"
   ]
  },
  {
   "cell_type": "markdown",
   "metadata": {},
   "source": [
    "#### Assumptions\n",
    "* Ideal gas\n",
    "* Adiabatic\n",
    "* Variable specific heat\n",
    "* Negligible changes in kinetic and potential energy"
   ]
  },
  {
   "cell_type": "code",
   "execution_count": 3,
   "metadata": {
    "collapsed": false,
    "jupyter": {
     "outputs_hidden": false
    }
   },
   "outputs": [
    {
     "data": {
      "text/markdown": [
       " Ideal gaw"
      ],
      "text/plain": [
       "<IPython.core.display.Markdown object>"
      ]
     },
     "metadata": {},
     "output_type": "display_data"
    },
    {
     "data": {
      "text/latex": [
       "\\begin{aligned}\n",
       "  R &=  \\underset{air}{R}  = { 287.05\\ \\frac{\\mathrm{J}}{\\left(\\mathrm{K} \\cdot \\mathrm{kg}\\right)} } \n",
       "\\end{aligned}\n"
      ],
      "text/plain": [
       "<IPython.core.display.Latex object>"
      ]
     },
     "metadata": {},
     "output_type": "display_data"
    }
   ],
   "source": [
    "# Ideal gaw\n",
    "R = air.R\n",
    "\n",
    "Calculations();"
   ]
  },
  {
   "cell_type": "markdown",
   "metadata": {},
   "source": [
    "#### (a) Compression Ratio"
   ]
  },
  {
   "cell_type": "code",
   "execution_count": 4,
   "metadata": {
    "collapsed": false,
    "jupyter": {
     "outputs_hidden": false
    }
   },
   "outputs": [
    {
     "data": {
      "text/markdown": [
       " Properties at inlet"
      ],
      "text/plain": [
       "<IPython.core.display.Markdown object>"
      ]
     },
     "metadata": {},
     "output_type": "display_data"
    },
    {
     "data": {
      "text/latex": [
       "\\begin{aligned}\n",
       "  v_{1} &=  \\frac{  R  \\cdot  T_{1}  }{ p_{1} } \\\\\n",
       "    &= \\frac{  { 287.05\\ \\frac{\\mathrm{J}}{\\left(\\mathrm{K} \\cdot \\mathrm{kg}\\right)} }  \\cdot  250\\ \\mathrm{K}  }{ 100.0\\ \\mathrm{kPa} }\\\\\n",
       "    &= 0.71763\\ \\frac{\\mathrm{m}^{3}}{\\mathrm{kg}}\n",
       "\\end{aligned}\n"
      ],
      "text/plain": [
       "<IPython.core.display.Latex object>"
      ]
     },
     "metadata": {},
     "output_type": "display_data"
    },
    {
     "data": {
      "text/latex": [
       "\\begin{aligned}\n",
       "  s_{1} &=  \\mathrm{ \\underset{air}{s} }\\left( \\mathrm{ T } = T_{1}, \\mathrm{ p } = p_{1} \\right) \\\\\n",
       "    &= \\mathrm{ \\underset{air}{s} }\\left( \\mathrm{ T } = 250\\ \\mathrm{K}, \\mathrm{ p } = 100.0\\ \\mathrm{kPa} \\right)\\\\\n",
       "    &= 6.5247\\ \\frac{\\mathrm{kJ}}{\\left(\\mathrm{K} \\cdot \\mathrm{kg}\\right)}\n",
       "\\end{aligned}\n"
      ],
      "text/plain": [
       "<IPython.core.display.Latex object>"
      ]
     },
     "metadata": {},
     "output_type": "display_data"
    },
    {
     "data": {
      "text/markdown": [
       " Isentropic"
      ],
      "text/plain": [
       "<IPython.core.display.Markdown object>"
      ]
     },
     "metadata": {},
     "output_type": "display_data"
    },
    {
     "data": {
      "text/latex": [
       "\\begin{aligned}\n",
       "  s_{2} &=  s_{1}  = 6.5247\\ \\frac{\\mathrm{kJ}}{\\left(\\mathrm{K} \\cdot \\mathrm{kg}\\right)} \n",
       "\\end{aligned}\n"
      ],
      "text/plain": [
       "<IPython.core.display.Latex object>"
      ]
     },
     "metadata": {},
     "output_type": "display_data"
    },
    {
     "data": {
      "text/markdown": [
       " Specific volume at exit"
      ],
      "text/plain": [
       "<IPython.core.display.Markdown object>"
      ]
     },
     "metadata": {},
     "output_type": "display_data"
    },
    {
     "data": {
      "text/latex": [
       "\\begin{aligned}\n",
       "  v_{2} &=  \\mathrm{ \\underset{air}{v} }\\left( \\mathrm{ T } = T_{2}, \\mathrm{ s } = s_{2} \\right) \\\\\n",
       "    &= \\mathrm{ \\underset{air}{v} }\\left( \\mathrm{ T } = 400\\ \\mathrm{K}, \\mathrm{ s } = 6.5247\\ \\frac{\\mathrm{kJ}}{\\left(\\mathrm{K} \\cdot \\mathrm{kg}\\right)} \\right)\\\\\n",
       "    &= 0.22086\\ \\frac{\\mathrm{m}^{3}}{\\mathrm{kg}}\n",
       "\\end{aligned}\n"
      ],
      "text/plain": [
       "<IPython.core.display.Latex object>"
      ]
     },
     "metadata": {},
     "output_type": "display_data"
    },
    {
     "data": {
      "text/markdown": [
       " Compression ratio"
      ],
      "text/plain": [
       "<IPython.core.display.Markdown object>"
      ]
     },
     "metadata": {},
     "output_type": "display_data"
    },
    {
     "data": {
      "text/latex": [
       "\\begin{aligned}\n",
       "  r &=  \\frac{ v_{1} }{ v_{2} } \\\\\n",
       "    &= \\frac{ 0.71763\\ \\frac{\\mathrm{m}^{3}}{\\mathrm{kg}} }{ 0.22086\\ \\frac{\\mathrm{m}^{3}}{\\mathrm{kg}} }\\\\\n",
       "    &= { 3.2492\\ }\n",
       "\\end{aligned}\n"
      ],
      "text/plain": [
       "<IPython.core.display.Latex object>"
      ]
     },
     "metadata": {},
     "output_type": "display_data"
    }
   ],
   "source": [
    "# Properties at inlet\n",
    "v[1] = R*T[1]/p[1]\n",
    "s[1] = air.s(T=T[1],p=p[1])\n",
    "\n",
    "# Isentropic\n",
    "s[2] = s[1]\n",
    "\n",
    "# Specific volume at exit\n",
    "v[2] = air.v(T=T[2],s=s[2])\n",
    "\n",
    "# Compression ratio\n",
    "r = v[1]/v[2]\n",
    "\n",
    "Calculations();"
   ]
  },
  {
   "cell_type": "markdown",
   "metadata": {},
   "source": [
    "#### (b) Final Pressure"
   ]
  },
  {
   "cell_type": "code",
   "execution_count": 5,
   "metadata": {
    "collapsed": false,
    "jupyter": {
     "outputs_hidden": false
    }
   },
   "outputs": [
    {
     "data": {
      "text/markdown": [
       " Pressure at exit"
      ],
      "text/plain": [
       "<IPython.core.display.Markdown object>"
      ]
     },
     "metadata": {},
     "output_type": "display_data"
    },
    {
     "data": {
      "text/latex": [
       "\\begin{aligned}\n",
       "  p_{2} &=  \\frac{  R  \\cdot  T_{2}  }{ v_{2} } \\\\\n",
       "    &= \\frac{  { 287.05\\ \\frac{\\mathrm{J}}{\\left(\\mathrm{K} \\cdot \\mathrm{kg}\\right)} }  \\cdot  400\\ \\mathrm{K}  }{ 0.22086\\ \\frac{\\mathrm{m}^{3}}{\\mathrm{kg}} }\\\\\n",
       "    &= 519.87\\ \\mathrm{kPa}\n",
       "\\end{aligned}\n"
      ],
      "text/plain": [
       "<IPython.core.display.Latex object>"
      ]
     },
     "metadata": {},
     "output_type": "display_data"
    },
    {
     "data": {
      "text/markdown": [
       " Pressure ratio"
      ],
      "text/plain": [
       "<IPython.core.display.Markdown object>"
      ]
     },
     "metadata": {},
     "output_type": "display_data"
    },
    {
     "data": {
      "text/latex": [
       "\\begin{aligned}\n",
       "  r_{p} &=  \\frac{ p_{2} }{ p_{1} } \\\\\n",
       "    &= \\frac{ 519.87\\ \\mathrm{kPa} }{ 100.0\\ \\mathrm{kPa} }\\\\\n",
       "    &= { 5.1987\\ }\n",
       "\\end{aligned}\n"
      ],
      "text/plain": [
       "<IPython.core.display.Latex object>"
      ]
     },
     "metadata": {},
     "output_type": "display_data"
    }
   ],
   "source": [
    "# Pressure at exit\n",
    "p[2] = R*T[2]/v[2]\n",
    "\n",
    "# Pressure ratio\n",
    "r_p = p[2]/p[1]\n",
    "\n",
    "Calculations();"
   ]
  },
  {
   "cell_type": "code",
   "execution_count": 6,
   "metadata": {},
   "outputs": [
    {
     "data": {
      "image/png": "[encoded data removed]",
      "text/plain": [
       "<Figure size 1200x800 with 1 Axes>"
      ]
     },
     "metadata": {
      "needs_background": "light"
     },
     "output_type": "display_data"
    }
   ],
   "source": [
    "pv = air.pv_diagram()\n",
    "\n",
    "pv.plot_state(states[1])\n",
    "pv.plot_state(states[2])\n",
    "\n",
    "pv.plot_process(states[1],states[2],path='isentropic',label='isentropic');\n",
    "\n",
    "pv.plot_isotherm(T[1],xcoor=.3)\n",
    "pv.plot_isotherm(T[2],xcoor=.3)\n",
    "pv.plot_isobar(p[1],pos=0.5)\n",
    "pv.plot_isobar(p[2],pos=0.5)\n",
    "h[2] = air.h(T[2],p[2])\n",
    "pv.plot_isenthalp(h[2],label=False);"
   ]
  },
  {
   "cell_type": "code",
   "execution_count": 7,
   "metadata": {
    "collapsed": false,
    "jupyter": {
     "outputs_hidden": false
    }
   },
   "outputs": [
    {
     "data": {
      "text/latex": [
       "\\begin{aligned}{ R }&={ 287.05\\ \\frac{\\mathrm{J}}{\\left(\\mathrm{K} \\cdot \\mathrm{kg}\\right)} }&{ r }&={ 3.2492\\ }&{ r_{p} }&={ 5.1987\\ }\\\\{  }\\end{aligned}"
      ],
      "text/plain": [
       "<IPython.core.display.Latex object>"
      ]
     },
     "metadata": {},
     "output_type": "display_data"
    },
    {
     "data": {
      "text/html": [
       "<table border=\"1\" class=\"dataframe\">\n",
       "  <thead>\n",
       "    <tr>\n",
       "      <th></th>\n",
       "      <th>T</th>\n",
       "      <th>p</th>\n",
       "      <th>v</th>\n",
       "      <th>h</th>\n",
       "      <th>s</th>\n",
       "    </tr>\n",
       "    <tr>\n",
       "      <th>unit</th>\n",
       "      <th>K</th>\n",
       "      <th>kPa</th>\n",
       "      <th>m³/kg</th>\n",
       "      <th>kJ/kg</th>\n",
       "      <th>kJ/K/kg</th>\n",
       "    </tr>\n",
       "  </thead>\n",
       "  <tbody>\n",
       "    <tr>\n",
       "      <th>1</th>\n",
       "      <td>250</td>\n",
       "      <td>100.000000</td>\n",
       "      <td>0.717632</td>\n",
       "      <td>-</td>\n",
       "      <td>6.524705</td>\n",
       "    </tr>\n",
       "    <tr>\n",
       "      <th>2</th>\n",
       "      <td>400</td>\n",
       "      <td>519.871649</td>\n",
       "      <td>0.220864</td>\n",
       "      <td>98.4854</td>\n",
       "      <td>6.524705</td>\n",
       "    </tr>\n",
       "  </tbody>\n",
       "</table>"
      ],
      "text/plain": [
       "<IPython.core.display.HTML object>"
      ]
     },
     "metadata": {},
     "output_type": "display_data"
    }
   ],
   "source": [
    "Summary();"
   ]
  },
  {
   "cell_type": "code",
   "execution_count": 8,
   "metadata": {
    "collapsed": false,
    "jupyter": {
     "outputs_hidden": false
    }
   },
   "outputs": [
    {
     "data": {
      "text/latex": [
       "\\begin{aligned}{ r }&={ 3.2492\\ }\\\\{ r_{p} }&={ 5.1987\\ }\\\\{  }\\end{aligned}"
      ],
      "text/plain": [
       "<IPython.core.display.Latex object>"
      ]
     },
     "metadata": {},
     "output_type": "display_data"
    }
   ],
   "source": [
    "Summary(['r','r_p']);"
   ]
  },
  {
   "cell_type": "code",
   "execution_count": null,
   "metadata": {},
   "outputs": [],
   "source": []
  }
 ],
 "metadata": {
  "kernelspec": {
   "display_name": "Python 3",
   "language": "python",
   "name": "python3"
  },
  "language_info": {
   "codemirror_mode": {
    "name": "ipython",
    "version": 3
   },
   "file_extension": ".py",
   "mimetype": "text/x-python",
   "name": "python",
   "nbconvert_exporter": "python",
   "pygments_lexer": "ipython3",
   "version": "3.8.5"
  }
 },
 "nbformat": 4,
 "nbformat_minor": 4
}
