{
 "cells": [
  {
   "cell_type": "markdown",
   "metadata": {},
   "source": [
    "# Example 9.2: Otto Cycle (Cold-Air-Standard)\n",
    "\n",
    "*John F. Maddox, Ph.D., P.E.<br>\n",
    "University of Kentucky - Paducah Campus<br>\n",
    "ME 321: Engineering Thermodynamics II<br>*"
   ]
  },
  {
   "cell_type": "markdown",
   "metadata": {},
   "source": [
    "## Problem Statement\n",
    "An Otto cycle with compression ratio of $8$ starts its compression stroke from $p_1=1\\ \\text{bar}$, $T_1=300\\ \\text{K}$.  The maximum temperature after combustion is $1200\\ \\text{K}$.  \n",
    "Determine:\n",
    "* (a) $p$-$v$ diagram\n",
    "* (b) $T$-$s$ diagram\n",
    "* (c) $T$,$p$ at each state\n",
    "* (d) $q_{in}$\n",
    "* (e) $w_{net}$\n",
    "* (f) $\\eta_{th}$"
   ]
  },
  {
   "cell_type": "markdown",
   "metadata": {},
   "source": [
    "## Solution\n",
    "\n",
    "__[Video Explanation](https://uky.yuja.com/V/Video?v=3074244&node=10465167&a=685460354&autoplay=1)__"
   ]
  },
  {
   "cell_type": "markdown",
   "metadata": {},
   "source": [
    "### Python Initialization\n",
    "We'll start by importing the libraries we will use for our analysis and initializing dictionaries to hold the properties we will be usings."
   ]
  },
  {
   "cell_type": "code",
   "execution_count": 1,
   "metadata": {
    "collapsed": false,
    "jupyter": {
     "outputs_hidden": false
    }
   },
   "outputs": [],
   "source": [
    "from kilojoule.templates.kSI_K import *\n",
    "air = idealgas.Properties('Air', unit_system='SI_K')"
   ]
  },
  {
   "cell_type": "markdown",
   "metadata": {},
   "source": [
    "### Given Parameters\n",
    "We now define variables to hold our known values."
   ]
  },
  {
   "cell_type": "code",
   "execution_count": 2,
   "metadata": {
    "collapsed": false,
    "jupyter": {
     "outputs_hidden": false
    }
   },
   "outputs": [
    {
     "data": {
      "text/latex": [
       "\\[\n",
       "  \\begin{aligned}\n",
       "    { T_{1} }&={ \\left( 300\\,\\mathrm{K} \\right) } = { 300\\ \\mathrm{K}  }\n",
       "  \\end{aligned}\n",
       "\\]\n"
      ],
      "text/plain": [
       "<IPython.core.display.Latex object>"
      ]
     },
     "metadata": {},
     "output_type": "display_data"
    },
    {
     "data": {
      "text/latex": [
       "\\[\n",
       "  \\begin{aligned}\n",
       "    { p_{1} }&={ \\left( 1\\,\\mathrm{bar} \\right) } = { 100.0\\ \\mathrm{kPa}  }\n",
       "  \\end{aligned}\n",
       "\\]\n"
      ],
      "text/plain": [
       "<IPython.core.display.Latex object>"
      ]
     },
     "metadata": {},
     "output_type": "display_data"
    },
    {
     "data": {
      "text/latex": [
       "\\[\n",
       "  \\begin{aligned}\n",
       "    { T_{max} }&={ \\left( 1200\\,\\mathrm{K} \\right) } = { 1200\\ \\mathrm{K}  }\n",
       "  \\end{aligned}\n",
       "\\]\n"
      ],
      "text/plain": [
       "<IPython.core.display.Latex object>"
      ]
     },
     "metadata": {},
     "output_type": "display_data"
    },
    {
     "data": {
      "text/latex": [
       "\\[\n",
       "  \\begin{aligned}\n",
       "    { r }&={  8\\  }\n",
       "  \\end{aligned}\n",
       "\\]\n"
      ],
      "text/plain": [
       "<IPython.core.display.Latex object>"
      ]
     },
     "metadata": {},
     "output_type": "display_data"
    }
   ],
   "source": [
    "T[1] = Quantity(300,'K')\n",
    "p[1] = Quantity(1,'bar')\n",
    "T_max = Quantity(1200,'K')\n",
    "r = Quantity(8,'')\n",
    "\n",
    "Calculations();"
   ]
  },
  {
   "cell_type": "markdown",
   "metadata": {},
   "source": [
    "### Assumptions\n",
    "  - Treat air as an ideal gas\n",
    "  - Variable Specific Heat"
   ]
  },
  {
   "cell_type": "code",
   "execution_count": 3,
   "metadata": {
    "collapsed": false,
    "jupyter": {
     "outputs_hidden": false
    }
   },
   "outputs": [
    {
     "data": {
      "text/markdown": [
       " Ideal Gas"
      ],
      "text/plain": [
       "<IPython.core.display.Markdown object>"
      ]
     },
     "metadata": {},
     "output_type": "display_data"
    },
    {
     "data": {
      "text/latex": [
       "\\[\n",
       "  \\begin{aligned}\n",
       "    { R }&={ air.R } = { 287.05\\ \\frac{\\mathrm{J}}{\\left(\\mathrm{K} \\cdot \\mathrm{kg}\\right)}  }\n",
       "  \\end{aligned}\n",
       "\\]\n"
      ],
      "text/plain": [
       "<IPython.core.display.Latex object>"
      ]
     },
     "metadata": {},
     "output_type": "display_data"
    },
    {
     "data": {
      "text/markdown": [
       " Constant thermal properties at room temperature"
      ],
      "text/plain": [
       "<IPython.core.display.Markdown object>"
      ]
     },
     "metadata": {},
     "output_type": "display_data"
    },
    {
     "data": {
      "text/latex": [
       "\\[\n",
       "  \\begin{aligned}\n",
       "    { T_{room} }&={ \\left( 300\\,\\mathrm{°C} \\right) } = { 300\\ \\mathrm{°C}  }\n",
       "  \\end{aligned}\n",
       "\\]\n"
      ],
      "text/plain": [
       "<IPython.core.display.Latex object>"
      ]
     },
     "metadata": {},
     "output_type": "display_data"
    },
    {
     "data": {
      "text/latex": [
       "\\[\n",
       "  \\begin{aligned}\n",
       "    { c_{p} }&={ \\mathrm{\\underset{air}{cp}}\\left(\\mathrm{T}=T_{room}\\right) } = { 1044.6\\ \\frac{\\mathrm{J}}{\\left(\\mathrm{K} \\cdot \\mathrm{kg}\\right)}  }\n",
       "  \\end{aligned}\n",
       "\\]\n"
      ],
      "text/plain": [
       "<IPython.core.display.Latex object>"
      ]
     },
     "metadata": {},
     "output_type": "display_data"
    },
    {
     "data": {
      "text/latex": [
       "\\[\n",
       "  \\begin{aligned}\n",
       "    { c_{v} }&={ \\mathrm{\\underset{air}{cv}}\\left(\\mathrm{T}=T_{room}\\right) } = { 757.52\\ \\frac{\\mathrm{J}}{\\left(\\mathrm{K} \\cdot \\mathrm{kg}\\right)}  }\n",
       "  \\end{aligned}\n",
       "\\]\n"
      ],
      "text/plain": [
       "<IPython.core.display.Latex object>"
      ]
     },
     "metadata": {},
     "output_type": "display_data"
    },
    {
     "data": {
      "text/latex": [
       "\\[\n",
       "  \\begin{aligned}\n",
       "    { k }&={ \\mathrm{\\underset{air}{k}}\\left(\\mathrm{T}=T_{room}\\right) } = { 1.3789\\  }\n",
       "  \\end{aligned}\n",
       "\\]\n"
      ],
      "text/plain": [
       "<IPython.core.display.Latex object>"
      ]
     },
     "metadata": {},
     "output_type": "display_data"
    },
    {
     "data": {
      "text/latex": [
       "\\[\n",
       "  \\begin{aligned}\n",
       "    { R }&={ air.R } = { 287.05\\ \\frac{\\mathrm{J}}{\\left(\\mathrm{K} \\cdot \\mathrm{kg}\\right)}  }\n",
       "  \\end{aligned}\n",
       "\\]\n"
      ],
      "text/plain": [
       "<IPython.core.display.Latex object>"
      ]
     },
     "metadata": {},
     "output_type": "display_data"
    }
   ],
   "source": [
    "# Ideal Gas\n",
    "R = air.R\n",
    "\n",
    "# Constant thermal properties at room temperature\n",
    "T_room = Quantity(300,'degC')\n",
    "c_p = air.Cp(T=T_room)\n",
    "c_v = air.Cv(T=T_room)\n",
    "k = air.k(T=T_room)\n",
    "R = air.R\n",
    "\n",
    "Calculations();"
   ]
  },
  {
   "cell_type": "markdown",
   "metadata": {},
   "source": [
    "#### (c) $T$,$p$ at each state "
   ]
  },
  {
   "cell_type": "code",
   "execution_count": 4,
   "metadata": {
    "collapsed": false,
    "jupyter": {
     "outputs_hidden": false
    }
   },
   "outputs": [
    {
     "data": {
      "text/markdown": [
       " Isentropic Compression $1\\to2$"
      ],
      "text/plain": [
       "<IPython.core.display.Markdown object>"
      ]
     },
     "metadata": {},
     "output_type": "display_data"
    },
    {
     "data": {
      "text/latex": [
       "\\[\n",
       "  \\begin{aligned}{ v_{1} }&={ \\frac{R T_{1}}{p_{1}} }\\\\\n",
       "    &={ \\frac{\\left( 287.05\\ \\frac{\\mathrm{J}}{\\left(\\mathrm{K} \\cdot \\mathrm{kg}\\right)} \\right) \\left( 300\\ \\mathrm{K} \\right)}{\\left( 100.0\\ \\mathrm{kPa} \\right)} }\\\\\n",
       "    &={  0.86116\\ \\frac{\\mathrm{m}^{3}}{\\mathrm{kg}}  }\n",
       "  \\end{aligned}\n",
       "\\]\n"
      ],
      "text/plain": [
       "<IPython.core.display.Latex object>"
      ]
     },
     "metadata": {},
     "output_type": "display_data"
    },
    {
     "data": {
      "text/latex": [
       "\\[\n",
       "  \\begin{aligned}{ v_{2} }&={ \\frac{v_{1}}{r} }\\\\\n",
       "    &={ \\frac{\\left( 0.86116\\ \\frac{\\mathrm{m}^{3}}{\\mathrm{kg}} \\right)}{\\left( 8\\ \\right)} }\\\\\n",
       "    &={  0.10764\\ \\frac{\\mathrm{m}^{3}}{\\mathrm{kg}}  }\n",
       "  \\end{aligned}\n",
       "\\]\n"
      ],
      "text/plain": [
       "<IPython.core.display.Latex object>"
      ]
     },
     "metadata": {},
     "output_type": "display_data"
    },
    {
     "data": {
      "text/markdown": [
       " Isentropic Ideal Gas Relations"
      ],
      "text/plain": [
       "<IPython.core.display.Markdown object>"
      ]
     },
     "metadata": {},
     "output_type": "display_data"
    },
    {
     "data": {
      "text/latex": [
       "\\[\n",
       "  \\begin{aligned}{ T_{2} }&={ T_{1} \\left(\\frac{v_{1}}{v_{2}}\\right)^{k - 1} }\\\\\n",
       "    &={ \\left( 300\\ \\mathrm{K} \\right) \\left(\\frac{\\left( 0.86116\\ \\frac{\\mathrm{m}^{3}}{\\mathrm{kg}} \\right)}{\\left( 0.10764\\ \\frac{\\mathrm{m}^{3}}{\\mathrm{kg}} \\right)}\\right)^{\\left( 1.3789\\ \\right) -  1 } }\\\\\n",
       "    &={  659.68\\ \\mathrm{K}  }\n",
       "  \\end{aligned}\n",
       "\\]\n"
      ],
      "text/plain": [
       "<IPython.core.display.Latex object>"
      ]
     },
     "metadata": {},
     "output_type": "display_data"
    },
    {
     "data": {
      "text/latex": [
       "\\[\n",
       "  \\begin{aligned}{ p_{2} }&={ \\frac{T_{2} R}{v_{2}} }\\\\\n",
       "    &={ \\frac{\\left( 659.68\\ \\mathrm{K} \\right) \\left( 287.05\\ \\frac{\\mathrm{J}}{\\left(\\mathrm{K} \\cdot \\mathrm{kg}\\right)} \\right)}{\\left( 0.10764\\ \\frac{\\mathrm{m}^{3}}{\\mathrm{kg}} \\right)} }\\\\\n",
       "    &={  1759.1\\ \\mathrm{kPa}  }\n",
       "  \\end{aligned}\n",
       "\\]\n"
      ],
      "text/plain": [
       "<IPython.core.display.Latex object>"
      ]
     },
     "metadata": {},
     "output_type": "display_data"
    },
    {
     "data": {
      "text/markdown": [
       " Isochoric Heat Addition $2\\to3$"
      ],
      "text/plain": [
       "<IPython.core.display.Markdown object>"
      ]
     },
     "metadata": {},
     "output_type": "display_data"
    },
    {
     "data": {
      "text/latex": [
       "\\[\n",
       "  \\begin{aligned}\n",
       "    { v_{3} }&={ v_{2} } = { 0.10764\\ \\frac{\\mathrm{m}^{3}}{\\mathrm{kg}}  }\n",
       "  \\end{aligned}\n",
       "\\]\n"
      ],
      "text/plain": [
       "<IPython.core.display.Latex object>"
      ]
     },
     "metadata": {},
     "output_type": "display_data"
    },
    {
     "data": {
      "text/latex": [
       "\\[\n",
       "  \\begin{aligned}\n",
       "    { T_{3} }&={ T_{max} } = { 1200\\ \\mathrm{K}  }\n",
       "  \\end{aligned}\n",
       "\\]\n"
      ],
      "text/plain": [
       "<IPython.core.display.Latex object>"
      ]
     },
     "metadata": {},
     "output_type": "display_data"
    },
    {
     "data": {
      "text/latex": [
       "\\[\n",
       "  \\begin{aligned}{ p_{3} }&={ \\frac{T_{3} R}{v_{3}} }\\\\\n",
       "    &={ \\frac{\\left( 1200\\ \\mathrm{K} \\right) \\left( 287.05\\ \\frac{\\mathrm{J}}{\\left(\\mathrm{K} \\cdot \\mathrm{kg}\\right)} \\right)}{\\left( 0.10764\\ \\frac{\\mathrm{m}^{3}}{\\mathrm{kg}} \\right)} }\\\\\n",
       "    &={  3200.0\\ \\mathrm{kPa}  }\n",
       "  \\end{aligned}\n",
       "\\]\n"
      ],
      "text/plain": [
       "<IPython.core.display.Latex object>"
      ]
     },
     "metadata": {},
     "output_type": "display_data"
    },
    {
     "data": {
      "text/markdown": [
       " Isentropic Expansion $3\\to4$"
      ],
      "text/plain": [
       "<IPython.core.display.Markdown object>"
      ]
     },
     "metadata": {},
     "output_type": "display_data"
    },
    {
     "data": {
      "text/latex": [
       "\\[\n",
       "  \\begin{aligned}{ v_{4} }&={ r v_{3} }\\\\\n",
       "    &={ \\left( 8\\ \\right) \\left( 0.10764\\ \\frac{\\mathrm{m}^{3}}{\\mathrm{kg}} \\right) }\\\\\n",
       "    &={  0.86116\\ \\frac{\\mathrm{m}^{3}}{\\mathrm{kg}}  }\n",
       "  \\end{aligned}\n",
       "\\]\n"
      ],
      "text/plain": [
       "<IPython.core.display.Latex object>"
      ]
     },
     "metadata": {},
     "output_type": "display_data"
    },
    {
     "data": {
      "text/latex": [
       "\\[\n",
       "  \\begin{aligned}{ T_{4} }&={ T_{3} \\left(\\frac{v_{3}}{v_{4}}\\right)^{k - 1} }\\\\\n",
       "    &={ \\left( 1200\\ \\mathrm{K} \\right) \\left(\\frac{\\left( 0.10764\\ \\frac{\\mathrm{m}^{3}}{\\mathrm{kg}} \\right)}{\\left( 0.86116\\ \\frac{\\mathrm{m}^{3}}{\\mathrm{kg}} \\right)}\\right)^{\\left( 1.3789\\ \\right) -  1 } }\\\\\n",
       "    &={  545.72\\ \\mathrm{K}  }\n",
       "  \\end{aligned}\n",
       "\\]\n"
      ],
      "text/plain": [
       "<IPython.core.display.Latex object>"
      ]
     },
     "metadata": {},
     "output_type": "display_data"
    },
    {
     "data": {
      "text/latex": [
       "\\[\n",
       "  \\begin{aligned}{ p_{4} }&={ \\frac{T_{4} R}{v_{4}} }\\\\\n",
       "    &={ \\frac{\\left( 545.72\\ \\mathrm{K} \\right) \\left( 287.05\\ \\frac{\\mathrm{J}}{\\left(\\mathrm{K} \\cdot \\mathrm{kg}\\right)} \\right)}{\\left( 0.86116\\ \\frac{\\mathrm{m}^{3}}{\\mathrm{kg}} \\right)} }\\\\\n",
       "    &={  181.91\\ \\mathrm{kPa}  }\n",
       "  \\end{aligned}\n",
       "\\]\n"
      ],
      "text/plain": [
       "<IPython.core.display.Latex object>"
      ]
     },
     "metadata": {},
     "output_type": "display_data"
    },
    {
     "data": {
      "text/html": [
       "<table border=\"1\" class=\"dataframe\">\n",
       "  <thead>\n",
       "    <tr>\n",
       "      <th></th>\n",
       "      <th>T</th>\n",
       "      <th>p</th>\n",
       "      <th>v</th>\n",
       "    </tr>\n",
       "    <tr>\n",
       "      <th>unit</th>\n",
       "      <th>K</th>\n",
       "      <th>kPa</th>\n",
       "      <th>m³/kg</th>\n",
       "    </tr>\n",
       "  </thead>\n",
       "  <tbody>\n",
       "    <tr>\n",
       "      <th>1</th>\n",
       "      <td>300.000000</td>\n",
       "      <td>100.000000</td>\n",
       "      <td>0.861158</td>\n",
       "    </tr>\n",
       "    <tr>\n",
       "      <th>2</th>\n",
       "      <td>659.680798</td>\n",
       "      <td>1759.148794</td>\n",
       "      <td>0.107645</td>\n",
       "    </tr>\n",
       "    <tr>\n",
       "      <th>3</th>\n",
       "      <td>1200.000000</td>\n",
       "      <td>3200.000000</td>\n",
       "      <td>0.107645</td>\n",
       "    </tr>\n",
       "    <tr>\n",
       "      <th>4</th>\n",
       "      <td>545.718477</td>\n",
       "      <td>181.906159</td>\n",
       "      <td>0.861158</td>\n",
       "    </tr>\n",
       "  </tbody>\n",
       "</table>"
      ],
      "text/plain": [
       "<IPython.core.display.HTML object>"
      ]
     },
     "metadata": {},
     "output_type": "display_data"
    }
   ],
   "source": [
    "# Isentropic Compression $1\\to2$\n",
    "v[1] = R*T[1]/p[1]\n",
    "v[2] = v[1]/r\n",
    "# Isentropic Ideal Gas Relations\n",
    "T[2] = T[1]*(v[1]/v[2])**(k-1)\n",
    "p[2] = T[2]*R/v[2]\n",
    "\n",
    "# Isochoric Heat Addition $2\\to3$\n",
    "v[3] = v[2]\n",
    "T[3] = T_max\n",
    "p[3] = T[3]*R/v[3]\n",
    "\n",
    "# Isentropic Expansion $3\\to4$\n",
    "v[4] = r*v[3]\n",
    "T[4] = T[3]*(v[3]/v[4])**(k-1)\n",
    "p[4] = T[4]*R/v[4]\n",
    "\n",
    "\n",
    "Calculations();\n",
    "states.display();"
   ]
  },
  {
   "cell_type": "markdown",
   "metadata": {},
   "source": [
    "### Plotting\n",
    "*Note: The plotting library using the property tables to draw the process paths, which inherently assumes variable specific heat (i.e. real-fluid or air-standard assumptions).  If the library is used to draw process paths between states that were obtained using constant specific heat (cold-air-standard assumptions) there will be inconsistencies between the state points and the process paths.*\n",
    "\n",
    "In order to plot the paths of the cycle on the $p$-$v$ diagram and states on the $T$-$s$ diagram, we need discrete values for the specifc enthalpy and entropy at each state rather than just the changes in properties we calculated above.  To do this, we will use the variable specific heat tables for the other properties to enable us to draw the paths.  The isentropic lines do not line up exactly with the states in this diagram because the entropies were calculated for variable specific heat, but all other properties were calculated using the\n",
    "cold-air-standard assumptions (constant specific heat).  "
   ]
  },
  {
   "cell_type": "markdown",
   "metadata": {},
   "source": [
    "#### (a) $p$-$v$ diagram "
   ]
  },
  {
   "cell_type": "code",
   "execution_count": 5,
   "metadata": {
    "collapsed": false,
    "jupyter": {
     "outputs_hidden": false
    }
   },
   "outputs": [
    {
     "data": {
      "image/png": "[encoded data removed]",
      "text/plain": [
       "<Figure size 1200x800 with 1 Axes>"
      ]
     },
     "metadata": {
      "needs_background": "light"
     },
     "output_type": "display_data"
    }
   ],
   "source": [
    "pv = air.pv_diagram()\n",
    "from math import log\n",
    "\n",
    "for i in [1,2,3,4]:\n",
    "    h[i] = air.h(T=T[i])\n",
    "    s[i] = air.s(T=T[i],p=p[i])\n",
    "\n",
    "for i in [1,2,3,4]:\n",
    "    pv.plot_state(states[i],label_loc='east')\n",
    "    \n",
    "pv.plot_process(states[1],states[2],path='isentropic')\n",
    "pv.plot_process(states[2],states[3],path='isochoric')\n",
    "pv.plot_process(states[3],states[4],path='isentropic')\n",
    "pv.plot_process(states[4],states[1],path='isochoric');"
   ]
  },
  {
   "cell_type": "markdown",
   "metadata": {},
   "source": [
    "#### (b) $T$-$s$ diagram \n",
    "**Note: the isentropic lines are not vertical in this diagram because the entropies were \n",
    "calculated for variable specific heat**, but all other properties were calculated using the\n",
    "cold-air-standard assumptions (constant specific heat).  Therefore the errors resulting from the constant specific heat assumption are evident in the skewed shape of the cycle on the $T$-$s$ diagram."
   ]
  },
  {
   "cell_type": "code",
   "execution_count": 6,
   "metadata": {
    "collapsed": false,
    "jupyter": {
     "outputs_hidden": false
    }
   },
   "outputs": [
    {
     "data": {
      "image/png": "[encoded data removed]",
      "text/plain": [
       "<Figure size 1200x800 with 1 Axes>"
      ]
     },
     "metadata": {
      "needs_background": "light"
     },
     "output_type": "display_data"
    }
   ],
   "source": [
    "Ts = air.Ts_diagram()\n",
    "\n",
    "for i in [1,2,3,4]:\n",
    "    Ts.plot_state(states[i], label_loc='north east')\n",
    "\n",
    "Ts.plot_process(states[1],states[2],label='incorrect trend',path='isentropic')\n",
    "Ts.plot_process(states[2],states[3],path='isochoric')\n",
    "Ts.plot_process(states[3],states[4],label='incorrect trend',path='isentropic')\n",
    "Ts.plot_process(states[4],states[1],path='isochoric');"
   ]
  },
  {
   "cell_type": "markdown",
   "metadata": {},
   "source": [
    "#### (d) $q_{in}$"
   ]
  },
  {
   "cell_type": "code",
   "execution_count": 7,
   "metadata": {
    "collapsed": false,
    "jupyter": {
     "outputs_hidden": false
    }
   },
   "outputs": [
    {
     "data": {
      "text/markdown": [
       " Heat transfer only takes place from $2\\to3$ and from $4\\to1$"
      ],
      "text/plain": [
       "<IPython.core.display.Markdown object>"
      ]
     },
     "metadata": {},
     "output_type": "display_data"
    },
    {
     "data": {
      "text/markdown": [
       " First Law from 2 to 3 to find the heat input"
      ],
      "text/plain": [
       "<IPython.core.display.Markdown object>"
      ]
     },
     "metadata": {},
     "output_type": "display_data"
    },
    {
     "data": {
      "text/latex": [
       "\\[\n",
       "  \\begin{aligned}{ q_{2\\to{}3} }&={ c_{v} \\left(T_{3} - T_{2}\\right) }\\\\\n",
       "    &={ \\left( 757.52\\ \\frac{\\mathrm{J}}{\\left(\\mathrm{K} \\cdot \\mathrm{kg}\\right)} \\right) \\left(\\left( 1200\\ \\mathrm{K} \\right) - \\left( 659.68\\ \\mathrm{K} \\right)\\right) }\\\\\n",
       "    &={  4.093\\times 10^{5}\\ \\frac{\\mathrm{J}}{\\mathrm{kg}}  }\n",
       "  \\end{aligned}\n",
       "\\]\n"
      ],
      "text/plain": [
       "<IPython.core.display.Latex object>"
      ]
     },
     "metadata": {},
     "output_type": "display_data"
    },
    {
     "data": {
      "text/latex": [
       "\\[\n",
       "  \\begin{aligned}\n",
       "    { q_{in} }&={ q_{2\\to{}3} } = { 4.093\\times 10^{5}\\ \\frac{\\mathrm{J}}{\\mathrm{kg}}  }\n",
       "  \\end{aligned}\n",
       "\\]\n"
      ],
      "text/plain": [
       "<IPython.core.display.Latex object>"
      ]
     },
     "metadata": {},
     "output_type": "display_data"
    }
   ],
   "source": [
    "# Heat transfer only takes place from $2\\to3$ and from $4\\to1$\n",
    "# First Law from 2 to 3 to find the heat input\n",
    "q_2_to_3 = c_v*(T[3]-T[2])\n",
    "q_in = q_2_to_3\n",
    "\n",
    "Calculations();"
   ]
  },
  {
   "cell_type": "markdown",
   "metadata": {},
   "source": [
    "#### (e) $w_{net}$"
   ]
  },
  {
   "cell_type": "code",
   "execution_count": 8,
   "metadata": {
    "collapsed": false,
    "jupyter": {
     "outputs_hidden": false
    }
   },
   "outputs": [
    {
     "data": {
      "text/markdown": [
       " First Law from 4 to 1 to find the heat rejection"
      ],
      "text/plain": [
       "<IPython.core.display.Markdown object>"
      ]
     },
     "metadata": {},
     "output_type": "display_data"
    },
    {
     "data": {
      "text/latex": [
       "\\[\n",
       "  \\begin{aligned}{ q_{4\\to{}1} }&={ c_{v} \\left(T_{4} - T_{1}\\right) }\\\\\n",
       "    &={ \\left( 757.52\\ \\frac{\\mathrm{J}}{\\left(\\mathrm{K} \\cdot \\mathrm{kg}\\right)} \\right) \\left(\\left( 545.72\\ \\mathrm{K} \\right) - \\left( 300\\ \\mathrm{K} \\right)\\right) }\\\\\n",
       "    &={  1.8614\\times 10^{5}\\ \\frac{\\mathrm{J}}{\\mathrm{kg}}  }\n",
       "  \\end{aligned}\n",
       "\\]\n"
      ],
      "text/plain": [
       "<IPython.core.display.Latex object>"
      ]
     },
     "metadata": {},
     "output_type": "display_data"
    },
    {
     "data": {
      "text/latex": [
       "\\[\n",
       "  \\begin{aligned}\n",
       "    { q_{out} }&={ q_{4\\to{}1} } = { 1.8614\\times 10^{5}\\ \\frac{\\mathrm{J}}{\\mathrm{kg}}  }\n",
       "  \\end{aligned}\n",
       "\\]\n"
      ],
      "text/plain": [
       "<IPython.core.display.Latex object>"
      ]
     },
     "metadata": {},
     "output_type": "display_data"
    },
    {
     "data": {
      "text/latex": [
       "\\[\n",
       "  \\begin{aligned}{ w_{net} }&={ q_{in} - q_{out} }\\\\\n",
       "    &={ \\left( 4.093\\times 10^{5}\\ \\frac{\\mathrm{J}}{\\mathrm{kg}} \\right) - \\left( 1.8614\\times 10^{5}\\ \\frac{\\mathrm{J}}{\\mathrm{kg}} \\right) }\\\\\n",
       "    &={  2.2317\\times 10^{5}\\ \\frac{\\mathrm{J}}{\\mathrm{kg}}  }\n",
       "  \\end{aligned}\n",
       "\\]\n"
      ],
      "text/plain": [
       "<IPython.core.display.Latex object>"
      ]
     },
     "metadata": {},
     "output_type": "display_data"
    }
   ],
   "source": [
    "# First Law from 4 to 1 to find the heat rejection\n",
    "q_4_to_1 = c_v*(T[4]-T[1])\n",
    "q_out = q_4_to_1\n",
    "\n",
    "w_net = q_in-q_out\n",
    "\n",
    "Calculations();"
   ]
  },
  {
   "cell_type": "markdown",
   "metadata": {},
   "source": [
    "#### (f)  $\\eta_{th}$"
   ]
  },
  {
   "cell_type": "code",
   "execution_count": 9,
   "metadata": {
    "collapsed": false,
    "jupyter": {
     "outputs_hidden": false
    }
   },
   "outputs": [
    {
     "data": {
      "text/markdown": [
       " Thermal efficiency"
      ],
      "text/plain": [
       "<IPython.core.display.Markdown object>"
      ]
     },
     "metadata": {},
     "output_type": "display_data"
    },
    {
     "data": {
      "text/latex": [
       "\\[\n",
       "  \\begin{aligned}{ \\eta_{th} }&={ \\frac{w_{net}}{q_{in}} }\\\\\n",
       "    &={ \\frac{\\left( 2.2317\\times 10^{5}\\ \\frac{\\mathrm{J}}{\\mathrm{kg}} \\right)}{\\left( 4.093\\times 10^{5}\\ \\frac{\\mathrm{J}}{\\mathrm{kg}} \\right)} }\\\\\n",
       "    &={  0.54523\\  }\n",
       "  \\end{aligned}\n",
       "\\]\n"
      ],
      "text/plain": [
       "<IPython.core.display.Latex object>"
      ]
     },
     "metadata": {},
     "output_type": "display_data"
    }
   ],
   "source": [
    "# Thermal efficiency\n",
    "eta_th = w_net/q_in\n",
    "\n",
    "Calculations();"
   ]
  },
  {
   "cell_type": "code",
   "execution_count": 10,
   "metadata": {
    "collapsed": false,
    "jupyter": {
     "outputs_hidden": false
    }
   },
   "outputs": [
    {
     "data": {
      "text/latex": [
       "\\[\\begin{aligned}{ R }&={  287.05\\ \\frac{\\mathrm{J}}{\\left(\\mathrm{K} \\cdot \\mathrm{kg}\\right)}  }&{ T_{max} }&={  1200\\ \\mathrm{K}  }&{ T_{room} }&={  300\\ \\mathrm{°C}  }\\\\{ c_{p} }&={  1044.6\\ \\frac{\\mathrm{J}}{\\left(\\mathrm{K} \\cdot \\mathrm{kg}\\right)}  }&{ c_{v} }&={  757.52\\ \\frac{\\mathrm{J}}{\\left(\\mathrm{K} \\cdot \\mathrm{kg}\\right)}  }&{ \\eta_{th} }&={  0.54523\\  }\\\\{ k }&={  1.3789\\  }&{ q_{2\\to{}3} }&={  4.093\\times 10^{5}\\ \\frac{\\mathrm{J}}{\\mathrm{kg}}  }&{ q_{4\\to{}1} }&={  1.8614\\times 10^{5}\\ \\frac{\\mathrm{J}}{\\mathrm{kg}}  }\\\\{ q_{in} }&={  4.093\\times 10^{5}\\ \\frac{\\mathrm{J}}{\\mathrm{kg}}  }&{ q_{out} }&={  1.8614\\times 10^{5}\\ \\frac{\\mathrm{J}}{\\mathrm{kg}}  }&{ r }&={  8\\  }\\\\{ w_{net} }&={  2.2317\\times 10^{5}\\ \\frac{\\mathrm{J}}{\\mathrm{kg}}  }&{  }\\end{aligned}\\]"
      ],
      "text/plain": [
       "<IPython.core.display.Latex object>"
      ]
     },
     "metadata": {},
     "output_type": "display_data"
    },
    {
     "data": {
      "text/html": [
       "<table border=\"1\" class=\"dataframe\">\n",
       "  <thead>\n",
       "    <tr>\n",
       "      <th></th>\n",
       "      <th>T</th>\n",
       "      <th>p</th>\n",
       "      <th>v</th>\n",
       "      <th>h</th>\n",
       "      <th>s</th>\n",
       "    </tr>\n",
       "    <tr>\n",
       "      <th>unit</th>\n",
       "      <th>K</th>\n",
       "      <th>kPa</th>\n",
       "      <th>m³/kg</th>\n",
       "      <th>kJ/kg</th>\n",
       "      <th>kJ/K/kg</th>\n",
       "    </tr>\n",
       "  </thead>\n",
       "  <tbody>\n",
       "    <tr>\n",
       "      <th>1</th>\n",
       "      <td>300.000000</td>\n",
       "      <td>100.000000</td>\n",
       "      <td>0.861158</td>\n",
       "      <td>-2.407134</td>\n",
       "      <td>6.707700</td>\n",
       "    </tr>\n",
       "    <tr>\n",
       "      <th>2</th>\n",
       "      <td>659.680798</td>\n",
       "      <td>1759.148794</td>\n",
       "      <td>0.107645</td>\n",
       "      <td>367.731544</td>\n",
       "      <td>6.692465</td>\n",
       "    </tr>\n",
       "    <tr>\n",
       "      <th>3</th>\n",
       "      <td>1200.000000</td>\n",
       "      <td>3200.000000</td>\n",
       "      <td>0.107645</td>\n",
       "      <td>974.975671</td>\n",
       "      <td>7.189906</td>\n",
       "    </tr>\n",
       "    <tr>\n",
       "      <th>4</th>\n",
       "      <td>545.718477</td>\n",
       "      <td>181.906159</td>\n",
       "      <td>0.861158</td>\n",
       "      <td>247.929071</td>\n",
       "      <td>7.144519</td>\n",
       "    </tr>\n",
       "  </tbody>\n",
       "</table>"
      ],
      "text/plain": [
       "<IPython.core.display.HTML object>"
      ]
     },
     "metadata": {},
     "output_type": "display_data"
    },
    {
     "data": {
      "text/latex": [
       "\\[\\begin{aligned}{ q_{in} }&={  4.093\\times 10^{5}\\ \\frac{\\mathrm{J}}{\\mathrm{kg}}  }\\\\{ w_{net} }&={  2.2317\\times 10^{5}\\ \\frac{\\mathrm{J}}{\\mathrm{kg}}  }\\\\{ \\eta_{th} }&={  0.54523\\  }\\\\{  }\\end{aligned}\\]"
      ],
      "text/plain": [
       "<IPython.core.display.Latex object>"
      ]
     },
     "metadata": {},
     "output_type": "display_data"
    }
   ],
   "source": [
    "Summary()\n",
    "Summary(['q_in','w_net','eta_th']);"
   ]
  }
 ],
 "metadata": {
  "kernelspec": {
   "display_name": "Python 3",
   "language": "python",
   "name": "python3"
  },
  "language_info": {
   "codemirror_mode": {
    "name": "ipython",
    "version": 3
   },
   "file_extension": ".py",
   "mimetype": "text/x-python",
   "name": "python",
   "nbconvert_exporter": "python",
   "pygments_lexer": "ipython3",
   "version": "3.8.5"
  }
 },
 "nbformat": 4,
 "nbformat_minor": 4
}
