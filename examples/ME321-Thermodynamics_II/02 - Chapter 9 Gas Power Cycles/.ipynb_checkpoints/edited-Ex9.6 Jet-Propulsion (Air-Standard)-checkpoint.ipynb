{
 "cells": [
  {
   "cell_type": "markdown",
   "metadata": {},
   "source": [
    "# Example 9.6: Jet Propulsion (Cold-Air-Standard)\n",
    "\n",
    "*John F. Maddox, Ph.D., P.E.<br>\n",
    "University of Kentucky - Paducah Campus<br>\n",
    "ME 321: Engineering Thermodynamics II<br>*"
   ]
  },
  {
   "cell_type": "markdown",
   "metadata": {},
   "source": [
    "## Problem Statement\n",
    "\n"
   ]
  },
  {
   "cell_type": "markdown",
   "metadata": {},
   "source": [
    "## Solution\n"
   ]
  },
  {
   "cell_type": "markdown",
   "metadata": {},
   "source": [
    "### Python Initialization\n",
    "We'll start by importing the libraries we will use for our analysis and initializing dictionaries to hold the properties we will be usings."
   ]
  },
  {
   "cell_type": "code",
   "execution_count": 1,
   "metadata": {
    "collapsed": false,
    "jupyter": {
     "outputs_hidden": false
    }
   },
   "outputs": [],
   "source": [
    "from kilojoule.templates.kSI import *\n",
    "   \n",
    "air = idealgas.Properties('Air')"
   ]
  },
  {
   "cell_type": "markdown",
   "metadata": {},
   "source": [
    "### Given Parameters\n",
    "We now define variables to hold our known values."
   ]
  },
  {
   "cell_type": "code",
   "execution_count": 2,
   "metadata": {
    "collapsed": false,
    "jupyter": {
     "outputs_hidden": false
    }
   },
   "outputs": [
    {
     "data": {
      "text/latex": [
       "\\[\\begin{aligned}{ \\dot{m} }&={  50\\ \\frac{\\mathrm{kg}}{\\mathrm{s}}  }&{ r_{p} }&={  10\\  }&{  }\\end{aligned}\\]"
      ],
      "text/plain": [
       "<IPython.core.display.Latex object>"
      ]
     },
     "metadata": {},
     "output_type": "display_data"
    },
    {
     "data": {
      "text/html": [
       "<table border=\"1\" class=\"dataframe\">\n",
       "  <thead>\n",
       "    <tr>\n",
       "      <th></th>\n",
       "      <th>T</th>\n",
       "      <th>p</th>\n",
       "      <th>Vel</th>\n",
       "    </tr>\n",
       "    <tr>\n",
       "      <th>unit</th>\n",
       "      <th>K</th>\n",
       "      <th>kPa</th>\n",
       "      <th>m/s</th>\n",
       "    </tr>\n",
       "  </thead>\n",
       "  <tbody>\n",
       "    <tr>\n",
       "      <th>1</th>\n",
       "      <td>233.15</td>\n",
       "      <td>35</td>\n",
       "      <td>250</td>\n",
       "    </tr>\n",
       "    <tr>\n",
       "      <th>4</th>\n",
       "      <td>1273.15</td>\n",
       "      <td>-</td>\n",
       "      <td>-</td>\n",
       "    </tr>\n",
       "  </tbody>\n",
       "</table>"
      ],
      "text/plain": [
       "<IPython.core.display.HTML object>"
      ]
     },
     "metadata": {},
     "output_type": "display_data"
    }
   ],
   "source": [
    "T[1] = Quantity(-40,'degC')   # Inlet Temperature\n",
    "p[1] = Quantity(35,'kPa')     # Compressor Inlet pressure\n",
    "r_p = Quantity(10,' ')        # Pressure ratio\n",
    "T[4] = Quantity(1000,'degC')  # Turbine inlet temperature\n",
    "mdot = Quantity(50,'kg/s')    # mass flow rate\n",
    "V=Vel\n",
    "V[1] = Quantity(250,'m/s')\n",
    "\n",
    "Summary();"
   ]
  },
  {
   "cell_type": "markdown",
   "metadata": {},
   "source": [
    "### Assumptions\n",
    "- Cold-air-standard Analysis\n",
    "  - Ideal gas\n",
    "  - Constant specific heat (evaluated at $25^\\circ\\text{C}$)\n",
    "- Isobaric heat exchagners: Combustors\n",
    "- Negligible changes in kinetic energy\n",
    "- Negligible changes in potential energy"
   ]
  },
  {
   "cell_type": "code",
   "execution_count": 3,
   "metadata": {
    "collapsed": false,
    "jupyter": {
     "outputs_hidden": false
    }
   },
   "outputs": [
    {
     "data": {
      "text/latex": [
       "\\[\\begin{aligned}{ R }&={  0.28705\\ \\frac{\\mathrm{kJ}}{\\left(\\mathrm{K} \\cdot \\mathrm{kg}\\right)}  }&{ \\dot{m} }&={  50\\ \\frac{\\mathrm{kg}}{\\mathrm{s}}  }&{ r_{p} }&={  10\\  }\\\\{  }\\end{aligned}\\]"
      ],
      "text/plain": [
       "<IPython.core.display.Latex object>"
      ]
     },
     "metadata": {},
     "output_type": "display_data"
    },
    {
     "data": {
      "text/html": [
       "<table border=\"1\" class=\"dataframe\">\n",
       "  <thead>\n",
       "    <tr>\n",
       "      <th></th>\n",
       "      <th>T</th>\n",
       "      <th>p</th>\n",
       "      <th>Vel</th>\n",
       "    </tr>\n",
       "    <tr>\n",
       "      <th>unit</th>\n",
       "      <th>K</th>\n",
       "      <th>kPa</th>\n",
       "      <th>m/s</th>\n",
       "    </tr>\n",
       "  </thead>\n",
       "  <tbody>\n",
       "    <tr>\n",
       "      <th>1</th>\n",
       "      <td>233.15</td>\n",
       "      <td>35</td>\n",
       "      <td>250</td>\n",
       "    </tr>\n",
       "    <tr>\n",
       "      <th>4</th>\n",
       "      <td>1273.15</td>\n",
       "      <td>-</td>\n",
       "      <td>-</td>\n",
       "    </tr>\n",
       "  </tbody>\n",
       "</table>"
      ],
      "text/plain": [
       "<IPython.core.display.HTML object>"
      ]
     },
     "metadata": {},
     "output_type": "display_data"
    }
   ],
   "source": [
    "# Ideal Gas\n",
    "R = air.R\n",
    "\n",
    "Summary();"
   ]
  },
  {
   "cell_type": "markdown",
   "metadata": {},
   "source": [
    "#### (a) $w_{net}$"
   ]
  },
  {
   "cell_type": "code",
   "execution_count": 4,
   "metadata": {
    "collapsed": false,
    "jupyter": {
     "outputs_hidden": false
    }
   },
   "outputs": [
    {
     "data": {
      "text/markdown": [
       "### 1$\\to$2) Diffuser"
      ],
      "text/plain": [
       "<IPython.core.display.Markdown object>"
      ]
     },
     "metadata": {},
     "output_type": "display_data"
    },
    {
     "data": {
      "text/markdown": [
       "### State 1"
      ],
      "text/plain": [
       "<IPython.core.display.Markdown object>"
      ]
     },
     "metadata": {},
     "output_type": "display_data"
    },
    {
     "data": {
      "text/latex": [
       "\\[\n",
       "  \\begin{aligned}\n",
       "    { h_{1} }&={ \\mathrm{\\underset{air}{h}}\\left(T_{1} , p_{1}\\right) } = { -69.491\\ \\frac{\\mathrm{kJ}}{\\mathrm{kg}}  }\n",
       "  \\end{aligned}\n",
       "\\]\n"
      ],
      "text/plain": [
       "<IPython.core.display.Latex object>"
      ]
     },
     "metadata": {},
     "output_type": "display_data"
    },
    {
     "data": {
      "text/latex": [
       "\\[\n",
       "  \\begin{aligned}\n",
       "    { s_{1} }&={ \\mathrm{\\underset{air}{s}}\\left(T_{1} , p_{1}\\right) } = { 6.7561\\ \\frac{\\mathrm{kJ}}{\\left(\\mathrm{K} \\cdot \\mathrm{kg}\\right)}  }\n",
       "  \\end{aligned}\n",
       "\\]\n"
      ],
      "text/plain": [
       "<IPython.core.display.Latex object>"
      ]
     },
     "metadata": {},
     "output_type": "display_data"
    },
    {
     "data": {
      "text/markdown": [
       "### 1-2) Isentropic Ram"
      ],
      "text/plain": [
       "<IPython.core.display.Markdown object>"
      ]
     },
     "metadata": {},
     "output_type": "display_data"
    },
    {
     "data": {
      "text/latex": [
       "\\[\n",
       "  \\begin{aligned}{ h_{2} }&={ h_{1} + \\frac{Vel_{1}^{2}}{2} }\\\\\n",
       "    &={ \\left( -69.491\\ \\frac{\\mathrm{kJ}}{\\mathrm{kg}} \\right) + \\frac{\\left( 250\\ \\frac{\\mathrm{m}}{\\mathrm{s}} \\right)^{ 2 }}{ 2 } }\\\\\n",
       "    &={  -38.241\\ \\frac{\\mathrm{kJ}}{\\mathrm{kg}}  }\n",
       "  \\end{aligned}\n",
       "\\]\n"
      ],
      "text/plain": [
       "<IPython.core.display.Latex object>"
      ]
     },
     "metadata": {},
     "output_type": "display_data"
    },
    {
     "data": {
      "text/latex": [
       "\\[\n",
       "  \\begin{aligned}\n",
       "    { s_{2} }&={ s_{1} } = { 6.7561\\ \\frac{\\mathrm{kJ}}{\\left(\\mathrm{K} \\cdot \\mathrm{kg}\\right)}  }\n",
       "  \\end{aligned}\n",
       "\\]\n"
      ],
      "text/plain": [
       "<IPython.core.display.Latex object>"
      ]
     },
     "metadata": {},
     "output_type": "display_data"
    },
    {
     "data": {
      "text/markdown": [
       "### $2\\to3$) Isentropic compression"
      ],
      "text/plain": [
       "<IPython.core.display.Markdown object>"
      ]
     },
     "metadata": {},
     "output_type": "display_data"
    },
    {
     "data": {
      "text/latex": [
       "\\[\n",
       "  \\begin{aligned}{ p_{3} }&={ p_{2} r_{p} }\\\\\n",
       "    &={ \\left( 54.25\\ \\mathrm{kPa} \\right) \\left( 10\\ \\right) }\\\\\n",
       "    &={  542.5\\ \\mathrm{kPa}  }\n",
       "  \\end{aligned}\n",
       "\\]\n"
      ],
      "text/plain": [
       "<IPython.core.display.Latex object>"
      ]
     },
     "metadata": {},
     "output_type": "display_data"
    },
    {
     "data": {
      "text/latex": [
       "\\[\n",
       "  \\begin{aligned}\n",
       "    { s_{3} }&={ s_{2} } = { 6.7561\\ \\frac{\\mathrm{kJ}}{\\left(\\mathrm{K} \\cdot \\mathrm{kg}\\right)}  }\n",
       "  \\end{aligned}\n",
       "\\]\n"
      ],
      "text/plain": [
       "<IPython.core.display.Latex object>"
      ]
     },
     "metadata": {},
     "output_type": "display_data"
    },
    {
     "data": {
      "text/latex": [
       "\\[\n",
       "  \\begin{aligned}{ \\dot{W}_{2\\to{}3} }&={ \\dot{m} \\left(h_{2} - h_{3}\\right) }\\\\\n",
       "    &={ \\left( 50\\ \\frac{\\mathrm{kg}}{\\mathrm{s}} \\right) \\left(\\left( -38.241\\ \\frac{\\mathrm{kJ}}{\\mathrm{kg}} \\right) - \\left( 208.56\\ \\frac{\\mathrm{kJ}}{\\mathrm{kg}} \\right)\\right) }\\\\\n",
       "    &={  -1.234\\times 10^{4}\\ \\frac{\\mathrm{kJ}}{\\mathrm{s}}  }\n",
       "  \\end{aligned}\n",
       "\\]\n"
      ],
      "text/plain": [
       "<IPython.core.display.Latex object>"
      ]
     },
     "metadata": {},
     "output_type": "display_data"
    },
    {
     "data": {
      "text/markdown": [
       "### $3\\to4$) Combustion"
      ],
      "text/plain": [
       "<IPython.core.display.Markdown object>"
      ]
     },
     "metadata": {},
     "output_type": "display_data"
    },
    {
     "data": {
      "text/latex": [
       "\\[\n",
       "  \\begin{aligned}\n",
       "    { p_{4} }&={ p_{3} } = { 542.5\\ \\mathrm{kPa}  }\n",
       "  \\end{aligned}\n",
       "\\]\n"
      ],
      "text/plain": [
       "<IPython.core.display.Latex object>"
      ]
     },
     "metadata": {},
     "output_type": "display_data"
    },
    {
     "data": {
      "text/latex": [
       "\\[\n",
       "  \\begin{aligned}{ \\dot{Q}_{3\\to{}4} }&={ \\dot{m} \\left(h_{4} - h_{3}\\right) }\\\\\n",
       "    &={ \\left( 50\\ \\frac{\\mathrm{kg}}{\\mathrm{s}} \\right) \\left(\\left( 1061.0\\ \\frac{\\mathrm{kJ}}{\\mathrm{kg}} \\right) - \\left( 208.56\\ \\frac{\\mathrm{kJ}}{\\mathrm{kg}} \\right)\\right) }\\\\\n",
       "    &={  4.2624\\times 10^{4}\\ \\frac{\\mathrm{kJ}}{\\mathrm{s}}  }\n",
       "  \\end{aligned}\n",
       "\\]\n"
      ],
      "text/plain": [
       "<IPython.core.display.Latex object>"
      ]
     },
     "metadata": {},
     "output_type": "display_data"
    },
    {
     "data": {
      "text/markdown": [
       "### $4\\to5$) Turbine"
      ],
      "text/plain": [
       "<IPython.core.display.Markdown object>"
      ]
     },
     "metadata": {},
     "output_type": "display_data"
    },
    {
     "data": {
      "text/latex": [
       "\\[\n",
       "  \\begin{aligned}{ \\dot{W}_{4\\to{}3} }&={ - \\dot{W}_{2\\to{}3} }\\\\\n",
       "    &={ - \\left( -1.234\\times 10^{4}\\ \\frac{\\mathrm{kJ}}{\\mathrm{s}} \\right) }\\\\\n",
       "    &={  1.234\\times 10^{4}\\ \\frac{\\mathrm{kJ}}{\\mathrm{s}}  }\n",
       "  \\end{aligned}\n",
       "\\]\n"
      ],
      "text/plain": [
       "<IPython.core.display.Latex object>"
      ]
     },
     "metadata": {},
     "output_type": "display_data"
    },
    {
     "data": {
      "text/latex": [
       "\\[\n",
       "  \\begin{aligned}{ h_{5} }&={ h_{4} - \\frac{\\dot{W}_{4\\to{}3}}{\\dot{m}} }\\\\\n",
       "    &={ \\left( 1061.0\\ \\frac{\\mathrm{kJ}}{\\mathrm{kg}} \\right) - \\frac{\\left( 1.234\\times 10^{4}\\ \\frac{\\mathrm{kJ}}{\\mathrm{s}} \\right)}{\\left( 50\\ \\frac{\\mathrm{kg}}{\\mathrm{s}} \\right)} }\\\\\n",
       "    &={  814.23\\ \\frac{\\mathrm{kJ}}{\\mathrm{kg}}  }\n",
       "  \\end{aligned}\n",
       "\\]\n"
      ],
      "text/plain": [
       "<IPython.core.display.Latex object>"
      ]
     },
     "metadata": {},
     "output_type": "display_data"
    },
    {
     "data": {
      "text/latex": [
       "\\[\n",
       "  \\begin{aligned}\n",
       "    { s_{5} }&={ s_{4} } = { 7.769\\ \\frac{\\mathrm{kJ}}{\\left(\\mathrm{K} \\cdot \\mathrm{kg}\\right)}  }\n",
       "  \\end{aligned}\n",
       "\\]\n"
      ],
      "text/plain": [
       "<IPython.core.display.Latex object>"
      ]
     },
     "metadata": {},
     "output_type": "display_data"
    },
    {
     "data": {
      "text/markdown": [
       "### $5\\to6$) Isentropic Expansion"
      ],
      "text/plain": [
       "<IPython.core.display.Markdown object>"
      ]
     },
     "metadata": {},
     "output_type": "display_data"
    },
    {
     "data": {
      "text/latex": [
       "\\[\n",
       "  \\begin{aligned}\n",
       "    { p_{6} }&={ p_{1} } = { 35\\ \\mathrm{kPa}  }\n",
       "  \\end{aligned}\n",
       "\\]\n"
      ],
      "text/plain": [
       "<IPython.core.display.Latex object>"
      ]
     },
     "metadata": {},
     "output_type": "display_data"
    },
    {
     "data": {
      "text/latex": [
       "\\[\n",
       "  \\begin{aligned}\n",
       "    { s_{6} }&={ s_{5} } = { 7.769\\ \\frac{\\mathrm{kJ}}{\\left(\\mathrm{K} \\cdot \\mathrm{kg}\\right)}  }\n",
       "  \\end{aligned}\n",
       "\\]\n"
      ],
      "text/plain": [
       "<IPython.core.display.Latex object>"
      ]
     },
     "metadata": {},
     "output_type": "display_data"
    },
    {
     "data": {
      "text/latex": [
       "\\[\n",
       "  \\begin{aligned}{ Vel_{6} }&={ \\left(2 \\left(h_{5} - h_{6}\\right)\\right)^{0.5} }\\\\\n",
       "    &={ \\left( 2  \\left(\\left( 814.23\\ \\frac{\\mathrm{kJ}}{\\mathrm{kg}} \\right) - \\left( 336.79\\ \\frac{\\mathrm{kJ}}{\\mathrm{kg}} \\right)\\right)\\right)^{ 0.5 } }\\\\\n",
       "    &={  977.18\\ \\frac{\\mathrm{m}}{\\mathrm{s}}  }\n",
       "  \\end{aligned}\n",
       "\\]\n"
      ],
      "text/plain": [
       "<IPython.core.display.Latex object>"
      ]
     },
     "metadata": {},
     "output_type": "display_data"
    },
    {
     "data": {
      "text/html": [
       "<table border=\"1\" class=\"dataframe\">\n",
       "  <thead>\n",
       "    <tr>\n",
       "      <th></th>\n",
       "      <th>T</th>\n",
       "      <th>p</th>\n",
       "      <th>v</th>\n",
       "      <th>u</th>\n",
       "      <th>h</th>\n",
       "      <th>s</th>\n",
       "      <th>Vel</th>\n",
       "      <th>k</th>\n",
       "    </tr>\n",
       "    <tr>\n",
       "      <th>unit</th>\n",
       "      <th>K</th>\n",
       "      <th>kPa</th>\n",
       "      <th>m³/kg</th>\n",
       "      <th>kJ/kg</th>\n",
       "      <th>kJ/kg</th>\n",
       "      <th>kJ/K/kg</th>\n",
       "      <th>m/s</th>\n",
       "      <th></th>\n",
       "    </tr>\n",
       "  </thead>\n",
       "  <tbody>\n",
       "    <tr>\n",
       "      <th>1</th>\n",
       "      <td>233.150000</td>\n",
       "      <td>35.000000</td>\n",
       "      <td>1.912179</td>\n",
       "      <td>-136.417276</td>\n",
       "      <td>-69.490971</td>\n",
       "      <td>6.756083</td>\n",
       "      <td>250</td>\n",
       "      <td>1.401078</td>\n",
       "    </tr>\n",
       "    <tr>\n",
       "      <th>2</th>\n",
       "      <td>264.308029</td>\n",
       "      <td>54.250113</td>\n",
       "      <td>1.398528</td>\n",
       "      <td>-114.111268</td>\n",
       "      <td>-38.240971</td>\n",
       "      <td>6.756083</td>\n",
       "      <td>-</td>\n",
       "      <td>1.400784</td>\n",
       "    </tr>\n",
       "    <tr>\n",
       "      <th>3</th>\n",
       "      <td>507.682627</td>\n",
       "      <td>542.501128</td>\n",
       "      <td>0.268629</td>\n",
       "      <td>62.829467</td>\n",
       "      <td>208.561067</td>\n",
       "      <td>6.756083</td>\n",
       "      <td>-</td>\n",
       "      <td>1.385675</td>\n",
       "    </tr>\n",
       "    <tr>\n",
       "      <th>4</th>\n",
       "      <td>1273.150000</td>\n",
       "      <td>542.501128</td>\n",
       "      <td>0.673659</td>\n",
       "      <td>695.573154</td>\n",
       "      <td>1061.034125</td>\n",
       "      <td>7.768954</td>\n",
       "      <td>-</td>\n",
       "      <td>1.320959</td>\n",
       "    </tr>\n",
       "    <tr>\n",
       "      <th>5</th>\n",
       "      <td>1061.577521</td>\n",
       "      <td>259.289269</td>\n",
       "      <td>1.175246</td>\n",
       "      <td>509.503554</td>\n",
       "      <td>814.232088</td>\n",
       "      <td>7.768954</td>\n",
       "      <td>-</td>\n",
       "      <td>1.332377</td>\n",
       "    </tr>\n",
       "    <tr>\n",
       "      <th>6</th>\n",
       "      <td>630.518973</td>\n",
       "      <td>35.000000</td>\n",
       "      <td>5.171203</td>\n",
       "      <td>155.802439</td>\n",
       "      <td>336.794527</td>\n",
       "      <td>7.768954</td>\n",
       "      <td>977.177</td>\n",
       "      <td>1.372603</td>\n",
       "    </tr>\n",
       "  </tbody>\n",
       "</table>"
      ],
      "text/plain": [
       "<IPython.core.display.HTML object>"
      ]
     },
     "metadata": {},
     "output_type": "display_data"
    }
   ],
   "source": [
    "#### 1$\\to$2) Diffuser\n",
    "#### State 1\n",
    "h[1] = air.h(T[1],p[1])\n",
    "s[1] = air.s(T[1],p[1])\n",
    "states.fix(1,air)\n",
    "\n",
    "#### 1-2) Isentropic Ram\n",
    "h[2] = h[1] + Vel[1]**2/(2)\n",
    "s[2] = s[1]\n",
    "states.fix(2,air)\n",
    "\n",
    "#### $2\\to3$) Isentropic compression\n",
    "p[3] = p[2]*r_p\n",
    "s[3] = s[2]\n",
    "states.fix(3,air)\n",
    "Wdot_2_to_3 = mdot*(h[2]-h[3])\n",
    "\n",
    "#### $3\\to4$) Combustion\n",
    "p[4]=p[3]\n",
    "states.fix(4,air)\n",
    "Qdot_3_to_4 = mdot*(h[4]-h[3])\n",
    "\n",
    "#### $4\\to5$) Turbine\n",
    "Wdot_4_to_3 = -Wdot_2_to_3\n",
    "h[5] = h[4] - Wdot_4_to_3/mdot\n",
    "s[5] = s[4]\n",
    "states.fix(5,air)\n",
    "\n",
    "#### $5\\to6$) Isentropic Expansion\n",
    "p[6] = p[1]\n",
    "s[6] = s[5]\n",
    "states.fix(6,air)\n",
    "Vel[6] = (2*(h[5]-h[6]))**0.5\n",
    "\n",
    "Calculations();\n",
    "states.display()"
   ]
  },
  {
   "cell_type": "markdown",
   "metadata": {},
   "source": [
    "#### (b) Net Thrust"
   ]
  },
  {
   "cell_type": "code",
   "execution_count": 5,
   "metadata": {
    "collapsed": false,
    "jupyter": {
     "outputs_hidden": false
    }
   },
   "outputs": [
    {
     "data": {
      "text/latex": [
       "\\[\n",
       "  \\begin{aligned}{ F_{Net} }&={ \\dot{m} \\left(V_{6} - V_{1}\\right) }\\\\\n",
       "    &={ \\left( 50\\ \\frac{\\mathrm{kg}}{\\mathrm{s}} \\right) \\left(\\left( 977.18\\ \\frac{\\mathrm{m}}{\\mathrm{s}} \\right) - \\left( 250\\ \\frac{\\mathrm{m}}{\\mathrm{s}} \\right)\\right) }\\\\\n",
       "    &={  3.6359\\times 10^{4}\\ \\mathrm{N}  }\n",
       "  \\end{aligned}\n",
       "\\]\n"
      ],
      "text/plain": [
       "<IPython.core.display.Latex object>"
      ]
     },
     "metadata": {},
     "output_type": "display_data"
    }
   ],
   "source": [
    "F_Net = mdot*(V[6]-V[1])\n",
    "F_Net.ito('N')\n",
    "\n",
    "Calculations();"
   ]
  },
  {
   "cell_type": "markdown",
   "metadata": {},
   "source": [
    "#### (c) Propulsive Power"
   ]
  },
  {
   "cell_type": "code",
   "execution_count": 6,
   "metadata": {
    "collapsed": false,
    "jupyter": {
     "outputs_hidden": false
    }
   },
   "outputs": [
    {
     "data": {
      "text/latex": [
       "\\[\n",
       "  \\begin{aligned}{ \\dot{W}_{P} }&={ F_{Net} V_{1} }\\\\\n",
       "    &={ \\left( 3.6359\\times 10^{4}\\ \\mathrm{N} \\right) \\left( 250\\ \\frac{\\mathrm{m}}{\\mathrm{s}} \\right) }\\\\\n",
       "    &={  9.0897\\times 10^{6}\\ \\mathrm{W}  }\n",
       "  \\end{aligned}\n",
       "\\]\n"
      ],
      "text/plain": [
       "<IPython.core.display.Latex object>"
      ]
     },
     "metadata": {},
     "output_type": "display_data"
    }
   ],
   "source": [
    "Wdot_P = F_Net*V[1]\n",
    "Wdot_P.ito('W') # hide\n",
    "\n",
    "Calculations();"
   ]
  },
  {
   "cell_type": "markdown",
   "metadata": {},
   "source": [
    "#### (d) Propulsive Efficiency"
   ]
  },
  {
   "cell_type": "code",
   "execution_count": 7,
   "metadata": {
    "collapsed": false,
    "jupyter": {
     "outputs_hidden": false
    }
   },
   "outputs": [
    {
     "data": {
      "text/latex": [
       "\\[\n",
       "  \\begin{aligned}{ \\eta_{P} }&={ \\frac{\\dot{W}_{P}}{\\dot{Q}_{3\\to{}4}} }\\\\\n",
       "    &={ \\frac{\\left( 9.0897\\times 10^{6}\\ \\mathrm{W} \\right)}{\\left( 4.2624\\times 10^{4}\\ \\frac{\\mathrm{kJ}}{\\mathrm{s}} \\right)} }\\\\\n",
       "    &={  0.21326\\  }\n",
       "  \\end{aligned}\n",
       "\\]\n"
      ],
      "text/plain": [
       "<IPython.core.display.Latex object>"
      ]
     },
     "metadata": {},
     "output_type": "display_data"
    }
   ],
   "source": [
    "eta_P = Wdot_P/Qdot_3_to_4\n",
    "eta_P.ito('') # hide\n",
    "\n",
    "Calculations();"
   ]
  },
  {
   "cell_type": "markdown",
   "metadata": {},
   "source": [
    "#### Summary of Results"
   ]
  },
  {
   "cell_type": "code",
   "execution_count": 8,
   "metadata": {
    "collapsed": false,
    "jupyter": {
     "outputs_hidden": false
    }
   },
   "outputs": [
    {
     "data": {
      "text/latex": [
       "\\[\\begin{aligned}{ F_{Net} }&={  3.6359\\times 10^{4}\\ \\mathrm{N}  }&{ \\dot{Q}_{3\\to{}4} }&={  4.2624\\times 10^{4}\\ \\frac{\\mathrm{kJ}}{\\mathrm{s}}  }&{ R }&={  0.28705\\ \\frac{\\mathrm{kJ}}{\\left(\\mathrm{K} \\cdot \\mathrm{kg}\\right)}  }\\\\{ \\dot{W}_{2\\to{}3} }&={  -1.234\\times 10^{4}\\ \\frac{\\mathrm{kJ}}{\\mathrm{s}}  }&{ \\dot{W}_{4\\to{}3} }&={  1.234\\times 10^{4}\\ \\frac{\\mathrm{kJ}}{\\mathrm{s}}  }&{ \\dot{W}_{P} }&={  9.0897\\times 10^{6}\\ \\mathrm{W}  }\\\\{ \\eta_{P} }&={  0.21326\\  }&{ \\dot{m} }&={  50\\ \\frac{\\mathrm{kg}}{\\mathrm{s}}  }&{ r_{p} }&={  10\\  }\\\\{  }\\end{aligned}\\]"
      ],
      "text/plain": [
       "<IPython.core.display.Latex object>"
      ]
     },
     "metadata": {},
     "output_type": "display_data"
    },
    {
     "data": {
      "text/html": [
       "<table border=\"1\" class=\"dataframe\">\n",
       "  <thead>\n",
       "    <tr>\n",
       "      <th></th>\n",
       "      <th>T</th>\n",
       "      <th>p</th>\n",
       "      <th>v</th>\n",
       "      <th>u</th>\n",
       "      <th>h</th>\n",
       "      <th>s</th>\n",
       "      <th>Vel</th>\n",
       "      <th>k</th>\n",
       "    </tr>\n",
       "    <tr>\n",
       "      <th>unit</th>\n",
       "      <th>K</th>\n",
       "      <th>kPa</th>\n",
       "      <th>m³/kg</th>\n",
       "      <th>kJ/kg</th>\n",
       "      <th>kJ/kg</th>\n",
       "      <th>kJ/K/kg</th>\n",
       "      <th>m/s</th>\n",
       "      <th></th>\n",
       "    </tr>\n",
       "  </thead>\n",
       "  <tbody>\n",
       "    <tr>\n",
       "      <th>1</th>\n",
       "      <td>233.150000</td>\n",
       "      <td>35.000000</td>\n",
       "      <td>1.912179</td>\n",
       "      <td>-136.417276</td>\n",
       "      <td>-69.490971</td>\n",
       "      <td>6.756083</td>\n",
       "      <td>250</td>\n",
       "      <td>1.401078</td>\n",
       "    </tr>\n",
       "    <tr>\n",
       "      <th>2</th>\n",
       "      <td>264.308029</td>\n",
       "      <td>54.250113</td>\n",
       "      <td>1.398528</td>\n",
       "      <td>-114.111268</td>\n",
       "      <td>-38.240971</td>\n",
       "      <td>6.756083</td>\n",
       "      <td>-</td>\n",
       "      <td>1.400784</td>\n",
       "    </tr>\n",
       "    <tr>\n",
       "      <th>3</th>\n",
       "      <td>507.682627</td>\n",
       "      <td>542.501128</td>\n",
       "      <td>0.268629</td>\n",
       "      <td>62.829467</td>\n",
       "      <td>208.561067</td>\n",
       "      <td>6.756083</td>\n",
       "      <td>-</td>\n",
       "      <td>1.385675</td>\n",
       "    </tr>\n",
       "    <tr>\n",
       "      <th>4</th>\n",
       "      <td>1273.150000</td>\n",
       "      <td>542.501128</td>\n",
       "      <td>0.673659</td>\n",
       "      <td>695.573154</td>\n",
       "      <td>1061.034125</td>\n",
       "      <td>7.768954</td>\n",
       "      <td>-</td>\n",
       "      <td>1.320959</td>\n",
       "    </tr>\n",
       "    <tr>\n",
       "      <th>5</th>\n",
       "      <td>1061.577521</td>\n",
       "      <td>259.289269</td>\n",
       "      <td>1.175246</td>\n",
       "      <td>509.503554</td>\n",
       "      <td>814.232088</td>\n",
       "      <td>7.768954</td>\n",
       "      <td>-</td>\n",
       "      <td>1.332377</td>\n",
       "    </tr>\n",
       "    <tr>\n",
       "      <th>6</th>\n",
       "      <td>630.518973</td>\n",
       "      <td>35.000000</td>\n",
       "      <td>5.171203</td>\n",
       "      <td>155.802439</td>\n",
       "      <td>336.794527</td>\n",
       "      <td>7.768954</td>\n",
       "      <td>977.177</td>\n",
       "      <td>1.372603</td>\n",
       "    </tr>\n",
       "  </tbody>\n",
       "</table>"
      ],
      "text/plain": [
       "<IPython.core.display.HTML object>"
      ]
     },
     "metadata": {},
     "output_type": "display_data"
    },
    {
     "data": {
      "text/latex": [
       "\\[\\begin{aligned}{ F_{Net} }&={  3.6359\\times 10^{4}\\ \\mathrm{N}  }\\\\{ \\dot{W}_{P} }&={  9.0897\\times 10^{6}\\ \\mathrm{W}  }\\\\{ \\eta_{P} }&={  0.21326\\  }\\\\{  }\\end{aligned}\\]"
      ],
      "text/plain": [
       "<IPython.core.display.Latex object>"
      ]
     },
     "metadata": {},
     "output_type": "display_data"
    }
   ],
   "source": [
    "Summary()\n",
    "Summary(['F_Net','Wdot_P','eta_P']);"
   ]
  },
  {
   "cell_type": "markdown",
   "metadata": {},
   "source": [
    "#### (a) Sketch a $p$−$v$ diagram for the cycle"
   ]
  },
  {
   "cell_type": "code",
   "execution_count": 11,
   "metadata": {
    "collapsed": false,
    "jupyter": {
     "outputs_hidden": false
    }
   },
   "outputs": [
    {
     "data": {
      "image/png": "[encoded data removed]",
      "text/plain": [
       "<Figure size 1200x800 with 1 Axes>"
      ]
     },
     "metadata": {
      "needs_background": "light"
     },
     "output_type": "display_data"
    }
   ],
   "source": [
    "pv = air.pv_diagram(log_x=True)\n",
    "\n",
    "# The following loop plots and labels a point for each state\n",
    "p[5] = air.p(T[5],v[5])\n",
    "\n",
    "pv.plot_state(states[1], label_loc='south')\n",
    "pv.plot_state(states[2], label_loc='south west')\n",
    "pv.plot_state(states[3], label_loc='west')\n",
    "pv.plot_state(states[4], label_loc='east')\n",
    "pv.plot_state(states[5], label_loc='north east')\n",
    "pv.plot_state(states[6], label_loc='east')\n",
    "\n",
    "# Enter an appropriate path descriptor for each process, i.e. 'isothermal','isobaric','isochoric','isenthalpic','isentropic','nonideal'\n",
    "pv.plot_process(states[1],states[2], path='isentropic') # 1->2\n",
    "pv.plot_process(states[2],states[3], path='isentropic') # 2->3\n",
    "pv.plot_process(states[3],states[4], path='isobaric') # 3->4\n",
    "pv.plot_process(states[4],states[5], path='isentropic') # 4->5\n",
    "pv.plot_process(states[5],states[6], path='isentropic'); # 5->6\n"
   ]
  },
  {
   "cell_type": "markdown",
   "metadata": {},
   "source": [
    "#### (g) $T$-$s$ diagram"
   ]
  },
  {
   "cell_type": "code",
   "execution_count": 10,
   "metadata": {
    "collapsed": false,
    "jupyter": {
     "outputs_hidden": false
    }
   },
   "outputs": [
    {
     "data": {
      "image/png": "[encoded data removed]",
      "text/plain": [
       "<Figure size 1200x800 with 1 Axes>"
      ]
     },
     "metadata": {
      "needs_background": "light"
     },
     "output_type": "display_data"
    }
   ],
   "source": [
    "Ts = air.Ts_diagram()\n",
    "# The following loop plots and labels a point for each state\n",
    "for state in [1,2,3,4,5,6]:\n",
    "    Ts.plot_state(states[state], label_loc='north east')\n",
    "\n",
    "# Enter an appropriate path descriptor for each process, i.e. 'isothermal','isobaric','isochoric','isenthalpic','isentropic'\n",
    "Ts.plot_process(states[1],states[2], path='isentropic') # 1->2\n",
    "Ts.plot_process(states[2],states[3], path='isentropic') # 2->3\n",
    "Ts.plot_process(states[3],states[4], path='isobaric') # 3->4\n",
    "Ts.plot_process(states[4],states[5], path='isentropic') # 4->5\n",
    "Ts.plot_process(states[5],states[6], path='isentropic'); # 5->6"
   ]
  },
  {
   "cell_type": "code",
   "execution_count": null,
   "metadata": {
    "collapsed": false,
    "jupyter": {
     "outputs_hidden": false
    }
   },
   "outputs": [],
   "source": []
  }
 ],
 "metadata": {
  "kernelspec": {
   "display_name": "Python 3",
   "language": "python",
   "name": "python3"
  },
  "language_info": {
   "codemirror_mode": {
    "name": "ipython",
    "version": 3
   },
   "file_extension": ".py",
   "mimetype": "text/x-python",
   "name": "python",
   "nbconvert_exporter": "python",
   "pygments_lexer": "ipython3",
   "version": "3.8.5"
  }
 },
 "nbformat": 4,
 "nbformat_minor": 4
}
