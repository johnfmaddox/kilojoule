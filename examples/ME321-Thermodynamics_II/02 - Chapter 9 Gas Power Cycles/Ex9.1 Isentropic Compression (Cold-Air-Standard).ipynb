{
 "cells": [
  {
   "cell_type": "markdown",
   "metadata": {},
   "source": [
    "# Example 9.1: Isentropic Compression (Cold-Air-Standard)\n",
    "\n",
    "*John F. Maddox, Ph.D., P.E.<br>\n",
    "University of Kentucky - Paducah Campus<br>\n",
    "ME 321: Engineering Thermodynamics II<br>*"
   ]
  },
  {
   "cell_type": "markdown",
   "metadata": {},
   "source": [
    "## Problem Statement\n",
    "Air is compressed isentropically form $T_1=250\\ \\text{K}$, $p_1=1\\ \\text{bar}$ to $T_2=400\\ \\text{K}$\n",
    "* (a) What is the compression ratio\n",
    "* (b) What is the final pressure"
   ]
  },
  {
   "cell_type": "markdown",
   "metadata": {},
   "source": [
    "## Solution\n",
    "\n",
    "__[Video Explanation](https://uky.yuja.com/V/Video?v=3074239&node=10465156&a=1753145453&autoplay=1)__"
   ]
  },
  {
   "cell_type": "markdown",
   "metadata": {},
   "source": [
    "### Python Initialization\n",
    "We'll start by importing the libraries we will use for our analysis and initializing dictionaries to hold the properties we will be usings."
   ]
  },
  {
   "cell_type": "code",
   "execution_count": 2,
   "metadata": {
    "collapsed": false,
    "jupyter": {
     "outputs_hidden": false
    }
   },
   "outputs": [],
   "source": [
    "from kilojoule.templates.kSI import *\n",
    "air = idealgas.Properties('Air', unit_system='kSI')"
   ]
  },
  {
   "cell_type": "markdown",
   "metadata": {},
   "source": [
    "### Given Parameters\n",
    "We now define variables to hold our known values."
   ]
  },
  {
   "cell_type": "code",
   "execution_count": 3,
   "metadata": {
    "collapsed": false,
    "jupyter": {
     "outputs_hidden": false
    }
   },
   "outputs": [
    {
     "output_type": "display_data",
     "data": {
      "text/plain": "<IPython.core.display.Latex object>",
      "text/latex": "\\begin{aligned}\n  {T}_{ 1 } &=  250\\ \\mathrm{K} \n\\end{aligned}\n"
     },
     "metadata": {}
    },
    {
     "output_type": "display_data",
     "data": {
      "text/plain": "<IPython.core.display.Latex object>",
      "text/latex": "\\begin{aligned}\n  {p}_{ 1 } &=  1\\ \\mathrm{bar}  = 100.0\\ \\mathrm{kPa} \n\\end{aligned}\n"
     },
     "metadata": {}
    },
    {
     "output_type": "display_data",
     "data": {
      "text/plain": "<IPython.core.display.Latex object>",
      "text/latex": "\\begin{aligned}\n  {T}_{ 2 } &=  400\\ \\mathrm{K} \n\\end{aligned}\n"
     },
     "metadata": {}
    }
   ],
   "source": [
    "%%showcalc\n",
    "T[1] = Quantity(250,'K')\n",
    "p[1] = Quantity(1,'bar')\n",
    "T[2] = Quantity(400,'K')"
   ]
  },
  {
   "cell_type": "markdown",
   "metadata": {},
   "source": [
    "#### Assumptions (Cold-Air-Standard)\n",
    "* Ideal gas\n",
    "* Constant specific heat\n",
    "* Adiabatic\n",
    "* Negligible changes in kinetic and potential energy"
   ]
  },
  {
   "cell_type": "code",
   "execution_count": 4,
   "metadata": {
    "collapsed": false,
    "jupyter": {
     "outputs_hidden": false
    }
   },
   "outputs": [
    {
     "output_type": "display_data",
     "data": {
      "text/plain": "<IPython.core.display.Markdown object>",
      "text/markdown": " Ideal Gas"
     },
     "metadata": {}
    },
    {
     "output_type": "display_data",
     "data": {
      "text/plain": "<IPython.core.display.Latex object>",
      "text/latex": "\\begin{aligned}\n  R &=  \\underset{ air }{ R }  = 0.28705\\ \\frac{\\mathrm{kJ}}{\\left(\\mathrm{K} \\cdot \\mathrm{kg}\\right)} \n\\end{aligned}\n"
     },
     "metadata": {}
    },
    {
     "output_type": "display_data",
     "data": {
      "text/plain": "<IPython.core.display.Markdown object>",
      "text/markdown": " Constant thermal properties evaluated at room temperature"
     },
     "metadata": {}
    },
    {
     "output_type": "display_data",
     "data": {
      "text/plain": "<IPython.core.display.Latex object>",
      "text/latex": "\\begin{aligned}\n  T_{room} &=  25\\ \\mathrm{°C} \n\\end{aligned}\n"
     },
     "metadata": {}
    },
    {
     "output_type": "display_data",
     "data": {
      "text/plain": "<IPython.core.display.Latex object>",
      "text/latex": "\\begin{aligned}\n  c_{v} &=  \\mathrm{ \\underset{ air }{ Cv } }\\left( \\mathrm{ T } = T_{room} \\right)  = \\mathrm{ \\underset{ air }{ Cv } }\\left( \\mathrm{ T } = 25\\ \\mathrm{°C} \\right) = 0.71768\\ \\frac{\\mathrm{kJ}}{\\left(\\mathrm{K} \\cdot \\mathrm{kg}\\right)}\n\\end{aligned}\n"
     },
     "metadata": {}
    },
    {
     "output_type": "display_data",
     "data": {
      "text/plain": "<IPython.core.display.Latex object>",
      "text/latex": "\\begin{aligned}\n  c_{p} &=  \\mathrm{ \\underset{ air }{ Cp } }\\left( \\mathrm{ T } = T_{room} \\right)  = \\mathrm{ \\underset{ air }{ Cp } }\\left( \\mathrm{ T } = 25\\ \\mathrm{°C} \\right) = 1.0047\\ \\frac{\\mathrm{kJ}}{\\left(\\mathrm{K} \\cdot \\mathrm{kg}\\right)}\n\\end{aligned}\n"
     },
     "metadata": {}
    },
    {
     "output_type": "display_data",
     "data": {
      "text/plain": "<IPython.core.display.Latex object>",
      "text/latex": "\\begin{aligned}\n  k &=  \\mathrm{ \\underset{ air }{ k } }\\left( \\mathrm{ T } = T_{room} \\right)  = \\mathrm{ \\underset{ air }{ k } }\\left( \\mathrm{ T } = 25\\ \\mathrm{°C} \\right) = 1.4\\\n\\end{aligned}\n"
     },
     "metadata": {}
    }
   ],
   "source": [
    "%%showcalc\n",
    "# Ideal Gas\n",
    "R = air.R\n",
    "\n",
    "# Constant thermal properties evaluated at room temperature\n",
    "T_room = Quantity(25,'degC')\n",
    "c_v = air.Cv(T=T_room)\n",
    "c_p = air.Cp(T=T_room)\n",
    "k = air.k(T=T_room)"
   ]
  },
  {
   "cell_type": "markdown",
   "metadata": {},
   "source": [
    "#### (a) Compression Ratio"
   ]
  },
  {
   "cell_type": "code",
   "execution_count": 5,
   "metadata": {
    "collapsed": false,
    "jupyter": {
     "outputs_hidden": false
    }
   },
   "outputs": [
    {
     "output_type": "display_data",
     "data": {
      "text/plain": "<IPython.core.display.Markdown object>",
      "text/markdown": " Specific volume at inlet: Ideal Gas Law (IGL)"
     },
     "metadata": {}
    },
    {
     "output_type": "display_data",
     "data": {
      "text/plain": "<IPython.core.display.Latex object>",
      "text/latex": "\\begin{aligned}\n  {v}_{ 1 } &=  \\frac{  R  \\cdot  {T}_{ 1 }  }{ {p}_{ 1 } } \\\\\n    &= \\frac{  0.28705\\ \\frac{\\mathrm{kJ}}{\\left(\\mathrm{K} \\cdot \\mathrm{kg}\\right)}  \\cdot  250\\ \\mathrm{K}  }{ 100.0\\ \\mathrm{kPa} }\\\\\n    &= 0.71763\\ \\frac{\\mathrm{m}^{3}}{\\mathrm{kg}}\n\\end{aligned}\n"
     },
     "metadata": {}
    },
    {
     "output_type": "display_data",
     "data": {
      "text/plain": "<IPython.core.display.Markdown object>",
      "text/markdown": " Isentropic compression from $1\\to2$"
     },
     "metadata": {}
    },
    {
     "output_type": "display_data",
     "data": {
      "text/plain": "<IPython.core.display.Latex object>",
      "text/latex": "\\begin{aligned}\n  {v}_{ 2 } &=   {v}_{ 1 }  \\cdot  \\left(\\frac{ {T}_{ 1 } }{ {T}_{ 2 } }\\right)^\\frac{ 1 }{  k - 1  }  \\\\\n    &=  0.71763\\ \\frac{\\mathrm{m}^{3}}{\\mathrm{kg}}  \\cdot  \\left(\\frac{ 250\\ \\mathrm{K} }{ 400\\ \\mathrm{K} }\\right)^\\frac{ 1 }{  1.4\\ - 1  } \\\\\n    &= 0.2216\\ \\frac{\\mathrm{m}^{3}}{\\mathrm{kg}}\n\\end{aligned}\n"
     },
     "metadata": {}
    },
    {
     "output_type": "display_data",
     "data": {
      "text/plain": "<IPython.core.display.Markdown object>",
      "text/markdown": " Compression ratio "
     },
     "metadata": {}
    },
    {
     "output_type": "display_data",
     "data": {
      "text/plain": "<IPython.core.display.Latex object>",
      "text/latex": "\\begin{aligned}\n  r &=  \\frac{ {v}_{ 1 } }{ {v}_{ 2 } } \\\\\n    &= \\frac{ 0.71763\\ \\frac{\\mathrm{m}^{3}}{\\mathrm{kg}} }{ 0.2216\\ \\frac{\\mathrm{m}^{3}}{\\mathrm{kg}} }\\\\\n    &= 3.2384\\\n\\end{aligned}\n"
     },
     "metadata": {}
    }
   ],
   "source": [
    "%%showcalc\n",
    "# Specific volume at inlet: Ideal Gas Law (IGL)\n",
    "v[1] = R*T[1]/p[1]\n",
    "\n",
    "# Isentropic compression from $1\\to2$\n",
    "v[2] = v[1]*(T[1]/T[2])**(1/(k-1))\n",
    "\n",
    "# Compression ratio \n",
    "r = v[1]/v[2]\n",
    "\n",
    "Calculations();"
   ]
  },
  {
   "cell_type": "markdown",
   "metadata": {},
   "source": [
    "#### (b) Final Pressure"
   ]
  },
  {
   "cell_type": "code",
   "execution_count": 6,
   "metadata": {
    "collapsed": false,
    "jupyter": {
     "outputs_hidden": false
    }
   },
   "outputs": [
    {
     "output_type": "display_data",
     "data": {
      "text/plain": "<IPython.core.display.Markdown object>",
      "text/markdown": " Pressure at exit (IGL)"
     },
     "metadata": {}
    },
    {
     "output_type": "display_data",
     "data": {
      "text/plain": "<IPython.core.display.Latex object>",
      "text/latex": "\\begin{aligned}\n  {p}_{ 2 } &=  \\frac{  R  \\cdot  {T}_{ 2 }  }{ {v}_{ 2 } } \\\\\n    &= \\frac{  0.28705\\ \\frac{\\mathrm{kJ}}{\\left(\\mathrm{K} \\cdot \\mathrm{kg}\\right)}  \\cdot  400\\ \\mathrm{K}  }{ 0.2216\\ \\frac{\\mathrm{m}^{3}}{\\mathrm{kg}} }\\\\\n    &= 518.15\\ \\mathrm{kPa}\n\\end{aligned}\n"
     },
     "metadata": {}
    },
    {
     "output_type": "display_data",
     "data": {
      "text/plain": "<IPython.core.display.Markdown object>",
      "text/markdown": " Pressure ratio"
     },
     "metadata": {}
    },
    {
     "output_type": "display_data",
     "data": {
      "text/plain": "<IPython.core.display.Latex object>",
      "text/latex": "\\begin{aligned}\n  r_{p} &=  \\frac{ {p}_{ 2 } }{ {p}_{ 1 } } \\\\\n    &= \\frac{ 518.15\\ \\mathrm{kPa} }{ 100.0\\ \\mathrm{kPa} }\\\\\n    &= 5.1815\\\n\\end{aligned}\n"
     },
     "metadata": {}
    }
   ],
   "source": [
    "%%showcalc\n",
    "# Pressure at exit (IGL)\n",
    "p[2] = R*T[2]/v[2]\n",
    "\n",
    "# Pressure ratio\n",
    "r_p = p[2]/p[1]"
   ]
  },
  {
   "cell_type": "code",
   "execution_count": 7,
   "metadata": {
    "collapsed": false,
    "jupyter": {
     "outputs_hidden": false
    }
   },
   "outputs": [
    {
     "output_type": "display_data",
     "data": {
      "text/plain": "<IPython.core.display.Latex object>",
      "text/latex": "\\begin{aligned}{ R }&={ 0.28705\\ \\frac{\\mathrm{kJ}}{\\left(\\mathrm{K} \\cdot \\mathrm{kg}\\right)} }&{ T_{room} }&={ 25\\ \\mathrm{°C} }&{ c_{p} }&={ 1.0047\\ \\frac{\\mathrm{kJ}}{\\left(\\mathrm{K} \\cdot \\mathrm{kg}\\right)} }\\\\{ c_{v} }&={ 0.71768\\ \\frac{\\mathrm{kJ}}{\\left(\\mathrm{K} \\cdot \\mathrm{kg}\\right)} }&{ k }&={ 1.4\\ }&{ r }&={ 3.2384\\ }\\\\{ r_{p} }&={ 5.1815\\ }&{  }\\end{aligned}"
     },
     "metadata": {}
    },
    {
     "output_type": "display_data",
     "data": {
      "text/plain": "<IPython.core.display.HTML object>",
      "text/html": "<table border=\"1\" class=\"dataframe\">\n  <thead>\n    <tr>\n      <th></th>\n      <th>T</th>\n      <th>p</th>\n      <th>v</th>\n    </tr>\n    <tr>\n      <th>unit</th>\n      <th>K</th>\n      <th>kPa</th>\n      <th>m³/kg</th>\n    </tr>\n  </thead>\n  <tbody>\n    <tr>\n      <th>1</th>\n      <td>250</td>\n      <td>100.000000</td>\n      <td>0.717632</td>\n    </tr>\n    <tr>\n      <th>2</th>\n      <td>400</td>\n      <td>518.146434</td>\n      <td>0.221600</td>\n    </tr>\n  </tbody>\n</table>"
     },
     "metadata": {}
    }
   ],
   "source": [
    "Summary();"
   ]
  },
  {
   "cell_type": "code",
   "execution_count": 8,
   "metadata": {
    "collapsed": false,
    "jupyter": {
     "outputs_hidden": false
    }
   },
   "outputs": [
    {
     "output_type": "display_data",
     "data": {
      "text/plain": "<IPython.core.display.Latex object>",
      "text/latex": "\\begin{aligned}{ r }&={ 3.2384\\ }\\\\{ r_{p} }&={ 5.1815\\ }\\\\{  }\\end{aligned}"
     },
     "metadata": {}
    }
   ],
   "source": [
    "Summary(['r','r_p']);"
   ]
  }
 ],
 "metadata": {
  "kernelspec": {
   "name": "python385jvsc74a57bd0916dbcbb3f70747c44a77c7bcd40155683ae19c65e1c03b4aa3499c5328201f1",
   "display_name": "Python 3.8.5 64-bit"
  },
  "language_info": {
   "codemirror_mode": {
    "name": "ipython",
    "version": 3
   },
   "file_extension": ".py",
   "mimetype": "text/x-python",
   "name": "python",
   "nbconvert_exporter": "python",
   "pygments_lexer": "ipython3",
   "version": "3.8.5"
  }
 },
 "nbformat": 4,
 "nbformat_minor": 4
}