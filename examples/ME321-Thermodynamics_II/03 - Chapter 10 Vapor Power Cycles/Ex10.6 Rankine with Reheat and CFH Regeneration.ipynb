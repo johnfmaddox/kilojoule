{
 "cells": [
  {
   "cell_type": "markdown",
   "metadata": {},
   "source": [
    "# Example 10.6: Rankine with Reheat and CFH Regeneration\n",
    "\n",
    "*John F. Maddox, Ph.D., P.E.<br>\n",
    "University of Kentucky - Paducah Campus<br>\n",
    "ME 321: Engineering Thermodynamics II<br>*"
   ]
  },
  {
   "cell_type": "markdown",
   "metadata": {},
   "source": [
    "## Problem Statement\n",
    "A superheat steam power plant with reheat has a turbine inlet at $3\\ \\mathrm{MPa}$ and $550^\\circ\\mathrm{C}$.  After expansion to $400\\ \\mathrm{kPa}$, a fraction of the steam is extracted and used in a regeneration process with an Closed Feedwater Heater (OFH) where the exit of the hot stream in the CHF is saturated liquid at $400\\ \\mathrm{kPa}$ and the regenerator effectiveness is $\\varepsilon_\\text{regen}=0.9$ relative to the saturation temperature of the cold stream.  The remaining steam is reheated to $550^\\circ\\mathrm{C}$ and then expanded to $15\\ \\mathrm{kPa}$.  For isentropic efficiencies of $\\eta_t=0.8$ and $\\eta_p=0.6$ find:\n",
    "* (a) Specific net work (kJ/kg)\n",
    "* (c) Thermal efficiency of the cycle\n",
    "* (d) Sketch a $T$-$s$ diagram of the cycle"
   ]
  },
  {
   "cell_type": "markdown",
   "metadata": {},
   "source": [
    "## Solution\n",
    "\n",
    "__[Video Explanation](https://uky.yuja.com/V/Video?v=2140138&node=7988538&a=617372132&autoplay=1)__"
   ]
  },
  {
   "cell_type": "markdown",
   "metadata": {},
   "source": [
    "### Python Initialization\n",
    "We'll start by importing the libraries we will use for our analysis and initializing dictionaries to hold the properties we will be usings."
   ]
  },
  {
   "cell_type": "code",
   "execution_count": 1,
   "metadata": {
    "collapsed": false,
    "jupyter": {
     "outputs_hidden": false
    }
   },
   "outputs": [],
   "source": [
    "from kilojoule.templates.kSI_C import *\n",
    "   \n",
    "water = realfluid.Properties('Water')"
   ]
  },
  {
   "cell_type": "markdown",
   "metadata": {},
   "source": [
    "### Given Parameters\n",
    "We now define variables to hold our known values."
   ]
  },
  {
   "cell_type": "code",
   "execution_count": 2,
   "metadata": {
    "collapsed": false,
    "jupyter": {
     "outputs_hidden": false
    }
   },
   "outputs": [
    {
     "data": {
      "text/latex": [
       "\\begin{aligned}{ \\epsilon_{regen} }&={ 0.9\\ }&{ \\eta_{p} }&={ 0.6\\ }&{ \\eta_{t} }&={ 0.8\\ }\\\\{  }\\end{aligned}"
      ],
      "text/plain": [
       "<IPython.core.display.Latex object>"
      ]
     },
     "metadata": {},
     "output_type": "display_data"
    },
    {
     "data": {
      "text/html": [
       "<table border=\"1\" class=\"dataframe\">\n",
       "  <thead>\n",
       "    <tr>\n",
       "      <th></th>\n",
       "      <th>T</th>\n",
       "      <th>p</th>\n",
       "    </tr>\n",
       "    <tr>\n",
       "      <th>unit</th>\n",
       "      <th>°C</th>\n",
       "      <th>kPa</th>\n",
       "    </tr>\n",
       "  </thead>\n",
       "  <tbody>\n",
       "    <tr>\n",
       "      <th>4</th>\n",
       "      <td>550</td>\n",
       "      <td>3000</td>\n",
       "    </tr>\n",
       "    <tr>\n",
       "      <th>5</th>\n",
       "      <td>-</td>\n",
       "      <td>400</td>\n",
       "    </tr>\n",
       "    <tr>\n",
       "      <th>6</th>\n",
       "      <td>550</td>\n",
       "      <td>-</td>\n",
       "    </tr>\n",
       "    <tr>\n",
       "      <th>7</th>\n",
       "      <td>-</td>\n",
       "      <td>15</td>\n",
       "    </tr>\n",
       "  </tbody>\n",
       "</table>"
      ],
      "text/plain": [
       "<IPython.core.display.HTML object>"
      ]
     },
     "metadata": {},
     "output_type": "display_data"
    }
   ],
   "source": [
    "T[4] = Quantity(550,'degC')      # Turbine inlet temperature\n",
    "p[4] = Quantity(3,'MPa')         # Turbine inlet pressure\n",
    "p[5] = Quantity(400,'kPa')       # Pressure after first expansion\n",
    "T[6] = Quantity(550,'degC')      # Reheat temperature\n",
    "p[7] = Quantity(15,'kPa')        # Pressure after second expansion\n",
    "eta_t = Quantity(0.8,'')         # Turbine isentropic efficiency\n",
    "eta_p = Quantity(0.6,'')         # Pump isentropic efficiency\n",
    "epsilon_regen = Quantity(0.9,'') # regenerator effectiveness\n",
    "\n",
    "Summary();"
   ]
  },
  {
   "cell_type": "markdown",
   "metadata": {},
   "source": [
    "### Assumptions\n",
    "- Non-ideal work devices\n",
    "- Superheat in boiler: superheated vapor at boiler exit\n",
    "- Single phase into pump: saturated liquid at condenser exit\n",
    "- Isobaric heat exchagners\n",
    "- Negligible changes in kinetic energy\n",
    "- Negligible changes in potential energy"
   ]
  },
  {
   "cell_type": "code",
   "execution_count": 3,
   "metadata": {
    "collapsed": false,
    "jupyter": {
     "outputs_hidden": false
    }
   },
   "outputs": [
    {
     "data": {
      "text/latex": [
       "\\begin{aligned}{ \\epsilon_{regen} }&={ 0.9\\ }&{ \\eta_{p} }&={ 0.6\\ }&{ \\eta_{t} }&={ 0.8\\ }\\\\{  }\\end{aligned}"
      ],
      "text/plain": [
       "<IPython.core.display.Latex object>"
      ]
     },
     "metadata": {},
     "output_type": "display_data"
    },
    {
     "data": {
      "text/html": [
       "<table border=\"1\" class=\"dataframe\">\n",
       "  <thead>\n",
       "    <tr>\n",
       "      <th></th>\n",
       "      <th>T</th>\n",
       "      <th>p</th>\n",
       "      <th>x</th>\n",
       "    </tr>\n",
       "    <tr>\n",
       "      <th>unit</th>\n",
       "      <th>°C</th>\n",
       "      <th>kPa</th>\n",
       "      <th></th>\n",
       "    </tr>\n",
       "  </thead>\n",
       "  <tbody>\n",
       "    <tr>\n",
       "      <th>1</th>\n",
       "      <td>-</td>\n",
       "      <td>15.0</td>\n",
       "      <td>0</td>\n",
       "    </tr>\n",
       "    <tr>\n",
       "      <th>2</th>\n",
       "      <td>-</td>\n",
       "      <td>3000.0</td>\n",
       "      <td>-</td>\n",
       "    </tr>\n",
       "    <tr>\n",
       "      <th>3</th>\n",
       "      <td>-</td>\n",
       "      <td>3000.0</td>\n",
       "      <td>-</td>\n",
       "    </tr>\n",
       "    <tr>\n",
       "      <th>4</th>\n",
       "      <td>550</td>\n",
       "      <td>3000.0</td>\n",
       "      <td>-</td>\n",
       "    </tr>\n",
       "    <tr>\n",
       "      <th>5</th>\n",
       "      <td>-</td>\n",
       "      <td>400.0</td>\n",
       "      <td>-</td>\n",
       "    </tr>\n",
       "    <tr>\n",
       "      <th>6</th>\n",
       "      <td>550</td>\n",
       "      <td>400.0</td>\n",
       "      <td>-</td>\n",
       "    </tr>\n",
       "    <tr>\n",
       "      <th>7</th>\n",
       "      <td>-</td>\n",
       "      <td>15.0</td>\n",
       "      <td>-</td>\n",
       "    </tr>\n",
       "    <tr>\n",
       "      <th>8</th>\n",
       "      <td>-</td>\n",
       "      <td>400.0</td>\n",
       "      <td>0</td>\n",
       "    </tr>\n",
       "    <tr>\n",
       "      <th>9</th>\n",
       "      <td>-</td>\n",
       "      <td>15.0</td>\n",
       "      <td>-</td>\n",
       "    </tr>\n",
       "  </tbody>\n",
       "</table>"
      ],
      "text/plain": [
       "<IPython.core.display.HTML object>"
      ]
     },
     "metadata": {},
     "output_type": "display_data"
    }
   ],
   "source": [
    "x[1] = 0            # Single phase into pump\n",
    "x[8] = 0            # Single phase out of CFH\n",
    "p[1] = p[9] = p[7]  # isobaric heat exchanger\n",
    "p[6] = p[8] = p[5]  # isobaric heat exchanger\n",
    "p[3] = p[2] = p[4]  # isobaric heat exchanger\n",
    "\n",
    "Summary();"
   ]
  },
  {
   "cell_type": "markdown",
   "metadata": {},
   "source": [
    "#### (a) Specific net work"
   ]
  },
  {
   "cell_type": "code",
   "execution_count": 4,
   "metadata": {
    "collapsed": false,
    "jupyter": {
     "outputs_hidden": false
    }
   },
   "outputs": [
    {
     "data": {
      "text/markdown": [
       "### State 1) $T_1$,$v_1$,$h_1$,$s_1$ from $p_1$ and $x_1$"
      ],
      "text/plain": [
       "<IPython.core.display.Markdown object>"
      ]
     },
     "metadata": {},
     "output_type": "display_data"
    },
    {
     "data": {
      "text/markdown": [
       "### 1-2) Non-ideal compression"
      ],
      "text/plain": [
       "<IPython.core.display.Markdown object>"
      ]
     },
     "metadata": {},
     "output_type": "display_data"
    },
    {
     "data": {
      "text/markdown": [
       " Isentropic compression"
      ],
      "text/plain": [
       "<IPython.core.display.Markdown object>"
      ]
     },
     "metadata": {},
     "output_type": "display_data"
    },
    {
     "data": {
      "text/latex": [
       "\\begin{aligned}\n",
       "  p_{2s} &=  p_{2}  = 3000.0\\ \\mathrm{kPa} \n",
       "\\end{aligned}\n"
      ],
      "text/plain": [
       "<IPython.core.display.Latex object>"
      ]
     },
     "metadata": {},
     "output_type": "display_data"
    },
    {
     "data": {
      "text/latex": [
       "\\begin{aligned}\n",
       "  s_{2s} &=  s_{1}  = 0.75486\\ \\frac{\\mathrm{kJ}}{\\left(\\mathrm{K} \\cdot \\mathrm{kg}\\right)} \n",
       "\\end{aligned}\n"
      ],
      "text/plain": [
       "<IPython.core.display.Latex object>"
      ]
     },
     "metadata": {},
     "output_type": "display_data"
    },
    {
     "data": {
      "text/markdown": [
       " Fix $2_s$ from $p_{2s}$ and $s_{2s}$"
      ],
      "text/plain": [
       "<IPython.core.display.Markdown object>"
      ]
     },
     "metadata": {},
     "output_type": "display_data"
    },
    {
     "data": {
      "text/markdown": [
       " Actual compression"
      ],
      "text/plain": [
       "<IPython.core.display.Markdown object>"
      ]
     },
     "metadata": {},
     "output_type": "display_data"
    },
    {
     "data": {
      "text/latex": [
       "\\begin{aligned}\n",
       "  h_{2} &=  h_{1} + \\frac{  h_{2s} - h_{1}  }{ \\eta_{p} } \\\\\n",
       "    &= 225.94\\ \\frac{\\mathrm{kJ}}{\\mathrm{kg}} + \\frac{  228.97\\ \\frac{\\mathrm{kJ}}{\\mathrm{kg}} - 225.94\\ \\frac{\\mathrm{kJ}}{\\mathrm{kg}}  }{ 0.6\\ }\\\\\n",
       "    &= 230.99\\ \\frac{\\mathrm{kJ}}{\\mathrm{kg}}\n",
       "\\end{aligned}\n"
      ],
      "text/plain": [
       "<IPython.core.display.Latex object>"
      ]
     },
     "metadata": {},
     "output_type": "display_data"
    },
    {
     "data": {
      "text/markdown": [
       " Fix $2$ with $h_2$ and $p_2$"
      ],
      "text/plain": [
       "<IPython.core.display.Markdown object>"
      ]
     },
     "metadata": {},
     "output_type": "display_data"
    },
    {
     "data": {
      "text/markdown": [
       "### 3-4) Isobaric heat addition"
      ],
      "text/plain": [
       "<IPython.core.display.Markdown object>"
      ]
     },
     "metadata": {},
     "output_type": "display_data"
    },
    {
     "data": {
      "text/markdown": [
       " Fix state $4$ with $T_4$ and $p_4$"
      ],
      "text/plain": [
       "<IPython.core.display.Markdown object>"
      ]
     },
     "metadata": {},
     "output_type": "display_data"
    },
    {
     "data": {
      "text/markdown": [
       "### 4-5) Non-ideal expansion"
      ],
      "text/plain": [
       "<IPython.core.display.Markdown object>"
      ]
     },
     "metadata": {},
     "output_type": "display_data"
    },
    {
     "data": {
      "text/markdown": [
       " Isentropic Expansion"
      ],
      "text/plain": [
       "<IPython.core.display.Markdown object>"
      ]
     },
     "metadata": {},
     "output_type": "display_data"
    },
    {
     "data": {
      "text/latex": [
       "\\begin{aligned}\n",
       "  p_{5s} &=  p_{5}  = 400\\ \\mathrm{kPa} \n",
       "\\end{aligned}\n"
      ],
      "text/plain": [
       "<IPython.core.display.Latex object>"
      ]
     },
     "metadata": {},
     "output_type": "display_data"
    },
    {
     "data": {
      "text/latex": [
       "\\begin{aligned}\n",
       "  s_{5s} &=  s_{4}  = 7.3768\\ \\frac{\\mathrm{kJ}}{\\left(\\mathrm{K} \\cdot \\mathrm{kg}\\right)} \n",
       "\\end{aligned}\n"
      ],
      "text/plain": [
       "<IPython.core.display.Latex object>"
      ]
     },
     "metadata": {},
     "output_type": "display_data"
    },
    {
     "data": {
      "text/markdown": [
       " Actual expansion"
      ],
      "text/plain": [
       "<IPython.core.display.Markdown object>"
      ]
     },
     "metadata": {},
     "output_type": "display_data"
    },
    {
     "data": {
      "text/latex": [
       "\\begin{aligned}\n",
       "  h_{5} &=   h_{4} -  \\eta_{t}  \\cdot  \\left(  h_{4} - h_{5s}  \\right)   \\\\\n",
       "    &=  3569.7\\ \\frac{\\mathrm{kJ}}{\\mathrm{kg}} -  0.8\\  \\cdot  \\left(  3569.7\\ \\frac{\\mathrm{kJ}}{\\mathrm{kg}} - 2962.6\\ \\frac{\\mathrm{kJ}}{\\mathrm{kg}}  \\right)  \\\\\n",
       "    &= 3084.0\\ \\frac{\\mathrm{kJ}}{\\mathrm{kg}}\n",
       "\\end{aligned}\n"
      ],
      "text/plain": [
       "<IPython.core.display.Latex object>"
      ]
     },
     "metadata": {},
     "output_type": "display_data"
    },
    {
     "data": {
      "text/markdown": [
       " Fix state $5$ with $p_5$ and $h_5$"
      ],
      "text/plain": [
       "<IPython.core.display.Markdown object>"
      ]
     },
     "metadata": {},
     "output_type": "display_data"
    },
    {
     "data": {
      "text/markdown": [
       "### 5-6) Reheat - Isobaric heat addition"
      ],
      "text/plain": [
       "<IPython.core.display.Markdown object>"
      ]
     },
     "metadata": {},
     "output_type": "display_data"
    },
    {
     "data": {
      "text/markdown": [
       " Fix state $6$ with $T_6$ and $p_6$"
      ],
      "text/plain": [
       "<IPython.core.display.Markdown object>"
      ]
     },
     "metadata": {},
     "output_type": "display_data"
    },
    {
     "data": {
      "text/markdown": [
       "### 6-7) Non-ideal expansion"
      ],
      "text/plain": [
       "<IPython.core.display.Markdown object>"
      ]
     },
     "metadata": {},
     "output_type": "display_data"
    },
    {
     "data": {
      "text/markdown": [
       " Isentropic Expansion"
      ],
      "text/plain": [
       "<IPython.core.display.Markdown object>"
      ]
     },
     "metadata": {},
     "output_type": "display_data"
    },
    {
     "data": {
      "text/latex": [
       "\\begin{aligned}\n",
       "  p_{7s} &=  p_{7}  = 15\\ \\mathrm{kPa} \n",
       "\\end{aligned}\n"
      ],
      "text/plain": [
       "<IPython.core.display.Latex object>"
      ]
     },
     "metadata": {},
     "output_type": "display_data"
    },
    {
     "data": {
      "text/latex": [
       "\\begin{aligned}\n",
       "  s_{7s} &=  s_{6}  = 8.3287\\ \\frac{\\mathrm{kJ}}{\\left(\\mathrm{K} \\cdot \\mathrm{kg}\\right)} \n",
       "\\end{aligned}\n"
      ],
      "text/plain": [
       "<IPython.core.display.Latex object>"
      ]
     },
     "metadata": {},
     "output_type": "display_data"
    },
    {
     "data": {
      "text/latex": [
       "\\begin{aligned}\n",
       "  h_{7s} &=  \\mathrm{ \\underset{water}{h} }\\left( p_{7s}, s_{7s} \\right) \\\\\n",
       "    &= \\mathrm{ \\underset{water}{h} }\\left( 15\\ \\mathrm{kPa}, 8.3287\\ \\frac{\\mathrm{kJ}}{\\left(\\mathrm{K} \\cdot \\mathrm{kg}\\right)} \\right)\\\\\n",
       "    &= 2712.8\\ \\frac{\\mathrm{kJ}}{\\mathrm{kg}}\n",
       "\\end{aligned}\n"
      ],
      "text/plain": [
       "<IPython.core.display.Latex object>"
      ]
     },
     "metadata": {},
     "output_type": "display_data"
    },
    {
     "data": {
      "text/markdown": [
       " Actual expansion"
      ],
      "text/plain": [
       "<IPython.core.display.Markdown object>"
      ]
     },
     "metadata": {},
     "output_type": "display_data"
    },
    {
     "data": {
      "text/latex": [
       "\\begin{aligned}\n",
       "  h_{7} &=   h_{6} -  \\eta_{t}  \\cdot  \\left(  h_{6} - h_{7s}  \\right)   \\\\\n",
       "    &=  3593.6\\ \\frac{\\mathrm{kJ}}{\\mathrm{kg}} -  0.8\\  \\cdot  \\left(  3593.6\\ \\frac{\\mathrm{kJ}}{\\mathrm{kg}} - 2712.8\\ \\frac{\\mathrm{kJ}}{\\mathrm{kg}}  \\right)  \\\\\n",
       "    &= 2888.9\\ \\frac{\\mathrm{kJ}}{\\mathrm{kg}}\n",
       "\\end{aligned}\n"
      ],
      "text/plain": [
       "<IPython.core.display.Latex object>"
      ]
     },
     "metadata": {},
     "output_type": "display_data"
    },
    {
     "data": {
      "text/markdown": [
       "### CFH Analysis"
      ],
      "text/plain": [
       "<IPython.core.display.Markdown object>"
      ]
     },
     "metadata": {},
     "output_type": "display_data"
    },
    {
     "data": {
      "text/markdown": [
       " State 8 fixed by $x_8$, $p_8$"
      ],
      "text/plain": [
       "<IPython.core.display.Markdown object>"
      ]
     },
     "metadata": {},
     "output_type": "display_data"
    },
    {
     "data": {
      "text/markdown": [
       " Heat exchanger effectiveness"
      ],
      "text/plain": [
       "<IPython.core.display.Markdown object>"
      ]
     },
     "metadata": {},
     "output_type": "display_data"
    },
    {
     "data": {
      "text/latex": [
       "\\begin{aligned}\n",
       "  q_{2\\to{}3,max} &=   h_{8} - h_{2}  \\\\\n",
       "    &=  604.65\\ \\frac{\\mathrm{kJ}}{\\mathrm{kg}} - 230.99\\ \\frac{\\mathrm{kJ}}{\\mathrm{kg}} \\\\\n",
       "    &= 373.67\\ \\frac{\\mathrm{kJ}}{\\mathrm{kg}}\n",
       "\\end{aligned}\n"
      ],
      "text/plain": [
       "<IPython.core.display.Latex object>"
      ]
     },
     "metadata": {},
     "output_type": "display_data"
    },
    {
     "data": {
      "text/latex": [
       "\\begin{aligned}\n",
       "  q_{2\\to{}3} &=   \\epsilon_{regen}  \\cdot  q_{2\\to{}3,max}  \\\\\n",
       "    &=  0.9\\  \\cdot  373.67\\ \\frac{\\mathrm{kJ}}{\\mathrm{kg}} \\\\\n",
       "    &= 336.3\\ \\frac{\\mathrm{kJ}}{\\mathrm{kg}}\n",
       "\\end{aligned}\n"
      ],
      "text/plain": [
       "<IPython.core.display.Latex object>"
      ]
     },
     "metadata": {},
     "output_type": "display_data"
    },
    {
     "data": {
      "text/latex": [
       "\\begin{aligned}\n",
       "  h_{3} &=  h_{2} + q_{2\\to{}3} \\\\\n",
       "    &= 230.99\\ \\frac{\\mathrm{kJ}}{\\mathrm{kg}} + 336.3\\ \\frac{\\mathrm{kJ}}{\\mathrm{kg}}\\\\\n",
       "    &= 567.29\\ \\frac{\\mathrm{kJ}}{\\mathrm{kg}}\n",
       "\\end{aligned}\n"
      ],
      "text/plain": [
       "<IPython.core.display.Latex object>"
      ]
     },
     "metadata": {},
     "output_type": "display_data"
    },
    {
     "data": {
      "text/latex": [
       "\\begin{aligned}\n",
       "  y &=  \\frac{  h_{3} - h_{2}  }{  h_{5} - h_{8}  } \\\\\n",
       "    &= \\frac{  567.29\\ \\frac{\\mathrm{kJ}}{\\mathrm{kg}} - 230.99\\ \\frac{\\mathrm{kJ}}{\\mathrm{kg}}  }{  3084.0\\ \\frac{\\mathrm{kJ}}{\\mathrm{kg}} - 604.65\\ \\frac{\\mathrm{kJ}}{\\mathrm{kg}}  }\\\\\n",
       "    &= 0.13564\\\n",
       "\\end{aligned}\n"
      ],
      "text/plain": [
       "<IPython.core.display.Latex object>"
      ]
     },
     "metadata": {},
     "output_type": "display_data"
    },
    {
     "data": {
      "text/markdown": [
       "### Throttle regenerator flow to condensor pressure"
      ],
      "text/plain": [
       "<IPython.core.display.Markdown object>"
      ]
     },
     "metadata": {},
     "output_type": "display_data"
    },
    {
     "data": {
      "text/markdown": [
       " Isenthalpic expansion "
      ],
      "text/plain": [
       "<IPython.core.display.Markdown object>"
      ]
     },
     "metadata": {},
     "output_type": "display_data"
    },
    {
     "data": {
      "text/latex": [
       "\\begin{aligned}\n",
       "  h_{9} &=  h_{8}  = 604.65\\ \\frac{\\mathrm{kJ}}{\\mathrm{kg}} \n",
       "\\end{aligned}\n"
      ],
      "text/plain": [
       "<IPython.core.display.Latex object>"
      ]
     },
     "metadata": {},
     "output_type": "display_data"
    },
    {
     "data": {
      "text/markdown": [
       "### Work "
      ],
      "text/plain": [
       "<IPython.core.display.Markdown object>"
      ]
     },
     "metadata": {},
     "output_type": "display_data"
    },
    {
     "data": {
      "text/latex": [
       "\\begin{aligned}\n",
       "  w_{1\\to{}2} &=   h_{1} - h_{2}  \\\\\n",
       "    &=  225.94\\ \\frac{\\mathrm{kJ}}{\\mathrm{kg}} - 230.99\\ \\frac{\\mathrm{kJ}}{\\mathrm{kg}} \\\\\n",
       "    &= -5.0417\\ \\frac{\\mathrm{kJ}}{\\mathrm{kg}}\n",
       "\\end{aligned}\n"
      ],
      "text/plain": [
       "<IPython.core.display.Latex object>"
      ]
     },
     "metadata": {},
     "output_type": "display_data"
    },
    {
     "data": {
      "text/latex": [
       "\\begin{aligned}\n",
       "  w_{4\\to{}5} &=   h_{4} - h_{5}  \\\\\n",
       "    &=  3569.7\\ \\frac{\\mathrm{kJ}}{\\mathrm{kg}} - 3084.0\\ \\frac{\\mathrm{kJ}}{\\mathrm{kg}} \\\\\n",
       "    &= 485.66\\ \\frac{\\mathrm{kJ}}{\\mathrm{kg}}\n",
       "\\end{aligned}\n"
      ],
      "text/plain": [
       "<IPython.core.display.Latex object>"
      ]
     },
     "metadata": {},
     "output_type": "display_data"
    },
    {
     "data": {
      "text/latex": [
       "\\begin{aligned}\n",
       "  w_{6\\to{}7} &=   \\left(  1 - y  \\right)  \\cdot  \\left(  h_{6} - h_{7}  \\right)  \\\\\n",
       "    &=  \\left(  1 - 0.13564\\  \\right)  \\cdot  \\left(  3593.6\\ \\frac{\\mathrm{kJ}}{\\mathrm{kg}} - 2888.9\\ \\frac{\\mathrm{kJ}}{\\mathrm{kg}}  \\right) \\\\\n",
       "    &= 609.08\\ \\frac{\\mathrm{kJ}}{\\mathrm{kg}}\n",
       "\\end{aligned}\n"
      ],
      "text/plain": [
       "<IPython.core.display.Latex object>"
      ]
     },
     "metadata": {},
     "output_type": "display_data"
    },
    {
     "data": {
      "text/latex": [
       "\\begin{aligned}\n",
       "  w_{net} &=  w_{1\\to{}2} + w_{4\\to{}5} + w_{6\\to{}7} \\\\\n",
       "    &= -5.0417\\ \\frac{\\mathrm{kJ}}{\\mathrm{kg}} + 485.66\\ \\frac{\\mathrm{kJ}}{\\mathrm{kg}} + 609.08\\ \\frac{\\mathrm{kJ}}{\\mathrm{kg}}\\\\\n",
       "    &= 1089.7\\ \\frac{\\mathrm{kJ}}{\\mathrm{kg}}\n",
       "\\end{aligned}\n"
      ],
      "text/plain": [
       "<IPython.core.display.Latex object>"
      ]
     },
     "metadata": {},
     "output_type": "display_data"
    },
    {
     "data": {
      "text/latex": [
       "\\begin{aligned}{ \\epsilon_{regen} }&={ 0.9\\ }&{ \\eta_{p} }&={ 0.6\\ }&{ \\eta_{t} }&={ 0.8\\ }\\\\{ q_{2\\to{}3} }&={ 336.3\\ \\frac{\\mathrm{kJ}}{\\mathrm{kg}} }&{ q_{2\\to{}3,max} }&={ 373.67\\ \\frac{\\mathrm{kJ}}{\\mathrm{kg}} }&{ w_{1\\to{}2} }&={ -5.0417\\ \\frac{\\mathrm{kJ}}{\\mathrm{kg}} }\\\\{ w_{4\\to{}5} }&={ 485.66\\ \\frac{\\mathrm{kJ}}{\\mathrm{kg}} }&{ w_{6\\to{}7} }&={ 609.08\\ \\frac{\\mathrm{kJ}}{\\mathrm{kg}} }&{ w_{net} }&={ 1089.7\\ \\frac{\\mathrm{kJ}}{\\mathrm{kg}} }\\\\{ y }&={ 0.13564\\ }&{  }\\end{aligned}"
      ],
      "text/plain": [
       "<IPython.core.display.Latex object>"
      ]
     },
     "metadata": {},
     "output_type": "display_data"
    },
    {
     "data": {
      "text/html": [
       "<table border=\"1\" class=\"dataframe\">\n",
       "  <thead>\n",
       "    <tr>\n",
       "      <th></th>\n",
       "      <th>T</th>\n",
       "      <th>p</th>\n",
       "      <th>v</th>\n",
       "      <th>u</th>\n",
       "      <th>h</th>\n",
       "      <th>s</th>\n",
       "      <th>x</th>\n",
       "      <th>phase</th>\n",
       "    </tr>\n",
       "    <tr>\n",
       "      <th>unit</th>\n",
       "      <th>°C</th>\n",
       "      <th>kPa</th>\n",
       "      <th>m³/kg</th>\n",
       "      <th>kJ/kg</th>\n",
       "      <th>kJ/kg</th>\n",
       "      <th>kJ/K/kg</th>\n",
       "      <th></th>\n",
       "      <th></th>\n",
       "    </tr>\n",
       "  </thead>\n",
       "  <tbody>\n",
       "    <tr>\n",
       "      <th>1</th>\n",
       "      <td>53.969313</td>\n",
       "      <td>15.0</td>\n",
       "      <td>0.001014</td>\n",
       "      <td>225.929071</td>\n",
       "      <td>225.944282</td>\n",
       "      <td>0.754865</td>\n",
       "      <td>0</td>\n",
       "      <td>twophase</td>\n",
       "    </tr>\n",
       "    <tr>\n",
       "      <th>2</th>\n",
       "      <td>54.566922</td>\n",
       "      <td>3000.0</td>\n",
       "      <td>0.001013</td>\n",
       "      <td>227.946954</td>\n",
       "      <td>230.985965</td>\n",
       "      <td>0.761023</td>\n",
       "      <td>N/A</td>\n",
       "      <td>liquid</td>\n",
       "    </tr>\n",
       "    <tr>\n",
       "      <th>2s</th>\n",
       "      <td>54.084027</td>\n",
       "      <td>3000.0</td>\n",
       "      <td>0.001013</td>\n",
       "      <td>225.930994</td>\n",
       "      <td>228.969291</td>\n",
       "      <td>0.754865</td>\n",
       "      <td>N/A</td>\n",
       "      <td>liquid</td>\n",
       "    </tr>\n",
       "    <tr>\n",
       "      <th>3</th>\n",
       "      <td>134.474626</td>\n",
       "      <td>3000.0</td>\n",
       "      <td>0.001072</td>\n",
       "      <td>564.070242</td>\n",
       "      <td>567.287696</td>\n",
       "      <td>1.679000</td>\n",
       "      <td>N/A</td>\n",
       "      <td>liquid</td>\n",
       "    </tr>\n",
       "    <tr>\n",
       "      <th>4</th>\n",
       "      <td>550.000000</td>\n",
       "      <td>3000.0</td>\n",
       "      <td>0.124368</td>\n",
       "      <td>3196.597544</td>\n",
       "      <td>3569.702948</td>\n",
       "      <td>7.376848</td>\n",
       "      <td>N/A</td>\n",
       "      <td>supercritical_gas</td>\n",
       "    </tr>\n",
       "    <tr>\n",
       "      <th>5</th>\n",
       "      <td>308.262535</td>\n",
       "      <td>400.0</td>\n",
       "      <td>0.664687</td>\n",
       "      <td>2818.171292</td>\n",
       "      <td>3084.046040</td>\n",
       "      <td>7.597079</td>\n",
       "      <td>N/A</td>\n",
       "      <td>gas</td>\n",
       "    </tr>\n",
       "    <tr>\n",
       "      <th>5s</th>\n",
       "      <td>249.104089</td>\n",
       "      <td>400.0</td>\n",
       "      <td>0.594118</td>\n",
       "      <td>2724.984690</td>\n",
       "      <td>2962.631813</td>\n",
       "      <td>7.376848</td>\n",
       "      <td>N/A</td>\n",
       "      <td>gas</td>\n",
       "    </tr>\n",
       "    <tr>\n",
       "      <th>6</th>\n",
       "      <td>550.000000</td>\n",
       "      <td>400.0</td>\n",
       "      <td>0.947510</td>\n",
       "      <td>3214.583450</td>\n",
       "      <td>3593.587361</td>\n",
       "      <td>8.328669</td>\n",
       "      <td>N/A</td>\n",
       "      <td>supercritical_gas</td>\n",
       "    </tr>\n",
       "    <tr>\n",
       "      <th>7</th>\n",
       "      <td>204.912614</td>\n",
       "      <td>15.0</td>\n",
       "      <td>14.698171</td>\n",
       "      <td>2668.460515</td>\n",
       "      <td>2888.933076</td>\n",
       "      <td>8.737496</td>\n",
       "      <td>N/A</td>\n",
       "      <td>gas</td>\n",
       "    </tr>\n",
       "    <tr>\n",
       "      <th>7s</th>\n",
       "      <td>113.547646</td>\n",
       "      <td>15.0</td>\n",
       "      <td>11.875855</td>\n",
       "      <td>2534.631677</td>\n",
       "      <td>2712.769504</td>\n",
       "      <td>8.328669</td>\n",
       "      <td>N/A</td>\n",
       "      <td>gas</td>\n",
       "    </tr>\n",
       "    <tr>\n",
       "      <th>8</th>\n",
       "      <td>143.608359</td>\n",
       "      <td>400.0</td>\n",
       "      <td>0.001084</td>\n",
       "      <td>604.221134</td>\n",
       "      <td>604.654555</td>\n",
       "      <td>1.776455</td>\n",
       "      <td>0</td>\n",
       "      <td>twophase</td>\n",
       "    </tr>\n",
       "    <tr>\n",
       "      <th>9</th>\n",
       "      <td>53.969313</td>\n",
       "      <td>15.0</td>\n",
       "      <td>1.600418</td>\n",
       "      <td>580.648282</td>\n",
       "      <td>604.654555</td>\n",
       "      <td>1.912577</td>\n",
       "      <td>0.159636</td>\n",
       "      <td>twophase</td>\n",
       "    </tr>\n",
       "  </tbody>\n",
       "</table>"
      ],
      "text/plain": [
       "<IPython.core.display.HTML object>"
      ]
     },
     "metadata": {},
     "output_type": "display_data"
    }
   ],
   "source": [
    "#### State 1) $T_1$,$v_1$,$h_1$,$s_1$ from $p_1$ and $x_1$\n",
    "states.fix(1,water)\n",
    "\n",
    "#### 1-2) Non-ideal compression\n",
    "# Isentropic compression\n",
    "p['2s'] = p[2]\n",
    "s['2s'] = s[1]\n",
    "# Fix $2_s$ from $p_{2s}$ and $s_{2s}$\n",
    "states.fix('2s',water)\n",
    "\n",
    "# Actual compression\n",
    "h[2] = h[1] + (h['2s']-h[1])/eta_p\n",
    "# Fix $2$ with $h_2$ and $p_2$\n",
    "states.fix(2,water)\n",
    "\n",
    "#### 3-4) Isobaric heat addition\n",
    "# Fix state $4$ with $T_4$ and $p_4$\n",
    "states.fix(4,water)\n",
    "\n",
    "#### 4-5) Non-ideal expansion\n",
    "# Isentropic Expansion\n",
    "p['5s'] = p[5]\n",
    "s['5s'] = s[4]\n",
    "states.fix('5s',water)\n",
    "# Actual expansion\n",
    "h[5] = h[4] - eta_t*(h[4]-h['5s'])\n",
    "# Fix state $5$ with $p_5$ and $h_5$\n",
    "states.fix(5,water)\n",
    "\n",
    "#### 5-6) Reheat - Isobaric heat addition\n",
    "# Fix state $6$ with $T_6$ and $p_6$\n",
    "states.fix(6,water)\n",
    "\n",
    "#### 6-7) Non-ideal expansion\n",
    "# Isentropic Expansion\n",
    "p['7s'] = p[7]\n",
    "s['7s'] = s[6]\n",
    "h['7s'] = water.h(p['7s'],s['7s'])\n",
    "states.fix('7s',water)\n",
    "# Actual expansion\n",
    "h[7] = h[6] - eta_t*(h[6]-h['7s'])\n",
    "states.fix(7,water)\n",
    "\n",
    "#### CFH Analysis\n",
    "# State 8 fixed by $x_8$, $p_8$\n",
    "states.fix(8,water)\n",
    "# Heat exchanger effectiveness\n",
    "q_2_to_3_max = h[8]-h[2]\n",
    "q_2_to_3 = epsilon_regen*(q_2_to_3_max)\n",
    "h[3] = h[2] + q_2_to_3\n",
    "states.fix(3,water)\n",
    "y = (h[3]-h[2])/(h[5]-h[8])\n",
    "\n",
    "#### Throttle regenerator flow to condensor pressure\n",
    "# Isenthalpic expansion \n",
    "h[9] = h[8]\n",
    "states.fix(9,water)\n",
    "\n",
    "#### Work \n",
    "w_1_to_2 = h[1]-h[2]\n",
    "w_4_to_5 = h[4]-h[5]\n",
    "w_6_to_7 = (1-y)*(h[6]-h[7])\n",
    "w_net = w_1_to_2 + w_4_to_5 + w_6_to_7\n",
    "\n",
    "Calculations()\n",
    "Summary();"
   ]
  },
  {
   "cell_type": "markdown",
   "metadata": {},
   "source": [
    "#### (b) Thermal efficiency"
   ]
  },
  {
   "cell_type": "code",
   "execution_count": 5,
   "metadata": {
    "collapsed": false,
    "jupyter": {
     "outputs_hidden": false
    }
   },
   "outputs": [
    {
     "data": {
      "text/markdown": [
       "### Boiler First Law"
      ],
      "text/plain": [
       "<IPython.core.display.Markdown object>"
      ]
     },
     "metadata": {},
     "output_type": "display_data"
    },
    {
     "data": {
      "text/latex": [
       "\\begin{aligned}\n",
       "  q_{in} &=   h_{4} - h_{3}  +  \\left(  1 - y  \\right)  \\cdot  \\left(  h_{6} - h_{5}  \\right)  \\\\\n",
       "    &=  3569.7\\ \\frac{\\mathrm{kJ}}{\\mathrm{kg}} - 567.29\\ \\frac{\\mathrm{kJ}}{\\mathrm{kg}}  +  \\left(  1 - 0.13564\\  \\right)  \\cdot  \\left(  3593.6\\ \\frac{\\mathrm{kJ}}{\\mathrm{kg}} - 3084.0\\ \\frac{\\mathrm{kJ}}{\\mathrm{kg}}  \\right) \\\\\n",
       "    &= 3442.8\\ \\frac{\\mathrm{kJ}}{\\mathrm{kg}}\n",
       "\\end{aligned}\n"
      ],
      "text/plain": [
       "<IPython.core.display.Latex object>"
      ]
     },
     "metadata": {},
     "output_type": "display_data"
    },
    {
     "data": {
      "text/markdown": [
       "### Thermal efficiency"
      ],
      "text/plain": [
       "<IPython.core.display.Markdown object>"
      ]
     },
     "metadata": {},
     "output_type": "display_data"
    },
    {
     "data": {
      "text/latex": [
       "\\begin{aligned}\n",
       "  \\eta_{th} &=  \\frac{ w_{net} }{ q_{in} } \\\\\n",
       "    &= \\frac{ 1089.7\\ \\frac{\\mathrm{kJ}}{\\mathrm{kg}} }{ 3442.8\\ \\frac{\\mathrm{kJ}}{\\mathrm{kg}} }\\\\\n",
       "    &= 0.31651\\\n",
       "\\end{aligned}\n"
      ],
      "text/plain": [
       "<IPython.core.display.Latex object>"
      ]
     },
     "metadata": {},
     "output_type": "display_data"
    }
   ],
   "source": [
    "#### Boiler First Law\n",
    "q_in = h[4]-h[3] + (1-y)*(h[6]-h[5])\n",
    "\n",
    "#### Thermal efficiency\n",
    "eta_th = w_net/q_in\n",
    "eta_th.ito('') \n",
    "\n",
    "Calculations();"
   ]
  },
  {
   "cell_type": "markdown",
   "metadata": {},
   "source": [
    "#### (d) Diagrams"
   ]
  },
  {
   "cell_type": "code",
   "execution_count": 6,
   "metadata": {
    "collapsed": false,
    "jupyter": {
     "outputs_hidden": false
    }
   },
   "outputs": [
    {
     "data": {
      "image/png": "[encoded data removed]",
      "text/plain": [
       "<Figure size 1200x800 with 1 Axes>"
      ]
     },
     "metadata": {
      "needs_background": "light"
     },
     "output_type": "display_data"
    }
   ],
   "source": [
    "pv = water.pv_diagram()\n",
    "\n",
    "pv.plot_state(states[1],label_loc='south east')\n",
    "pv.plot_state(states[2],label_loc='north west')\n",
    "pv.plot_state(states[3],label_loc='south east')\n",
    "pv.plot_state(states[4],label_loc='north west')\n",
    "pv.plot_state(states[5],label_loc='south')\n",
    "pv.plot_state(states[6],label_loc='north')\n",
    "pv.plot_state(states[7],label_loc='north east')\n",
    "pv.plot_state(states[8],label_loc='northeast')\n",
    "pv.plot_state(states[9])\n",
    "\n",
    "pv.plot_process(states[1],states[2],path='nonideal')\n",
    "pv.plot_process(states[1],states['2s'],path='isentropic',linestyle='dashed',arrow=False)\n",
    "pv.plot_process(states[2],states[3],path='isobaric',arrow=False)\n",
    "pv.plot_process(states[3],states[4],path='isobaric',label='$\\dot{m}$')\n",
    "pv.plot_process(states[4],states[5],path='nonideal')\n",
    "pv.plot_process(states[4],states['5s'],path='isentropic',linestyle='dashed',arrow=False)\n",
    "pv.plot_process(states[5],states[6],path='isobaric')\n",
    "pv.plot_process(states[6],states[7],path='nonideal')\n",
    "pv.plot_process(states[6],states['7s'],path='isentropic',linestyle='dashed',arrow=False)\n",
    "pv.plot_process(states[7],states[9],path='isobaric',label='$\\dot{m}(1-y)$',labelprops=dict(va='top'))\n",
    "pv.plot_process(states[5],states[8],path='isobaric',label='$\\dot{m}y$')\n",
    "pv.plot_process(states[8],states[9],path='isenthalpic',label='$\\dot{m}y$')\n",
    "pv.plot_process(states[9],states[1],path='isobaric',label='$\\dot{m}$');\n"
   ]
  }
 ],
 "metadata": {
  "kernelspec": {
   "display_name": "Python 3",
   "language": "python",
   "name": "python3"
  },
  "language_info": {
   "codemirror_mode": {
    "name": "ipython",
    "version": 3
   },
   "file_extension": ".py",
   "mimetype": "text/x-python",
   "name": "python",
   "nbconvert_exporter": "python",
   "pygments_lexer": "ipython3",
   "version": "3.8.5"
  }
 },
 "nbformat": 4,
 "nbformat_minor": 4
}
