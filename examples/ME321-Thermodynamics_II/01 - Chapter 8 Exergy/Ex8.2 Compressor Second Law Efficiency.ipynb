{
 "cells": [
  {
   "cell_type": "markdown",
   "metadata": {},
   "source": [
    "# Example 8.2: Compressor Second Law Efficiency\n",
    "\n",
    "*John F. Maddox, Ph.D., P.E.<br>\n",
    "University of Kentucky - Paducah Campus<br>\n",
    "ME 321: Engineering Thermodynamics II<br>*"
   ]
  },
  {
   "cell_type": "markdown",
   "metadata": {},
   "source": [
    "## Problem Statement\n",
    "An air compressor has an isentropic efficiency of 80% and operates in a SSSF configuration with negligible changes in kinetic and potential energy.  It receives a volumetric flow rate of 3000 CFM with an inlet pressure of $p_1=14.7\\,\\text{psia}$ and inlet temperature of $T_1=70^\\circ\\text{F}$.  It compresses the air by a factor of 10.  The ambient temperature is $T_0=70^\\circ\\text{F}$.\n",
    "* (a) Rate of compressor work, Hp\n",
    "* (b) Rate of entropy generation, $\\mathrm{Btu/min^\\circ\\text{R}}$\n",
    "* (c) The reversible work, Hp\n",
    "* (d) The second law efficiency"
   ]
  },
  {
   "cell_type": "markdown",
   "metadata": {},
   "source": [
    "## Solution\n",
    "\n",
    "__[Video Explanation](https://uky.yuja.com/V/Video?v=3071313&node=10458708&a=433290350&autoplay=1)__"
   ]
  },
  {
   "cell_type": "markdown",
   "metadata": {},
   "source": [
    "### Python Initialization\n",
    "We'll start by importing the libraries we will use for our analysis and initializing dictionaries to hold the properties we will be usings."
   ]
  },
  {
   "cell_type": "code",
   "execution_count": 1,
   "metadata": {
    "collapsed": false,
    "jupyter": {
     "outputs_hidden": false
    }
   },
   "outputs": [],
   "source": [
    "from math import log\n",
    "from kilojoule.templates.USCS_R import *\n",
    "air = idealgas.Properties('Air',unit_system=\"USCS_R\")"
   ]
  },
  {
   "cell_type": "markdown",
   "metadata": {},
   "source": [
    "### Given Parameters\n",
    "We now define variables to hold our known values."
   ]
  },
  {
   "cell_type": "code",
   "execution_count": 2,
   "metadata": {
    "collapsed": false,
    "jupyter": {
     "outputs_hidden": false
    }
   },
   "outputs": [
    {
     "data": {
      "text/latex": [
       "\\begin{aligned}\n",
       "  T_{0} &=  70\\ \\mathrm{°F}  = 529.67\\ \\mathrm{°R} \n",
       "\\end{aligned}\n"
      ],
      "text/plain": [
       "<IPython.core.display.Latex object>"
      ]
     },
     "metadata": {},
     "output_type": "display_data"
    },
    {
     "data": {
      "text/latex": [
       "\\begin{aligned}\n",
       "  p_{0} &=  1\\ \\mathrm{atm}  = 14.696\\ \\mathrm{psi} \n",
       "\\end{aligned}\n"
      ],
      "text/plain": [
       "<IPython.core.display.Latex object>"
      ]
     },
     "metadata": {},
     "output_type": "display_data"
    },
    {
     "data": {
      "text/latex": [
       "\\begin{aligned}\n",
       "  \\dot{V}_{1} &=  3000\\ \\mathrm{cfm}  = 50.0\\ \\frac{\\mathrm{ft}^{3}}{\\mathrm{s}} \n",
       "\\end{aligned}\n"
      ],
      "text/plain": [
       "<IPython.core.display.Latex object>"
      ]
     },
     "metadata": {},
     "output_type": "display_data"
    },
    {
     "data": {
      "text/latex": [
       "\\begin{aligned}\n",
       "  p_{1} &=  14.7\\ \\mathrm{psi} \n",
       "\\end{aligned}\n"
      ],
      "text/plain": [
       "<IPython.core.display.Latex object>"
      ]
     },
     "metadata": {},
     "output_type": "display_data"
    },
    {
     "data": {
      "text/latex": [
       "\\begin{aligned}\n",
       "  T_{1} &=  70\\ \\mathrm{°F}  = 529.67\\ \\mathrm{°R} \n",
       "\\end{aligned}\n"
      ],
      "text/plain": [
       "<IPython.core.display.Latex object>"
      ]
     },
     "metadata": {},
     "output_type": "display_data"
    },
    {
     "data": {
      "text/latex": [
       "\\begin{aligned}\n",
       "  p_{2} &=   10  \\cdot  p_{1}  \\\\\n",
       "    &=  10  \\cdot  14.7\\ \\mathrm{psi} \\\\\n",
       "    &= 147.0\\ \\mathrm{psi}\n",
       "\\end{aligned}\n"
      ],
      "text/plain": [
       "<IPython.core.display.Latex object>"
      ]
     },
     "metadata": {},
     "output_type": "display_data"
    },
    {
     "data": {
      "text/latex": [
       "\\begin{aligned}\n",
       "  \\eta_{c} &=  0.8\\  = { 0.8\\ } \n",
       "\\end{aligned}\n"
      ],
      "text/plain": [
       "<IPython.core.display.Latex object>"
      ]
     },
     "metadata": {},
     "output_type": "display_data"
    }
   ],
   "source": [
    "T[0] = Quantity(70,'degF')     # ambient temperature\n",
    "p[0] = Quantity(1,'atm')       # assumed atmospheric pressure\n",
    "Vdot[1] = Quantity(3000,'cfm') # volumetric flow rate\n",
    "p[1] = Quantity(14.7,'psi')    # inlet pressure\n",
    "T[1] = Quantity(70,'degF')     # inlet temperature\n",
    "p[2] = 10*p[1]                 # exit pressure\n",
    "eta_c = Quantity(.8,'')        # isentropic efficiency\n",
    "\n",
    "Calculations();"
   ]
  },
  {
   "cell_type": "markdown",
   "metadata": {},
   "source": [
    "### Assumptions\n",
    "  - Negligible changes in kinetic energy\n",
    "  - Negligible changes in potential energy\n",
    "  - Ideal gas\n",
    "  - Constant specific heat"
   ]
  },
  {
   "cell_type": "code",
   "execution_count": 3,
   "metadata": {
    "collapsed": false,
    "jupyter": {
     "outputs_hidden": false
    }
   },
   "outputs": [
    {
     "data": {
      "text/markdown": [
       " Ideal Gas"
      ],
      "text/plain": [
       "<IPython.core.display.Markdown object>"
      ]
     },
     "metadata": {},
     "output_type": "display_data"
    },
    {
     "data": {
      "text/latex": [
       "\\begin{aligned}\n",
       "  R &=  \\underset{air}{R}  = { 0.068561\\ \\frac{\\mathrm{Btu}}{\\left(\\mathrm{lb} \\cdot \\mathrm{°R}\\right)} } \n",
       "\\end{aligned}\n"
      ],
      "text/plain": [
       "<IPython.core.display.Latex object>"
      ]
     },
     "metadata": {},
     "output_type": "display_data"
    },
    {
     "data": {
      "text/markdown": [
       " Constant thermal properties at room temperature"
      ],
      "text/plain": [
       "<IPython.core.display.Markdown object>"
      ]
     },
     "metadata": {},
     "output_type": "display_data"
    },
    {
     "data": {
      "text/latex": [
       "\\begin{aligned}\n",
       "  T_{room} &=  25\\ \\mathrm{°C}  = { 25\\ \\mathrm{°C} } \n",
       "\\end{aligned}\n"
      ],
      "text/plain": [
       "<IPython.core.display.Latex object>"
      ]
     },
     "metadata": {},
     "output_type": "display_data"
    },
    {
     "data": {
      "text/latex": [
       "\\begin{aligned}\n",
       "  c_{p} &=  \\mathrm{ \\underset{air}{cp} }\\left( T_{room} \\right) \\\\\n",
       "    &= \\mathrm{ \\underset{air}{cp} }\\left( { 25\\ \\mathrm{°C} } \\right)\\\\\n",
       "    &= { 0.23998\\ \\frac{\\mathrm{Btu}}{\\left(\\mathrm{lb} \\cdot \\mathrm{°R}\\right)} }\n",
       "\\end{aligned}\n"
      ],
      "text/plain": [
       "<IPython.core.display.Latex object>"
      ]
     },
     "metadata": {},
     "output_type": "display_data"
    },
    {
     "data": {
      "text/latex": [
       "\\begin{aligned}\n",
       "  k &=  \\mathrm{ \\underset{air}{k} }\\left( T_{room} \\right) \\\\\n",
       "    &= \\mathrm{ \\underset{air}{k} }\\left( { 25\\ \\mathrm{°C} } \\right)\\\\\n",
       "    &= { 1.4\\ }\n",
       "\\end{aligned}\n"
      ],
      "text/plain": [
       "<IPython.core.display.Latex object>"
      ]
     },
     "metadata": {},
     "output_type": "display_data"
    }
   ],
   "source": [
    "# Ideal Gas\n",
    "R = air.R   # specific gas constant\n",
    "\n",
    "# Constant thermal properties at room temperature\n",
    "T_room = Quantity(25,'degC') # room temperature\n",
    "c_p = air.cp(T_room)   # constant pressure specific heat at room temperature\n",
    "k = air.k(T_room)      # specific heat ratio at room temperature\n",
    "\n",
    "Calculations();"
   ]
  },
  {
   "cell_type": "markdown",
   "metadata": {},
   "source": [
    "### (a) Rate of Compressor work, HP"
   ]
  },
  {
   "cell_type": "code",
   "execution_count": 4,
   "metadata": {
    "collapsed": false,
    "jupyter": {
     "outputs_hidden": false
    }
   },
   "outputs": [
    {
     "data": {
      "text/markdown": [
       " Ideal gas law to get mass flow rate"
      ],
      "text/plain": [
       "<IPython.core.display.Markdown object>"
      ]
     },
     "metadata": {},
     "output_type": "display_data"
    },
    {
     "data": {
      "text/latex": [
       "\\begin{aligned}\n",
       "  \\dot{m} &=  \\frac{  p_{1}  \\cdot  \\dot{V}_{1}  }{  R  \\cdot  T_{1}  } \\\\\n",
       "    &= \\frac{  14.7\\ \\mathrm{psi}  \\cdot  50.0\\ \\frac{\\mathrm{ft}^{3}}{\\mathrm{s}}  }{  { 0.068561\\ \\frac{\\mathrm{Btu}}{\\left(\\mathrm{lb} \\cdot \\mathrm{°R}\\right)} }  \\cdot  529.67\\ \\mathrm{°R}  }\\\\\n",
       "    &= { 224.72\\ \\frac{\\mathrm{lb}}{\\mathrm{min}} }\n",
       "\\end{aligned}\n"
      ],
      "text/plain": [
       "<IPython.core.display.Latex object>"
      ]
     },
     "metadata": {},
     "output_type": "display_data"
    },
    {
     "data": {
      "text/markdown": [
       " Isentropic exit state"
      ],
      "text/plain": [
       "<IPython.core.display.Markdown object>"
      ]
     },
     "metadata": {},
     "output_type": "display_data"
    },
    {
     "data": {
      "text/latex": [
       "\\begin{aligned}\n",
       "  p_{2s} &=  p_{2}  = 147.0\\ \\mathrm{psi} \n",
       "\\end{aligned}\n"
      ],
      "text/plain": [
       "<IPython.core.display.Latex object>"
      ]
     },
     "metadata": {},
     "output_type": "display_data"
    },
    {
     "data": {
      "text/latex": [
       "\\begin{aligned}\n",
       "  T_{2s} &=   T_{1}  \\cdot  \\left( \\left(\\frac{ p_{2} }{ p_{1} }\\right)^\\frac{  k - 1  }{ k } \\right)  \\\\\n",
       "    &=  529.67\\ \\mathrm{°R}  \\cdot  \\left( \\left(\\frac{ 147.0\\ \\mathrm{psi} }{ 14.7\\ \\mathrm{psi} }\\right)^\\frac{  { 1.4\\ } - 1  }{ { 1.4\\ } } \\right) \\\\\n",
       "    &= 1022.6\\ \\mathrm{°R}\n",
       "\\end{aligned}\n"
      ],
      "text/plain": [
       "<IPython.core.display.Latex object>"
      ]
     },
     "metadata": {},
     "output_type": "display_data"
    },
    {
     "data": {
      "text/markdown": [
       " Compressor work"
      ],
      "text/plain": [
       "<IPython.core.display.Markdown object>"
      ]
     },
     "metadata": {},
     "output_type": "display_data"
    },
    {
     "data": {
      "text/latex": [
       "\\begin{aligned}\n",
       "  \\dot{W}_{c} &=  \\frac{  \\left(  \\dot{m}  \\cdot  c_{p}  \\right)  \\cdot  \\left(  T_{2s} - T_{1}  \\right)  }{ \\eta_{c} } \\\\\n",
       "    &= \\frac{  \\left(  { 224.72\\ \\frac{\\mathrm{lb}}{\\mathrm{min}} }  \\cdot  { 0.23998\\ \\frac{\\mathrm{Btu}}{\\left(\\mathrm{lb} \\cdot \\mathrm{°R}\\right)} }  \\right)  \\cdot  \\left(  1022.6\\ \\mathrm{°R} - 529.67\\ \\mathrm{°R}  \\right)  }{ { 0.8\\ } }\\\\\n",
       "    &= { 783.55\\ \\mathrm{hp} }\n",
       "\\end{aligned}\n"
      ],
      "text/plain": [
       "<IPython.core.display.Latex object>"
      ]
     },
     "metadata": {},
     "output_type": "display_data"
    }
   ],
   "source": [
    "# Ideal gas law to get mass flow rate\n",
    "mdot= p[1]*Vdot[1]/(R*T[1].to('degR'))\n",
    "mdot = mdot.to('lb/min') # hide\n",
    "\n",
    "# Isentropic exit state\n",
    "p['2s'] = p[2]\n",
    "T['2s'] = T[1].to('degR')*(p[2]/p[1])**((k-1)/k)\n",
    "\n",
    "# Compressor work\n",
    "Wdot_c = mdot*c_p*(T['2s']-T[1])/eta_c\n",
    "Wdot_c.ito('hp') \n",
    "\n",
    "Calculations();"
   ]
  },
  {
   "cell_type": "markdown",
   "metadata": {},
   "source": [
    "### (b) Rate of entropy generation"
   ]
  },
  {
   "cell_type": "code",
   "execution_count": 5,
   "metadata": {
    "collapsed": false,
    "jupyter": {
     "outputs_hidden": false
    }
   },
   "outputs": [
    {
     "data": {
      "text/markdown": [
       " Exit temperature"
      ],
      "text/plain": [
       "<IPython.core.display.Markdown object>"
      ]
     },
     "metadata": {},
     "output_type": "display_data"
    },
    {
     "data": {
      "text/latex": [
       "\\begin{aligned}\n",
       "  T_{2} &=  T_{1} + \\frac{ \\dot{W}_{c} }{  \\dot{m}  \\cdot  c_{p}  } \\\\\n",
       "    &= 529.67\\ \\mathrm{°R} + \\frac{ { 783.55\\ \\mathrm{hp} } }{  { 224.72\\ \\frac{\\mathrm{lb}}{\\mathrm{min}} }  \\cdot  { 0.23998\\ \\frac{\\mathrm{Btu}}{\\left(\\mathrm{lb} \\cdot \\mathrm{°R}\\right)} }  }\\\\\n",
       "    &= 1145.8\\ \\mathrm{°R}\n",
       "\\end{aligned}\n"
      ],
      "text/plain": [
       "<IPython.core.display.Latex object>"
      ]
     },
     "metadata": {},
     "output_type": "display_data"
    },
    {
     "data": {
      "text/markdown": [
       " 2nd Law"
      ],
      "text/plain": [
       "<IPython.core.display.Markdown object>"
      ]
     },
     "metadata": {},
     "output_type": "display_data"
    },
    {
     "data": {
      "text/latex": [
       "\\begin{aligned}\n",
       "  \\dot{S}_{gen} &=   \\dot{m}  \\cdot  \\left(   c_{p}  \\cdot  \\mathrm{ log }\\left( \\frac{ T_{2} }{ T_{1} } \\right)  -  \\left(  R  \\cdot  \\mathrm{ log }\\left( \\frac{ p_{2} }{ p_{1} } \\right)  \\right)  \\right)  \\\\\n",
       "    &=  { 224.72\\ \\frac{\\mathrm{lb}}{\\mathrm{min}} }  \\cdot  \\left(   { 0.23998\\ \\frac{\\mathrm{Btu}}{\\left(\\mathrm{lb} \\cdot \\mathrm{°R}\\right)} }  \\cdot  \\mathrm{ log }\\left( \\frac{ 1145.8\\ \\mathrm{°R} }{ 529.67\\ \\mathrm{°R} } \\right)  - \\left(  { 0.068561\\ \\frac{\\mathrm{Btu}}{\\left(\\mathrm{lb} \\cdot \\mathrm{°R}\\right)} }  \\cdot  \\mathrm{ log }\\left( \\frac{ 147.0\\ \\mathrm{psi} }{ 14.7\\ \\mathrm{psi} } \\right)  \\right)  \\right) \\\\\n",
       "    &= { 6.136\\ \\frac{\\mathrm{Btu}}{\\left(\\mathrm{min} \\cdot \\mathrm{°R}\\right)} }\n",
       "\\end{aligned}\n"
      ],
      "text/plain": [
       "<IPython.core.display.Latex object>"
      ]
     },
     "metadata": {},
     "output_type": "display_data"
    }
   ],
   "source": [
    "# Exit temperature\n",
    "T[2] = T[1].to('degR') + Wdot_c/(mdot*c_p)\n",
    "\n",
    "# 2nd Law\n",
    "Sdot_gen = mdot*(c_p*log(T[2]/T[1]) - R*log(p[2]/p[1]))\n",
    "Sdot_gen.ito('Btu/min/degR')\n",
    "\n",
    "Calculations();"
   ]
  },
  {
   "cell_type": "markdown",
   "metadata": {},
   "source": [
    "### (c) Reversible work"
   ]
  },
  {
   "cell_type": "code",
   "execution_count": 6,
   "metadata": {
    "collapsed": false,
    "jupyter": {
     "outputs_hidden": false
    }
   },
   "outputs": [
    {
     "data": {
      "text/latex": [
       "\\begin{aligned}\n",
       "  \\dot{W}_{Rev} &=   \\dot{W}_{c} -  \\left(  T_{0}  \\cdot  \\dot{S}_{gen}  \\right)  \\\\\n",
       "    &=  { 783.55\\ \\mathrm{hp} } - \\left(  529.67\\ \\mathrm{°R}  \\cdot  { 6.136\\ \\frac{\\mathrm{Btu}}{\\left(\\mathrm{min} \\cdot \\mathrm{°R}\\right)} }  \\right) \\\\\n",
       "    &= { 706.91\\ \\mathrm{hp} }\n",
       "\\end{aligned}\n"
      ],
      "text/plain": [
       "<IPython.core.display.Latex object>"
      ]
     },
     "metadata": {},
     "output_type": "display_data"
    }
   ],
   "source": [
    "Wdot_Rev = Wdot_c - T[0].to('degR')*Sdot_gen\n",
    "\n",
    "Calculations();"
   ]
  },
  {
   "cell_type": "markdown",
   "metadata": {},
   "source": [
    "### (d) Second Law Efficiency"
   ]
  },
  {
   "cell_type": "code",
   "execution_count": 7,
   "metadata": {
    "collapsed": false,
    "jupyter": {
     "outputs_hidden": false
    }
   },
   "outputs": [
    {
     "data": {
      "text/markdown": [
       " Flow exergies"
      ],
      "text/plain": [
       "<IPython.core.display.Markdown object>"
      ]
     },
     "metadata": {},
     "output_type": "display_data"
    },
    {
     "data": {
      "text/latex": [
       "\\begin{aligned}\n",
       "  \\psi_{1} &=    c_{p}  \\cdot  \\left(  T_{1} - T_{0}  \\right)  -  \\left(  T_{0}  \\cdot  \\left(   c_{p}  \\cdot  \\mathrm{ log }\\left( \\frac{ T_{1} }{ T_{0} } \\right)  -  \\left(  R  \\cdot  \\mathrm{ log }\\left( \\frac{ p_{1} }{ p_{0} } \\right)  \\right)  \\right)  \\right)  \\\\\n",
       "    &=   { 0.23998\\ \\frac{\\mathrm{Btu}}{\\left(\\mathrm{lb} \\cdot \\mathrm{°R}\\right)} }  \\cdot  \\left(  529.67\\ \\mathrm{°R} - 529.67\\ \\mathrm{°R}  \\right)  - \\left(  529.67\\ \\mathrm{°R}  \\cdot  \\left(   { 0.23998\\ \\frac{\\mathrm{Btu}}{\\left(\\mathrm{lb} \\cdot \\mathrm{°R}\\right)} }  \\cdot  \\mathrm{ log }\\left( \\frac{ 529.67\\ \\mathrm{°R} }{ 529.67\\ \\mathrm{°R} } \\right)  - \\left(  { 0.068561\\ \\frac{\\mathrm{Btu}}{\\left(\\mathrm{lb} \\cdot \\mathrm{°R}\\right)} }  \\cdot  \\mathrm{ log }\\left( \\frac{ 14.7\\ \\mathrm{psi} }{ 14.696\\ \\mathrm{psi} } \\right)  \\right)  \\right)  \\right) \\\\\n",
       "    &= 0.01001\\ \\frac{\\mathrm{Btu}}{\\mathrm{lb}}\n",
       "\\end{aligned}\n"
      ],
      "text/plain": [
       "<IPython.core.display.Latex object>"
      ]
     },
     "metadata": {},
     "output_type": "display_data"
    },
    {
     "data": {
      "text/latex": [
       "\\begin{aligned}\n",
       "  \\psi_{2} &=    c_{p}  \\cdot  \\left(  T_{2} - T_{0}  \\right)  -  \\left(  T_{0}  \\cdot  \\left(   c_{p}  \\cdot  \\mathrm{ log }\\left( \\frac{ T_{2} }{ T_{0} } \\right)  -  \\left(  R  \\cdot  \\mathrm{ log }\\left( \\frac{ p_{2} }{ p_{0} } \\right)  \\right)  \\right)  \\right)  \\\\\n",
       "    &=   { 0.23998\\ \\frac{\\mathrm{Btu}}{\\left(\\mathrm{lb} \\cdot \\mathrm{°R}\\right)} }  \\cdot  \\left(  1145.8\\ \\mathrm{°R} - 529.67\\ \\mathrm{°R}  \\right)  - \\left(  529.67\\ \\mathrm{°R}  \\cdot  \\left(   { 0.23998\\ \\frac{\\mathrm{Btu}}{\\left(\\mathrm{lb} \\cdot \\mathrm{°R}\\right)} }  \\cdot  \\mathrm{ log }\\left( \\frac{ 1145.8\\ \\mathrm{°R} }{ 529.67\\ \\mathrm{°R} } \\right)  - \\left(  { 0.068561\\ \\frac{\\mathrm{Btu}}{\\left(\\mathrm{lb} \\cdot \\mathrm{°R}\\right)} }  \\cdot  \\mathrm{ log }\\left( \\frac{ 147.0\\ \\mathrm{psi} }{ 14.696\\ \\mathrm{psi} } \\right)  \\right)  \\right)  \\right) \\\\\n",
       "    &= 133.41\\ \\frac{\\mathrm{Btu}}{\\mathrm{lb}}\n",
       "\\end{aligned}\n"
      ],
      "text/plain": [
       "<IPython.core.display.Latex object>"
      ]
     },
     "metadata": {},
     "output_type": "display_data"
    },
    {
     "data": {
      "text/markdown": [
       " Exergy recovered"
      ],
      "text/plain": [
       "<IPython.core.display.Markdown object>"
      ]
     },
     "metadata": {},
     "output_type": "display_data"
    },
    {
     "data": {
      "text/latex": [
       "\\begin{aligned}\n",
       "  \\dot{X}_{Recovered} &=   \\dot{m}  \\cdot  \\left(  \\psi_{2} - \\psi_{1}  \\right)  \\\\\n",
       "    &=  { 224.72\\ \\frac{\\mathrm{lb}}{\\mathrm{min}} }  \\cdot  \\left(  133.41\\ \\frac{\\mathrm{Btu}}{\\mathrm{lb}} - 0.01001\\ \\frac{\\mathrm{Btu}}{\\mathrm{lb}}  \\right) \\\\\n",
       "    &= { 706.91\\ \\mathrm{hp} }\n",
       "\\end{aligned}\n"
      ],
      "text/plain": [
       "<IPython.core.display.Latex object>"
      ]
     },
     "metadata": {},
     "output_type": "display_data"
    },
    {
     "data": {
      "text/markdown": [
       " Exergy expended"
      ],
      "text/plain": [
       "<IPython.core.display.Markdown object>"
      ]
     },
     "metadata": {},
     "output_type": "display_data"
    },
    {
     "data": {
      "text/latex": [
       "\\begin{aligned}\n",
       "  \\dot{X}_{Expended} &=  \\dot{W}_{c}  = { 783.55\\ \\mathrm{hp} } \n",
       "\\end{aligned}\n"
      ],
      "text/plain": [
       "<IPython.core.display.Latex object>"
      ]
     },
     "metadata": {},
     "output_type": "display_data"
    },
    {
     "data": {
      "text/markdown": [
       " 2nd Law efficiency"
      ],
      "text/plain": [
       "<IPython.core.display.Markdown object>"
      ]
     },
     "metadata": {},
     "output_type": "display_data"
    },
    {
     "data": {
      "text/latex": [
       "\\begin{aligned}\n",
       "  \\eta_{II} &=  \\frac{ \\dot{X}_{Recovered} }{ \\dot{X}_{Expended} } \\\\\n",
       "    &= \\frac{ { 706.91\\ \\mathrm{hp} } }{ { 783.55\\ \\mathrm{hp} } }\\\\\n",
       "    &= { 0.90219\\ }\n",
       "\\end{aligned}\n"
      ],
      "text/plain": [
       "<IPython.core.display.Latex object>"
      ]
     },
     "metadata": {},
     "output_type": "display_data"
    }
   ],
   "source": [
    "# Flow exergies\n",
    "psi[1] = c_p*(T[1]-T[0]) - T[0]*(c_p*log(T[1]/T[0]) - R*log(p[1]/p[0]))\n",
    "psi[2] = c_p*(T[2]-T[0]) - T[0]*(c_p*log(T[2]/T[0]) - R*log(p[2]/p[0]))\n",
    "\n",
    "# Exergy recovered\n",
    "Xdot_Recovered = mdot*(psi[2]-psi[1])\n",
    "Xdot_Recovered = (Xdot_Recovered).to('hp') # hide\n",
    "\n",
    "# Exergy expended\n",
    "Xdot_Expended = Wdot_c\n",
    "\n",
    "# 2nd Law efficiency\n",
    "eta_II = Xdot_Recovered/Xdot_Expended\n",
    "\n",
    "Calculations();"
   ]
  },
  {
   "cell_type": "code",
   "execution_count": 8,
   "metadata": {
    "collapsed": false,
    "jupyter": {
     "outputs_hidden": false
    }
   },
   "outputs": [
    {
     "data": {
      "text/markdown": [
       " 2nd Law efficiency: Alternate Method"
      ],
      "text/plain": [
       "<IPython.core.display.Markdown object>"
      ]
     },
     "metadata": {},
     "output_type": "display_data"
    },
    {
     "data": {
      "text/latex": [
       "\\begin{aligned}\n",
       "  \\eta_{II,Alt} &=   1 -  \\left( \\frac{  T_{0}  \\cdot  \\dot{S}_{gen}  }{ \\dot{X}_{Expended} } \\right)  \\\\\n",
       "    &=  1 - \\left( \\frac{  529.67\\ \\mathrm{°R}  \\cdot  { 6.136\\ \\frac{\\mathrm{Btu}}{\\left(\\mathrm{min} \\cdot \\mathrm{°R}\\right)} }  }{ { 783.55\\ \\mathrm{hp} } } \\right) \\\\\n",
       "    &= { 0.90219\\ }\n",
       "\\end{aligned}\n"
      ],
      "text/plain": [
       "<IPython.core.display.Latex object>"
      ]
     },
     "metadata": {},
     "output_type": "display_data"
    }
   ],
   "source": [
    "# 2nd Law efficiency: Alternate Method\n",
    "eta_II_Alt = 1 - T[0]*Sdot_gen/Xdot_Expended\n",
    "\n",
    "Calculations();"
   ]
  },
  {
   "cell_type": "code",
   "execution_count": 9,
   "metadata": {
    "collapsed": false,
    "jupyter": {
     "outputs_hidden": false
    }
   },
   "outputs": [
    {
     "data": {
      "text/latex": [
       "\\begin{aligned}{ R }&={ 0.068561\\ \\frac{\\mathrm{Btu}}{\\left(\\mathrm{lb} \\cdot \\mathrm{°R}\\right)} }&{ \\dot{S}_{gen} }&={ 6.136\\ \\frac{\\mathrm{Btu}}{\\left(\\mathrm{min} \\cdot \\mathrm{°R}\\right)} }&{ T_{room} }&={ 25\\ \\mathrm{°C} }\\\\{ \\dot{W}_{Rev} }&={ 706.91\\ \\mathrm{hp} }&{ \\dot{W}_{c} }&={ 783.55\\ \\mathrm{hp} }&{ \\dot{X}_{Expended} }&={ 783.55\\ \\mathrm{hp} }\\\\{ \\dot{X}_{Recovered} }&={ 706.91\\ \\mathrm{hp} }&{ c_{p} }&={ 0.23998\\ \\frac{\\mathrm{Btu}}{\\left(\\mathrm{lb} \\cdot \\mathrm{°R}\\right)} }&{ \\eta_{II} }&={ 0.90219\\ }\\\\{ \\eta_{II,Alt} }&={ 0.90219\\ }&{ \\eta_{c} }&={ 0.8\\ }&{ k }&={ 1.4\\ }\\\\{ \\dot{m} }&={ 224.72\\ \\frac{\\mathrm{lb}}{\\mathrm{min}} }&{  }\\end{aligned}"
      ],
      "text/plain": [
       "<IPython.core.display.Latex object>"
      ]
     },
     "metadata": {},
     "output_type": "display_data"
    },
    {
     "data": {
      "text/html": [
       "<table border=\"1\" class=\"dataframe\">\n",
       "  <thead>\n",
       "    <tr>\n",
       "      <th></th>\n",
       "      <th>T</th>\n",
       "      <th>p</th>\n",
       "      <th>Vdot</th>\n",
       "      <th>psi</th>\n",
       "    </tr>\n",
       "    <tr>\n",
       "      <th>unit</th>\n",
       "      <th>°R</th>\n",
       "      <th>psi</th>\n",
       "      <th>ft³/s</th>\n",
       "      <th>Btu/lb</th>\n",
       "    </tr>\n",
       "  </thead>\n",
       "  <tbody>\n",
       "    <tr>\n",
       "      <th>0</th>\n",
       "      <td>529.670000</td>\n",
       "      <td>14.695949</td>\n",
       "      <td>-</td>\n",
       "      <td>-</td>\n",
       "    </tr>\n",
       "    <tr>\n",
       "      <th>1</th>\n",
       "      <td>529.670000</td>\n",
       "      <td>14.700000</td>\n",
       "      <td>50</td>\n",
       "      <td>0.0100095</td>\n",
       "    </tr>\n",
       "    <tr>\n",
       "      <th>2</th>\n",
       "      <td>1145.834991</td>\n",
       "      <td>147.000000</td>\n",
       "      <td>-</td>\n",
       "      <td>133.412</td>\n",
       "    </tr>\n",
       "    <tr>\n",
       "      <th>2s</th>\n",
       "      <td>1022.601993</td>\n",
       "      <td>147.000000</td>\n",
       "      <td>-</td>\n",
       "      <td>-</td>\n",
       "    </tr>\n",
       "  </tbody>\n",
       "</table>"
      ],
      "text/plain": [
       "<IPython.core.display.HTML object>"
      ]
     },
     "metadata": {},
     "output_type": "display_data"
    },
    {
     "data": {
      "text/latex": [
       "\\begin{aligned}{ \\dot{W}_{c} }&={ 783.55\\ \\mathrm{hp} }\\\\{ \\dot{S}_{gen} }&={ 6.136\\ \\frac{\\mathrm{Btu}}{\\left(\\mathrm{min} \\cdot \\mathrm{°R}\\right)} }\\\\{ \\dot{W}_{Rev} }&={ 706.91\\ \\mathrm{hp} }\\\\{ \\eta_{II} }&={ 0.90219\\ }\\\\{  }\\end{aligned}"
      ],
      "text/plain": [
       "<IPython.core.display.Latex object>"
      ]
     },
     "metadata": {},
     "output_type": "display_data"
    }
   ],
   "source": [
    "Summary()\n",
    "Summary(['Wdot_c','Sdot_gen','Wdot_Rev','eta_II']);"
   ]
  },
  {
   "cell_type": "code",
   "execution_count": null,
   "metadata": {},
   "outputs": [],
   "source": []
  },
  {
   "cell_type": "code",
   "execution_count": null,
   "metadata": {},
   "outputs": [],
   "source": []
  }
 ],
 "metadata": {
  "kernelspec": {
   "display_name": "Python 3",
   "language": "python",
   "name": "python3"
  },
  "language_info": {
   "codemirror_mode": {
    "name": "ipython",
    "version": 3
   },
   "file_extension": ".py",
   "mimetype": "text/x-python",
   "name": "python",
   "nbconvert_exporter": "python",
   "pygments_lexer": "ipython3",
   "version": "3.8.5"
  }
 },
 "nbformat": 4,
 "nbformat_minor": 4
}
