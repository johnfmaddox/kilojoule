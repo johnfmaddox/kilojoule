{
 "cells": [
  {
   "cell_type": "markdown",
   "metadata": {},
   "source": [
    "# Example 8.3: Heat Exchanger Exergy Analysis\n",
    "\n",
    "*John F. Maddox, Ph.D., P.E.<br>\n",
    "University of Kentucky - Paducah Campus<br>\n",
    "ME 321: Engineering Thermodynamics II<br>*\n",
    "\n",
    "\n"
   ]
  },
  {
   "cell_type": "markdown",
   "metadata": {},
   "source": [
    "## Problem Statement\n",
    "A non-mixing heat exchanger is used to cool 20 kg/s of hot air from 500 K to 300 K using a supply of liquid water at $10^\\circ\\text{C}$.  The exit temperature of the water is $5^\\circ\\text{C}$ hotter than its inlet temperature.  The ambient temperature and pressure are $T_0=20^\\circ\\text{C}$ and $p_0=1\\,\\text{bar}$.\n",
    "\n",
    "Determine:\n",
    "* (a) The mass flow rate of the water, $\\text{kg/s}$\n",
    "* (b) The rate of heat transfer, $\\text{kW}$\n",
    "* (c) The entropy generation, $\\text{kW/K}$\n",
    "* (d) The exergy destruction, $\\text{kW}$\n",
    "* (e) The second law efficiency\n",
    "* (f) The second law efficiency if the cooling water entered at $20^\\circ\\text{C}$ instead of $10^\\circ\\text{C}$\n"
   ]
  },
  {
   "cell_type": "markdown",
   "metadata": {},
   "source": [
    "## Solution\n"
   ]
  },
  {
   "cell_type": "markdown",
   "metadata": {},
   "source": [
    "### Python Initialization\n",
    "We'll start by importing the libraries we will use for our analysis and initializing dictionaries to hold the properties we will be usings."
   ]
  },
  {
   "cell_type": "code",
   "execution_count": 1,
   "metadata": {
    "collapsed": false,
    "jupyter": {
     "outputs_hidden": false
    }
   },
   "outputs": [],
   "source": [
    "from thermoJFM import realfluid, idealgas, Q_, StatesTable, display\n",
    "\n",
    "properties_dict = {\n",
    "    'T':'K',\n",
    "    'p':'kPa',\n",
    "    'h':'kJ/kg',\n",
    "    's':'kJ/kg/K',\n",
    "    'mdot':'kg/s'\n",
    "}\n",
    "states = StatesTable(properties_dict, unit_system='SI_C')\n",
    "for property in states.properties:\n",
    "    globals()[property] = states.dict[property]\n",
    "\n",
    "air = idealgas.Properties('Air', unit_system='SI_C')\n",
    "water = realfluid.Properties('Water', unit_system='SI_C')"
   ]
  },
  {
   "cell_type": "markdown",
   "metadata": {},
   "source": [
    "### Given Parameters\n",
    "We now define variables to hold our known values."
   ]
  },
  {
   "cell_type": "code",
   "execution_count": 2,
   "metadata": {
    "collapsed": false,
    "jupyter": {
     "outputs_hidden": false
    }
   },
   "outputs": [
    {
     "data": {
      "text/latex": [
       "\\begin{align}{ T_{0} }&={ \\left( 20\\ \\mathrm{°C} \\right) } = { 293.15\\ \\mathrm{K}  }\\end{align}"
      ],
      "text/plain": [
       "<IPython.core.display.Latex object>"
      ]
     },
     "metadata": {},
     "output_type": "display_data"
    },
    {
     "data": {
      "text/latex": [
       "\\begin{align}{ p_{0} }&={ \\left( 1\\ \\mathrm{bar} \\right) } = { 100.0\\ \\mathrm{kPa}  }\\end{align}"
      ],
      "text/plain": [
       "<IPython.core.display.Latex object>"
      ]
     },
     "metadata": {},
     "output_type": "display_data"
    },
    {
     "data": {
      "text/latex": [
       "\\begin{align}{ T_{1} }&={  500\\ \\mathrm{K}  }\\end{align}"
      ],
      "text/plain": [
       "<IPython.core.display.Latex object>"
      ]
     },
     "metadata": {},
     "output_type": "display_data"
    },
    {
     "data": {
      "text/latex": [
       "\\begin{align}{ T_{2} }&={  300\\ \\mathrm{K}  }\\end{align}"
      ],
      "text/plain": [
       "<IPython.core.display.Latex object>"
      ]
     },
     "metadata": {},
     "output_type": "display_data"
    },
    {
     "data": {
      "text/latex": [
       "\\begin{align}{ T_{3} }&={ \\left( 10\\ \\mathrm{°C} \\right) } = { 283.15\\ \\mathrm{K}  }\\end{align}"
      ],
      "text/plain": [
       "<IPython.core.display.Latex object>"
      ]
     },
     "metadata": {},
     "output_type": "display_data"
    },
    {
     "data": {
      "text/latex": [
       "\\begin{align}{ T_{4} }&={ \\left( 15\\ \\mathrm{°C} \\right) } = { 288.15\\ \\mathrm{K}  }\\end{align}"
      ],
      "text/plain": [
       "<IPython.core.display.Latex object>"
      ]
     },
     "metadata": {},
     "output_type": "display_data"
    },
    {
     "data": {
      "text/latex": [
       "\\begin{align}{ \\dot{m}_{1} }&={  20\\ \\frac{\\mathrm{kg}}{\\mathrm{s}}  }\\end{align}"
      ],
      "text/plain": [
       "<IPython.core.display.Latex object>"
      ]
     },
     "metadata": {},
     "output_type": "display_data"
    },
    {
     "data": {
      "text/latex": [
       "\\begin{align}{ \\dot{m}_{2} }&={ \\dot{m}_{1} } = { 20\\ \\frac{\\mathrm{kg}}{\\mathrm{s}}  }\\end{align}"
      ],
      "text/plain": [
       "<IPython.core.display.Latex object>"
      ]
     },
     "metadata": {},
     "output_type": "display_data"
    },
    {
     "data": {
      "text/latex": [
       "\\begin{align}{ p_{1} }&={ p_{0} } = { 100.0\\ \\mathrm{kPa}  }\\end{align}"
      ],
      "text/plain": [
       "<IPython.core.display.Latex object>"
      ]
     },
     "metadata": {},
     "output_type": "display_data"
    },
    {
     "data": {
      "text/latex": [
       "\\begin{align}{ p_{2} }&={ p_{1} } = { 100.0\\ \\mathrm{kPa}  }\\end{align}"
      ],
      "text/plain": [
       "<IPython.core.display.Latex object>"
      ]
     },
     "metadata": {},
     "output_type": "display_data"
    },
    {
     "data": {
      "text/latex": [
       "\\begin{align}{ p_{3} }&={ p_{0} } = { 100.0\\ \\mathrm{kPa}  }\\end{align}"
      ],
      "text/plain": [
       "<IPython.core.display.Latex object>"
      ]
     },
     "metadata": {},
     "output_type": "display_data"
    },
    {
     "data": {
      "text/latex": [
       "\\begin{align}{ p_{4} }&={ p_{3} } = { 100.0\\ \\mathrm{kPa}  }\\end{align}"
      ],
      "text/plain": [
       "<IPython.core.display.Latex object>"
      ]
     },
     "metadata": {},
     "output_type": "display_data"
    }
   ],
   "source": [
    "T[0] = Q_(20,'degC')\n",
    "p[0] = Q_(1,'bar')\n",
    "T[1] = Q_(500,'K')\n",
    "T[2] = Q_(300,'K')\n",
    "T[3] = Q_(10,'degC')\n",
    "T[4] = Q_(15,'degC')\n",
    "mdot[1] = Q_(20,'kg/s')\n",
    "mdot[2] = mdot[1]\n",
    "p[1] = p[0]\n",
    "p[2] = p[1]\n",
    "p[3] = p[0]\n",
    "p[4] = p[3]\n",
    "\n",
    "display.Calculations(locals(),comments=True);"
   ]
  },
  {
   "cell_type": "markdown",
   "metadata": {},
   "source": [
    "### Assumptions\n",
    "  - Negligible changes in kinetic energy\n",
    "  - Negligible changes in potential energy"
   ]
  },
  {
   "cell_type": "markdown",
   "metadata": {},
   "source": [
    "#### (a) mass flow rate of water"
   ]
  },
  {
   "cell_type": "code",
   "execution_count": 3,
   "metadata": {
    "collapsed": false,
    "jupyter": {
     "outputs_hidden": false
    }
   },
   "outputs": [
    {
     "data": {
      "text/latex": [
       "\\begin{align}{ h_{1} }&={ \\mathrm{air.h}\\left(\\mathrm{T}=T_{1} , \\mathrm{p}=p_{1}\\right) } = { 200.64\\ \\frac{\\mathrm{kJ}}{\\mathrm{kg}}  }\\end{align}"
      ],
      "text/plain": [
       "<IPython.core.display.Latex object>"
      ]
     },
     "metadata": {},
     "output_type": "display_data"
    },
    {
     "data": {
      "text/latex": [
       "\\begin{align}{ h_{2} }&={ \\mathrm{air.h}\\left(\\mathrm{T}=T_{2} , \\mathrm{p}=p_{2}\\right) } = { -2.4071\\ \\frac{\\mathrm{kJ}}{\\mathrm{kg}}  }\\end{align}"
      ],
      "text/plain": [
       "<IPython.core.display.Latex object>"
      ]
     },
     "metadata": {},
     "output_type": "display_data"
    },
    {
     "data": {
      "text/latex": [
       "\\begin{align}{ h_{3} }&={ \\mathrm{water.h}\\left(\\mathrm{T}=T_{3} , \\mathrm{p}=p_{3}\\right) } = { 42.118\\ \\frac{\\mathrm{kJ}}{\\mathrm{kg}}  }\\end{align}"
      ],
      "text/plain": [
       "<IPython.core.display.Latex object>"
      ]
     },
     "metadata": {},
     "output_type": "display_data"
    },
    {
     "data": {
      "text/latex": [
       "\\begin{align}{ h_{4} }&={ \\mathrm{water.h}\\left(\\mathrm{T}=T_{4} , \\mathrm{p}=p_{4}\\right) } = { 63.076\\ \\frac{\\mathrm{kJ}}{\\mathrm{kg}}  }\\end{align}"
      ],
      "text/plain": [
       "<IPython.core.display.Latex object>"
      ]
     },
     "metadata": {},
     "output_type": "display_data"
    },
    {
     "data": {
      "text/markdown": [
       " The First Law can be used can be used to determine the mass flow rate"
      ],
      "text/plain": [
       "<IPython.core.display.Markdown object>"
      ]
     },
     "metadata": {},
     "output_type": "display_data"
    },
    {
     "data": {
      "text/latex": [
       "\\begin{align}{ \\dot{m}_{3} }&={ \\frac{\\dot{m}_{1} \\left(- h_{1} + h_{2}\\right)}{- h_{4} + h_{3}} }\\\\&={ \\frac{\\left( 20\\ \\frac{\\mathrm{kg}}{\\mathrm{s}} \\right) \\left(- \\left( 200.64\\ \\frac{\\mathrm{kJ}}{\\mathrm{kg}} \\right) + \\left( -2.4071\\ \\frac{\\mathrm{kJ}}{\\mathrm{kg}} \\right)\\right)}{- \\left( 63.076\\ \\frac{\\mathrm{kJ}}{\\mathrm{kg}} \\right) + \\left( 42.118\\ \\frac{\\mathrm{kJ}}{\\mathrm{kg}} \\right)} }\\\\&={  193.77\\ \\frac{\\mathrm{kg}}{\\mathrm{s}}  }\\end{align}"
      ],
      "text/plain": [
       "<IPython.core.display.Latex object>"
      ]
     },
     "metadata": {},
     "output_type": "display_data"
    },
    {
     "data": {
      "text/latex": [
       "\\begin{align}{ \\dot{m}_{4} }&={ \\dot{m}_{1} } = { 20\\ \\frac{\\mathrm{kg}}{\\mathrm{s}}  }\\end{align}"
      ],
      "text/plain": [
       "<IPython.core.display.Latex object>"
      ]
     },
     "metadata": {},
     "output_type": "display_data"
    },
    {
     "data": {
      "text/latex": [
       "\\begin{align}{ \\dot{m}_{water} }&={ \\dot{m}_{3} } = { 193.77\\ \\frac{\\mathrm{kg}}{\\mathrm{s}}  }\\end{align}"
      ],
      "text/plain": [
       "<IPython.core.display.Latex object>"
      ]
     },
     "metadata": {},
     "output_type": "display_data"
    }
   ],
   "source": [
    "h[1] = air.h(T=T[1],p=p[1])\n",
    "h[2] = air.h(T=T[2],p=p[2])\n",
    "h[3] = water.h(T=T[3],p=p[3])\n",
    "h[4] = water.h(T=T[4],p=p[4])\n",
    "\n",
    "# The First Law can be used can be used to determine the mass flow rate\n",
    "mdot[3] = mdot[1]*(h[2]-h[1])/(h[3]-h[4])\n",
    "mdot[4] = mdot[1]\n",
    "mdot_water = mdot[3]\n",
    "\n",
    "display.Calculations(locals(),comments=True);"
   ]
  },
  {
   "cell_type": "markdown",
   "metadata": {},
   "source": [
    "#### (b) rate of heat transfer"
   ]
  },
  {
   "cell_type": "code",
   "execution_count": 6,
   "metadata": {
    "collapsed": false,
    "jupyter": {
     "outputs_hidden": false
    }
   },
   "outputs": [
    {
     "data": {
      "text/markdown": [
       " In order to determine the amount of heat transfered between the streams, we can do a first law analysis for a control volume containing just one of the streams.  Here we do this for the air stream"
      ],
      "text/plain": [
       "<IPython.core.display.Markdown object>"
      ]
     },
     "metadata": {},
     "output_type": "display_data"
    },
    {
     "data": {
      "text/latex": [
       "\\begin{align}{ \\dot{Q}_{1,2} }&={ - h_{1} \\dot{m}_{1} + h_{2} \\dot{m}_{2} }\\\\&={ - \\left( 200.64\\ \\frac{\\mathrm{kJ}}{\\mathrm{kg}} \\right) \\left( 20\\ \\frac{\\mathrm{kg}}{\\mathrm{s}} \\right) + \\left( -2.4071\\ \\frac{\\mathrm{kJ}}{\\mathrm{kg}} \\right) \\left( 20\\ \\frac{\\mathrm{kg}}{\\mathrm{s}} \\right) }\\\\&={  -4061.0\\ \\frac{\\mathrm{kJ}}{\\mathrm{s}}  }\\end{align}"
      ],
      "text/plain": [
       "<IPython.core.display.Latex object>"
      ]
     },
     "metadata": {},
     "output_type": "display_data"
    },
    {
     "data": {
      "text/latex": [
       "\\begin{align}{ \\dot{Q} }&={ \\mathrm{abs}\\left(\\dot{Q}_{1,2}\\right) } = { 4061.0\\ \\mathrm{kW}  }\\end{align}"
      ],
      "text/plain": [
       "<IPython.core.display.Latex object>"
      ]
     },
     "metadata": {},
     "output_type": "display_data"
    }
   ],
   "source": [
    "# In order to determine the amount of heat transfered between the streams, we can do a first law analysis for a control volume containing just one of the streams.  Here we do this for the air stream\n",
    "Qdot_1_2 = mdot[2]*h[2]- mdot[1]*h[1]\n",
    "Qdot = abs(Qdot_1_2)\n",
    "Qdot = Qdot.to('kW') # hide\n",
    "\n",
    "display.Calculations(locals(),comments=True);"
   ]
  },
  {
   "cell_type": "markdown",
   "metadata": {},
   "source": [
    "#### (c) entropy generation"
   ]
  },
  {
   "cell_type": "code",
   "execution_count": 8,
   "metadata": {
    "collapsed": false,
    "jupyter": {
     "outputs_hidden": false
    }
   },
   "outputs": [
    {
     "data": {
      "text/markdown": [
       " The specific entropies can also be evaluate using the known temperatures and pressures"
      ],
      "text/plain": [
       "<IPython.core.display.Markdown object>"
      ]
     },
     "metadata": {},
     "output_type": "display_data"
    },
    {
     "data": {
      "text/latex": [
       "\\begin{align}{ s_{1} }&={ \\mathrm{air.s}\\left(\\mathrm{T}=T_{1} , \\mathrm{p}=p_{1}\\right) } = { 7.2258\\ \\frac{\\mathrm{kJ}}{\\left(\\mathrm{K} \\cdot \\mathrm{kg}\\right)}  }\\end{align}"
      ],
      "text/plain": [
       "<IPython.core.display.Latex object>"
      ]
     },
     "metadata": {},
     "output_type": "display_data"
    },
    {
     "data": {
      "text/latex": [
       "\\begin{align}{ s_{2} }&={ \\mathrm{air.s}\\left(\\mathrm{T}=T_{2} , \\mathrm{p}=p_{2}\\right) } = { 6.7077\\ \\frac{\\mathrm{kJ}}{\\left(\\mathrm{K} \\cdot \\mathrm{kg}\\right)}  }\\end{align}"
      ],
      "text/plain": [
       "<IPython.core.display.Latex object>"
      ]
     },
     "metadata": {},
     "output_type": "display_data"
    },
    {
     "data": {
      "text/latex": [
       "\\begin{align}{ s_{3} }&={ \\mathrm{water.s}\\left(\\mathrm{T}=T_{3} , \\mathrm{p}=p_{3}\\right) } = { 0.15108\\ \\frac{\\mathrm{kJ}}{\\left(\\mathrm{K} \\cdot \\mathrm{kg}\\right)}  }\\end{align}"
      ],
      "text/plain": [
       "<IPython.core.display.Latex object>"
      ]
     },
     "metadata": {},
     "output_type": "display_data"
    },
    {
     "data": {
      "text/latex": [
       "\\begin{align}{ s_{4} }&={ \\mathrm{water.s}\\left(\\mathrm{T}=T_{4} , \\mathrm{p}=p_{4}\\right) } = { 0.22445\\ \\frac{\\mathrm{kJ}}{\\left(\\mathrm{K} \\cdot \\mathrm{kg}\\right)}  }\\end{align}"
      ],
      "text/plain": [
       "<IPython.core.display.Latex object>"
      ]
     },
     "metadata": {},
     "output_type": "display_data"
    },
    {
     "data": {
      "text/markdown": [
       " The Second Law can be used to solve for the entropy generation"
      ],
      "text/plain": [
       "<IPython.core.display.Markdown object>"
      ]
     },
     "metadata": {},
     "output_type": "display_data"
    },
    {
     "data": {
      "text/latex": [
       "\\begin{align}{ \\dot{S}_{gen} }&={ \\dot{m}_{3} \\left(s_{4} - s_{3}\\right) + \\dot{m}_{1} \\left(- s_{1} + s_{2}\\right) }\\\\&={ \\left( 193.77\\ \\frac{\\mathrm{kg}}{\\mathrm{s}} \\right) \\left(\\left( 0.22445\\ \\frac{\\mathrm{kJ}}{\\left(\\mathrm{K} \\cdot \\mathrm{kg}\\right)} \\right) - \\left( 0.15108\\ \\frac{\\mathrm{kJ}}{\\left(\\mathrm{K} \\cdot \\mathrm{kg}\\right)} \\right)\\right) + \\left( 20\\ \\frac{\\mathrm{kg}}{\\mathrm{s}} \\right) \\left(- \\left( 7.2258\\ \\frac{\\mathrm{kJ}}{\\left(\\mathrm{K} \\cdot \\mathrm{kg}\\right)} \\right) + \\left( 6.7077\\ \\frac{\\mathrm{kJ}}{\\left(\\mathrm{K} \\cdot \\mathrm{kg}\\right)} \\right)\\right) }\\\\&={  3.8555\\ \\frac{\\mathrm{kW}}{\\mathrm{K}}  }\\end{align}"
      ],
      "text/plain": [
       "<IPython.core.display.Latex object>"
      ]
     },
     "metadata": {},
     "output_type": "display_data"
    }
   ],
   "source": [
    "# The specific entropies can also be evaluate using the known temperatures and pressures\n",
    "s[1] = air.s(T=T[1],p=p[1])\n",
    "s[2] = air.s(T=T[2],p=p[2])\n",
    "s[3] = water.s(T=T[3],p=p[3])\n",
    "s[4] = water.s(T=T[4],p=p[4])\n",
    "\n",
    "# The Second Law can be used to solve for the entropy generation\n",
    "Sdot_gen = mdot[1]*(s[2]-s[1]) + mdot[3]*(s[4]-s[3])\n",
    "Sdot_gen = Sdot_gen.to('kW/K') # hide\n",
    "\n",
    "display.Calculations(locals(),comments=True);"
   ]
  },
  {
   "cell_type": "markdown",
   "metadata": {},
   "source": [
    "#### (d) exergy destruction"
   ]
  },
  {
   "cell_type": "code",
   "execution_count": 9,
   "metadata": {
    "collapsed": false,
    "jupyter": {
     "outputs_hidden": false
    }
   },
   "outputs": [
    {
     "data": {
      "text/markdown": [
       " The exergy destruction is always $T_0\\dot{S}_gen$"
      ],
      "text/plain": [
       "<IPython.core.display.Markdown object>"
      ]
     },
     "metadata": {},
     "output_type": "display_data"
    },
    {
     "data": {
      "text/latex": [
       "\\begin{align}{ \\dot{X}_{dest} }&={ \\dot{S}_{gen} T_{0} }\\\\&={ \\left( 3.8555\\ \\frac{\\mathrm{kW}}{\\mathrm{K}} \\right) \\left( 293.15\\ \\mathrm{K} \\right) }\\\\&={  1130.3\\ \\mathrm{kW}  }\\end{align}"
      ],
      "text/plain": [
       "<IPython.core.display.Latex object>"
      ]
     },
     "metadata": {},
     "output_type": "display_data"
    }
   ],
   "source": [
    "# The exergy destruction is always $T_0\\dot{S}_gen$\n",
    "Xdot_dest = T[0]*Sdot_gen\n",
    "\n",
    "display.Calculations(locals(),comments=True);"
   ]
  },
  {
   "cell_type": "markdown",
   "metadata": {},
   "source": [
    "#### (e) Second Law Efficiency"
   ]
  },
  {
   "cell_type": "code",
   "execution_count": 10,
   "metadata": {
    "collapsed": false,
    "jupyter": {
     "outputs_hidden": false
    }
   },
   "outputs": [
    {
     "data": {
      "text/markdown": [
       " In this case, both streams are approaching the ambient temperature, so both streams are decreasing in exergy.  Therefore, there is no recovered exergy for this system"
      ],
      "text/plain": [
       "<IPython.core.display.Markdown object>"
      ]
     },
     "metadata": {},
     "output_type": "display_data"
    },
    {
     "data": {
      "text/latex": [
       "\\begin{align}{ \\dot{X}_{Rec} }&={  0\\ \\mathrm{kW}  }\\end{align}"
      ],
      "text/plain": [
       "<IPython.core.display.Latex object>"
      ]
     },
     "metadata": {},
     "output_type": "display_data"
    },
    {
     "data": {
      "text/latex": [
       "\\begin{align}{ \\eta_{II} }&={  0\\  }\\end{align}"
      ],
      "text/plain": [
       "<IPython.core.display.Latex object>"
      ]
     },
     "metadata": {},
     "output_type": "display_data"
    }
   ],
   "source": [
    "# In this case, both streams are approaching the ambient temperature, so both streams are decreasing in exergy.  Therefore, there is no recovered exergy for this system\n",
    "Xdot_Rec = Q_(0,'kW')\n",
    "eta_II = Q_(0,'')\n",
    "\n",
    "display.Calculations(locals(),comments=True);"
   ]
  },
  {
   "cell_type": "markdown",
   "metadata": {},
   "source": [
    "#### (f) Second Law Efficiency: Alternate Inlet Temperature"
   ]
  },
  {
   "cell_type": "code",
   "execution_count": 11,
   "metadata": {
    "collapsed": false,
    "jupyter": {
     "outputs_hidden": false
    }
   },
   "outputs": [
    {
     "data": {
      "text/markdown": [
       " We need to recalculate properties to account for the alternate inlet temperature"
      ],
      "text/plain": [
       "<IPython.core.display.Markdown object>"
      ]
     },
     "metadata": {},
     "output_type": "display_data"
    },
    {
     "data": {
      "text/latex": [
       "\\begin{align}{ T_{5} }&={ \\left( 20\\ \\mathrm{°C} \\right) } = { 293.15\\ \\mathrm{K}  }\\end{align}"
      ],
      "text/plain": [
       "<IPython.core.display.Latex object>"
      ]
     },
     "metadata": {},
     "output_type": "display_data"
    },
    {
     "data": {
      "text/latex": [
       "\\begin{align}{ p_{5} }&={ p_{4} } = { 100.0\\ \\mathrm{kPa}  }\\end{align}"
      ],
      "text/plain": [
       "<IPython.core.display.Latex object>"
      ]
     },
     "metadata": {},
     "output_type": "display_data"
    },
    {
     "data": {
      "text/latex": [
       "\\begin{align}{ T_{6} }&={ \\left( 5\\ \\mathrm{Δ°C} \\right) + T_{5} }\\\\&={ \\left( 5\\ \\mathrm{Δ°C} \\right) + \\left( 293.15\\ \\mathrm{K} \\right) }\\\\&={  298.15\\ \\mathrm{K}  }\\end{align}"
      ],
      "text/plain": [
       "<IPython.core.display.Latex object>"
      ]
     },
     "metadata": {},
     "output_type": "display_data"
    },
    {
     "data": {
      "text/latex": [
       "\\begin{align}{ p_{6} }&={ p_{5} } = { 100.0\\ \\mathrm{kPa}  }\\end{align}"
      ],
      "text/plain": [
       "<IPython.core.display.Latex object>"
      ]
     },
     "metadata": {},
     "output_type": "display_data"
    },
    {
     "data": {
      "text/latex": [
       "\\begin{align}{ h_{5} }&={ \\mathrm{water.h}\\left(\\mathrm{T}=T_{5} , \\mathrm{p}=p_{5}\\right) } = { 84.006\\ \\frac{\\mathrm{kJ}}{\\mathrm{kg}}  }\\end{align}"
      ],
      "text/plain": [
       "<IPython.core.display.Latex object>"
      ]
     },
     "metadata": {},
     "output_type": "display_data"
    },
    {
     "data": {
      "text/latex": [
       "\\begin{align}{ h_{6} }&={ \\mathrm{water.h}\\left(\\mathrm{T}=T_{6} , \\mathrm{p}=p_{6}\\right) } = { 104.92\\ \\frac{\\mathrm{kJ}}{\\mathrm{kg}}  }\\end{align}"
      ],
      "text/plain": [
       "<IPython.core.display.Latex object>"
      ]
     },
     "metadata": {},
     "output_type": "display_data"
    },
    {
     "data": {
      "text/latex": [
       "\\begin{align}{ s_{5} }&={ \\mathrm{water.s}\\left(\\mathrm{T}=T_{5} , \\mathrm{p}=p_{5}\\right) } = { 0.29646\\ \\frac{\\mathrm{kJ}}{\\left(\\mathrm{K} \\cdot \\mathrm{kg}\\right)}  }\\end{align}"
      ],
      "text/plain": [
       "<IPython.core.display.Latex object>"
      ]
     },
     "metadata": {},
     "output_type": "display_data"
    },
    {
     "data": {
      "text/latex": [
       "\\begin{align}{ s_{6} }&={ \\mathrm{water.s}\\left(\\mathrm{T}=T_{6} , \\mathrm{p}=p_{6}\\right) } = { 0.3672\\ \\frac{\\mathrm{kJ}}{\\left(\\mathrm{K} \\cdot \\mathrm{kg}\\right)}  }\\end{align}"
      ],
      "text/plain": [
       "<IPython.core.display.Latex object>"
      ]
     },
     "metadata": {},
     "output_type": "display_data"
    },
    {
     "data": {
      "text/markdown": [
       " For this case, the water stream in increaseing in exergy while the air stream is decreasing in exergy.  So we will need the changes in flow exergy for each stream"
      ],
      "text/plain": [
       "<IPython.core.display.Markdown object>"
      ]
     },
     "metadata": {},
     "output_type": "display_data"
    },
    {
     "data": {
      "text/latex": [
       "\\begin{align}{ \\Delta{}\\psi_{5,6} }&={ - T_{0} \\left(- s_{5} + s_{6}\\right) - h_{5} + h_{6} }\\\\&={ - \\left( 293.15\\ \\mathrm{K} \\right) \\left(- \\left( 0.29646\\ \\frac{\\mathrm{kJ}}{\\left(\\mathrm{K} \\cdot \\mathrm{kg}\\right)} \\right) + \\left( 0.3672\\ \\frac{\\mathrm{kJ}}{\\left(\\mathrm{K} \\cdot \\mathrm{kg}\\right)} \\right)\\right) - \\left( 84.006\\ \\frac{\\mathrm{kJ}}{\\mathrm{kg}} \\right) + \\left( 104.92\\ \\frac{\\mathrm{kJ}}{\\mathrm{kg}} \\right) }\\\\&={  0.17632\\ \\frac{\\mathrm{kJ}}{\\mathrm{kg}}  }\\end{align}"
      ],
      "text/plain": [
       "<IPython.core.display.Latex object>"
      ]
     },
     "metadata": {},
     "output_type": "display_data"
    },
    {
     "data": {
      "text/latex": [
       "\\begin{align}{ \\Delta{}\\psi_{1,2} }&={ - T_{0} \\left(- s_{1} + s_{2}\\right) - h_{1} + h_{2} }\\\\&={ - \\left( 293.15\\ \\mathrm{K} \\right) \\left(- \\left( 7.2258\\ \\frac{\\mathrm{kJ}}{\\left(\\mathrm{K} \\cdot \\mathrm{kg}\\right)} \\right) + \\left( 6.7077\\ \\frac{\\mathrm{kJ}}{\\left(\\mathrm{K} \\cdot \\mathrm{kg}\\right)} \\right)\\right) - \\left( 200.64\\ \\frac{\\mathrm{kJ}}{\\mathrm{kg}} \\right) + \\left( -2.4071\\ \\frac{\\mathrm{kJ}}{\\mathrm{kg}} \\right) }\\\\&={  -51.175\\ \\frac{\\mathrm{kJ}}{\\mathrm{kg}}  }\\end{align}"
      ],
      "text/plain": [
       "<IPython.core.display.Latex object>"
      ]
     },
     "metadata": {},
     "output_type": "display_data"
    },
    {
     "data": {
      "text/markdown": [
       " A first law analysis can be used to update the water mass flow rate for the new inlet temperature"
      ],
      "text/plain": [
       "<IPython.core.display.Markdown object>"
      ]
     },
     "metadata": {},
     "output_type": "display_data"
    },
    {
     "data": {
      "text/latex": [
       "\\begin{align}{ \\dot{m}_{5} }&={ \\frac{\\dot{m}_{1} \\left(- h_{1} + h_{2}\\right)}{h_{5} - h_{6}} }\\\\&={ \\frac{\\left( 20\\ \\frac{\\mathrm{kg}}{\\mathrm{s}} \\right) \\left(- \\left( 200.64\\ \\frac{\\mathrm{kJ}}{\\mathrm{kg}} \\right) + \\left( -2.4071\\ \\frac{\\mathrm{kJ}}{\\mathrm{kg}} \\right)\\right)}{\\left( 84.006\\ \\frac{\\mathrm{kJ}}{\\mathrm{kg}} \\right) - \\left( 104.92\\ \\frac{\\mathrm{kJ}}{\\mathrm{kg}} \\right)} }\\\\&={  194.19\\ \\frac{\\mathrm{kg}}{\\mathrm{s}}  }\\end{align}"
      ],
      "text/plain": [
       "<IPython.core.display.Latex object>"
      ]
     },
     "metadata": {},
     "output_type": "display_data"
    },
    {
     "data": {
      "text/latex": [
       "\\begin{align}{ \\dot{m}_{6} }&={ \\dot{m}_{5} } = { 194.19\\ \\frac{\\mathrm{kg}}{\\mathrm{s}}  }\\end{align}"
      ],
      "text/plain": [
       "<IPython.core.display.Latex object>"
      ]
     },
     "metadata": {},
     "output_type": "display_data"
    },
    {
     "data": {
      "text/markdown": [
       " The second law gives the new entropy generation"
      ],
      "text/plain": [
       "<IPython.core.display.Markdown object>"
      ]
     },
     "metadata": {},
     "output_type": "display_data"
    },
    {
     "data": {
      "text/latex": [
       "\\begin{align}{ \\dot{S}_{gen,Alt} }&={ \\dot{m}_{5} \\left(- s_{5} + s_{6}\\right) + \\dot{m}_{1} \\left(- s_{1} + s_{2}\\right) }\\\\&={ \\left( 194.19\\ \\frac{\\mathrm{kg}}{\\mathrm{s}} \\right) \\left(- \\left( 0.29646\\ \\frac{\\mathrm{kJ}}{\\left(\\mathrm{K} \\cdot \\mathrm{kg}\\right)} \\right) + \\left( 0.3672\\ \\frac{\\mathrm{kJ}}{\\left(\\mathrm{K} \\cdot \\mathrm{kg}\\right)} \\right)\\right) + \\left( 20\\ \\frac{\\mathrm{kg}}{\\mathrm{s}} \\right) \\left(- \\left( 7.2258\\ \\frac{\\mathrm{kJ}}{\\left(\\mathrm{K} \\cdot \\mathrm{kg}\\right)} \\right) + \\left( 6.7077\\ \\frac{\\mathrm{kJ}}{\\left(\\mathrm{K} \\cdot \\mathrm{kg}\\right)} \\right)\\right) }\\\\&={  3.3746\\ \\frac{\\mathrm{kJ}}{\\left(\\mathrm{K} \\cdot \\mathrm{s}\\right)}  }\\end{align}"
      ],
      "text/plain": [
       "<IPython.core.display.Latex object>"
      ]
     },
     "metadata": {},
     "output_type": "display_data"
    },
    {
     "data": {
      "text/markdown": [
       " We also have a new exergy destruction"
      ],
      "text/plain": [
       "<IPython.core.display.Markdown object>"
      ]
     },
     "metadata": {},
     "output_type": "display_data"
    },
    {
     "data": {
      "text/latex": [
       "\\begin{align}{ \\dot{X}_{dest,Alt} }&={ \\dot{S}_{gen,Alt} T_{0} }\\\\&={ \\left( 3.3746\\ \\frac{\\mathrm{kJ}}{\\left(\\mathrm{K} \\cdot \\mathrm{s}\\right)} \\right) \\left( 293.15\\ \\mathrm{K} \\right) }\\\\&={  989.27\\ \\frac{\\mathrm{kJ}}{\\mathrm{s}}  }\\end{align}"
      ],
      "text/plain": [
       "<IPython.core.display.Latex object>"
      ]
     },
     "metadata": {},
     "output_type": "display_data"
    },
    {
     "data": {
      "text/markdown": [
       " The recovered exergy for this case in the increase in exergy of the water stream because it is moving away from the surrounding temperature"
      ],
      "text/plain": [
       "<IPython.core.display.Markdown object>"
      ]
     },
     "metadata": {},
     "output_type": "display_data"
    },
    {
     "data": {
      "text/latex": [
       "\\begin{align}{ \\dot{X}_{Rec} }&={ \\Delta{}\\psi_{5,6} \\dot{m}_{5} }\\\\&={ \\left( 0.17632\\ \\frac{\\mathrm{kJ}}{\\mathrm{kg}} \\right) \\left( 194.19\\ \\frac{\\mathrm{kg}}{\\mathrm{s}} \\right) }\\\\&={  34.24\\ \\frac{\\mathrm{kJ}}{\\mathrm{s}}  }\\end{align}"
      ],
      "text/plain": [
       "<IPython.core.display.Latex object>"
      ]
     },
     "metadata": {},
     "output_type": "display_data"
    },
    {
     "data": {
      "text/markdown": [
       " The expended exergy for this case is the decrease in exergy of the air stream becuase it is moving toward the surrounding temperature"
      ],
      "text/plain": [
       "<IPython.core.display.Markdown object>"
      ]
     },
     "metadata": {},
     "output_type": "display_data"
    },
    {
     "data": {
      "text/latex": [
       "\\begin{align}{ \\dot{X}_{Exp} }&={ - \\Delta{}\\psi_{1,2} \\dot{m}_{1} }\\\\&={ - \\left( -51.175\\ \\frac{\\mathrm{kJ}}{\\mathrm{kg}} \\right) \\left( 20\\ \\frac{\\mathrm{kg}}{\\mathrm{s}} \\right) }\\\\&={  1023.5\\ \\frac{\\mathrm{kJ}}{\\mathrm{s}}  }\\end{align}"
      ],
      "text/plain": [
       "<IPython.core.display.Latex object>"
      ]
     },
     "metadata": {},
     "output_type": "display_data"
    },
    {
     "data": {
      "text/markdown": [
       " Second law efficiency"
      ],
      "text/plain": [
       "<IPython.core.display.Markdown object>"
      ]
     },
     "metadata": {},
     "output_type": "display_data"
    },
    {
     "data": {
      "text/latex": [
       "\\begin{align}{ \\eta_{II,Alt} }&={ \\frac{\\dot{X}_{Rec}}{\\dot{X}_{Exp}} }\\\\&={ \\frac{\\left( 34.24\\ \\frac{\\mathrm{kJ}}{\\mathrm{s}} \\right)}{\\left( 1023.5\\ \\frac{\\mathrm{kJ}}{\\mathrm{s}} \\right)} }\\\\&={  0.033454\\  }\\end{align}"
      ],
      "text/plain": [
       "<IPython.core.display.Latex object>"
      ]
     },
     "metadata": {},
     "output_type": "display_data"
    }
   ],
   "source": [
    "# We need to recalculate properties to account for the alternate inlet temperature\n",
    "T[5] = Q_(20,'degC')\n",
    "p[5] = p[4]\n",
    "T[6] = T[5] + Q_(5,'delta_degC')\n",
    "p[6] = p[5]\n",
    "h[5] = water.h(T=T[5],p=p[5])\n",
    "h[6] = water.h(T=T[6],p=p[6])\n",
    "s[5] = water.s(T=T[5],p=p[5])\n",
    "s[6] = water.s(T=T[6],p=p[6])\n",
    "\n",
    "# For this case, the water stream in increaseing in exergy while the air stream is decreasing in exergy.  So we will need the changes in flow exergy for each stream\n",
    "Delta_psi_5_6 = h[6]-h[5] - T[0]*(s[6]-s[5])\n",
    "Delta_psi_1_2 = h[2]-h[1] - T[0]*(s[2]-s[1])\n",
    "\n",
    "# A first law analysis can be used to update the water mass flow rate for the new inlet temperature\n",
    "mdot[5] = mdot[1]*(h[2]-h[1])/(h[5]-h[6])\n",
    "mdot[6] = mdot[5]\n",
    "\n",
    "# The second law gives the new entropy generation\n",
    "Sdot_gen_Alt = mdot[1]*(s[2]-s[1]) + mdot[5]*(s[6]-s[5])\n",
    "\n",
    "# We also have a new exergy destruction\n",
    "Xdot_dest_Alt = T[0]*Sdot_gen_Alt\n",
    "\n",
    "# The recovered exergy for this case in the increase in exergy of the water stream because it is moving away from the surrounding temperature\n",
    "Xdot_Rec = mdot[5]*Delta_psi_5_6\n",
    "\n",
    "# The expended exergy for this case is the decrease in exergy of the air stream becuase it is moving toward the surrounding temperature\n",
    "Xdot_Exp = -mdot[1]*Delta_psi_1_2\n",
    "\n",
    "# Second law efficiency\n",
    "eta_II_Alt = Xdot_Rec/Xdot_Exp\n",
    "\n",
    "display.Calculations(locals(),comments=True);"
   ]
  },
  {
   "cell_type": "code",
   "execution_count": 12,
   "metadata": {
    "collapsed": false,
    "jupyter": {
     "outputs_hidden": false
    }
   },
   "outputs": [],
   "source": [
    "display.Calculations(locals(),comments=True);"
   ]
  },
  {
   "cell_type": "code",
   "execution_count": null,
   "metadata": {
    "collapsed": false,
    "jupyter": {
     "outputs_hidden": false
    }
   },
   "outputs": [],
   "source": []
  }
 ],
 "metadata": {
  "kernelspec": {
   "display_name": "Python 3",
   "language": "python",
   "name": "python3"
  },
  "language_info": {
   "codemirror_mode": {
    "name": "ipython",
    "version": 3
   },
   "file_extension": ".py",
   "mimetype": "text/x-python",
   "name": "python",
   "nbconvert_exporter": "python",
   "pygments_lexer": "ipython3",
   "version": "3.7.9"
  }
 },
 "nbformat": 4,
 "nbformat_minor": 4
}
