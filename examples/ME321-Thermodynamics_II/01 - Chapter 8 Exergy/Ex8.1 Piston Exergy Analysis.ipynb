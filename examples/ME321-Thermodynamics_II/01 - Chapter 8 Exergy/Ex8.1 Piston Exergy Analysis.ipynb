{
 "cells": [
  {
   "cell_type": "markdown",
   "metadata": {},
   "source": [
    "# Example 8.1: Piston Exergy Analysis\n",
    "\n",
    "*John F. Maddox, Ph.D., P.E.<br>\n",
    "University of Kentucky - Paducah Campus<br>\n",
    "ME 321: Engineering Thermodynamics II<br>*"
   ]
  },
  {
   "cell_type": "markdown",
   "metadata": {},
   "source": [
    "## Problem Statement\n",
    "The piston cylinder shown below is initially at a state of $T_1=60^\\circ\\text{C}$, $P_1=200\\,\\text{kPa}$.  Heat is added to the system from a $500^\\circ\\text{C}$ reservoir until the final pressure is $400\\,\\text{kPa}$. The mass of the air is $2\\,\\text{kg}$, the spring constant is $1000\\,\\text{kN/m}$, and the cross sectional area of the piston is $A_p=0.1\\,\\mathrm{m^2}$. The piston moves $0.1\\,\\text{m}$ before contacting the linear spring.\n",
    "* (a) How much work is done by the air in the cylinder?\n",
    "* (b) How much heat transfer took place?\n",
    "* (c) What is the entropy generation, $S_{gen}$?\n",
    "* (d) Sketch and label a $T$-$s$ diagram of the air.\n",
    "* (e) How much exergy is stored in the system at the and at the end of the process\n",
    "* (f) What is the change in exergy for the process?\n",
    "* (g) How much exergy was destroyed during the process?\n",
    "* (f) What is the second law efficiency of the process, $\\eta_{II}$?"
   ]
  },
  {
   "cell_type": "markdown",
   "metadata": {},
   "source": [
    "## Solution\n",
    "\n",
    "__[Video Explanation](https://uky.yuja.com/V/Video?v=3071305&node=10458695&a=1201605425&autoplay=1)__"
   ]
  },
  {
   "cell_type": "markdown",
   "metadata": {},
   "source": [
    "### Python Initialization\n",
    "We'll start by importing the libraries we will use for our analysis and initializing dictionaries to hold the properties we will be usings."
   ]
  },
  {
   "cell_type": "code",
   "execution_count": 1,
   "metadata": {
    "collapsed": false,
    "jupyter": {
     "outputs_hidden": false
    }
   },
   "outputs": [],
   "source": [
    "from kilojoule.templates.kSI_C import *\n",
    "air = idealgas.Properties('Air')"
   ]
  },
  {
   "cell_type": "markdown",
   "metadata": {},
   "source": [
    "### Given Parameters\n",
    "We now define variables to hold our known values."
   ]
  },
  {
   "cell_type": "code",
   "execution_count": 2,
   "metadata": {
    "collapsed": false,
    "jupyter": {
     "outputs_hidden": false
    }
   },
   "outputs": [
    {
     "output_type": "display_data",
     "data": {
      "text/plain": "<IPython.core.display.Latex object>",
      "text/latex": "\\begin{aligned}{ A_{p} }&={ 0.1\\ \\mathrm{m}^{2} }&{ \\Delta{}x }&={ 0.1\\ \\mathrm{m} }&{ T_{R} }&={ 500\\ \\mathrm{°C} }\\\\{ k }&={ 1000\\ \\frac{\\mathrm{kN}}{\\mathrm{m}} }&{ m }&={ 2\\ \\mathrm{kg} }&{ p_{final} }&={ 400\\ \\mathrm{kPa} }\\\\{  }\\end{aligned}"
     },
     "metadata": {}
    },
    {
     "output_type": "display_data",
     "data": {
      "text/plain": "<IPython.core.display.HTML object>",
      "text/html": "<table border=\"1\" class=\"dataframe\">\n  <thead>\n    <tr>\n      <th></th>\n      <th>T</th>\n      <th>p</th>\n    </tr>\n    <tr>\n      <th>unit</th>\n      <th>°C</th>\n      <th>Pa</th>\n    </tr>\n  </thead>\n  <tbody>\n    <tr>\n      <th>0</th>\n      <td>20</td>\n      <td>100000.0</td>\n    </tr>\n    <tr>\n      <th>1</th>\n      <td>60</td>\n      <td>200000.0</td>\n    </tr>\n  </tbody>\n</table>"
     },
     "metadata": {}
    }
   ],
   "source": [
    "T[0] = Quantity(20,'degC')    # dead state temperature\n",
    "p[0] = Quantity(1,'bar')      # dead state pressure\n",
    "T[1] = Quantity(60,'degC')    # initial temperature\n",
    "p[1] = Quantity(200,'kPa')    # initial pressure\n",
    "p_final = Quantity(400,'kPa') # final pressure\n",
    "A_p = Quantity(0.1,'m^2')     # piston area\n",
    "Delta_x = Quantity(0.1,'m')   # distance between initial state and spring\n",
    "m = Quantity(2,'kg')          # mass\n",
    "T_R = Quantity(500,'degC')    # temperature of heat reservoir\n",
    "k = Quantity(1000,'kN/m')     # spring constant\n",
    "\n",
    "Summary();"
   ]
  },
  {
   "cell_type": "markdown",
   "metadata": {},
   "source": [
    "### Assumptions\n",
    "  - Negligible changes in kinetic energy\n",
    "  - Negligible changes in potential energy\n",
    "  - Isobaric from 1-2\n",
    "  - Spring restrained from 2-3\n",
    "  - Treat air as ideal gas"
   ]
  },
  {
   "cell_type": "code",
   "execution_count": 3,
   "metadata": {
    "collapsed": false,
    "jupyter": {
     "outputs_hidden": false
    }
   },
   "outputs": [
    {
     "output_type": "display_data",
     "data": {
      "text/plain": "<IPython.core.display.Latex object>",
      "text/latex": "\\begin{aligned}\n  {p}_{ 2 } &=  {p}_{ 1 }  = 2\\times 10^{5}\\ \\mathrm{Pa} \n\\end{aligned}\n"
     },
     "metadata": {}
    },
    {
     "output_type": "display_data",
     "data": {
      "text/plain": "<IPython.core.display.Latex object>",
      "text/latex": "\\begin{aligned}\n  {p}_{ 3 } &=  p_{final}  = 400\\ \\mathrm{kPa} = 4\\times 10^{5}\\ \\mathrm{Pa}\n\\end{aligned}\n"
     },
     "metadata": {}
    },
    {
     "output_type": "display_data",
     "data": {
      "text/plain": "<IPython.core.display.Latex object>",
      "text/latex": "\\begin{aligned}\n  R &=  \\underset{ air }{ R }  = 0.28705\\ \\frac{\\mathrm{kJ}}{\\left(\\mathrm{K} \\cdot \\mathrm{kg}\\right)} \n\\end{aligned}\n"
     },
     "metadata": {}
    }
   ],
   "source": [
    "%%showcalc\n",
    "p[2] = p[1]\n",
    "p[3] = p_final\n",
    "R = air.R"
   ]
  },
  {
   "cell_type": "markdown",
   "metadata": {},
   "source": [
    "### (a) How much work is done by the air in the cylinder?\n",
    "Since we are treating air as in ideal gas and we know both the temperature and the pressure at state 1, we can determine the specific volume at state 1.  To do this we can either solve the ideal gas law for $v$ or we can use the `air` property tables we imported above."
   ]
  },
  {
   "cell_type": "code",
   "execution_count": 4,
   "metadata": {
    "collapsed": false,
    "jupyter": {
     "outputs_hidden": false
    }
   },
   "outputs": [
    {
     "output_type": "display_data",
     "data": {
      "text/plain": "<IPython.core.display.Latex object>",
      "text/latex": "\\begin{aligned}\n  v_{tables} &=  \\mathrm{ \\underset{ air }{ v } }\\left( {T}_{ 1 }, {p}_{ 1 } \\right)  = \\mathrm{ \\underset{ air }{ v } }\\left( 60\\ \\mathrm{°C}, 2\\times 10^{5}\\ \\mathrm{Pa} \\right) = 0.47816\\ \\frac{\\mathrm{m}^{3}}{\\mathrm{kg}}\n\\end{aligned}\n"
     },
     "metadata": {}
    },
    {
     "output_type": "display_data",
     "data": {
      "text/plain": "<IPython.core.display.Latex object>",
      "text/latex": "\\begin{aligned}\n  v_{ig} &=  \\frac{  R  \\cdot  {T}_{ 1 }  }{ {p}_{ 1 } } \\\\\n    &= \\frac{  0.28705\\ \\frac{\\mathrm{kJ}}{\\left(\\mathrm{K} \\cdot \\mathrm{kg}\\right)}  \\cdot  333.15\\ \\mathrm{K}  }{ 2\\times 10^{5}\\ \\mathrm{Pa} }\\\\\n    &= 0.00047816\\ \\frac{\\mathrm{kJ}}{\\left(\\mathrm{Pa} \\cdot \\mathrm{kg}\\right)}\n\\end{aligned}\n"
     },
     "metadata": {}
    },
    {
     "output_type": "display_data",
     "data": {
      "text/plain": "<IPython.core.display.Latex object>",
      "text/latex": "\\begin{aligned}\n  {v}_{ 1 } &=  v_{ig}  = 0.00047816\\ \\frac{\\mathrm{kJ}}{\\left(\\mathrm{Pa} \\cdot \\mathrm{kg}\\right)} = 0.47816\\ \\frac{\\mathrm{m}^{3}}{\\mathrm{kg}}\n\\end{aligned}\n"
     },
     "metadata": {}
    }
   ],
   "source": [
    "%%showcalc\n",
    "v_tables = air.v(T[1], p[1])\n",
    "v_ig = R*T[1].to('K')/p[1]\n",
    "v[1] = v_ig"
   ]
  },
  {
   "cell_type": "markdown",
   "metadata": {},
   "source": [
    "The initial volume can then be found with the mass and the specific volume"
   ]
  },
  {
   "cell_type": "code",
   "execution_count": 5,
   "metadata": {
    "collapsed": false,
    "jupyter": {
     "outputs_hidden": false
    }
   },
   "outputs": [
    {
     "output_type": "display_data",
     "data": {
      "text/plain": "<IPython.core.display.Latex object>",
      "text/latex": "\\begin{aligned}\n  {Vol}_{ 1 } &=   m  \\cdot  {v}_{ 1 }  \\\\\n    &=  2\\ \\mathrm{kg}  \\cdot  0.47816\\ \\frac{\\mathrm{m}^{3}}{\\mathrm{kg}} \\\\\n    &= 0.95632\\ \\mathrm{m}^{3}\n\\end{aligned}\n"
     },
     "metadata": {}
    }
   ],
   "source": [
    "%%showcalc\n",
    "Vol[1] = m*v[1]"
   ]
  },
  {
   "cell_type": "markdown",
   "metadata": {},
   "source": [
    "The change in volume for 1 to 2 due to the expansion of the fluid can be calculated with the cross-sectional area of the piston and the space between the piston and the spring"
   ]
  },
  {
   "cell_type": "code",
   "execution_count": 6,
   "metadata": {
    "collapsed": false,
    "jupyter": {
     "outputs_hidden": false
    }
   },
   "outputs": [
    {
     "output_type": "display_data",
     "data": {
      "text/plain": "<IPython.core.display.Latex object>",
      "text/latex": "\\begin{aligned}\n  {Vol}_{ 2 } &=  {Vol}_{ 1 } +  \\Delta{}x  \\cdot  A_{p}  \\\\\n    &= 0.95632\\ \\mathrm{m}^{3} +  0.1\\ \\mathrm{m}  \\cdot  0.1\\ \\mathrm{m}^{2} \\\\\n    &= 0.96632\\ \\mathrm{m}^{3}\n\\end{aligned}\n"
     },
     "metadata": {}
    }
   ],
   "source": [
    "%%showcalc\n",
    "Vol[2] = Vol[1] + Delta_x*A_p"
   ]
  },
  {
   "cell_type": "markdown",
   "metadata": {},
   "source": [
    "The process from 1 to 2 is isobaric so the boundary work, $W_{1\\to2}=\\int_1^2p\\ dv$, can be evaluated by pulling the pressure (constant) out of the integral"
   ]
  },
  {
   "cell_type": "code",
   "execution_count": 7,
   "metadata": {
    "collapsed": false,
    "jupyter": {
     "outputs_hidden": false
    }
   },
   "outputs": [
    {
     "output_type": "display_data",
     "data": {
      "text/plain": "<IPython.core.display.Latex object>",
      "text/latex": "\\begin{aligned}\n  W_{1\\to{}2} &=   {p}_{ 1 }  \\cdot  \\left(  {Vol}_{ 2 } - {Vol}_{ 1 }  \\right)  \\\\\n    &=  2\\times 10^{5}\\ \\mathrm{Pa}  \\cdot  \\left(  0.96632\\ \\mathrm{m}^{3} - 0.95632\\ \\mathrm{m}^{3}  \\right) \\\\\n    &= 2.0\\ \\mathrm{kJ}\n\\end{aligned}\n"
     },
     "metadata": {}
    }
   ],
   "source": [
    "%%showcalc\n",
    "W_1_to_2 = p[1]*(Vol[2]-Vol[1])\n",
    "W_1_to_2.ito('kJ') "
   ]
  },
  {
   "cell_type": "markdown",
   "metadata": {},
   "source": [
    "The spring must provide enough force to support the change in pressure.  So the spring relations can be used to determine the necessary change in volume by solving the following equation for $\\Delta V$\n",
    "$$\\Delta p=\\frac{k}{A^2}\\Delta V$$"
   ]
  },
  {
   "cell_type": "code",
   "execution_count": 8,
   "metadata": {
    "collapsed": false,
    "jupyter": {
     "outputs_hidden": false
    }
   },
   "outputs": [
    {
     "output_type": "display_data",
     "data": {
      "text/plain": "<IPython.core.display.Latex object>",
      "text/latex": "\\begin{aligned}\n  {Vol}_{ 3 } &=  {Vol}_{ 2 } + \\frac{  \\left(  {p}_{ 3 } - {p}_{ 2 }  \\right)  \\cdot  A_{p}^2  }{ k } \\\\\n    &= 0.96632\\ \\mathrm{m}^{3} + \\frac{  \\left(  4\\times 10^{5}\\ \\mathrm{Pa} - 2\\times 10^{5}\\ \\mathrm{Pa}  \\right)  \\cdot  \\left(0.1\\ \\mathrm{m}^{2} \\right)^2  }{ 1000\\ \\frac{\\mathrm{kN}}{\\mathrm{m}} }\\\\\n    &= 0.96832\\ \\mathrm{m}^{3}\n\\end{aligned}\n"
     },
     "metadata": {}
    }
   ],
   "source": [
    "%%showcalc\n",
    "Vol[3] = Vol[2] + (p[3]-p[2])*A_p**2/k"
   ]
  },
  {
   "cell_type": "markdown",
   "metadata": {},
   "source": [
    "The work from 2 to 3 is most easily calculated by looking at the area under the curve on the $p$-$V$ diagram.  Recall that the pressure varies linearly with the change in volume for a piston in contact with an ideal spring"
   ]
  },
  {
   "cell_type": "code",
   "execution_count": 9,
   "metadata": {
    "collapsed": false,
    "jupyter": {
     "outputs_hidden": false
    }
   },
   "outputs": [
    {
     "output_type": "display_data",
     "data": {
      "text/plain": "<IPython.core.display.Latex object>",
      "text/latex": "\\begin{aligned}\n  W_{2\\to{}3} &=   \\frac{ {p}_{ 3 } + {p}_{ 2 } }{ 2 }  \\cdot  \\left(  {Vol}_{ 3 } - {Vol}_{ 2 }  \\right)  \\\\\n    &=  \\frac{ 4\\times 10^{5}\\ \\mathrm{Pa} + 2\\times 10^{5}\\ \\mathrm{Pa} }{ 2 }  \\cdot  \\left(  0.96832\\ \\mathrm{m}^{3} - 0.96632\\ \\mathrm{m}^{3}  \\right) \\\\\n    &= 0.6\\ \\mathrm{kJ}\n\\end{aligned}\n"
     },
     "metadata": {}
    }
   ],
   "source": [
    "%%showcalc\n",
    "W_2_to_3 = (p[3]+p[2])/2*(Vol[3]-Vol[2])\n",
    "W_2_to_3.ito('kJ')"
   ]
  },
  {
   "cell_type": "markdown",
   "metadata": {},
   "source": [
    "The total work is then the summation the two processes"
   ]
  },
  {
   "cell_type": "code",
   "execution_count": 10,
   "metadata": {
    "collapsed": false,
    "jupyter": {
     "outputs_hidden": false
    }
   },
   "outputs": [
    {
     "output_type": "display_data",
     "data": {
      "text/plain": "<IPython.core.display.Markdown object>",
      "text/markdown": " Work from 1 to 3"
     },
     "metadata": {}
    },
    {
     "output_type": "display_data",
     "data": {
      "text/plain": "<IPython.core.display.Latex object>",
      "text/latex": "\\begin{aligned}\n  W_{1\\to{}3} &=  W_{1\\to{}2} + W_{2\\to{}3} \\\\\n    &= 2.0\\ \\mathrm{kJ} + 0.6\\ \\mathrm{kJ}\\\\\n    &= 2.6\\ \\mathrm{kJ}\n\\end{aligned}\n"
     },
     "metadata": {}
    },
    {
     "output_type": "display_data",
     "data": {
      "text/plain": "<IPython.core.display.Latex object>",
      "text/latex": "\\begin{aligned}\n  W_{tot} &=  W_{1\\to{}3}  = 2.6\\ \\mathrm{kJ} \n\\end{aligned}\n"
     },
     "metadata": {}
    }
   ],
   "source": [
    "%%showcalc\n",
    "# Work from 1 to 3\n",
    "W_1_to_3 = W_1_to_2 + W_2_to_3\n",
    "W_tot = W_1_to_3"
   ]
  },
  {
   "cell_type": "markdown",
   "metadata": {},
   "source": [
    "#### (b) How much heat transfer took place?\n",
    "We need two independent properties at state 3.  We know the pressure and we can find the specific volume from the mass and total volume"
   ]
  },
  {
   "cell_type": "code",
   "execution_count": 11,
   "metadata": {
    "collapsed": false,
    "jupyter": {
     "outputs_hidden": false
    }
   },
   "outputs": [
    {
     "output_type": "display_data",
     "data": {
      "text/plain": "<IPython.core.display.Latex object>",
      "text/latex": "\\begin{aligned}\n  {v}_{ 3 } &=  \\frac{ {Vol}_{ 3 } }{ m } \\\\\n    &= \\frac{ 0.96832\\ \\mathrm{m}^{3} }{ 2\\ \\mathrm{kg} }\\\\\n    &= 0.48416\\ \\frac{\\mathrm{m}^{3}}{\\mathrm{kg}}\n\\end{aligned}\n"
     },
     "metadata": {}
    }
   ],
   "source": [
    "%%showcalc\n",
    "v[3] = Vol[3]/m"
   ]
  },
  {
   "cell_type": "markdown",
   "metadata": {},
   "source": [
    "We now have enough information to look up the final temperature and the internal energy at the beginning and the end"
   ]
  },
  {
   "cell_type": "code",
   "execution_count": 12,
   "metadata": {
    "collapsed": false,
    "jupyter": {
     "outputs_hidden": false
    }
   },
   "outputs": [
    {
     "output_type": "display_data",
     "data": {
      "text/plain": "<IPython.core.display.Latex object>",
      "text/latex": "\\begin{aligned}\n  {T}_{ 3 } &=  \\mathrm{ \\underset{ air }{ T } }\\left( {p}_{ 3 }, {v}_{ 3 } \\right)  = \\mathrm{ \\underset{ air }{ T } }\\left( 4\\times 10^{5}\\ \\mathrm{Pa}, 0.48416\\ \\frac{\\mathrm{m}^{3}}{\\mathrm{kg}} \\right) = 401.51\\ \\mathrm{°C}\n\\end{aligned}\n"
     },
     "metadata": {}
    },
    {
     "output_type": "display_data",
     "data": {
      "text/plain": "<IPython.core.display.Latex object>",
      "text/latex": "\\begin{aligned}\n  {u}_{ 1 } &=  \\mathrm{ \\underset{ air }{ u } }\\left( {T}_{ 1 }, {p}_{ 1 } \\right)  = \\mathrm{ \\underset{ air }{ u } }\\left( 60\\ \\mathrm{°C}, 2\\times 10^{5}\\ \\mathrm{Pa} \\right) = -64.692\\ \\frac{\\mathrm{kJ}}{\\mathrm{kg}}\n\\end{aligned}\n"
     },
     "metadata": {}
    },
    {
     "output_type": "display_data",
     "data": {
      "text/plain": "<IPython.core.display.Latex object>",
      "text/latex": "\\begin{aligned}\n  {u}_{ 3 } &=  \\mathrm{ \\underset{ air }{ u } }\\left( {T}_{ 3 }, {p}_{ 3 } \\right)  = \\mathrm{ \\underset{ air }{ u } }\\left( 401.51\\ \\mathrm{°C}, 4\\times 10^{5}\\ \\mathrm{Pa} \\right) = 190.04\\ \\frac{\\mathrm{kJ}}{\\mathrm{kg}}\n\\end{aligned}\n"
     },
     "metadata": {}
    }
   ],
   "source": [
    "%%showcalc\n",
    "T[3] = air.T(p[3],v[3])\n",
    "u[1] = air.u(T[1],p[1])\n",
    "u[3] = air.u(T[3],p[3])"
   ]
  },
  {
   "cell_type": "markdown",
   "metadata": {},
   "source": [
    "The first law can be applied from state 1 to state 3 to determine the total heat transfer for the process"
   ]
  },
  {
   "cell_type": "code",
   "execution_count": 13,
   "metadata": {
    "collapsed": false,
    "jupyter": {
     "outputs_hidden": false
    }
   },
   "outputs": [
    {
     "output_type": "display_data",
     "data": {
      "text/plain": "<IPython.core.display.Markdown object>",
      "text/markdown": " 1st Law"
     },
     "metadata": {}
    },
    {
     "output_type": "display_data",
     "data": {
      "text/plain": "<IPython.core.display.Latex object>",
      "text/latex": "\\begin{aligned}\n  Q_{1\\to{}3} &=   m  \\cdot  \\left(  {u}_{ 3 } - {u}_{ 1 }  \\right)  + W_{1\\to{}3} \\\\\n    &=  2\\ \\mathrm{kg}  \\cdot  \\left(  190.04\\ \\frac{\\mathrm{kJ}}{\\mathrm{kg}} - -64.692\\ \\frac{\\mathrm{kJ}}{\\mathrm{kg}}  \\right)  + 2.6\\ \\mathrm{kJ}\\\\\n    &= 512.06\\ \\mathrm{kJ}\n\\end{aligned}\n"
     },
     "metadata": {}
    }
   ],
   "source": [
    "%%showcalc\n",
    "# 1st Law\n",
    "Q_1_to_3 = m*(u[3]-u[1]) + W_1_to_3"
   ]
  },
  {
   "cell_type": "markdown",
   "metadata": {},
   "source": [
    "#### (c) What is the entropy generation, $S_{gen}$?\n",
    "To apply the 2nd law from 1 to 3, we will need the specific entropies, which we can look up with the same two independent intensive properties as the other properties"
   ]
  },
  {
   "cell_type": "code",
   "execution_count": 14,
   "metadata": {
    "collapsed": false,
    "jupyter": {
     "outputs_hidden": false
    }
   },
   "outputs": [
    {
     "output_type": "display_data",
     "data": {
      "text/plain": "<IPython.core.display.Markdown object>",
      "text/markdown": " Entropies from property tables"
     },
     "metadata": {}
    },
    {
     "output_type": "display_data",
     "data": {
      "text/plain": "<IPython.core.display.Latex object>",
      "text/latex": "\\begin{aligned}\n  {s}_{ 1 } &=  \\mathrm{ \\underset{ air }{ s } }\\left( {T}_{ 1 }, {p}_{ 1 } \\right)  = \\mathrm{ \\underset{ air }{ s } }\\left( 60\\ \\mathrm{°C}, 2\\times 10^{5}\\ \\mathrm{Pa} \\right) = 6.6142\\ \\frac{\\mathrm{kJ}}{\\left(\\mathrm{K} \\cdot \\mathrm{kg}\\right)}\n\\end{aligned}\n"
     },
     "metadata": {}
    },
    {
     "output_type": "display_data",
     "data": {
      "text/plain": "<IPython.core.display.Latex object>",
      "text/latex": "\\begin{aligned}\n  {s}_{ 3 } &=  \\mathrm{ \\underset{ air }{ s } }\\left( {T}_{ 3 }, {p}_{ 3 } \\right)  = \\mathrm{ \\underset{ air }{ s } }\\left( 401.51\\ \\mathrm{°C}, 4\\times 10^{5}\\ \\mathrm{Pa} \\right) = 7.1416\\ \\frac{\\mathrm{kJ}}{\\left(\\mathrm{K} \\cdot \\mathrm{kg}\\right)}\n\\end{aligned}\n"
     },
     "metadata": {}
    }
   ],
   "source": [
    "%%showcalc\n",
    "# Entropies from property tables\n",
    "s[1] = air.s(T[1],p[1])\n",
    "s[3] = air.s(T[3],p[3])"
   ]
  },
  {
   "cell_type": "markdown",
   "metadata": {},
   "source": [
    "The 2nd law can then be solved for the entropy generation."
   ]
  },
  {
   "cell_type": "code",
   "execution_count": 15,
   "metadata": {
    "collapsed": false,
    "jupyter": {
     "outputs_hidden": false
    }
   },
   "outputs": [
    {
     "output_type": "display_data",
     "data": {
      "text/plain": "<IPython.core.display.Markdown object>",
      "text/markdown": " 2nd Law"
     },
     "metadata": {}
    },
    {
     "output_type": "display_data",
     "data": {
      "text/plain": "<IPython.core.display.Latex object>",
      "text/latex": "\\begin{aligned}\n  S_{gen} &=    m  \\cdot  \\left(  {s}_{ 3 } - {s}_{ 1 }  \\right)  - \\frac{ Q_{1\\to{}3} }{ T_{R} }  \\\\\n    &=   2\\ \\mathrm{kg}  \\cdot  \\left(  7.1416\\ \\frac{\\mathrm{kJ}}{\\left(\\mathrm{K} \\cdot \\mathrm{kg}\\right)} - 6.6142\\ \\frac{\\mathrm{kJ}}{\\left(\\mathrm{K} \\cdot \\mathrm{kg}\\right)}  \\right)  - \\frac{ 512.06\\ \\mathrm{kJ} }{ 773.15\\ \\mathrm{K} } \\\\\n    &= 0.3925\\ \\frac{\\mathrm{kJ}}{\\mathrm{K}}\n\\end{aligned}\n"
     },
     "metadata": {}
    }
   ],
   "source": [
    "%%showcalc\n",
    "# 2nd Law\n",
    "S_gen = m*(s[3]-s[1]) - Q_1_to_3/T_R.to('K')"
   ]
  },
  {
   "cell_type": "markdown",
   "metadata": {},
   "source": [
    "#### (d) Sketch a $T$-$s$ diagram of the air"
   ]
  },
  {
   "cell_type": "code",
   "execution_count": 16,
   "metadata": {
    "collapsed": false,
    "jupyter": {
     "outputs_hidden": false
    }
   },
   "outputs": [
    {
     "output_type": "display_data",
     "data": {
      "text/plain": "<Figure size 1200x800 with 1 Axes>",
      "image/svg+xml": "<?xml version=\"1.0\" encoding=\"utf-8\" standalone=\"no\"?>\n<!DOCTYPE svg PUBLIC \"-//W3C//DTD SVG 1.1//EN\"\n  \"http://www.w3.org/Graphics/SVG/1.1/DTD/svg11.dtd\">\n<svg height=\"479.658125pt\" version=\"1.1\" viewBox=\"0 0 723.765625 479.658125\" width=\"723.765625pt\" xmlns=\"http://www.w3.org/2000/svg\" xmlns:xlink=\"http://www.w3.org/1999/xlink\">\n <metadata>\n  <rdf:RDF xmlns:cc=\"http://creativecommons.org/ns#\" xmlns:dc=\"http://purl.org/dc/elements/1.1/\" xmlns:rdf=\"http://www.w3.org/1999/02/22-rdf-syntax-ns#\">\n   <cc:Work>\n    <dc:type rdf:resource=\"http://purl.org/dc/dcmitype/StillImage\"/>\n    <dc:date>2021-05-22T20:38:41.262074</dc:date>\n    <dc:format>image/svg+xml</dc:format>\n    <dc:creator>\n     <cc:Agent>\n      <dc:title>Matplotlib v3.4.2, https://matplotlib.org/</dc:title>\n     </cc:Agent>\n    </dc:creator>\n   </cc:Work>\n  </rdf:RDF>\n </metadata>\n <defs>\n  <style type=\"text/css\">*{stroke-linecap:butt;stroke-linejoin:round;}</style>\n </defs>\n <g id=\"figure_1\">\n  <g id=\"patch_1\">\n   <path d=\"M 0 479.658125 \nL 723.765625 479.658125 \nL 723.765625 0 \nL 0 0 \nz\n\" style=\"fill:none;\"/>\n  </g>\n  <g id=\"axes_1\">\n   <g id=\"patch_2\">\n    <path d=\"M 46.965625 442.08 \nL 716.565625 442.08 \nL 716.565625 7.2 \nL 46.965625 7.2 \nz\n\" style=\"fill:#ffffff;\"/>\n   </g>\n   <g id=\"matplotlib.axis_1\">\n    <g id=\"xtick_1\">\n     <g id=\"line2d_1\">\n      <defs>\n       <path d=\"M 0 0 \nL 0 3.5 \n\" id=\"m6d86d87fcd\" style=\"stroke:#000000;stroke-width:0.8;\"/>\n      </defs>\n      <g>\n       <use style=\"stroke:#000000;stroke-width:0.8;\" x=\"61.058826\" xlink:href=\"#m6d86d87fcd\" y=\"442.08\"/>\n      </g>\n     </g>\n     <g id=\"text_1\">\n      <!-- 6600 -->\n      <g transform=\"translate(48.333826 456.678438)scale(0.1 -0.1)\">\n       <defs>\n        <path d=\"M 2113 2584 \nQ 1688 2584 1439 2293 \nQ 1191 2003 1191 1497 \nQ 1191 994 1439 701 \nQ 1688 409 2113 409 \nQ 2538 409 2786 701 \nQ 3034 994 3034 1497 \nQ 3034 2003 2786 2293 \nQ 2538 2584 2113 2584 \nz\nM 3366 4563 \nL 3366 3988 \nQ 3128 4100 2886 4159 \nQ 2644 4219 2406 4219 \nQ 1781 4219 1451 3797 \nQ 1122 3375 1075 2522 \nQ 1259 2794 1537 2939 \nQ 1816 3084 2150 3084 \nQ 2853 3084 3261 2657 \nQ 3669 2231 3669 1497 \nQ 3669 778 3244 343 \nQ 2819 -91 2113 -91 \nQ 1303 -91 875 529 \nQ 447 1150 447 2328 \nQ 447 3434 972 4092 \nQ 1497 4750 2381 4750 \nQ 2619 4750 2861 4703 \nQ 3103 4656 3366 4563 \nz\n\" id=\"DejaVuSans-36\" transform=\"scale(0.015625)\"/>\n        <path d=\"M 2034 4250 \nQ 1547 4250 1301 3770 \nQ 1056 3291 1056 2328 \nQ 1056 1369 1301 889 \nQ 1547 409 2034 409 \nQ 2525 409 2770 889 \nQ 3016 1369 3016 2328 \nQ 3016 3291 2770 3770 \nQ 2525 4250 2034 4250 \nz\nM 2034 4750 \nQ 2819 4750 3233 4129 \nQ 3647 3509 3647 2328 \nQ 3647 1150 3233 529 \nQ 2819 -91 2034 -91 \nQ 1250 -91 836 529 \nQ 422 1150 422 2328 \nQ 422 3509 836 4129 \nQ 1250 4750 2034 4750 \nz\n\" id=\"DejaVuSans-30\" transform=\"scale(0.015625)\"/>\n       </defs>\n       <use xlink:href=\"#DejaVuSans-36\"/>\n       <use x=\"63.623047\" xlink:href=\"#DejaVuSans-36\"/>\n       <use x=\"127.246094\" xlink:href=\"#DejaVuSans-30\"/>\n       <use x=\"190.869141\" xlink:href=\"#DejaVuSans-30\"/>\n      </g>\n     </g>\n    </g>\n    <g id=\"xtick_2\">\n     <g id=\"line2d_2\">\n      <g>\n       <use style=\"stroke:#000000;stroke-width:0.8;\" x=\"176.478505\" xlink:href=\"#m6d86d87fcd\" y=\"442.08\"/>\n      </g>\n     </g>\n     <g id=\"text_2\">\n      <!-- 6700 -->\n      <g transform=\"translate(163.753505 456.678438)scale(0.1 -0.1)\">\n       <defs>\n        <path d=\"M 525 4666 \nL 3525 4666 \nL 3525 4397 \nL 1831 0 \nL 1172 0 \nL 2766 4134 \nL 525 4134 \nL 525 4666 \nz\n\" id=\"DejaVuSans-37\" transform=\"scale(0.015625)\"/>\n       </defs>\n       <use xlink:href=\"#DejaVuSans-36\"/>\n       <use x=\"63.623047\" xlink:href=\"#DejaVuSans-37\"/>\n       <use x=\"127.246094\" xlink:href=\"#DejaVuSans-30\"/>\n       <use x=\"190.869141\" xlink:href=\"#DejaVuSans-30\"/>\n      </g>\n     </g>\n    </g>\n    <g id=\"xtick_3\">\n     <g id=\"line2d_3\">\n      <g>\n       <use style=\"stroke:#000000;stroke-width:0.8;\" x=\"291.898184\" xlink:href=\"#m6d86d87fcd\" y=\"442.08\"/>\n      </g>\n     </g>\n     <g id=\"text_3\">\n      <!-- 6800 -->\n      <g transform=\"translate(279.173184 456.678438)scale(0.1 -0.1)\">\n       <defs>\n        <path d=\"M 2034 2216 \nQ 1584 2216 1326 1975 \nQ 1069 1734 1069 1313 \nQ 1069 891 1326 650 \nQ 1584 409 2034 409 \nQ 2484 409 2743 651 \nQ 3003 894 3003 1313 \nQ 3003 1734 2745 1975 \nQ 2488 2216 2034 2216 \nz\nM 1403 2484 \nQ 997 2584 770 2862 \nQ 544 3141 544 3541 \nQ 544 4100 942 4425 \nQ 1341 4750 2034 4750 \nQ 2731 4750 3128 4425 \nQ 3525 4100 3525 3541 \nQ 3525 3141 3298 2862 \nQ 3072 2584 2669 2484 \nQ 3125 2378 3379 2068 \nQ 3634 1759 3634 1313 \nQ 3634 634 3220 271 \nQ 2806 -91 2034 -91 \nQ 1263 -91 848 271 \nQ 434 634 434 1313 \nQ 434 1759 690 2068 \nQ 947 2378 1403 2484 \nz\nM 1172 3481 \nQ 1172 3119 1398 2916 \nQ 1625 2713 2034 2713 \nQ 2441 2713 2670 2916 \nQ 2900 3119 2900 3481 \nQ 2900 3844 2670 4047 \nQ 2441 4250 2034 4250 \nQ 1625 4250 1398 4047 \nQ 1172 3844 1172 3481 \nz\n\" id=\"DejaVuSans-38\" transform=\"scale(0.015625)\"/>\n       </defs>\n       <use xlink:href=\"#DejaVuSans-36\"/>\n       <use x=\"63.623047\" xlink:href=\"#DejaVuSans-38\"/>\n       <use x=\"127.246094\" xlink:href=\"#DejaVuSans-30\"/>\n       <use x=\"190.869141\" xlink:href=\"#DejaVuSans-30\"/>\n      </g>\n     </g>\n    </g>\n    <g id=\"xtick_4\">\n     <g id=\"line2d_4\">\n      <g>\n       <use style=\"stroke:#000000;stroke-width:0.8;\" x=\"407.317863\" xlink:href=\"#m6d86d87fcd\" y=\"442.08\"/>\n      </g>\n     </g>\n     <g id=\"text_4\">\n      <!-- 6900 -->\n      <g transform=\"translate(394.592863 456.678438)scale(0.1 -0.1)\">\n       <defs>\n        <path d=\"M 703 97 \nL 703 672 \nQ 941 559 1184 500 \nQ 1428 441 1663 441 \nQ 2288 441 2617 861 \nQ 2947 1281 2994 2138 \nQ 2813 1869 2534 1725 \nQ 2256 1581 1919 1581 \nQ 1219 1581 811 2004 \nQ 403 2428 403 3163 \nQ 403 3881 828 4315 \nQ 1253 4750 1959 4750 \nQ 2769 4750 3195 4129 \nQ 3622 3509 3622 2328 \nQ 3622 1225 3098 567 \nQ 2575 -91 1691 -91 \nQ 1453 -91 1209 -44 \nQ 966 3 703 97 \nz\nM 1959 2075 \nQ 2384 2075 2632 2365 \nQ 2881 2656 2881 3163 \nQ 2881 3666 2632 3958 \nQ 2384 4250 1959 4250 \nQ 1534 4250 1286 3958 \nQ 1038 3666 1038 3163 \nQ 1038 2656 1286 2365 \nQ 1534 2075 1959 2075 \nz\n\" id=\"DejaVuSans-39\" transform=\"scale(0.015625)\"/>\n       </defs>\n       <use xlink:href=\"#DejaVuSans-36\"/>\n       <use x=\"63.623047\" xlink:href=\"#DejaVuSans-39\"/>\n       <use x=\"127.246094\" xlink:href=\"#DejaVuSans-30\"/>\n       <use x=\"190.869141\" xlink:href=\"#DejaVuSans-30\"/>\n      </g>\n     </g>\n    </g>\n    <g id=\"xtick_5\">\n     <g id=\"line2d_5\">\n      <g>\n       <use style=\"stroke:#000000;stroke-width:0.8;\" x=\"522.737542\" xlink:href=\"#m6d86d87fcd\" y=\"442.08\"/>\n      </g>\n     </g>\n     <g id=\"text_5\">\n      <!-- 7000 -->\n      <g transform=\"translate(510.012542 456.678438)scale(0.1 -0.1)\">\n       <use xlink:href=\"#DejaVuSans-37\"/>\n       <use x=\"63.623047\" xlink:href=\"#DejaVuSans-30\"/>\n       <use x=\"127.246094\" xlink:href=\"#DejaVuSans-30\"/>\n       <use x=\"190.869141\" xlink:href=\"#DejaVuSans-30\"/>\n      </g>\n     </g>\n    </g>\n    <g id=\"xtick_6\">\n     <g id=\"line2d_6\">\n      <g>\n       <use style=\"stroke:#000000;stroke-width:0.8;\" x=\"638.157221\" xlink:href=\"#m6d86d87fcd\" y=\"442.08\"/>\n      </g>\n     </g>\n     <g id=\"text_6\">\n      <!-- 7100 -->\n      <g transform=\"translate(625.432221 456.678438)scale(0.1 -0.1)\">\n       <defs>\n        <path d=\"M 794 531 \nL 1825 531 \nL 1825 4091 \nL 703 3866 \nL 703 4441 \nL 1819 4666 \nL 2450 4666 \nL 2450 531 \nL 3481 531 \nL 3481 0 \nL 794 0 \nL 794 531 \nz\n\" id=\"DejaVuSans-31\" transform=\"scale(0.015625)\"/>\n       </defs>\n       <use xlink:href=\"#DejaVuSans-37\"/>\n       <use x=\"63.623047\" xlink:href=\"#DejaVuSans-31\"/>\n       <use x=\"127.246094\" xlink:href=\"#DejaVuSans-30\"/>\n       <use x=\"190.869141\" xlink:href=\"#DejaVuSans-30\"/>\n      </g>\n     </g>\n    </g>\n    <g id=\"text_7\">\n     <!-- $s$ [J/K/kg] -->\n     <g transform=\"translate(359.465625 470.358125)scale(0.1 -0.1)\">\n      <defs>\n       <path d=\"M 3200 3397 \nL 3091 2853 \nQ 2863 2978 2609 3040 \nQ 2356 3103 2088 3103 \nQ 1634 3103 1373 2948 \nQ 1113 2794 1113 2528 \nQ 1113 2219 1719 2053 \nQ 1766 2041 1788 2034 \nL 1972 1978 \nQ 2547 1819 2739 1644 \nQ 2931 1469 2931 1166 \nQ 2931 609 2489 259 \nQ 2047 -91 1331 -91 \nQ 1053 -91 747 -37 \nQ 441 16 72 128 \nL 184 722 \nQ 500 559 806 475 \nQ 1113 391 1394 391 \nQ 1816 391 2080 572 \nQ 2344 753 2344 1031 \nQ 2344 1331 1650 1516 \nL 1591 1531 \nL 1394 1581 \nQ 956 1697 753 1886 \nQ 550 2075 550 2369 \nQ 550 2928 970 3256 \nQ 1391 3584 2113 3584 \nQ 2397 3584 2667 3537 \nQ 2938 3491 3200 3397 \nz\n\" id=\"DejaVuSans-Oblique-73\" transform=\"scale(0.015625)\"/>\n       <path id=\"DejaVuSans-20\" transform=\"scale(0.015625)\"/>\n       <path d=\"M 550 4863 \nL 1875 4863 \nL 1875 4416 \nL 1125 4416 \nL 1125 -397 \nL 1875 -397 \nL 1875 -844 \nL 550 -844 \nL 550 4863 \nz\n\" id=\"DejaVuSans-5b\" transform=\"scale(0.015625)\"/>\n       <path d=\"M 628 4666 \nL 1259 4666 \nL 1259 325 \nQ 1259 -519 939 -900 \nQ 619 -1281 -91 -1281 \nL -331 -1281 \nL -331 -750 \nL -134 -750 \nQ 284 -750 456 -515 \nQ 628 -281 628 325 \nL 628 4666 \nz\n\" id=\"DejaVuSans-4a\" transform=\"scale(0.015625)\"/>\n       <path d=\"M 1625 4666 \nL 2156 4666 \nL 531 -594 \nL 0 -594 \nL 1625 4666 \nz\n\" id=\"DejaVuSans-2f\" transform=\"scale(0.015625)\"/>\n       <path d=\"M 628 4666 \nL 1259 4666 \nL 1259 2694 \nL 3353 4666 \nL 4166 4666 \nL 1850 2491 \nL 4331 0 \nL 3500 0 \nL 1259 2247 \nL 1259 0 \nL 628 0 \nL 628 4666 \nz\n\" id=\"DejaVuSans-4b\" transform=\"scale(0.015625)\"/>\n       <path d=\"M 581 4863 \nL 1159 4863 \nL 1159 1991 \nL 2875 3500 \nL 3609 3500 \nL 1753 1863 \nL 3688 0 \nL 2938 0 \nL 1159 1709 \nL 1159 0 \nL 581 0 \nL 581 4863 \nz\n\" id=\"DejaVuSans-6b\" transform=\"scale(0.015625)\"/>\n       <path d=\"M 2906 1791 \nQ 2906 2416 2648 2759 \nQ 2391 3103 1925 3103 \nQ 1463 3103 1205 2759 \nQ 947 2416 947 1791 \nQ 947 1169 1205 825 \nQ 1463 481 1925 481 \nQ 2391 481 2648 825 \nQ 2906 1169 2906 1791 \nz\nM 3481 434 \nQ 3481 -459 3084 -895 \nQ 2688 -1331 1869 -1331 \nQ 1566 -1331 1297 -1286 \nQ 1028 -1241 775 -1147 \nL 775 -588 \nQ 1028 -725 1275 -790 \nQ 1522 -856 1778 -856 \nQ 2344 -856 2625 -561 \nQ 2906 -266 2906 331 \nL 2906 616 \nQ 2728 306 2450 153 \nQ 2172 0 1784 0 \nQ 1141 0 747 490 \nQ 353 981 353 1791 \nQ 353 2603 747 3093 \nQ 1141 3584 1784 3584 \nQ 2172 3584 2450 3431 \nQ 2728 3278 2906 2969 \nL 2906 3500 \nL 3481 3500 \nL 3481 434 \nz\n\" id=\"DejaVuSans-67\" transform=\"scale(0.015625)\"/>\n       <path d=\"M 1947 4863 \nL 1947 -844 \nL 622 -844 \nL 622 -397 \nL 1369 -397 \nL 1369 4416 \nL 622 4416 \nL 622 4863 \nL 1947 4863 \nz\n\" id=\"DejaVuSans-5d\" transform=\"scale(0.015625)\"/>\n      </defs>\n      <use transform=\"translate(0 0.015625)\" xlink:href=\"#DejaVuSans-Oblique-73\"/>\n      <use transform=\"translate(52.099609 0.015625)\" xlink:href=\"#DejaVuSans-20\"/>\n      <use transform=\"translate(83.886719 0.015625)\" xlink:href=\"#DejaVuSans-5b\"/>\n      <use transform=\"translate(122.900391 0.015625)\" xlink:href=\"#DejaVuSans-4a\"/>\n      <use transform=\"translate(152.392578 0.015625)\" xlink:href=\"#DejaVuSans-2f\"/>\n      <use transform=\"translate(186.083984 0.015625)\" xlink:href=\"#DejaVuSans-4b\"/>\n      <use transform=\"translate(251.660156 0.015625)\" xlink:href=\"#DejaVuSans-2f\"/>\n      <use transform=\"translate(285.351562 0.015625)\" xlink:href=\"#DejaVuSans-6b\"/>\n      <use transform=\"translate(343.261719 0.015625)\" xlink:href=\"#DejaVuSans-67\"/>\n      <use transform=\"translate(406.738281 0.015625)\" xlink:href=\"#DejaVuSans-5d\"/>\n     </g>\n    </g>\n   </g>\n   <g id=\"matplotlib.axis_2\">\n    <g id=\"ytick_1\">\n     <g id=\"line2d_7\">\n      <defs>\n       <path d=\"M 0 0 \nL -3.5 0 \n\" id=\"mec288c0b5e\" style=\"stroke:#000000;stroke-width:0.8;\"/>\n      </defs>\n      <g>\n       <use style=\"stroke:#000000;stroke-width:0.8;\" x=\"46.965625\" xlink:href=\"#mec288c0b5e\" y=\"402.805033\"/>\n      </g>\n     </g>\n     <g id=\"text_8\">\n      <!-- 350 -->\n      <g transform=\"translate(20.878125 406.604252)scale(0.1 -0.1)\">\n       <defs>\n        <path d=\"M 2597 2516 \nQ 3050 2419 3304 2112 \nQ 3559 1806 3559 1356 \nQ 3559 666 3084 287 \nQ 2609 -91 1734 -91 \nQ 1441 -91 1130 -33 \nQ 819 25 488 141 \nL 488 750 \nQ 750 597 1062 519 \nQ 1375 441 1716 441 \nQ 2309 441 2620 675 \nQ 2931 909 2931 1356 \nQ 2931 1769 2642 2001 \nQ 2353 2234 1838 2234 \nL 1294 2234 \nL 1294 2753 \nL 1863 2753 \nQ 2328 2753 2575 2939 \nQ 2822 3125 2822 3475 \nQ 2822 3834 2567 4026 \nQ 2313 4219 1838 4219 \nQ 1578 4219 1281 4162 \nQ 984 4106 628 3988 \nL 628 4550 \nQ 988 4650 1302 4700 \nQ 1616 4750 1894 4750 \nQ 2613 4750 3031 4423 \nQ 3450 4097 3450 3541 \nQ 3450 3153 3228 2886 \nQ 3006 2619 2597 2516 \nz\n\" id=\"DejaVuSans-33\" transform=\"scale(0.015625)\"/>\n        <path d=\"M 691 4666 \nL 3169 4666 \nL 3169 4134 \nL 1269 4134 \nL 1269 2991 \nQ 1406 3038 1543 3061 \nQ 1681 3084 1819 3084 \nQ 2600 3084 3056 2656 \nQ 3513 2228 3513 1497 \nQ 3513 744 3044 326 \nQ 2575 -91 1722 -91 \nQ 1428 -91 1123 -41 \nQ 819 9 494 109 \nL 494 744 \nQ 775 591 1075 516 \nQ 1375 441 1709 441 \nQ 2250 441 2565 725 \nQ 2881 1009 2881 1497 \nQ 2881 1984 2565 2268 \nQ 2250 2553 1709 2553 \nQ 1456 2553 1204 2497 \nQ 953 2441 691 2322 \nL 691 4666 \nz\n\" id=\"DejaVuSans-35\" transform=\"scale(0.015625)\"/>\n       </defs>\n       <use xlink:href=\"#DejaVuSans-33\"/>\n       <use x=\"63.623047\" xlink:href=\"#DejaVuSans-35\"/>\n       <use x=\"127.246094\" xlink:href=\"#DejaVuSans-30\"/>\n      </g>\n     </g>\n    </g>\n    <g id=\"ytick_2\">\n     <g id=\"line2d_8\">\n      <g>\n       <use style=\"stroke:#000000;stroke-width:0.8;\" x=\"46.965625\" xlink:href=\"#mec288c0b5e\" y=\"344.923435\"/>\n      </g>\n     </g>\n     <g id=\"text_9\">\n      <!-- 400 -->\n      <g transform=\"translate(20.878125 348.722654)scale(0.1 -0.1)\">\n       <defs>\n        <path d=\"M 2419 4116 \nL 825 1625 \nL 2419 1625 \nL 2419 4116 \nz\nM 2253 4666 \nL 3047 4666 \nL 3047 1625 \nL 3713 1625 \nL 3713 1100 \nL 3047 1100 \nL 3047 0 \nL 2419 0 \nL 2419 1100 \nL 313 1100 \nL 313 1709 \nL 2253 4666 \nz\n\" id=\"DejaVuSans-34\" transform=\"scale(0.015625)\"/>\n       </defs>\n       <use xlink:href=\"#DejaVuSans-34\"/>\n       <use x=\"63.623047\" xlink:href=\"#DejaVuSans-30\"/>\n       <use x=\"127.246094\" xlink:href=\"#DejaVuSans-30\"/>\n      </g>\n     </g>\n    </g>\n    <g id=\"ytick_3\">\n     <g id=\"line2d_9\">\n      <g>\n       <use style=\"stroke:#000000;stroke-width:0.8;\" x=\"46.965625\" xlink:href=\"#mec288c0b5e\" y=\"287.041837\"/>\n      </g>\n     </g>\n     <g id=\"text_10\">\n      <!-- 450 -->\n      <g transform=\"translate(20.878125 290.841056)scale(0.1 -0.1)\">\n       <use xlink:href=\"#DejaVuSans-34\"/>\n       <use x=\"63.623047\" xlink:href=\"#DejaVuSans-35\"/>\n       <use x=\"127.246094\" xlink:href=\"#DejaVuSans-30\"/>\n      </g>\n     </g>\n    </g>\n    <g id=\"ytick_4\">\n     <g id=\"line2d_10\">\n      <g>\n       <use style=\"stroke:#000000;stroke-width:0.8;\" x=\"46.965625\" xlink:href=\"#mec288c0b5e\" y=\"229.160239\"/>\n      </g>\n     </g>\n     <g id=\"text_11\">\n      <!-- 500 -->\n      <g transform=\"translate(20.878125 232.959457)scale(0.1 -0.1)\">\n       <use xlink:href=\"#DejaVuSans-35\"/>\n       <use x=\"63.623047\" xlink:href=\"#DejaVuSans-30\"/>\n       <use x=\"127.246094\" xlink:href=\"#DejaVuSans-30\"/>\n      </g>\n     </g>\n    </g>\n    <g id=\"ytick_5\">\n     <g id=\"line2d_11\">\n      <g>\n       <use style=\"stroke:#000000;stroke-width:0.8;\" x=\"46.965625\" xlink:href=\"#mec288c0b5e\" y=\"171.27864\"/>\n      </g>\n     </g>\n     <g id=\"text_12\">\n      <!-- 550 -->\n      <g transform=\"translate(20.878125 175.077859)scale(0.1 -0.1)\">\n       <use xlink:href=\"#DejaVuSans-35\"/>\n       <use x=\"63.623047\" xlink:href=\"#DejaVuSans-35\"/>\n       <use x=\"127.246094\" xlink:href=\"#DejaVuSans-30\"/>\n      </g>\n     </g>\n    </g>\n    <g id=\"ytick_6\">\n     <g id=\"line2d_12\">\n      <g>\n       <use style=\"stroke:#000000;stroke-width:0.8;\" x=\"46.965625\" xlink:href=\"#mec288c0b5e\" y=\"113.397042\"/>\n      </g>\n     </g>\n     <g id=\"text_13\">\n      <!-- 600 -->\n      <g transform=\"translate(20.878125 117.196261)scale(0.1 -0.1)\">\n       <use xlink:href=\"#DejaVuSans-36\"/>\n       <use x=\"63.623047\" xlink:href=\"#DejaVuSans-30\"/>\n       <use x=\"127.246094\" xlink:href=\"#DejaVuSans-30\"/>\n      </g>\n     </g>\n    </g>\n    <g id=\"ytick_7\">\n     <g id=\"line2d_13\">\n      <g>\n       <use style=\"stroke:#000000;stroke-width:0.8;\" x=\"46.965625\" xlink:href=\"#mec288c0b5e\" y=\"55.515444\"/>\n      </g>\n     </g>\n     <g id=\"text_14\">\n      <!-- 650 -->\n      <g transform=\"translate(20.878125 59.314663)scale(0.1 -0.1)\">\n       <use xlink:href=\"#DejaVuSans-36\"/>\n       <use x=\"63.623047\" xlink:href=\"#DejaVuSans-35\"/>\n       <use x=\"127.246094\" xlink:href=\"#DejaVuSans-30\"/>\n      </g>\n     </g>\n    </g>\n    <g id=\"text_15\">\n     <!-- $T$ [$\\mathrm{\\mathrm{K}}$] -->\n     <g transform=\"translate(14.798438 236.49)rotate(-90)scale(0.1 -0.1)\">\n      <defs>\n       <path d=\"M 378 4666 \nL 4325 4666 \nL 4225 4134 \nL 2559 4134 \nL 1759 0 \nL 1125 0 \nL 1925 4134 \nL 275 4134 \nL 378 4666 \nz\n\" id=\"DejaVuSans-Oblique-54\" transform=\"scale(0.015625)\"/>\n      </defs>\n      <use transform=\"translate(0 0.015625)\" xlink:href=\"#DejaVuSans-Oblique-54\"/>\n      <use transform=\"translate(61.083984 0.015625)\" xlink:href=\"#DejaVuSans-20\"/>\n      <use transform=\"translate(92.871094 0.015625)\" xlink:href=\"#DejaVuSans-5b\"/>\n      <use transform=\"translate(131.884766 0.015625)\" xlink:href=\"#DejaVuSans-4b\"/>\n      <use transform=\"translate(197.460938 0.015625)\" xlink:href=\"#DejaVuSans-5d\"/>\n     </g>\n    </g>\n   </g>\n   <g id=\"line2d_14\">\n    <path clip-path=\"url(#p08a11d6455)\" d=\"M 77.401989 422.311132 \n\" style=\"fill:none;stroke:#000000;stroke-linecap:square;stroke-width:1.5;\"/>\n    <defs>\n     <path d=\"M 0 2 \nC 0.530406 2 1.03916 1.789267 1.414214 1.414214 \nC 1.789267 1.03916 2 0.530406 2 0 \nC 2 -0.530406 1.789267 -1.03916 1.414214 -1.414214 \nC 1.03916 -1.789267 0.530406 -2 0 -2 \nC -0.530406 -2 -1.03916 -1.789267 -1.414214 -1.414214 \nC -1.789267 -1.03916 -2 -0.530406 -2 0 \nC -2 0.530406 -1.789267 1.03916 -1.414214 1.414214 \nC -1.03916 1.789267 -0.530406 2 0 2 \nz\n\" id=\"m79e2fa1d2d\" style=\"stroke:#000000;\"/>\n    </defs>\n    <g clip-path=\"url(#p08a11d6455)\">\n     <use style=\"stroke:#000000;\" x=\"77.401989\" xlink:href=\"#m79e2fa1d2d\" y=\"422.311132\"/>\n    </g>\n   </g>\n   <g id=\"line2d_15\">\n    <path clip-path=\"url(#p08a11d6455)\" d=\"M 89.496078 418.278311 \n\" style=\"fill:none;stroke:#000000;stroke-linecap:square;stroke-width:1.5;\"/>\n    <g clip-path=\"url(#p08a11d6455)\">\n     <use style=\"stroke:#000000;\" x=\"89.496078\" xlink:href=\"#m79e2fa1d2d\" y=\"418.278311\"/>\n    </g>\n   </g>\n   <g id=\"line2d_16\">\n    <path clip-path=\"url(#p08a11d6455)\" d=\"M 686.129261 26.967273 \n\" style=\"fill:none;stroke:#000000;stroke-linecap:square;stroke-width:1.5;\"/>\n    <g clip-path=\"url(#p08a11d6455)\">\n     <use style=\"stroke:#000000;\" x=\"686.129261\" xlink:href=\"#m79e2fa1d2d\" y=\"26.967273\"/>\n    </g>\n   </g>\n   <g id=\"line2d_17\">\n    <path clip-path=\"url(#p08a11d6455)\" d=\"M 77.401989 422.312727 \nL 77.524151 422.272196 \nL 77.646314 422.231661 \nL 77.768476 422.191122 \nL 77.890639 422.150579 \nL 78.012801 422.110031 \nL 78.134964 422.069479 \nL 78.257126 422.028924 \nL 78.379289 421.988364 \nL 78.501451 421.947799 \nL 78.623614 421.907231 \nL 78.745776 421.866659 \nL 78.867939 421.826082 \nL 78.990101 421.785502 \nL 79.112264 421.744917 \nL 79.234426 421.704328 \nL 79.356589 421.663735 \nL 79.478751 421.623137 \nL 79.600914 421.582536 \nL 79.723076 421.54193 \nL 79.845239 421.50132 \nL 79.967401 421.460706 \nL 80.089564 421.420088 \nL 80.211726 421.379466 \nL 80.333889 421.33884 \nL 80.456052 421.298209 \nL 80.578214 421.257575 \nL 80.700377 421.216936 \nL 80.822539 421.176293 \nL 80.944702 421.135646 \nL 81.066864 421.094994 \nL 81.189027 421.054339 \nL 81.311189 421.013679 \nL 81.433352 420.973016 \nL 81.555514 420.932348 \nL 81.677677 420.891676 \nL 81.799839 420.851 \nL 81.922002 420.810319 \nL 82.044164 420.769635 \nL 82.166327 420.728946 \nL 82.288489 420.688253 \nL 82.410652 420.647556 \nL 82.532814 420.606855 \nL 82.654977 420.56615 \nL 82.777139 420.52544 \nL 82.899302 420.484727 \nL 83.021464 420.444009 \nL 83.143627 420.403287 \nL 83.265789 420.362561 \nL 83.387952 420.32183 \nL 83.510114 420.281096 \nL 83.632277 420.240357 \nL 83.754439 420.199615 \nL 83.876602 420.158868 \nL 83.998764 420.118117 \nL 84.120927 420.077361 \nL 84.243089 420.036602 \nL 84.365252 419.995838 \nL 84.487415 419.955071 \nL 84.609577 419.914299 \nL 84.73174 419.873523 \nL 84.853902 419.832742 \nL 84.976065 419.791958 \nL 85.098227 419.751169 \nL 85.22039 419.710377 \nL 85.342552 419.66958 \nL 85.464715 419.628779 \nL 85.586877 419.587973 \nL 85.70904 419.547164 \nL 85.831202 419.50635 \nL 85.953365 419.465533 \nL 86.075527 419.424711 \nL 86.19769 419.383885 \nL 86.319852 419.343054 \nL 86.442015 419.30222 \nL 86.564177 419.261381 \nL 86.68634 419.220539 \nL 86.808502 419.179692 \nL 86.930665 419.138841 \nL 87.052827 419.097985 \nL 87.17499 419.057126 \nL 87.297152 419.016262 \nL 87.419315 418.975394 \nL 87.541477 418.934522 \nL 87.66364 418.893646 \nL 87.785802 418.852766 \nL 87.907965 418.811881 \nL 88.030127 418.770993 \nL 88.15229 418.7301 \nL 88.274452 418.689203 \nL 88.396615 418.648302 \nL 88.518777 418.607396 \nL 88.64094 418.566487 \nL 88.763103 418.525573 \nL 88.885265 418.484655 \nL 89.007428 418.443733 \nL 89.12959 418.402807 \nL 89.251753 418.361876 \nL 89.373915 418.320942 \nL 89.496078 418.280003 \n\" style=\"fill:none;stroke:#000000;stroke-linecap:square;stroke-width:1.5;\"/>\n   </g>\n   <g id=\"line2d_18\">\n    <path clip-path=\"url(#p08a11d6455)\" d=\"M 89.496078 418.278311 \nL 686.129261 26.967273 \n\" style=\"fill:none;stroke:#000000;stroke-dasharray:5.55,2.4;stroke-dashoffset:0;stroke-width:1.5;\"/>\n   </g>\n   <g id=\"patch_3\">\n    <path d=\"M 46.965625 442.08 \nL 46.965625 7.2 \n\" style=\"fill:none;stroke:#000000;stroke-linecap:square;stroke-linejoin:miter;stroke-width:0.8;\"/>\n   </g>\n   <g id=\"patch_4\">\n    <path d=\"M 46.965625 442.08 \nL 716.565625 442.08 \n\" style=\"fill:none;stroke:#000000;stroke-linecap:square;stroke-linejoin:miter;stroke-width:0.8;\"/>\n   </g>\n   <g id=\"text_16\">\n    <!-- 1 -->\n    <g transform=\"translate(74.538864 415.439413)scale(0.09 -0.09)\">\n     <use xlink:href=\"#DejaVuSans-31\"/>\n    </g>\n   </g>\n   <g id=\"text_17\">\n    <!-- 2 -->\n    <g transform=\"translate(86.632953 411.406592)scale(0.09 -0.09)\">\n     <defs>\n      <path d=\"M 1228 531 \nL 3431 531 \nL 3431 0 \nL 469 0 \nL 469 531 \nQ 828 903 1448 1529 \nQ 2069 2156 2228 2338 \nQ 2531 2678 2651 2914 \nQ 2772 3150 2772 3378 \nQ 2772 3750 2511 3984 \nQ 2250 4219 1831 4219 \nQ 1534 4219 1204 4116 \nQ 875 4013 500 3803 \nL 500 4441 \nQ 881 4594 1212 4672 \nQ 1544 4750 1819 4750 \nQ 2544 4750 2975 4387 \nQ 3406 4025 3406 3419 \nQ 3406 3131 3298 2873 \nQ 3191 2616 2906 2266 \nQ 2828 2175 2409 1742 \nQ 1991 1309 1228 531 \nz\n\" id=\"DejaVuSans-32\" transform=\"scale(0.015625)\"/>\n     </defs>\n     <use xlink:href=\"#DejaVuSans-32\"/>\n    </g>\n   </g>\n   <g id=\"text_18\">\n    <!-- 3 -->\n    <g transform=\"translate(683.266136 20.095554)scale(0.09 -0.09)\">\n     <use xlink:href=\"#DejaVuSans-33\"/>\n    </g>\n   </g>\n   <g id=\"patch_5\">\n    <path d=\"M 80.853149 421.167047 \nL 79.082862 419.649084 \nQ 79.747384 420.376218 80.285377 420.723891 \nL 79.082862 419.649084 \nQ 81.169959 419.585629 83.510114 420.281096 \nQ 82.055663 422.241854 80.348154 423.44369 \nL 80.664964 421.862273 \nQ 80.443294 422.463251 80.348154 423.44369 \nL 80.853149 421.167047 \nz\n\" style=\"fill:#1f77b4;stroke:#000000;stroke-linecap:round;\"/>\n   </g>\n   <g id=\"patch_6\">\n    <path d=\"M 392.838108 219.326781 \nL 390.738463 218.31208 \nQ 391.566857 218.845069 392.175877 219.043579 \nL 390.738463 218.31208 \nQ 392.739913 217.716934 395.180108 217.790744 \nQ 394.275522 220.058281 392.93219 221.656861 \nL 392.833995 220.047014 \nQ 392.773406 220.684698 392.93219 221.656861 \nL 392.838108 219.326781 \nz\n\" style=\"fill:#1f77b4;stroke:#000000;stroke-linecap:round;\"/>\n   </g>\n  </g>\n </g>\n <defs>\n  <clipPath id=\"p08a11d6455\">\n   <rect height=\"434.88\" width=\"669.6\" x=\"46.965625\" y=\"7.2\"/>\n  </clipPath>\n </defs>\n</svg>\n",
      "image/png": "[encoded data removed]"
     },
     "metadata": {
      "needs_background": "light"
     }
    }
   ],
   "source": [
    "# Still need to find T[2] and s[2]\n",
    "v[2] = Vol[2]/m\n",
    "T[2] = air.T(p[2], v[2])\n",
    "s[2] = air.s(p[2], v[2])\n",
    "\n",
    "# Plot T-s diagram\n",
    "Ts = air.Ts_diagram(unit_system='SI_K')\n",
    "Ts.plot_state(states[1])\n",
    "Ts.plot_state(states[2])\n",
    "Ts.plot_state(states[3])\n",
    "Ts.plot_process(states[1],states[2],path='isobaric')\n",
    "Ts.plot_process(states[2],states[3],path='unknown');"
   ]
  },
  {
   "cell_type": "markdown",
   "metadata": {},
   "source": [
    "We can also visualize the process on a $p$-$v$ diagram"
   ]
  },
  {
   "cell_type": "code",
   "execution_count": 17,
   "metadata": {
    "collapsed": false,
    "jupyter": {
     "outputs_hidden": false
    }
   },
   "outputs": [
    {
     "output_type": "display_data",
     "data": {
      "text/plain": "<Figure size 1200x800 with 1 Axes>",
      "image/svg+xml": "<?xml version=\"1.0\" encoding=\"utf-8\" standalone=\"no\"?>\n<!DOCTYPE svg PUBLIC \"-//W3C//DTD SVG 1.1//EN\"\n  \"http://www.w3.org/Graphics/SVG/1.1/DTD/svg11.dtd\">\n<svg height=\"479.658125pt\" version=\"1.1\" viewBox=\"0 0 742.875 479.658125\" width=\"742.875pt\" xmlns=\"http://www.w3.org/2000/svg\" xmlns:xlink=\"http://www.w3.org/1999/xlink\">\n <metadata>\n  <rdf:RDF xmlns:cc=\"http://creativecommons.org/ns#\" xmlns:dc=\"http://purl.org/dc/elements/1.1/\" xmlns:rdf=\"http://www.w3.org/1999/02/22-rdf-syntax-ns#\">\n   <cc:Work>\n    <dc:type rdf:resource=\"http://purl.org/dc/dcmitype/StillImage\"/>\n    <dc:date>2021-05-22T20:38:41.522013</dc:date>\n    <dc:format>image/svg+xml</dc:format>\n    <dc:creator>\n     <cc:Agent>\n      <dc:title>Matplotlib v3.4.2, https://matplotlib.org/</dc:title>\n     </cc:Agent>\n    </dc:creator>\n   </cc:Work>\n  </rdf:RDF>\n </metadata>\n <defs>\n  <style type=\"text/css\">*{stroke-linecap:butt;stroke-linejoin:round;}</style>\n </defs>\n <g id=\"figure_1\">\n  <g id=\"patch_1\">\n   <path d=\"M 0 479.658125 \nL 742.875 479.658125 \nL 742.875 0 \nL 0 0 \nz\n\" style=\"fill:none;\"/>\n  </g>\n  <g id=\"axes_1\">\n   <g id=\"patch_2\">\n    <path d=\"M 66.075 442.08 \nL 735.675 442.08 \nL 735.675 7.2 \nL 66.075 7.2 \nz\n\" style=\"fill:#ffffff;\"/>\n   </g>\n   <g id=\"matplotlib.axis_1\">\n    <g id=\"xtick_1\">\n     <g id=\"line2d_1\">\n      <defs>\n       <path d=\"M 0 0 \nL 0 3.5 \n\" id=\"m520ec0b38d\" style=\"stroke:#000000;stroke-width:0.8;\"/>\n      </defs>\n      <g>\n       <use style=\"stroke:#000000;stroke-width:0.8;\" x=\"80.484945\" xlink:href=\"#m520ec0b38d\" y=\"442.08\"/>\n      </g>\n     </g>\n     <g id=\"text_1\">\n      <!-- 0.478 -->\n      <g transform=\"translate(66.170882 456.678437)scale(0.1 -0.1)\">\n       <defs>\n        <path d=\"M 2034 4250 \nQ 1547 4250 1301 3770 \nQ 1056 3291 1056 2328 \nQ 1056 1369 1301 889 \nQ 1547 409 2034 409 \nQ 2525 409 2770 889 \nQ 3016 1369 3016 2328 \nQ 3016 3291 2770 3770 \nQ 2525 4250 2034 4250 \nz\nM 2034 4750 \nQ 2819 4750 3233 4129 \nQ 3647 3509 3647 2328 \nQ 3647 1150 3233 529 \nQ 2819 -91 2034 -91 \nQ 1250 -91 836 529 \nQ 422 1150 422 2328 \nQ 422 3509 836 4129 \nQ 1250 4750 2034 4750 \nz\n\" id=\"DejaVuSans-30\" transform=\"scale(0.015625)\"/>\n        <path d=\"M 684 794 \nL 1344 794 \nL 1344 0 \nL 684 0 \nL 684 794 \nz\n\" id=\"DejaVuSans-2e\" transform=\"scale(0.015625)\"/>\n        <path d=\"M 2419 4116 \nL 825 1625 \nL 2419 1625 \nL 2419 4116 \nz\nM 2253 4666 \nL 3047 4666 \nL 3047 1625 \nL 3713 1625 \nL 3713 1100 \nL 3047 1100 \nL 3047 0 \nL 2419 0 \nL 2419 1100 \nL 313 1100 \nL 313 1709 \nL 2253 4666 \nz\n\" id=\"DejaVuSans-34\" transform=\"scale(0.015625)\"/>\n        <path d=\"M 525 4666 \nL 3525 4666 \nL 3525 4397 \nL 1831 0 \nL 1172 0 \nL 2766 4134 \nL 525 4134 \nL 525 4666 \nz\n\" id=\"DejaVuSans-37\" transform=\"scale(0.015625)\"/>\n        <path d=\"M 2034 2216 \nQ 1584 2216 1326 1975 \nQ 1069 1734 1069 1313 \nQ 1069 891 1326 650 \nQ 1584 409 2034 409 \nQ 2484 409 2743 651 \nQ 3003 894 3003 1313 \nQ 3003 1734 2745 1975 \nQ 2488 2216 2034 2216 \nz\nM 1403 2484 \nQ 997 2584 770 2862 \nQ 544 3141 544 3541 \nQ 544 4100 942 4425 \nQ 1341 4750 2034 4750 \nQ 2731 4750 3128 4425 \nQ 3525 4100 3525 3541 \nQ 3525 3141 3298 2862 \nQ 3072 2584 2669 2484 \nQ 3125 2378 3379 2068 \nQ 3634 1759 3634 1313 \nQ 3634 634 3220 271 \nQ 2806 -91 2034 -91 \nQ 1263 -91 848 271 \nQ 434 634 434 1313 \nQ 434 1759 690 2068 \nQ 947 2378 1403 2484 \nz\nM 1172 3481 \nQ 1172 3119 1398 2916 \nQ 1625 2713 2034 2713 \nQ 2441 2713 2670 2916 \nQ 2900 3119 2900 3481 \nQ 2900 3844 2670 4047 \nQ 2441 4250 2034 4250 \nQ 1625 4250 1398 4047 \nQ 1172 3844 1172 3481 \nz\n\" id=\"DejaVuSans-38\" transform=\"scale(0.015625)\"/>\n       </defs>\n       <use xlink:href=\"#DejaVuSans-30\"/>\n       <use x=\"63.623047\" xlink:href=\"#DejaVuSans-2e\"/>\n       <use x=\"95.410156\" xlink:href=\"#DejaVuSans-34\"/>\n       <use x=\"159.033203\" xlink:href=\"#DejaVuSans-37\"/>\n       <use x=\"222.65625\" xlink:href=\"#DejaVuSans-38\"/>\n      </g>\n     </g>\n    </g>\n    <g id=\"xtick_2\">\n     <g id=\"line2d_2\">\n      <g>\n       <use style=\"stroke:#000000;stroke-width:0.8;\" x=\"181.93949\" xlink:href=\"#m520ec0b38d\" y=\"442.08\"/>\n      </g>\n     </g>\n     <g id=\"text_2\">\n      <!-- 0.479 -->\n      <g transform=\"translate(167.625428 456.678437)scale(0.1 -0.1)\">\n       <defs>\n        <path d=\"M 703 97 \nL 703 672 \nQ 941 559 1184 500 \nQ 1428 441 1663 441 \nQ 2288 441 2617 861 \nQ 2947 1281 2994 2138 \nQ 2813 1869 2534 1725 \nQ 2256 1581 1919 1581 \nQ 1219 1581 811 2004 \nQ 403 2428 403 3163 \nQ 403 3881 828 4315 \nQ 1253 4750 1959 4750 \nQ 2769 4750 3195 4129 \nQ 3622 3509 3622 2328 \nQ 3622 1225 3098 567 \nQ 2575 -91 1691 -91 \nQ 1453 -91 1209 -44 \nQ 966 3 703 97 \nz\nM 1959 2075 \nQ 2384 2075 2632 2365 \nQ 2881 2656 2881 3163 \nQ 2881 3666 2632 3958 \nQ 2384 4250 1959 4250 \nQ 1534 4250 1286 3958 \nQ 1038 3666 1038 3163 \nQ 1038 2656 1286 2365 \nQ 1534 2075 1959 2075 \nz\n\" id=\"DejaVuSans-39\" transform=\"scale(0.015625)\"/>\n       </defs>\n       <use xlink:href=\"#DejaVuSans-30\"/>\n       <use x=\"63.623047\" xlink:href=\"#DejaVuSans-2e\"/>\n       <use x=\"95.410156\" xlink:href=\"#DejaVuSans-34\"/>\n       <use x=\"159.033203\" xlink:href=\"#DejaVuSans-37\"/>\n       <use x=\"222.65625\" xlink:href=\"#DejaVuSans-39\"/>\n      </g>\n     </g>\n    </g>\n    <g id=\"xtick_3\">\n     <g id=\"line2d_3\">\n      <g>\n       <use style=\"stroke:#000000;stroke-width:0.8;\" x=\"283.394036\" xlink:href=\"#m520ec0b38d\" y=\"442.08\"/>\n      </g>\n     </g>\n     <g id=\"text_3\">\n      <!-- 0.480 -->\n      <g transform=\"translate(269.079973 456.678437)scale(0.1 -0.1)\">\n       <use xlink:href=\"#DejaVuSans-30\"/>\n       <use x=\"63.623047\" xlink:href=\"#DejaVuSans-2e\"/>\n       <use x=\"95.410156\" xlink:href=\"#DejaVuSans-34\"/>\n       <use x=\"159.033203\" xlink:href=\"#DejaVuSans-38\"/>\n       <use x=\"222.65625\" xlink:href=\"#DejaVuSans-30\"/>\n      </g>\n     </g>\n    </g>\n    <g id=\"xtick_4\">\n     <g id=\"line2d_4\">\n      <g>\n       <use style=\"stroke:#000000;stroke-width:0.8;\" x=\"384.848581\" xlink:href=\"#m520ec0b38d\" y=\"442.08\"/>\n      </g>\n     </g>\n     <g id=\"text_4\">\n      <!-- 0.481 -->\n      <g transform=\"translate(370.534519 456.678437)scale(0.1 -0.1)\">\n       <defs>\n        <path d=\"M 794 531 \nL 1825 531 \nL 1825 4091 \nL 703 3866 \nL 703 4441 \nL 1819 4666 \nL 2450 4666 \nL 2450 531 \nL 3481 531 \nL 3481 0 \nL 794 0 \nL 794 531 \nz\n\" id=\"DejaVuSans-31\" transform=\"scale(0.015625)\"/>\n       </defs>\n       <use xlink:href=\"#DejaVuSans-30\"/>\n       <use x=\"63.623047\" xlink:href=\"#DejaVuSans-2e\"/>\n       <use x=\"95.410156\" xlink:href=\"#DejaVuSans-34\"/>\n       <use x=\"159.033203\" xlink:href=\"#DejaVuSans-38\"/>\n       <use x=\"222.65625\" xlink:href=\"#DejaVuSans-31\"/>\n      </g>\n     </g>\n    </g>\n    <g id=\"xtick_5\">\n     <g id=\"line2d_5\">\n      <g>\n       <use style=\"stroke:#000000;stroke-width:0.8;\" x=\"486.303127\" xlink:href=\"#m520ec0b38d\" y=\"442.08\"/>\n      </g>\n     </g>\n     <g id=\"text_5\">\n      <!-- 0.482 -->\n      <g transform=\"translate(471.989064 456.678437)scale(0.1 -0.1)\">\n       <defs>\n        <path d=\"M 1228 531 \nL 3431 531 \nL 3431 0 \nL 469 0 \nL 469 531 \nQ 828 903 1448 1529 \nQ 2069 2156 2228 2338 \nQ 2531 2678 2651 2914 \nQ 2772 3150 2772 3378 \nQ 2772 3750 2511 3984 \nQ 2250 4219 1831 4219 \nQ 1534 4219 1204 4116 \nQ 875 4013 500 3803 \nL 500 4441 \nQ 881 4594 1212 4672 \nQ 1544 4750 1819 4750 \nQ 2544 4750 2975 4387 \nQ 3406 4025 3406 3419 \nQ 3406 3131 3298 2873 \nQ 3191 2616 2906 2266 \nQ 2828 2175 2409 1742 \nQ 1991 1309 1228 531 \nz\n\" id=\"DejaVuSans-32\" transform=\"scale(0.015625)\"/>\n       </defs>\n       <use xlink:href=\"#DejaVuSans-30\"/>\n       <use x=\"63.623047\" xlink:href=\"#DejaVuSans-2e\"/>\n       <use x=\"95.410156\" xlink:href=\"#DejaVuSans-34\"/>\n       <use x=\"159.033203\" xlink:href=\"#DejaVuSans-38\"/>\n       <use x=\"222.65625\" xlink:href=\"#DejaVuSans-32\"/>\n      </g>\n     </g>\n    </g>\n    <g id=\"xtick_6\">\n     <g id=\"line2d_6\">\n      <g>\n       <use style=\"stroke:#000000;stroke-width:0.8;\" x=\"587.757672\" xlink:href=\"#m520ec0b38d\" y=\"442.08\"/>\n      </g>\n     </g>\n     <g id=\"text_6\">\n      <!-- 0.483 -->\n      <g transform=\"translate(573.443609 456.678437)scale(0.1 -0.1)\">\n       <defs>\n        <path d=\"M 2597 2516 \nQ 3050 2419 3304 2112 \nQ 3559 1806 3559 1356 \nQ 3559 666 3084 287 \nQ 2609 -91 1734 -91 \nQ 1441 -91 1130 -33 \nQ 819 25 488 141 \nL 488 750 \nQ 750 597 1062 519 \nQ 1375 441 1716 441 \nQ 2309 441 2620 675 \nQ 2931 909 2931 1356 \nQ 2931 1769 2642 2001 \nQ 2353 2234 1838 2234 \nL 1294 2234 \nL 1294 2753 \nL 1863 2753 \nQ 2328 2753 2575 2939 \nQ 2822 3125 2822 3475 \nQ 2822 3834 2567 4026 \nQ 2313 4219 1838 4219 \nQ 1578 4219 1281 4162 \nQ 984 4106 628 3988 \nL 628 4550 \nQ 988 4650 1302 4700 \nQ 1616 4750 1894 4750 \nQ 2613 4750 3031 4423 \nQ 3450 4097 3450 3541 \nQ 3450 3153 3228 2886 \nQ 3006 2619 2597 2516 \nz\n\" id=\"DejaVuSans-33\" transform=\"scale(0.015625)\"/>\n       </defs>\n       <use xlink:href=\"#DejaVuSans-30\"/>\n       <use x=\"63.623047\" xlink:href=\"#DejaVuSans-2e\"/>\n       <use x=\"95.410156\" xlink:href=\"#DejaVuSans-34\"/>\n       <use x=\"159.033203\" xlink:href=\"#DejaVuSans-38\"/>\n       <use x=\"222.65625\" xlink:href=\"#DejaVuSans-33\"/>\n      </g>\n     </g>\n    </g>\n    <g id=\"xtick_7\">\n     <g id=\"line2d_7\">\n      <g>\n       <use style=\"stroke:#000000;stroke-width:0.8;\" x=\"689.212217\" xlink:href=\"#m520ec0b38d\" y=\"442.08\"/>\n      </g>\n     </g>\n     <g id=\"text_7\">\n      <!-- 0.484 -->\n      <g transform=\"translate(674.898155 456.678437)scale(0.1 -0.1)\">\n       <use xlink:href=\"#DejaVuSans-30\"/>\n       <use x=\"63.623047\" xlink:href=\"#DejaVuSans-2e\"/>\n       <use x=\"95.410156\" xlink:href=\"#DejaVuSans-34\"/>\n       <use x=\"159.033203\" xlink:href=\"#DejaVuSans-38\"/>\n       <use x=\"222.65625\" xlink:href=\"#DejaVuSans-34\"/>\n      </g>\n     </g>\n    </g>\n    <g id=\"text_8\">\n     <!-- $v$ [m³/kg] -->\n     <g transform=\"translate(377.775 470.358125)scale(0.1 -0.1)\">\n      <defs>\n       <path d=\"M 459 3500 \nL 1069 3500 \nL 1581 525 \nL 3256 3500 \nL 3866 3500 \nL 1875 0 \nL 1100 0 \nL 459 3500 \nz\n\" id=\"DejaVuSans-Oblique-76\" transform=\"scale(0.015625)\"/>\n       <path id=\"DejaVuSans-20\" transform=\"scale(0.015625)\"/>\n       <path d=\"M 550 4863 \nL 1875 4863 \nL 1875 4416 \nL 1125 4416 \nL 1125 -397 \nL 1875 -397 \nL 1875 -844 \nL 550 -844 \nL 550 4863 \nz\n\" id=\"DejaVuSans-5b\" transform=\"scale(0.015625)\"/>\n       <path d=\"M 3328 2828 \nQ 3544 3216 3844 3400 \nQ 4144 3584 4550 3584 \nQ 5097 3584 5394 3201 \nQ 5691 2819 5691 2113 \nL 5691 0 \nL 5113 0 \nL 5113 2094 \nQ 5113 2597 4934 2840 \nQ 4756 3084 4391 3084 \nQ 3944 3084 3684 2787 \nQ 3425 2491 3425 1978 \nL 3425 0 \nL 2847 0 \nL 2847 2094 \nQ 2847 2600 2669 2842 \nQ 2491 3084 2119 3084 \nQ 1678 3084 1418 2786 \nQ 1159 2488 1159 1978 \nL 1159 0 \nL 581 0 \nL 581 3500 \nL 1159 3500 \nL 1159 2956 \nQ 1356 3278 1631 3431 \nQ 1906 3584 2284 3584 \nQ 2666 3584 2933 3390 \nQ 3200 3197 3328 2828 \nz\n\" id=\"DejaVuSans-6d\" transform=\"scale(0.015625)\"/>\n       <path d=\"M 1638 3500 \nQ 1925 3444 2083 3273 \nQ 2241 3103 2241 2847 \nQ 2241 2459 1944 2250 \nQ 1647 2041 1094 2041 \nQ 916 2041 720 2073 \nQ 525 2106 306 2169 \nL 306 2547 \nQ 469 2463 655 2422 \nQ 841 2381 1050 2381 \nQ 1391 2381 1578 2504 \nQ 1766 2628 1766 2847 \nQ 1766 3078 1592 3197 \nQ 1419 3316 1081 3316 \nL 813 3316 \nL 813 3653 \nL 1106 3653 \nQ 1400 3653 1551 3751 \nQ 1703 3850 1703 4038 \nQ 1703 4219 1547 4314 \nQ 1391 4409 1094 4409 \nQ 969 4409 809 4381 \nQ 650 4353 397 4281 \nL 397 4641 \nQ 625 4694 825 4722 \nQ 1025 4750 1197 4750 \nQ 1647 4750 1911 4565 \nQ 2175 4381 2175 4072 \nQ 2175 3856 2034 3706 \nQ 1894 3556 1638 3500 \nz\n\" id=\"DejaVuSans-b3\" transform=\"scale(0.015625)\"/>\n       <path d=\"M 1625 4666 \nL 2156 4666 \nL 531 -594 \nL 0 -594 \nL 1625 4666 \nz\n\" id=\"DejaVuSans-2f\" transform=\"scale(0.015625)\"/>\n       <path d=\"M 581 4863 \nL 1159 4863 \nL 1159 1991 \nL 2875 3500 \nL 3609 3500 \nL 1753 1863 \nL 3688 0 \nL 2938 0 \nL 1159 1709 \nL 1159 0 \nL 581 0 \nL 581 4863 \nz\n\" id=\"DejaVuSans-6b\" transform=\"scale(0.015625)\"/>\n       <path d=\"M 2906 1791 \nQ 2906 2416 2648 2759 \nQ 2391 3103 1925 3103 \nQ 1463 3103 1205 2759 \nQ 947 2416 947 1791 \nQ 947 1169 1205 825 \nQ 1463 481 1925 481 \nQ 2391 481 2648 825 \nQ 2906 1169 2906 1791 \nz\nM 3481 434 \nQ 3481 -459 3084 -895 \nQ 2688 -1331 1869 -1331 \nQ 1566 -1331 1297 -1286 \nQ 1028 -1241 775 -1147 \nL 775 -588 \nQ 1028 -725 1275 -790 \nQ 1522 -856 1778 -856 \nQ 2344 -856 2625 -561 \nQ 2906 -266 2906 331 \nL 2906 616 \nQ 2728 306 2450 153 \nQ 2172 0 1784 0 \nQ 1141 0 747 490 \nQ 353 981 353 1791 \nQ 353 2603 747 3093 \nQ 1141 3584 1784 3584 \nQ 2172 3584 2450 3431 \nQ 2728 3278 2906 2969 \nL 2906 3500 \nL 3481 3500 \nL 3481 434 \nz\n\" id=\"DejaVuSans-67\" transform=\"scale(0.015625)\"/>\n       <path d=\"M 1947 4863 \nL 1947 -844 \nL 622 -844 \nL 622 -397 \nL 1369 -397 \nL 1369 4416 \nL 622 4416 \nL 622 4863 \nL 1947 4863 \nz\n\" id=\"DejaVuSans-5d\" transform=\"scale(0.015625)\"/>\n      </defs>\n      <use transform=\"translate(0 0.015625)\" xlink:href=\"#DejaVuSans-Oblique-76\"/>\n      <use transform=\"translate(59.179688 0.015625)\" xlink:href=\"#DejaVuSans-20\"/>\n      <use transform=\"translate(90.966797 0.015625)\" xlink:href=\"#DejaVuSans-5b\"/>\n      <use transform=\"translate(129.980469 0.015625)\" xlink:href=\"#DejaVuSans-6d\"/>\n      <use transform=\"translate(227.392578 0.015625)\" xlink:href=\"#DejaVuSans-b3\"/>\n      <use transform=\"translate(267.480469 0.015625)\" xlink:href=\"#DejaVuSans-2f\"/>\n      <use transform=\"translate(301.171875 0.015625)\" xlink:href=\"#DejaVuSans-6b\"/>\n      <use transform=\"translate(359.082031 0.015625)\" xlink:href=\"#DejaVuSans-67\"/>\n      <use transform=\"translate(422.558594 0.015625)\" xlink:href=\"#DejaVuSans-5d\"/>\n     </g>\n    </g>\n   </g>\n   <g id=\"matplotlib.axis_2\">\n    <g id=\"ytick_1\">\n     <g id=\"line2d_8\">\n      <defs>\n       <path d=\"M 0 0 \nL -3.5 0 \n\" id=\"m6bb31e156e\" style=\"stroke:#000000;stroke-width:0.8;\"/>\n      </defs>\n      <g>\n       <use style=\"stroke:#000000;stroke-width:0.8;\" x=\"66.075\" xlink:href=\"#m6bb31e156e\" y=\"422.312727\"/>\n      </g>\n     </g>\n     <g id=\"text_9\">\n      <!-- 200000 -->\n      <g transform=\"translate(20.9 426.111946)scale(0.1 -0.1)\">\n       <use xlink:href=\"#DejaVuSans-32\"/>\n       <use x=\"63.623047\" xlink:href=\"#DejaVuSans-30\"/>\n       <use x=\"127.246094\" xlink:href=\"#DejaVuSans-30\"/>\n       <use x=\"190.869141\" xlink:href=\"#DejaVuSans-30\"/>\n       <use x=\"254.492188\" xlink:href=\"#DejaVuSans-30\"/>\n       <use x=\"318.115234\" xlink:href=\"#DejaVuSans-30\"/>\n      </g>\n     </g>\n    </g>\n    <g id=\"ytick_2\">\n     <g id=\"line2d_9\">\n      <g>\n       <use style=\"stroke:#000000;stroke-width:0.8;\" x=\"66.075\" xlink:href=\"#m6bb31e156e\" y=\"372.894545\"/>\n      </g>\n     </g>\n     <g id=\"text_10\">\n      <!-- 225000 -->\n      <g transform=\"translate(20.9 376.693764)scale(0.1 -0.1)\">\n       <defs>\n        <path d=\"M 691 4666 \nL 3169 4666 \nL 3169 4134 \nL 1269 4134 \nL 1269 2991 \nQ 1406 3038 1543 3061 \nQ 1681 3084 1819 3084 \nQ 2600 3084 3056 2656 \nQ 3513 2228 3513 1497 \nQ 3513 744 3044 326 \nQ 2575 -91 1722 -91 \nQ 1428 -91 1123 -41 \nQ 819 9 494 109 \nL 494 744 \nQ 775 591 1075 516 \nQ 1375 441 1709 441 \nQ 2250 441 2565 725 \nQ 2881 1009 2881 1497 \nQ 2881 1984 2565 2268 \nQ 2250 2553 1709 2553 \nQ 1456 2553 1204 2497 \nQ 953 2441 691 2322 \nL 691 4666 \nz\n\" id=\"DejaVuSans-35\" transform=\"scale(0.015625)\"/>\n       </defs>\n       <use xlink:href=\"#DejaVuSans-32\"/>\n       <use x=\"63.623047\" xlink:href=\"#DejaVuSans-32\"/>\n       <use x=\"127.246094\" xlink:href=\"#DejaVuSans-35\"/>\n       <use x=\"190.869141\" xlink:href=\"#DejaVuSans-30\"/>\n       <use x=\"254.492188\" xlink:href=\"#DejaVuSans-30\"/>\n       <use x=\"318.115234\" xlink:href=\"#DejaVuSans-30\"/>\n      </g>\n     </g>\n    </g>\n    <g id=\"ytick_3\">\n     <g id=\"line2d_10\">\n      <g>\n       <use style=\"stroke:#000000;stroke-width:0.8;\" x=\"66.075\" xlink:href=\"#m6bb31e156e\" y=\"323.476364\"/>\n      </g>\n     </g>\n     <g id=\"text_11\">\n      <!-- 250000 -->\n      <g transform=\"translate(20.9 327.275582)scale(0.1 -0.1)\">\n       <use xlink:href=\"#DejaVuSans-32\"/>\n       <use x=\"63.623047\" xlink:href=\"#DejaVuSans-35\"/>\n       <use x=\"127.246094\" xlink:href=\"#DejaVuSans-30\"/>\n       <use x=\"190.869141\" xlink:href=\"#DejaVuSans-30\"/>\n       <use x=\"254.492188\" xlink:href=\"#DejaVuSans-30\"/>\n       <use x=\"318.115234\" xlink:href=\"#DejaVuSans-30\"/>\n      </g>\n     </g>\n    </g>\n    <g id=\"ytick_4\">\n     <g id=\"line2d_11\">\n      <g>\n       <use style=\"stroke:#000000;stroke-width:0.8;\" x=\"66.075\" xlink:href=\"#m6bb31e156e\" y=\"274.058182\"/>\n      </g>\n     </g>\n     <g id=\"text_12\">\n      <!-- 275000 -->\n      <g transform=\"translate(20.9 277.857401)scale(0.1 -0.1)\">\n       <use xlink:href=\"#DejaVuSans-32\"/>\n       <use x=\"63.623047\" xlink:href=\"#DejaVuSans-37\"/>\n       <use x=\"127.246094\" xlink:href=\"#DejaVuSans-35\"/>\n       <use x=\"190.869141\" xlink:href=\"#DejaVuSans-30\"/>\n       <use x=\"254.492188\" xlink:href=\"#DejaVuSans-30\"/>\n       <use x=\"318.115234\" xlink:href=\"#DejaVuSans-30\"/>\n      </g>\n     </g>\n    </g>\n    <g id=\"ytick_5\">\n     <g id=\"line2d_12\">\n      <g>\n       <use style=\"stroke:#000000;stroke-width:0.8;\" x=\"66.075\" xlink:href=\"#m6bb31e156e\" y=\"224.64\"/>\n      </g>\n     </g>\n     <g id=\"text_13\">\n      <!-- 300000 -->\n      <g transform=\"translate(20.9 228.439219)scale(0.1 -0.1)\">\n       <use xlink:href=\"#DejaVuSans-33\"/>\n       <use x=\"63.623047\" xlink:href=\"#DejaVuSans-30\"/>\n       <use x=\"127.246094\" xlink:href=\"#DejaVuSans-30\"/>\n       <use x=\"190.869141\" xlink:href=\"#DejaVuSans-30\"/>\n       <use x=\"254.492188\" xlink:href=\"#DejaVuSans-30\"/>\n       <use x=\"318.115234\" xlink:href=\"#DejaVuSans-30\"/>\n      </g>\n     </g>\n    </g>\n    <g id=\"ytick_6\">\n     <g id=\"line2d_13\">\n      <g>\n       <use style=\"stroke:#000000;stroke-width:0.8;\" x=\"66.075\" xlink:href=\"#m6bb31e156e\" y=\"175.221818\"/>\n      </g>\n     </g>\n     <g id=\"text_14\">\n      <!-- 325000 -->\n      <g transform=\"translate(20.9 179.021037)scale(0.1 -0.1)\">\n       <use xlink:href=\"#DejaVuSans-33\"/>\n       <use x=\"63.623047\" xlink:href=\"#DejaVuSans-32\"/>\n       <use x=\"127.246094\" xlink:href=\"#DejaVuSans-35\"/>\n       <use x=\"190.869141\" xlink:href=\"#DejaVuSans-30\"/>\n       <use x=\"254.492188\" xlink:href=\"#DejaVuSans-30\"/>\n       <use x=\"318.115234\" xlink:href=\"#DejaVuSans-30\"/>\n      </g>\n     </g>\n    </g>\n    <g id=\"ytick_7\">\n     <g id=\"line2d_14\">\n      <g>\n       <use style=\"stroke:#000000;stroke-width:0.8;\" x=\"66.075\" xlink:href=\"#m6bb31e156e\" y=\"125.803636\"/>\n      </g>\n     </g>\n     <g id=\"text_15\">\n      <!-- 350000 -->\n      <g transform=\"translate(20.9 129.602855)scale(0.1 -0.1)\">\n       <use xlink:href=\"#DejaVuSans-33\"/>\n       <use x=\"63.623047\" xlink:href=\"#DejaVuSans-35\"/>\n       <use x=\"127.246094\" xlink:href=\"#DejaVuSans-30\"/>\n       <use x=\"190.869141\" xlink:href=\"#DejaVuSans-30\"/>\n       <use x=\"254.492188\" xlink:href=\"#DejaVuSans-30\"/>\n       <use x=\"318.115234\" xlink:href=\"#DejaVuSans-30\"/>\n      </g>\n     </g>\n    </g>\n    <g id=\"ytick_8\">\n     <g id=\"line2d_15\">\n      <g>\n       <use style=\"stroke:#000000;stroke-width:0.8;\" x=\"66.075\" xlink:href=\"#m6bb31e156e\" y=\"76.385455\"/>\n      </g>\n     </g>\n     <g id=\"text_16\">\n      <!-- 375000 -->\n      <g transform=\"translate(20.9 80.184673)scale(0.1 -0.1)\">\n       <use xlink:href=\"#DejaVuSans-33\"/>\n       <use x=\"63.623047\" xlink:href=\"#DejaVuSans-37\"/>\n       <use x=\"127.246094\" xlink:href=\"#DejaVuSans-35\"/>\n       <use x=\"190.869141\" xlink:href=\"#DejaVuSans-30\"/>\n       <use x=\"254.492188\" xlink:href=\"#DejaVuSans-30\"/>\n       <use x=\"318.115234\" xlink:href=\"#DejaVuSans-30\"/>\n      </g>\n     </g>\n    </g>\n    <g id=\"ytick_9\">\n     <g id=\"line2d_16\">\n      <g>\n       <use style=\"stroke:#000000;stroke-width:0.8;\" x=\"66.075\" xlink:href=\"#m6bb31e156e\" y=\"26.967273\"/>\n      </g>\n     </g>\n     <g id=\"text_17\">\n      <!-- 400000 -->\n      <g transform=\"translate(20.9 30.766491)scale(0.1 -0.1)\">\n       <use xlink:href=\"#DejaVuSans-34\"/>\n       <use x=\"63.623047\" xlink:href=\"#DejaVuSans-30\"/>\n       <use x=\"127.246094\" xlink:href=\"#DejaVuSans-30\"/>\n       <use x=\"190.869141\" xlink:href=\"#DejaVuSans-30\"/>\n       <use x=\"254.492188\" xlink:href=\"#DejaVuSans-30\"/>\n       <use x=\"318.115234\" xlink:href=\"#DejaVuSans-30\"/>\n      </g>\n     </g>\n    </g>\n    <g id=\"text_18\">\n     <!-- $p$ [$\\mathrm{\\mathrm{Pa}}$] -->\n     <g transform=\"translate(14.8 239.39)rotate(-90)scale(0.1 -0.1)\">\n      <defs>\n       <path d=\"M 3175 2156 \nQ 3175 2616 2975 2859 \nQ 2775 3103 2400 3103 \nQ 2144 3103 1911 2972 \nQ 1678 2841 1497 2591 \nQ 1319 2344 1212 1994 \nQ 1106 1644 1106 1300 \nQ 1106 863 1306 627 \nQ 1506 391 1875 391 \nQ 2147 391 2380 519 \nQ 2613 647 2778 891 \nQ 2956 1147 3065 1494 \nQ 3175 1841 3175 2156 \nz\nM 1394 2969 \nQ 1625 3272 1939 3428 \nQ 2253 3584 2638 3584 \nQ 3175 3584 3472 3232 \nQ 3769 2881 3769 2247 \nQ 3769 1728 3584 1258 \nQ 3400 788 3053 416 \nQ 2822 169 2531 39 \nQ 2241 -91 1919 -91 \nQ 1547 -91 1294 64 \nQ 1041 219 916 525 \nL 556 -1331 \nL -19 -1331 \nL 922 3500 \nL 1497 3500 \nL 1394 2969 \nz\n\" id=\"DejaVuSans-Oblique-70\" transform=\"scale(0.015625)\"/>\n       <path d=\"M 1259 4147 \nL 1259 2394 \nL 2053 2394 \nQ 2494 2394 2734 2622 \nQ 2975 2850 2975 3272 \nQ 2975 3691 2734 3919 \nQ 2494 4147 2053 4147 \nL 1259 4147 \nz\nM 628 4666 \nL 2053 4666 \nQ 2838 4666 3239 4311 \nQ 3641 3956 3641 3272 \nQ 3641 2581 3239 2228 \nQ 2838 1875 2053 1875 \nL 1259 1875 \nL 1259 0 \nL 628 0 \nL 628 4666 \nz\n\" id=\"DejaVuSans-50\" transform=\"scale(0.015625)\"/>\n       <path d=\"M 2194 1759 \nQ 1497 1759 1228 1600 \nQ 959 1441 959 1056 \nQ 959 750 1161 570 \nQ 1363 391 1709 391 \nQ 2188 391 2477 730 \nQ 2766 1069 2766 1631 \nL 2766 1759 \nL 2194 1759 \nz\nM 3341 1997 \nL 3341 0 \nL 2766 0 \nL 2766 531 \nQ 2569 213 2275 61 \nQ 1981 -91 1556 -91 \nQ 1019 -91 701 211 \nQ 384 513 384 1019 \nQ 384 1609 779 1909 \nQ 1175 2209 1959 2209 \nL 2766 2209 \nL 2766 2266 \nQ 2766 2663 2505 2880 \nQ 2244 3097 1772 3097 \nQ 1472 3097 1187 3025 \nQ 903 2953 641 2809 \nL 641 3341 \nQ 956 3463 1253 3523 \nQ 1550 3584 1831 3584 \nQ 2591 3584 2966 3190 \nQ 3341 2797 3341 1997 \nz\n\" id=\"DejaVuSans-61\" transform=\"scale(0.015625)\"/>\n      </defs>\n      <use transform=\"translate(0 0.015625)\" xlink:href=\"#DejaVuSans-Oblique-70\"/>\n      <use transform=\"translate(63.476562 0.015625)\" xlink:href=\"#DejaVuSans-20\"/>\n      <use transform=\"translate(95.263672 0.015625)\" xlink:href=\"#DejaVuSans-5b\"/>\n      <use transform=\"translate(134.277344 0.015625)\" xlink:href=\"#DejaVuSans-50\"/>\n      <use transform=\"translate(194.580078 0.015625)\" xlink:href=\"#DejaVuSans-61\"/>\n      <use transform=\"translate(255.859375 0.015625)\" xlink:href=\"#DejaVuSans-5d\"/>\n     </g>\n    </g>\n   </g>\n   <g id=\"line2d_17\">\n    <path clip-path=\"url(#pa03ff32253)\" d=\"M 96.511364 422.312727 \n\" style=\"fill:none;stroke:#000000;stroke-linecap:square;stroke-width:1.5;\"/>\n    <defs>\n     <path d=\"M 0 2 \nC 0.530406 2 1.03916 1.789267 1.414214 1.414214 \nC 1.789267 1.03916 2 0.530406 2 0 \nC 2 -0.530406 1.789267 -1.03916 1.414214 -1.414214 \nC 1.03916 -1.789267 0.530406 -2 0 -2 \nC -0.530406 -2 -1.03916 -1.789267 -1.414214 -1.414214 \nC -1.789267 -1.03916 -2 -0.530406 -2 0 \nC -2 0.530406 -1.789267 1.03916 -1.414214 1.414214 \nC -1.03916 1.789267 -0.530406 2 0 2 \nz\n\" id=\"m35796936ab\" style=\"stroke:#000000;\"/>\n    </defs>\n    <g clip-path=\"url(#pa03ff32253)\">\n     <use style=\"stroke:#000000;\" x=\"96.511364\" xlink:href=\"#m35796936ab\" y=\"422.312727\"/>\n    </g>\n   </g>\n   <g id=\"line2d_18\">\n    <path clip-path=\"url(#pa03ff32253)\" d=\"M 603.784091 422.312727 \n\" style=\"fill:none;stroke:#000000;stroke-linecap:square;stroke-width:1.5;\"/>\n    <g clip-path=\"url(#pa03ff32253)\">\n     <use style=\"stroke:#000000;\" x=\"603.784091\" xlink:href=\"#m35796936ab\" y=\"422.312727\"/>\n    </g>\n   </g>\n   <g id=\"line2d_19\">\n    <path clip-path=\"url(#pa03ff32253)\" d=\"M 705.238636 26.967273 \n\" style=\"fill:none;stroke:#000000;stroke-linecap:square;stroke-width:1.5;\"/>\n    <g clip-path=\"url(#pa03ff32253)\">\n     <use style=\"stroke:#000000;\" x=\"705.238636\" xlink:href=\"#m35796936ab\" y=\"26.967273\"/>\n    </g>\n   </g>\n   <g id=\"line2d_20\">\n    <path clip-path=\"url(#pa03ff32253)\" d=\"M 96.511364 422.312727 \nL 603.784091 422.312727 \n\" style=\"fill:none;stroke:#000000;stroke-linecap:square;stroke-width:1.5;\"/>\n   </g>\n   <g id=\"line2d_21\">\n    <path clip-path=\"url(#pa03ff32253)\" d=\"M 603.784091 422.312727 \nL 705.238636 26.967273 \n\" style=\"fill:none;stroke:#000000;stroke-linecap:square;stroke-width:1.5;\"/>\n   </g>\n   <g id=\"patch_3\">\n    <path d=\"M 66.075 442.08 \nL 66.075 7.2 \n\" style=\"fill:none;stroke:#000000;stroke-linecap:square;stroke-linejoin:miter;stroke-width:0.8;\"/>\n   </g>\n   <g id=\"patch_4\">\n    <path d=\"M 66.075 442.08 \nL 735.675 442.08 \n\" style=\"fill:none;stroke:#000000;stroke-linecap:square;stroke-linejoin:miter;stroke-width:0.8;\"/>\n   </g>\n   <g id=\"text_19\">\n    <!-- 1 -->\n    <g transform=\"translate(93.648239 415.441009)scale(0.09 -0.09)\">\n     <use xlink:href=\"#DejaVuSans-31\"/>\n    </g>\n   </g>\n   <g id=\"text_20\">\n    <!-- 2 -->\n    <g transform=\"translate(593.057841 415.441009)scale(0.09 -0.09)\">\n     <use xlink:href=\"#DejaVuSans-32\"/>\n    </g>\n   </g>\n   <g id=\"text_21\">\n    <!-- 3 -->\n    <g transform=\"translate(702.375511 20.095554)scale(0.09 -0.09)\">\n     <use xlink:href=\"#DejaVuSans-33\"/>\n    </g>\n   </g>\n   <g id=\"patch_5\">\n    <path d=\"M 353.034047 422.312727 \nL 351.834828 420.312727 \nQ 352.235219 421.212727 352.635609 421.712727 \nL 351.834828 420.312727 \nQ 353.834828 420.912727 355.834828 422.312727 \nQ 353.834828 423.712727 351.834828 424.312727 \nL 352.635609 422.912727 \nQ 352.235219 423.412727 351.834828 424.312727 \nL 353.034047 422.312727 \nz\n\" style=\"fill:#1f77b4;stroke:#000000;stroke-linecap:round;\"/>\n   </g>\n   <g id=\"patch_6\">\n    <path d=\"M 654.854833 223.301578 \nL 652.619516 223.966022 \nQ 653.590794 223.801909 654.174625 223.538369 \nL 652.619516 223.966022 \nQ 653.697821 222.177934 655.551018 220.588701 \nQ 656.409942 222.873925 656.493974 224.960295 \nL 655.336963 223.836651 \nQ 655.721745 224.34876 656.493974 224.960295 \nL 654.854833 223.301578 \nz\n\" style=\"fill:#1f77b4;stroke:#000000;stroke-linecap:round;\"/>\n   </g>\n  </g>\n </g>\n <defs>\n  <clipPath id=\"pa03ff32253\">\n   <rect height=\"434.88\" width=\"669.6\" x=\"66.075\" y=\"7.2\"/>\n  </clipPath>\n </defs>\n</svg>\n",
      "image/png": "[encoded data removed]"
     },
     "metadata": {
      "needs_background": "light"
     }
    }
   ],
   "source": [
    "# Plot p-v diagram\n",
    "pv = air.pv_diagram(unit_system='SI_K')\n",
    "pv.plot_state(states[1])\n",
    "pv.plot_state(states[2],label_loc='north west')\n",
    "pv.plot_state(states[3])\n",
    "pv.plot_process(states[1],states[2],path='isobaric')\n",
    "pv.plot_process(states[2],states[3],path='straight');"
   ]
  },
  {
   "cell_type": "markdown",
   "metadata": {},
   "source": [
    "#### (e) How much exergy is stored in the system at the end of the process?\n",
    "The dead state properties are the properties the fluid would have if it were allowed to reach equilibrium with the surroundings, i.e. $T_0$ and $p_0$"
   ]
  },
  {
   "cell_type": "code",
   "execution_count": 18,
   "metadata": {
    "collapsed": false,
    "jupyter": {
     "outputs_hidden": false
    }
   },
   "outputs": [
    {
     "output_type": "display_data",
     "data": {
      "text/plain": "<IPython.core.display.Markdown object>",
      "text/markdown": " Need dead state properties"
     },
     "metadata": {}
    },
    {
     "output_type": "display_data",
     "data": {
      "text/plain": "<IPython.core.display.Latex object>",
      "text/latex": "\\begin{aligned}\n  {v}_{ 0 } &=  \\mathrm{ \\underset{ air }{ v } }\\left( {T}_{ 0 }, {p}_{ 0 } \\right)  = \\mathrm{ \\underset{ air }{ v } }\\left( 20\\ \\mathrm{°C}, 1\\times 10^{5}\\ \\mathrm{Pa} \\right) = 0.84149\\ \\frac{\\mathrm{m}^{3}}{\\mathrm{kg}}\n\\end{aligned}\n"
     },
     "metadata": {}
    },
    {
     "output_type": "display_data",
     "data": {
      "text/plain": "<IPython.core.display.Latex object>",
      "text/latex": "\\begin{aligned}\n  {Vol}_{ 0 } &=   m  \\cdot  {v}_{ 0 }  \\\\\n    &=  2\\ \\mathrm{kg}  \\cdot  0.84149\\ \\frac{\\mathrm{m}^{3}}{\\mathrm{kg}} \\\\\n    &= 1.683\\ \\mathrm{m}^{3}\n\\end{aligned}\n"
     },
     "metadata": {}
    },
    {
     "output_type": "display_data",
     "data": {
      "text/plain": "<IPython.core.display.Latex object>",
      "text/latex": "\\begin{aligned}\n  {u}_{ 0 } &=  \\mathrm{ \\underset{ air }{ u } }\\left( {T}_{ 0 }, {p}_{ 0 } \\right)  = \\mathrm{ \\underset{ air }{ u } }\\left( 20\\ \\mathrm{°C}, 1\\times 10^{5}\\ \\mathrm{Pa} \\right) = -93.438\\ \\frac{\\mathrm{kJ}}{\\mathrm{kg}}\n\\end{aligned}\n"
     },
     "metadata": {}
    },
    {
     "output_type": "display_data",
     "data": {
      "text/plain": "<IPython.core.display.Latex object>",
      "text/latex": "\\begin{aligned}\n  {s}_{ 0 } &=  \\mathrm{ \\underset{ air }{ s } }\\left( {T}_{ 0 }, {p}_{ 0 } \\right)  = \\mathrm{ \\underset{ air }{ s } }\\left( 20\\ \\mathrm{°C}, 1\\times 10^{5}\\ \\mathrm{Pa} \\right) = 6.6845\\ \\frac{\\mathrm{kJ}}{\\left(\\mathrm{K} \\cdot \\mathrm{kg}\\right)}\n\\end{aligned}\n"
     },
     "metadata": {}
    }
   ],
   "source": [
    "%%showcalc\n",
    "# Need dead state properties\n",
    "v[0] = air.v(T[0], p[0])\n",
    "Vol[0] = m*v[0]\n",
    "u[0] = air.u(T[0], p[0])\n",
    "s[0] = air.s(T[0], p[0])"
   ]
  },
  {
   "cell_type": "markdown",
   "metadata": {},
   "source": [
    "The exergy at state 3 is then defined as the potential for the fluid to do work relative to the dead state"
   ]
  },
  {
   "cell_type": "code",
   "execution_count": 19,
   "metadata": {
    "collapsed": false,
    "jupyter": {
     "outputs_hidden": false
    }
   },
   "outputs": [
    {
     "output_type": "display_data",
     "data": {
      "text/plain": "<IPython.core.display.Markdown object>",
      "text/markdown": " Exergy at 3"
     },
     "metadata": {}
    },
    {
     "output_type": "display_data",
     "data": {
      "text/plain": "<IPython.core.display.Latex object>",
      "text/latex": "\\begin{aligned}\n  {X}_{ 3 } &=    m  \\cdot  \\left(  {u}_{ 3 } - {u}_{ 0 }  \\right)  +  {p}_{ 0 }  \\cdot  \\left(  {Vol}_{ 3 } - {Vol}_{ 0 }  \\right)  -   {T}_{ 0 }  \\cdot  m   \\cdot  \\left(  {s}_{ 3 } - {s}_{ 0 }  \\right)   \\\\\n    &=   2\\ \\mathrm{kg}  \\cdot  \\left(  190.04\\ \\frac{\\mathrm{kJ}}{\\mathrm{kg}} - -93.438\\ \\frac{\\mathrm{kJ}}{\\mathrm{kg}}  \\right)  +  1\\times 10^{5}\\ \\mathrm{Pa}  \\cdot  \\left(  0.96832\\ \\mathrm{m}^{3} - 1.683\\ \\mathrm{m}^{3}  \\right)  -   293.15\\ \\mathrm{K}  \\cdot  2\\ \\mathrm{kg}   \\cdot  \\left(  7.1416\\ \\frac{\\mathrm{kJ}}{\\left(\\mathrm{K} \\cdot \\mathrm{kg}\\right)} - 6.6845\\ \\frac{\\mathrm{kJ}}{\\left(\\mathrm{K} \\cdot \\mathrm{kg}\\right)}  \\right)  \\\\\n    &= 227.51\\ \\mathrm{kJ}\n\\end{aligned}\n"
     },
     "metadata": {}
    }
   ],
   "source": [
    "%%showcalc\n",
    "# Exergy at 3\n",
    "X[3] = m*(u[3]-u[0]) + p[0]*(Vol[3]-Vol[0]) - T[0].to('K')*m*(s[3]-s[0])"
   ]
  },
  {
   "cell_type": "markdown",
   "metadata": {},
   "source": [
    "#### (f) What is the change in exergy for the process\n",
    "We can use the same method to caluclate the exergy at the beginning of the process"
   ]
  },
  {
   "cell_type": "code",
   "execution_count": 20,
   "metadata": {
    "collapsed": false,
    "jupyter": {
     "outputs_hidden": false
    }
   },
   "outputs": [
    {
     "output_type": "display_data",
     "data": {
      "text/plain": "<IPython.core.display.Markdown object>",
      "text/markdown": " Exergy at 1"
     },
     "metadata": {}
    },
    {
     "output_type": "display_data",
     "data": {
      "text/plain": "<IPython.core.display.Latex object>",
      "text/latex": "\\begin{aligned}\n  {X}_{ 1 } &=    m  \\cdot  \\left(  {u}_{ 1 } - {u}_{ 0 }  \\right)  +  {p}_{ 0 }  \\cdot  \\left(  {Vol}_{ 1 } - {Vol}_{ 0 }  \\right)  -   {T}_{ 0 }  \\cdot  m   \\cdot  \\left(  {s}_{ 1 } - {s}_{ 0 }  \\right)   \\\\\n    &=   2\\ \\mathrm{kg}  \\cdot  \\left(  -64.692\\ \\frac{\\mathrm{kJ}}{\\mathrm{kg}} - -93.438\\ \\frac{\\mathrm{kJ}}{\\mathrm{kg}}  \\right)  +  1\\times 10^{5}\\ \\mathrm{Pa}  \\cdot  \\left(  0.95632\\ \\mathrm{m}^{3} - 1.683\\ \\mathrm{m}^{3}  \\right)  -   293.15\\ \\mathrm{K}  \\cdot  2\\ \\mathrm{kg}   \\cdot  \\left(  6.6142\\ \\frac{\\mathrm{kJ}}{\\left(\\mathrm{K} \\cdot \\mathrm{kg}\\right)} - 6.6845\\ \\frac{\\mathrm{kJ}}{\\left(\\mathrm{K} \\cdot \\mathrm{kg}\\right)}  \\right)  \\\\\n    &= 26.062\\ \\mathrm{kJ}\n\\end{aligned}\n"
     },
     "metadata": {}
    }
   ],
   "source": [
    "%%showcalc\n",
    "# Exergy at 1\n",
    "X[1] = m*(u[1]-u[0]) + p[0]*(Vol[1]-Vol[0]) - T[0].to('K')*m*(s[1]-s[0])"
   ]
  },
  {
   "cell_type": "markdown",
   "metadata": {},
   "source": [
    "Then the change in exergy of the process is simply the difference between the two states"
   ]
  },
  {
   "cell_type": "code",
   "execution_count": 21,
   "metadata": {
    "collapsed": false,
    "jupyter": {
     "outputs_hidden": false
    }
   },
   "outputs": [
    {
     "output_type": "display_data",
     "data": {
      "text/plain": "<IPython.core.display.Markdown object>",
      "text/markdown": " Change in Exergy"
     },
     "metadata": {}
    },
    {
     "output_type": "display_data",
     "data": {
      "text/plain": "<IPython.core.display.Latex object>",
      "text/latex": "\\begin{aligned}\n  \\Delta{}X_{1\\to{}3} &=   {X}_{ 3 } - {X}_{ 1 }  \\\\\n    &=  227.51\\ \\mathrm{kJ} - 26.062\\ \\mathrm{kJ} \\\\\n    &= 201.45\\ \\mathrm{kJ}\n\\end{aligned}\n"
     },
     "metadata": {}
    }
   ],
   "source": [
    "%%showcalc\n",
    "# Change in Exergy\n",
    "Delta_X_1_to_3 = X[3]-X[1]"
   ]
  },
  {
   "cell_type": "markdown",
   "metadata": {},
   "source": [
    "#### (g) How much exergy was destroyed during the process?\n",
    "The exergy destruction can always be calculated as $T_0\\cdot S_{gen}$"
   ]
  },
  {
   "cell_type": "code",
   "execution_count": 22,
   "metadata": {
    "collapsed": false,
    "jupyter": {
     "outputs_hidden": false
    }
   },
   "outputs": [
    {
     "output_type": "display_data",
     "data": {
      "text/plain": "<IPython.core.display.Markdown object>",
      "text/markdown": " Exergy destruction"
     },
     "metadata": {}
    },
    {
     "output_type": "display_data",
     "data": {
      "text/plain": "<IPython.core.display.Latex object>",
      "text/latex": "\\begin{aligned}\n  X_{d} &=   {T}_{ 0 }  \\cdot  S_{gen}  \\\\\n    &=  293.15\\ \\mathrm{K}  \\cdot  0.3925\\ \\frac{\\mathrm{kJ}}{\\mathrm{K}} \\\\\n    &= 115.06\\ \\mathrm{kJ}\n\\end{aligned}\n"
     },
     "metadata": {}
    }
   ],
   "source": [
    "%%showcalc\n",
    "# Exergy destruction\n",
    "X_d = T[0].to('K')*S_gen"
   ]
  },
  {
   "cell_type": "markdown",
   "metadata": {},
   "source": [
    "#### (f) Second Law Efficiency\n",
    "The second law efficiency is defined as the ratio of the recovered exergy to the expended exergy,\n",
    "\\[\\eta_{II} = \\frac{X_{recovered}}{X_{expended}}=1-\\frac{X_{destroyed}}{X_{expended}}\\]\n",
    "We already know the exergy destruction, so we just need to find the expended exergy.  \n",
    "\n",
    "In this case, the heat that was transferred to the system from the hot reservoir could have been used for some other purpose, such as to power a heat engine.  So the expended exergy for this process is the decrease in potential of the reservoir.  Since we are treating the reservoir as being constant temperature, we can't calculate a change in property of the reservoir, but we can calculate the amount of exergy the left the reservior through heat transfer."
   ]
  },
  {
   "cell_type": "code",
   "execution_count": 23,
   "metadata": {
    "collapsed": false,
    "jupyter": {
     "outputs_hidden": false
    }
   },
   "outputs": [
    {
     "output_type": "display_data",
     "data": {
      "text/plain": "<IPython.core.display.Markdown object>",
      "text/markdown": " Exergy expended is due to heat transfer from the high temperature reservoir"
     },
     "metadata": {}
    },
    {
     "output_type": "display_data",
     "data": {
      "text/plain": "<IPython.core.display.Latex object>",
      "text/latex": "\\begin{aligned}\n  X_{exp} &=   \\left(  1 - \\frac{ {T}_{ 0 } }{ T_{R} }  \\right)  \\cdot  Q_{1\\to{}3}  \\\\\n    &=  \\left(  1 - \\frac{ 293.15\\ \\mathrm{K} }{ 773.15\\ \\mathrm{K} }  \\right)  \\cdot  512.06\\ \\mathrm{kJ} \\\\\n    &= 317.91\\ \\mathrm{kJ}\n\\end{aligned}\n"
     },
     "metadata": {}
    }
   ],
   "source": [
    "%%showcalc\n",
    "# Exergy expended is due to heat transfer from the high temperature reservoir\n",
    "X_exp = (1 - T[0].to('K')/T_R.to('K'))*Q_1_to_3"
   ]
  },
  {
   "cell_type": "markdown",
   "metadata": {},
   "source": [
    "Finally then second law efficiency can be calculated"
   ]
  },
  {
   "cell_type": "code",
   "execution_count": 24,
   "metadata": {
    "collapsed": false,
    "jupyter": {
     "outputs_hidden": false
    }
   },
   "outputs": [
    {
     "output_type": "display_data",
     "data": {
      "text/plain": "<IPython.core.display.Markdown object>",
      "text/markdown": " Second Law Efficiency"
     },
     "metadata": {}
    },
    {
     "output_type": "display_data",
     "data": {
      "text/plain": "<IPython.core.display.Latex object>",
      "text/latex": "\\begin{aligned}\n  \\eta_{II} &=   1 - \\frac{ X_{d} }{ X_{exp} }  \\\\\n    &=  1 - \\frac{ 115.06\\ \\mathrm{kJ} }{ 317.91\\ \\mathrm{kJ} } \\\\\n    &= 0.63807\\\n\\end{aligned}\n"
     },
     "metadata": {}
    }
   ],
   "source": [
    "%%showcalc\n",
    "# Second Law Efficiency\n",
    "eta_II = 1 - X_d/X_exp"
   ]
  },
  {
   "cell_type": "markdown",
   "metadata": {},
   "source": [
    "#### Summary of Results"
   ]
  },
  {
   "cell_type": "code",
   "execution_count": 25,
   "metadata": {
    "collapsed": false,
    "jupyter": {
     "outputs_hidden": false
    }
   },
   "outputs": [
    {
     "output_type": "display_data",
     "data": {
      "text/plain": "<IPython.core.display.Latex object>",
      "text/latex": "\\begin{aligned}{ A_{p} }&={ 0.1\\ \\mathrm{m}^{2} }&{ \\Delta{}X_{1\\to{}3} }&={ 201.45\\ \\mathrm{kJ} }&{ \\Delta{}x }&={ 0.1\\ \\mathrm{m} }\\\\{ Q_{1\\to{}3} }&={ 512.06\\ \\mathrm{kJ} }&{ R }&={ 0.28705\\ \\frac{\\mathrm{kJ}}{\\left(\\mathrm{K} \\cdot \\mathrm{kg}\\right)} }&{ S_{gen} }&={ 0.3925\\ \\frac{\\mathrm{kJ}}{\\mathrm{K}} }\\\\{ T_{R} }&={ 500\\ \\mathrm{°C} }&{ W_{1\\to{}2} }&={ 2.0\\ \\mathrm{kJ} }&{ W_{1\\to{}3} }&={ 2.6\\ \\mathrm{kJ} }\\\\{ W_{2\\to{}3} }&={ 0.6\\ \\mathrm{kJ} }&{ W_{tot} }&={ 2.6\\ \\mathrm{kJ} }&{ X_{d} }&={ 115.06\\ \\mathrm{kJ} }\\\\{ X_{exp} }&={ 317.91\\ \\mathrm{kJ} }&{ \\eta_{II} }&={ 0.63807\\ }&{ k }&={ 1000\\ \\frac{\\mathrm{kN}}{\\mathrm{m}} }\\\\{ m }&={ 2\\ \\mathrm{kg} }&{ p_{final} }&={ 400\\ \\mathrm{kPa} }&{ v_{ig} }&={ 0.00047816\\ \\frac{\\mathrm{kJ}}{\\left(\\mathrm{Pa} \\cdot \\mathrm{kg}\\right)} }\\\\{ v_{tables} }&={ 0.47816\\ \\frac{\\mathrm{m}^{3}}{\\mathrm{kg}} }&{  }\\end{aligned}"
     },
     "metadata": {}
    },
    {
     "output_type": "display_data",
     "data": {
      "text/plain": "<IPython.core.display.HTML object>",
      "text/html": "<table border=\"1\" class=\"dataframe\">\n  <thead>\n    <tr>\n      <th></th>\n      <th>T</th>\n      <th>p</th>\n      <th>v</th>\n      <th>u</th>\n      <th>s</th>\n      <th>Vol</th>\n      <th>X</th>\n    </tr>\n    <tr>\n      <th>unit</th>\n      <th>°C</th>\n      <th>Pa</th>\n      <th>m³/kg</th>\n      <th>kJ/kg</th>\n      <th>kJ/K/kg</th>\n      <th>m³</th>\n      <th>kJ</th>\n    </tr>\n  </thead>\n  <tbody>\n    <tr>\n      <th>0</th>\n      <td>20.000000</td>\n      <td>100000.0</td>\n      <td>0.841495</td>\n      <td>-93.438405</td>\n      <td>6.684495</td>\n      <td>1.682989</td>\n      <td>-</td>\n    </tr>\n    <tr>\n      <th>1</th>\n      <td>60.000000</td>\n      <td>200000.0</td>\n      <td>0.478158</td>\n      <td>-64.692337</td>\n      <td>6.614160</td>\n      <td>0.956316</td>\n      <td>26.062395</td>\n    </tr>\n    <tr>\n      <th>2</th>\n      <td>63.483681</td>\n      <td>200000.0</td>\n      <td>0.483158</td>\n      <td>-</td>\n      <td>6.624638</td>\n      <td>0.966316</td>\n      <td>-</td>\n    </tr>\n    <tr>\n      <th>3</th>\n      <td>401.510835</td>\n      <td>400000.0</td>\n      <td>0.484158</td>\n      <td>190.038979</td>\n      <td>7.141563</td>\n      <td>0.968316</td>\n      <td>227.508433</td>\n    </tr>\n  </tbody>\n</table>"
     },
     "metadata": {}
    }
   ],
   "source": [
    "Summary();"
   ]
  }
 ],
 "metadata": {
  "kernelspec": {
   "display_name": "Python 3",
   "language": "python",
   "name": "python3"
  }
 },
 "nbformat": 4,
 "nbformat_minor": 4
}