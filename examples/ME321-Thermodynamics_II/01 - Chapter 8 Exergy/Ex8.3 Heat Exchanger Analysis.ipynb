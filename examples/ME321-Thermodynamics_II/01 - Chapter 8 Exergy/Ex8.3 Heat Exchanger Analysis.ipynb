{
 "cells": [
  {
   "cell_type": "markdown",
   "metadata": {},
   "source": [
    "# Example 8.3: Heat Exchanger Exergy Analysis\n",
    "\n",
    "*John F. Maddox, Ph.D., P.E.<br>\n",
    "University of Kentucky - Paducah Campus<br>\n",
    "ME 321: Engineering Thermodynamics II<br>*\n",
    "\n",
    "\n"
   ]
  },
  {
   "cell_type": "markdown",
   "metadata": {},
   "source": [
    "## Problem Statement\n",
    "A non-mixing heat exchanger is used to cool 20 kg/s of hot air from 500 K to 300 K using a supply of liquid water at $10^\\circ\\text{C}$.  The exit temperature of the water is $5^\\circ\\text{C}$ hotter than its inlet temperature.  The ambient temperature and pressure are $T_0=20^\\circ\\text{C}$ and $p_0=1\\,\\text{bar}$.\n",
    "\n",
    "Determine:\n",
    "* (a) The mass flow rate of the water, $\\text{kg/s}$\n",
    "* (b) The rate of heat transfer, $\\text{kW}$\n",
    "* (c) The entropy generation, $\\text{kW/K}$\n",
    "* (d) The exergy destruction, $\\text{kW}$\n",
    "* (e) The second law efficiency\n",
    "* (f) The second law efficiency if the cooling water entered at $20^\\circ\\text{C}$ instead of $10^\\circ\\text{C}$\n"
   ]
  },
  {
   "cell_type": "markdown",
   "metadata": {},
   "source": [
    "## Solution\n",
    "\n",
    "__[Video Explanation](https://uky.yuja.com/V/Video?v=3074237&node=10465153&a=70764744&autoplay=1)__"
   ]
  },
  {
   "cell_type": "markdown",
   "metadata": {},
   "source": [
    "### Python Initialization\n",
    "We'll start by importing the libraries we will use for our analysis and initializing dictionaries to hold the properties we will be usings."
   ]
  },
  {
   "cell_type": "code",
   "execution_count": 1,
   "metadata": {
    "collapsed": false,
    "jupyter": {
     "outputs_hidden": false
    }
   },
   "outputs": [],
   "source": [
    "from kilojoule.templates.kSI_C import *\n",
    "air = idealgas.Properties('Air')\n",
    "water = realfluid.Properties('Water')"
   ]
  },
  {
   "cell_type": "markdown",
   "metadata": {},
   "source": [
    "### Given Parameters\n",
    "We now define variables to hold our known values."
   ]
  },
  {
   "cell_type": "code",
   "execution_count": 2,
   "metadata": {
    "collapsed": false,
    "jupyter": {
     "outputs_hidden": false
    }
   },
   "outputs": [
    {
     "output_type": "display_data",
     "data": {
      "text/plain": "<IPython.core.display.Latex object>",
      "text/latex": "\\begin{aligned}{  }\\end{aligned}"
     },
     "metadata": {}
    },
    {
     "output_type": "display_data",
     "data": {
      "text/plain": "<IPython.core.display.HTML object>",
      "text/html": "<table border=\"1\" class=\"dataframe\">\n  <thead>\n    <tr>\n      <th></th>\n      <th>T</th>\n      <th>p</th>\n      <th>mdot</th>\n    </tr>\n    <tr>\n      <th>unit</th>\n      <th>°C</th>\n      <th>Pa</th>\n      <th>kg/s</th>\n    </tr>\n  </thead>\n  <tbody>\n    <tr>\n      <th>0</th>\n      <td>20.00</td>\n      <td>100000.0</td>\n      <td>-</td>\n    </tr>\n    <tr>\n      <th>1</th>\n      <td>226.85</td>\n      <td>100000.0</td>\n      <td>20.0</td>\n    </tr>\n    <tr>\n      <th>2</th>\n      <td>26.85</td>\n      <td>100000.0</td>\n      <td>20.0</td>\n    </tr>\n    <tr>\n      <th>3</th>\n      <td>10.00</td>\n      <td>100000.0</td>\n      <td>-</td>\n    </tr>\n    <tr>\n      <th>4</th>\n      <td>15.00</td>\n      <td>100000.0</td>\n      <td>-</td>\n    </tr>\n  </tbody>\n</table>"
     },
     "metadata": {}
    }
   ],
   "source": [
    "T[0] = Quantity(20,'degC')\n",
    "p[0] = Quantity(1,'bar')\n",
    "T[1] = Quantity(500,'K')\n",
    "T[2] = Quantity(300,'K')\n",
    "T[3] = Quantity(10,'degC')\n",
    "T[4] = Quantity(15,'degC')\n",
    "mdot[1] = Quantity(20,'kg/s')\n",
    "mdot[2] = mdot[1]\n",
    "p[1] = p[2] = p[3] = p[4] = p[0]\n",
    "\n",
    "Summary();"
   ]
  },
  {
   "cell_type": "markdown",
   "metadata": {},
   "source": [
    "### Assumptions\n",
    "  - Negligible changes in kinetic energy\n",
    "  - Negligible changes in potential energy"
   ]
  },
  {
   "cell_type": "markdown",
   "metadata": {},
   "source": [
    "#### (a) mass flow rate of water"
   ]
  },
  {
   "cell_type": "code",
   "execution_count": 3,
   "metadata": {
    "collapsed": false,
    "jupyter": {
     "outputs_hidden": false
    }
   },
   "outputs": [
    {
     "output_type": "display_data",
     "data": {
      "text/plain": "<IPython.core.display.Latex object>",
      "text/latex": "\\begin{aligned}\n  {h}_{ 1 } &=  \\mathrm{ \\underset{ air }{ h } }\\left( {T}_{ 1 }, {p}_{ 1 } \\right)  = \\mathrm{ \\underset{ air }{ h } }\\left( 226.85\\ \\mathrm{°C}, 1\\times 10^{5}\\ \\mathrm{Pa} \\right) = 200.64\\ \\frac{\\mathrm{kJ}}{\\mathrm{kg}}\n\\end{aligned}\n"
     },
     "metadata": {}
    },
    {
     "output_type": "display_data",
     "data": {
      "text/plain": "<IPython.core.display.Latex object>",
      "text/latex": "\\begin{aligned}\n  {h}_{ 2 } &=  \\mathrm{ \\underset{ air }{ h } }\\left( {T}_{ 2 }, {p}_{ 2 } \\right)  = \\mathrm{ \\underset{ air }{ h } }\\left( 26.85\\ \\mathrm{°C}, 1\\times 10^{5}\\ \\mathrm{Pa} \\right) = -2.4071\\ \\frac{\\mathrm{kJ}}{\\mathrm{kg}}\n\\end{aligned}\n"
     },
     "metadata": {}
    },
    {
     "output_type": "display_data",
     "data": {
      "text/plain": "<IPython.core.display.Latex object>",
      "text/latex": "\\begin{aligned}\n  {h}_{ 3 } &=  \\mathrm{ \\underset{ water }{ h } }\\left( {T}_{ 3 }, {p}_{ 3 } \\right)  = \\mathrm{ \\underset{ water }{ h } }\\left( 10\\ \\mathrm{°C}, 1\\times 10^{5}\\ \\mathrm{Pa} \\right) = 42.118\\ \\frac{\\mathrm{kJ}}{\\mathrm{kg}}\n\\end{aligned}\n"
     },
     "metadata": {}
    },
    {
     "output_type": "display_data",
     "data": {
      "text/plain": "<IPython.core.display.Latex object>",
      "text/latex": "\\begin{aligned}\n  {h}_{ 4 } &=  \\mathrm{ \\underset{ water }{ h } }\\left( {T}_{ 4 }, {p}_{ 4 } \\right)  = \\mathrm{ \\underset{ water }{ h } }\\left( 15\\ \\mathrm{°C}, 1\\times 10^{5}\\ \\mathrm{Pa} \\right) = 63.076\\ \\frac{\\mathrm{kJ}}{\\mathrm{kg}}\n\\end{aligned}\n"
     },
     "metadata": {}
    },
    {
     "output_type": "display_data",
     "data": {
      "text/plain": "<IPython.core.display.Markdown object>",
      "text/markdown": " The First Law can be used can be used to determine the mass flow rate"
     },
     "metadata": {}
    },
    {
     "output_type": "display_data",
     "data": {
      "text/plain": "<IPython.core.display.Latex object>",
      "text/latex": "\\begin{aligned}\n  {\\dot{m}}_{ 3 } &=  \\frac{  {\\dot{m}}_{ 1 }  \\cdot  \\left(  {h}_{ 2 } - {h}_{ 1 }  \\right)  }{  {h}_{ 3 } - {h}_{ 4 }  } \\\\\n    &= \\frac{  20\\ \\frac{\\mathrm{kg}}{\\mathrm{s}}  \\cdot  \\left(  -2.4071\\ \\frac{\\mathrm{kJ}}{\\mathrm{kg}} - 200.64\\ \\frac{\\mathrm{kJ}}{\\mathrm{kg}}  \\right)  }{  42.118\\ \\frac{\\mathrm{kJ}}{\\mathrm{kg}} - 63.076\\ \\frac{\\mathrm{kJ}}{\\mathrm{kg}}  }\\\\\n    &= 193.77\\ \\frac{\\mathrm{kg}}{\\mathrm{s}}\n\\end{aligned}\n"
     },
     "metadata": {}
    },
    {
     "output_type": "display_data",
     "data": {
      "text/plain": "<IPython.core.display.Latex object>",
      "text/latex": "\\begin{aligned}\n  {\\dot{m}}_{ 4 } &=  {\\dot{m}}_{ 1 }  = 20\\ \\frac{\\mathrm{kg}}{\\mathrm{s}} \n\\end{aligned}\n"
     },
     "metadata": {}
    },
    {
     "output_type": "display_data",
     "data": {
      "text/plain": "<IPython.core.display.Latex object>",
      "text/latex": "\\begin{aligned}\n  \\dot{m}_{water} &=  {\\dot{m}}_{ 3 }  = 193.77\\ \\frac{\\mathrm{kg}}{\\mathrm{s}} \n\\end{aligned}\n"
     },
     "metadata": {}
    }
   ],
   "source": [
    "%%showcalc\n",
    "h[1] = air.h(T[1],p[1])\n",
    "h[2] = air.h(T[2],p[2])\n",
    "h[3] = water.h(T[3],p[3])\n",
    "h[4] = water.h(T[4],p[4])\n",
    "\n",
    "# The First Law can be used can be used to determine the mass flow rate\n",
    "mdot[3] = mdot[1]*(h[2]-h[1])/(h[3]-h[4])\n",
    "mdot[4] = mdot[1]\n",
    "mdot_water = mdot[3]"
   ]
  },
  {
   "cell_type": "markdown",
   "metadata": {},
   "source": [
    "#### (b) rate of heat transfer"
   ]
  },
  {
   "cell_type": "code",
   "execution_count": 4,
   "metadata": {
    "collapsed": false,
    "jupyter": {
     "outputs_hidden": false
    }
   },
   "outputs": [
    {
     "output_type": "display_data",
     "data": {
      "text/plain": "<IPython.core.display.Markdown object>",
      "text/markdown": " In order to determine the amount of heat transfered between the streams, we can do a first law analysis for a control volume containing just one of the streams.  "
     },
     "metadata": {}
    },
    {
     "output_type": "display_data",
     "data": {
      "text/plain": "<IPython.core.display.Markdown object>",
      "text/markdown": " Here we do this for the air stream"
     },
     "metadata": {}
    },
    {
     "output_type": "display_data",
     "data": {
      "text/plain": "<IPython.core.display.Latex object>",
      "text/latex": "\\begin{aligned}\n  \\dot{Q}_{1\\to{}2} &=    {\\dot{m}}_{ 2 }  \\cdot  {h}_{ 2 }  -  {\\dot{m}}_{ 1 }  \\cdot  {h}_{ 1 }   \\\\\n    &=   20\\ \\frac{\\mathrm{kg}}{\\mathrm{s}}  \\cdot  -2.4071\\ \\frac{\\mathrm{kJ}}{\\mathrm{kg}}  -  20\\ \\frac{\\mathrm{kg}}{\\mathrm{s}}  \\cdot  200.64\\ \\frac{\\mathrm{kJ}}{\\mathrm{kg}}  \\\\\n    &= -4061.0\\ \\frac{\\mathrm{kJ}}{\\mathrm{s}}\n\\end{aligned}\n"
     },
     "metadata": {}
    },
    {
     "output_type": "display_data",
     "data": {
      "text/plain": "<IPython.core.display.Latex object>",
      "text/latex": "\\begin{aligned}\n  \\dot{Q} &=   \\left| \\dot{Q}_{1\\to{}2} \\right|  =  \\left| -4061.0\\ \\frac{\\mathrm{kJ}}{\\mathrm{s}} \\right| = 4061.0\\ \\mathrm{kW}\n\\end{aligned}\n"
     },
     "metadata": {}
    }
   ],
   "source": [
    "%%showcalc\n",
    "# In order to determine the amount of heat transfered between the streams, we can do a first law analysis for a control volume containing just one of the streams.  \n",
    "# Here we do this for the air stream\n",
    "Qdot_1_to_2 = mdot[2]*h[2]- mdot[1]*h[1]\n",
    "Qdot = abs(Qdot_1_to_2)\n",
    "Qdot.ito('kW') "
   ]
  },
  {
   "cell_type": "markdown",
   "metadata": {},
   "source": [
    "#### (c) entropy generation"
   ]
  },
  {
   "cell_type": "code",
   "execution_count": 5,
   "metadata": {
    "collapsed": false,
    "jupyter": {
     "outputs_hidden": false
    }
   },
   "outputs": [
    {
     "output_type": "display_data",
     "data": {
      "text/plain": "<IPython.core.display.Markdown object>",
      "text/markdown": " The specific entropies can also be evaluate using the known temperatures and pressures"
     },
     "metadata": {}
    },
    {
     "output_type": "display_data",
     "data": {
      "text/plain": "<IPython.core.display.Latex object>",
      "text/latex": "\\begin{aligned}\n  {s}_{ 1 } &=  \\mathrm{ \\underset{ air }{ s } }\\left( {T}_{ 1 }, {p}_{ 1 } \\right)  = \\mathrm{ \\underset{ air }{ s } }\\left( 226.85\\ \\mathrm{°C}, 1\\times 10^{5}\\ \\mathrm{Pa} \\right) = 7.2258\\ \\frac{\\mathrm{kJ}}{\\left(\\mathrm{K} \\cdot \\mathrm{kg}\\right)}\n\\end{aligned}\n"
     },
     "metadata": {}
    },
    {
     "output_type": "display_data",
     "data": {
      "text/plain": "<IPython.core.display.Latex object>",
      "text/latex": "\\begin{aligned}\n  {s}_{ 2 } &=  \\mathrm{ \\underset{ air }{ s } }\\left( {T}_{ 2 }, {p}_{ 2 } \\right)  = \\mathrm{ \\underset{ air }{ s } }\\left( 26.85\\ \\mathrm{°C}, 1\\times 10^{5}\\ \\mathrm{Pa} \\right) = 6.7077\\ \\frac{\\mathrm{kJ}}{\\left(\\mathrm{K} \\cdot \\mathrm{kg}\\right)}\n\\end{aligned}\n"
     },
     "metadata": {}
    },
    {
     "output_type": "display_data",
     "data": {
      "text/plain": "<IPython.core.display.Latex object>",
      "text/latex": "\\begin{aligned}\n  {s}_{ 3 } &=  \\mathrm{ \\underset{ water }{ s } }\\left( {T}_{ 3 }, {p}_{ 3 } \\right)  = \\mathrm{ \\underset{ water }{ s } }\\left( 10\\ \\mathrm{°C}, 1\\times 10^{5}\\ \\mathrm{Pa} \\right) = 0.15108\\ \\frac{\\mathrm{kJ}}{\\left(\\mathrm{K} \\cdot \\mathrm{kg}\\right)}\n\\end{aligned}\n"
     },
     "metadata": {}
    },
    {
     "output_type": "display_data",
     "data": {
      "text/plain": "<IPython.core.display.Latex object>",
      "text/latex": "\\begin{aligned}\n  {s}_{ 4 } &=  \\mathrm{ \\underset{ water }{ s } }\\left( {T}_{ 4 }, {p}_{ 4 } \\right)  = \\mathrm{ \\underset{ water }{ s } }\\left( 15\\ \\mathrm{°C}, 1\\times 10^{5}\\ \\mathrm{Pa} \\right) = 0.22445\\ \\frac{\\mathrm{kJ}}{\\left(\\mathrm{K} \\cdot \\mathrm{kg}\\right)}\n\\end{aligned}\n"
     },
     "metadata": {}
    },
    {
     "output_type": "display_data",
     "data": {
      "text/plain": "<IPython.core.display.Markdown object>",
      "text/markdown": " The Second Law can be used to solve for the entropy generation"
     },
     "metadata": {}
    },
    {
     "output_type": "display_data",
     "data": {
      "text/plain": "<IPython.core.display.Latex object>",
      "text/latex": "\\begin{aligned}\n  \\dot{S}_{gen} &=   {\\dot{m}}_{ 1 }  \\cdot  \\left(  {s}_{ 2 } - {s}_{ 1 }  \\right)  +  {\\dot{m}}_{ 3 }  \\cdot  \\left(  {s}_{ 4 } - {s}_{ 3 }  \\right)  \\\\\n    &=  20\\ \\frac{\\mathrm{kg}}{\\mathrm{s}}  \\cdot  \\left(  6.7077\\ \\frac{\\mathrm{kJ}}{\\left(\\mathrm{K} \\cdot \\mathrm{kg}\\right)} - 7.2258\\ \\frac{\\mathrm{kJ}}{\\left(\\mathrm{K} \\cdot \\mathrm{kg}\\right)}  \\right)  +  193.77\\ \\frac{\\mathrm{kg}}{\\mathrm{s}}  \\cdot  \\left(  0.22445\\ \\frac{\\mathrm{kJ}}{\\left(\\mathrm{K} \\cdot \\mathrm{kg}\\right)} - 0.15108\\ \\frac{\\mathrm{kJ}}{\\left(\\mathrm{K} \\cdot \\mathrm{kg}\\right)}  \\right) \\\\\n    &= 3.8555\\ \\frac{\\mathrm{kW}}{\\mathrm{K}}\n\\end{aligned}\n"
     },
     "metadata": {}
    }
   ],
   "source": [
    "%%showcalc\n",
    "# The specific entropies can also be evaluate using the known temperatures and pressures\n",
    "s[1] = air.s(T[1],p[1])\n",
    "s[2] = air.s(T[2],p[2])\n",
    "s[3] = water.s(T[3],p[3])\n",
    "s[4] = water.s(T[4],p[4])\n",
    "\n",
    "# The Second Law can be used to solve for the entropy generation\n",
    "Sdot_gen = mdot[1]*(s[2]-s[1]) + mdot[3]*(s[4]-s[3])\n",
    "Sdot_gen.ito('kW/K') "
   ]
  },
  {
   "cell_type": "markdown",
   "metadata": {},
   "source": [
    "#### (d) exergy destruction"
   ]
  },
  {
   "cell_type": "code",
   "execution_count": 6,
   "metadata": {
    "collapsed": false,
    "jupyter": {
     "outputs_hidden": false
    }
   },
   "outputs": [
    {
     "output_type": "display_data",
     "data": {
      "text/plain": "<IPython.core.display.Markdown object>",
      "text/markdown": " The exergy destruction is always $T_0\\dot{S}_{gen}$"
     },
     "metadata": {}
    },
    {
     "output_type": "display_data",
     "data": {
      "text/plain": "<IPython.core.display.Latex object>",
      "text/latex": "\\begin{aligned}\n  \\dot{X}_{dest} &=   {T}_{ 0 }  \\cdot  \\dot{S}_{gen}  \\\\\n    &=  293.15\\ \\mathrm{K}  \\cdot  3.8555\\ \\frac{\\mathrm{kW}}{\\mathrm{K}} \\\\\n    &= 1130.3\\ \\mathrm{kW}\n\\end{aligned}\n"
     },
     "metadata": {}
    }
   ],
   "source": [
    "%%showcalc\n",
    "# The exergy destruction is always $T_0\\dot{S}_{gen}$\n",
    "Xdot_dest = T[0].to('K')*Sdot_gen"
   ]
  },
  {
   "cell_type": "markdown",
   "metadata": {},
   "source": [
    "#### (e) Second Law Efficiency"
   ]
  },
  {
   "cell_type": "code",
   "execution_count": 7,
   "metadata": {
    "collapsed": false,
    "jupyter": {
     "outputs_hidden": false
    }
   },
   "outputs": [
    {
     "output_type": "display_data",
     "data": {
      "text/plain": "<IPython.core.display.Markdown object>",
      "text/markdown": " In this case, both streams are approaching the ambient temperature, so both streams are decreasing in exergy.  Therefore, there is no recovered exergy for this system"
     },
     "metadata": {}
    },
    {
     "output_type": "display_data",
     "data": {
      "text/plain": "<IPython.core.display.Latex object>",
      "text/latex": "\\begin{aligned}\n  \\dot{X}_{Rec} &=  0\\ \\mathrm{kW} \n\\end{aligned}\n"
     },
     "metadata": {}
    },
    {
     "output_type": "display_data",
     "data": {
      "text/plain": "<IPython.core.display.Latex object>",
      "text/latex": "\\begin{aligned}\n  \\eta_{II} &=  0\\ \n\\end{aligned}\n"
     },
     "metadata": {}
    }
   ],
   "source": [
    "%%showcalc\n",
    "# In this case, both streams are approaching the ambient temperature, so both streams are decreasing in exergy.  Therefore, there is no recovered exergy for this system\n",
    "Xdot_Rec = Quantity(0,'kW')\n",
    "eta_II = Quantity(0,'')"
   ]
  },
  {
   "cell_type": "markdown",
   "metadata": {},
   "source": [
    "#### (f) Second Law Efficiency: Alternate Inlet Temperature"
   ]
  },
  {
   "cell_type": "code",
   "execution_count": 8,
   "metadata": {
    "collapsed": false,
    "jupyter": {
     "outputs_hidden": false
    }
   },
   "outputs": [
    {
     "output_type": "display_data",
     "data": {
      "text/plain": "<IPython.core.display.Markdown object>",
      "text/markdown": " We need to recalculate properties to account for the alternate inlet temperature"
     },
     "metadata": {}
    },
    {
     "output_type": "display_data",
     "data": {
      "text/plain": "<IPython.core.display.Latex object>",
      "text/latex": "\\begin{aligned}\n  {T}_{ 5 } &=  20\\ \\mathrm{°C} \n\\end{aligned}\n"
     },
     "metadata": {}
    },
    {
     "output_type": "display_data",
     "data": {
      "text/plain": "<IPython.core.display.Latex object>",
      "text/latex": "\\begin{aligned}\n  {p}_{ 5 } &=  {p}_{ 4 }  = 1\\times 10^{5}\\ \\mathrm{Pa} \n\\end{aligned}\n"
     },
     "metadata": {}
    },
    {
     "output_type": "display_data",
     "data": {
      "text/plain": "<IPython.core.display.Latex object>",
      "text/latex": "\\begin{aligned}\n  {T}_{ 6 } &=  {T}_{ 5 } + 5\\ \\mathrm{Δ°C} \\\\\n    &= 20\\ \\mathrm{°C} + 5\\ \\mathrm{Δ°C}\\\\\n    &= 25\\ \\mathrm{°C}\n\\end{aligned}\n"
     },
     "metadata": {}
    },
    {
     "output_type": "display_data",
     "data": {
      "text/plain": "<IPython.core.display.Latex object>",
      "text/latex": "\\begin{aligned}\n  {p}_{ 6 } &=  {p}_{ 5 }  = 1\\times 10^{5}\\ \\mathrm{Pa} \n\\end{aligned}\n"
     },
     "metadata": {}
    },
    {
     "output_type": "display_data",
     "data": {
      "text/plain": "<IPython.core.display.Latex object>",
      "text/latex": "\\begin{aligned}\n  {h}_{ 5 } &=  \\mathrm{ \\underset{ water }{ h } }\\left( {T}_{ 5 }, {p}_{ 5 } \\right)  = \\mathrm{ \\underset{ water }{ h } }\\left( 20\\ \\mathrm{°C}, 1\\times 10^{5}\\ \\mathrm{Pa} \\right) = 84.006\\ \\frac{\\mathrm{kJ}}{\\mathrm{kg}}\n\\end{aligned}\n"
     },
     "metadata": {}
    },
    {
     "output_type": "display_data",
     "data": {
      "text/plain": "<IPython.core.display.Latex object>",
      "text/latex": "\\begin{aligned}\n  {h}_{ 6 } &=  \\mathrm{ \\underset{ water }{ h } }\\left( {T}_{ 6 }, {p}_{ 6 } \\right)  = \\mathrm{ \\underset{ water }{ h } }\\left( 25\\ \\mathrm{°C}, 1\\times 10^{5}\\ \\mathrm{Pa} \\right) = 104.92\\ \\frac{\\mathrm{kJ}}{\\mathrm{kg}}\n\\end{aligned}\n"
     },
     "metadata": {}
    },
    {
     "output_type": "display_data",
     "data": {
      "text/plain": "<IPython.core.display.Latex object>",
      "text/latex": "\\begin{aligned}\n  {s}_{ 5 } &=  \\mathrm{ \\underset{ water }{ s } }\\left( {T}_{ 5 }, {p}_{ 5 } \\right)  = \\mathrm{ \\underset{ water }{ s } }\\left( 20\\ \\mathrm{°C}, 1\\times 10^{5}\\ \\mathrm{Pa} \\right) = 0.29646\\ \\frac{\\mathrm{kJ}}{\\left(\\mathrm{K} \\cdot \\mathrm{kg}\\right)}\n\\end{aligned}\n"
     },
     "metadata": {}
    },
    {
     "output_type": "display_data",
     "data": {
      "text/plain": "<IPython.core.display.Latex object>",
      "text/latex": "\\begin{aligned}\n  {s}_{ 6 } &=  \\mathrm{ \\underset{ water }{ s } }\\left( {T}_{ 6 }, {p}_{ 6 } \\right)  = \\mathrm{ \\underset{ water }{ s } }\\left( 25\\ \\mathrm{°C}, 1\\times 10^{5}\\ \\mathrm{Pa} \\right) = 0.3672\\ \\frac{\\mathrm{kJ}}{\\left(\\mathrm{K} \\cdot \\mathrm{kg}\\right)}\n\\end{aligned}\n"
     },
     "metadata": {}
    },
    {
     "output_type": "display_data",
     "data": {
      "text/plain": "<IPython.core.display.Markdown object>",
      "text/markdown": " For this case, the water stream in increaseing in exergy while the air stream is decreasing in exergy.  So we will need the changes in flow exergy for each stream"
     },
     "metadata": {}
    },
    {
     "output_type": "display_data",
     "data": {
      "text/plain": "<IPython.core.display.Latex object>",
      "text/latex": "\\begin{aligned}\n  \\Delta{}\\psi_{5,6} &=    {h}_{ 6 } - {h}_{ 5 }  -  {T}_{ 0 }  \\cdot  \\left(  {s}_{ 6 } - {s}_{ 5 }  \\right)   \\\\\n    &=   104.92\\ \\frac{\\mathrm{kJ}}{\\mathrm{kg}} - 84.006\\ \\frac{\\mathrm{kJ}}{\\mathrm{kg}}  -  293.15\\ \\mathrm{K}  \\cdot  \\left(  0.3672\\ \\frac{\\mathrm{kJ}}{\\left(\\mathrm{K} \\cdot \\mathrm{kg}\\right)} - 0.29646\\ \\frac{\\mathrm{kJ}}{\\left(\\mathrm{K} \\cdot \\mathrm{kg}\\right)}  \\right)  \\\\\n    &= 0.17632\\ \\frac{\\mathrm{kJ}}{\\mathrm{kg}}\n\\end{aligned}\n"
     },
     "metadata": {}
    },
    {
     "output_type": "display_data",
     "data": {
      "text/plain": "<IPython.core.display.Latex object>",
      "text/latex": "\\begin{aligned}\n  \\Delta{}\\psi_{1,2} &=    {h}_{ 2 } - {h}_{ 1 }  -  {T}_{ 0 }  \\cdot  \\left(  {s}_{ 2 } - {s}_{ 1 }  \\right)   \\\\\n    &=   -2.4071\\ \\frac{\\mathrm{kJ}}{\\mathrm{kg}} - 200.64\\ \\frac{\\mathrm{kJ}}{\\mathrm{kg}}  -  293.15\\ \\mathrm{K}  \\cdot  \\left(  6.7077\\ \\frac{\\mathrm{kJ}}{\\left(\\mathrm{K} \\cdot \\mathrm{kg}\\right)} - 7.2258\\ \\frac{\\mathrm{kJ}}{\\left(\\mathrm{K} \\cdot \\mathrm{kg}\\right)}  \\right)  \\\\\n    &= -51.175\\ \\frac{\\mathrm{kJ}}{\\mathrm{kg}}\n\\end{aligned}\n"
     },
     "metadata": {}
    },
    {
     "output_type": "display_data",
     "data": {
      "text/plain": "<IPython.core.display.Markdown object>",
      "text/markdown": " A first law analysis can be used to update the water mass flow rate for the new inlet temperature"
     },
     "metadata": {}
    },
    {
     "output_type": "display_data",
     "data": {
      "text/plain": "<IPython.core.display.Latex object>",
      "text/latex": "\\begin{aligned}\n  {\\dot{m}}_{ 5 } &=  \\frac{  {\\dot{m}}_{ 1 }  \\cdot  \\left(  {h}_{ 2 } - {h}_{ 1 }  \\right)  }{  {h}_{ 5 } - {h}_{ 6 }  } \\\\\n    &= \\frac{  20\\ \\frac{\\mathrm{kg}}{\\mathrm{s}}  \\cdot  \\left(  -2.4071\\ \\frac{\\mathrm{kJ}}{\\mathrm{kg}} - 200.64\\ \\frac{\\mathrm{kJ}}{\\mathrm{kg}}  \\right)  }{  84.006\\ \\frac{\\mathrm{kJ}}{\\mathrm{kg}} - 104.92\\ \\frac{\\mathrm{kJ}}{\\mathrm{kg}}  }\\\\\n    &= 194.19\\ \\frac{\\mathrm{kg}}{\\mathrm{s}}\n\\end{aligned}\n"
     },
     "metadata": {}
    },
    {
     "output_type": "display_data",
     "data": {
      "text/plain": "<IPython.core.display.Latex object>",
      "text/latex": "\\begin{aligned}\n  {\\dot{m}}_{ 6 } &=  {\\dot{m}}_{ 5 }  = 194.19\\ \\frac{\\mathrm{kg}}{\\mathrm{s}} \n\\end{aligned}\n"
     },
     "metadata": {}
    },
    {
     "output_type": "display_data",
     "data": {
      "text/plain": "<IPython.core.display.Markdown object>",
      "text/markdown": " The second law gives the new entropy generation"
     },
     "metadata": {}
    },
    {
     "output_type": "display_data",
     "data": {
      "text/plain": "<IPython.core.display.Latex object>",
      "text/latex": "\\begin{aligned}\n  \\dot{S}_{gen,Alt} &=   {\\dot{m}}_{ 1 }  \\cdot  \\left(  {s}_{ 2 } - {s}_{ 1 }  \\right)  +  {\\dot{m}}_{ 5 }  \\cdot  \\left(  {s}_{ 6 } - {s}_{ 5 }  \\right)  \\\\\n    &=  20\\ \\frac{\\mathrm{kg}}{\\mathrm{s}}  \\cdot  \\left(  6.7077\\ \\frac{\\mathrm{kJ}}{\\left(\\mathrm{K} \\cdot \\mathrm{kg}\\right)} - 7.2258\\ \\frac{\\mathrm{kJ}}{\\left(\\mathrm{K} \\cdot \\mathrm{kg}\\right)}  \\right)  +  194.19\\ \\frac{\\mathrm{kg}}{\\mathrm{s}}  \\cdot  \\left(  0.3672\\ \\frac{\\mathrm{kJ}}{\\left(\\mathrm{K} \\cdot \\mathrm{kg}\\right)} - 0.29646\\ \\frac{\\mathrm{kJ}}{\\left(\\mathrm{K} \\cdot \\mathrm{kg}\\right)}  \\right) \\\\\n    &= 3.3746\\ \\frac{\\mathrm{kJ}}{\\left(\\mathrm{K} \\cdot \\mathrm{s}\\right)}\n\\end{aligned}\n"
     },
     "metadata": {}
    },
    {
     "output_type": "display_data",
     "data": {
      "text/plain": "<IPython.core.display.Markdown object>",
      "text/markdown": " We also have a new exergy destruction"
     },
     "metadata": {}
    },
    {
     "output_type": "display_data",
     "data": {
      "text/plain": "<IPython.core.display.Latex object>",
      "text/latex": "\\begin{aligned}\n  \\dot{X}_{dest,Alt} &=   {T}_{ 0 }  \\cdot  \\dot{S}_{gen,Alt}  \\\\\n    &=  293.15\\ \\mathrm{K}  \\cdot  3.3746\\ \\frac{\\mathrm{kJ}}{\\left(\\mathrm{K} \\cdot \\mathrm{s}\\right)} \\\\\n    &= 989.27\\ \\frac{\\mathrm{kJ}}{\\mathrm{s}}\n\\end{aligned}\n"
     },
     "metadata": {}
    },
    {
     "output_type": "display_data",
     "data": {
      "text/plain": "<IPython.core.display.Markdown object>",
      "text/markdown": " The recovered exergy for this case in the increase in exergy of the water stream because it is moving away from the surrounding temperature"
     },
     "metadata": {}
    },
    {
     "output_type": "display_data",
     "data": {
      "text/plain": "<IPython.core.display.Latex object>",
      "text/latex": "\\begin{aligned}\n  \\dot{X}_{Rec} &=   {\\dot{m}}_{ 5 }  \\cdot  \\Delta{}\\psi_{5,6}  \\\\\n    &=  194.19\\ \\frac{\\mathrm{kg}}{\\mathrm{s}}  \\cdot  0.17632\\ \\frac{\\mathrm{kJ}}{\\mathrm{kg}} \\\\\n    &= 34.24\\ \\frac{\\mathrm{kJ}}{\\mathrm{s}}\n\\end{aligned}\n"
     },
     "metadata": {}
    },
    {
     "output_type": "display_data",
     "data": {
      "text/plain": "<IPython.core.display.Markdown object>",
      "text/markdown": " The expended exergy for this case is the decrease in exergy of the air stream becuase it is moving toward the surrounding temperature"
     },
     "metadata": {}
    },
    {
     "output_type": "display_data",
     "data": {
      "text/plain": "<IPython.core.display.Latex object>",
      "text/latex": "\\begin{aligned}\n  \\dot{X}_{Exp} &=   -{\\dot{m}}_{ 1 }  \\cdot  \\Delta{}\\psi_{1,2}  \\\\\n    &=  -\\left( 20\\ \\frac{\\mathrm{kg}}{\\mathrm{s}} \\right)  \\cdot  -51.175\\ \\frac{\\mathrm{kJ}}{\\mathrm{kg}} \\\\\n    &= 1023.5\\ \\frac{\\mathrm{kJ}}{\\mathrm{s}}\n\\end{aligned}\n"
     },
     "metadata": {}
    },
    {
     "output_type": "display_data",
     "data": {
      "text/plain": "<IPython.core.display.Markdown object>",
      "text/markdown": " Second law efficiency"
     },
     "metadata": {}
    },
    {
     "output_type": "display_data",
     "data": {
      "text/plain": "<IPython.core.display.Latex object>",
      "text/latex": "\\begin{aligned}\n  \\eta_{II,Alt} &=  \\frac{ \\dot{X}_{Rec} }{ \\dot{X}_{Exp} } \\\\\n    &= \\frac{ 34.24\\ \\frac{\\mathrm{kJ}}{\\mathrm{s}} }{ 1023.5\\ \\frac{\\mathrm{kJ}}{\\mathrm{s}} }\\\\\n    &= 0.033454\\\n\\end{aligned}\n"
     },
     "metadata": {}
    }
   ],
   "source": [
    "%%showcalc\n",
    "# We need to recalculate properties to account for the alternate inlet temperature\n",
    "T[5] = Quantity(20,'degC')\n",
    "p[5] = p[4]\n",
    "T[6] = T[5] + Quantity(5,'delta_degC')\n",
    "p[6] = p[5]\n",
    "h[5] = water.h(T[5],p[5])\n",
    "h[6] = water.h(T[6],p[6])\n",
    "s[5] = water.s(T[5],p[5])\n",
    "s[6] = water.s(T[6],p[6])\n",
    "\n",
    "# For this case, the water stream in increaseing in exergy while the air stream is decreasing in exergy.  So we will need the changes in flow exergy for each stream\n",
    "Delta_psi_5_6 = h[6]-h[5] - T[0].to('K')*(s[6]-s[5])\n",
    "Delta_psi_1_2 = h[2]-h[1] - T[0].to('K')*(s[2]-s[1])\n",
    "\n",
    "# A first law analysis can be used to update the water mass flow rate for the new inlet temperature\n",
    "mdot[5] = mdot[1]*(h[2]-h[1])/(h[5]-h[6])\n",
    "mdot[6] = mdot[5]\n",
    "\n",
    "# The second law gives the new entropy generation\n",
    "Sdot_gen_Alt = mdot[1]*(s[2]-s[1]) + mdot[5]*(s[6]-s[5])\n",
    "\n",
    "# We also have a new exergy destruction\n",
    "Xdot_dest_Alt = T[0].to('K')*Sdot_gen_Alt\n",
    "\n",
    "# The recovered exergy for this case in the increase in exergy of the water stream because it is moving away from the surrounding temperature\n",
    "Xdot_Rec = mdot[5]*Delta_psi_5_6\n",
    "\n",
    "# The expended exergy for this case is the decrease in exergy of the air stream becuase it is moving toward the surrounding temperature\n",
    "Xdot_Exp = -mdot[1]*Delta_psi_1_2\n",
    "\n",
    "# Second law efficiency\n",
    "eta_II_Alt = Xdot_Rec/Xdot_Exp"
   ]
  },
  {
   "cell_type": "code",
   "execution_count": 9,
   "metadata": {
    "collapsed": false,
    "jupyter": {
     "outputs_hidden": false
    }
   },
   "outputs": [
    {
     "output_type": "display_data",
     "data": {
      "text/plain": "<IPython.core.display.Latex object>",
      "text/latex": "\\begin{aligned}{ \\Delta{}\\psi_{1,2} }&={ -51.175\\ \\frac{\\mathrm{kJ}}{\\mathrm{kg}} }&{ \\Delta{}\\psi_{5,6} }&={ 0.17632\\ \\frac{\\mathrm{kJ}}{\\mathrm{kg}} }&{ \\dot{Q} }&={ 4061.0\\ \\mathrm{kW} }\\\\{ \\dot{Q}_{1\\to{}2} }&={ -4061.0\\ \\frac{\\mathrm{kJ}}{\\mathrm{s}} }&{ \\dot{S}_{gen} }&={ 3.8555\\ \\frac{\\mathrm{kW}}{\\mathrm{K}} }&{ \\dot{S}_{gen,Alt} }&={ 3.3746\\ \\frac{\\mathrm{kJ}}{\\left(\\mathrm{K} \\cdot \\mathrm{s}\\right)} }\\\\{ \\dot{X}_{Exp} }&={ 1023.5\\ \\frac{\\mathrm{kJ}}{\\mathrm{s}} }&{ \\dot{X}_{Rec} }&={ 34.24\\ \\frac{\\mathrm{kJ}}{\\mathrm{s}} }&{ \\dot{X}_{dest} }&={ 1130.3\\ \\mathrm{kW} }\\\\{ \\dot{X}_{dest,Alt} }&={ 989.27\\ \\frac{\\mathrm{kJ}}{\\mathrm{s}} }&{ \\eta_{II} }&={ 0\\ }&{ \\eta_{II,Alt} }&={ 0.033454\\ }\\\\{ \\dot{m}_{water} }&={ 193.77\\ \\frac{\\mathrm{kg}}{\\mathrm{s}} }&{  }\\end{aligned}"
     },
     "metadata": {}
    },
    {
     "output_type": "display_data",
     "data": {
      "text/plain": "<IPython.core.display.HTML object>",
      "text/html": "<table border=\"1\" class=\"dataframe\">\n  <thead>\n    <tr>\n      <th></th>\n      <th>T</th>\n      <th>p</th>\n      <th>h</th>\n      <th>s</th>\n      <th>mdot</th>\n    </tr>\n    <tr>\n      <th>unit</th>\n      <th>°C</th>\n      <th>Pa</th>\n      <th>kJ/kg</th>\n      <th>kJ/K/kg</th>\n      <th>kg/s</th>\n    </tr>\n  </thead>\n  <tbody>\n    <tr>\n      <th>0</th>\n      <td>20.00</td>\n      <td>100000.0</td>\n      <td>-</td>\n      <td>-</td>\n      <td>-</td>\n    </tr>\n    <tr>\n      <th>1</th>\n      <td>226.85</td>\n      <td>100000.0</td>\n      <td>200.64318</td>\n      <td>7.225779</td>\n      <td>20.0</td>\n    </tr>\n    <tr>\n      <th>2</th>\n      <td>26.85</td>\n      <td>100000.0</td>\n      <td>-2.407134</td>\n      <td>6.7077</td>\n      <td>20.0</td>\n    </tr>\n    <tr>\n      <th>3</th>\n      <td>10.00</td>\n      <td>100000.0</td>\n      <td>42.117603</td>\n      <td>0.151077</td>\n      <td>193.769164</td>\n    </tr>\n    <tr>\n      <th>4</th>\n      <td>15.00</td>\n      <td>100000.0</td>\n      <td>63.075562</td>\n      <td>0.224449</td>\n      <td>20.0</td>\n    </tr>\n    <tr>\n      <th>5</th>\n      <td>20.00</td>\n      <td>100000.0</td>\n      <td>84.006054</td>\n      <td>0.296463</td>\n      <td>194.187231</td>\n    </tr>\n    <tr>\n      <th>6</th>\n      <td>25.00</td>\n      <td>100000.0</td>\n      <td>104.918893</td>\n      <td>0.3672</td>\n      <td>194.187231</td>\n    </tr>\n  </tbody>\n</table>"
     },
     "metadata": {}
    }
   ],
   "source": [
    "Summary();"
   ]
  }
 ],
 "metadata": {
  "kernelspec": {
   "display_name": "Python 3",
   "language": "python",
   "name": "python3"
  }
 },
 "nbformat": 4,
 "nbformat_minor": 4
}