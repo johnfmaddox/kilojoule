{
 "cells": [
  {
   "cell_type": "markdown",
   "metadata": {},
   "source": [
    "# Example 11.3: Heat Pump\n",
    "\n",
    "*John F. Maddox, Ph.D., P.E.<br>\n",
    "University of Kentucky - Paducah Campus<br>\n",
    "ME 321: Engineering Thermodynamics II<br>*"
   ]
  },
  {
   "attachments": {
    "e047931f-9241-45a0-ba9d-e5e372395e5d.png": {
     "image/png": "[encoded data removed]"
    }
   },
   "cell_type": "markdown",
   "metadata": {},
   "source": [
    "## Problem Statement\n",
    "A vapor compression heat pump system uses R-134a as the working fluid.  The refrigerant enters the compressor at $2.4\\ \\mathrm{bar}$ and $0^\\circ\\mathrm{C}$ with a volumetric flow rate of $0.6\\ \\mathrm{m^3/min}$.  The compression is adiabatic to $9\\ \\mathrm{bar}$ and $60^\\circ\\mathrm{C}$.  Saturated liquid exits the condenser at $9\\ \\mathrm{bar}$. Determine the:\n",
    "* (a) Power input to the compressor\n",
    "* (b) Heating capacity\n",
    "* (c) Coefficient of performance\n",
    "* (d) Isentropic efficiency the compressor\n",
    "\n",
    "![image.png](attachment:e047931f-9241-45a0-ba9d-e5e372395e5d.png)"
   ]
  },
  {
   "cell_type": "markdown",
   "metadata": {},
   "source": [
    "## Solution\n",
    "\n",
    "__[Video Explanation](https://uky.yuja.com/V/Video?v=2005373&node=7667530&a=1952343514&autoplay=1)__"
   ]
  },
  {
   "cell_type": "markdown",
   "metadata": {},
   "source": [
    "### Python Initialization\n",
    "We'll start by importing the libraries we will use for our analysis and initializing dictionaries to hold the properties we will be usings."
   ]
  },
  {
   "cell_type": "code",
   "execution_count": 1,
   "metadata": {
    "collapsed": false,
    "jupyter": {
     "outputs_hidden": false
    }
   },
   "outputs": [],
   "source": [
    "from kilojoule.templates.default import *\n",
    "   \n",
    "r134a = realfluid.Properties('R134a')"
   ]
  },
  {
   "cell_type": "markdown",
   "metadata": {},
   "source": [
    "### Given Parameters\n",
    "We now define variables to hold our known values."
   ]
  },
  {
   "cell_type": "code",
   "execution_count": 2,
   "metadata": {
    "collapsed": false,
    "jupyter": {
     "outputs_hidden": false
    }
   },
   "outputs": [
    {
     "data": {
      "text/latex": [
       "\\[\\begin{aligned}{  }\\end{aligned}\\]"
      ],
      "text/plain": [
       "<IPython.core.display.Latex object>"
      ]
     },
     "metadata": {},
     "output_type": "display_data"
    },
    {
     "data": {
      "text/html": [
       "<table border=\"1\" class=\"dataframe\">\n",
       "  <thead>\n",
       "    <tr>\n",
       "      <th></th>\n",
       "      <th>T</th>\n",
       "      <th>p</th>\n",
       "      <th>x</th>\n",
       "      <th>Vdot</th>\n",
       "    </tr>\n",
       "    <tr>\n",
       "      <th>unit</th>\n",
       "      <th>°C</th>\n",
       "      <th>kPa</th>\n",
       "      <th></th>\n",
       "      <th>m³/s</th>\n",
       "    </tr>\n",
       "  </thead>\n",
       "  <tbody>\n",
       "    <tr>\n",
       "      <th>1</th>\n",
       "      <td>0</td>\n",
       "      <td>240</td>\n",
       "      <td>-</td>\n",
       "      <td>0.01</td>\n",
       "    </tr>\n",
       "    <tr>\n",
       "      <th>2</th>\n",
       "      <td>60</td>\n",
       "      <td>900</td>\n",
       "      <td>-</td>\n",
       "      <td>-</td>\n",
       "    </tr>\n",
       "    <tr>\n",
       "      <th>3</th>\n",
       "      <td>-</td>\n",
       "      <td>-</td>\n",
       "      <td>0</td>\n",
       "      <td>-</td>\n",
       "    </tr>\n",
       "  </tbody>\n",
       "</table>"
      ],
      "text/plain": [
       "<IPython.core.display.HTML object>"
      ]
     },
     "metadata": {},
     "output_type": "display_data"
    }
   ],
   "source": [
    "p[1] = Quantity(2.4,'bar')   # Compressor inlet pressure\n",
    "T[1] = Quantity(0,'degC')    # Compressor inlet temperature\n",
    "Vdot[1] = Quantity(0.6,'m^3/min') # Compressure inlet volumetric flow rate\n",
    "p[2] = Quantity(9,'bar')     # Compressor outlet pressure\n",
    "T[2] = Quantity(60,'degC')   # Compressor outlet temperature\n",
    "x[3] = 0                     # Condenser outet quality\n",
    "\n",
    "Summary();"
   ]
  },
  {
   "cell_type": "markdown",
   "metadata": {},
   "source": [
    "### Assumptions\n",
    "- Non-ideal work devices\n",
    "- Saturated liquid at condenser exit\n",
    "- Isobaric heat exchangers\n",
    "- Negligible changes in kinetic energy\n",
    "- Negligible changes in potential energy"
   ]
  },
  {
   "cell_type": "code",
   "execution_count": 3,
   "metadata": {
    "collapsed": false,
    "jupyter": {
     "outputs_hidden": false
    }
   },
   "outputs": [
    {
     "data": {
      "text/latex": [
       "\\[\\begin{aligned}{  }\\end{aligned}\\]"
      ],
      "text/plain": [
       "<IPython.core.display.Latex object>"
      ]
     },
     "metadata": {},
     "output_type": "display_data"
    },
    {
     "data": {
      "text/html": [
       "<table border=\"1\" class=\"dataframe\">\n",
       "  <thead>\n",
       "    <tr>\n",
       "      <th></th>\n",
       "      <th>T</th>\n",
       "      <th>p</th>\n",
       "      <th>x</th>\n",
       "      <th>Vdot</th>\n",
       "    </tr>\n",
       "    <tr>\n",
       "      <th>unit</th>\n",
       "      <th>°C</th>\n",
       "      <th>kPa</th>\n",
       "      <th></th>\n",
       "      <th>m³/s</th>\n",
       "    </tr>\n",
       "  </thead>\n",
       "  <tbody>\n",
       "    <tr>\n",
       "      <th>1</th>\n",
       "      <td>0</td>\n",
       "      <td>240.0</td>\n",
       "      <td>-</td>\n",
       "      <td>0.01</td>\n",
       "    </tr>\n",
       "    <tr>\n",
       "      <th>2</th>\n",
       "      <td>60</td>\n",
       "      <td>900.0</td>\n",
       "      <td>-</td>\n",
       "      <td>-</td>\n",
       "    </tr>\n",
       "    <tr>\n",
       "      <th>3</th>\n",
       "      <td>-</td>\n",
       "      <td>900.0</td>\n",
       "      <td>0</td>\n",
       "      <td>-</td>\n",
       "    </tr>\n",
       "    <tr>\n",
       "      <th>4</th>\n",
       "      <td>-</td>\n",
       "      <td>240.0</td>\n",
       "      <td>-</td>\n",
       "      <td>-</td>\n",
       "    </tr>\n",
       "  </tbody>\n",
       "</table>"
      ],
      "text/plain": [
       "<IPython.core.display.HTML object>"
      ]
     },
     "metadata": {},
     "output_type": "display_data"
    }
   ],
   "source": [
    "p[4] = p[1]\n",
    "p[3] = p[2]\n",
    "\n",
    "Summary();"
   ]
  },
  {
   "cell_type": "markdown",
   "metadata": {},
   "source": [
    "### (a) Power input to the compressor"
   ]
  },
  {
   "cell_type": "code",
   "execution_count": 4,
   "metadata": {
    "collapsed": false,
    "jupyter": {
     "outputs_hidden": false
    }
   },
   "outputs": [
    {
     "data": {
      "text/markdown": [
       "### Mass flow rate"
      ],
      "text/plain": [
       "<IPython.core.display.Markdown object>"
      ]
     },
     "metadata": {},
     "output_type": "display_data"
    },
    {
     "data": {
      "text/latex": [
       "\\[\n",
       "  \\begin{aligned}\n",
       "    { v_{1} }&={ \\mathrm{\\underset{r134a}{v}}\\left(T_{1} , p_{1}\\right) } = { 0.08617\\ \\frac{\\mathrm{m}^{3}}{\\mathrm{kg}}  }\n",
       "  \\end{aligned}\n",
       "\\]\n"
      ],
      "text/plain": [
       "<IPython.core.display.Latex object>"
      ]
     },
     "metadata": {},
     "output_type": "display_data"
    },
    {
     "data": {
      "text/latex": [
       "\\[\n",
       "  \\begin{aligned}{ \\dot{m} }&={ \\frac{\\dot{V}_{1}}{v_{1}} }\\\\\n",
       "    &={ \\frac{\\left( 0.01\\ \\frac{\\mathrm{m}^{3}}{\\mathrm{s}} \\right)}{\\left( 0.08617\\ \\frac{\\mathrm{m}^{3}}{\\mathrm{kg}} \\right)} }\\\\\n",
       "    &={  0.11605\\ \\frac{\\mathrm{kg}}{\\mathrm{s}}  }\n",
       "  \\end{aligned}\n",
       "\\]\n"
      ],
      "text/plain": [
       "<IPython.core.display.Latex object>"
      ]
     },
     "metadata": {},
     "output_type": "display_data"
    },
    {
     "data": {
      "text/markdown": [
       "### 1st Law for compressor"
      ],
      "text/plain": [
       "<IPython.core.display.Markdown object>"
      ]
     },
     "metadata": {},
     "output_type": "display_data"
    },
    {
     "data": {
      "text/latex": [
       "\\[\n",
       "  \\begin{aligned}\n",
       "    { h_{1} }&={ \\mathrm{\\underset{r134a}{h}}\\left(T_{1} , p_{1}\\right) } = { 400.11\\ \\frac{\\mathrm{kJ}}{\\mathrm{kg}}  }\n",
       "  \\end{aligned}\n",
       "\\]\n"
      ],
      "text/plain": [
       "<IPython.core.display.Latex object>"
      ]
     },
     "metadata": {},
     "output_type": "display_data"
    },
    {
     "data": {
      "text/latex": [
       "\\[\n",
       "  \\begin{aligned}\n",
       "    { h_{2} }&={ \\mathrm{\\underset{r134a}{h}}\\left(T_{2} , p_{2}\\right) } = { 443.28\\ \\frac{\\mathrm{kJ}}{\\mathrm{kg}}  }\n",
       "  \\end{aligned}\n",
       "\\]\n"
      ],
      "text/plain": [
       "<IPython.core.display.Latex object>"
      ]
     },
     "metadata": {},
     "output_type": "display_data"
    },
    {
     "data": {
      "text/latex": [
       "\\[\n",
       "  \\begin{aligned}{ w_{in} }&={ h_{2} - h_{1} }\\\\\n",
       "    &={ \\left( 443.28\\ \\frac{\\mathrm{kJ}}{\\mathrm{kg}} \\right) - \\left( 400.11\\ \\frac{\\mathrm{kJ}}{\\mathrm{kg}} \\right) }\\\\\n",
       "    &={  43.163\\ \\frac{\\mathrm{kJ}}{\\mathrm{kg}}  }\n",
       "  \\end{aligned}\n",
       "\\]\n"
      ],
      "text/plain": [
       "<IPython.core.display.Latex object>"
      ]
     },
     "metadata": {},
     "output_type": "display_data"
    },
    {
     "data": {
      "text/latex": [
       "\\[\n",
       "  \\begin{aligned}{ \\dot{W}_{in} }&={ \\dot{m} w_{in} }\\\\\n",
       "    &={ \\left( 0.11605\\ \\frac{\\mathrm{kg}}{\\mathrm{s}} \\right) \\left( 43.163\\ \\frac{\\mathrm{kJ}}{\\mathrm{kg}} \\right) }\\\\\n",
       "    &={  5.0091\\ \\frac{\\mathrm{kJ}}{\\mathrm{s}}  }\n",
       "  \\end{aligned}\n",
       "\\]\n"
      ],
      "text/plain": [
       "<IPython.core.display.Latex object>"
      ]
     },
     "metadata": {},
     "output_type": "display_data"
    }
   ],
   "source": [
    "#### Mass flow rate\n",
    "v[1] = r134a.v(T[1],p[1])\n",
    "mdot = Vdot[1]/v[1]\n",
    "\n",
    "#### 1st Law for compressor\n",
    "h[1] = r134a.h(T[1],p[1])\n",
    "h[2] = r134a.h(T[2],p[2])\n",
    "w_in = h[2]-h[1]\n",
    "Wdot_in = mdot*w_in\n",
    "\n",
    "Calculations();"
   ]
  },
  {
   "cell_type": "markdown",
   "metadata": {},
   "source": [
    "### (b) Heating Capacity"
   ]
  },
  {
   "cell_type": "code",
   "execution_count": 5,
   "metadata": {
    "collapsed": false,
    "jupyter": {
     "outputs_hidden": false
    }
   },
   "outputs": [
    {
     "data": {
      "text/markdown": [
       "### Heat output"
      ],
      "text/plain": [
       "<IPython.core.display.Markdown object>"
      ]
     },
     "metadata": {},
     "output_type": "display_data"
    },
    {
     "data": {
      "text/latex": [
       "\\[\n",
       "  \\begin{aligned}\n",
       "    { h_{3} }&={ \\mathrm{\\underset{r134a}{h}}\\left(p_{3} , x_{3}\\right) } = { 249.78\\ \\frac{\\mathrm{kJ}}{\\mathrm{kg}}  }\n",
       "  \\end{aligned}\n",
       "\\]\n"
      ],
      "text/plain": [
       "<IPython.core.display.Latex object>"
      ]
     },
     "metadata": {},
     "output_type": "display_data"
    },
    {
     "data": {
      "text/latex": [
       "\\[\n",
       "  \\begin{aligned}{ q_{out} }&={ h_{2} - h_{3} }\\\\\n",
       "    &={ \\left( 443.28\\ \\frac{\\mathrm{kJ}}{\\mathrm{kg}} \\right) - \\left( 249.78\\ \\frac{\\mathrm{kJ}}{\\mathrm{kg}} \\right) }\\\\\n",
       "    &={  193.5\\ \\frac{\\mathrm{kJ}}{\\mathrm{kg}}  }\n",
       "  \\end{aligned}\n",
       "\\]\n"
      ],
      "text/plain": [
       "<IPython.core.display.Latex object>"
      ]
     },
     "metadata": {},
     "output_type": "display_data"
    },
    {
     "data": {
      "text/latex": [
       "\\[\n",
       "  \\begin{aligned}{ \\dot{Q}_{out} }&={ \\dot{m} q_{out} }\\\\\n",
       "    &={ \\left( 0.11605\\ \\frac{\\mathrm{kg}}{\\mathrm{s}} \\right) \\left( 193.5\\ \\frac{\\mathrm{kJ}}{\\mathrm{kg}} \\right) }\\\\\n",
       "    &={  22.455\\ \\frac{\\mathrm{kJ}}{\\mathrm{s}}  }\n",
       "  \\end{aligned}\n",
       "\\]\n"
      ],
      "text/plain": [
       "<IPython.core.display.Latex object>"
      ]
     },
     "metadata": {},
     "output_type": "display_data"
    }
   ],
   "source": [
    "#### Heat output\n",
    "h[3] = r134a.h(p[3],x[3])\n",
    "q_out = h[2]-h[3]\n",
    "Qdot_out = mdot*q_out\n",
    "\n",
    "Calculations();"
   ]
  },
  {
   "cell_type": "markdown",
   "metadata": {},
   "source": [
    "### (c) $COP_{HP}$"
   ]
  },
  {
   "cell_type": "code",
   "execution_count": 6,
   "metadata": {
    "collapsed": false,
    "jupyter": {
     "outputs_hidden": false
    }
   },
   "outputs": [
    {
     "data": {
      "text/latex": [
       "\\[\n",
       "  \\begin{aligned}{ COP_{HP} }&={ \\frac{\\dot{Q}_{out}}{\\dot{W}_{in}} }\\\\\n",
       "    &={ \\frac{\\left( 22.455\\ \\frac{\\mathrm{kJ}}{\\mathrm{s}} \\right)}{\\left( 5.0091\\ \\frac{\\mathrm{kJ}}{\\mathrm{s}} \\right)} }\\\\\n",
       "    &={  4.4829\\  }\n",
       "  \\end{aligned}\n",
       "\\]\n"
      ],
      "text/plain": [
       "<IPython.core.display.Latex object>"
      ]
     },
     "metadata": {},
     "output_type": "display_data"
    }
   ],
   "source": [
    "COP_HP = Qdot_out/Wdot_in\n",
    "\n",
    "Calculations();"
   ]
  },
  {
   "cell_type": "markdown",
   "metadata": {},
   "source": [
    "### (d) Compressor isentropic efficiency"
   ]
  },
  {
   "cell_type": "code",
   "execution_count": 7,
   "metadata": {
    "collapsed": false,
    "jupyter": {
     "outputs_hidden": false
    }
   },
   "outputs": [
    {
     "data": {
      "text/markdown": [
       " Isentropic exit state"
      ],
      "text/plain": [
       "<IPython.core.display.Markdown object>"
      ]
     },
     "metadata": {},
     "output_type": "display_data"
    },
    {
     "data": {
      "text/latex": [
       "\\[\n",
       "  \\begin{aligned}\n",
       "    { s_{1} }&={ \\mathrm{\\underset{r134a}{s}}\\left(T_{1} , p_{1}\\right) } = { 1.7475\\ \\frac{\\mathrm{kJ}}{\\left(\\mathrm{K} \\cdot \\mathrm{kg}\\right)}  }\n",
       "  \\end{aligned}\n",
       "\\]\n"
      ],
      "text/plain": [
       "<IPython.core.display.Latex object>"
      ]
     },
     "metadata": {},
     "output_type": "display_data"
    },
    {
     "data": {
      "text/latex": [
       "\\[\n",
       "  \\begin{aligned}\n",
       "    { s_{2s} }&={ s_{1} } = { 1.7475\\ \\frac{\\mathrm{kJ}}{\\left(\\mathrm{K} \\cdot \\mathrm{kg}\\right)}  }\n",
       "  \\end{aligned}\n",
       "\\]\n"
      ],
      "text/plain": [
       "<IPython.core.display.Latex object>"
      ]
     },
     "metadata": {},
     "output_type": "display_data"
    },
    {
     "data": {
      "text/latex": [
       "\\[\n",
       "  \\begin{aligned}\n",
       "    { h_{2s} }&={ \\mathrm{\\underset{r134a}{h}}\\left(p_{2} , s_{1}\\right) } = { 428.39\\ \\frac{\\mathrm{kJ}}{\\mathrm{kg}}  }\n",
       "  \\end{aligned}\n",
       "\\]\n"
      ],
      "text/plain": [
       "<IPython.core.display.Latex object>"
      ]
     },
     "metadata": {},
     "output_type": "display_data"
    },
    {
     "data": {
      "text/markdown": [
       " Isentropic efficiency"
      ],
      "text/plain": [
       "<IPython.core.display.Markdown object>"
      ]
     },
     "metadata": {},
     "output_type": "display_data"
    },
    {
     "data": {
      "text/latex": [
       "\\[\n",
       "  \\begin{aligned}{ \\eta_{c} }&={ \\frac{h_{2s} - h_{1}}{h_{2} - h_{1}} }\\\\\n",
       "    &={ \\frac{\\left( 428.39\\ \\frac{\\mathrm{kJ}}{\\mathrm{kg}} \\right) - \\left( 400.11\\ \\frac{\\mathrm{kJ}}{\\mathrm{kg}} \\right)}{\\left( 443.28\\ \\frac{\\mathrm{kJ}}{\\mathrm{kg}} \\right) - \\left( 400.11\\ \\frac{\\mathrm{kJ}}{\\mathrm{kg}} \\right)} }\\\\\n",
       "    &={  0.65504\\  }\n",
       "  \\end{aligned}\n",
       "\\]\n"
      ],
      "text/plain": [
       "<IPython.core.display.Latex object>"
      ]
     },
     "metadata": {},
     "output_type": "display_data"
    }
   ],
   "source": [
    "# Isentropic exit state\n",
    "s[1] = r134a.s(T[1],p[1])\n",
    "s['2s'] = s[1]\n",
    "h['2s'] = r134a.h(p[2],s[1])\n",
    "\n",
    "# Isentropic efficiency\n",
    "eta_c = (h['2s']-h[1])/(h[2]-h[1])\n",
    "\n",
    "Calculations();"
   ]
  },
  {
   "cell_type": "markdown",
   "metadata": {},
   "source": [
    "### Diagrams"
   ]
  },
  {
   "cell_type": "code",
   "execution_count": 8,
   "metadata": {
    "collapsed": false,
    "jupyter": {
     "outputs_hidden": false
    }
   },
   "outputs": [
    {
     "data": {
      "text/html": [
       "<table border=\"1\" class=\"dataframe\">\n",
       "  <thead>\n",
       "    <tr>\n",
       "      <th></th>\n",
       "      <th>T</th>\n",
       "      <th>p</th>\n",
       "      <th>v</th>\n",
       "      <th>u</th>\n",
       "      <th>h</th>\n",
       "      <th>s</th>\n",
       "      <th>x</th>\n",
       "      <th>phase</th>\n",
       "      <th>Vdot</th>\n",
       "    </tr>\n",
       "    <tr>\n",
       "      <th>unit</th>\n",
       "      <th>°C</th>\n",
       "      <th>kPa</th>\n",
       "      <th>m³/kg</th>\n",
       "      <th>kJ/kg</th>\n",
       "      <th>kJ/kg</th>\n",
       "      <th>kJ/K/kg</th>\n",
       "      <th></th>\n",
       "      <th></th>\n",
       "      <th>m³/s</th>\n",
       "    </tr>\n",
       "  </thead>\n",
       "  <tbody>\n",
       "    <tr>\n",
       "      <th>1</th>\n",
       "      <td>0.000000</td>\n",
       "      <td>240.0</td>\n",
       "      <td>0.086170</td>\n",
       "      <td>379.432445</td>\n",
       "      <td>400.113255</td>\n",
       "      <td>1.747534</td>\n",
       "      <td>N/A</td>\n",
       "      <td>gas</td>\n",
       "      <td>0.01</td>\n",
       "    </tr>\n",
       "    <tr>\n",
       "      <th>2</th>\n",
       "      <td>60.000000</td>\n",
       "      <td>900.0</td>\n",
       "      <td>0.026146</td>\n",
       "      <td>419.745099</td>\n",
       "      <td>443.276423</td>\n",
       "      <td>1.793220</td>\n",
       "      <td>N/A</td>\n",
       "      <td>gas</td>\n",
       "      <td>-</td>\n",
       "    </tr>\n",
       "    <tr>\n",
       "      <th>2s</th>\n",
       "      <td>45.688005</td>\n",
       "      <td>900.0</td>\n",
       "      <td>0.024206</td>\n",
       "      <td>406.601832</td>\n",
       "      <td>428.386931</td>\n",
       "      <td>1.747534</td>\n",
       "      <td>N/A</td>\n",
       "      <td>gas</td>\n",
       "      <td>-</td>\n",
       "    </tr>\n",
       "    <tr>\n",
       "      <th>3</th>\n",
       "      <td>35.526110</td>\n",
       "      <td>900.0</td>\n",
       "      <td>0.000858</td>\n",
       "      <td>249.007500</td>\n",
       "      <td>249.779795</td>\n",
       "      <td>1.169479</td>\n",
       "      <td>0</td>\n",
       "      <td>twophase</td>\n",
       "      <td>-</td>\n",
       "    </tr>\n",
       "    <tr>\n",
       "      <th>4</th>\n",
       "      <td>-5.365325</td>\n",
       "      <td>240.0</td>\n",
       "      <td>0.024132</td>\n",
       "      <td>243.988164</td>\n",
       "      <td>249.779795</td>\n",
       "      <td>1.186310</td>\n",
       "      <td>0.281077</td>\n",
       "      <td>twophase</td>\n",
       "      <td>-</td>\n",
       "    </tr>\n",
       "  </tbody>\n",
       "</table>"
      ],
      "text/plain": [
       "<IPython.core.display.HTML object>"
      ]
     },
     "metadata": {},
     "output_type": "display_data"
    }
   ],
   "source": [
    "# Remaining properties\n",
    "h[4] = h[3]\n",
    "for i in [1,2,3,4,'2s']:\n",
    "    states.fix(i, r134a)\n",
    "states.display()"
   ]
  },
  {
   "cell_type": "code",
   "execution_count": 9,
   "metadata": {
    "collapsed": false,
    "jupyter": {
     "outputs_hidden": false
    }
   },
   "outputs": [
    {
     "data": {
      "image/png": "[encoded data removed]",
      "text/plain": [
       "<Figure size 1200x800 with 1 Axes>"
      ]
     },
     "metadata": {
      "needs_background": "light"
     },
     "output_type": "display_data"
    }
   ],
   "source": [
    "pv = r134a.pv_diagram()\n",
    "pv.ax.set_ylim(bottom=Quantity(100,'kPa'))\n",
    "\n",
    "pv.plot_state(states[1],label_loc='east')\n",
    "pv.plot_state(states[2],label_loc='north east')\n",
    "pv.plot_state(states[3],label_loc='north west')\n",
    "pv.plot_state(states[4],label_loc='south west')\n",
    "    \n",
    "pv.plot_process(states[1],states[2],path='isentropic', label='compressor')\n",
    "pv.plot_process(states[2],states[3],path='isobaric', label='condenser')\n",
    "pv.plot_process(states[3],states[4],path='isenthalpic', label='throttle')\n",
    "pv.plot_process(states[4],states[1],path='isobaric', label='evaporator',labelprops=dict(va='top'));"
   ]
  },
  {
   "cell_type": "code",
   "execution_count": 10,
   "metadata": {
    "collapsed": false,
    "jupyter": {
     "outputs_hidden": false
    }
   },
   "outputs": [
    {
     "data": {
      "image/png": "[encoded data removed]",
      "text/plain": [
       "<Figure size 1200x800 with 1 Axes>"
      ]
     },
     "metadata": {
      "needs_background": "light"
     },
     "output_type": "display_data"
    }
   ],
   "source": [
    "Ts = r134a.Ts_diagram()\n",
    "Ts.ax.set_ylim(bottom=-25,top=75)\n",
    "Ts.ax.set_xlim(left=1, right=1.9)\n",
    "\n",
    "Ts.plot_state(states[1],label_loc='south east')\n",
    "Ts.plot_state(states[2],label_loc='north east')\n",
    "Ts.plot_state(states[3],label_loc='north west')\n",
    "Ts.plot_state(states[4],label_loc='south west')\n",
    "    \n",
    "Ts.plot_process(states[1],states[2],path='nonideal',label='compressor',labelprops=dict(va='top'))\n",
    "Ts.plot_process(states[1],states['2s'],path='isentropic',linestyle='dashed')\n",
    "Ts.plot_process(states[2],states[3],path='isobaric',label='condenser')\n",
    "Ts.plot_process(states[3],states[4],path='isenthalpic',label='throttle',labelprops=dict(va='top'))\n",
    "Ts.plot_process(states[4],states[1],path='isobaric',label='evaporator',labelprops=dict(va='top'));"
   ]
  },
  {
   "cell_type": "code",
   "execution_count": null,
   "metadata": {
    "collapsed": false,
    "jupyter": {
     "outputs_hidden": false
    }
   },
   "outputs": [],
   "source": []
  }
 ],
 "metadata": {
  "kernelspec": {
   "display_name": "Python 3",
   "language": "python",
   "name": "python3"
  },
  "language_info": {
   "codemirror_mode": {
    "name": "ipython",
    "version": 3
   },
   "file_extension": ".py",
   "mimetype": "text/x-python",
   "name": "python",
   "nbconvert_exporter": "python",
   "pygments_lexer": "ipython3",
   "version": "3.8.5"
  }
 },
 "nbformat": 4,
 "nbformat_minor": 4
}
