{
 "cells": [
  {
   "cell_type": "markdown",
   "metadata": {},
   "source": [
    "# Example 14.1: Relative Humidity\n",
    "\n",
    "*John F. Maddox, Ph.D., P.E.<br>\n",
    "University of Kentucky - Paducah Campus<br>\n",
    "ME 321: Engineering Thermodynamics II<br>*"
   ]
  },
  {
   "cell_type": "markdown",
   "metadata": {},
   "source": [
    "## Problem Statement\n",
    "For air at $25^\\circ\\mathrm{C}$ and 1 atm, determine the specific humidity and relative humidity for air that has:\n",
    "\\begin{equation}\n",
    "m_a=1\\ \\mathrm{kg}\\qquad \\mathrm{and}\\qquad m_v=0.01\\ \\mathrm{kg}\n",
    "\\end{equation}"
   ]
  },
  {
   "cell_type": "markdown",
   "metadata": {},
   "source": [
    "## Solution\n",
    "\n",
    "__[Video Explanation](https://uky.yuja.com/V/Video?v=3074209&node=10465110&a=951748481&autoplay=1)__"
   ]
  },
  {
   "cell_type": "markdown",
   "metadata": {},
   "source": [
    "### Python Initialization\n",
    "We'll start by importing the libraries we will use for our analysis and initializing dictionaries to hold the properties we will be usings."
   ]
  },
  {
   "cell_type": "code",
   "execution_count": 1,
   "metadata": {
    "collapsed": false,
    "jupyter": {
     "outputs_hidden": false
    }
   },
   "outputs": [],
   "source": [
    "from kilojoule.templates.default import *\n",
    "water = realfluid.Properties('Water')\n",
    "air = realfluid.Properties('Air')"
   ]
  },
  {
   "cell_type": "markdown",
   "metadata": {},
   "source": [
    "### Given"
   ]
  },
  {
   "cell_type": "code",
   "execution_count": 2,
   "metadata": {},
   "outputs": [],
   "source": [
    "p = Quantity(1,'atm')\n",
    "T = Quantity(25,'degC')\n",
    "m_a = Quantity(1,'kg_dry_air')\n",
    "m_v = Quantity(0.01,'kg_water')"
   ]
  },
  {
   "cell_type": "markdown",
   "metadata": {},
   "source": [
    "#### Saturated Air Calculations"
   ]
  },
  {
   "cell_type": "code",
   "execution_count": 3,
   "metadata": {},
   "outputs": [
    {
     "output_type": "display_data",
     "data": {
      "text/plain": "<IPython.core.display.Markdown object>",
      "text/markdown": " Vapor pressure for saturated conditions"
     },
     "metadata": {}
    },
    {
     "output_type": "display_data",
     "data": {
      "text/plain": "<IPython.core.display.Latex object>",
      "text/latex": "\\begin{aligned}\n  p_{g} &=  \\mathrm{ \\underset{ water }{ p } }\\left( \\mathrm{ T } = T, \\mathrm{ x } = 1 \\right)  = \\mathrm{ \\underset{ water }{ p } }\\left( \\mathrm{ T } = 25\\ \\mathrm{°C}, \\mathrm{ x } = 1 \\right) = 3.1699\\ \\mathrm{kPa}\n\\end{aligned}\n"
     },
     "metadata": {}
    },
    {
     "output_type": "display_data",
     "data": {
      "text/plain": "<IPython.core.display.Markdown object>",
      "text/markdown": " Maximum specific humidity (@ 100% relative humidity)"
     },
     "metadata": {}
    },
    {
     "output_type": "display_data",
     "data": {
      "text/plain": "<IPython.core.display.Latex object>",
      "text/latex": "\\begin{aligned}\n  \\omega_{max} &=  \\frac{  0.622  \\cdot  p_{g}  }{  p - p_{g}  } \\\\\n    &= \\frac{  0.622  \\cdot  3.1699\\ \\mathrm{kPa}  }{  1\\ \\mathrm{atm} - 3.1699\\ \\mathrm{kPa}  }\\\\\n    &= 0.020088\\ \\frac{\\mathrm{kg\\_water}}{\\mathrm{kg\\_a}}\n\\end{aligned}\n"
     },
     "metadata": {}
    },
    {
     "output_type": "display_data",
     "data": {
      "text/plain": "<IPython.core.display.Markdown object>",
      "text/markdown": " Maximum mass of water vapor"
     },
     "metadata": {}
    },
    {
     "output_type": "display_data",
     "data": {
      "text/plain": "<IPython.core.display.Latex object>",
      "text/latex": "\\begin{aligned}\n  m_{g} &=   m_{a}  \\cdot  \\omega_{max}  \\\\\n    &=  1\\ \\mathrm{kg\\_a}  \\cdot  0.020088\\ \\frac{\\mathrm{kg\\_water}}{\\mathrm{kg\\_a}} \\\\\n    &= 0.020088\\ \\mathrm{kg\\_water}\n\\end{aligned}\n"
     },
     "metadata": {}
    }
   ],
   "source": [
    "%%showcalc\n",
    "# Vapor pressure for saturated conditions\n",
    "p_g = water.p(T=T,x=1)\n",
    "\n",
    "# Maximum specific humidity (@ 100% relative humidity)\n",
    "omega_max = (0.622*p_g)/(p-p_g)\n",
    "omega_max = Quantity(omega_max.to('').magnitude,'kg_water/kg_dry_air') # hide\n",
    "\n",
    "# Maximum mass of water vapor\n",
    "m_g = m_a*omega_max"
   ]
  },
  {
   "cell_type": "markdown",
   "metadata": {},
   "source": [
    "### Relative Humidity"
   ]
  },
  {
   "cell_type": "code",
   "execution_count": 4,
   "metadata": {},
   "outputs": [
    {
     "output_type": "display_data",
     "data": {
      "text/plain": "<IPython.core.display.Latex object>",
      "text/latex": "\\begin{aligned}\n  \\phi &=  \\frac{ m_{v} }{ m_{g} } \\\\\n    &= \\frac{ 0.01\\ \\mathrm{kg\\_water} }{ 0.020088\\ \\mathrm{kg\\_water} }\\\\\n    &= 0.49782\\\n\\end{aligned}\n"
     },
     "metadata": {}
    }
   ],
   "source": [
    "%%showcalc\n",
    "phi = m_v/m_g"
   ]
  }
 ],
 "metadata": {
  "kernelspec": {
   "display_name": "Python 3",
   "language": "python",
   "name": "python3"
  }
 },
 "nbformat": 4,
 "nbformat_minor": 4
}