{
 "cells": [
  {
   "cell_type": "markdown",
   "metadata": {},
   "source": [
    "# Example 14.2: Sling Psychrometer\n",
    "\n",
    "*John F. Maddox, Ph.D., P.E.<br>\n",
    "University of Kentucky - Paducah Campus<br>\n",
    "ME 321: Engineering Thermodynamics II<br>*"
   ]
  },
  {
   "cell_type": "markdown",
   "metadata": {},
   "source": [
    "## Problem Statement\n",
    "Using the equations for adiabatic saturation temperature determine the specific humidity, $\\omega$, relative humidity, $\\phi$, and specific enthalpy, $h$, for atmospheric air with $T_{db}=20^\\circ\\mathrm{C}$ and $T_{wb}=15^\\circ\\mathrm{C}$\n"
   ]
  },
  {
   "cell_type": "markdown",
   "metadata": {},
   "source": [
    "## Solution\n",
    "\n",
    "__[Video Explanation](https://uky.yuja.com/V/Video?v=3074211&node=10465112&a=1512114253&autoplay=1)__"
   ]
  },
  {
   "cell_type": "markdown",
   "metadata": {},
   "source": [
    "### Python Initialization\n",
    "We'll start by importing the libraries we will use for our analysis and initializing dictionaries to hold the properties we will be usings."
   ]
  },
  {
   "cell_type": "code",
   "execution_count": 1,
   "metadata": {
    "collapsed": false,
    "jupyter": {
     "outputs_hidden": false
    }
   },
   "outputs": [],
   "source": [
    "from kilojoule.templates.default import *\n",
    "water = realfluid.Properties('Water')\n",
    "air = realfluid.Properties('Air')"
   ]
  },
  {
   "cell_type": "markdown",
   "metadata": {},
   "source": [
    "### Given"
   ]
  },
  {
   "cell_type": "code",
   "execution_count": 2,
   "metadata": {},
   "outputs": [],
   "source": [
    "p = Quantity(1,'atm')\n",
    "T_db = Quantity(20,'degC')\n",
    "T_wb = Quantity(15,'degC')"
   ]
  },
  {
   "cell_type": "markdown",
   "metadata": {},
   "source": [
    "#### Properties"
   ]
  },
  {
   "cell_type": "code",
   "execution_count": 3,
   "metadata": {},
   "outputs": [
    {
     "output_type": "display_data",
     "data": {
      "text/plain": "<IPython.core.display.Markdown object>",
      "text/markdown": " Water Properties"
     },
     "metadata": {}
    },
    {
     "output_type": "display_data",
     "data": {
      "text/plain": "<IPython.core.display.Markdown object>",
      "text/markdown": " Saturated vapor pressure at wet bulb temperature"
     },
     "metadata": {}
    },
    {
     "output_type": "display_data",
     "data": {
      "text/plain": "<IPython.core.display.Latex object>",
      "text/latex": "\\begin{aligned}\n  p_{g,wb} &=  \\mathrm{ \\underset{ water }{ p } }\\left( \\mathrm{ T } = T_{wb}, \\mathrm{ x } = 1 \\right)  = \\mathrm{ \\underset{ water }{ p } }\\left( \\mathrm{ T } = 15\\ \\mathrm{°C}, \\mathrm{ x } = 1 \\right) = 1.7058\\ \\mathrm{kPa}\n\\end{aligned}\n"
     },
     "metadata": {}
    },
    {
     "output_type": "display_data",
     "data": {
      "text/plain": "<IPython.core.display.Markdown object>",
      "text/markdown": " Saturated vapor pressure at dry bulb temperature"
     },
     "metadata": {}
    },
    {
     "output_type": "display_data",
     "data": {
      "text/plain": "<IPython.core.display.Latex object>",
      "text/latex": "\\begin{aligned}\n  p_{g,db} &=  \\mathrm{ \\underset{ water }{ p } }\\left( \\mathrm{ T } = T_{db}, \\mathrm{ x } = 1 \\right)  = \\mathrm{ \\underset{ water }{ p } }\\left( \\mathrm{ T } = 20\\ \\mathrm{°C}, \\mathrm{ x } = 1 \\right) = 2.3393\\ \\mathrm{kPa}\n\\end{aligned}\n"
     },
     "metadata": {}
    },
    {
     "output_type": "display_data",
     "data": {
      "text/plain": "<IPython.core.display.Markdown object>",
      "text/markdown": " Enthalpy of vaporization at wet bulb temperature"
     },
     "metadata": {}
    },
    {
     "output_type": "display_data",
     "data": {
      "text/plain": "<IPython.core.display.Latex object>",
      "text/latex": "\\begin{aligned}\n  h_{fg,wb} &=   \\mathrm{ \\underset{ water }{ h } }\\left( \\mathrm{ T } = T_{wb}, \\mathrm{ x } = 1 \\right) - \\mathrm{ \\underset{ water }{ h } }\\left( \\mathrm{ T } = T_{wb}, \\mathrm{ x } = 0 \\right)  \\\\\n    &=  \\mathrm{ \\underset{ water }{ h } }\\left( \\mathrm{ T } = 15\\ \\mathrm{°C}, \\mathrm{ x } = 1 \\right) - \\mathrm{ \\underset{ water }{ h } }\\left( \\mathrm{ T } = 15\\ \\mathrm{°C}, \\mathrm{ x } = 0 \\right) \\\\\n    &= 2465.4\\ \\frac{\\mathrm{kJ}}{\\mathrm{kg}}\n\\end{aligned}\n"
     },
     "metadata": {}
    },
    {
     "output_type": "display_data",
     "data": {
      "text/plain": "<IPython.core.display.Markdown object>",
      "text/markdown": " Enthalpy of saturated vapor at dry bulb temperature"
     },
     "metadata": {}
    },
    {
     "output_type": "display_data",
     "data": {
      "text/plain": "<IPython.core.display.Latex object>",
      "text/latex": "\\begin{aligned}\n  h_{g,db} &=  \\mathrm{ \\underset{ water }{ h } }\\left( \\mathrm{ T } = T_{db}, \\mathrm{ x } = 1 \\right)  = \\mathrm{ \\underset{ water }{ h } }\\left( \\mathrm{ T } = 20\\ \\mathrm{°C}, \\mathrm{ x } = 1 \\right) = 2537.4\\ \\frac{\\mathrm{kJ}}{\\mathrm{kg}}\n\\end{aligned}\n"
     },
     "metadata": {}
    },
    {
     "output_type": "display_data",
     "data": {
      "text/plain": "<IPython.core.display.Markdown object>",
      "text/markdown": " Enthalpy of saturated liquid at wet bulb temperature"
     },
     "metadata": {}
    },
    {
     "output_type": "display_data",
     "data": {
      "text/plain": "<IPython.core.display.Latex object>",
      "text/latex": "\\begin{aligned}\n  h_{f,wb} &=  \\mathrm{ \\underset{ water }{ h } }\\left( \\mathrm{ T } = T_{wb}, \\mathrm{ x } = 0 \\right)  = \\mathrm{ \\underset{ water }{ h } }\\left( \\mathrm{ T } = 15\\ \\mathrm{°C}, \\mathrm{ x } = 0 \\right) = 62.981\\ \\frac{\\mathrm{kJ}}{\\mathrm{kg}}\n\\end{aligned}\n"
     },
     "metadata": {}
    },
    {
     "output_type": "display_data",
     "data": {
      "text/plain": "<IPython.core.display.Markdown object>",
      "text/markdown": " Dry Air Properties"
     },
     "metadata": {}
    },
    {
     "output_type": "display_data",
     "data": {
      "text/plain": "<IPython.core.display.Latex object>",
      "text/latex": "\\begin{aligned}\n  c_{p} &=  \\mathrm{ \\underset{ air }{ cp } }\\left( \\mathrm{ T } = T_{db}, \\mathrm{ p } = p \\right)  = \\mathrm{ \\underset{ air }{ cp } }\\left( \\mathrm{ T } = 20\\ \\mathrm{°C}, \\mathrm{ p } = 1\\ \\mathrm{atm} \\right) = 1.0061\\ \\frac{\\mathrm{kJ}}{\\left(\\mathrm{kg} \\cdot \\mathrm{Δ°C}\\right)}\n\\end{aligned}\n"
     },
     "metadata": {}
    }
   ],
   "source": [
    "%%showcalc\n",
    "# Water Properties\n",
    "# Saturated vapor pressure at wet bulb temperature\n",
    "p_g_wb = water.p(T=T_wb,x=1)\n",
    "# Saturated vapor pressure at dry bulb temperature\n",
    "p_g_db = water.p(T=T_db,x=1)\n",
    "\n",
    "# Enthalpy of vaporization at wet bulb temperature\n",
    "h_fg_wb = water.h(T=T_wb,x=1) - water.h(T=T_wb,x=0)\n",
    "# Enthalpy of saturated vapor at dry bulb temperature\n",
    "h_g_db = water.h(T=T_db,x=1)\n",
    "# Enthalpy of saturated liquid at wet bulb temperature\n",
    "h_f_wb = water.h(T=T_wb,x=0)\n",
    "\n",
    "# Dry Air Properties\n",
    "c_p = air.cp(T=T_db,p=p)"
   ]
  },
  {
   "cell_type": "markdown",
   "metadata": {},
   "source": [
    "### Wet Bulb Specific Humidity (Saturated)"
   ]
  },
  {
   "cell_type": "code",
   "execution_count": 4,
   "metadata": {},
   "outputs": [
    {
     "output_type": "display_data",
     "data": {
      "text/plain": "<IPython.core.display.Latex object>",
      "text/latex": "\\begin{aligned}\n  \\omega_{wb} &=  \\frac{  0.622  \\cdot  p_{g,wb}  }{  p - p_{g,wb}  } \\\\\n    &= \\frac{  0.622  \\cdot  1.7058\\ \\mathrm{kPa}  }{  1\\ \\mathrm{atm} - 1.7058\\ \\mathrm{kPa}  }\\\\\n    &= 0.010651\\\n\\end{aligned}\n"
     },
     "metadata": {}
    },
    {
     "output_type": "display_data",
     "data": {
      "text/plain": "<IPython.core.display.Latex object>",
      "text/latex": "\\begin{aligned}\n  \\omega_{wb} &=  \\omega_{wb}  = 0.010651\\ \n\\end{aligned}\n"
     },
     "metadata": {}
    }
   ],
   "source": [
    "%%showcalc\n",
    "omega_wb = (0.622*p_g_wb)/(p-p_g_wb)\n",
    "omega_wb = omega_wb.to('')"
   ]
  },
  {
   "cell_type": "markdown",
   "metadata": {},
   "source": [
    "### Dry Bulb Specific Humidity"
   ]
  },
  {
   "cell_type": "code",
   "execution_count": 5,
   "metadata": {},
   "outputs": [
    {
     "output_type": "display_data",
     "data": {
      "text/plain": "<IPython.core.display.Latex object>",
      "text/latex": "\\begin{aligned}\n  \\omega &=  \\frac{  c_{p}  \\cdot  \\left(  T_{wb} - T_{db}  \\right)  +  \\omega_{wb}  \\cdot  h_{fg,wb}  }{  h_{g,db} - h_{f,wb}  } \\\\\n    &= \\frac{  1.0061\\ \\frac{\\mathrm{kJ}}{\\left(\\mathrm{kg} \\cdot \\mathrm{Δ°C}\\right)}  \\cdot  \\left(  15\\ \\mathrm{°C} - 20\\ \\mathrm{°C}  \\right)  +  0.010651\\  \\cdot  2465.4\\ \\frac{\\mathrm{kJ}}{\\mathrm{kg}}  }{  2537.4\\ \\frac{\\mathrm{kJ}}{\\mathrm{kg}} - 62.981\\ \\frac{\\mathrm{kJ}}{\\mathrm{kg}}  }\\\\\n    &= 0.0085784\\\n\\end{aligned}\n"
     },
     "metadata": {}
    }
   ],
   "source": [
    "%%showcalc\n",
    "omega = ( c_p*(T_wb-T_db) + omega_wb*h_fg_wb )/( h_g_db-h_f_wb )"
   ]
  },
  {
   "cell_type": "markdown",
   "metadata": {},
   "source": [
    "### Dry Bulb Specific Humidity"
   ]
  },
  {
   "cell_type": "code",
   "execution_count": 6,
   "metadata": {},
   "outputs": [
    {
     "output_type": "display_data",
     "data": {
      "text/plain": "<IPython.core.display.Latex object>",
      "text/latex": "\\begin{aligned}\n  \\phi &=  \\frac{  \\omega  \\cdot  p  }{  \\left( 0.622 + \\omega \\right)  \\cdot  p_{g,db}  } \\\\\n    &= \\frac{  0.0085784\\  \\cdot  1\\ \\mathrm{atm}  }{  \\left( 0.622 + 0.0085784\\ \\right)  \\cdot  2.3393\\ \\mathrm{kPa}  }\\\\\n    &= 0.58924\\\n\\end{aligned}\n"
     },
     "metadata": {}
    }
   ],
   "source": [
    "%%showcalc\n",
    "phi = omega*p/((0.622+omega)*p_g_db)\n",
    "phi.ito('')"
   ]
  },
  {
   "cell_type": "markdown",
   "metadata": {},
   "source": [
    "### Dry Bulb Enthalpy"
   ]
  },
  {
   "cell_type": "code",
   "execution_count": 7,
   "metadata": {},
   "outputs": [
    {
     "output_type": "display_data",
     "data": {
      "text/plain": "<IPython.core.display.Latex object>",
      "text/latex": "\\begin{aligned}\n  T_{db,C} &=  20\\ \\mathrm{Δ°C} \n\\end{aligned}\n"
     },
     "metadata": {}
    },
    {
     "output_type": "display_data",
     "data": {
      "text/plain": "<IPython.core.display.Latex object>",
      "text/latex": "\\begin{aligned}\n  h &=   c_{p}  \\cdot  T_{db,C}  +  \\omega  \\cdot  h_{g,db}  \\\\\n    &=  1.0061\\ \\frac{\\mathrm{kJ}}{\\left(\\mathrm{kg} \\cdot \\mathrm{Δ°C}\\right)}  \\cdot  20\\ \\mathrm{Δ°C}  +  0.0085784\\  \\cdot  2537.4\\ \\frac{\\mathrm{kJ}}{\\mathrm{kg}} \\\\\n    &= 41.89\\ \\frac{\\mathrm{kJ}}{\\mathrm{kg}}\n\\end{aligned}\n"
     },
     "metadata": {}
    }
   ],
   "source": [
    "%%showcalc\n",
    "T_db_C = Quantity(T_db.magnitude,'delta_degC')\n",
    "h = c_p*T_db_C + omega*h_g_db"
   ]
  }
 ],
 "metadata": {
  "kernelspec": {
   "display_name": "Python 3",
   "language": "python",
   "name": "python3"
  }
 },
 "nbformat": 4,
 "nbformat_minor": 4
}