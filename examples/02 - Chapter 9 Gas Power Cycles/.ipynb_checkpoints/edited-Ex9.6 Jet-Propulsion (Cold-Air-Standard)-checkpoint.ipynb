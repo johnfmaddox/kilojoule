{
 "cells": [
  {
   "cell_type": "markdown",
   "metadata": {},
   "source": [
    "# Example 9.6: Jet Propulsion (Cold-Air-Standard)\n",
    "\n",
    "*John F. Maddox, Ph.D., P.E.<br>\n",
    "University of Kentucky - Paducah Campus<br>\n",
    "ME 321: Engineering Thermodynamics II<br>*"
   ]
  },
  {
   "cell_type": "markdown",
   "metadata": {},
   "source": [
    "## Problem Statement\n",
    "\n"
   ]
  },
  {
   "cell_type": "markdown",
   "metadata": {},
   "source": [
    "## Solution\n"
   ]
  },
  {
   "cell_type": "markdown",
   "metadata": {},
   "source": [
    "### Python Initialization\n",
    "We'll start by importing the libraries we will use for our analysis and initializing dictionaries to hold the properties we will be usings."
   ]
  },
  {
   "cell_type": "code",
   "execution_count": 1,
   "metadata": {
    "collapsed": false,
    "jupyter": {
     "outputs_hidden": false
    }
   },
   "outputs": [],
   "source": [
    "from kilojoule.templates.kSI import *\n",
    "   \n",
    "air = idealgas.Properties('Air')"
   ]
  },
  {
   "cell_type": "markdown",
   "metadata": {},
   "source": [
    "### Given Parameters\n",
    "We now define variables to hold our known values."
   ]
  },
  {
   "cell_type": "code",
   "execution_count": 2,
   "metadata": {
    "collapsed": false,
    "jupyter": {
     "outputs_hidden": false
    }
   },
   "outputs": [
    {
     "data": {
      "text/latex": [
       "\\[\\begin{aligned}{ \\dot{m} }&={  50\\ \\frac{\\mathrm{kg}}{\\mathrm{s}}  }&{ r_{p} }&={  10\\  }&{  }\\end{aligned}\\]"
      ],
      "text/plain": [
       "<IPython.core.display.Latex object>"
      ]
     },
     "metadata": {},
     "output_type": "display_data"
    },
    {
     "data": {
      "text/html": [
       "<table border=\"1\" class=\"dataframe\">\n",
       "  <thead>\n",
       "    <tr>\n",
       "      <th></th>\n",
       "      <th>T</th>\n",
       "      <th>p</th>\n",
       "      <th>Vel</th>\n",
       "    </tr>\n",
       "    <tr>\n",
       "      <th>unit</th>\n",
       "      <th>K</th>\n",
       "      <th>kPa</th>\n",
       "      <th>m/s</th>\n",
       "    </tr>\n",
       "  </thead>\n",
       "  <tbody>\n",
       "    <tr>\n",
       "      <th>1</th>\n",
       "      <td>233.15</td>\n",
       "      <td>35</td>\n",
       "      <td>250</td>\n",
       "    </tr>\n",
       "    <tr>\n",
       "      <th>4</th>\n",
       "      <td>1273.15</td>\n",
       "      <td>-</td>\n",
       "      <td>-</td>\n",
       "    </tr>\n",
       "  </tbody>\n",
       "</table>"
      ],
      "text/plain": [
       "<IPython.core.display.HTML object>"
      ]
     },
     "metadata": {},
     "output_type": "display_data"
    }
   ],
   "source": [
    "T[1] = Quantity(-40,'degC')   # Inlet Temperature\n",
    "p[1] = Quantity(35,'kPa')     # Compressor Inlet pressure\n",
    "r_p = Quantity(10,' ')        # Pressure ratio\n",
    "T[4] = Quantity(1000,'degC')  # Turbine inlet temperature\n",
    "mdot = Quantity(50,'kg/s')    # mass flow rate\n",
    "V=Vel\n",
    "V[1] = Quantity(250,'m/s')    # Velocity\n",
    "\n",
    "Summary();"
   ]
  },
  {
   "cell_type": "markdown",
   "metadata": {},
   "source": [
    "### Assumptions\n",
    "- Cold-air-standard Analysis\n",
    "  - Ideal gas\n",
    "  - Constant specific heat (evaluated at $25^\\circ\\text{C}$)\n",
    "- Isobaric heat exchagners: Combustors\n",
    "- Negligible changes in kinetic energy\n",
    "- Negligible changes in potential energy"
   ]
  },
  {
   "cell_type": "code",
   "execution_count": 3,
   "metadata": {
    "collapsed": false,
    "jupyter": {
     "outputs_hidden": false
    }
   },
   "outputs": [
    {
     "data": {
      "text/latex": [
       "\\[\\begin{aligned}{ R }&={  0.28705\\ \\frac{\\mathrm{kJ}}{\\left(\\mathrm{K} \\cdot \\mathrm{kg}\\right)}  }&{ T_{room} }&={  25\\ \\mathrm{°C}  }&{ c_{p} }&={  1.0047\\ \\frac{\\mathrm{kJ}}{\\left(\\mathrm{K} \\cdot \\mathrm{kg}\\right)}  }\\\\{ c_{v} }&={  0.71768\\ \\frac{\\mathrm{kJ}}{\\left(\\mathrm{K} \\cdot \\mathrm{kg}\\right)}  }&{ k }&={  1.4\\  }&{ \\dot{m} }&={  50\\ \\frac{\\mathrm{kg}}{\\mathrm{s}}  }\\\\{ r_{p} }&={  10\\  }&{  }\\end{aligned}\\]"
      ],
      "text/plain": [
       "<IPython.core.display.Latex object>"
      ]
     },
     "metadata": {},
     "output_type": "display_data"
    },
    {
     "data": {
      "text/html": [
       "<table border=\"1\" class=\"dataframe\">\n",
       "  <thead>\n",
       "    <tr>\n",
       "      <th></th>\n",
       "      <th>T</th>\n",
       "      <th>p</th>\n",
       "      <th>Vel</th>\n",
       "    </tr>\n",
       "    <tr>\n",
       "      <th>unit</th>\n",
       "      <th>K</th>\n",
       "      <th>kPa</th>\n",
       "      <th>m/s</th>\n",
       "    </tr>\n",
       "  </thead>\n",
       "  <tbody>\n",
       "    <tr>\n",
       "      <th>1</th>\n",
       "      <td>233.15</td>\n",
       "      <td>35</td>\n",
       "      <td>250</td>\n",
       "    </tr>\n",
       "    <tr>\n",
       "      <th>4</th>\n",
       "      <td>1273.15</td>\n",
       "      <td>-</td>\n",
       "      <td>-</td>\n",
       "    </tr>\n",
       "  </tbody>\n",
       "</table>"
      ],
      "text/plain": [
       "<IPython.core.display.HTML object>"
      ]
     },
     "metadata": {},
     "output_type": "display_data"
    }
   ],
   "source": [
    "# Ideal Gas\n",
    "R = air.R\n",
    "\n",
    "# Constant thermal properties evaluated at room temperature\n",
    "T_room = Quantity(25,'degC')\n",
    "c_v = air.Cv(T=T_room)\n",
    "c_p = air.Cp(T=T_room)\n",
    "k = air.k(T=T_room)\n",
    "\n",
    "Summary();"
   ]
  },
  {
   "cell_type": "markdown",
   "metadata": {},
   "source": [
    "#### (a) $w_{net}$"
   ]
  },
  {
   "cell_type": "code",
   "execution_count": 4,
   "metadata": {
    "collapsed": false,
    "jupyter": {
     "outputs_hidden": false
    }
   },
   "outputs": [
    {
     "data": {
      "text/markdown": [
       "### 1$\\to$2) Diffuser "
      ],
      "text/plain": [
       "<IPython.core.display.Markdown object>"
      ]
     },
     "metadata": {},
     "output_type": "display_data"
    },
    {
     "data": {
      "text/latex": [
       "\\[\n",
       "  \\begin{aligned}{ T_{2} }&={ T_{1} + \\frac{V_{1}^{2}}{2 c_{p}} }\\\\\n",
       "    &={ \\left( 233.15\\ \\mathrm{K} \\right) + \\frac{\\left( 250\\ \\frac{\\mathrm{m}}{\\mathrm{s}} \\right)^{ 2 }}{ 2  \\left( 1.0047\\ \\frac{\\mathrm{kJ}}{\\left(\\mathrm{K} \\cdot \\mathrm{kg}\\right)} \\right)} }\\\\\n",
       "    &={  264.25\\ \\mathrm{K}  }\n",
       "  \\end{aligned}\n",
       "\\]\n"
      ],
      "text/plain": [
       "<IPython.core.display.Latex object>"
      ]
     },
     "metadata": {},
     "output_type": "display_data"
    },
    {
     "data": {
      "text/latex": [
       "\\[\n",
       "  \\begin{aligned}{ p_{2} }&={ p_{1} \\left(\\frac{T_{2}}{T_{1}}\\right)^{\\frac{k}{k - 1}} }\\\\\n",
       "    &={ \\left( 35\\ \\mathrm{kPa} \\right) \\left(\\frac{\\left( 264.25\\ \\mathrm{K} \\right)}{\\left( 233.15\\ \\mathrm{K} \\right)}\\right)^{\\frac{\\left( 1.4\\ \\right)}{\\left( 1.4\\ \\right) -  1 }} }\\\\\n",
       "    &={  54.253\\ \\mathrm{kPa}  }\n",
       "  \\end{aligned}\n",
       "\\]\n"
      ],
      "text/plain": [
       "<IPython.core.display.Latex object>"
      ]
     },
     "metadata": {},
     "output_type": "display_data"
    },
    {
     "data": {
      "text/markdown": [
       "### $2\\to3$) Isentropic compression"
      ],
      "text/plain": [
       "<IPython.core.display.Markdown object>"
      ]
     },
     "metadata": {},
     "output_type": "display_data"
    },
    {
     "data": {
      "text/latex": [
       "\\[\n",
       "  \\begin{aligned}{ p_{3} }&={ p_{2} r_{p} }\\\\\n",
       "    &={ \\left( 54.253\\ \\mathrm{kPa} \\right) \\left( 10\\ \\right) }\\\\\n",
       "    &={  542.53\\ \\mathrm{kPa}  }\n",
       "  \\end{aligned}\n",
       "\\]\n"
      ],
      "text/plain": [
       "<IPython.core.display.Latex object>"
      ]
     },
     "metadata": {},
     "output_type": "display_data"
    },
    {
     "data": {
      "text/latex": [
       "\\[\n",
       "  \\begin{aligned}{ T_{3} }&={ T_{2} \\left(\\frac{p_{3}}{p_{2}}\\right)^{\\frac{k - 1}{k}} }\\\\\n",
       "    &={ \\left( 264.25\\ \\mathrm{K} \\right) \\left(\\frac{\\left( 542.53\\ \\mathrm{kPa} \\right)}{\\left( 54.253\\ \\mathrm{kPa} \\right)}\\right)^{\\frac{\\left( 1.4\\ \\right) -  1 }{\\left( 1.4\\ \\right)}} }\\\\\n",
       "    &={  510.18\\ \\mathrm{K}  }\n",
       "  \\end{aligned}\n",
       "\\]\n"
      ],
      "text/plain": [
       "<IPython.core.display.Latex object>"
      ]
     },
     "metadata": {},
     "output_type": "display_data"
    },
    {
     "data": {
      "text/latex": [
       "\\[\n",
       "  \\begin{aligned}{ \\dot{W}_{2\\to{}3} }&={ \\dot{m} c_{p} \\left(T_{2} - T_{3}\\right) }\\\\\n",
       "    &={ \\left( 50\\ \\frac{\\mathrm{kg}}{\\mathrm{s}} \\right) \\left( 1.0047\\ \\frac{\\mathrm{kJ}}{\\left(\\mathrm{K} \\cdot \\mathrm{kg}\\right)} \\right) \\left(\\left( 264.25\\ \\mathrm{K} \\right) - \\left( 510.18\\ \\mathrm{K} \\right)\\right) }\\\\\n",
       "    &={  -1.2354\\times 10^{4}\\ \\frac{\\mathrm{kJ}}{\\mathrm{s}}  }\n",
       "  \\end{aligned}\n",
       "\\]\n"
      ],
      "text/plain": [
       "<IPython.core.display.Latex object>"
      ]
     },
     "metadata": {},
     "output_type": "display_data"
    },
    {
     "data": {
      "text/markdown": [
       "### $3\\to4$) Combustion"
      ],
      "text/plain": [
       "<IPython.core.display.Markdown object>"
      ]
     },
     "metadata": {},
     "output_type": "display_data"
    },
    {
     "data": {
      "text/latex": [
       "\\[\n",
       "  \\begin{aligned}\n",
       "    { p_{4} }&={ p_{3} } = { 542.53\\ \\mathrm{kPa}  }\n",
       "  \\end{aligned}\n",
       "\\]\n"
      ],
      "text/plain": [
       "<IPython.core.display.Latex object>"
      ]
     },
     "metadata": {},
     "output_type": "display_data"
    },
    {
     "data": {
      "text/latex": [
       "\\[\n",
       "  \\begin{aligned}{ \\dot{Q}_{3\\to{}4} }&={ \\dot{m} c_{p} \\left(T_{4} - T_{3}\\right) }\\\\\n",
       "    &={ \\left( 50\\ \\frac{\\mathrm{kg}}{\\mathrm{s}} \\right) \\left( 1.0047\\ \\frac{\\mathrm{kJ}}{\\left(\\mathrm{K} \\cdot \\mathrm{kg}\\right)} \\right) \\left(\\left( 1273.2\\ \\mathrm{K} \\right) - \\left( 510.18\\ \\mathrm{K} \\right)\\right) }\\\\\n",
       "    &={  3.8329\\times 10^{4}\\ \\frac{\\mathrm{kJ}}{\\mathrm{s}}  }\n",
       "  \\end{aligned}\n",
       "\\]\n"
      ],
      "text/plain": [
       "<IPython.core.display.Latex object>"
      ]
     },
     "metadata": {},
     "output_type": "display_data"
    },
    {
     "data": {
      "text/markdown": [
       "### $4\\to5$) Turbine"
      ],
      "text/plain": [
       "<IPython.core.display.Markdown object>"
      ]
     },
     "metadata": {},
     "output_type": "display_data"
    },
    {
     "data": {
      "text/latex": [
       "\\[\n",
       "  \\begin{aligned}{ \\dot{W}_{4\\to{}3} }&={ - \\dot{W}_{2\\to{}3} }\\\\\n",
       "    &={ - \\left( -1.2354\\times 10^{4}\\ \\frac{\\mathrm{kJ}}{\\mathrm{s}} \\right) }\\\\\n",
       "    &={  1.2354\\times 10^{4}\\ \\frac{\\mathrm{kJ}}{\\mathrm{s}}  }\n",
       "  \\end{aligned}\n",
       "\\]\n"
      ],
      "text/plain": [
       "<IPython.core.display.Latex object>"
      ]
     },
     "metadata": {},
     "output_type": "display_data"
    },
    {
     "data": {
      "text/latex": [
       "\\[\n",
       "  \\begin{aligned}{ T_{5} }&={ T_{4} - \\frac{\\dot{W}_{4\\to{}3}}{\\dot{m} c_{p}} }\\\\\n",
       "    &={ \\left( 1273.2\\ \\mathrm{K} \\right) - \\frac{\\left( 1.2354\\times 10^{4}\\ \\frac{\\mathrm{kJ}}{\\mathrm{s}} \\right)}{\\left( 50\\ \\frac{\\mathrm{kg}}{\\mathrm{s}} \\right) \\left( 1.0047\\ \\frac{\\mathrm{kJ}}{\\left(\\mathrm{K} \\cdot \\mathrm{kg}\\right)} \\right)} }\\\\\n",
       "    &={  1027.2\\ \\mathrm{K}  }\n",
       "  \\end{aligned}\n",
       "\\]\n"
      ],
      "text/plain": [
       "<IPython.core.display.Latex object>"
      ]
     },
     "metadata": {},
     "output_type": "display_data"
    },
    {
     "data": {
      "text/latex": [
       "\\[\n",
       "  \\begin{aligned}{ p_{5} }&={ p_{4} \\left(\\frac{T_{5}}{T_{4}}\\right)^{\\frac{k}{k - 1}} }\\\\\n",
       "    &={ \\left( 542.53\\ \\mathrm{kPa} \\right) \\left(\\frac{\\left( 1027.2\\ \\mathrm{K} \\right)}{\\left( 1273.2\\ \\mathrm{K} \\right)}\\right)^{\\frac{\\left( 1.4\\ \\right)}{\\left( 1.4\\ \\right) -  1 }} }\\\\\n",
       "    &={  255.95\\ \\mathrm{kPa}  }\n",
       "  \\end{aligned}\n",
       "\\]\n"
      ],
      "text/plain": [
       "<IPython.core.display.Latex object>"
      ]
     },
     "metadata": {},
     "output_type": "display_data"
    },
    {
     "data": {
      "text/markdown": [
       "### $5\\to6$) Isentropic Expansion"
      ],
      "text/plain": [
       "<IPython.core.display.Markdown object>"
      ]
     },
     "metadata": {},
     "output_type": "display_data"
    },
    {
     "data": {
      "text/latex": [
       "\\[\n",
       "  \\begin{aligned}\n",
       "    { p_{6} }&={ p_{1} } = { 35\\ \\mathrm{kPa}  }\n",
       "  \\end{aligned}\n",
       "\\]\n"
      ],
      "text/plain": [
       "<IPython.core.display.Latex object>"
      ]
     },
     "metadata": {},
     "output_type": "display_data"
    },
    {
     "data": {
      "text/latex": [
       "\\[\n",
       "  \\begin{aligned}{ T_{6} }&={ T_{5} \\left(\\frac{p_{6}}{p_{5}}\\right)^{\\frac{k - 1}{k}} }\\\\\n",
       "    &={ \\left( 1027.2\\ \\mathrm{K} \\right) \\left(\\frac{\\left( 35\\ \\mathrm{kPa} \\right)}{\\left( 255.95\\ \\mathrm{kPa} \\right)}\\right)^{\\frac{\\left( 1.4\\ \\right) -  1 }{\\left( 1.4\\ \\right)}} }\\\\\n",
       "    &={  581.83\\ \\mathrm{K}  }\n",
       "  \\end{aligned}\n",
       "\\]\n"
      ],
      "text/plain": [
       "<IPython.core.display.Latex object>"
      ]
     },
     "metadata": {},
     "output_type": "display_data"
    },
    {
     "data": {
      "text/latex": [
       "\\[\n",
       "  \\begin{aligned}{ V_{6} }&={ \\left(2 c_{p} \\left(T_{5} - T_{6}\\right)\\right)^{0.5} }\\\\\n",
       "    &={ \\left( 2  \\left( 1.0047\\ \\frac{\\mathrm{kJ}}{\\left(\\mathrm{K} \\cdot \\mathrm{kg}\\right)} \\right) \\left(\\left( 1027.2\\ \\mathrm{K} \\right) - \\left( 581.83\\ \\mathrm{K} \\right)\\right)\\right)^{ 0.5 } }\\\\\n",
       "    &={  946.05\\ \\frac{\\mathrm{m}}{\\mathrm{s}}  }\n",
       "  \\end{aligned}\n",
       "\\]\n"
      ],
      "text/plain": [
       "<IPython.core.display.Latex object>"
      ]
     },
     "metadata": {},
     "output_type": "display_data"
    },
    {
     "data": {
      "text/html": [
       "<table border=\"1\" class=\"dataframe\">\n",
       "  <thead>\n",
       "    <tr>\n",
       "      <th></th>\n",
       "      <th>T</th>\n",
       "      <th>p</th>\n",
       "      <th>Vel</th>\n",
       "    </tr>\n",
       "    <tr>\n",
       "      <th>unit</th>\n",
       "      <th>K</th>\n",
       "      <th>kPa</th>\n",
       "      <th>m/s</th>\n",
       "    </tr>\n",
       "  </thead>\n",
       "  <tbody>\n",
       "    <tr>\n",
       "      <th>1</th>\n",
       "      <td>233.150000</td>\n",
       "      <td>35.000000</td>\n",
       "      <td>250</td>\n",
       "    </tr>\n",
       "    <tr>\n",
       "      <th>2</th>\n",
       "      <td>264.252890</td>\n",
       "      <td>54.252763</td>\n",
       "      <td>-</td>\n",
       "    </tr>\n",
       "    <tr>\n",
       "      <th>3</th>\n",
       "      <td>510.177152</td>\n",
       "      <td>542.527634</td>\n",
       "      <td>-</td>\n",
       "    </tr>\n",
       "    <tr>\n",
       "      <th>4</th>\n",
       "      <td>1273.150000</td>\n",
       "      <td>542.527634</td>\n",
       "      <td>-</td>\n",
       "    </tr>\n",
       "    <tr>\n",
       "      <th>5</th>\n",
       "      <td>1027.225738</td>\n",
       "      <td>255.952339</td>\n",
       "      <td>-</td>\n",
       "    </tr>\n",
       "    <tr>\n",
       "      <th>6</th>\n",
       "      <td>581.827158</td>\n",
       "      <td>35.000000</td>\n",
       "      <td>946.05</td>\n",
       "    </tr>\n",
       "  </tbody>\n",
       "</table>"
      ],
      "text/plain": [
       "<IPython.core.display.HTML object>"
      ]
     },
     "metadata": {},
     "output_type": "display_data"
    }
   ],
   "source": [
    "#### 1$\\to$2) Diffuser \n",
    "T[2] = T[1].to('K') + V[1]**2/(2*c_p)\n",
    "p[2] = p[1]*(T[2].to('K')/T[1].to('K'))**(k/(k-1))\n",
    "\n",
    "#### $2\\to3$) Isentropic compression\n",
    "p[3] = p[2]*r_p\n",
    "T[3] = T[2].to('K')*(p[3]/p[2])**((k-1)/k)\n",
    "Wdot_2_to_3 = mdot*c_p*(T[2]-T[3])\n",
    "\n",
    "#### $3\\to4$) Combustion\n",
    "p[4]=p[3]\n",
    "Qdot_3_to_4 = mdot*c_p*(T[4]-T[3])\n",
    "\n",
    "#### $4\\to5$) Turbine\n",
    "Wdot_4_to_3 = -Wdot_2_to_3\n",
    "T[5] = T[4] - Wdot_4_to_3/(mdot*c_p)\n",
    "p[5] = p[4]*(T[5]/T[4])**(k/(k-1))\n",
    "\n",
    "#### $5\\to6$) Isentropic Expansion\n",
    "p[6] = p[1]\n",
    "T[6] = T[5]*(p[6]/p[5])**((k-1)/k)\n",
    "V[6] = (2*c_p*(T[5]-T[6]))**0.5\n",
    "\n",
    "Calculations();\n",
    "states.display();"
   ]
  },
  {
   "cell_type": "markdown",
   "metadata": {},
   "source": [
    "#### (b) Net Thrust"
   ]
  },
  {
   "cell_type": "code",
   "execution_count": 5,
   "metadata": {
    "collapsed": false,
    "jupyter": {
     "outputs_hidden": false
    }
   },
   "outputs": [
    {
     "data": {
      "text/latex": [
       "\\[\n",
       "  \\begin{aligned}{ F_{Net} }&={ \\dot{m} \\left(V_{6} - V_{1}\\right) }\\\\\n",
       "    &={ \\left( 50\\ \\frac{\\mathrm{kg}}{\\mathrm{s}} \\right) \\left(\\left( 946.05\\ \\frac{\\mathrm{m}}{\\mathrm{s}} \\right) - \\left( 250\\ \\frac{\\mathrm{m}}{\\mathrm{s}} \\right)\\right) }\\\\\n",
       "    &={  3.4802\\times 10^{4}\\ \\mathrm{N}  }\n",
       "  \\end{aligned}\n",
       "\\]\n"
      ],
      "text/plain": [
       "<IPython.core.display.Latex object>"
      ]
     },
     "metadata": {},
     "output_type": "display_data"
    }
   ],
   "source": [
    "F_Net = mdot*(V[6]-V[1])\n",
    "F_Net.ito('N')\n",
    "\n",
    "Calculations();"
   ]
  },
  {
   "cell_type": "markdown",
   "metadata": {},
   "source": [
    "#### (c) Propulsive Power"
   ]
  },
  {
   "cell_type": "code",
   "execution_count": 6,
   "metadata": {
    "collapsed": false,
    "jupyter": {
     "outputs_hidden": false
    }
   },
   "outputs": [
    {
     "data": {
      "text/latex": [
       "\\[\n",
       "  \\begin{aligned}{ \\dot{W}_{P} }&={ F_{Net} V_{1} }\\\\\n",
       "    &={ \\left( 3.4802\\times 10^{4}\\ \\mathrm{N} \\right) \\left( 250\\ \\frac{\\mathrm{m}}{\\mathrm{s}} \\right) }\\\\\n",
       "    &={  8.7006\\times 10^{6}\\ \\mathrm{W}  }\n",
       "  \\end{aligned}\n",
       "\\]\n"
      ],
      "text/plain": [
       "<IPython.core.display.Latex object>"
      ]
     },
     "metadata": {},
     "output_type": "display_data"
    }
   ],
   "source": [
    "Wdot_P = F_Net*V[1]\n",
    "Wdot_P.ito('W') \n",
    "\n",
    "Calculations();"
   ]
  },
  {
   "cell_type": "markdown",
   "metadata": {},
   "source": [
    "#### (d) Propulsive Efficiency"
   ]
  },
  {
   "cell_type": "code",
   "execution_count": 7,
   "metadata": {
    "collapsed": false,
    "jupyter": {
     "outputs_hidden": false
    }
   },
   "outputs": [
    {
     "data": {
      "text/latex": [
       "\\[\n",
       "  \\begin{aligned}{ \\eta_{P} }&={ \\frac{\\dot{W}_{P}}{\\dot{Q}_{3\\to{}4}} }\\\\\n",
       "    &={ \\frac{\\left( 8.7006\\times 10^{6}\\ \\mathrm{W} \\right)}{\\left( 3.8329\\times 10^{4}\\ \\frac{\\mathrm{kJ}}{\\mathrm{s}} \\right)} }\\\\\n",
       "    &={  0.227\\  }\n",
       "  \\end{aligned}\n",
       "\\]\n"
      ],
      "text/plain": [
       "<IPython.core.display.Latex object>"
      ]
     },
     "metadata": {},
     "output_type": "display_data"
    }
   ],
   "source": [
    "eta_P = Wdot_P/Qdot_3_to_4\n",
    "eta_P.ito('') \n",
    "\n",
    "Calculations();"
   ]
  },
  {
   "cell_type": "markdown",
   "metadata": {},
   "source": [
    "#### Summary of Results"
   ]
  },
  {
   "cell_type": "code",
   "execution_count": 8,
   "metadata": {
    "collapsed": false,
    "jupyter": {
     "outputs_hidden": false
    }
   },
   "outputs": [
    {
     "data": {
      "text/latex": [
       "\\[\\begin{aligned}{ F_{Net} }&={  3.4802\\times 10^{4}\\ \\mathrm{N}  }&{ \\dot{Q}_{3\\to{}4} }&={  3.8329\\times 10^{4}\\ \\frac{\\mathrm{kJ}}{\\mathrm{s}}  }&{ R }&={  0.28705\\ \\frac{\\mathrm{kJ}}{\\left(\\mathrm{K} \\cdot \\mathrm{kg}\\right)}  }\\\\{ T_{room} }&={  25\\ \\mathrm{°C}  }&{ \\dot{W}_{2\\to{}3} }&={  -1.2354\\times 10^{4}\\ \\frac{\\mathrm{kJ}}{\\mathrm{s}}  }&{ \\dot{W}_{4\\to{}3} }&={  1.2354\\times 10^{4}\\ \\frac{\\mathrm{kJ}}{\\mathrm{s}}  }\\\\{ \\dot{W}_{P} }&={  8.7006\\times 10^{6}\\ \\mathrm{W}  }&{ c_{p} }&={  1.0047\\ \\frac{\\mathrm{kJ}}{\\left(\\mathrm{K} \\cdot \\mathrm{kg}\\right)}  }&{ c_{v} }&={  0.71768\\ \\frac{\\mathrm{kJ}}{\\left(\\mathrm{K} \\cdot \\mathrm{kg}\\right)}  }\\\\{ \\eta_{P} }&={  0.227\\  }&{ k }&={  1.4\\  }&{ \\dot{m} }&={  50\\ \\frac{\\mathrm{kg}}{\\mathrm{s}}  }\\\\{ r_{p} }&={  10\\  }&{  }\\end{aligned}\\]"
      ],
      "text/plain": [
       "<IPython.core.display.Latex object>"
      ]
     },
     "metadata": {},
     "output_type": "display_data"
    },
    {
     "data": {
      "text/html": [
       "<table border=\"1\" class=\"dataframe\">\n",
       "  <thead>\n",
       "    <tr>\n",
       "      <th></th>\n",
       "      <th>T</th>\n",
       "      <th>p</th>\n",
       "      <th>Vel</th>\n",
       "    </tr>\n",
       "    <tr>\n",
       "      <th>unit</th>\n",
       "      <th>K</th>\n",
       "      <th>kPa</th>\n",
       "      <th>m/s</th>\n",
       "    </tr>\n",
       "  </thead>\n",
       "  <tbody>\n",
       "    <tr>\n",
       "      <th>1</th>\n",
       "      <td>233.150000</td>\n",
       "      <td>35.000000</td>\n",
       "      <td>250</td>\n",
       "    </tr>\n",
       "    <tr>\n",
       "      <th>2</th>\n",
       "      <td>264.252890</td>\n",
       "      <td>54.252763</td>\n",
       "      <td>-</td>\n",
       "    </tr>\n",
       "    <tr>\n",
       "      <th>3</th>\n",
       "      <td>510.177152</td>\n",
       "      <td>542.527634</td>\n",
       "      <td>-</td>\n",
       "    </tr>\n",
       "    <tr>\n",
       "      <th>4</th>\n",
       "      <td>1273.150000</td>\n",
       "      <td>542.527634</td>\n",
       "      <td>-</td>\n",
       "    </tr>\n",
       "    <tr>\n",
       "      <th>5</th>\n",
       "      <td>1027.225738</td>\n",
       "      <td>255.952339</td>\n",
       "      <td>-</td>\n",
       "    </tr>\n",
       "    <tr>\n",
       "      <th>6</th>\n",
       "      <td>581.827158</td>\n",
       "      <td>35.000000</td>\n",
       "      <td>946.05</td>\n",
       "    </tr>\n",
       "  </tbody>\n",
       "</table>"
      ],
      "text/plain": [
       "<IPython.core.display.HTML object>"
      ]
     },
     "metadata": {},
     "output_type": "display_data"
    },
    {
     "data": {
      "text/latex": [
       "\\[\\begin{aligned}{ F_{Net} }&={  3.4802\\times 10^{4}\\ \\mathrm{N}  }\\\\{ \\dot{W}_{P} }&={  8.7006\\times 10^{6}\\ \\mathrm{W}  }\\\\{ \\eta_{P} }&={  0.227\\  }\\\\{  }\\end{aligned}\\]"
      ],
      "text/plain": [
       "<IPython.core.display.Latex object>"
      ]
     },
     "metadata": {},
     "output_type": "display_data"
    }
   ],
   "source": [
    "Summary()\n",
    "Summary(,['F_Net','Wdot_P','eta_P']);"
   ]
  },
  {
   "cell_type": "markdown",
   "metadata": {},
   "source": [
    "#### (a) Sketch a $p$−$v$ diagram for the cycle"
   ]
  },
  {
   "cell_type": "code",
   "execution_count": 9,
   "metadata": {
    "collapsed": false,
    "jupyter": {
     "outputs_hidden": false
    }
   },
   "outputs": [
    {
     "data": {
      "image/png": "[encoded data removed]",
      "text/plain": [
       "<Figure size 1200x800 with 1 Axes>"
      ]
     },
     "metadata": {
      "needs_background": "light"
     },
     "output_type": "display_data"
    }
   ],
   "source": [
    "pv = air.pv_diagram()\n",
    "# The following loop plots and labels a point for each state\n",
    "for state in [1,2,3,4,5,6]:\n",
    "    v[state] = air.v(T[state],p[state])\n",
    "    h[state] = air.h(T[state],p[state])\n",
    "    s[state] = air.s(T[state],p[state])\n",
    "    pv.plot_state(states[state], label_loc='north east')\n",
    "\n",
    "# Enter an appropriate path descriptor for each process, i.e. 'isothermal','isobaric','isochoric','isenthalpic','isentropic','nonideal'\n",
    "pv.plot_process(states[1],states[2], path='isentropic') # 1->2\n",
    "pv.plot_process(states[2],states[3], path='isentropic') # 2->3\n",
    "pv.plot_process(states[3],states[4], path='isobaric') # 3->4\n",
    "pv.plot_process(states[4],states[5], path='isentropic') # 4->5\n",
    "pv.plot_process(states[5],states[6], path='isentropic'); # 5->6\n",
    "\n",
    "#pv.ax.set_xscale('log')"
   ]
  },
  {
   "cell_type": "markdown",
   "metadata": {},
   "source": [
    "#### (g) $T$-$s$ diagram"
   ]
  },
  {
   "cell_type": "code",
   "execution_count": 10,
   "metadata": {
    "collapsed": false,
    "jupyter": {
     "outputs_hidden": false
    }
   },
   "outputs": [
    {
     "data": {
      "image/png": "[encoded data removed]",
      "text/plain": [
       "<Figure size 1200x800 with 1 Axes>"
      ]
     },
     "metadata": {
      "needs_background": "light"
     },
     "output_type": "display_data"
    }
   ],
   "source": [
    "Ts = air.Ts_diagram()\n",
    "# The following loop plots and labels a point for each state\n",
    "for state in [1,2,3,4,5,6]:\n",
    "    Ts.plot_state(states[state], label_loc='north east')\n",
    "\n",
    "# Enter an appropriate path descriptor for each process, i.e. 'isothermal','isobaric','isochoric','isenthalpic','isentropic'\n",
    "Ts.plot_process(states[1],states[2], path='isentropic') # 1->2\n",
    "Ts.plot_process(states[2],states[3], path='isentropic') # 2->3\n",
    "Ts.plot_process(states[3],states[4], path='isobaric') # 3->4\n",
    "Ts.plot_process(states[4],states[5], path='isentropic') # 4->5\n",
    "Ts.plot_process(states[5],states[6], path='isentropic'); # 5->6"
   ]
  }
 ],
 "metadata": {
  "kernelspec": {
   "display_name": "Python 3",
   "language": "python",
   "name": "python3"
  },
  "language_info": {
   "codemirror_mode": {
    "name": "ipython",
    "version": 3
   },
   "file_extension": ".py",
   "mimetype": "text/x-python",
   "name": "python",
   "nbconvert_exporter": "python",
   "pygments_lexer": "ipython3",
   "version": "3.8.5"
  }
 },
 "nbformat": 4,
 "nbformat_minor": 4
}
