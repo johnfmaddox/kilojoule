{
 "cells": [
  {
   "cell_type": "markdown",
   "metadata": {},
   "source": [
    "# Example 9.5: Modified Brayton Cycle (Air-Standard)\n",
    "\n",
    "*John F. Maddox, Ph.D., P.E.<br>\n",
    "University of Kentucky - Paducah Campus<br>\n",
    "ME 321: Engineering Thermodynamics II<br>*"
   ]
  },
  {
   "cell_type": "markdown",
   "metadata": {},
   "source": [
    "## Problem Statement\n",
    "\n",
    "A Brayton cycle with intercooling, reheat, and regeneration has the following properties:\n",
    "\\begin{equation}\\begin{aligned}\n",
    "T_1&=300\\ \\mathrm{K} & T_3&=350\\ \\mathrm{K} & T_6&=T_8=1400\\ \\mathrm{K} \\\\\n",
    "p_1 &= 1\\ \\mathrm{bar}  & \\frac{p_2}{p_1}&=\\frac{p_4}{p_3}=\\sqrt{10} & p_7&=\\sqrt{10}\\ \\mathrm{bar}\\\\\n",
    "\\eta_{c,1} &= \\eta_{c,2} = 0.8 & \\eta_{t,1}&=\\eta_{t,2}=0.8 & \\eta_{reg}&= 0.85\n",
    "\\end{aligned}\\end{equation}\n",
    "Determine:\n",
    "* (a) $w_{net}$\n",
    "* (b) $q_{in}$\n",
    "* (c) $\\eta_{th}$\n",
    "* (d) $BWR$\n",
    "\n",
    "*Figure temporarily removed to avoid violating copyright. A replacement will be uploaded in a future release*"
   ]
  },
  {
   "cell_type": "markdown",
   "metadata": {},
   "source": [
    "## Solution\n"
   ]
  },
  {
   "cell_type": "markdown",
   "metadata": {},
   "source": [
    "### Python Initialization\n",
    "We'll start by importing the libraries we will use for our analysis and initializing dictionaries to hold the properties we will be using."
   ]
  },
  {
   "cell_type": "code",
   "execution_count": 1,
   "metadata": {
    "collapsed": false,
    "jupyter": {
     "outputs_hidden": false
    }
   },
   "outputs": [
    {
     "name": "stderr",
     "output_type": "stream",
     "text": [
      "/opt/anaconda/lib/python3.8/site-packages/mpmath/ctx_mp_python.py:892: SyntaxWarning: \"is\" with a literal. Did you mean \"==\"?\n",
      "  if other is 0:\n",
      "/opt/anaconda/lib/python3.8/site-packages/mpmath/ctx_mp_python.py:986: SyntaxWarning: \"is\" with a literal. Did you mean \"==\"?\n",
      "  if other is 0:\n"
     ]
    }
   ],
   "source": [
    "from kilojoule.templates.kSI_K import *\n",
    "from math import log, sqrt\n",
    "   \n",
    "air = idealgas.Properties('Air')"
   ]
  },
  {
   "cell_type": "markdown",
   "metadata": {},
   "source": [
    "### Given Parameters\n",
    "We now define variables to hold our known values."
   ]
  },
  {
   "cell_type": "code",
   "execution_count": 2,
   "metadata": {
    "collapsed": false,
    "jupyter": {
     "outputs_hidden": false
    }
   },
   "outputs": [
    {
     "data": {
      "text/latex": [
       "\\[\\begin{aligned}{ \\eta_{c} }&={  0.8\\  }&{ \\eta_{reg} }&={  0.85\\  }&{ \\eta_{t} }&={  0.8\\  }\\\\{ r_{p} }&={  3.1623\\  }&{  }\\end{aligned}\\]"
      ],
      "text/plain": [
       "<IPython.core.display.Latex object>"
      ]
     },
     "metadata": {},
     "output_type": "display_data"
    },
    {
     "data": {
      "text/html": [
       "<table border=\"1\" class=\"dataframe\">\n",
       "  <thead>\n",
       "    <tr>\n",
       "      <th></th>\n",
       "      <th>T</th>\n",
       "      <th>p</th>\n",
       "    </tr>\n",
       "    <tr>\n",
       "      <th>unit</th>\n",
       "      <th>K</th>\n",
       "      <th>kPa</th>\n",
       "    </tr>\n",
       "  </thead>\n",
       "  <tbody>\n",
       "    <tr>\n",
       "      <th>1</th>\n",
       "      <td>300</td>\n",
       "      <td>100</td>\n",
       "    </tr>\n",
       "    <tr>\n",
       "      <th>3</th>\n",
       "      <td>350</td>\n",
       "      <td>-</td>\n",
       "    </tr>\n",
       "    <tr>\n",
       "      <th>6</th>\n",
       "      <td>1400</td>\n",
       "      <td>-</td>\n",
       "    </tr>\n",
       "    <tr>\n",
       "      <th>7</th>\n",
       "      <td>-</td>\n",
       "      <td>316.228</td>\n",
       "    </tr>\n",
       "    <tr>\n",
       "      <th>8</th>\n",
       "      <td>1400</td>\n",
       "      <td>-</td>\n",
       "    </tr>\n",
       "  </tbody>\n",
       "</table>"
      ],
      "text/plain": [
       "<IPython.core.display.HTML object>"
      ]
     },
     "metadata": {},
     "output_type": "display_data"
    }
   ],
   "source": [
    "T[1] = Quantity(300,'K')      # Compressor Inlet Temperature\n",
    "T[3] = Quantity(350,'K')\n",
    "T[6] = T[8] = Quantity(1400,'K')\n",
    "p[1] = Quantity(1,'bar')      # Compressor Inlet pressure\n",
    "r_p = Quantity(sqrt(10),' ')   # Pressure ratio\n",
    "p[7] = Quantity(sqrt(10),'bar')\n",
    "eta_c = Quantity(0.8,'')      # Compressor Isentropioc Efficiency\n",
    "eta_t = Quantity(0.8,'')      # Turbine Isentropic Efficiency\n",
    "eta_reg = Quantity(0.85,'')   # Regenerator effectiveness\n",
    "\n",
    "display.Summary(locals());"
   ]
  },
  {
   "cell_type": "markdown",
   "metadata": {},
   "source": [
    "### Assumptions\n",
    "- Cold-air-standard Analysis\n",
    "  - Ideal gas\n",
    "  - Variable specific heat\n",
    "- Isobaric heat exchagners: Intercooler, Combustors, Regeneator\n",
    "- Negligible changes in kinetic energy\n",
    "- Negligible changes in potential energy"
   ]
  },
  {
   "cell_type": "code",
   "execution_count": 3,
   "metadata": {
    "collapsed": false,
    "jupyter": {
     "outputs_hidden": false
    }
   },
   "outputs": [
    {
     "data": {
      "text/latex": [
       "\\[\\begin{aligned}{ R }&={  0.28705\\ \\frac{\\mathrm{kJ}}{\\left(\\mathrm{K} \\cdot \\mathrm{kg}\\right)}  }&{ \\eta_{c} }&={  0.8\\  }&{ \\eta_{reg} }&={  0.85\\  }\\\\{ \\eta_{t} }&={  0.8\\  }&{ r_{p} }&={  3.1623\\  }&{  }\\end{aligned}\\]"
      ],
      "text/plain": [
       "<IPython.core.display.Latex object>"
      ]
     },
     "metadata": {},
     "output_type": "display_data"
    },
    {
     "data": {
      "text/html": [
       "<table border=\"1\" class=\"dataframe\">\n",
       "  <thead>\n",
       "    <tr>\n",
       "      <th></th>\n",
       "      <th>T</th>\n",
       "      <th>p</th>\n",
       "    </tr>\n",
       "    <tr>\n",
       "      <th>unit</th>\n",
       "      <th>K</th>\n",
       "      <th>kPa</th>\n",
       "    </tr>\n",
       "  </thead>\n",
       "  <tbody>\n",
       "    <tr>\n",
       "      <th>1</th>\n",
       "      <td>300</td>\n",
       "      <td>100.000000</td>\n",
       "    </tr>\n",
       "    <tr>\n",
       "      <th>2</th>\n",
       "      <td>-</td>\n",
       "      <td>316.227766</td>\n",
       "    </tr>\n",
       "    <tr>\n",
       "      <th>3</th>\n",
       "      <td>350</td>\n",
       "      <td>316.227766</td>\n",
       "    </tr>\n",
       "    <tr>\n",
       "      <th>4</th>\n",
       "      <td>-</td>\n",
       "      <td>1000.000000</td>\n",
       "    </tr>\n",
       "    <tr>\n",
       "      <th>5</th>\n",
       "      <td>-</td>\n",
       "      <td>1000.000000</td>\n",
       "    </tr>\n",
       "    <tr>\n",
       "      <th>6</th>\n",
       "      <td>1400</td>\n",
       "      <td>1000.000000</td>\n",
       "    </tr>\n",
       "    <tr>\n",
       "      <th>7</th>\n",
       "      <td>-</td>\n",
       "      <td>316.227766</td>\n",
       "    </tr>\n",
       "    <tr>\n",
       "      <th>8</th>\n",
       "      <td>1400</td>\n",
       "      <td>316.227766</td>\n",
       "    </tr>\n",
       "    <tr>\n",
       "      <th>9</th>\n",
       "      <td>-</td>\n",
       "      <td>100.000000</td>\n",
       "    </tr>\n",
       "    <tr>\n",
       "      <th>10</th>\n",
       "      <td>-</td>\n",
       "      <td>100.000000</td>\n",
       "    </tr>\n",
       "  </tbody>\n",
       "</table>"
      ],
      "text/plain": [
       "<IPython.core.display.HTML object>"
      ]
     },
     "metadata": {},
     "output_type": "display_data"
    }
   ],
   "source": [
    "# Ideal Gas\n",
    "R = air.R\n",
    "\n",
    "# Isobaric heat exchangers\n",
    "p[2] = r_p*p[1]\n",
    "p[3] = p[2]\n",
    "p[4] = r_p*p[3]\n",
    "p[5] = p[4]\n",
    "p[6] = p[5]\n",
    "p[8] = p[7]\n",
    "p[9] = p[1]\n",
    "p[10] = p[9]\n",
    "\n",
    "display.Summary(locals());"
   ]
  },
  {
   "cell_type": "markdown",
   "metadata": {},
   "source": [
    "#### (a) $w_{net}$"
   ]
  },
  {
   "cell_type": "code",
   "execution_count": 4,
   "metadata": {
    "collapsed": false,
    "jupyter": {
     "outputs_hidden": false
    }
   },
   "outputs": [
    {
     "data": {
      "text/markdown": [
       "#### 1$\\to$2) Non-ideal compression"
      ],
      "text/plain": [
       "<IPython.core.display.Markdown object>"
      ]
     },
     "metadata": {},
     "output_type": "display_data"
    },
    {
     "data": {
      "text/markdown": [
       " Inlet properties"
      ],
      "text/plain": [
       "<IPython.core.display.Markdown object>"
      ]
     },
     "metadata": {},
     "output_type": "display_data"
    },
    {
     "data": {
      "text/latex": [
       "\\[\n",
       "  \\begin{aligned}\n",
       "    { h_{1} }&={ air.h(T[1]) } = { -2.4071\\ \\frac{\\mathrm{kJ}}{\\mathrm{kg}}  }\n",
       "  \\end{aligned}\n",
       "\\]\n"
      ],
      "text/plain": [
       "<IPython.core.display.Latex object>"
      ]
     },
     "metadata": {},
     "output_type": "display_data"
    },
    {
     "data": {
      "text/latex": [
       "\\[\n",
       "  \\begin{aligned}\n",
       "    { s_{1} }&={ air.s(T[1],p[1]) } = { 6.7077\\ \\frac{\\mathrm{kJ}}{\\left(\\mathrm{K} \\cdot \\mathrm{kg}\\right)}  }\n",
       "  \\end{aligned}\n",
       "\\]\n"
      ],
      "text/plain": [
       "<IPython.core.display.Latex object>"
      ]
     },
     "metadata": {},
     "output_type": "display_data"
    },
    {
     "data": {
      "text/markdown": [
       " Isentropic exit state: Isentropic Ideal Gas Relations"
      ],
      "text/plain": [
       "<IPython.core.display.Markdown object>"
      ]
     },
     "metadata": {},
     "output_type": "display_data"
    },
    {
     "data": {
      "text/latex": [
       "\\[\n",
       "  \\begin{aligned}\n",
       "    { p_{2s} }&={ p_{2} } = { 316.23\\ \\mathrm{kPa}  }\n",
       "  \\end{aligned}\n",
       "\\]\n"
      ],
      "text/plain": [
       "<IPython.core.display.Latex object>"
      ]
     },
     "metadata": {},
     "output_type": "display_data"
    },
    {
     "data": {
      "text/latex": [
       "\\[\n",
       "  \\begin{aligned}\n",
       "    { s_{2s} }&={ s_{1} } = { 6.7077\\ \\frac{\\mathrm{kJ}}{\\left(\\mathrm{K} \\cdot \\mathrm{kg}\\right)}  }\n",
       "  \\end{aligned}\n",
       "\\]\n"
      ],
      "text/plain": [
       "<IPython.core.display.Latex object>"
      ]
     },
     "metadata": {},
     "output_type": "display_data"
    },
    {
     "data": {
      "text/latex": [
       "\\[\n",
       "  \\begin{aligned}\n",
       "    { h_{2s} }&={ air.h(p['2s'],s['2s']) } = { 114.93\\ \\frac{\\mathrm{kJ}}{\\mathrm{kg}}  }\n",
       "  \\end{aligned}\n",
       "\\]\n"
      ],
      "text/plain": [
       "<IPython.core.display.Latex object>"
      ]
     },
     "metadata": {},
     "output_type": "display_data"
    },
    {
     "data": {
      "text/latex": [
       "\\[\n",
       "  \\begin{aligned}\n",
       "    { T_{2s} }&={ air.T(p['2s'],s['2s']) } = { \\begin{pmatrix}416.2\\end{pmatrix}\\ \\mathrm{K}  }\n",
       "  \\end{aligned}\n",
       "\\]\n"
      ],
      "text/plain": [
       "<IPython.core.display.Latex object>"
      ]
     },
     "metadata": {},
     "output_type": "display_data"
    },
    {
     "data": {
      "text/markdown": [
       " Isentropic efficiency"
      ],
      "text/plain": [
       "<IPython.core.display.Markdown object>"
      ]
     },
     "metadata": {},
     "output_type": "display_data"
    },
    {
     "data": {
      "text/latex": [
       "\\[\n",
       "  \\begin{aligned}{ h_{2} }&={ h_{1} + \\frac{h_{2s} - h_{1}}{\\eta_{c}} }\\\\\n",
       "    &={ \\left( -2.4071\\ \\frac{\\mathrm{kJ}}{\\mathrm{kg}} \\right) + \\frac{\\left( 114.93\\ \\frac{\\mathrm{kJ}}{\\mathrm{kg}} \\right) - \\left( -2.4071\\ \\frac{\\mathrm{kJ}}{\\mathrm{kg}} \\right)}{\\left( 0.8\\ \\right)} }\\\\\n",
       "    &={  144.26\\ \\frac{\\mathrm{kJ}}{\\mathrm{kg}}  }\n",
       "  \\end{aligned}\n",
       "\\]\n"
      ],
      "text/plain": [
       "<IPython.core.display.Latex object>"
      ]
     },
     "metadata": {},
     "output_type": "display_data"
    },
    {
     "data": {
      "text/latex": [
       "\\[\n",
       "  \\begin{aligned}\n",
       "    { T_{2} }&={ air.T(h=h[2]) } = { \\begin{pmatrix}445.0\\end{pmatrix}\\ \\mathrm{K}  }\n",
       "  \\end{aligned}\n",
       "\\]\n"
      ],
      "text/plain": [
       "<IPython.core.display.Latex object>"
      ]
     },
     "metadata": {},
     "output_type": "display_data"
    },
    {
     "data": {
      "text/latex": [
       "\\[\n",
       "  \\begin{aligned}\n",
       "    { s_{2} }&={ air.s(p[2],h=h[2]) } = { 6.7758\\ \\frac{\\mathrm{kJ}}{\\left(\\mathrm{K} \\cdot \\mathrm{kg}\\right)}  }\n",
       "  \\end{aligned}\n",
       "\\]\n"
      ],
      "text/plain": [
       "<IPython.core.display.Latex object>"
      ]
     },
     "metadata": {},
     "output_type": "display_data"
    },
    {
     "data": {
      "text/markdown": [
       " First Law for compressor"
      ],
      "text/plain": [
       "<IPython.core.display.Markdown object>"
      ]
     },
     "metadata": {},
     "output_type": "display_data"
    },
    {
     "data": {
      "text/latex": [
       "\\[\n",
       "  \\begin{aligned}{ w_{1\\to2} }&={ h_{1} - h_{2} }\\\\\n",
       "    &={ \\left( -2.4071\\ \\frac{\\mathrm{kJ}}{\\mathrm{kg}} \\right) - \\left( 144.26\\ \\frac{\\mathrm{kJ}}{\\mathrm{kg}} \\right) }\\\\\n",
       "    &={  -146.67\\ \\frac{\\mathrm{kJ}}{\\mathrm{kg}}  }\n",
       "  \\end{aligned}\n",
       "\\]\n"
      ],
      "text/plain": [
       "<IPython.core.display.Latex object>"
      ]
     },
     "metadata": {},
     "output_type": "display_data"
    },
    {
     "data": {
      "text/markdown": [
       "#### 2$\\to$3) Intercooling"
      ],
      "text/plain": [
       "<IPython.core.display.Markdown object>"
      ]
     },
     "metadata": {},
     "output_type": "display_data"
    },
    {
     "data": {
      "text/latex": [
       "\\[\n",
       "  \\begin{aligned}\n",
       "    { h_{3} }&={ air.h(T[3]) } = { 47.922\\ \\frac{\\mathrm{kJ}}{\\mathrm{kg}}  }\n",
       "  \\end{aligned}\n",
       "\\]\n"
      ],
      "text/plain": [
       "<IPython.core.display.Latex object>"
      ]
     },
     "metadata": {},
     "output_type": "display_data"
    },
    {
     "data": {
      "text/latex": [
       "\\[\n",
       "  \\begin{aligned}\n",
       "    { s_{3} }&={ air.s(T[3],p[3]) } = { 6.5324\\ \\frac{\\mathrm{kJ}}{\\left(\\mathrm{K} \\cdot \\mathrm{kg}\\right)}  }\n",
       "  \\end{aligned}\n",
       "\\]\n"
      ],
      "text/plain": [
       "<IPython.core.display.Latex object>"
      ]
     },
     "metadata": {},
     "output_type": "display_data"
    },
    {
     "data": {
      "text/latex": [
       "\\[\n",
       "  \\begin{aligned}{ q_{2\\to3} }&={ h_{3} - h_{2} }\\\\\n",
       "    &={ \\left( 47.922\\ \\frac{\\mathrm{kJ}}{\\mathrm{kg}} \\right) - \\left( 144.26\\ \\frac{\\mathrm{kJ}}{\\mathrm{kg}} \\right) }\\\\\n",
       "    &={  -96.34\\ \\frac{\\mathrm{kJ}}{\\mathrm{kg}}  }\n",
       "  \\end{aligned}\n",
       "\\]\n"
      ],
      "text/plain": [
       "<IPython.core.display.Latex object>"
      ]
     },
     "metadata": {},
     "output_type": "display_data"
    },
    {
     "data": {
      "text/markdown": [
       "#### 3$\\to$4) Non-ideal compression"
      ],
      "text/plain": [
       "<IPython.core.display.Markdown object>"
      ]
     },
     "metadata": {},
     "output_type": "display_data"
    },
    {
     "data": {
      "text/markdown": [
       " Isentropic exit state"
      ],
      "text/plain": [
       "<IPython.core.display.Markdown object>"
      ]
     },
     "metadata": {},
     "output_type": "display_data"
    },
    {
     "data": {
      "text/latex": [
       "\\[\n",
       "  \\begin{aligned}\n",
       "    { p_{4s} }&={ p_{4} } = { 1000.0\\ \\mathrm{kPa}  }\n",
       "  \\end{aligned}\n",
       "\\]\n"
      ],
      "text/plain": [
       "<IPython.core.display.Latex object>"
      ]
     },
     "metadata": {},
     "output_type": "display_data"
    },
    {
     "data": {
      "text/latex": [
       "\\[\n",
       "  \\begin{aligned}\n",
       "    { s_{4s} }&={ s_{3} } = { 6.5324\\ \\frac{\\mathrm{kJ}}{\\left(\\mathrm{K} \\cdot \\mathrm{kg}\\right)}  }\n",
       "  \\end{aligned}\n",
       "\\]\n"
      ],
      "text/plain": [
       "<IPython.core.display.Latex object>"
      ]
     },
     "metadata": {},
     "output_type": "display_data"
    },
    {
     "data": {
      "text/latex": [
       "\\[\n",
       "  \\begin{aligned}\n",
       "    { h_{4s} }&={ air.h(p['4s'],s['4s']) } = { 184.68\\ \\frac{\\mathrm{kJ}}{\\mathrm{kg}}  }\n",
       "  \\end{aligned}\n",
       "\\]\n"
      ],
      "text/plain": [
       "<IPython.core.display.Latex object>"
      ]
     },
     "metadata": {},
     "output_type": "display_data"
    },
    {
     "data": {
      "text/latex": [
       "\\[\n",
       "  \\begin{aligned}\n",
       "    { T_{4s} }&={ air.T(p['4s'],s['4s']) } = { \\begin{pmatrix}484.48\\end{pmatrix}\\ \\mathrm{K}  }\n",
       "  \\end{aligned}\n",
       "\\]\n"
      ],
      "text/plain": [
       "<IPython.core.display.Latex object>"
      ]
     },
     "metadata": {},
     "output_type": "display_data"
    },
    {
     "data": {
      "text/markdown": [
       " Isentropic efficiency"
      ],
      "text/plain": [
       "<IPython.core.display.Markdown object>"
      ]
     },
     "metadata": {},
     "output_type": "display_data"
    },
    {
     "data": {
      "text/latex": [
       "\\[\n",
       "  \\begin{aligned}{ h_{4} }&={ h_{3} + \\frac{h_{4s} - h_{3}}{\\eta_{c}} }\\\\\n",
       "    &={ \\left( 47.922\\ \\frac{\\mathrm{kJ}}{\\mathrm{kg}} \\right) + \\frac{\\left( 184.68\\ \\frac{\\mathrm{kJ}}{\\mathrm{kg}} \\right) - \\left( 47.922\\ \\frac{\\mathrm{kJ}}{\\mathrm{kg}} \\right)}{\\left( 0.8\\ \\right)} }\\\\\n",
       "    &={  218.86\\ \\frac{\\mathrm{kJ}}{\\mathrm{kg}}  }\n",
       "  \\end{aligned}\n",
       "\\]\n"
      ],
      "text/plain": [
       "<IPython.core.display.Latex object>"
      ]
     },
     "metadata": {},
     "output_type": "display_data"
    },
    {
     "data": {
      "text/latex": [
       "\\[\n",
       "  \\begin{aligned}\n",
       "    { T_{4} }&={ air.T(h=h[4]) } = { \\begin{pmatrix}517.66\\end{pmatrix}\\ \\mathrm{K}  }\n",
       "  \\end{aligned}\n",
       "\\]\n"
      ],
      "text/plain": [
       "<IPython.core.display.Latex object>"
      ]
     },
     "metadata": {},
     "output_type": "display_data"
    },
    {
     "data": {
      "text/latex": [
       "\\[\n",
       "  \\begin{aligned}\n",
       "    { s_{4} }&={ air.s(p[4],h=h[4]) } = { 6.6006\\ \\frac{\\mathrm{kJ}}{\\left(\\mathrm{K} \\cdot \\mathrm{kg}\\right)}  }\n",
       "  \\end{aligned}\n",
       "\\]\n"
      ],
      "text/plain": [
       "<IPython.core.display.Latex object>"
      ]
     },
     "metadata": {},
     "output_type": "display_data"
    },
    {
     "data": {
      "text/markdown": [
       " First Law for compressor"
      ],
      "text/plain": [
       "<IPython.core.display.Markdown object>"
      ]
     },
     "metadata": {},
     "output_type": "display_data"
    },
    {
     "data": {
      "text/latex": [
       "\\[\n",
       "  \\begin{aligned}{ w_{3\\to4} }&={ h_{3} - h_{4} }\\\\\n",
       "    &={ \\left( 47.922\\ \\frac{\\mathrm{kJ}}{\\mathrm{kg}} \\right) - \\left( 218.86\\ \\frac{\\mathrm{kJ}}{\\mathrm{kg}} \\right) }\\\\\n",
       "    &={  -170.94\\ \\frac{\\mathrm{kJ}}{\\mathrm{kg}}  }\n",
       "  \\end{aligned}\n",
       "\\]\n"
      ],
      "text/plain": [
       "<IPython.core.display.Latex object>"
      ]
     },
     "metadata": {},
     "output_type": "display_data"
    },
    {
     "data": {
      "text/markdown": [
       "#### 4$\\to$5) Regenerator"
      ],
      "text/plain": [
       "<IPython.core.display.Markdown object>"
      ]
     },
     "metadata": {},
     "output_type": "display_data"
    },
    {
     "data": {
      "text/markdown": [
       " Skip for now.  Need $T_9$ to analyze"
      ],
      "text/plain": [
       "<IPython.core.display.Markdown object>"
      ]
     },
     "metadata": {},
     "output_type": "display_data"
    },
    {
     "data": {
      "text/markdown": [
       "#### 5$\\to$6) Combustor 1 "
      ],
      "text/plain": [
       "<IPython.core.display.Markdown object>"
      ]
     },
     "metadata": {},
     "output_type": "display_data"
    },
    {
     "data": {
      "text/markdown": [
       " Skip for now.  Need $T_5$ from regenerator analysis"
      ],
      "text/plain": [
       "<IPython.core.display.Markdown object>"
      ]
     },
     "metadata": {},
     "output_type": "display_data"
    },
    {
     "data": {
      "text/markdown": [
       "#### 6$\\to$7) Non-ideal expansion"
      ],
      "text/plain": [
       "<IPython.core.display.Markdown object>"
      ]
     },
     "metadata": {},
     "output_type": "display_data"
    },
    {
     "data": {
      "text/latex": [
       "\\[\n",
       "  \\begin{aligned}\n",
       "    { h_{6} }&={ air.h(T[6]) } = { 1211.9\\ \\frac{\\mathrm{kJ}}{\\mathrm{kg}}  }\n",
       "  \\end{aligned}\n",
       "\\]\n"
      ],
      "text/plain": [
       "<IPython.core.display.Latex object>"
      ]
     },
     "metadata": {},
     "output_type": "display_data"
    },
    {
     "data": {
      "text/latex": [
       "\\[\n",
       "  \\begin{aligned}\n",
       "    { s_{6} }&={ air.s(T[6],p[6]) } = { 7.7064\\ \\frac{\\mathrm{kJ}}{\\left(\\mathrm{K} \\cdot \\mathrm{kg}\\right)}  }\n",
       "  \\end{aligned}\n",
       "\\]\n"
      ],
      "text/plain": [
       "<IPython.core.display.Latex object>"
      ]
     },
     "metadata": {},
     "output_type": "display_data"
    },
    {
     "data": {
      "text/markdown": [
       " Isentropic exit state"
      ],
      "text/plain": [
       "<IPython.core.display.Markdown object>"
      ]
     },
     "metadata": {},
     "output_type": "display_data"
    },
    {
     "data": {
      "text/latex": [
       "\\[\n",
       "  \\begin{aligned}\n",
       "    { p_{7s} }&={ p_{7} } = { 316.23\\ \\mathrm{kPa}  }\n",
       "  \\end{aligned}\n",
       "\\]\n"
      ],
      "text/plain": [
       "<IPython.core.display.Latex object>"
      ]
     },
     "metadata": {},
     "output_type": "display_data"
    },
    {
     "data": {
      "text/latex": [
       "\\[\n",
       "  \\begin{aligned}\n",
       "    { s_{7s} }&={ s_{6} } = { 7.7064\\ \\frac{\\mathrm{kJ}}{\\left(\\mathrm{K} \\cdot \\mathrm{kg}\\right)}  }\n",
       "  \\end{aligned}\n",
       "\\]\n"
      ],
      "text/plain": [
       "<IPython.core.display.Latex object>"
      ]
     },
     "metadata": {},
     "output_type": "display_data"
    },
    {
     "data": {
      "text/latex": [
       "\\[\n",
       "  \\begin{aligned}\n",
       "    { h_{7s} }&={ air.h(p['7s'],s['7s']) } = { 808.3\\ \\frac{\\mathrm{kJ}}{\\mathrm{kg}}  }\n",
       "  \\end{aligned}\n",
       "\\]\n"
      ],
      "text/plain": [
       "<IPython.core.display.Latex object>"
      ]
     },
     "metadata": {},
     "output_type": "display_data"
    },
    {
     "data": {
      "text/latex": [
       "\\[\n",
       "  \\begin{aligned}\n",
       "    { T_{7s} }&={ air.T(h=h['7s']) } = { \\begin{pmatrix}1056.4\\end{pmatrix}\\ \\mathrm{K}  }\n",
       "  \\end{aligned}\n",
       "\\]\n"
      ],
      "text/plain": [
       "<IPython.core.display.Latex object>"
      ]
     },
     "metadata": {},
     "output_type": "display_data"
    },
    {
     "data": {
      "text/markdown": [
       " Isentropic efficiency"
      ],
      "text/plain": [
       "<IPython.core.display.Markdown object>"
      ]
     },
     "metadata": {},
     "output_type": "display_data"
    },
    {
     "data": {
      "text/latex": [
       "\\[\n",
       "  \\begin{aligned}{ h_{7} }&={ - \\eta_{t} \\left(h_{6} - h_{7s}\\right) + h_{6} }\\\\\n",
       "    &={ - \\left( 0.8\\ \\right) \\left(\\left( 1211.9\\ \\frac{\\mathrm{kJ}}{\\mathrm{kg}} \\right) - \\left( 808.3\\ \\frac{\\mathrm{kJ}}{\\mathrm{kg}} \\right)\\right) + \\left( 1211.9\\ \\frac{\\mathrm{kJ}}{\\mathrm{kg}} \\right) }\\\\\n",
       "    &={  889.02\\ \\frac{\\mathrm{kJ}}{\\mathrm{kg}}  }\n",
       "  \\end{aligned}\n",
       "\\]\n"
      ],
      "text/plain": [
       "<IPython.core.display.Latex object>"
      ]
     },
     "metadata": {},
     "output_type": "display_data"
    },
    {
     "data": {
      "text/latex": [
       "\\[\n",
       "  \\begin{aligned}\n",
       "    { T_{7} }&={ air.T(h=h[7]) } = { \\begin{pmatrix}1126.3\\end{pmatrix}\\ \\mathrm{K}  }\n",
       "  \\end{aligned}\n",
       "\\]\n"
      ],
      "text/plain": [
       "<IPython.core.display.Latex object>"
      ]
     },
     "metadata": {},
     "output_type": "display_data"
    },
    {
     "data": {
      "text/latex": [
       "\\[\n",
       "  \\begin{aligned}\n",
       "    { s_{7} }&={ air.s(p[7],h=h[7]) } = { 7.7804\\ \\frac{\\mathrm{kJ}}{\\left(\\mathrm{K} \\cdot \\mathrm{kg}\\right)}  }\n",
       "  \\end{aligned}\n",
       "\\]\n"
      ],
      "text/plain": [
       "<IPython.core.display.Latex object>"
      ]
     },
     "metadata": {},
     "output_type": "display_data"
    },
    {
     "data": {
      "text/markdown": [
       " First law for turbine"
      ],
      "text/plain": [
       "<IPython.core.display.Markdown object>"
      ]
     },
     "metadata": {},
     "output_type": "display_data"
    },
    {
     "data": {
      "text/latex": [
       "\\[\n",
       "  \\begin{aligned}{ w_{6\\to7} }&={ h_{6} - h_{7} }\\\\\n",
       "    &={ \\left( 1211.9\\ \\frac{\\mathrm{kJ}}{\\mathrm{kg}} \\right) - \\left( 889.02\\ \\frac{\\mathrm{kJ}}{\\mathrm{kg}} \\right) }\\\\\n",
       "    &={  322.9\\ \\frac{\\mathrm{kJ}}{\\mathrm{kg}}  }\n",
       "  \\end{aligned}\n",
       "\\]\n"
      ],
      "text/plain": [
       "<IPython.core.display.Latex object>"
      ]
     },
     "metadata": {},
     "output_type": "display_data"
    },
    {
     "data": {
      "text/markdown": [
       "#### 7$\\to$8) Combustor 2"
      ],
      "text/plain": [
       "<IPython.core.display.Markdown object>"
      ]
     },
     "metadata": {},
     "output_type": "display_data"
    },
    {
     "data": {
      "text/latex": [
       "\\[\n",
       "  \\begin{aligned}\n",
       "    { h_{8} }&={ air.h(T[8]) } = { 1211.9\\ \\frac{\\mathrm{kJ}}{\\mathrm{kg}}  }\n",
       "  \\end{aligned}\n",
       "\\]\n"
      ],
      "text/plain": [
       "<IPython.core.display.Latex object>"
      ]
     },
     "metadata": {},
     "output_type": "display_data"
    },
    {
     "data": {
      "text/latex": [
       "\\[\n",
       "  \\begin{aligned}\n",
       "    { s_{8} }&={ air.s(T[8],p[8]) } = { 8.0368\\ \\frac{\\mathrm{kJ}}{\\left(\\mathrm{K} \\cdot \\mathrm{kg}\\right)}  }\n",
       "  \\end{aligned}\n",
       "\\]\n"
      ],
      "text/plain": [
       "<IPython.core.display.Latex object>"
      ]
     },
     "metadata": {},
     "output_type": "display_data"
    },
    {
     "data": {
      "text/latex": [
       "\\[\n",
       "  \\begin{aligned}{ q_{7\\to8} }&={ h_{8} - h_{7} }\\\\\n",
       "    &={ \\left( 1211.9\\ \\frac{\\mathrm{kJ}}{\\mathrm{kg}} \\right) - \\left( 889.02\\ \\frac{\\mathrm{kJ}}{\\mathrm{kg}} \\right) }\\\\\n",
       "    &={  322.9\\ \\frac{\\mathrm{kJ}}{\\mathrm{kg}}  }\n",
       "  \\end{aligned}\n",
       "\\]\n"
      ],
      "text/plain": [
       "<IPython.core.display.Latex object>"
      ]
     },
     "metadata": {},
     "output_type": "display_data"
    },
    {
     "data": {
      "text/markdown": [
       "#### 8$\\to$9) Non-ideal expansion"
      ],
      "text/plain": [
       "<IPython.core.display.Markdown object>"
      ]
     },
     "metadata": {},
     "output_type": "display_data"
    },
    {
     "data": {
      "text/markdown": [
       " Isentropic exit state"
      ],
      "text/plain": [
       "<IPython.core.display.Markdown object>"
      ]
     },
     "metadata": {},
     "output_type": "display_data"
    },
    {
     "data": {
      "text/latex": [
       "\\[\n",
       "  \\begin{aligned}\n",
       "    { p_{9s} }&={ p_{9} } = { 100.0\\ \\mathrm{kPa}  }\n",
       "  \\end{aligned}\n",
       "\\]\n"
      ],
      "text/plain": [
       "<IPython.core.display.Latex object>"
      ]
     },
     "metadata": {},
     "output_type": "display_data"
    },
    {
     "data": {
      "text/latex": [
       "\\[\n",
       "  \\begin{aligned}\n",
       "    { s_{9s} }&={ s_{8} } = { 8.0368\\ \\frac{\\mathrm{kJ}}{\\left(\\mathrm{K} \\cdot \\mathrm{kg}\\right)}  }\n",
       "  \\end{aligned}\n",
       "\\]\n"
      ],
      "text/plain": [
       "<IPython.core.display.Latex object>"
      ]
     },
     "metadata": {},
     "output_type": "display_data"
    },
    {
     "data": {
      "text/latex": [
       "\\[\n",
       "  \\begin{aligned}\n",
       "    { h_{9s} }&={ air.h(p['9s'],s['9s']) } = { 808.3\\ \\frac{\\mathrm{kJ}}{\\mathrm{kg}}  }\n",
       "  \\end{aligned}\n",
       "\\]\n"
      ],
      "text/plain": [
       "<IPython.core.display.Latex object>"
      ]
     },
     "metadata": {},
     "output_type": "display_data"
    },
    {
     "data": {
      "text/latex": [
       "\\[\n",
       "  \\begin{aligned}\n",
       "    { T_{9s} }&={ air.T(h=h['9s']) } = { \\begin{pmatrix}1056.4\\end{pmatrix}\\ \\mathrm{K}  }\n",
       "  \\end{aligned}\n",
       "\\]\n"
      ],
      "text/plain": [
       "<IPython.core.display.Latex object>"
      ]
     },
     "metadata": {},
     "output_type": "display_data"
    },
    {
     "data": {
      "text/markdown": [
       " Isentropic efficiency"
      ],
      "text/plain": [
       "<IPython.core.display.Markdown object>"
      ]
     },
     "metadata": {},
     "output_type": "display_data"
    },
    {
     "data": {
      "text/latex": [
       "\\[\n",
       "  \\begin{aligned}{ h_{9} }&={ - \\eta_{t} \\left(h_{8} - h_{9s}\\right) + h_{8} }\\\\\n",
       "    &={ - \\left( 0.8\\ \\right) \\left(\\left( 1211.9\\ \\frac{\\mathrm{kJ}}{\\mathrm{kg}} \\right) - \\left( 808.3\\ \\frac{\\mathrm{kJ}}{\\mathrm{kg}} \\right)\\right) + \\left( 1211.9\\ \\frac{\\mathrm{kJ}}{\\mathrm{kg}} \\right) }\\\\\n",
       "    &={  889.02\\ \\frac{\\mathrm{kJ}}{\\mathrm{kg}}  }\n",
       "  \\end{aligned}\n",
       "\\]\n"
      ],
      "text/plain": [
       "<IPython.core.display.Latex object>"
      ]
     },
     "metadata": {},
     "output_type": "display_data"
    },
    {
     "data": {
      "text/latex": [
       "\\[\n",
       "  \\begin{aligned}\n",
       "    { T_{9} }&={ air.T(h=h[9]) } = { \\begin{pmatrix}1126.3\\end{pmatrix}\\ \\mathrm{K}  }\n",
       "  \\end{aligned}\n",
       "\\]\n"
      ],
      "text/plain": [
       "<IPython.core.display.Latex object>"
      ]
     },
     "metadata": {},
     "output_type": "display_data"
    },
    {
     "data": {
      "text/latex": [
       "\\[\n",
       "  \\begin{aligned}\n",
       "    { s_{9} }&={ air.s(p[9],h=h[9]) } = { 8.1108\\ \\frac{\\mathrm{kJ}}{\\left(\\mathrm{K} \\cdot \\mathrm{kg}\\right)}  }\n",
       "  \\end{aligned}\n",
       "\\]\n"
      ],
      "text/plain": [
       "<IPython.core.display.Latex object>"
      ]
     },
     "metadata": {},
     "output_type": "display_data"
    },
    {
     "data": {
      "text/markdown": [
       " First law for turbine"
      ],
      "text/plain": [
       "<IPython.core.display.Markdown object>"
      ]
     },
     "metadata": {},
     "output_type": "display_data"
    },
    {
     "data": {
      "text/latex": [
       "\\[\n",
       "  \\begin{aligned}{ w_{8\\to9} }&={ h_{8} - h_{9} }\\\\\n",
       "    &={ \\left( 1211.9\\ \\frac{\\mathrm{kJ}}{\\mathrm{kg}} \\right) - \\left( 889.02\\ \\frac{\\mathrm{kJ}}{\\mathrm{kg}} \\right) }\\\\\n",
       "    &={  322.9\\ \\frac{\\mathrm{kJ}}{\\mathrm{kg}}  }\n",
       "  \\end{aligned}\n",
       "\\]\n"
      ],
      "text/plain": [
       "<IPython.core.display.Latex object>"
      ]
     },
     "metadata": {},
     "output_type": "display_data"
    },
    {
     "data": {
      "text/markdown": [
       "##### $w_{net}$"
      ],
      "text/plain": [
       "<IPython.core.display.Markdown object>"
      ]
     },
     "metadata": {},
     "output_type": "display_data"
    },
    {
     "data": {
      "text/latex": [
       "\\[\n",
       "  \\begin{aligned}{ w_{net} }&={ w_{1\\to2} + w_{3\\to4} + w_{6\\to7} + w_{8\\to9} }\\\\\n",
       "    &={ \\left( -146.67\\ \\frac{\\mathrm{kJ}}{\\mathrm{kg}} \\right) + \\left( -170.94\\ \\frac{\\mathrm{kJ}}{\\mathrm{kg}} \\right) + \\left( 322.9\\ \\frac{\\mathrm{kJ}}{\\mathrm{kg}} \\right) + \\left( 322.9\\ \\frac{\\mathrm{kJ}}{\\mathrm{kg}} \\right) }\\\\\n",
       "    &={  328.19\\ \\frac{\\mathrm{kJ}}{\\mathrm{kg}}  }\n",
       "  \\end{aligned}\n",
       "\\]\n"
      ],
      "text/plain": [
       "<IPython.core.display.Latex object>"
      ]
     },
     "metadata": {},
     "output_type": "display_data"
    },
    {
     "data": {
      "text/html": [
       "<table border=\"1\" class=\"dataframe\">\n",
       "  <thead>\n",
       "    <tr>\n",
       "      <th></th>\n",
       "      <th>T</th>\n",
       "      <th>p</th>\n",
       "      <th>h</th>\n",
       "      <th>s</th>\n",
       "    </tr>\n",
       "    <tr>\n",
       "      <th>unit</th>\n",
       "      <th>K</th>\n",
       "      <th>kPa</th>\n",
       "      <th>kJ/kg</th>\n",
       "      <th>kJ/K/kg</th>\n",
       "    </tr>\n",
       "  </thead>\n",
       "  <tbody>\n",
       "    <tr>\n",
       "      <th>1</th>\n",
       "      <td>300</td>\n",
       "      <td>100.000000</td>\n",
       "      <td>-2.40713</td>\n",
       "      <td>6.7077</td>\n",
       "    </tr>\n",
       "    <tr>\n",
       "      <th>2</th>\n",
       "      <td>444.999</td>\n",
       "      <td>316.227766</td>\n",
       "      <td>144.262</td>\n",
       "      <td>6.77585</td>\n",
       "    </tr>\n",
       "    <tr>\n",
       "      <th>2s</th>\n",
       "      <td>416.196</td>\n",
       "      <td>316.227766</td>\n",
       "      <td>114.928</td>\n",
       "      <td>6.7077</td>\n",
       "    </tr>\n",
       "    <tr>\n",
       "      <th>3</th>\n",
       "      <td>350</td>\n",
       "      <td>316.227766</td>\n",
       "      <td>47.9219</td>\n",
       "      <td>6.53238</td>\n",
       "    </tr>\n",
       "    <tr>\n",
       "      <th>4</th>\n",
       "      <td>517.664</td>\n",
       "      <td>1000.000000</td>\n",
       "      <td>218.864</td>\n",
       "      <td>6.60063</td>\n",
       "    </tr>\n",
       "    <tr>\n",
       "      <th>4s</th>\n",
       "      <td>484.475</td>\n",
       "      <td>1000.000000</td>\n",
       "      <td>184.676</td>\n",
       "      <td>6.53238</td>\n",
       "    </tr>\n",
       "    <tr>\n",
       "      <th>5</th>\n",
       "      <td>-</td>\n",
       "      <td>1000.000000</td>\n",
       "      <td>-</td>\n",
       "      <td>-</td>\n",
       "    </tr>\n",
       "    <tr>\n",
       "      <th>6</th>\n",
       "      <td>1400</td>\n",
       "      <td>1000.000000</td>\n",
       "      <td>1211.92</td>\n",
       "      <td>7.70637</td>\n",
       "    </tr>\n",
       "    <tr>\n",
       "      <th>7</th>\n",
       "      <td>1126.29</td>\n",
       "      <td>316.227766</td>\n",
       "      <td>889.023</td>\n",
       "      <td>7.78036</td>\n",
       "    </tr>\n",
       "    <tr>\n",
       "      <th>7s</th>\n",
       "      <td>1056.42</td>\n",
       "      <td>316.227766</td>\n",
       "      <td>808.298</td>\n",
       "      <td>7.70637</td>\n",
       "    </tr>\n",
       "    <tr>\n",
       "      <th>8</th>\n",
       "      <td>1400</td>\n",
       "      <td>316.227766</td>\n",
       "      <td>1211.92</td>\n",
       "      <td>8.03685</td>\n",
       "    </tr>\n",
       "    <tr>\n",
       "      <th>9</th>\n",
       "      <td>1126.29</td>\n",
       "      <td>100.000000</td>\n",
       "      <td>889.023</td>\n",
       "      <td>8.11084</td>\n",
       "    </tr>\n",
       "    <tr>\n",
       "      <th>9s</th>\n",
       "      <td>1056.42</td>\n",
       "      <td>100.000000</td>\n",
       "      <td>808.298</td>\n",
       "      <td>8.03685</td>\n",
       "    </tr>\n",
       "    <tr>\n",
       "      <th>10</th>\n",
       "      <td>-</td>\n",
       "      <td>100.000000</td>\n",
       "      <td>-</td>\n",
       "      <td>-</td>\n",
       "    </tr>\n",
       "  </tbody>\n",
       "</table>"
      ],
      "text/plain": [
       "<IPython.core.display.HTML object>"
      ]
     },
     "metadata": {},
     "output_type": "display_data"
    }
   ],
   "source": [
    "##### 1$\\to$2) Non-ideal compression\n",
    "# Inlet properties\n",
    "h[1] = air.h(T[1])\n",
    "s[1] = air.s(T[1],p[1])\n",
    "# Isentropic exit state: Isentropic Ideal Gas Relations\n",
    "p['2s'] = p[2]\n",
    "s['2s'] = s[1]\n",
    "h['2s'] = air.h(p['2s'],s['2s'])\n",
    "T['2s'] = air.T(p['2s'],s['2s'])\n",
    "\n",
    "# Isentropic efficiency\n",
    "h[2] = h[1] + (h['2s']-h[1])/eta_c\n",
    "T[2] = air.T(h=h[2])\n",
    "s[2] = air.s(p[2],h=h[2])\n",
    "\n",
    "# First Law for compressor\n",
    "w_1_to_2 = (h[1]-h[2])\n",
    "\n",
    "\n",
    "##### 2$\\to$3) Intercooling\n",
    "h[3] = air.h(T[3])\n",
    "s[3] = air.s(T[3],p[3])\n",
    "q_2_to_3 = (h[3]-h[2])\n",
    "\n",
    "\n",
    "##### 3$\\to$4) Non-ideal compression\n",
    "# Isentropic exit state\n",
    "p['4s'] = p[4]\n",
    "s['4s'] = s[3]\n",
    "h['4s'] = air.h(p['4s'],s['4s'])\n",
    "T['4s'] = air.T(p['4s'],s['4s'])\n",
    "\n",
    "# Isentropic efficiency\n",
    "h[4] = h[3] + (h['4s']-h[3])/eta_c\n",
    "T[4] = air.T(h=h[4])\n",
    "s[4] = air.s(p[4],h=h[4])\n",
    "\n",
    "# First Law for compressor\n",
    "w_3_to_4 = (h[3]-h[4])\n",
    "\n",
    "\n",
    "##### 4$\\to$5) Regenerator\n",
    "# Skip for now.  Need $T_9$ to analyze\n",
    "\n",
    "\n",
    "##### 5$\\to$6) Combustor 1 \n",
    "# Skip for now.  Need $T_5$ from regenerator analysis\n",
    "\n",
    "\n",
    "##### 6$\\to$7) Non-ideal expansion\n",
    "h[6] = air.h(T[6])\n",
    "s[6] = air.s(T[6],p[6])\n",
    "\n",
    "# Isentropic exit state\n",
    "p['7s'] = p[7]\n",
    "s['7s'] = s[6]\n",
    "h['7s'] = air.h(p['7s'],s['7s'])\n",
    "T['7s'] = air.T(h=h['7s'])\n",
    "\n",
    "# Isentropic efficiency\n",
    "h[7] = h[6] - eta_t*(h[6]-h['7s'])\n",
    "T[7] = air.T(h=h[7])\n",
    "s[7] = air.s(p[7],h=h[7])\n",
    "\n",
    "# First law for turbine\n",
    "w_6_to_7 = (h[6]-h[7])\n",
    "\n",
    "\n",
    "##### 7$\\to$8) Combustor 2\n",
    "h[8] = air.h(T[8])\n",
    "s[8] = air.s(T[8],p[8])\n",
    "q_7_to_8 = h[8]-h[7]\n",
    "\n",
    "\n",
    "##### 8$\\to$9) Non-ideal expansion\n",
    "# Isentropic exit state\n",
    "p['9s'] = p[9]\n",
    "s['9s'] = s[8]\n",
    "h['9s'] = air.h(p['9s'],s['9s'])\n",
    "T['9s'] = air.T(h=h['9s'])\n",
    "\n",
    "# Isentropic efficiency\n",
    "h[9] = h[8] - eta_t*(h[8]-h['9s'])\n",
    "T[9] = air.T(h=h[9])\n",
    "s[9] = air.s(p[9],h=h[9])\n",
    "\n",
    "# First law for turbine\n",
    "w_8_to_9 = (h[8]-h[9])\n",
    "\n",
    "\n",
    "###### $w_{net}$\n",
    "w_net = w_1_to_2 + w_3_to_4 + w_6_to_7 + w_8_to_9\n",
    "\n",
    "display.Calculations(locals(),comments=True);\n",
    "states.display()"
   ]
  },
  {
   "cell_type": "markdown",
   "metadata": {},
   "source": [
    "#### (b) Heat input"
   ]
  },
  {
   "cell_type": "code",
   "execution_count": 5,
   "metadata": {
    "collapsed": false,
    "jupyter": {
     "outputs_hidden": false
    }
   },
   "outputs": [
    {
     "data": {
      "text/markdown": [
       "#### 4$\\to$5 and 9$\\to$10) Regenerator"
      ],
      "text/plain": [
       "<IPython.core.display.Markdown object>"
      ]
     },
     "metadata": {},
     "output_type": "display_data"
    },
    {
     "data": {
      "text/latex": [
       "\\[\n",
       "  \\begin{aligned}{ h_{5} }&={ \\eta_{reg} \\left(h_{9} - h_{4}\\right) + h_{4} }\\\\\n",
       "    &={ \\left( 0.85\\ \\right) \\left(\\left( 889.02\\ \\frac{\\mathrm{kJ}}{\\mathrm{kg}} \\right) - \\left( 218.86\\ \\frac{\\mathrm{kJ}}{\\mathrm{kg}} \\right)\\right) + \\left( 218.86\\ \\frac{\\mathrm{kJ}}{\\mathrm{kg}} \\right) }\\\\\n",
       "    &={  788.5\\ \\frac{\\mathrm{kJ}}{\\mathrm{kg}}  }\n",
       "  \\end{aligned}\n",
       "\\]\n"
      ],
      "text/plain": [
       "<IPython.core.display.Latex object>"
      ]
     },
     "metadata": {},
     "output_type": "display_data"
    },
    {
     "data": {
      "text/latex": [
       "\\[\n",
       "  \\begin{aligned}{ h_{10} }&={ h_{9} - h_{5} + h_{4} }\\\\\n",
       "    &={ \\left( 889.02\\ \\frac{\\mathrm{kJ}}{\\mathrm{kg}} \\right) - \\left( 788.5\\ \\frac{\\mathrm{kJ}}{\\mathrm{kg}} \\right) + \\left( 218.86\\ \\frac{\\mathrm{kJ}}{\\mathrm{kg}} \\right) }\\\\\n",
       "    &={  319.39\\ \\frac{\\mathrm{kJ}}{\\mathrm{kg}}  }\n",
       "  \\end{aligned}\n",
       "\\]\n"
      ],
      "text/plain": [
       "<IPython.core.display.Latex object>"
      ]
     },
     "metadata": {},
     "output_type": "display_data"
    },
    {
     "data": {
      "text/latex": [
       "\\[\n",
       "  \\begin{aligned}\n",
       "    { T_{5} }&={ air.T(h=h[5]) } = { \\begin{pmatrix}1039.2\\end{pmatrix}\\ \\mathrm{K}  }\n",
       "  \\end{aligned}\n",
       "\\]\n"
      ],
      "text/plain": [
       "<IPython.core.display.Latex object>"
      ]
     },
     "metadata": {},
     "output_type": "display_data"
    },
    {
     "data": {
      "text/latex": [
       "\\[\n",
       "  \\begin{aligned}\n",
       "    { s_{5} }&={ air.s(p[5],h=h[5]) } = { 7.357\\ \\frac{\\mathrm{kJ}}{\\left(\\mathrm{K} \\cdot \\mathrm{kg}\\right)}  }\n",
       "  \\end{aligned}\n",
       "\\]\n"
      ],
      "text/plain": [
       "<IPython.core.display.Latex object>"
      ]
     },
     "metadata": {},
     "output_type": "display_data"
    },
    {
     "data": {
      "text/latex": [
       "\\[\n",
       "  \\begin{aligned}\n",
       "    { T_{10} }&={ air.T(h=h[10]) } = { \\begin{pmatrix}614.03\\end{pmatrix}\\ \\mathrm{K}  }\n",
       "  \\end{aligned}\n",
       "\\]\n"
      ],
      "text/plain": [
       "<IPython.core.display.Latex object>"
      ]
     },
     "metadata": {},
     "output_type": "display_data"
    },
    {
     "data": {
      "text/latex": [
       "\\[\n",
       "  \\begin{aligned}\n",
       "    { s_{10} }&={ air.s(p[10],h=h[10]) } = { 7.4396\\ \\frac{\\mathrm{kJ}}{\\left(\\mathrm{K} \\cdot \\mathrm{kg}\\right)}  }\n",
       "  \\end{aligned}\n",
       "\\]\n"
      ],
      "text/plain": [
       "<IPython.core.display.Latex object>"
      ]
     },
     "metadata": {},
     "output_type": "display_data"
    },
    {
     "data": {
      "text/markdown": [
       "#### 5$\\to$6) Combustor 1 "
      ],
      "text/plain": [
       "<IPython.core.display.Markdown object>"
      ]
     },
     "metadata": {},
     "output_type": "display_data"
    },
    {
     "data": {
      "text/latex": [
       "\\[\n",
       "  \\begin{aligned}{ q_{5\\to6} }&={ h_{6} - h_{5} }\\\\\n",
       "    &={ \\left( 1211.9\\ \\frac{\\mathrm{kJ}}{\\mathrm{kg}} \\right) - \\left( 788.5\\ \\frac{\\mathrm{kJ}}{\\mathrm{kg}} \\right) }\\\\\n",
       "    &={  423.42\\ \\frac{\\mathrm{kJ}}{\\mathrm{kg}}  }\n",
       "  \\end{aligned}\n",
       "\\]\n"
      ],
      "text/plain": [
       "<IPython.core.display.Latex object>"
      ]
     },
     "metadata": {},
     "output_type": "display_data"
    },
    {
     "data": {
      "text/markdown": [
       "#### 7$\\to$8) Combustor 2"
      ],
      "text/plain": [
       "<IPython.core.display.Markdown object>"
      ]
     },
     "metadata": {},
     "output_type": "display_data"
    },
    {
     "data": {
      "text/latex": [
       "\\[\n",
       "  \\begin{aligned}{ q_{7\\to8} }&={ h_{8} - h_{7} }\\\\\n",
       "    &={ \\left( 1211.9\\ \\frac{\\mathrm{kJ}}{\\mathrm{kg}} \\right) - \\left( 889.02\\ \\frac{\\mathrm{kJ}}{\\mathrm{kg}} \\right) }\\\\\n",
       "    &={  322.9\\ \\frac{\\mathrm{kJ}}{\\mathrm{kg}}  }\n",
       "  \\end{aligned}\n",
       "\\]\n"
      ],
      "text/plain": [
       "<IPython.core.display.Latex object>"
      ]
     },
     "metadata": {},
     "output_type": "display_data"
    },
    {
     "data": {
      "text/markdown": [
       "#### Heat input"
      ],
      "text/plain": [
       "<IPython.core.display.Markdown object>"
      ]
     },
     "metadata": {},
     "output_type": "display_data"
    },
    {
     "data": {
      "text/latex": [
       "\\[\n",
       "  \\begin{aligned}{ q_{in} }&={ q_{5\\to6} + q_{7\\to8} }\\\\\n",
       "    &={ \\left( 423.42\\ \\frac{\\mathrm{kJ}}{\\mathrm{kg}} \\right) + \\left( 322.9\\ \\frac{\\mathrm{kJ}}{\\mathrm{kg}} \\right) }\\\\\n",
       "    &={  746.32\\ \\frac{\\mathrm{kJ}}{\\mathrm{kg}}  }\n",
       "  \\end{aligned}\n",
       "\\]\n"
      ],
      "text/plain": [
       "<IPython.core.display.Latex object>"
      ]
     },
     "metadata": {},
     "output_type": "display_data"
    }
   ],
   "source": [
    "##### 4$\\to$5 and 9$\\to$10) Regenerator\n",
    "h[5] = h[4] + eta_reg*(h[9]-h[4])\n",
    "h[10] = h[9] - (h[5]-h[4])\n",
    "T[5] = air.T(h=h[5])\n",
    "s[5] = air.s(p[5],h=h[5])\n",
    "T[10] = air.T(h=h[10])\n",
    "s[10] = air.s(p[10],h=h[10])\n",
    "\n",
    "##### 5$\\to$6) Combustor 1 \n",
    "q_5_to_6 =h[6]-h[5]\n",
    "\n",
    "\n",
    "##### 7$\\to$8) Combustor 2\n",
    "q_7_to_8 = h[8]-h[7]\n",
    "\n",
    "\n",
    "##### Heat input\n",
    "q_in = q_5_to_6 + q_7_to_8\n",
    "\n",
    "display.Calculations(locals(),comments=True);"
   ]
  },
  {
   "cell_type": "markdown",
   "metadata": {},
   "source": [
    "#### (c) Thermal efficiency"
   ]
  },
  {
   "cell_type": "code",
   "execution_count": 6,
   "metadata": {
    "collapsed": false,
    "jupyter": {
     "outputs_hidden": false
    }
   },
   "outputs": [
    {
     "data": {
      "text/markdown": [
       "#### Thermal efficiency"
      ],
      "text/plain": [
       "<IPython.core.display.Markdown object>"
      ]
     },
     "metadata": {},
     "output_type": "display_data"
    },
    {
     "data": {
      "text/latex": [
       "\\[\n",
       "  \\begin{aligned}{ \\eta_{th} }&={ \\frac{w_{net}}{q_{in}} }\\\\\n",
       "    &={ \\frac{\\left( 328.19\\ \\frac{\\mathrm{kJ}}{\\mathrm{kg}} \\right)}{\\left( 746.32\\ \\frac{\\mathrm{kJ}}{\\mathrm{kg}} \\right)} }\\\\\n",
       "    &={  0.43974\\  }\n",
       "  \\end{aligned}\n",
       "\\]\n"
      ],
      "text/plain": [
       "<IPython.core.display.Latex object>"
      ]
     },
     "metadata": {},
     "output_type": "display_data"
    },
    {
     "data": {
      "text/markdown": [
       "#### Second Law efficiency"
      ],
      "text/plain": [
       "<IPython.core.display.Markdown object>"
      ]
     },
     "metadata": {},
     "output_type": "display_data"
    },
    {
     "data": {
      "text/markdown": [
       " The low temperature is assumed to be the intake temperature"
      ],
      "text/plain": [
       "<IPython.core.display.Markdown object>"
      ]
     },
     "metadata": {},
     "output_type": "display_data"
    },
    {
     "data": {
      "text/latex": [
       "\\[\n",
       "  \\begin{aligned}\n",
       "    { T_{L} }&={ T_{1} } = { 300\\ \\mathrm{K}  }\n",
       "  \\end{aligned}\n",
       "\\]\n"
      ],
      "text/plain": [
       "<IPython.core.display.Latex object>"
      ]
     },
     "metadata": {},
     "output_type": "display_data"
    },
    {
     "data": {
      "text/markdown": [
       " The high temperature is approximated as the hottest temperature of the working fluid"
      ],
      "text/plain": [
       "<IPython.core.display.Markdown object>"
      ]
     },
     "metadata": {},
     "output_type": "display_data"
    },
    {
     "data": {
      "text/latex": [
       "\\[\n",
       "  \\begin{aligned}\n",
       "    { T_{H} }&={ T_{6} } = { 1400\\ \\mathrm{K}  }\n",
       "  \\end{aligned}\n",
       "\\]\n"
      ],
      "text/plain": [
       "<IPython.core.display.Latex object>"
      ]
     },
     "metadata": {},
     "output_type": "display_data"
    },
    {
     "data": {
      "text/markdown": [
       " Carnot efficiency"
      ],
      "text/plain": [
       "<IPython.core.display.Markdown object>"
      ]
     },
     "metadata": {},
     "output_type": "display_data"
    },
    {
     "data": {
      "text/latex": [
       "\\[\n",
       "  \\begin{aligned}{ \\eta_{th,Carnot} }&={ 1 - \\frac{T_{L}}{T_{H}} }\\\\\n",
       "    &={  1  - \\frac{\\left( 300\\ \\mathrm{K} \\right)}{\\left( 1400\\ \\mathrm{K} \\right)} }\\\\\n",
       "    &={  0.78571\\  }\n",
       "  \\end{aligned}\n",
       "\\]\n"
      ],
      "text/plain": [
       "<IPython.core.display.Latex object>"
      ]
     },
     "metadata": {},
     "output_type": "display_data"
    },
    {
     "data": {
      "text/markdown": [
       " Second Law efficiency"
      ],
      "text/plain": [
       "<IPython.core.display.Markdown object>"
      ]
     },
     "metadata": {},
     "output_type": "display_data"
    },
    {
     "data": {
      "text/latex": [
       "\\[\n",
       "  \\begin{aligned}{ \\eta_{II} }&={ \\frac{\\eta_{th}}{\\eta_{th,Carnot}} }\\\\\n",
       "    &={ \\frac{\\left( 0.43974\\ \\right)}{\\left( 0.78571\\ \\right)} }\\\\\n",
       "    &={  0.55967\\  }\n",
       "  \\end{aligned}\n",
       "\\]\n"
      ],
      "text/plain": [
       "<IPython.core.display.Latex object>"
      ]
     },
     "metadata": {},
     "output_type": "display_data"
    }
   ],
   "source": [
    "##### Thermal efficiency\n",
    "eta_th = w_net/q_in\n",
    "\n",
    "##### Second Law efficiency\n",
    "# The low temperature is assumed to be the intake temperature\n",
    "T_L = T[1]\n",
    "# The high temperature is approximated as the hottest temperature of the working fluid\n",
    "T_H = T[6]\n",
    "# Carnot efficiency\n",
    "eta_th_Carnot = 1-T_L/T_H\n",
    "\n",
    "# Second Law efficiency\n",
    "eta_II = eta_th/eta_th_Carnot\n",
    "\n",
    "display.Calculations(locals(),comments=True);"
   ]
  },
  {
   "cell_type": "markdown",
   "metadata": {},
   "source": [
    "#### (d) Back-Work-Ratio"
   ]
  },
  {
   "cell_type": "code",
   "execution_count": 7,
   "metadata": {},
   "outputs": [
    {
     "data": {
      "text/markdown": [
       "#### work in"
      ],
      "text/plain": [
       "<IPython.core.display.Markdown object>"
      ]
     },
     "metadata": {},
     "output_type": "display_data"
    },
    {
     "data": {
      "text/latex": [
       "\\[\n",
       "  \\begin{aligned}{ w_{in} }&={ - w_{1\\to2} - w_{3\\to4} }\\\\\n",
       "    &={ - \\left( -146.67\\ \\frac{\\mathrm{kJ}}{\\mathrm{kg}} \\right) - \\left( -170.94\\ \\frac{\\mathrm{kJ}}{\\mathrm{kg}} \\right) }\\\\\n",
       "    &={  317.61\\ \\frac{\\mathrm{kJ}}{\\mathrm{kg}}  }\n",
       "  \\end{aligned}\n",
       "\\]\n"
      ],
      "text/plain": [
       "<IPython.core.display.Latex object>"
      ]
     },
     "metadata": {},
     "output_type": "display_data"
    },
    {
     "data": {
      "text/markdown": [
       "#### work out"
      ],
      "text/plain": [
       "<IPython.core.display.Markdown object>"
      ]
     },
     "metadata": {},
     "output_type": "display_data"
    },
    {
     "data": {
      "text/latex": [
       "\\[\n",
       "  \\begin{aligned}{ w_{out} }&={ w_{6\\to7} + w_{8\\to9} }\\\\\n",
       "    &={ \\left( 322.9\\ \\frac{\\mathrm{kJ}}{\\mathrm{kg}} \\right) + \\left( 322.9\\ \\frac{\\mathrm{kJ}}{\\mathrm{kg}} \\right) }\\\\\n",
       "    &={  645.8\\ \\frac{\\mathrm{kJ}}{\\mathrm{kg}}  }\n",
       "  \\end{aligned}\n",
       "\\]\n"
      ],
      "text/plain": [
       "<IPython.core.display.Latex object>"
      ]
     },
     "metadata": {},
     "output_type": "display_data"
    },
    {
     "data": {
      "text/markdown": [
       "#### back work ratio"
      ],
      "text/plain": [
       "<IPython.core.display.Markdown object>"
      ]
     },
     "metadata": {},
     "output_type": "display_data"
    },
    {
     "data": {
      "text/latex": [
       "\\[\n",
       "  \\begin{aligned}{ BWR }&={ \\frac{w_{in}}{w_{out}} }\\\\\n",
       "    &={ \\frac{\\left( 317.61\\ \\frac{\\mathrm{kJ}}{\\mathrm{kg}} \\right)}{\\left( 645.8\\ \\frac{\\mathrm{kJ}}{\\mathrm{kg}} \\right)} }\\\\\n",
       "    &={  0.49181\\  }\n",
       "  \\end{aligned}\n",
       "\\]\n"
      ],
      "text/plain": [
       "<IPython.core.display.Latex object>"
      ]
     },
     "metadata": {},
     "output_type": "display_data"
    }
   ],
   "source": [
    "##### work in\n",
    "w_in = -(w_1_to_2 + w_3_to_4)\n",
    "\n",
    "##### work out\n",
    "w_out = w_6_to_7 + w_8_to_9\n",
    "\n",
    "##### back work ratio\n",
    "BWR = w_in/w_out\n",
    "\n",
    "display.Calculations(locals(),comments=True);"
   ]
  },
  {
   "cell_type": "markdown",
   "metadata": {},
   "source": [
    "#### Summary of Results"
   ]
  },
  {
   "cell_type": "code",
   "execution_count": 8,
   "metadata": {},
   "outputs": [
    {
     "data": {
      "text/latex": [
       "\\[\\begin{aligned}{ BWR }&={  0.49181\\  }&{ R }&={  0.28705\\ \\frac{\\mathrm{kJ}}{\\left(\\mathrm{K} \\cdot \\mathrm{kg}\\right)}  }&{ T_{H} }&={  1400\\ \\mathrm{K}  }\\\\{ T_{L} }&={  300\\ \\mathrm{K}  }&{ \\eta_{II} }&={  0.55967\\  }&{ \\eta_{c} }&={  0.8\\  }\\\\{ \\eta_{reg} }&={  0.85\\  }&{ \\eta_{t} }&={  0.8\\  }&{ \\eta_{th} }&={  0.43974\\  }\\\\{ \\eta_{th Carnot} }&={  0.78571\\  }&{ q_{2 to 3} }&={  -96.34\\ \\frac{\\mathrm{kJ}}{\\mathrm{kg}}  }&{ q_{5 to 6} }&={  423.42\\ \\frac{\\mathrm{kJ}}{\\mathrm{kg}}  }\\\\{ q_{7 to 8} }&={  322.9\\ \\frac{\\mathrm{kJ}}{\\mathrm{kg}}  }&{ q_{in} }&={  746.32\\ \\frac{\\mathrm{kJ}}{\\mathrm{kg}}  }&{ r_{p} }&={  3.1623\\  }\\\\{ w_{1 to 2} }&={  -146.67\\ \\frac{\\mathrm{kJ}}{\\mathrm{kg}}  }&{ w_{3 to 4} }&={  -170.94\\ \\frac{\\mathrm{kJ}}{\\mathrm{kg}}  }&{ w_{6 to 7} }&={  322.9\\ \\frac{\\mathrm{kJ}}{\\mathrm{kg}}  }\\\\{ w_{8 to 9} }&={  322.9\\ \\frac{\\mathrm{kJ}}{\\mathrm{kg}}  }&{ w_{in} }&={  317.61\\ \\frac{\\mathrm{kJ}}{\\mathrm{kg}}  }&{ w_{net} }&={  328.19\\ \\frac{\\mathrm{kJ}}{\\mathrm{kg}}  }\\\\{ w_{out} }&={  645.8\\ \\frac{\\mathrm{kJ}}{\\mathrm{kg}}  }&{  }\\end{aligned}\\]"
      ],
      "text/plain": [
       "<IPython.core.display.Latex object>"
      ]
     },
     "metadata": {},
     "output_type": "display_data"
    },
    {
     "data": {
      "text/html": [
       "<table border=\"1\" class=\"dataframe\">\n",
       "  <thead>\n",
       "    <tr>\n",
       "      <th></th>\n",
       "      <th>T</th>\n",
       "      <th>p</th>\n",
       "      <th>h</th>\n",
       "      <th>s</th>\n",
       "    </tr>\n",
       "    <tr>\n",
       "      <th>unit</th>\n",
       "      <th>K</th>\n",
       "      <th>kPa</th>\n",
       "      <th>kJ/kg</th>\n",
       "      <th>kJ/K/kg</th>\n",
       "    </tr>\n",
       "  </thead>\n",
       "  <tbody>\n",
       "    <tr>\n",
       "      <th>1</th>\n",
       "      <td>300.000000</td>\n",
       "      <td>100.000000</td>\n",
       "      <td>-2.407134</td>\n",
       "      <td>6.707700</td>\n",
       "    </tr>\n",
       "    <tr>\n",
       "      <th>2</th>\n",
       "      <td>444.999142</td>\n",
       "      <td>316.227766</td>\n",
       "      <td>144.261761</td>\n",
       "      <td>6.775848</td>\n",
       "    </tr>\n",
       "    <tr>\n",
       "      <th>2s</th>\n",
       "      <td>416.195586</td>\n",
       "      <td>316.227766</td>\n",
       "      <td>114.927982</td>\n",
       "      <td>6.707700</td>\n",
       "    </tr>\n",
       "    <tr>\n",
       "      <th>3</th>\n",
       "      <td>350.000000</td>\n",
       "      <td>316.227766</td>\n",
       "      <td>47.921889</td>\n",
       "      <td>6.532376</td>\n",
       "    </tr>\n",
       "    <tr>\n",
       "      <th>4</th>\n",
       "      <td>517.663720</td>\n",
       "      <td>1000.000000</td>\n",
       "      <td>218.864401</td>\n",
       "      <td>6.600630</td>\n",
       "    </tr>\n",
       "    <tr>\n",
       "      <th>4s</th>\n",
       "      <td>484.475173</td>\n",
       "      <td>1000.000000</td>\n",
       "      <td>184.675898</td>\n",
       "      <td>6.532376</td>\n",
       "    </tr>\n",
       "    <tr>\n",
       "      <th>5</th>\n",
       "      <td>1039.179799</td>\n",
       "      <td>1000.000000</td>\n",
       "      <td>788.499339</td>\n",
       "      <td>7.356988</td>\n",
       "    </tr>\n",
       "    <tr>\n",
       "      <th>6</th>\n",
       "      <td>1400.000000</td>\n",
       "      <td>1000.000000</td>\n",
       "      <td>1211.923096</td>\n",
       "      <td>7.706368</td>\n",
       "    </tr>\n",
       "    <tr>\n",
       "      <th>7</th>\n",
       "      <td>1126.290809</td>\n",
       "      <td>316.227766</td>\n",
       "      <td>889.023152</td>\n",
       "      <td>7.780355</td>\n",
       "    </tr>\n",
       "    <tr>\n",
       "      <th>7s</th>\n",
       "      <td>1056.418838</td>\n",
       "      <td>316.227766</td>\n",
       "      <td>808.298166</td>\n",
       "      <td>7.706368</td>\n",
       "    </tr>\n",
       "    <tr>\n",
       "      <th>8</th>\n",
       "      <td>1400.000000</td>\n",
       "      <td>316.227766</td>\n",
       "      <td>1211.923096</td>\n",
       "      <td>8.036850</td>\n",
       "    </tr>\n",
       "    <tr>\n",
       "      <th>9</th>\n",
       "      <td>1126.290809</td>\n",
       "      <td>100.000000</td>\n",
       "      <td>889.023152</td>\n",
       "      <td>8.110837</td>\n",
       "    </tr>\n",
       "    <tr>\n",
       "      <th>9s</th>\n",
       "      <td>1056.418838</td>\n",
       "      <td>100.000000</td>\n",
       "      <td>808.298166</td>\n",
       "      <td>8.036850</td>\n",
       "    </tr>\n",
       "    <tr>\n",
       "      <th>10</th>\n",
       "      <td>614.028615</td>\n",
       "      <td>100.000000</td>\n",
       "      <td>319.388213</td>\n",
       "      <td>7.439626</td>\n",
       "    </tr>\n",
       "  </tbody>\n",
       "</table>"
      ],
      "text/plain": [
       "<IPython.core.display.HTML object>"
      ]
     },
     "metadata": {},
     "output_type": "display_data"
    },
    {
     "data": {
      "text/latex": [
       "\\[\\begin{aligned}{ w_{net} }&={  328.19\\ \\frac{\\mathrm{kJ}}{\\mathrm{kg}}  }\\\\{ q_{in} }&={  746.32\\ \\frac{\\mathrm{kJ}}{\\mathrm{kg}}  }\\\\{ \\eta_{th} }&={  0.43974\\  }\\\\{ BWR }&={  0.49181\\  }\\\\{  }\\end{aligned}\\]"
      ],
      "text/plain": [
       "<IPython.core.display.Latex object>"
      ]
     },
     "metadata": {},
     "output_type": "display_data"
    }
   ],
   "source": [
    "display.Summary(locals())\n",
    "display.Summary(locals(),['w_net','q_in','eta_th','BWR']);"
   ]
  },
  {
   "cell_type": "markdown",
   "metadata": {},
   "source": [
    "### Plotting\n",
    "*Note: The plotting library uses the property tables to draw the process paths, which inherently assumes variable specific heat (i.e. real-fluid or air-standard assumptions).  If the library is used to draw process paths between states were obtained using constant specific heat (cold-air-standard assumptions) There will be inconsistencies between the state points and the process paths.*\n",
    "\n",
    "In order to plot the paths of the cycle on the $p$-$v$ diagram and states on the $T$-$s$ diagram, we need discrete values for the specifc enthalpy and entropy at each state rather than just the changes in properties we calculated above.  To do this we can pick an arbritrary value for the enthalpy and entropy at any state, then caclulate the enthalpy and entropy at the rest of the states relative to the reference point. For this case, we will look up the properties from the tables for state 1 and use that as our starting point."
   ]
  },
  {
   "cell_type": "code",
   "execution_count": 9,
   "metadata": {},
   "outputs": [
    {
     "data": {
      "text/html": [
       "<table border=\"1\" class=\"dataframe\">\n",
       "  <thead>\n",
       "    <tr>\n",
       "      <th></th>\n",
       "      <th>T</th>\n",
       "      <th>p</th>\n",
       "      <th>v</th>\n",
       "      <th>h</th>\n",
       "      <th>s</th>\n",
       "    </tr>\n",
       "    <tr>\n",
       "      <th>unit</th>\n",
       "      <th>K</th>\n",
       "      <th>kPa</th>\n",
       "      <th>m³/kg</th>\n",
       "      <th>kJ/kg</th>\n",
       "      <th>kJ/K/kg</th>\n",
       "    </tr>\n",
       "  </thead>\n",
       "  <tbody>\n",
       "    <tr>\n",
       "      <th>1</th>\n",
       "      <td>300.000000</td>\n",
       "      <td>100.000000</td>\n",
       "      <td>0.861158</td>\n",
       "      <td>-2.407134</td>\n",
       "      <td>6.707700</td>\n",
       "    </tr>\n",
       "    <tr>\n",
       "      <th>2</th>\n",
       "      <td>444.999142</td>\n",
       "      <td>316.227766</td>\n",
       "      <td>0.403944</td>\n",
       "      <td>144.261761</td>\n",
       "      <td>6.775848</td>\n",
       "    </tr>\n",
       "    <tr>\n",
       "      <th>2s</th>\n",
       "      <td>416.195586</td>\n",
       "      <td>316.227766</td>\n",
       "      <td>0.377797</td>\n",
       "      <td>114.927982</td>\n",
       "      <td>6.707700</td>\n",
       "    </tr>\n",
       "    <tr>\n",
       "      <th>3</th>\n",
       "      <td>350.000000</td>\n",
       "      <td>316.227766</td>\n",
       "      <td>0.317709</td>\n",
       "      <td>47.921889</td>\n",
       "      <td>6.532376</td>\n",
       "    </tr>\n",
       "    <tr>\n",
       "      <th>4</th>\n",
       "      <td>517.663720</td>\n",
       "      <td>1000.000000</td>\n",
       "      <td>0.148597</td>\n",
       "      <td>218.864401</td>\n",
       "      <td>6.600630</td>\n",
       "    </tr>\n",
       "    <tr>\n",
       "      <th>4s</th>\n",
       "      <td>484.475173</td>\n",
       "      <td>1000.000000</td>\n",
       "      <td>0.139070</td>\n",
       "      <td>184.675898</td>\n",
       "      <td>6.532376</td>\n",
       "    </tr>\n",
       "    <tr>\n",
       "      <th>5</th>\n",
       "      <td>1039.179799</td>\n",
       "      <td>1000.000000</td>\n",
       "      <td>0.298299</td>\n",
       "      <td>788.499339</td>\n",
       "      <td>7.356988</td>\n",
       "    </tr>\n",
       "    <tr>\n",
       "      <th>6</th>\n",
       "      <td>1400.000000</td>\n",
       "      <td>1000.000000</td>\n",
       "      <td>0.401874</td>\n",
       "      <td>1211.923096</td>\n",
       "      <td>7.706368</td>\n",
       "    </tr>\n",
       "    <tr>\n",
       "      <th>7</th>\n",
       "      <td>1126.290809</td>\n",
       "      <td>316.227766</td>\n",
       "      <td>1.022379</td>\n",
       "      <td>889.023152</td>\n",
       "      <td>7.780355</td>\n",
       "    </tr>\n",
       "    <tr>\n",
       "      <th>7s</th>\n",
       "      <td>1056.418838</td>\n",
       "      <td>316.227766</td>\n",
       "      <td>0.958954</td>\n",
       "      <td>808.298166</td>\n",
       "      <td>7.706368</td>\n",
       "    </tr>\n",
       "    <tr>\n",
       "      <th>8</th>\n",
       "      <td>1400.000000</td>\n",
       "      <td>316.227766</td>\n",
       "      <td>1.270836</td>\n",
       "      <td>1211.923096</td>\n",
       "      <td>8.036850</td>\n",
       "    </tr>\n",
       "    <tr>\n",
       "      <th>9</th>\n",
       "      <td>1126.290809</td>\n",
       "      <td>100.000000</td>\n",
       "      <td>3.233048</td>\n",
       "      <td>889.023152</td>\n",
       "      <td>8.110837</td>\n",
       "    </tr>\n",
       "    <tr>\n",
       "      <th>9s</th>\n",
       "      <td>1056.418838</td>\n",
       "      <td>100.000000</td>\n",
       "      <td>3.032478</td>\n",
       "      <td>808.298166</td>\n",
       "      <td>8.036850</td>\n",
       "    </tr>\n",
       "    <tr>\n",
       "      <th>10</th>\n",
       "      <td>614.028615</td>\n",
       "      <td>100.000000</td>\n",
       "      <td>1.762585</td>\n",
       "      <td>319.388213</td>\n",
       "      <td>7.439626</td>\n",
       "    </tr>\n",
       "  </tbody>\n",
       "</table>"
      ],
      "text/plain": [
       "<IPython.core.display.HTML object>"
      ]
     },
     "metadata": {},
     "output_type": "display_data"
    }
   ],
   "source": [
    "for i in [1,'2s',2,3,'4s',4,5,6,'7s',7,8,'9s',9,10]:\n",
    "    v[i] = R*T[i]/p[i]\n",
    "\n",
    "#ShowCalculations(locals(), comments=True);\n",
    "states.display()"
   ]
  },
  {
   "cell_type": "markdown",
   "metadata": {},
   "source": [
    "#### (a) $p$-$v$ "
   ]
  },
  {
   "cell_type": "code",
   "execution_count": 10,
   "metadata": {
    "collapsed": false,
    "jupyter": {
     "outputs_hidden": false
    }
   },
   "outputs": [
    {
     "data": {
      "image/png": "[encoded data removed]",
      "text/plain": [
       "<Figure size 1200x800 with 1 Axes>"
      ]
     },
     "metadata": {
      "needs_background": "light"
     },
     "output_type": "display_data"
    }
   ],
   "source": [
    "pv = air.pv_diagram()\n",
    "\n",
    "# plot each state on the p,v diagram\n",
    "for i in [1,2,3,4,5,6,7,8,9,10]:\n",
    "    pv.plot_state(states[i],label_loc='north east')\n",
    "\n",
    "\n",
    "# plot the process paths\n",
    "pv.plot_process(states[1],states['2s'],path='isentropic',linestyle='dashed',arrow=False)\n",
    "pv.plot_process(states[1],states[2],path='isentropic efficiency')\n",
    "pv.plot_process(states[2],states[3],path='isobaric',arrow=False)\n",
    "pv.plot_process(states[3],states['4s'],path='isentropic',linestyle='dashed',arrow=False)\n",
    "pv.plot_process(states[3],states[4],path='nonideal')\n",
    "pv.plot_process(states[4],states[5],path='isobaric')\n",
    "pv.plot_process(states[5],states[6],path='isobaric')\n",
    "pv.plot_process(states[6],states['7s'],path='isentropic',linestyle='dashed',arrow=False)\n",
    "pv.plot_process(states[7],states['7s'],path='isobaric',linestyle='dashed',arrow=False)\n",
    "pv.plot_process(states[6],states[7],path='nonideal')\n",
    "pv.plot_process(states[7],states[8],path='isobaric')\n",
    "pv.plot_process(states[8],states['9s'],path='isentropic',linestyle='dashed',arrow=False)\n",
    "pv.plot_process(states[8],states[9],path='nonideal')\n",
    "pv.plot_process(states[9],states[10],path='isobaric')\n",
    "pv.plot_process(states[10],states[1],path='isobaric',linestyle='dashed');"
   ]
  },
  {
   "cell_type": "markdown",
   "metadata": {},
   "source": [
    "#### (b) $T$-$s$ diagram"
   ]
  },
  {
   "cell_type": "code",
   "execution_count": 11,
   "metadata": {
    "collapsed": false,
    "jupyter": {
     "outputs_hidden": false
    }
   },
   "outputs": [
    {
     "data": {
      "image/png": "[encoded data removed]",
      "text/plain": [
       "<Figure size 1200x800 with 1 Axes>"
      ]
     },
     "metadata": {
      "needs_background": "light"
     },
     "output_type": "display_data"
    }
   ],
   "source": [
    "Ts = air.Ts_diagram()\n",
    "\n",
    "# plot each state on the p,v diagram\n",
    "for i in [1,3]:\n",
    "    Ts.plot_state(states[i],label_loc='west')\n",
    "Ts.plot_state(states[4])\n",
    "for i in [6,8,9]:\n",
    "    Ts.plot_state(states[i],label_loc='east')\n",
    "for i in [2,5,7,10]:\n",
    "    Ts.plot_state(states[i],label_loc='south east')\n",
    "    \n",
    "# plot the process paths\n",
    "Ts.plot_process(states[1],states['2s'],path='isentropic',linestyle='dashed',arrow=False)\n",
    "Ts.plot_process(states[1],states[2],path='nonideal')\n",
    "Ts.plot_process(states['2s'],states[2],path='isobaric',linestyle='dashed',arrow=False)\n",
    "Ts.plot_process(states[2],states[3],path='isobaric',label='intercooler',labelprops=dict(ha='left'))\n",
    "Ts.plot_process(states[3],states['4s'],path='isentropic',linestyle='dashed',arrow=False)\n",
    "Ts.plot_process(states[3],states[4],path='nonideal')\n",
    "Ts.plot_process(states['4s'],states[4],path='isobaric',linestyle='dashed',arrow=False)\n",
    "Ts.plot_process(states[4],states[5],path='isobaric',label='regenerator')\n",
    "Ts.plot_process(states[5],states[6],path='isobaric',label='combustor')\n",
    "Ts.plot_process(states[6],states['7s'],path='isentropic',linestyle='dashed',arrow=False)\n",
    "Ts.plot_process(states[6],states[7],path='nonideal')\n",
    "Ts.plot_process(states['7s'],states[7],path='isobaric',linestyle='dashed',arrow=False)\n",
    "Ts.plot_process(states[7],states[8],path='isobaric',label='reheat')\n",
    "Ts.plot_process(states[8],states['9s'],path='isentropic',linestyle='dashed',arrow=False)\n",
    "Ts.plot_process(states[8],states[9],path='nonideal');\n",
    "Ts.plot_process(states['9s'],states[9],path='isobaric',linestyle='dashed',arrow=False)\n",
    "Ts.plot_process(states[9],states[10],path='isobaric',label='regenerator');\n",
    "Ts.plot_process(states[10],states[1],path='isobaric',linestyle='dashed');"
   ]
  },
  {
   "cell_type": "code",
   "execution_count": null,
   "metadata": {
    "collapsed": false,
    "jupyter": {
     "outputs_hidden": false
    }
   },
   "outputs": [],
   "source": []
  }
 ],
 "metadata": {
  "kernelspec": {
   "display_name": "Python 3",
   "language": "python",
   "name": "python3"
  },
  "language_info": {
   "codemirror_mode": {
    "name": "ipython",
    "version": 3
   },
   "file_extension": ".py",
   "mimetype": "text/x-python",
   "name": "python",
   "nbconvert_exporter": "python",
   "pygments_lexer": "ipython3",
   "version": "3.8.5"
  }
 },
 "nbformat": 4,
 "nbformat_minor": 4
}
