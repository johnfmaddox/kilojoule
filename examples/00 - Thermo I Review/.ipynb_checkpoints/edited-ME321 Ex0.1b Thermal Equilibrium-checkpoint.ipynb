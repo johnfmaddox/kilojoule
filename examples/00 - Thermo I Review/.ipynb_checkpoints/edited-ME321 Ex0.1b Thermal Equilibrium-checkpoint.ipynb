{
 "cells": [
  {
   "cell_type": "markdown",
   "metadata": {},
   "source": [
    "# Example 0.1: Filling a Tank\n",
    "*John F. Maddox, Ph.D., P.E.<br>\n",
    "University of Kentucky - Paducah Campus<br>\n",
    "ME 321: Engineering Thermodynamics II<br>*\n",
    "\n",
    "## Problem Statement - A (Original)\n",
    "Steam at a pressure of $14\\,\\mathrm{bar}$ and a temperature of $300^\\circ\\mathrm{C}$ is flowing in a pipe.  Connected to the pipe through a valve is an initially evacuated tank with a volume of $0.25\\,\\mathrm{m^3}$.  The tank fills with steam until mechanical equilibrium is achieved.  Assume the system is adiabatic and that changes in kinetic and potential energy are negligible.  What is the final temperature in the tank, and how much entropy was generated during the process?\n",
    "\n",
    "## Problem Statement - B\n",
    "The tank is detached from the line, the insulation is removed, and heat transfer takes place until thermal equilibrium with the environment is achieved.  Determine:\n",
    "* the final pressure in the tank\n",
    "* the entropy generation of the process\n",
    "* the cause of the entropy generation"
   ]
  },
  {
   "cell_type": "markdown",
   "metadata": {},
   "source": [
    "#### Python Initialization"
   ]
  },
  {
   "cell_type": "code",
   "execution_count": 2,
   "metadata": {
    "collapsed": false,
    "jupyter": {
     "outputs_hidden": false
    }
   },
   "outputs": [],
   "source": [
    "# import libraries (thermoJFM depends on CoolProps and Pint)\n",
    "from thermoJFM import *\n",
    "\n",
    "############# Initialize variables #############\n",
    "properties_dict = {\n",
    "    'T':'degC', # Temperature\n",
    "    'p':'kPa', # pressure\n",
    "    'v':'m^3/kg', # specific volume\n",
    "    'u':'kJ/kg', # internal energy\n",
    "    'h':'kJ/kg', # enthalpy\n",
    "    's':'kJ/kg/K', # entropy\n",
    "    'm':'kg', # mass\n",
    "}\n",
    "states=StatesTable(properties=properties_dict)\n",
    "for property in states.properties:\n",
    "    globals()[property] = states.dict[property]\n",
    "################################################"
   ]
  },
  {
   "cell_type": "markdown",
   "metadata": {},
   "source": [
    "#### Solution for Part A"
   ]
  },
  {
   "cell_type": "code",
   "execution_count": 3,
   "metadata": {
    "collapsed": false,
    "jupyter": {
     "outputs_hidden": false
    }
   },
   "outputs": [
    {
     "data": {
      "text/markdown": [
       "##### Given values from Problem Statement #####"
      ],
      "text/plain": [
       "<IPython.core.display.Markdown object>"
      ]
     },
     "metadata": {},
     "output_type": "display_data"
    },
    {
     "data": {
      "text/markdown": [
       " Note: use Q_(value,'units') syntax to define dimensional quantities"
      ],
      "text/plain": [
       "<IPython.core.display.Markdown object>"
      ]
     },
     "metadata": {},
     "output_type": "display_data"
    },
    {
     "data": {
      "text/latex": [
       "\\[\n",
       "  \\begin{aligned}\n",
       "    { T_{i} }&={  300\\ \\mathrm{°C}  }\n",
       "  \\end{aligned}\n",
       "\\]\n"
      ],
      "text/plain": [
       "<IPython.core.display.Latex object>"
      ]
     },
     "metadata": {},
     "output_type": "display_data"
    },
    {
     "data": {
      "text/latex": [
       "\\[\n",
       "  \\begin{aligned}\n",
       "    { p_{i} }&={ \\left( 14\\ \\mathrm{bar} \\right) } = { 1400.0\\ \\mathrm{kPa}  }\n",
       "  \\end{aligned}\n",
       "\\]\n"
      ],
      "text/plain": [
       "<IPython.core.display.Latex object>"
      ]
     },
     "metadata": {},
     "output_type": "display_data"
    },
    {
     "data": {
      "text/latex": [
       "\\[\n",
       "  \\begin{aligned}\n",
       "    { Vol }&={  0.25\\ \\mathrm{m}^{3}  }\n",
       "  \\end{aligned}\n",
       "\\]\n"
      ],
      "text/plain": [
       "<IPython.core.display.Latex object>"
      ]
     },
     "metadata": {},
     "output_type": "display_data"
    },
    {
     "data": {
      "text/markdown": [
       "#### Solution #################################"
      ],
      "text/plain": [
       "<IPython.core.display.Markdown object>"
      ]
     },
     "metadata": {},
     "output_type": "display_data"
    },
    {
     "data": {
      "text/markdown": [
       " Assumptions"
      ],
      "text/plain": [
       "<IPython.core.display.Markdown object>"
      ]
     },
     "metadata": {},
     "output_type": "display_data"
    },
    {
     "data": {
      "text/latex": [
       "\\[\n",
       "  \\begin{aligned}\n",
       "    { p_{2} }&={ p_{i} } = { 1400.0\\ \\mathrm{kPa}  }\n",
       "  \\end{aligned}\n",
       "\\]\n"
      ],
      "text/plain": [
       "<IPython.core.display.Latex object>"
      ]
     },
     "metadata": {},
     "output_type": "display_data"
    },
    {
     "data": {
      "text/markdown": [
       " Use the FluidProperties() class to look up property values, i.e instead of interpolating from tables"
      ],
      "text/plain": [
       "<IPython.core.display.Markdown object>"
      ]
     },
     "metadata": {},
     "output_type": "display_data"
    },
    {
     "data": {
      "text/markdown": [
       " For water: We need two independent intensive properties (ind1, ind2), i.e. $T$ and $P$, to get a dependent intensive property (dep), i.e. $h$"
      ],
      "text/plain": [
       "<IPython.core.display.Markdown object>"
      ]
     },
     "metadata": {},
     "output_type": "display_data"
    },
    {
     "data": {
      "text/latex": [
       "\\[\n",
       "  \\begin{aligned}\n",
       "    { h_{i} }&={ water.h(T=T['i'],p=p['i']) } = { 3040.9\\ \\frac{\\mathrm{kJ}}{\\mathrm{kg}}  }\n",
       "  \\end{aligned}\n",
       "\\]\n"
      ],
      "text/plain": [
       "<IPython.core.display.Latex object>"
      ]
     },
     "metadata": {},
     "output_type": "display_data"
    },
    {
     "data": {
      "text/markdown": [
       " **1st Law**"
      ],
      "text/plain": [
       "<IPython.core.display.Markdown object>"
      ]
     },
     "metadata": {},
     "output_type": "display_data"
    },
    {
     "data": {
      "text/latex": [
       "\\[\n",
       "  \\begin{aligned}\n",
       "    { u_{2} }&={ h_{i} } = { 3040.9\\ \\frac{\\mathrm{kJ}}{\\mathrm{kg}}  }\n",
       "  \\end{aligned}\n",
       "\\]\n"
      ],
      "text/plain": [
       "<IPython.core.display.Latex object>"
      ]
     },
     "metadata": {},
     "output_type": "display_data"
    },
    {
     "data": {
      "text/markdown": [
       " Use the `water.T()` function to look up Temperature for $p_2$ and $u_2$"
      ],
      "text/plain": [
       "<IPython.core.display.Markdown object>"
      ]
     },
     "metadata": {},
     "output_type": "display_data"
    },
    {
     "data": {
      "text/latex": [
       "\\[\n",
       "  \\begin{aligned}\n",
       "    { T_{2} }&={ water.T(p=p[2],u=u[2],) } = { 452.33\\ \\mathrm{°C}  }\n",
       "  \\end{aligned}\n",
       "\\]\n"
      ],
      "text/plain": [
       "<IPython.core.display.Latex object>"
      ]
     },
     "metadata": {},
     "output_type": "display_data"
    },
    {
     "data": {
      "text/markdown": [
       " Mass Balance"
      ],
      "text/plain": [
       "<IPython.core.display.Markdown object>"
      ]
     },
     "metadata": {},
     "output_type": "display_data"
    },
    {
     "data": {
      "text/latex": [
       "\\[\n",
       "  \\begin{aligned}\n",
       "    { v_{2} }&={ water.v(T=T[2],p=p[2]) } = { 0.23588\\ \\frac{\\mathrm{m}^{3}}{\\mathrm{kg}}  }\n",
       "  \\end{aligned}\n",
       "\\]\n"
      ],
      "text/plain": [
       "<IPython.core.display.Latex object>"
      ]
     },
     "metadata": {},
     "output_type": "display_data"
    },
    {
     "data": {
      "text/latex": [
       "\\[\n",
       "  \\begin{aligned}{ m_{2} }&={ \\frac{Vol}{v_{2}} }\\\\\n",
       "    &={ \\frac{\\left( 0.25\\ \\mathrm{m}^{3} \\right)}{\\left( 0.23588\\ \\frac{\\mathrm{m}^{3}}{\\mathrm{kg}} \\right)} }\\\\\n",
       "    &={  1.0599\\ \\mathrm{kg}  }\n",
       "  \\end{aligned}\n",
       "\\]\n"
      ],
      "text/plain": [
       "<IPython.core.display.Latex object>"
      ]
     },
     "metadata": {},
     "output_type": "display_data"
    },
    {
     "data": {
      "text/markdown": [
       " **2nd Law**"
      ],
      "text/plain": [
       "<IPython.core.display.Markdown object>"
      ]
     },
     "metadata": {},
     "output_type": "display_data"
    },
    {
     "data": {
      "text/latex": [
       "\\[\n",
       "  \\begin{aligned}\n",
       "    { s_{i} }&={ water.s(T=T['i'],p=p['i']) } = { 6.9552\\ \\frac{\\mathrm{kJ}}{\\left(\\mathrm{K} \\cdot \\mathrm{kg}\\right)}  }\n",
       "  \\end{aligned}\n",
       "\\]\n"
      ],
      "text/plain": [
       "<IPython.core.display.Latex object>"
      ]
     },
     "metadata": {},
     "output_type": "display_data"
    },
    {
     "data": {
      "text/latex": [
       "\\[\n",
       "  \\begin{aligned}\n",
       "    { s_{2} }&={ water.s(T=T[2],p=p[2]) } = { 7.4663\\ \\frac{\\mathrm{kJ}}{\\left(\\mathrm{K} \\cdot \\mathrm{kg}\\right)}  }\n",
       "  \\end{aligned}\n",
       "\\]\n"
      ],
      "text/plain": [
       "<IPython.core.display.Latex object>"
      ]
     },
     "metadata": {},
     "output_type": "display_data"
    },
    {
     "data": {
      "text/latex": [
       "\\[\n",
       "  \\begin{aligned}{ S_{gen} }&={ m_{2} \\left(s_{2} - s_{i}\\right) }\\\\\n",
       "    &={ \\left( 1.0599\\ \\mathrm{kg} \\right) \\left(\\left( 7.4663\\ \\frac{\\mathrm{kJ}}{\\left(\\mathrm{K} \\cdot \\mathrm{kg}\\right)} \\right) - \\left( 6.9552\\ \\frac{\\mathrm{kJ}}{\\left(\\mathrm{K} \\cdot \\mathrm{kg}\\right)} \\right)\\right) }\\\\\n",
       "    &={  0.5417\\ \\frac{\\mathrm{kJ}}{\\mathrm{K}}  }\n",
       "  \\end{aligned}\n",
       "\\]\n"
      ],
      "text/plain": [
       "<IPython.core.display.Latex object>"
      ]
     },
     "metadata": {},
     "output_type": "display_data"
    },
    {
     "data": {
      "text/html": [
       "<table border=\"1\" class=\"dataframe\">\n",
       "  <thead>\n",
       "    <tr style=\"text-align: right;\">\n",
       "      <th></th>\n",
       "      <th>T [°C]</th>\n",
       "      <th>p [kPa]</th>\n",
       "      <th>v [m³/kg]</th>\n",
       "      <th>u [kJ/kg]</th>\n",
       "      <th>h [kJ/kg]</th>\n",
       "      <th>s [kJ/K/kg]</th>\n",
       "      <th>m [kg]</th>\n",
       "    </tr>\n",
       "  </thead>\n",
       "  <tbody>\n",
       "    <tr>\n",
       "      <th>2</th>\n",
       "      <td>452.330703</td>\n",
       "      <td>1400.0</td>\n",
       "      <td>0.235878</td>\n",
       "      <td>3040.92</td>\n",
       "      <td>-</td>\n",
       "      <td>7.466333</td>\n",
       "      <td>1.05987</td>\n",
       "    </tr>\n",
       "    <tr>\n",
       "      <th>i</th>\n",
       "      <td>300.000000</td>\n",
       "      <td>1400.0</td>\n",
       "      <td>-</td>\n",
       "      <td>-</td>\n",
       "      <td>3040.92</td>\n",
       "      <td>6.955232</td>\n",
       "      <td>-</td>\n",
       "    </tr>\n",
       "  </tbody>\n",
       "</table>"
      ],
      "text/plain": [
       "<IPython.core.display.HTML object>"
      ]
     },
     "metadata": {},
     "output_type": "display_data"
    }
   ],
   "source": [
    "###### Given values from Problem Statement #####\n",
    "# Note: use Q_(value,'units') syntax to define dimensional quantities\n",
    "T['i'] = Q_(300,'degC') # inlet temperature\n",
    "p['i'] = Q_(14,'bar') # inlet pressure\n",
    "Vol = Q_(0.25,'m^3') # tank volume\n",
    "\n",
    "##### Solution #################################\n",
    "# Assumptions\n",
    "p[2]=p['i'] # mechanical equilibrium -> final pressure is same as inlet pressure\n",
    "\n",
    "# Use the FluidProperties() class to look up property values, i.e instead of interpolating from tables\n",
    "# For water: We need two independent intensive properties (ind1, ind2), i.e. $T$ and $P$, to get a dependent intensive property (dep), i.e. $h$\n",
    "water = realfluid.Properties('Water', unit_system='SI_C') # instantiate the FluidProperties class with the fluid type set to Water\n",
    "h['i'] = water.h(T=T['i'],p=p['i']) # h_i=h(T_i,p_i) for water\n",
    "\n",
    "# **1st Law**\n",
    "u[2] = h['i'] # from 1st Law analysis\n",
    "\n",
    "# Use the `water.T()` function to look up Temperature for $p_2$ and $u_2$\n",
    "T[2] = water.T(p=p[2], u=u[2],) # T_2=T(p_2,u_2) for water\n",
    "\n",
    "# Mass Balance\n",
    "v[2] = water.v(T=T[2], p=p[2]) # v_2=v(T_2,p_2) for water\n",
    "m[2] = Vol/v[2]\n",
    "\n",
    "# **2nd Law**\n",
    "s['i'] = water.s(T=T['i'],p=p['i'])\n",
    "s[2] = water.s(T=T[2],p=p[2])\n",
    "\n",
    "S_gen = m[2]*(s[2]-s['i'])\n",
    "\n",
    "\n",
    "Calculations()\n",
    "states.display()"
   ]
  },
  {
   "cell_type": "markdown",
   "metadata": {},
   "source": [
    "##### Visualize "
   ]
  },
  {
   "cell_type": "markdown",
   "metadata": {},
   "source": [
    "#### Solution for Part B"
   ]
  },
  {
   "cell_type": "code",
   "execution_count": null,
   "metadata": {
    "collapsed": false,
    "jupyter": {
     "outputs_hidden": false
    }
   },
   "outputs": [],
   "source": [
    "# Insert code here to solve part B"
   ]
  }
 ],
 "metadata": {
  "kernelspec": {
   "display_name": "Python 3",
   "language": "python",
   "name": "python3"
  },
  "language_info": {
   "codemirror_mode": {
    "name": "ipython",
    "version": 3
   },
   "file_extension": ".py",
   "mimetype": "text/x-python",
   "name": "python",
   "nbconvert_exporter": "python",
   "pygments_lexer": "ipython3",
   "version": "3.7.9"
  }
 },
 "nbformat": 4,
 "nbformat_minor": 4
}
