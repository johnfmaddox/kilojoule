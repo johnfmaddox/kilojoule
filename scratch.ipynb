{
 "cells": [
  {
   "cell_type": "code",
   "execution_count": 9,
   "metadata": {},
   "outputs": [
    {
     "name": "stdout",
     "output_type": "stream",
     "text": [
      "Requirement already satisfied: uncertainties in c:\\users\\jackm\\anaconda3\\lib\\site-packages (3.1.7)\n",
      "Requirement already satisfied: future in c:\\users\\jackm\\anaconda3\\lib\\site-packages (from uncertainties) (0.18.2)\n"
     ]
    }
   ],
   "source": [
    "!pip install uncertainties\n"
   ]
  },
  {
   "cell_type": "code",
   "execution_count": 1,
   "metadata": {},
   "outputs": [
    {
     "name": "stderr",
     "output_type": "stream",
     "text": [
      "c:\\Users\\jackm\\anaconda3\\lib\\site-packages\\pandas\\core\\computation\\expressions.py:20: UserWarning: Pandas requires version '2.7.3' or newer of 'numexpr' (version '2.7.1' currently installed).\n",
      "  from pandas.core.computation.check import NUMEXPR_INSTALLED\n"
     ]
    },
    {
     "data": {
      "text/plain": [
       "'f:\\\\OneDriveUK\\\\OneDrive - University of Kentucky\\\\Teaching\\\\Python\\\\kilojoule\\\\kilojoule\\\\__init__.py'"
      ]
     },
     "execution_count": 1,
     "metadata": {},
     "output_type": "execute_result"
    }
   ],
   "source": [
    "# import kilojoule.magics\n",
    "# from kilojoule.units import Quantity\n",
    "#from kilojoule.templates.thermo import *\n",
    "\n",
    "from kilojoule.templates.USCS_R import *\n",
    "air = idealgas.Properties('air',)\n",
    "kilojoule.__file__"
   ]
  },
  {
   "cell_type": "code",
   "execution_count": 3,
   "metadata": {},
   "outputs": [],
   "source": [
    "z= Quantity(5.275,'m')\n",
    "store_solutions('z')\n"
   ]
  },
  {
   "cell_type": "code",
   "execution_count": 4,
   "metadata": {},
   "outputs": [
    {
     "data": {
      "text/latex": [
       "\\begin{align} z &= 5\\ \\mathrm{m} && 🚧 \\quad &  \\end{align}"
      ],
      "text/plain": [
       "<IPython.core.display.Latex object>"
      ]
     },
     "metadata": {},
     "output_type": "display_data"
    },
    {
     "data": {
      "text/latex": [
       "\\begin{align*}\n",
       "✅&: \\mathrm{All\\, significant\\, figures\\, are\\, correct}\\\\\n",
       "🚧&: \\mathrm{The\\, first\\, significant\\, figure\\, is\\, correct}\\\\\n",
       "❌&: \\mathrm{No\\, significant\\, figures\\, are\\, correct}\n",
       "\\end{align*}"
      ],
      "text/plain": [
       "<IPython.core.display.Latex object>"
      ]
     },
     "metadata": {},
     "output_type": "display_data"
    }
   ],
   "source": [
    "z = Quantity(5,'m')\n",
    "check_solutions('z', legend=True)"
   ]
  },
  {
   "cell_type": "code",
   "execution_count": 2,
   "metadata": {},
   "outputs": [
    {
     "data": {
      "text/markdown": [
       "\\begin{align}\n",
       "  {T}_{ 1 } &=  70.0\\ \\mathrm{°F}  = 529.67\\ \\mathrm{°R} \n",
       "\\end{align}\n",
       "\n",
       "\\begin{align}\n",
       "  {p}_{ 1 } &=   14.7  \\cdot  \\underset{ ureg }{ psi }  \\\\\n",
       "    &=  14.7  \\cdot   pound_force_per_square_inch  \\\\\n",
       "    &= 14.7\\ \\mathrm{psi}\n",
       "\\end{align}\n",
       "\n",
       "\\begin{align}\n",
       "  {\\dot{V}}_{ 1 } &=   3000.0  \\cdot  \\mathrm{ ureg }\\left( ft^3/min \\right)   = 1.4158\\ \\frac{\\mathrm{m}^{3}}{\\mathrm{s}} \n",
       "\\end{align}\n",
       "\n",
       "\\begin{align}\n",
       "  {p}_{ 2 } &=   10  \\cdot  {p}_{ 1 }  \\\\\n",
       "    &=  10  \\cdot  14.7\\ \\mathrm{psi} \\\\\n",
       "    &= 147.0\\ \\mathrm{psi}\n",
       "\\end{align}\n",
       "\n",
       "\\begin{align}\n",
       "  \\eta_{c} &=  0.8 \n",
       "\\end{align}\n",
       "\n",
       "\n",
       "\\begin{align}{ \\eta_{c} }&={ 0.8 }&{  }\\end{align}\n",
       "<table border=\"1\" class=\"dataframe\">\n",
       "  <thead>\n",
       "    <tr style=\"text-align: right;\">\n",
       "      <th></th>\n",
       "      <th>$T$ [°R]</th>\n",
       "      <th>$p$ [psi]</th>\n",
       "      <th>$\\dot{V}$ [m³/s]</th>\n",
       "    </tr>\n",
       "  </thead>\n",
       "  <tbody>\n",
       "    <tr>\n",
       "      <th>1</th>\n",
       "      <td>529.67</td>\n",
       "      <td>14.7</td>\n",
       "      <td>1.41584</td>\n",
       "    </tr>\n",
       "    <tr>\n",
       "      <th>2</th>\n",
       "      <td>-</td>\n",
       "      <td>147.0</td>\n",
       "      <td>-</td>\n",
       "    </tr>\n",
       "  </tbody>\n",
       "</table>\n"
      ],
      "text/plain": [
       "<IPython.core.display.Markdown object>"
      ]
     },
     "metadata": {},
     "output_type": "display_data"
    }
   ],
   "source": [
    "%%showcalc\n",
    "# the next three lines show different ways to create a dimensional quantity, but the Quantity(magnitude,\"units\") syntax is the preferred method.\n",
    "T[1] = Quantity(70.,'degF')        # inlet temperature\n",
    "p[1] = 14.7*ureg.psi               # inlet pressure\n",
    "Vdot[1] = 3000.0*ureg('ft^3/min')  # volumetric flow rate at inlet\n",
    "p[2] = 10*p[1]                     # exit pressure\n",
    "eta_c = Quantity(0.8,'')           # isentropic efficiency\n",
    "\n",
    "Summary();"
   ]
  },
  {
   "cell_type": "code",
   "execution_count": 3,
   "metadata": {},
   "outputs": [
    {
     "data": {
      "text/markdown": [
       "\\begin{align}\n",
       "  {p}_{ 1 } &=  100\\ \\mathrm{kPa}  = 14.504\\ \\mathrm{psi} \n",
       "\\end{align}\n",
       "\n",
       "\\begin{align}\n",
       "  V_{tank} &=  100\\ \\mathrm{l}  = 0.1\\ \\mathrm{m}^{3} \n",
       "\\end{align}\n",
       "\n",
       "\\begin{align}\n",
       "  {p}_{ 2 } &=  700\\ \\mathrm{kPa}  = 101.53\\ \\mathrm{psi} \n",
       "\\end{align}\n",
       "\n",
       "\\begin{align}\n",
       "  {p}_{ \\mathrm{turbine}\\,\\mathrm{exit} } &=  100\\ \\mathrm{kPa}  = 14.504\\ \\mathrm{psi} \n",
       "\\end{align}\n",
       "\n",
       "\\begin{align}\n",
       "  {x}_{ \\mathrm{turbine}\\,\\mathrm{exit} } &=  1 \n",
       "\\end{align}\n",
       "\n",
       "\\begin{align}\n",
       "  {x}_{ \\mathrm{tank}\\,\\mathrm{exit} } &=  1 \n",
       "\\end{align}\n",
       "\n",
       "\\begin{align}\n",
       "  {p}_{ \\mathrm{tank}\\,\\mathrm{exit} } &=  {p}_{ 2 }  = 101.53\\ \\mathrm{psi} \n",
       "\\end{align}\n",
       "\n",
       "\\begin{align}\n",
       "  {Vol}_{ 5 } &=  6  = 6\\ \\mathrm{ft}^{3} \n",
       "\\end{align}\n",
       "\n",
       "\n",
       "\\begin{align}{ V_{tank} }&={ 0.1\\ \\mathrm{m}^{3} }&{ \\eta_{c} }&={ 0.8 }&{  }\\end{align}\n",
       "<table border=\"1\" class=\"dataframe\">\n",
       "  <thead>\n",
       "    <tr style=\"text-align: right;\">\n",
       "      <th></th>\n",
       "      <th>$T$ [°R]</th>\n",
       "      <th>$p$ [psi]</th>\n",
       "      <th>$x$ []</th>\n",
       "      <th>$Vol$ [ft³]</th>\n",
       "      <th>$\\dot{V}$ [m³/s]</th>\n",
       "    </tr>\n",
       "  </thead>\n",
       "  <tbody>\n",
       "    <tr>\n",
       "      <th>1</th>\n",
       "      <td>529.67</td>\n",
       "      <td>14.5038</td>\n",
       "      <td>-</td>\n",
       "      <td>-</td>\n",
       "      <td>1.41584</td>\n",
       "    </tr>\n",
       "    <tr>\n",
       "      <th>2</th>\n",
       "      <td>-</td>\n",
       "      <td>101.526</td>\n",
       "      <td>-</td>\n",
       "      <td>-</td>\n",
       "      <td>-</td>\n",
       "    </tr>\n",
       "    <tr>\n",
       "      <th>5</th>\n",
       "      <td>-</td>\n",
       "      <td>-</td>\n",
       "      <td>-</td>\n",
       "      <td>6</td>\n",
       "      <td>-</td>\n",
       "    </tr>\n",
       "    <tr>\n",
       "      <th>tank exit</th>\n",
       "      <td>-</td>\n",
       "      <td>101.526</td>\n",
       "      <td>1</td>\n",
       "      <td>-</td>\n",
       "      <td>-</td>\n",
       "    </tr>\n",
       "    <tr>\n",
       "      <th>turbine exit</th>\n",
       "      <td>-</td>\n",
       "      <td>14.5038</td>\n",
       "      <td>1</td>\n",
       "      <td>-</td>\n",
       "      <td>-</td>\n",
       "    </tr>\n",
       "  </tbody>\n",
       "</table>\n"
      ],
      "text/plain": [
       "<IPython.core.display.Markdown object>"
      ]
     },
     "metadata": {},
     "output_type": "display_data"
    }
   ],
   "source": [
    "%%showcalc\n",
    "p[1] = Quantity(100,'kPa')               # initial pressure in tank\n",
    "V_tank = Quantity(100,'L').to('m^3')     # tank volume\n",
    "p[2] = Quantity(700,'kPa')               # final pressure in tank\n",
    "p['turbine exit'] = Quantity(100,'kPa')  # pressure of fluid exiting turbine\n",
    "x['turbine exit'] = Quantity(1,'')       # quality of fluid exiting turbine\n",
    "x['tank exit'] = Quantity(1,'')       # quality of fluid exiting tank\n",
    "p['tank exit'] = p[2]                 # pressure of fluid exiting tank\n",
    "Vol[5] = 6\n",
    "Summary()"
   ]
  },
  {
   "cell_type": "code",
   "execution_count": 4,
   "metadata": {},
   "outputs": [
    {
     "name": "stdout",
     "output_type": "stream",
     "text": [
      "Call(\n",
      "  func = Attribute(\n",
      "    value = Call(\n",
      "      func = Name(\n",
      "        id = 'Quantity',\n",
      "        ctx = Load()),\n",
      "      args = [\n",
      "        Constant(\n",
      "          value = 100,\n",
      "          kind = None),\n",
      "        Constant(\n",
      "          value = 'L',\n",
      "          kind = None)],\n",
      "      keywords = []),\n",
      "    attr = 'to',\n",
      "    ctx = Load()),\n",
      "  args = [\n",
      "    Constant(\n",
      "      value = 'm^3',\n",
      "      kind = None)],\n",
      "  keywords = [])\n",
      "numeric=' '\n",
      "Attribute(\n",
      "  value = Call(\n",
      "    func = Name(\n",
      "      id = 'Quantity',\n",
      "      ctx = Load()),\n",
      "    args = [\n",
      "      Constant(\n",
      "        value = 100,\n",
      "        kind = None),\n",
      "      Constant(\n",
      "        value = 'L',\n",
      "        kind = None)],\n",
      "    keywords = []),\n",
      "  attr = 'to',\n",
      "  ctx = Load())\n",
      "numeric=' '\n",
      "Call(\n",
      "  func = Name(\n",
      "    id = 'Quantity',\n",
      "    ctx = Load()),\n",
      "  args = [\n",
      "    Constant(\n",
      "      value = 100,\n",
      "      kind = None),\n",
      "    Constant(\n",
      "      value = 'L',\n",
      "      kind = None)],\n",
      "  keywords = [])\n",
      "numeric=' '\n",
      "Processing Arg: <_ast.Constant object at 0x00000230DDD9F850>\n",
      "Constant(\n",
      "  value = 100,\n",
      "  kind = None)\n",
      "numeric=' '\n"
     ]
    },
    {
     "data": {
      "text/html": [
       "<pre style=\"white-space:pre;overflow-x:auto;line-height:normal;font-family:Menlo,'DejaVu Sans Mono',consolas,'Courier New',monospace\"><span style=\"color: #000080; text-decoration-color: #000080\">╭───────────────────────────────── </span><span style=\"color: #000080; text-decoration-color: #000080; font-weight: bold\">&lt;</span><span style=\"color: #ff00ff; text-decoration-color: #ff00ff; font-weight: bold\">class</span><span style=\"color: #000000; text-decoration-color: #000000\"> </span><span style=\"color: #008000; text-decoration-color: #008000\">'dict'</span><span style=\"color: #000080; text-decoration-color: #000080; font-weight: bold\">&gt;</span><span style=\"color: #000080; text-decoration-color: #000080\"> ─────────────────────────────────╮</span>\n",
       "<span style=\"color: #000080; text-decoration-color: #000080\">│</span> <span style=\"color: #800080; text-decoration-color: #800080; font-weight: bold\">dict</span><span style=\"color: #008080; text-decoration-color: #008080; font-weight: bold\">()</span><span style=\"color: #008080; text-decoration-color: #008080\"> -&gt; new empty dictionary</span>                                                   <span style=\"color: #000080; text-decoration-color: #000080\">│</span>\n",
       "<span style=\"color: #000080; text-decoration-color: #000080\">│</span> <span style=\"color: #800080; text-decoration-color: #800080; font-weight: bold\">dict</span><span style=\"color: #008080; text-decoration-color: #008080; font-weight: bold\">(</span><span style=\"color: #008080; text-decoration-color: #008080\">mapping</span><span style=\"color: #008080; text-decoration-color: #008080; font-weight: bold\">)</span><span style=\"color: #008080; text-decoration-color: #008080\"> -&gt; new dictionary initialized from a mapping object's</span>              <span style=\"color: #000080; text-decoration-color: #000080\">│</span>\n",
       "<span style=\"color: #000080; text-decoration-color: #000080\">│</span> <span style=\"color: #008080; text-decoration-color: #008080\">    </span><span style=\"color: #008080; text-decoration-color: #008080; font-weight: bold\">(</span><span style=\"color: #008080; text-decoration-color: #008080\">key, value</span><span style=\"color: #008080; text-decoration-color: #008080; font-weight: bold\">)</span><span style=\"color: #008080; text-decoration-color: #008080\"> pairs</span>                                                           <span style=\"color: #000080; text-decoration-color: #000080\">│</span>\n",
       "<span style=\"color: #000080; text-decoration-color: #000080\">│</span> <span style=\"color: #800080; text-decoration-color: #800080; font-weight: bold\">dict</span><span style=\"color: #008080; text-decoration-color: #008080; font-weight: bold\">(</span><span style=\"color: #008080; text-decoration-color: #008080\">iterable</span><span style=\"color: #008080; text-decoration-color: #008080; font-weight: bold\">)</span><span style=\"color: #008080; text-decoration-color: #008080\"> -&gt; new dictionary initialized as if via:</span>                          <span style=\"color: #000080; text-decoration-color: #000080\">│</span>\n",
       "<span style=\"color: #000080; text-decoration-color: #000080\">│</span> <span style=\"color: #008080; text-decoration-color: #008080\">    d = </span><span style=\"color: #008080; text-decoration-color: #008080; font-weight: bold\">{}</span>                                                                       <span style=\"color: #000080; text-decoration-color: #000080\">│</span>\n",
       "<span style=\"color: #000080; text-decoration-color: #000080\">│</span> <span style=\"color: #008080; text-decoration-color: #008080\">    for k, v in iterable:</span>                                                        <span style=\"color: #000080; text-decoration-color: #000080\">│</span>\n",
       "<span style=\"color: #000080; text-decoration-color: #000080\">│</span> <span style=\"color: #008080; text-decoration-color: #008080\">        d</span><span style=\"color: #008080; text-decoration-color: #008080; font-weight: bold\">[</span><span style=\"color: #008080; text-decoration-color: #008080\">k</span><span style=\"color: #008080; text-decoration-color: #008080; font-weight: bold\">]</span><span style=\"color: #008080; text-decoration-color: #008080\"> = v</span>                                                                 <span style=\"color: #000080; text-decoration-color: #000080\">│</span>\n",
       "<span style=\"color: #000080; text-decoration-color: #000080\">│</span> <span style=\"color: #800080; text-decoration-color: #800080; font-weight: bold\">dict</span><span style=\"color: #008080; text-decoration-color: #008080; font-weight: bold\">(</span><span style=\"color: #008080; text-decoration-color: #008080\">**kwargs</span><span style=\"color: #008080; text-decoration-color: #008080; font-weight: bold\">)</span><span style=\"color: #008080; text-decoration-color: #008080\"> -&gt; new dictionary initialized with the </span><span style=\"color: #808000; text-decoration-color: #808000\">name</span><span style=\"color: #008080; text-decoration-color: #008080\">=</span><span style=\"color: #800080; text-decoration-color: #800080\">value</span><span style=\"color: #008080; text-decoration-color: #008080\"> pairs</span>           <span style=\"color: #000080; text-decoration-color: #000080\">│</span>\n",
       "<span style=\"color: #000080; text-decoration-color: #000080\">│</span> <span style=\"color: #008080; text-decoration-color: #008080\">    in the keyword argument list.  For example:  </span><span style=\"color: #800080; text-decoration-color: #800080; font-weight: bold\">dict</span><span style=\"color: #008080; text-decoration-color: #008080; font-weight: bold\">(</span><span style=\"color: #808000; text-decoration-color: #808000\">one</span><span style=\"color: #008080; text-decoration-color: #008080\">=</span><span style=\"color: #008080; text-decoration-color: #008080; font-weight: bold\">1</span><span style=\"color: #008080; text-decoration-color: #008080\">, </span><span style=\"color: #808000; text-decoration-color: #808000\">two</span><span style=\"color: #008080; text-decoration-color: #008080\">=</span><span style=\"color: #008080; text-decoration-color: #008080; font-weight: bold\">2</span><span style=\"color: #008080; text-decoration-color: #008080; font-weight: bold\">)</span>              <span style=\"color: #000080; text-decoration-color: #000080\">│</span>\n",
       "<span style=\"color: #000080; text-decoration-color: #000080\">│</span>                                                                                  <span style=\"color: #000080; text-decoration-color: #000080\">│</span>\n",
       "<span style=\"color: #000080; text-decoration-color: #000080\">│</span> <span style=\"color: #008000; text-decoration-color: #008000\">╭──────────────────────────────────────────────────────────────────────────────╮</span> <span style=\"color: #000080; text-decoration-color: #000080\">│</span>\n",
       "<span style=\"color: #000080; text-decoration-color: #000080\">│</span> <span style=\"color: #008000; text-decoration-color: #008000\">│</span> <span style=\"font-weight: bold\">{</span><span style=\"color: #008000; text-decoration-color: #008000\">'symbolic'</span>: <span style=\"color: #008000; text-decoration-color: #008000\">'100'</span>, <span style=\"color: #008000; text-decoration-color: #008000\">'numeric'</span>: <span style=\"color: #008000; text-decoration-color: #008000\">'100'</span>, <span style=\"color: #008000; text-decoration-color: #008000\">'code'</span>: <span style=\"color: #008000; text-decoration-color: #008000\">'100'</span>, <span style=\"color: #008000; text-decoration-color: #008000\">'list'</span>: <span style=\"font-weight: bold\">[]</span>, <span style=\"color: #008000; text-decoration-color: #008000\">'dict'</span>: <span style=\"font-weight: bold\">{}}</span> <span style=\"color: #008000; text-decoration-color: #008000\">│</span> <span style=\"color: #000080; text-decoration-color: #000080\">│</span>\n",
       "<span style=\"color: #000080; text-decoration-color: #000080\">│</span> <span style=\"color: #008000; text-decoration-color: #008000\">╰──────────────────────────────────────────────────────────────────────────────╯</span> <span style=\"color: #000080; text-decoration-color: #000080\">│</span>\n",
       "<span style=\"color: #000080; text-decoration-color: #000080\">│</span>                                                                                  <span style=\"color: #000080; text-decoration-color: #000080\">│</span>\n",
       "<span style=\"color: #000080; text-decoration-color: #000080\">│</span> <span style=\"color: #008080; text-decoration-color: #008080; font-weight: bold\">30</span><span style=\"font-style: italic\"> attribute(s) not shown.</span> Run <span style=\"color: #800080; text-decoration-color: #800080; font-weight: bold\">inspect</span><span style=\"font-weight: bold\">(</span>inspect<span style=\"font-weight: bold\">)</span> for options.                     <span style=\"color: #000080; text-decoration-color: #000080\">│</span>\n",
       "<span style=\"color: #000080; text-decoration-color: #000080\">╰──────────────────────────────────────────────────────────────────────────────────╯</span>\n",
       "</pre>\n"
      ],
      "text/plain": [
       "\u001b[34m╭─\u001b[0m\u001b[34m──────────────────────────────── \u001b[0m\u001b[1;34m<\u001b[0m\u001b[1;95mclass\u001b[0m\u001b[39m \u001b[0m\u001b[32m'dict'\u001b[0m\u001b[1;34m>\u001b[0m\u001b[34m ────────────────────────────────\u001b[0m\u001b[34m─╮\u001b[0m\n",
       "\u001b[34m│\u001b[0m \u001b[1;35mdict\u001b[0m\u001b[1;36m(\u001b[0m\u001b[1;36m)\u001b[0m\u001b[36m -> new empty dictionary\u001b[0m                                                   \u001b[34m│\u001b[0m\n",
       "\u001b[34m│\u001b[0m \u001b[1;35mdict\u001b[0m\u001b[1;36m(\u001b[0m\u001b[36mmapping\u001b[0m\u001b[1;36m)\u001b[0m\u001b[36m -> new dictionary initialized from a mapping object's\u001b[0m              \u001b[34m│\u001b[0m\n",
       "\u001b[34m│\u001b[0m \u001b[36m    \u001b[0m\u001b[1;36m(\u001b[0m\u001b[36mkey, value\u001b[0m\u001b[1;36m)\u001b[0m\u001b[36m pairs\u001b[0m                                                           \u001b[34m│\u001b[0m\n",
       "\u001b[34m│\u001b[0m \u001b[1;35mdict\u001b[0m\u001b[1;36m(\u001b[0m\u001b[36miterable\u001b[0m\u001b[1;36m)\u001b[0m\u001b[36m -> new dictionary initialized as if via:\u001b[0m                          \u001b[34m│\u001b[0m\n",
       "\u001b[34m│\u001b[0m \u001b[36m    d = \u001b[0m\u001b[1;36m{\u001b[0m\u001b[1;36m}\u001b[0m                                                                       \u001b[34m│\u001b[0m\n",
       "\u001b[34m│\u001b[0m \u001b[36m    for k, v in iterable:\u001b[0m                                                        \u001b[34m│\u001b[0m\n",
       "\u001b[34m│\u001b[0m \u001b[36m        d\u001b[0m\u001b[1;36m[\u001b[0m\u001b[36mk\u001b[0m\u001b[1;36m]\u001b[0m\u001b[36m = v\u001b[0m                                                                 \u001b[34m│\u001b[0m\n",
       "\u001b[34m│\u001b[0m \u001b[1;35mdict\u001b[0m\u001b[1;36m(\u001b[0m\u001b[36m**kwargs\u001b[0m\u001b[1;36m)\u001b[0m\u001b[36m -> new dictionary initialized with the \u001b[0m\u001b[33mname\u001b[0m\u001b[36m=\u001b[0m\u001b[35mvalue\u001b[0m\u001b[36m pairs\u001b[0m           \u001b[34m│\u001b[0m\n",
       "\u001b[34m│\u001b[0m \u001b[36m    in the keyword argument list.  For example:  \u001b[0m\u001b[1;35mdict\u001b[0m\u001b[1;36m(\u001b[0m\u001b[33mone\u001b[0m\u001b[36m=\u001b[0m\u001b[1;36m1\u001b[0m\u001b[36m, \u001b[0m\u001b[33mtwo\u001b[0m\u001b[36m=\u001b[0m\u001b[1;36m2\u001b[0m\u001b[1;36m)\u001b[0m              \u001b[34m│\u001b[0m\n",
       "\u001b[34m│\u001b[0m                                                                                  \u001b[34m│\u001b[0m\n",
       "\u001b[34m│\u001b[0m \u001b[32m╭──────────────────────────────────────────────────────────────────────────────╮\u001b[0m \u001b[34m│\u001b[0m\n",
       "\u001b[34m│\u001b[0m \u001b[32m│\u001b[0m \u001b[1m{\u001b[0m\u001b[32m'symbolic'\u001b[0m: \u001b[32m'100'\u001b[0m, \u001b[32m'numeric'\u001b[0m: \u001b[32m'100'\u001b[0m, \u001b[32m'code'\u001b[0m: \u001b[32m'100'\u001b[0m, \u001b[32m'list'\u001b[0m: \u001b[1m[\u001b[0m\u001b[1m]\u001b[0m, \u001b[32m'dict'\u001b[0m: \u001b[1m{\u001b[0m\u001b[1m}\u001b[0m\u001b[1m}\u001b[0m \u001b[32m│\u001b[0m \u001b[34m│\u001b[0m\n",
       "\u001b[34m│\u001b[0m \u001b[32m╰──────────────────────────────────────────────────────────────────────────────╯\u001b[0m \u001b[34m│\u001b[0m\n",
       "\u001b[34m│\u001b[0m                                                                                  \u001b[34m│\u001b[0m\n",
       "\u001b[34m│\u001b[0m \u001b[1;36m30\u001b[0m\u001b[3m attribute(s) not shown.\u001b[0m Run \u001b[1;35minspect\u001b[0m\u001b[1m(\u001b[0minspect\u001b[1m)\u001b[0m for options.                     \u001b[34m│\u001b[0m\n",
       "\u001b[34m╰──────────────────────────────────────────────────────────────────────────────────╯\u001b[0m\n"
      ]
     },
     "metadata": {},
     "output_type": "display_data"
    },
    {
     "name": "stdout",
     "output_type": "stream",
     "text": [
      "Processing Arg: <_ast.Constant object at 0x00000230DDD9F790>\n",
      "Constant(\n",
      "  value = 'L',\n",
      "  kind = None)\n",
      "numeric=' '\n"
     ]
    },
    {
     "data": {
      "text/html": [
       "<pre style=\"white-space:pre;overflow-x:auto;line-height:normal;font-family:Menlo,'DejaVu Sans Mono',consolas,'Courier New',monospace\"><span style=\"color: #000080; text-decoration-color: #000080\">╭─────────────────────────────── </span><span style=\"color: #000080; text-decoration-color: #000080; font-weight: bold\">&lt;</span><span style=\"color: #ff00ff; text-decoration-color: #ff00ff; font-weight: bold\">class</span><span style=\"color: #000000; text-decoration-color: #000000\"> </span><span style=\"color: #008000; text-decoration-color: #008000\">'dict'</span><span style=\"color: #000080; text-decoration-color: #000080; font-weight: bold\">&gt;</span><span style=\"color: #000080; text-decoration-color: #000080\"> ───────────────────────────────╮</span>\n",
       "<span style=\"color: #000080; text-decoration-color: #000080\">│</span> <span style=\"color: #800080; text-decoration-color: #800080; font-weight: bold\">dict</span><span style=\"color: #008080; text-decoration-color: #008080; font-weight: bold\">()</span><span style=\"color: #008080; text-decoration-color: #008080\"> -&gt; new empty dictionary</span>                                               <span style=\"color: #000080; text-decoration-color: #000080\">│</span>\n",
       "<span style=\"color: #000080; text-decoration-color: #000080\">│</span> <span style=\"color: #800080; text-decoration-color: #800080; font-weight: bold\">dict</span><span style=\"color: #008080; text-decoration-color: #008080; font-weight: bold\">(</span><span style=\"color: #008080; text-decoration-color: #008080\">mapping</span><span style=\"color: #008080; text-decoration-color: #008080; font-weight: bold\">)</span><span style=\"color: #008080; text-decoration-color: #008080\"> -&gt; new dictionary initialized from a mapping object's</span>          <span style=\"color: #000080; text-decoration-color: #000080\">│</span>\n",
       "<span style=\"color: #000080; text-decoration-color: #000080\">│</span> <span style=\"color: #008080; text-decoration-color: #008080\">    </span><span style=\"color: #008080; text-decoration-color: #008080; font-weight: bold\">(</span><span style=\"color: #008080; text-decoration-color: #008080\">key, value</span><span style=\"color: #008080; text-decoration-color: #008080; font-weight: bold\">)</span><span style=\"color: #008080; text-decoration-color: #008080\"> pairs</span>                                                       <span style=\"color: #000080; text-decoration-color: #000080\">│</span>\n",
       "<span style=\"color: #000080; text-decoration-color: #000080\">│</span> <span style=\"color: #800080; text-decoration-color: #800080; font-weight: bold\">dict</span><span style=\"color: #008080; text-decoration-color: #008080; font-weight: bold\">(</span><span style=\"color: #008080; text-decoration-color: #008080\">iterable</span><span style=\"color: #008080; text-decoration-color: #008080; font-weight: bold\">)</span><span style=\"color: #008080; text-decoration-color: #008080\"> -&gt; new dictionary initialized as if via:</span>                      <span style=\"color: #000080; text-decoration-color: #000080\">│</span>\n",
       "<span style=\"color: #000080; text-decoration-color: #000080\">│</span> <span style=\"color: #008080; text-decoration-color: #008080\">    d = </span><span style=\"color: #008080; text-decoration-color: #008080; font-weight: bold\">{}</span>                                                                   <span style=\"color: #000080; text-decoration-color: #000080\">│</span>\n",
       "<span style=\"color: #000080; text-decoration-color: #000080\">│</span> <span style=\"color: #008080; text-decoration-color: #008080\">    for k, v in iterable:</span>                                                    <span style=\"color: #000080; text-decoration-color: #000080\">│</span>\n",
       "<span style=\"color: #000080; text-decoration-color: #000080\">│</span> <span style=\"color: #008080; text-decoration-color: #008080\">        d</span><span style=\"color: #008080; text-decoration-color: #008080; font-weight: bold\">[</span><span style=\"color: #008080; text-decoration-color: #008080\">k</span><span style=\"color: #008080; text-decoration-color: #008080; font-weight: bold\">]</span><span style=\"color: #008080; text-decoration-color: #008080\"> = v</span>                                                             <span style=\"color: #000080; text-decoration-color: #000080\">│</span>\n",
       "<span style=\"color: #000080; text-decoration-color: #000080\">│</span> <span style=\"color: #800080; text-decoration-color: #800080; font-weight: bold\">dict</span><span style=\"color: #008080; text-decoration-color: #008080; font-weight: bold\">(</span><span style=\"color: #008080; text-decoration-color: #008080\">**kwargs</span><span style=\"color: #008080; text-decoration-color: #008080; font-weight: bold\">)</span><span style=\"color: #008080; text-decoration-color: #008080\"> -&gt; new dictionary initialized with the </span><span style=\"color: #808000; text-decoration-color: #808000\">name</span><span style=\"color: #008080; text-decoration-color: #008080\">=</span><span style=\"color: #800080; text-decoration-color: #800080\">value</span><span style=\"color: #008080; text-decoration-color: #008080\"> pairs</span>       <span style=\"color: #000080; text-decoration-color: #000080\">│</span>\n",
       "<span style=\"color: #000080; text-decoration-color: #000080\">│</span> <span style=\"color: #008080; text-decoration-color: #008080\">    in the keyword argument list.  For example:  </span><span style=\"color: #800080; text-decoration-color: #800080; font-weight: bold\">dict</span><span style=\"color: #008080; text-decoration-color: #008080; font-weight: bold\">(</span><span style=\"color: #808000; text-decoration-color: #808000\">one</span><span style=\"color: #008080; text-decoration-color: #008080\">=</span><span style=\"color: #008080; text-decoration-color: #008080; font-weight: bold\">1</span><span style=\"color: #008080; text-decoration-color: #008080\">, </span><span style=\"color: #808000; text-decoration-color: #808000\">two</span><span style=\"color: #008080; text-decoration-color: #008080\">=</span><span style=\"color: #008080; text-decoration-color: #008080; font-weight: bold\">2</span><span style=\"color: #008080; text-decoration-color: #008080; font-weight: bold\">)</span>          <span style=\"color: #000080; text-decoration-color: #000080\">│</span>\n",
       "<span style=\"color: #000080; text-decoration-color: #000080\">│</span>                                                                              <span style=\"color: #000080; text-decoration-color: #000080\">│</span>\n",
       "<span style=\"color: #000080; text-decoration-color: #000080\">│</span> <span style=\"color: #008000; text-decoration-color: #008000\">╭──────────────────────────────────────────────────────────────────────────╮</span> <span style=\"color: #000080; text-decoration-color: #000080\">│</span>\n",
       "<span style=\"color: #000080; text-decoration-color: #000080\">│</span> <span style=\"color: #008000; text-decoration-color: #008000\">│</span> <span style=\"font-weight: bold\">{</span><span style=\"color: #008000; text-decoration-color: #008000\">'symbolic'</span>: <span style=\"color: #008000; text-decoration-color: #008000\">'L'</span>, <span style=\"color: #008000; text-decoration-color: #008000\">'numeric'</span>: <span style=\"color: #008000; text-decoration-color: #008000\">'L'</span>, <span style=\"color: #008000; text-decoration-color: #008000\">'code'</span>: <span style=\"color: #008000; text-decoration-color: #008000\">\"'L'\"</span>, <span style=\"color: #008000; text-decoration-color: #008000\">'list'</span>: <span style=\"font-weight: bold\">[]</span>, <span style=\"color: #008000; text-decoration-color: #008000\">'dict'</span>: <span style=\"font-weight: bold\">{}}</span> <span style=\"color: #008000; text-decoration-color: #008000\">│</span> <span style=\"color: #000080; text-decoration-color: #000080\">│</span>\n",
       "<span style=\"color: #000080; text-decoration-color: #000080\">│</span> <span style=\"color: #008000; text-decoration-color: #008000\">╰──────────────────────────────────────────────────────────────────────────╯</span> <span style=\"color: #000080; text-decoration-color: #000080\">│</span>\n",
       "<span style=\"color: #000080; text-decoration-color: #000080\">│</span>                                                                              <span style=\"color: #000080; text-decoration-color: #000080\">│</span>\n",
       "<span style=\"color: #000080; text-decoration-color: #000080\">│</span> <span style=\"color: #008080; text-decoration-color: #008080; font-weight: bold\">30</span><span style=\"font-style: italic\"> attribute(s) not shown.</span> Run <span style=\"color: #800080; text-decoration-color: #800080; font-weight: bold\">inspect</span><span style=\"font-weight: bold\">(</span>inspect<span style=\"font-weight: bold\">)</span> for options.                 <span style=\"color: #000080; text-decoration-color: #000080\">│</span>\n",
       "<span style=\"color: #000080; text-decoration-color: #000080\">╰──────────────────────────────────────────────────────────────────────────────╯</span>\n",
       "</pre>\n"
      ],
      "text/plain": [
       "\u001b[34m╭─\u001b[0m\u001b[34m────────────────────────────── \u001b[0m\u001b[1;34m<\u001b[0m\u001b[1;95mclass\u001b[0m\u001b[39m \u001b[0m\u001b[32m'dict'\u001b[0m\u001b[1;34m>\u001b[0m\u001b[34m ──────────────────────────────\u001b[0m\u001b[34m─╮\u001b[0m\n",
       "\u001b[34m│\u001b[0m \u001b[1;35mdict\u001b[0m\u001b[1;36m(\u001b[0m\u001b[1;36m)\u001b[0m\u001b[36m -> new empty dictionary\u001b[0m                                               \u001b[34m│\u001b[0m\n",
       "\u001b[34m│\u001b[0m \u001b[1;35mdict\u001b[0m\u001b[1;36m(\u001b[0m\u001b[36mmapping\u001b[0m\u001b[1;36m)\u001b[0m\u001b[36m -> new dictionary initialized from a mapping object's\u001b[0m          \u001b[34m│\u001b[0m\n",
       "\u001b[34m│\u001b[0m \u001b[36m    \u001b[0m\u001b[1;36m(\u001b[0m\u001b[36mkey, value\u001b[0m\u001b[1;36m)\u001b[0m\u001b[36m pairs\u001b[0m                                                       \u001b[34m│\u001b[0m\n",
       "\u001b[34m│\u001b[0m \u001b[1;35mdict\u001b[0m\u001b[1;36m(\u001b[0m\u001b[36miterable\u001b[0m\u001b[1;36m)\u001b[0m\u001b[36m -> new dictionary initialized as if via:\u001b[0m                      \u001b[34m│\u001b[0m\n",
       "\u001b[34m│\u001b[0m \u001b[36m    d = \u001b[0m\u001b[1;36m{\u001b[0m\u001b[1;36m}\u001b[0m                                                                   \u001b[34m│\u001b[0m\n",
       "\u001b[34m│\u001b[0m \u001b[36m    for k, v in iterable:\u001b[0m                                                    \u001b[34m│\u001b[0m\n",
       "\u001b[34m│\u001b[0m \u001b[36m        d\u001b[0m\u001b[1;36m[\u001b[0m\u001b[36mk\u001b[0m\u001b[1;36m]\u001b[0m\u001b[36m = v\u001b[0m                                                             \u001b[34m│\u001b[0m\n",
       "\u001b[34m│\u001b[0m \u001b[1;35mdict\u001b[0m\u001b[1;36m(\u001b[0m\u001b[36m**kwargs\u001b[0m\u001b[1;36m)\u001b[0m\u001b[36m -> new dictionary initialized with the \u001b[0m\u001b[33mname\u001b[0m\u001b[36m=\u001b[0m\u001b[35mvalue\u001b[0m\u001b[36m pairs\u001b[0m       \u001b[34m│\u001b[0m\n",
       "\u001b[34m│\u001b[0m \u001b[36m    in the keyword argument list.  For example:  \u001b[0m\u001b[1;35mdict\u001b[0m\u001b[1;36m(\u001b[0m\u001b[33mone\u001b[0m\u001b[36m=\u001b[0m\u001b[1;36m1\u001b[0m\u001b[36m, \u001b[0m\u001b[33mtwo\u001b[0m\u001b[36m=\u001b[0m\u001b[1;36m2\u001b[0m\u001b[1;36m)\u001b[0m          \u001b[34m│\u001b[0m\n",
       "\u001b[34m│\u001b[0m                                                                              \u001b[34m│\u001b[0m\n",
       "\u001b[34m│\u001b[0m \u001b[32m╭──────────────────────────────────────────────────────────────────────────╮\u001b[0m \u001b[34m│\u001b[0m\n",
       "\u001b[34m│\u001b[0m \u001b[32m│\u001b[0m \u001b[1m{\u001b[0m\u001b[32m'symbolic'\u001b[0m: \u001b[32m'L'\u001b[0m, \u001b[32m'numeric'\u001b[0m: \u001b[32m'L'\u001b[0m, \u001b[32m'code'\u001b[0m: \u001b[32m\"'L'\"\u001b[0m, \u001b[32m'list'\u001b[0m: \u001b[1m[\u001b[0m\u001b[1m]\u001b[0m, \u001b[32m'dict'\u001b[0m: \u001b[1m{\u001b[0m\u001b[1m}\u001b[0m\u001b[1m}\u001b[0m \u001b[32m│\u001b[0m \u001b[34m│\u001b[0m\n",
       "\u001b[34m│\u001b[0m \u001b[32m╰──────────────────────────────────────────────────────────────────────────╯\u001b[0m \u001b[34m│\u001b[0m\n",
       "\u001b[34m│\u001b[0m                                                                              \u001b[34m│\u001b[0m\n",
       "\u001b[34m│\u001b[0m \u001b[1;36m30\u001b[0m\u001b[3m attribute(s) not shown.\u001b[0m Run \u001b[1;35minspect\u001b[0m\u001b[1m(\u001b[0minspect\u001b[1m)\u001b[0m for options.                 \u001b[34m│\u001b[0m\n",
       "\u001b[34m╰──────────────────────────────────────────────────────────────────────────────╯\u001b[0m\n"
      ]
     },
     "metadata": {},
     "output_type": "display_data"
    },
    {
     "name": "stdout",
     "output_type": "stream",
     "text": [
      "Processing Quantity: Quantity(100, 'L')\n",
      "      node.args=[<_ast.Constant object at 0x00000230DDD9F850>, <_ast.Constant object at 0x00000230DDD9F790>]\n",
      "to_numeric: Quantity(100, 'L')\n",
      "Processing Arg: <_ast.Constant object at 0x00000230DDD9F4C0>\n",
      "Constant(\n",
      "  value = 'm^3',\n",
      "  kind = None)\n",
      "numeric=' '\n"
     ]
    },
    {
     "data": {
      "text/html": [
       "<pre style=\"white-space:pre;overflow-x:auto;line-height:normal;font-family:Menlo,'DejaVu Sans Mono',consolas,'Courier New',monospace\"><span style=\"color: #000080; text-decoration-color: #000080\">╭────────────────────────────────── </span><span style=\"color: #000080; text-decoration-color: #000080; font-weight: bold\">&lt;</span><span style=\"color: #ff00ff; text-decoration-color: #ff00ff; font-weight: bold\">class</span><span style=\"color: #000000; text-decoration-color: #000000\"> </span><span style=\"color: #008000; text-decoration-color: #008000\">'dict'</span><span style=\"color: #000080; text-decoration-color: #000080; font-weight: bold\">&gt;</span><span style=\"color: #000080; text-decoration-color: #000080\"> ──────────────────────────────────╮</span>\n",
       "<span style=\"color: #000080; text-decoration-color: #000080\">│</span> <span style=\"color: #800080; text-decoration-color: #800080; font-weight: bold\">dict</span><span style=\"color: #008080; text-decoration-color: #008080; font-weight: bold\">()</span><span style=\"color: #008080; text-decoration-color: #008080\"> -&gt; new empty dictionary</span>                                                     <span style=\"color: #000080; text-decoration-color: #000080\">│</span>\n",
       "<span style=\"color: #000080; text-decoration-color: #000080\">│</span> <span style=\"color: #800080; text-decoration-color: #800080; font-weight: bold\">dict</span><span style=\"color: #008080; text-decoration-color: #008080; font-weight: bold\">(</span><span style=\"color: #008080; text-decoration-color: #008080\">mapping</span><span style=\"color: #008080; text-decoration-color: #008080; font-weight: bold\">)</span><span style=\"color: #008080; text-decoration-color: #008080\"> -&gt; new dictionary initialized from a mapping object's</span>                <span style=\"color: #000080; text-decoration-color: #000080\">│</span>\n",
       "<span style=\"color: #000080; text-decoration-color: #000080\">│</span> <span style=\"color: #008080; text-decoration-color: #008080\">    </span><span style=\"color: #008080; text-decoration-color: #008080; font-weight: bold\">(</span><span style=\"color: #008080; text-decoration-color: #008080\">key, value</span><span style=\"color: #008080; text-decoration-color: #008080; font-weight: bold\">)</span><span style=\"color: #008080; text-decoration-color: #008080\"> pairs</span>                                                             <span style=\"color: #000080; text-decoration-color: #000080\">│</span>\n",
       "<span style=\"color: #000080; text-decoration-color: #000080\">│</span> <span style=\"color: #800080; text-decoration-color: #800080; font-weight: bold\">dict</span><span style=\"color: #008080; text-decoration-color: #008080; font-weight: bold\">(</span><span style=\"color: #008080; text-decoration-color: #008080\">iterable</span><span style=\"color: #008080; text-decoration-color: #008080; font-weight: bold\">)</span><span style=\"color: #008080; text-decoration-color: #008080\"> -&gt; new dictionary initialized as if via:</span>                            <span style=\"color: #000080; text-decoration-color: #000080\">│</span>\n",
       "<span style=\"color: #000080; text-decoration-color: #000080\">│</span> <span style=\"color: #008080; text-decoration-color: #008080\">    d = </span><span style=\"color: #008080; text-decoration-color: #008080; font-weight: bold\">{}</span>                                                                         <span style=\"color: #000080; text-decoration-color: #000080\">│</span>\n",
       "<span style=\"color: #000080; text-decoration-color: #000080\">│</span> <span style=\"color: #008080; text-decoration-color: #008080\">    for k, v in iterable:</span>                                                          <span style=\"color: #000080; text-decoration-color: #000080\">│</span>\n",
       "<span style=\"color: #000080; text-decoration-color: #000080\">│</span> <span style=\"color: #008080; text-decoration-color: #008080\">        d</span><span style=\"color: #008080; text-decoration-color: #008080; font-weight: bold\">[</span><span style=\"color: #008080; text-decoration-color: #008080\">k</span><span style=\"color: #008080; text-decoration-color: #008080; font-weight: bold\">]</span><span style=\"color: #008080; text-decoration-color: #008080\"> = v</span>                                                                   <span style=\"color: #000080; text-decoration-color: #000080\">│</span>\n",
       "<span style=\"color: #000080; text-decoration-color: #000080\">│</span> <span style=\"color: #800080; text-decoration-color: #800080; font-weight: bold\">dict</span><span style=\"color: #008080; text-decoration-color: #008080; font-weight: bold\">(</span><span style=\"color: #008080; text-decoration-color: #008080\">**kwargs</span><span style=\"color: #008080; text-decoration-color: #008080; font-weight: bold\">)</span><span style=\"color: #008080; text-decoration-color: #008080\"> -&gt; new dictionary initialized with the </span><span style=\"color: #808000; text-decoration-color: #808000\">name</span><span style=\"color: #008080; text-decoration-color: #008080\">=</span><span style=\"color: #800080; text-decoration-color: #800080\">value</span><span style=\"color: #008080; text-decoration-color: #008080\"> pairs</span>             <span style=\"color: #000080; text-decoration-color: #000080\">│</span>\n",
       "<span style=\"color: #000080; text-decoration-color: #000080\">│</span> <span style=\"color: #008080; text-decoration-color: #008080\">    in the keyword argument list.  For example:  </span><span style=\"color: #800080; text-decoration-color: #800080; font-weight: bold\">dict</span><span style=\"color: #008080; text-decoration-color: #008080; font-weight: bold\">(</span><span style=\"color: #808000; text-decoration-color: #808000\">one</span><span style=\"color: #008080; text-decoration-color: #008080\">=</span><span style=\"color: #008080; text-decoration-color: #008080; font-weight: bold\">1</span><span style=\"color: #008080; text-decoration-color: #008080\">, </span><span style=\"color: #808000; text-decoration-color: #808000\">two</span><span style=\"color: #008080; text-decoration-color: #008080\">=</span><span style=\"color: #008080; text-decoration-color: #008080; font-weight: bold\">2</span><span style=\"color: #008080; text-decoration-color: #008080; font-weight: bold\">)</span>                <span style=\"color: #000080; text-decoration-color: #000080\">│</span>\n",
       "<span style=\"color: #000080; text-decoration-color: #000080\">│</span>                                                                                    <span style=\"color: #000080; text-decoration-color: #000080\">│</span>\n",
       "<span style=\"color: #000080; text-decoration-color: #000080\">│</span> <span style=\"color: #008000; text-decoration-color: #008000\">╭────────────────────────────────────────────────────────────────────────────────╮</span> <span style=\"color: #000080; text-decoration-color: #000080\">│</span>\n",
       "<span style=\"color: #000080; text-decoration-color: #000080\">│</span> <span style=\"color: #008000; text-decoration-color: #008000\">│</span> <span style=\"font-weight: bold\">{</span><span style=\"color: #008000; text-decoration-color: #008000\">'symbolic'</span>: <span style=\"color: #008000; text-decoration-color: #008000\">'m^3'</span>, <span style=\"color: #008000; text-decoration-color: #008000\">'numeric'</span>: <span style=\"color: #008000; text-decoration-color: #008000\">'m^3'</span>, <span style=\"color: #008000; text-decoration-color: #008000\">'code'</span>: <span style=\"color: #008000; text-decoration-color: #008000\">\"'m^3'\"</span>, <span style=\"color: #008000; text-decoration-color: #008000\">'list'</span>: <span style=\"font-weight: bold\">[]</span>, <span style=\"color: #008000; text-decoration-color: #008000\">'dict'</span>: <span style=\"font-weight: bold\">{}}</span> <span style=\"color: #008000; text-decoration-color: #008000\">│</span> <span style=\"color: #000080; text-decoration-color: #000080\">│</span>\n",
       "<span style=\"color: #000080; text-decoration-color: #000080\">│</span> <span style=\"color: #008000; text-decoration-color: #008000\">╰────────────────────────────────────────────────────────────────────────────────╯</span> <span style=\"color: #000080; text-decoration-color: #000080\">│</span>\n",
       "<span style=\"color: #000080; text-decoration-color: #000080\">│</span>                                                                                    <span style=\"color: #000080; text-decoration-color: #000080\">│</span>\n",
       "<span style=\"color: #000080; text-decoration-color: #000080\">│</span> <span style=\"color: #008080; text-decoration-color: #008080; font-weight: bold\">30</span><span style=\"font-style: italic\"> attribute(s) not shown.</span> Run <span style=\"color: #800080; text-decoration-color: #800080; font-weight: bold\">inspect</span><span style=\"font-weight: bold\">(</span>inspect<span style=\"font-weight: bold\">)</span> for options.                       <span style=\"color: #000080; text-decoration-color: #000080\">│</span>\n",
       "<span style=\"color: #000080; text-decoration-color: #000080\">╰────────────────────────────────────────────────────────────────────────────────────╯</span>\n",
       "</pre>\n"
      ],
      "text/plain": [
       "\u001b[34m╭─\u001b[0m\u001b[34m───────────────────────────────── \u001b[0m\u001b[1;34m<\u001b[0m\u001b[1;95mclass\u001b[0m\u001b[39m \u001b[0m\u001b[32m'dict'\u001b[0m\u001b[1;34m>\u001b[0m\u001b[34m ─────────────────────────────────\u001b[0m\u001b[34m─╮\u001b[0m\n",
       "\u001b[34m│\u001b[0m \u001b[1;35mdict\u001b[0m\u001b[1;36m(\u001b[0m\u001b[1;36m)\u001b[0m\u001b[36m -> new empty dictionary\u001b[0m                                                     \u001b[34m│\u001b[0m\n",
       "\u001b[34m│\u001b[0m \u001b[1;35mdict\u001b[0m\u001b[1;36m(\u001b[0m\u001b[36mmapping\u001b[0m\u001b[1;36m)\u001b[0m\u001b[36m -> new dictionary initialized from a mapping object's\u001b[0m                \u001b[34m│\u001b[0m\n",
       "\u001b[34m│\u001b[0m \u001b[36m    \u001b[0m\u001b[1;36m(\u001b[0m\u001b[36mkey, value\u001b[0m\u001b[1;36m)\u001b[0m\u001b[36m pairs\u001b[0m                                                             \u001b[34m│\u001b[0m\n",
       "\u001b[34m│\u001b[0m \u001b[1;35mdict\u001b[0m\u001b[1;36m(\u001b[0m\u001b[36miterable\u001b[0m\u001b[1;36m)\u001b[0m\u001b[36m -> new dictionary initialized as if via:\u001b[0m                            \u001b[34m│\u001b[0m\n",
       "\u001b[34m│\u001b[0m \u001b[36m    d = \u001b[0m\u001b[1;36m{\u001b[0m\u001b[1;36m}\u001b[0m                                                                         \u001b[34m│\u001b[0m\n",
       "\u001b[34m│\u001b[0m \u001b[36m    for k, v in iterable:\u001b[0m                                                          \u001b[34m│\u001b[0m\n",
       "\u001b[34m│\u001b[0m \u001b[36m        d\u001b[0m\u001b[1;36m[\u001b[0m\u001b[36mk\u001b[0m\u001b[1;36m]\u001b[0m\u001b[36m = v\u001b[0m                                                                   \u001b[34m│\u001b[0m\n",
       "\u001b[34m│\u001b[0m \u001b[1;35mdict\u001b[0m\u001b[1;36m(\u001b[0m\u001b[36m**kwargs\u001b[0m\u001b[1;36m)\u001b[0m\u001b[36m -> new dictionary initialized with the \u001b[0m\u001b[33mname\u001b[0m\u001b[36m=\u001b[0m\u001b[35mvalue\u001b[0m\u001b[36m pairs\u001b[0m             \u001b[34m│\u001b[0m\n",
       "\u001b[34m│\u001b[0m \u001b[36m    in the keyword argument list.  For example:  \u001b[0m\u001b[1;35mdict\u001b[0m\u001b[1;36m(\u001b[0m\u001b[33mone\u001b[0m\u001b[36m=\u001b[0m\u001b[1;36m1\u001b[0m\u001b[36m, \u001b[0m\u001b[33mtwo\u001b[0m\u001b[36m=\u001b[0m\u001b[1;36m2\u001b[0m\u001b[1;36m)\u001b[0m                \u001b[34m│\u001b[0m\n",
       "\u001b[34m│\u001b[0m                                                                                    \u001b[34m│\u001b[0m\n",
       "\u001b[34m│\u001b[0m \u001b[32m╭────────────────────────────────────────────────────────────────────────────────╮\u001b[0m \u001b[34m│\u001b[0m\n",
       "\u001b[34m│\u001b[0m \u001b[32m│\u001b[0m \u001b[1m{\u001b[0m\u001b[32m'symbolic'\u001b[0m: \u001b[32m'm^3'\u001b[0m, \u001b[32m'numeric'\u001b[0m: \u001b[32m'm^3'\u001b[0m, \u001b[32m'code'\u001b[0m: \u001b[32m\"'m^3'\"\u001b[0m, \u001b[32m'list'\u001b[0m: \u001b[1m[\u001b[0m\u001b[1m]\u001b[0m, \u001b[32m'dict'\u001b[0m: \u001b[1m{\u001b[0m\u001b[1m}\u001b[0m\u001b[1m}\u001b[0m \u001b[32m│\u001b[0m \u001b[34m│\u001b[0m\n",
       "\u001b[34m│\u001b[0m \u001b[32m╰────────────────────────────────────────────────────────────────────────────────╯\u001b[0m \u001b[34m│\u001b[0m\n",
       "\u001b[34m│\u001b[0m                                                                                    \u001b[34m│\u001b[0m\n",
       "\u001b[34m│\u001b[0m \u001b[1;36m30\u001b[0m\u001b[3m attribute(s) not shown.\u001b[0m Run \u001b[1;35minspect\u001b[0m\u001b[1m(\u001b[0minspect\u001b[1m)\u001b[0m for options.                       \u001b[34m│\u001b[0m\n",
       "\u001b[34m╰────────────────────────────────────────────────────────────────────────────────────╯\u001b[0m\n"
      ]
     },
     "metadata": {},
     "output_type": "display_data"
    },
    {
     "name": "stdout",
     "output_type": "stream",
     "text": [
      "Call(\n",
      "  func = Name(\n",
      "    id = 'Quantity',\n",
      "    ctx = Load()),\n",
      "  args = [\n",
      "    Constant(\n",
      "      value = 100,\n",
      "      kind = None),\n",
      "    Constant(\n",
      "      value = 'L',\n",
      "      kind = None)],\n",
      "  keywords = [])\n",
      "numeric=' '\n",
      "Processing Arg: <_ast.Constant object at 0x00000230DDD9F850>\n",
      "Constant(\n",
      "  value = 100,\n",
      "  kind = None)\n",
      "numeric=' '\n"
     ]
    },
    {
     "data": {
      "text/html": [
       "<pre style=\"white-space:pre;overflow-x:auto;line-height:normal;font-family:Menlo,'DejaVu Sans Mono',consolas,'Courier New',monospace\"><span style=\"color: #000080; text-decoration-color: #000080\">╭───────────────────────────────── </span><span style=\"color: #000080; text-decoration-color: #000080; font-weight: bold\">&lt;</span><span style=\"color: #ff00ff; text-decoration-color: #ff00ff; font-weight: bold\">class</span><span style=\"color: #000000; text-decoration-color: #000000\"> </span><span style=\"color: #008000; text-decoration-color: #008000\">'dict'</span><span style=\"color: #000080; text-decoration-color: #000080; font-weight: bold\">&gt;</span><span style=\"color: #000080; text-decoration-color: #000080\"> ─────────────────────────────────╮</span>\n",
       "<span style=\"color: #000080; text-decoration-color: #000080\">│</span> <span style=\"color: #800080; text-decoration-color: #800080; font-weight: bold\">dict</span><span style=\"color: #008080; text-decoration-color: #008080; font-weight: bold\">()</span><span style=\"color: #008080; text-decoration-color: #008080\"> -&gt; new empty dictionary</span>                                                   <span style=\"color: #000080; text-decoration-color: #000080\">│</span>\n",
       "<span style=\"color: #000080; text-decoration-color: #000080\">│</span> <span style=\"color: #800080; text-decoration-color: #800080; font-weight: bold\">dict</span><span style=\"color: #008080; text-decoration-color: #008080; font-weight: bold\">(</span><span style=\"color: #008080; text-decoration-color: #008080\">mapping</span><span style=\"color: #008080; text-decoration-color: #008080; font-weight: bold\">)</span><span style=\"color: #008080; text-decoration-color: #008080\"> -&gt; new dictionary initialized from a mapping object's</span>              <span style=\"color: #000080; text-decoration-color: #000080\">│</span>\n",
       "<span style=\"color: #000080; text-decoration-color: #000080\">│</span> <span style=\"color: #008080; text-decoration-color: #008080\">    </span><span style=\"color: #008080; text-decoration-color: #008080; font-weight: bold\">(</span><span style=\"color: #008080; text-decoration-color: #008080\">key, value</span><span style=\"color: #008080; text-decoration-color: #008080; font-weight: bold\">)</span><span style=\"color: #008080; text-decoration-color: #008080\"> pairs</span>                                                           <span style=\"color: #000080; text-decoration-color: #000080\">│</span>\n",
       "<span style=\"color: #000080; text-decoration-color: #000080\">│</span> <span style=\"color: #800080; text-decoration-color: #800080; font-weight: bold\">dict</span><span style=\"color: #008080; text-decoration-color: #008080; font-weight: bold\">(</span><span style=\"color: #008080; text-decoration-color: #008080\">iterable</span><span style=\"color: #008080; text-decoration-color: #008080; font-weight: bold\">)</span><span style=\"color: #008080; text-decoration-color: #008080\"> -&gt; new dictionary initialized as if via:</span>                          <span style=\"color: #000080; text-decoration-color: #000080\">│</span>\n",
       "<span style=\"color: #000080; text-decoration-color: #000080\">│</span> <span style=\"color: #008080; text-decoration-color: #008080\">    d = </span><span style=\"color: #008080; text-decoration-color: #008080; font-weight: bold\">{}</span>                                                                       <span style=\"color: #000080; text-decoration-color: #000080\">│</span>\n",
       "<span style=\"color: #000080; text-decoration-color: #000080\">│</span> <span style=\"color: #008080; text-decoration-color: #008080\">    for k, v in iterable:</span>                                                        <span style=\"color: #000080; text-decoration-color: #000080\">│</span>\n",
       "<span style=\"color: #000080; text-decoration-color: #000080\">│</span> <span style=\"color: #008080; text-decoration-color: #008080\">        d</span><span style=\"color: #008080; text-decoration-color: #008080; font-weight: bold\">[</span><span style=\"color: #008080; text-decoration-color: #008080\">k</span><span style=\"color: #008080; text-decoration-color: #008080; font-weight: bold\">]</span><span style=\"color: #008080; text-decoration-color: #008080\"> = v</span>                                                                 <span style=\"color: #000080; text-decoration-color: #000080\">│</span>\n",
       "<span style=\"color: #000080; text-decoration-color: #000080\">│</span> <span style=\"color: #800080; text-decoration-color: #800080; font-weight: bold\">dict</span><span style=\"color: #008080; text-decoration-color: #008080; font-weight: bold\">(</span><span style=\"color: #008080; text-decoration-color: #008080\">**kwargs</span><span style=\"color: #008080; text-decoration-color: #008080; font-weight: bold\">)</span><span style=\"color: #008080; text-decoration-color: #008080\"> -&gt; new dictionary initialized with the </span><span style=\"color: #808000; text-decoration-color: #808000\">name</span><span style=\"color: #008080; text-decoration-color: #008080\">=</span><span style=\"color: #800080; text-decoration-color: #800080\">value</span><span style=\"color: #008080; text-decoration-color: #008080\"> pairs</span>           <span style=\"color: #000080; text-decoration-color: #000080\">│</span>\n",
       "<span style=\"color: #000080; text-decoration-color: #000080\">│</span> <span style=\"color: #008080; text-decoration-color: #008080\">    in the keyword argument list.  For example:  </span><span style=\"color: #800080; text-decoration-color: #800080; font-weight: bold\">dict</span><span style=\"color: #008080; text-decoration-color: #008080; font-weight: bold\">(</span><span style=\"color: #808000; text-decoration-color: #808000\">one</span><span style=\"color: #008080; text-decoration-color: #008080\">=</span><span style=\"color: #008080; text-decoration-color: #008080; font-weight: bold\">1</span><span style=\"color: #008080; text-decoration-color: #008080\">, </span><span style=\"color: #808000; text-decoration-color: #808000\">two</span><span style=\"color: #008080; text-decoration-color: #008080\">=</span><span style=\"color: #008080; text-decoration-color: #008080; font-weight: bold\">2</span><span style=\"color: #008080; text-decoration-color: #008080; font-weight: bold\">)</span>              <span style=\"color: #000080; text-decoration-color: #000080\">│</span>\n",
       "<span style=\"color: #000080; text-decoration-color: #000080\">│</span>                                                                                  <span style=\"color: #000080; text-decoration-color: #000080\">│</span>\n",
       "<span style=\"color: #000080; text-decoration-color: #000080\">│</span> <span style=\"color: #008000; text-decoration-color: #008000\">╭──────────────────────────────────────────────────────────────────────────────╮</span> <span style=\"color: #000080; text-decoration-color: #000080\">│</span>\n",
       "<span style=\"color: #000080; text-decoration-color: #000080\">│</span> <span style=\"color: #008000; text-decoration-color: #008000\">│</span> <span style=\"font-weight: bold\">{</span><span style=\"color: #008000; text-decoration-color: #008000\">'symbolic'</span>: <span style=\"color: #008000; text-decoration-color: #008000\">'100'</span>, <span style=\"color: #008000; text-decoration-color: #008000\">'numeric'</span>: <span style=\"color: #008000; text-decoration-color: #008000\">'100'</span>, <span style=\"color: #008000; text-decoration-color: #008000\">'code'</span>: <span style=\"color: #008000; text-decoration-color: #008000\">'100'</span>, <span style=\"color: #008000; text-decoration-color: #008000\">'list'</span>: <span style=\"font-weight: bold\">[]</span>, <span style=\"color: #008000; text-decoration-color: #008000\">'dict'</span>: <span style=\"font-weight: bold\">{}}</span> <span style=\"color: #008000; text-decoration-color: #008000\">│</span> <span style=\"color: #000080; text-decoration-color: #000080\">│</span>\n",
       "<span style=\"color: #000080; text-decoration-color: #000080\">│</span> <span style=\"color: #008000; text-decoration-color: #008000\">╰──────────────────────────────────────────────────────────────────────────────╯</span> <span style=\"color: #000080; text-decoration-color: #000080\">│</span>\n",
       "<span style=\"color: #000080; text-decoration-color: #000080\">│</span>                                                                                  <span style=\"color: #000080; text-decoration-color: #000080\">│</span>\n",
       "<span style=\"color: #000080; text-decoration-color: #000080\">│</span> <span style=\"color: #008080; text-decoration-color: #008080; font-weight: bold\">30</span><span style=\"font-style: italic\"> attribute(s) not shown.</span> Run <span style=\"color: #800080; text-decoration-color: #800080; font-weight: bold\">inspect</span><span style=\"font-weight: bold\">(</span>inspect<span style=\"font-weight: bold\">)</span> for options.                     <span style=\"color: #000080; text-decoration-color: #000080\">│</span>\n",
       "<span style=\"color: #000080; text-decoration-color: #000080\">╰──────────────────────────────────────────────────────────────────────────────────╯</span>\n",
       "</pre>\n"
      ],
      "text/plain": [
       "\u001b[34m╭─\u001b[0m\u001b[34m──────────────────────────────── \u001b[0m\u001b[1;34m<\u001b[0m\u001b[1;95mclass\u001b[0m\u001b[39m \u001b[0m\u001b[32m'dict'\u001b[0m\u001b[1;34m>\u001b[0m\u001b[34m ────────────────────────────────\u001b[0m\u001b[34m─╮\u001b[0m\n",
       "\u001b[34m│\u001b[0m \u001b[1;35mdict\u001b[0m\u001b[1;36m(\u001b[0m\u001b[1;36m)\u001b[0m\u001b[36m -> new empty dictionary\u001b[0m                                                   \u001b[34m│\u001b[0m\n",
       "\u001b[34m│\u001b[0m \u001b[1;35mdict\u001b[0m\u001b[1;36m(\u001b[0m\u001b[36mmapping\u001b[0m\u001b[1;36m)\u001b[0m\u001b[36m -> new dictionary initialized from a mapping object's\u001b[0m              \u001b[34m│\u001b[0m\n",
       "\u001b[34m│\u001b[0m \u001b[36m    \u001b[0m\u001b[1;36m(\u001b[0m\u001b[36mkey, value\u001b[0m\u001b[1;36m)\u001b[0m\u001b[36m pairs\u001b[0m                                                           \u001b[34m│\u001b[0m\n",
       "\u001b[34m│\u001b[0m \u001b[1;35mdict\u001b[0m\u001b[1;36m(\u001b[0m\u001b[36miterable\u001b[0m\u001b[1;36m)\u001b[0m\u001b[36m -> new dictionary initialized as if via:\u001b[0m                          \u001b[34m│\u001b[0m\n",
       "\u001b[34m│\u001b[0m \u001b[36m    d = \u001b[0m\u001b[1;36m{\u001b[0m\u001b[1;36m}\u001b[0m                                                                       \u001b[34m│\u001b[0m\n",
       "\u001b[34m│\u001b[0m \u001b[36m    for k, v in iterable:\u001b[0m                                                        \u001b[34m│\u001b[0m\n",
       "\u001b[34m│\u001b[0m \u001b[36m        d\u001b[0m\u001b[1;36m[\u001b[0m\u001b[36mk\u001b[0m\u001b[1;36m]\u001b[0m\u001b[36m = v\u001b[0m                                                                 \u001b[34m│\u001b[0m\n",
       "\u001b[34m│\u001b[0m \u001b[1;35mdict\u001b[0m\u001b[1;36m(\u001b[0m\u001b[36m**kwargs\u001b[0m\u001b[1;36m)\u001b[0m\u001b[36m -> new dictionary initialized with the \u001b[0m\u001b[33mname\u001b[0m\u001b[36m=\u001b[0m\u001b[35mvalue\u001b[0m\u001b[36m pairs\u001b[0m           \u001b[34m│\u001b[0m\n",
       "\u001b[34m│\u001b[0m \u001b[36m    in the keyword argument list.  For example:  \u001b[0m\u001b[1;35mdict\u001b[0m\u001b[1;36m(\u001b[0m\u001b[33mone\u001b[0m\u001b[36m=\u001b[0m\u001b[1;36m1\u001b[0m\u001b[36m, \u001b[0m\u001b[33mtwo\u001b[0m\u001b[36m=\u001b[0m\u001b[1;36m2\u001b[0m\u001b[1;36m)\u001b[0m              \u001b[34m│\u001b[0m\n",
       "\u001b[34m│\u001b[0m                                                                                  \u001b[34m│\u001b[0m\n",
       "\u001b[34m│\u001b[0m \u001b[32m╭──────────────────────────────────────────────────────────────────────────────╮\u001b[0m \u001b[34m│\u001b[0m\n",
       "\u001b[34m│\u001b[0m \u001b[32m│\u001b[0m \u001b[1m{\u001b[0m\u001b[32m'symbolic'\u001b[0m: \u001b[32m'100'\u001b[0m, \u001b[32m'numeric'\u001b[0m: \u001b[32m'100'\u001b[0m, \u001b[32m'code'\u001b[0m: \u001b[32m'100'\u001b[0m, \u001b[32m'list'\u001b[0m: \u001b[1m[\u001b[0m\u001b[1m]\u001b[0m, \u001b[32m'dict'\u001b[0m: \u001b[1m{\u001b[0m\u001b[1m}\u001b[0m\u001b[1m}\u001b[0m \u001b[32m│\u001b[0m \u001b[34m│\u001b[0m\n",
       "\u001b[34m│\u001b[0m \u001b[32m╰──────────────────────────────────────────────────────────────────────────────╯\u001b[0m \u001b[34m│\u001b[0m\n",
       "\u001b[34m│\u001b[0m                                                                                  \u001b[34m│\u001b[0m\n",
       "\u001b[34m│\u001b[0m \u001b[1;36m30\u001b[0m\u001b[3m attribute(s) not shown.\u001b[0m Run \u001b[1;35minspect\u001b[0m\u001b[1m(\u001b[0minspect\u001b[1m)\u001b[0m for options.                     \u001b[34m│\u001b[0m\n",
       "\u001b[34m╰──────────────────────────────────────────────────────────────────────────────────╯\u001b[0m\n"
      ]
     },
     "metadata": {},
     "output_type": "display_data"
    },
    {
     "name": "stdout",
     "output_type": "stream",
     "text": [
      "Processing Arg: <_ast.Constant object at 0x00000230DDD9F790>\n",
      "Constant(\n",
      "  value = 'L',\n",
      "  kind = None)\n",
      "numeric=' '\n"
     ]
    },
    {
     "data": {
      "text/html": [
       "<pre style=\"white-space:pre;overflow-x:auto;line-height:normal;font-family:Menlo,'DejaVu Sans Mono',consolas,'Courier New',monospace\"><span style=\"color: #000080; text-decoration-color: #000080\">╭─────────────────────────────── </span><span style=\"color: #000080; text-decoration-color: #000080; font-weight: bold\">&lt;</span><span style=\"color: #ff00ff; text-decoration-color: #ff00ff; font-weight: bold\">class</span><span style=\"color: #000000; text-decoration-color: #000000\"> </span><span style=\"color: #008000; text-decoration-color: #008000\">'dict'</span><span style=\"color: #000080; text-decoration-color: #000080; font-weight: bold\">&gt;</span><span style=\"color: #000080; text-decoration-color: #000080\"> ───────────────────────────────╮</span>\n",
       "<span style=\"color: #000080; text-decoration-color: #000080\">│</span> <span style=\"color: #800080; text-decoration-color: #800080; font-weight: bold\">dict</span><span style=\"color: #008080; text-decoration-color: #008080; font-weight: bold\">()</span><span style=\"color: #008080; text-decoration-color: #008080\"> -&gt; new empty dictionary</span>                                               <span style=\"color: #000080; text-decoration-color: #000080\">│</span>\n",
       "<span style=\"color: #000080; text-decoration-color: #000080\">│</span> <span style=\"color: #800080; text-decoration-color: #800080; font-weight: bold\">dict</span><span style=\"color: #008080; text-decoration-color: #008080; font-weight: bold\">(</span><span style=\"color: #008080; text-decoration-color: #008080\">mapping</span><span style=\"color: #008080; text-decoration-color: #008080; font-weight: bold\">)</span><span style=\"color: #008080; text-decoration-color: #008080\"> -&gt; new dictionary initialized from a mapping object's</span>          <span style=\"color: #000080; text-decoration-color: #000080\">│</span>\n",
       "<span style=\"color: #000080; text-decoration-color: #000080\">│</span> <span style=\"color: #008080; text-decoration-color: #008080\">    </span><span style=\"color: #008080; text-decoration-color: #008080; font-weight: bold\">(</span><span style=\"color: #008080; text-decoration-color: #008080\">key, value</span><span style=\"color: #008080; text-decoration-color: #008080; font-weight: bold\">)</span><span style=\"color: #008080; text-decoration-color: #008080\"> pairs</span>                                                       <span style=\"color: #000080; text-decoration-color: #000080\">│</span>\n",
       "<span style=\"color: #000080; text-decoration-color: #000080\">│</span> <span style=\"color: #800080; text-decoration-color: #800080; font-weight: bold\">dict</span><span style=\"color: #008080; text-decoration-color: #008080; font-weight: bold\">(</span><span style=\"color: #008080; text-decoration-color: #008080\">iterable</span><span style=\"color: #008080; text-decoration-color: #008080; font-weight: bold\">)</span><span style=\"color: #008080; text-decoration-color: #008080\"> -&gt; new dictionary initialized as if via:</span>                      <span style=\"color: #000080; text-decoration-color: #000080\">│</span>\n",
       "<span style=\"color: #000080; text-decoration-color: #000080\">│</span> <span style=\"color: #008080; text-decoration-color: #008080\">    d = </span><span style=\"color: #008080; text-decoration-color: #008080; font-weight: bold\">{}</span>                                                                   <span style=\"color: #000080; text-decoration-color: #000080\">│</span>\n",
       "<span style=\"color: #000080; text-decoration-color: #000080\">│</span> <span style=\"color: #008080; text-decoration-color: #008080\">    for k, v in iterable:</span>                                                    <span style=\"color: #000080; text-decoration-color: #000080\">│</span>\n",
       "<span style=\"color: #000080; text-decoration-color: #000080\">│</span> <span style=\"color: #008080; text-decoration-color: #008080\">        d</span><span style=\"color: #008080; text-decoration-color: #008080; font-weight: bold\">[</span><span style=\"color: #008080; text-decoration-color: #008080\">k</span><span style=\"color: #008080; text-decoration-color: #008080; font-weight: bold\">]</span><span style=\"color: #008080; text-decoration-color: #008080\"> = v</span>                                                             <span style=\"color: #000080; text-decoration-color: #000080\">│</span>\n",
       "<span style=\"color: #000080; text-decoration-color: #000080\">│</span> <span style=\"color: #800080; text-decoration-color: #800080; font-weight: bold\">dict</span><span style=\"color: #008080; text-decoration-color: #008080; font-weight: bold\">(</span><span style=\"color: #008080; text-decoration-color: #008080\">**kwargs</span><span style=\"color: #008080; text-decoration-color: #008080; font-weight: bold\">)</span><span style=\"color: #008080; text-decoration-color: #008080\"> -&gt; new dictionary initialized with the </span><span style=\"color: #808000; text-decoration-color: #808000\">name</span><span style=\"color: #008080; text-decoration-color: #008080\">=</span><span style=\"color: #800080; text-decoration-color: #800080\">value</span><span style=\"color: #008080; text-decoration-color: #008080\"> pairs</span>       <span style=\"color: #000080; text-decoration-color: #000080\">│</span>\n",
       "<span style=\"color: #000080; text-decoration-color: #000080\">│</span> <span style=\"color: #008080; text-decoration-color: #008080\">    in the keyword argument list.  For example:  </span><span style=\"color: #800080; text-decoration-color: #800080; font-weight: bold\">dict</span><span style=\"color: #008080; text-decoration-color: #008080; font-weight: bold\">(</span><span style=\"color: #808000; text-decoration-color: #808000\">one</span><span style=\"color: #008080; text-decoration-color: #008080\">=</span><span style=\"color: #008080; text-decoration-color: #008080; font-weight: bold\">1</span><span style=\"color: #008080; text-decoration-color: #008080\">, </span><span style=\"color: #808000; text-decoration-color: #808000\">two</span><span style=\"color: #008080; text-decoration-color: #008080\">=</span><span style=\"color: #008080; text-decoration-color: #008080; font-weight: bold\">2</span><span style=\"color: #008080; text-decoration-color: #008080; font-weight: bold\">)</span>          <span style=\"color: #000080; text-decoration-color: #000080\">│</span>\n",
       "<span style=\"color: #000080; text-decoration-color: #000080\">│</span>                                                                              <span style=\"color: #000080; text-decoration-color: #000080\">│</span>\n",
       "<span style=\"color: #000080; text-decoration-color: #000080\">│</span> <span style=\"color: #008000; text-decoration-color: #008000\">╭──────────────────────────────────────────────────────────────────────────╮</span> <span style=\"color: #000080; text-decoration-color: #000080\">│</span>\n",
       "<span style=\"color: #000080; text-decoration-color: #000080\">│</span> <span style=\"color: #008000; text-decoration-color: #008000\">│</span> <span style=\"font-weight: bold\">{</span><span style=\"color: #008000; text-decoration-color: #008000\">'symbolic'</span>: <span style=\"color: #008000; text-decoration-color: #008000\">'L'</span>, <span style=\"color: #008000; text-decoration-color: #008000\">'numeric'</span>: <span style=\"color: #008000; text-decoration-color: #008000\">'L'</span>, <span style=\"color: #008000; text-decoration-color: #008000\">'code'</span>: <span style=\"color: #008000; text-decoration-color: #008000\">\"'L'\"</span>, <span style=\"color: #008000; text-decoration-color: #008000\">'list'</span>: <span style=\"font-weight: bold\">[]</span>, <span style=\"color: #008000; text-decoration-color: #008000\">'dict'</span>: <span style=\"font-weight: bold\">{}}</span> <span style=\"color: #008000; text-decoration-color: #008000\">│</span> <span style=\"color: #000080; text-decoration-color: #000080\">│</span>\n",
       "<span style=\"color: #000080; text-decoration-color: #000080\">│</span> <span style=\"color: #008000; text-decoration-color: #008000\">╰──────────────────────────────────────────────────────────────────────────╯</span> <span style=\"color: #000080; text-decoration-color: #000080\">│</span>\n",
       "<span style=\"color: #000080; text-decoration-color: #000080\">│</span>                                                                              <span style=\"color: #000080; text-decoration-color: #000080\">│</span>\n",
       "<span style=\"color: #000080; text-decoration-color: #000080\">│</span> <span style=\"color: #008080; text-decoration-color: #008080; font-weight: bold\">30</span><span style=\"font-style: italic\"> attribute(s) not shown.</span> Run <span style=\"color: #800080; text-decoration-color: #800080; font-weight: bold\">inspect</span><span style=\"font-weight: bold\">(</span>inspect<span style=\"font-weight: bold\">)</span> for options.                 <span style=\"color: #000080; text-decoration-color: #000080\">│</span>\n",
       "<span style=\"color: #000080; text-decoration-color: #000080\">╰──────────────────────────────────────────────────────────────────────────────╯</span>\n",
       "</pre>\n"
      ],
      "text/plain": [
       "\u001b[34m╭─\u001b[0m\u001b[34m────────────────────────────── \u001b[0m\u001b[1;34m<\u001b[0m\u001b[1;95mclass\u001b[0m\u001b[39m \u001b[0m\u001b[32m'dict'\u001b[0m\u001b[1;34m>\u001b[0m\u001b[34m ──────────────────────────────\u001b[0m\u001b[34m─╮\u001b[0m\n",
       "\u001b[34m│\u001b[0m \u001b[1;35mdict\u001b[0m\u001b[1;36m(\u001b[0m\u001b[1;36m)\u001b[0m\u001b[36m -> new empty dictionary\u001b[0m                                               \u001b[34m│\u001b[0m\n",
       "\u001b[34m│\u001b[0m \u001b[1;35mdict\u001b[0m\u001b[1;36m(\u001b[0m\u001b[36mmapping\u001b[0m\u001b[1;36m)\u001b[0m\u001b[36m -> new dictionary initialized from a mapping object's\u001b[0m          \u001b[34m│\u001b[0m\n",
       "\u001b[34m│\u001b[0m \u001b[36m    \u001b[0m\u001b[1;36m(\u001b[0m\u001b[36mkey, value\u001b[0m\u001b[1;36m)\u001b[0m\u001b[36m pairs\u001b[0m                                                       \u001b[34m│\u001b[0m\n",
       "\u001b[34m│\u001b[0m \u001b[1;35mdict\u001b[0m\u001b[1;36m(\u001b[0m\u001b[36miterable\u001b[0m\u001b[1;36m)\u001b[0m\u001b[36m -> new dictionary initialized as if via:\u001b[0m                      \u001b[34m│\u001b[0m\n",
       "\u001b[34m│\u001b[0m \u001b[36m    d = \u001b[0m\u001b[1;36m{\u001b[0m\u001b[1;36m}\u001b[0m                                                                   \u001b[34m│\u001b[0m\n",
       "\u001b[34m│\u001b[0m \u001b[36m    for k, v in iterable:\u001b[0m                                                    \u001b[34m│\u001b[0m\n",
       "\u001b[34m│\u001b[0m \u001b[36m        d\u001b[0m\u001b[1;36m[\u001b[0m\u001b[36mk\u001b[0m\u001b[1;36m]\u001b[0m\u001b[36m = v\u001b[0m                                                             \u001b[34m│\u001b[0m\n",
       "\u001b[34m│\u001b[0m \u001b[1;35mdict\u001b[0m\u001b[1;36m(\u001b[0m\u001b[36m**kwargs\u001b[0m\u001b[1;36m)\u001b[0m\u001b[36m -> new dictionary initialized with the \u001b[0m\u001b[33mname\u001b[0m\u001b[36m=\u001b[0m\u001b[35mvalue\u001b[0m\u001b[36m pairs\u001b[0m       \u001b[34m│\u001b[0m\n",
       "\u001b[34m│\u001b[0m \u001b[36m    in the keyword argument list.  For example:  \u001b[0m\u001b[1;35mdict\u001b[0m\u001b[1;36m(\u001b[0m\u001b[33mone\u001b[0m\u001b[36m=\u001b[0m\u001b[1;36m1\u001b[0m\u001b[36m, \u001b[0m\u001b[33mtwo\u001b[0m\u001b[36m=\u001b[0m\u001b[1;36m2\u001b[0m\u001b[1;36m)\u001b[0m          \u001b[34m│\u001b[0m\n",
       "\u001b[34m│\u001b[0m                                                                              \u001b[34m│\u001b[0m\n",
       "\u001b[34m│\u001b[0m \u001b[32m╭──────────────────────────────────────────────────────────────────────────╮\u001b[0m \u001b[34m│\u001b[0m\n",
       "\u001b[34m│\u001b[0m \u001b[32m│\u001b[0m \u001b[1m{\u001b[0m\u001b[32m'symbolic'\u001b[0m: \u001b[32m'L'\u001b[0m, \u001b[32m'numeric'\u001b[0m: \u001b[32m'L'\u001b[0m, \u001b[32m'code'\u001b[0m: \u001b[32m\"'L'\"\u001b[0m, \u001b[32m'list'\u001b[0m: \u001b[1m[\u001b[0m\u001b[1m]\u001b[0m, \u001b[32m'dict'\u001b[0m: \u001b[1m{\u001b[0m\u001b[1m}\u001b[0m\u001b[1m}\u001b[0m \u001b[32m│\u001b[0m \u001b[34m│\u001b[0m\n",
       "\u001b[34m│\u001b[0m \u001b[32m╰──────────────────────────────────────────────────────────────────────────╯\u001b[0m \u001b[34m│\u001b[0m\n",
       "\u001b[34m│\u001b[0m                                                                              \u001b[34m│\u001b[0m\n",
       "\u001b[34m│\u001b[0m \u001b[1;36m30\u001b[0m\u001b[3m attribute(s) not shown.\u001b[0m Run \u001b[1;35minspect\u001b[0m\u001b[1m(\u001b[0minspect\u001b[1m)\u001b[0m for options.                 \u001b[34m│\u001b[0m\n",
       "\u001b[34m╰──────────────────────────────────────────────────────────────────────────────╯\u001b[0m\n"
      ]
     },
     "metadata": {},
     "output_type": "display_data"
    },
    {
     "name": "stdout",
     "output_type": "stream",
     "text": [
      "Processing Quantity: Quantity(100, 'L')\n",
      "      node.args=[<_ast.Constant object at 0x00000230DDD9F850>, <_ast.Constant object at 0x00000230DDD9F790>]\n",
      "to_numeric: Quantity(100, 'L')\n",
      "Name(\n",
      "  id = 'V_tank',\n",
      "  ctx = Store())\n",
      "numeric=' '\n",
      "to_numeric: V_tank\n",
      "LHS_Symbolic: V_{tank}\n",
      "RHS_Symbolic: 100\\ \\mathrm{l}\n",
      "RHS_Numeric: 100\\ \\mathrm{l}\n",
      "LHS_Numeric: 0.1\\ \\mathrm{m}^{3}\n"
     ]
    },
    {
     "data": {
      "text/markdown": [
       "\\begin{align}\n",
       "  V_{tank} &=  100\\ \\mathrm{l}  = 0.1\\ \\mathrm{m}^{3} \n",
       "\\end{align}\n",
       "\n"
      ],
      "text/plain": [
       "<IPython.core.display.Markdown object>"
      ]
     },
     "metadata": {},
     "output_type": "display_data"
    }
   ],
   "source": [
    "%%showcalc --verbose\n",
    "V_tank = Quantity(100,'L').to('m^3')"
   ]
  },
  {
   "cell_type": "code",
   "execution_count": 3,
   "metadata": {},
   "outputs": [
    {
     "data": {
      "text/markdown": [
       "\\begin{align}\n",
       "  {T}_{  1  } &=  128  = 128\\ \\mathrm{°R} \n",
       "\\end{align}\n",
       "\n",
       "\\begin{align}\n",
       "  {T}_{ a } &=  300  = 300\\ \\mathrm{°R} \n",
       "\\end{align}\n",
       "\n",
       "\\begin{align}\n",
       "  x &=  0.5 \n",
       "\\end{align}\n",
       "\n",
       "\\begin{align}\n",
       "  T_{0} &=  500\\ \\mathrm{°C} \n",
       "\\end{align}\n",
       "\n"
      ],
      "text/plain": [
       "<IPython.core.display.Markdown object>"
      ]
     },
     "metadata": {},
     "output_type": "display_data"
    }
   ],
   "source": [
    "%%showcalc \n",
    "T[1] = 128\n",
    "T['a'] = 300\n",
    "x= Quantity(.5,'')\n",
    "T_0 = Quantity(500,'degC')\n"
   ]
  },
  {
   "cell_type": "code",
   "execution_count": null,
   "metadata": {},
   "outputs": [],
   "source": []
  },
  {
   "cell_type": "code",
   "execution_count": 10,
   "metadata": {},
   "outputs": [
    {
     "data": {
      "text/markdown": [
       "\\begin{align}\n",
       "  m &=  \\left( 2 \\pm 20.0\\% \\right)\\ \\mathrm{ft}  = \\left(2.0 \\pm 0.4\\right)\\ \\mathrm{ft} \n",
       "\\end{align}\n",
       "\n"
      ],
      "text/plain": [
       "<IPython.core.display.Markdown object>"
      ]
     },
     "metadata": {},
     "output_type": "display_data"
    }
   ],
   "source": [
    "%%showcalc \n",
    "m = Quantity(2,'ft').plus_minus(.2, relative=True)"
   ]
  },
  {
   "cell_type": "code",
   "execution_count": 3,
   "metadata": {},
   "outputs": [
    {
     "data": {
      "text/markdown": [
       "\\begin{align}\n",
       "  x &=  {\\left[  i - 1  \\right]}_{i=[1, \\ldots, 4]} \\\\\n",
       "    &= [ 0 , \\ldots,  3 ]\\\\\n",
       "    &= ??\n",
       "\\end{align}\n",
       "\n"
      ],
      "text/plain": [
       "<IPython.core.display.Markdown object>"
      ]
     },
     "metadata": {},
     "output_type": "display_data"
    }
   ],
   "source": [
    "%%showcalc\n",
    "x = [i-1 for i in [1,2,3,4]]"
   ]
  },
  {
   "cell_type": "code",
   "execution_count": 6,
   "metadata": {},
   "outputs": [
    {
     "name": "stdout",
     "output_type": "stream",
     "text": [
      "BinOp(\n",
      "  left = Call(\n",
      "    func = Name(\n",
      "      id = 'Quantity',\n",
      "      ctx = Load()),\n",
      "    args = [\n",
      "      Constant(\n",
      "        value = 3,\n",
      "        kind = None),\n",
      "      Constant(\n",
      "        value = 'm',\n",
      "        kind = None)],\n",
      "    keywords = []),\n",
      "  op = Div(),\n",
      "  right = Call(\n",
      "    func = Name(\n",
      "      id = 'Quantity',\n",
      "      ctx = Load()),\n",
      "    args = [\n",
      "      Constant(\n",
      "        value = 2,\n",
      "        kind = None),\n",
      "      Constant(\n",
      "        value = 's',\n",
      "        kind = None)],\n",
      "    keywords = []))\n",
      "numeric=' '\n",
      "Call(\n",
      "  func = Name(\n",
      "    id = 'Quantity',\n",
      "    ctx = Load()),\n",
      "  args = [\n",
      "    Constant(\n",
      "      value = 3,\n",
      "      kind = None),\n",
      "    Constant(\n",
      "      value = 'm',\n",
      "      kind = None)],\n",
      "  keywords = [])\n",
      "numeric=' '\n",
      "Processing Arg: <_ast.Constant object at 0x0000028E51EE33A0>\n",
      "Constant(\n",
      "  value = 3,\n",
      "  kind = None)\n",
      "numeric=' '\n"
     ]
    },
    {
     "data": {
      "text/html": [
       "<pre style=\"white-space:pre;overflow-x:auto;line-height:normal;font-family:Menlo,'DejaVu Sans Mono',consolas,'Courier New',monospace\"><span style=\"color: #000080; text-decoration-color: #000080\">╭────────────────────────────── </span><span style=\"color: #000080; text-decoration-color: #000080; font-weight: bold\">&lt;</span><span style=\"color: #ff00ff; text-decoration-color: #ff00ff; font-weight: bold\">class</span><span style=\"color: #000000; text-decoration-color: #000000\"> </span><span style=\"color: #008000; text-decoration-color: #008000\">'dict'</span><span style=\"color: #000080; text-decoration-color: #000080; font-weight: bold\">&gt;</span><span style=\"color: #000080; text-decoration-color: #000080\"> ──────────────────────────────╮</span>\n",
       "<span style=\"color: #000080; text-decoration-color: #000080\">│</span> <span style=\"color: #800080; text-decoration-color: #800080; font-weight: bold\">dict</span><span style=\"color: #008080; text-decoration-color: #008080; font-weight: bold\">()</span><span style=\"color: #008080; text-decoration-color: #008080\"> -&gt; new empty dictionary</span>                                             <span style=\"color: #000080; text-decoration-color: #000080\">│</span>\n",
       "<span style=\"color: #000080; text-decoration-color: #000080\">│</span> <span style=\"color: #800080; text-decoration-color: #800080; font-weight: bold\">dict</span><span style=\"color: #008080; text-decoration-color: #008080; font-weight: bold\">(</span><span style=\"color: #008080; text-decoration-color: #008080\">mapping</span><span style=\"color: #008080; text-decoration-color: #008080; font-weight: bold\">)</span><span style=\"color: #008080; text-decoration-color: #008080\"> -&gt; new dictionary initialized from a mapping object's</span>        <span style=\"color: #000080; text-decoration-color: #000080\">│</span>\n",
       "<span style=\"color: #000080; text-decoration-color: #000080\">│</span> <span style=\"color: #008080; text-decoration-color: #008080\">    </span><span style=\"color: #008080; text-decoration-color: #008080; font-weight: bold\">(</span><span style=\"color: #008080; text-decoration-color: #008080\">key, value</span><span style=\"color: #008080; text-decoration-color: #008080; font-weight: bold\">)</span><span style=\"color: #008080; text-decoration-color: #008080\"> pairs</span>                                                     <span style=\"color: #000080; text-decoration-color: #000080\">│</span>\n",
       "<span style=\"color: #000080; text-decoration-color: #000080\">│</span> <span style=\"color: #800080; text-decoration-color: #800080; font-weight: bold\">dict</span><span style=\"color: #008080; text-decoration-color: #008080; font-weight: bold\">(</span><span style=\"color: #008080; text-decoration-color: #008080\">iterable</span><span style=\"color: #008080; text-decoration-color: #008080; font-weight: bold\">)</span><span style=\"color: #008080; text-decoration-color: #008080\"> -&gt; new dictionary initialized as if via:</span>                    <span style=\"color: #000080; text-decoration-color: #000080\">│</span>\n",
       "<span style=\"color: #000080; text-decoration-color: #000080\">│</span> <span style=\"color: #008080; text-decoration-color: #008080\">    d = </span><span style=\"color: #008080; text-decoration-color: #008080; font-weight: bold\">{}</span>                                                                 <span style=\"color: #000080; text-decoration-color: #000080\">│</span>\n",
       "<span style=\"color: #000080; text-decoration-color: #000080\">│</span> <span style=\"color: #008080; text-decoration-color: #008080\">    for k, v in iterable:</span>                                                  <span style=\"color: #000080; text-decoration-color: #000080\">│</span>\n",
       "<span style=\"color: #000080; text-decoration-color: #000080\">│</span> <span style=\"color: #008080; text-decoration-color: #008080\">        d</span><span style=\"color: #008080; text-decoration-color: #008080; font-weight: bold\">[</span><span style=\"color: #008080; text-decoration-color: #008080\">k</span><span style=\"color: #008080; text-decoration-color: #008080; font-weight: bold\">]</span><span style=\"color: #008080; text-decoration-color: #008080\"> = v</span>                                                           <span style=\"color: #000080; text-decoration-color: #000080\">│</span>\n",
       "<span style=\"color: #000080; text-decoration-color: #000080\">│</span> <span style=\"color: #800080; text-decoration-color: #800080; font-weight: bold\">dict</span><span style=\"color: #008080; text-decoration-color: #008080; font-weight: bold\">(</span><span style=\"color: #008080; text-decoration-color: #008080\">**kwargs</span><span style=\"color: #008080; text-decoration-color: #008080; font-weight: bold\">)</span><span style=\"color: #008080; text-decoration-color: #008080\"> -&gt; new dictionary initialized with the </span><span style=\"color: #808000; text-decoration-color: #808000\">name</span><span style=\"color: #008080; text-decoration-color: #008080\">=</span><span style=\"color: #800080; text-decoration-color: #800080\">value</span><span style=\"color: #008080; text-decoration-color: #008080\"> pairs</span>     <span style=\"color: #000080; text-decoration-color: #000080\">│</span>\n",
       "<span style=\"color: #000080; text-decoration-color: #000080\">│</span> <span style=\"color: #008080; text-decoration-color: #008080\">    in the keyword argument list.  For example:  </span><span style=\"color: #800080; text-decoration-color: #800080; font-weight: bold\">dict</span><span style=\"color: #008080; text-decoration-color: #008080; font-weight: bold\">(</span><span style=\"color: #808000; text-decoration-color: #808000\">one</span><span style=\"color: #008080; text-decoration-color: #008080\">=</span><span style=\"color: #008080; text-decoration-color: #008080; font-weight: bold\">1</span><span style=\"color: #008080; text-decoration-color: #008080\">, </span><span style=\"color: #808000; text-decoration-color: #808000\">two</span><span style=\"color: #008080; text-decoration-color: #008080\">=</span><span style=\"color: #008080; text-decoration-color: #008080; font-weight: bold\">2</span><span style=\"color: #008080; text-decoration-color: #008080; font-weight: bold\">)</span>        <span style=\"color: #000080; text-decoration-color: #000080\">│</span>\n",
       "<span style=\"color: #000080; text-decoration-color: #000080\">│</span>                                                                            <span style=\"color: #000080; text-decoration-color: #000080\">│</span>\n",
       "<span style=\"color: #000080; text-decoration-color: #000080\">│</span> <span style=\"color: #008000; text-decoration-color: #008000\">╭────────────────────────────────────────────────────────────────────────╮</span> <span style=\"color: #000080; text-decoration-color: #000080\">│</span>\n",
       "<span style=\"color: #000080; text-decoration-color: #000080\">│</span> <span style=\"color: #008000; text-decoration-color: #008000\">│</span> <span style=\"font-weight: bold\">{</span><span style=\"color: #008000; text-decoration-color: #008000\">'symbolic'</span>: <span style=\"color: #008000; text-decoration-color: #008000\">'3'</span>, <span style=\"color: #008000; text-decoration-color: #008000\">'numeric'</span>: <span style=\"color: #008000; text-decoration-color: #008000\">'3'</span>, <span style=\"color: #008000; text-decoration-color: #008000\">'code'</span>: <span style=\"color: #008000; text-decoration-color: #008000\">'3'</span>, <span style=\"color: #008000; text-decoration-color: #008000\">'list'</span>: <span style=\"font-weight: bold\">[]</span>, <span style=\"color: #008000; text-decoration-color: #008000\">'dict'</span>: <span style=\"font-weight: bold\">{}}</span> <span style=\"color: #008000; text-decoration-color: #008000\">│</span> <span style=\"color: #000080; text-decoration-color: #000080\">│</span>\n",
       "<span style=\"color: #000080; text-decoration-color: #000080\">│</span> <span style=\"color: #008000; text-decoration-color: #008000\">╰────────────────────────────────────────────────────────────────────────╯</span> <span style=\"color: #000080; text-decoration-color: #000080\">│</span>\n",
       "<span style=\"color: #000080; text-decoration-color: #000080\">│</span>                                                                            <span style=\"color: #000080; text-decoration-color: #000080\">│</span>\n",
       "<span style=\"color: #000080; text-decoration-color: #000080\">│</span> <span style=\"color: #008080; text-decoration-color: #008080; font-weight: bold\">30</span><span style=\"font-style: italic\"> attribute(s) not shown.</span> Run <span style=\"color: #800080; text-decoration-color: #800080; font-weight: bold\">inspect</span><span style=\"font-weight: bold\">(</span>inspect<span style=\"font-weight: bold\">)</span> for options.               <span style=\"color: #000080; text-decoration-color: #000080\">│</span>\n",
       "<span style=\"color: #000080; text-decoration-color: #000080\">╰────────────────────────────────────────────────────────────────────────────╯</span>\n",
       "</pre>\n"
      ],
      "text/plain": [
       "\u001b[34m╭─\u001b[0m\u001b[34m───────────────────────────── \u001b[0m\u001b[1;34m<\u001b[0m\u001b[1;95mclass\u001b[0m\u001b[39m \u001b[0m\u001b[32m'dict'\u001b[0m\u001b[1;34m>\u001b[0m\u001b[34m ─────────────────────────────\u001b[0m\u001b[34m─╮\u001b[0m\n",
       "\u001b[34m│\u001b[0m \u001b[1;35mdict\u001b[0m\u001b[1;36m(\u001b[0m\u001b[1;36m)\u001b[0m\u001b[36m -> new empty dictionary\u001b[0m                                             \u001b[34m│\u001b[0m\n",
       "\u001b[34m│\u001b[0m \u001b[1;35mdict\u001b[0m\u001b[1;36m(\u001b[0m\u001b[36mmapping\u001b[0m\u001b[1;36m)\u001b[0m\u001b[36m -> new dictionary initialized from a mapping object's\u001b[0m        \u001b[34m│\u001b[0m\n",
       "\u001b[34m│\u001b[0m \u001b[36m    \u001b[0m\u001b[1;36m(\u001b[0m\u001b[36mkey, value\u001b[0m\u001b[1;36m)\u001b[0m\u001b[36m pairs\u001b[0m                                                     \u001b[34m│\u001b[0m\n",
       "\u001b[34m│\u001b[0m \u001b[1;35mdict\u001b[0m\u001b[1;36m(\u001b[0m\u001b[36miterable\u001b[0m\u001b[1;36m)\u001b[0m\u001b[36m -> new dictionary initialized as if via:\u001b[0m                    \u001b[34m│\u001b[0m\n",
       "\u001b[34m│\u001b[0m \u001b[36m    d = \u001b[0m\u001b[1;36m{\u001b[0m\u001b[1;36m}\u001b[0m                                                                 \u001b[34m│\u001b[0m\n",
       "\u001b[34m│\u001b[0m \u001b[36m    for k, v in iterable:\u001b[0m                                                  \u001b[34m│\u001b[0m\n",
       "\u001b[34m│\u001b[0m \u001b[36m        d\u001b[0m\u001b[1;36m[\u001b[0m\u001b[36mk\u001b[0m\u001b[1;36m]\u001b[0m\u001b[36m = v\u001b[0m                                                           \u001b[34m│\u001b[0m\n",
       "\u001b[34m│\u001b[0m \u001b[1;35mdict\u001b[0m\u001b[1;36m(\u001b[0m\u001b[36m**kwargs\u001b[0m\u001b[1;36m)\u001b[0m\u001b[36m -> new dictionary initialized with the \u001b[0m\u001b[33mname\u001b[0m\u001b[36m=\u001b[0m\u001b[35mvalue\u001b[0m\u001b[36m pairs\u001b[0m     \u001b[34m│\u001b[0m\n",
       "\u001b[34m│\u001b[0m \u001b[36m    in the keyword argument list.  For example:  \u001b[0m\u001b[1;35mdict\u001b[0m\u001b[1;36m(\u001b[0m\u001b[33mone\u001b[0m\u001b[36m=\u001b[0m\u001b[1;36m1\u001b[0m\u001b[36m, \u001b[0m\u001b[33mtwo\u001b[0m\u001b[36m=\u001b[0m\u001b[1;36m2\u001b[0m\u001b[1;36m)\u001b[0m        \u001b[34m│\u001b[0m\n",
       "\u001b[34m│\u001b[0m                                                                            \u001b[34m│\u001b[0m\n",
       "\u001b[34m│\u001b[0m \u001b[32m╭────────────────────────────────────────────────────────────────────────╮\u001b[0m \u001b[34m│\u001b[0m\n",
       "\u001b[34m│\u001b[0m \u001b[32m│\u001b[0m \u001b[1m{\u001b[0m\u001b[32m'symbolic'\u001b[0m: \u001b[32m'3'\u001b[0m, \u001b[32m'numeric'\u001b[0m: \u001b[32m'3'\u001b[0m, \u001b[32m'code'\u001b[0m: \u001b[32m'3'\u001b[0m, \u001b[32m'list'\u001b[0m: \u001b[1m[\u001b[0m\u001b[1m]\u001b[0m, \u001b[32m'dict'\u001b[0m: \u001b[1m{\u001b[0m\u001b[1m}\u001b[0m\u001b[1m}\u001b[0m \u001b[32m│\u001b[0m \u001b[34m│\u001b[0m\n",
       "\u001b[34m│\u001b[0m \u001b[32m╰────────────────────────────────────────────────────────────────────────╯\u001b[0m \u001b[34m│\u001b[0m\n",
       "\u001b[34m│\u001b[0m                                                                            \u001b[34m│\u001b[0m\n",
       "\u001b[34m│\u001b[0m \u001b[1;36m30\u001b[0m\u001b[3m attribute(s) not shown.\u001b[0m Run \u001b[1;35minspect\u001b[0m\u001b[1m(\u001b[0minspect\u001b[1m)\u001b[0m for options.               \u001b[34m│\u001b[0m\n",
       "\u001b[34m╰────────────────────────────────────────────────────────────────────────────╯\u001b[0m\n"
      ]
     },
     "metadata": {},
     "output_type": "display_data"
    },
    {
     "name": "stdout",
     "output_type": "stream",
     "text": [
      "Processing Arg: <_ast.Constant object at 0x0000028E51EE3310>\n",
      "Constant(\n",
      "  value = 'm',\n",
      "  kind = None)\n",
      "numeric=' '\n"
     ]
    },
    {
     "data": {
      "text/html": [
       "<pre style=\"white-space:pre;overflow-x:auto;line-height:normal;font-family:Menlo,'DejaVu Sans Mono',consolas,'Courier New',monospace\"><span style=\"color: #000080; text-decoration-color: #000080\">╭─────────────────────────────── </span><span style=\"color: #000080; text-decoration-color: #000080; font-weight: bold\">&lt;</span><span style=\"color: #ff00ff; text-decoration-color: #ff00ff; font-weight: bold\">class</span><span style=\"color: #000000; text-decoration-color: #000000\"> </span><span style=\"color: #008000; text-decoration-color: #008000\">'dict'</span><span style=\"color: #000080; text-decoration-color: #000080; font-weight: bold\">&gt;</span><span style=\"color: #000080; text-decoration-color: #000080\"> ───────────────────────────────╮</span>\n",
       "<span style=\"color: #000080; text-decoration-color: #000080\">│</span> <span style=\"color: #800080; text-decoration-color: #800080; font-weight: bold\">dict</span><span style=\"color: #008080; text-decoration-color: #008080; font-weight: bold\">()</span><span style=\"color: #008080; text-decoration-color: #008080\"> -&gt; new empty dictionary</span>                                               <span style=\"color: #000080; text-decoration-color: #000080\">│</span>\n",
       "<span style=\"color: #000080; text-decoration-color: #000080\">│</span> <span style=\"color: #800080; text-decoration-color: #800080; font-weight: bold\">dict</span><span style=\"color: #008080; text-decoration-color: #008080; font-weight: bold\">(</span><span style=\"color: #008080; text-decoration-color: #008080\">mapping</span><span style=\"color: #008080; text-decoration-color: #008080; font-weight: bold\">)</span><span style=\"color: #008080; text-decoration-color: #008080\"> -&gt; new dictionary initialized from a mapping object's</span>          <span style=\"color: #000080; text-decoration-color: #000080\">│</span>\n",
       "<span style=\"color: #000080; text-decoration-color: #000080\">│</span> <span style=\"color: #008080; text-decoration-color: #008080\">    </span><span style=\"color: #008080; text-decoration-color: #008080; font-weight: bold\">(</span><span style=\"color: #008080; text-decoration-color: #008080\">key, value</span><span style=\"color: #008080; text-decoration-color: #008080; font-weight: bold\">)</span><span style=\"color: #008080; text-decoration-color: #008080\"> pairs</span>                                                       <span style=\"color: #000080; text-decoration-color: #000080\">│</span>\n",
       "<span style=\"color: #000080; text-decoration-color: #000080\">│</span> <span style=\"color: #800080; text-decoration-color: #800080; font-weight: bold\">dict</span><span style=\"color: #008080; text-decoration-color: #008080; font-weight: bold\">(</span><span style=\"color: #008080; text-decoration-color: #008080\">iterable</span><span style=\"color: #008080; text-decoration-color: #008080; font-weight: bold\">)</span><span style=\"color: #008080; text-decoration-color: #008080\"> -&gt; new dictionary initialized as if via:</span>                      <span style=\"color: #000080; text-decoration-color: #000080\">│</span>\n",
       "<span style=\"color: #000080; text-decoration-color: #000080\">│</span> <span style=\"color: #008080; text-decoration-color: #008080\">    d = </span><span style=\"color: #008080; text-decoration-color: #008080; font-weight: bold\">{}</span>                                                                   <span style=\"color: #000080; text-decoration-color: #000080\">│</span>\n",
       "<span style=\"color: #000080; text-decoration-color: #000080\">│</span> <span style=\"color: #008080; text-decoration-color: #008080\">    for k, v in iterable:</span>                                                    <span style=\"color: #000080; text-decoration-color: #000080\">│</span>\n",
       "<span style=\"color: #000080; text-decoration-color: #000080\">│</span> <span style=\"color: #008080; text-decoration-color: #008080\">        d</span><span style=\"color: #008080; text-decoration-color: #008080; font-weight: bold\">[</span><span style=\"color: #008080; text-decoration-color: #008080\">k</span><span style=\"color: #008080; text-decoration-color: #008080; font-weight: bold\">]</span><span style=\"color: #008080; text-decoration-color: #008080\"> = v</span>                                                             <span style=\"color: #000080; text-decoration-color: #000080\">│</span>\n",
       "<span style=\"color: #000080; text-decoration-color: #000080\">│</span> <span style=\"color: #800080; text-decoration-color: #800080; font-weight: bold\">dict</span><span style=\"color: #008080; text-decoration-color: #008080; font-weight: bold\">(</span><span style=\"color: #008080; text-decoration-color: #008080\">**kwargs</span><span style=\"color: #008080; text-decoration-color: #008080; font-weight: bold\">)</span><span style=\"color: #008080; text-decoration-color: #008080\"> -&gt; new dictionary initialized with the </span><span style=\"color: #808000; text-decoration-color: #808000\">name</span><span style=\"color: #008080; text-decoration-color: #008080\">=</span><span style=\"color: #800080; text-decoration-color: #800080\">value</span><span style=\"color: #008080; text-decoration-color: #008080\"> pairs</span>       <span style=\"color: #000080; text-decoration-color: #000080\">│</span>\n",
       "<span style=\"color: #000080; text-decoration-color: #000080\">│</span> <span style=\"color: #008080; text-decoration-color: #008080\">    in the keyword argument list.  For example:  </span><span style=\"color: #800080; text-decoration-color: #800080; font-weight: bold\">dict</span><span style=\"color: #008080; text-decoration-color: #008080; font-weight: bold\">(</span><span style=\"color: #808000; text-decoration-color: #808000\">one</span><span style=\"color: #008080; text-decoration-color: #008080\">=</span><span style=\"color: #008080; text-decoration-color: #008080; font-weight: bold\">1</span><span style=\"color: #008080; text-decoration-color: #008080\">, </span><span style=\"color: #808000; text-decoration-color: #808000\">two</span><span style=\"color: #008080; text-decoration-color: #008080\">=</span><span style=\"color: #008080; text-decoration-color: #008080; font-weight: bold\">2</span><span style=\"color: #008080; text-decoration-color: #008080; font-weight: bold\">)</span>          <span style=\"color: #000080; text-decoration-color: #000080\">│</span>\n",
       "<span style=\"color: #000080; text-decoration-color: #000080\">│</span>                                                                              <span style=\"color: #000080; text-decoration-color: #000080\">│</span>\n",
       "<span style=\"color: #000080; text-decoration-color: #000080\">│</span> <span style=\"color: #008000; text-decoration-color: #008000\">╭──────────────────────────────────────────────────────────────────────────╮</span> <span style=\"color: #000080; text-decoration-color: #000080\">│</span>\n",
       "<span style=\"color: #000080; text-decoration-color: #000080\">│</span> <span style=\"color: #008000; text-decoration-color: #008000\">│</span> <span style=\"font-weight: bold\">{</span><span style=\"color: #008000; text-decoration-color: #008000\">'symbolic'</span>: <span style=\"color: #008000; text-decoration-color: #008000\">'m'</span>, <span style=\"color: #008000; text-decoration-color: #008000\">'numeric'</span>: <span style=\"color: #008000; text-decoration-color: #008000\">'m'</span>, <span style=\"color: #008000; text-decoration-color: #008000\">'code'</span>: <span style=\"color: #008000; text-decoration-color: #008000\">\"'m'\"</span>, <span style=\"color: #008000; text-decoration-color: #008000\">'list'</span>: <span style=\"font-weight: bold\">[]</span>, <span style=\"color: #008000; text-decoration-color: #008000\">'dict'</span>: <span style=\"font-weight: bold\">{}}</span> <span style=\"color: #008000; text-decoration-color: #008000\">│</span> <span style=\"color: #000080; text-decoration-color: #000080\">│</span>\n",
       "<span style=\"color: #000080; text-decoration-color: #000080\">│</span> <span style=\"color: #008000; text-decoration-color: #008000\">╰──────────────────────────────────────────────────────────────────────────╯</span> <span style=\"color: #000080; text-decoration-color: #000080\">│</span>\n",
       "<span style=\"color: #000080; text-decoration-color: #000080\">│</span>                                                                              <span style=\"color: #000080; text-decoration-color: #000080\">│</span>\n",
       "<span style=\"color: #000080; text-decoration-color: #000080\">│</span> <span style=\"color: #008080; text-decoration-color: #008080; font-weight: bold\">30</span><span style=\"font-style: italic\"> attribute(s) not shown.</span> Run <span style=\"color: #800080; text-decoration-color: #800080; font-weight: bold\">inspect</span><span style=\"font-weight: bold\">(</span>inspect<span style=\"font-weight: bold\">)</span> for options.                 <span style=\"color: #000080; text-decoration-color: #000080\">│</span>\n",
       "<span style=\"color: #000080; text-decoration-color: #000080\">╰──────────────────────────────────────────────────────────────────────────────╯</span>\n",
       "</pre>\n"
      ],
      "text/plain": [
       "\u001b[34m╭─\u001b[0m\u001b[34m────────────────────────────── \u001b[0m\u001b[1;34m<\u001b[0m\u001b[1;95mclass\u001b[0m\u001b[39m \u001b[0m\u001b[32m'dict'\u001b[0m\u001b[1;34m>\u001b[0m\u001b[34m ──────────────────────────────\u001b[0m\u001b[34m─╮\u001b[0m\n",
       "\u001b[34m│\u001b[0m \u001b[1;35mdict\u001b[0m\u001b[1;36m(\u001b[0m\u001b[1;36m)\u001b[0m\u001b[36m -> new empty dictionary\u001b[0m                                               \u001b[34m│\u001b[0m\n",
       "\u001b[34m│\u001b[0m \u001b[1;35mdict\u001b[0m\u001b[1;36m(\u001b[0m\u001b[36mmapping\u001b[0m\u001b[1;36m)\u001b[0m\u001b[36m -> new dictionary initialized from a mapping object's\u001b[0m          \u001b[34m│\u001b[0m\n",
       "\u001b[34m│\u001b[0m \u001b[36m    \u001b[0m\u001b[1;36m(\u001b[0m\u001b[36mkey, value\u001b[0m\u001b[1;36m)\u001b[0m\u001b[36m pairs\u001b[0m                                                       \u001b[34m│\u001b[0m\n",
       "\u001b[34m│\u001b[0m \u001b[1;35mdict\u001b[0m\u001b[1;36m(\u001b[0m\u001b[36miterable\u001b[0m\u001b[1;36m)\u001b[0m\u001b[36m -> new dictionary initialized as if via:\u001b[0m                      \u001b[34m│\u001b[0m\n",
       "\u001b[34m│\u001b[0m \u001b[36m    d = \u001b[0m\u001b[1;36m{\u001b[0m\u001b[1;36m}\u001b[0m                                                                   \u001b[34m│\u001b[0m\n",
       "\u001b[34m│\u001b[0m \u001b[36m    for k, v in iterable:\u001b[0m                                                    \u001b[34m│\u001b[0m\n",
       "\u001b[34m│\u001b[0m \u001b[36m        d\u001b[0m\u001b[1;36m[\u001b[0m\u001b[36mk\u001b[0m\u001b[1;36m]\u001b[0m\u001b[36m = v\u001b[0m                                                             \u001b[34m│\u001b[0m\n",
       "\u001b[34m│\u001b[0m \u001b[1;35mdict\u001b[0m\u001b[1;36m(\u001b[0m\u001b[36m**kwargs\u001b[0m\u001b[1;36m)\u001b[0m\u001b[36m -> new dictionary initialized with the \u001b[0m\u001b[33mname\u001b[0m\u001b[36m=\u001b[0m\u001b[35mvalue\u001b[0m\u001b[36m pairs\u001b[0m       \u001b[34m│\u001b[0m\n",
       "\u001b[34m│\u001b[0m \u001b[36m    in the keyword argument list.  For example:  \u001b[0m\u001b[1;35mdict\u001b[0m\u001b[1;36m(\u001b[0m\u001b[33mone\u001b[0m\u001b[36m=\u001b[0m\u001b[1;36m1\u001b[0m\u001b[36m, \u001b[0m\u001b[33mtwo\u001b[0m\u001b[36m=\u001b[0m\u001b[1;36m2\u001b[0m\u001b[1;36m)\u001b[0m          \u001b[34m│\u001b[0m\n",
       "\u001b[34m│\u001b[0m                                                                              \u001b[34m│\u001b[0m\n",
       "\u001b[34m│\u001b[0m \u001b[32m╭──────────────────────────────────────────────────────────────────────────╮\u001b[0m \u001b[34m│\u001b[0m\n",
       "\u001b[34m│\u001b[0m \u001b[32m│\u001b[0m \u001b[1m{\u001b[0m\u001b[32m'symbolic'\u001b[0m: \u001b[32m'm'\u001b[0m, \u001b[32m'numeric'\u001b[0m: \u001b[32m'm'\u001b[0m, \u001b[32m'code'\u001b[0m: \u001b[32m\"'m'\"\u001b[0m, \u001b[32m'list'\u001b[0m: \u001b[1m[\u001b[0m\u001b[1m]\u001b[0m, \u001b[32m'dict'\u001b[0m: \u001b[1m{\u001b[0m\u001b[1m}\u001b[0m\u001b[1m}\u001b[0m \u001b[32m│\u001b[0m \u001b[34m│\u001b[0m\n",
       "\u001b[34m│\u001b[0m \u001b[32m╰──────────────────────────────────────────────────────────────────────────╯\u001b[0m \u001b[34m│\u001b[0m\n",
       "\u001b[34m│\u001b[0m                                                                              \u001b[34m│\u001b[0m\n",
       "\u001b[34m│\u001b[0m \u001b[1;36m30\u001b[0m\u001b[3m attribute(s) not shown.\u001b[0m Run \u001b[1;35minspect\u001b[0m\u001b[1m(\u001b[0minspect\u001b[1m)\u001b[0m for options.                 \u001b[34m│\u001b[0m\n",
       "\u001b[34m╰──────────────────────────────────────────────────────────────────────────────╯\u001b[0m\n"
      ]
     },
     "metadata": {},
     "output_type": "display_data"
    },
    {
     "name": "stdout",
     "output_type": "stream",
     "text": [
      "Processing Quantity: Quantity(3, 'm')\n",
      "      node.args=[<_ast.Constant object at 0x0000028E51EE33A0>, <_ast.Constant object at 0x0000028E51EE3310>]\n",
      "to_numeric: Quantity(3, 'm')\n",
      "Call(\n",
      "  func = Name(\n",
      "    id = 'Quantity',\n",
      "    ctx = Load()),\n",
      "  args = [\n",
      "    Constant(\n",
      "      value = 2,\n",
      "      kind = None),\n",
      "    Constant(\n",
      "      value = 's',\n",
      "      kind = None)],\n",
      "  keywords = [])\n",
      "numeric=' '\n",
      "Processing Arg: <_ast.Constant object at 0x0000028E51EE3940>\n",
      "Constant(\n",
      "  value = 2,\n",
      "  kind = None)\n",
      "numeric=' '\n"
     ]
    },
    {
     "data": {
      "text/html": [
       "<pre style=\"white-space:pre;overflow-x:auto;line-height:normal;font-family:Menlo,'DejaVu Sans Mono',consolas,'Courier New',monospace\"><span style=\"color: #000080; text-decoration-color: #000080\">╭────────────────────────────── </span><span style=\"color: #000080; text-decoration-color: #000080; font-weight: bold\">&lt;</span><span style=\"color: #ff00ff; text-decoration-color: #ff00ff; font-weight: bold\">class</span><span style=\"color: #000000; text-decoration-color: #000000\"> </span><span style=\"color: #008000; text-decoration-color: #008000\">'dict'</span><span style=\"color: #000080; text-decoration-color: #000080; font-weight: bold\">&gt;</span><span style=\"color: #000080; text-decoration-color: #000080\"> ──────────────────────────────╮</span>\n",
       "<span style=\"color: #000080; text-decoration-color: #000080\">│</span> <span style=\"color: #800080; text-decoration-color: #800080; font-weight: bold\">dict</span><span style=\"color: #008080; text-decoration-color: #008080; font-weight: bold\">()</span><span style=\"color: #008080; text-decoration-color: #008080\"> -&gt; new empty dictionary</span>                                             <span style=\"color: #000080; text-decoration-color: #000080\">│</span>\n",
       "<span style=\"color: #000080; text-decoration-color: #000080\">│</span> <span style=\"color: #800080; text-decoration-color: #800080; font-weight: bold\">dict</span><span style=\"color: #008080; text-decoration-color: #008080; font-weight: bold\">(</span><span style=\"color: #008080; text-decoration-color: #008080\">mapping</span><span style=\"color: #008080; text-decoration-color: #008080; font-weight: bold\">)</span><span style=\"color: #008080; text-decoration-color: #008080\"> -&gt; new dictionary initialized from a mapping object's</span>        <span style=\"color: #000080; text-decoration-color: #000080\">│</span>\n",
       "<span style=\"color: #000080; text-decoration-color: #000080\">│</span> <span style=\"color: #008080; text-decoration-color: #008080\">    </span><span style=\"color: #008080; text-decoration-color: #008080; font-weight: bold\">(</span><span style=\"color: #008080; text-decoration-color: #008080\">key, value</span><span style=\"color: #008080; text-decoration-color: #008080; font-weight: bold\">)</span><span style=\"color: #008080; text-decoration-color: #008080\"> pairs</span>                                                     <span style=\"color: #000080; text-decoration-color: #000080\">│</span>\n",
       "<span style=\"color: #000080; text-decoration-color: #000080\">│</span> <span style=\"color: #800080; text-decoration-color: #800080; font-weight: bold\">dict</span><span style=\"color: #008080; text-decoration-color: #008080; font-weight: bold\">(</span><span style=\"color: #008080; text-decoration-color: #008080\">iterable</span><span style=\"color: #008080; text-decoration-color: #008080; font-weight: bold\">)</span><span style=\"color: #008080; text-decoration-color: #008080\"> -&gt; new dictionary initialized as if via:</span>                    <span style=\"color: #000080; text-decoration-color: #000080\">│</span>\n",
       "<span style=\"color: #000080; text-decoration-color: #000080\">│</span> <span style=\"color: #008080; text-decoration-color: #008080\">    d = </span><span style=\"color: #008080; text-decoration-color: #008080; font-weight: bold\">{}</span>                                                                 <span style=\"color: #000080; text-decoration-color: #000080\">│</span>\n",
       "<span style=\"color: #000080; text-decoration-color: #000080\">│</span> <span style=\"color: #008080; text-decoration-color: #008080\">    for k, v in iterable:</span>                                                  <span style=\"color: #000080; text-decoration-color: #000080\">│</span>\n",
       "<span style=\"color: #000080; text-decoration-color: #000080\">│</span> <span style=\"color: #008080; text-decoration-color: #008080\">        d</span><span style=\"color: #008080; text-decoration-color: #008080; font-weight: bold\">[</span><span style=\"color: #008080; text-decoration-color: #008080\">k</span><span style=\"color: #008080; text-decoration-color: #008080; font-weight: bold\">]</span><span style=\"color: #008080; text-decoration-color: #008080\"> = v</span>                                                           <span style=\"color: #000080; text-decoration-color: #000080\">│</span>\n",
       "<span style=\"color: #000080; text-decoration-color: #000080\">│</span> <span style=\"color: #800080; text-decoration-color: #800080; font-weight: bold\">dict</span><span style=\"color: #008080; text-decoration-color: #008080; font-weight: bold\">(</span><span style=\"color: #008080; text-decoration-color: #008080\">**kwargs</span><span style=\"color: #008080; text-decoration-color: #008080; font-weight: bold\">)</span><span style=\"color: #008080; text-decoration-color: #008080\"> -&gt; new dictionary initialized with the </span><span style=\"color: #808000; text-decoration-color: #808000\">name</span><span style=\"color: #008080; text-decoration-color: #008080\">=</span><span style=\"color: #800080; text-decoration-color: #800080\">value</span><span style=\"color: #008080; text-decoration-color: #008080\"> pairs</span>     <span style=\"color: #000080; text-decoration-color: #000080\">│</span>\n",
       "<span style=\"color: #000080; text-decoration-color: #000080\">│</span> <span style=\"color: #008080; text-decoration-color: #008080\">    in the keyword argument list.  For example:  </span><span style=\"color: #800080; text-decoration-color: #800080; font-weight: bold\">dict</span><span style=\"color: #008080; text-decoration-color: #008080; font-weight: bold\">(</span><span style=\"color: #808000; text-decoration-color: #808000\">one</span><span style=\"color: #008080; text-decoration-color: #008080\">=</span><span style=\"color: #008080; text-decoration-color: #008080; font-weight: bold\">1</span><span style=\"color: #008080; text-decoration-color: #008080\">, </span><span style=\"color: #808000; text-decoration-color: #808000\">two</span><span style=\"color: #008080; text-decoration-color: #008080\">=</span><span style=\"color: #008080; text-decoration-color: #008080; font-weight: bold\">2</span><span style=\"color: #008080; text-decoration-color: #008080; font-weight: bold\">)</span>        <span style=\"color: #000080; text-decoration-color: #000080\">│</span>\n",
       "<span style=\"color: #000080; text-decoration-color: #000080\">│</span>                                                                            <span style=\"color: #000080; text-decoration-color: #000080\">│</span>\n",
       "<span style=\"color: #000080; text-decoration-color: #000080\">│</span> <span style=\"color: #008000; text-decoration-color: #008000\">╭────────────────────────────────────────────────────────────────────────╮</span> <span style=\"color: #000080; text-decoration-color: #000080\">│</span>\n",
       "<span style=\"color: #000080; text-decoration-color: #000080\">│</span> <span style=\"color: #008000; text-decoration-color: #008000\">│</span> <span style=\"font-weight: bold\">{</span><span style=\"color: #008000; text-decoration-color: #008000\">'symbolic'</span>: <span style=\"color: #008000; text-decoration-color: #008000\">'2'</span>, <span style=\"color: #008000; text-decoration-color: #008000\">'numeric'</span>: <span style=\"color: #008000; text-decoration-color: #008000\">'2'</span>, <span style=\"color: #008000; text-decoration-color: #008000\">'code'</span>: <span style=\"color: #008000; text-decoration-color: #008000\">'2'</span>, <span style=\"color: #008000; text-decoration-color: #008000\">'list'</span>: <span style=\"font-weight: bold\">[]</span>, <span style=\"color: #008000; text-decoration-color: #008000\">'dict'</span>: <span style=\"font-weight: bold\">{}}</span> <span style=\"color: #008000; text-decoration-color: #008000\">│</span> <span style=\"color: #000080; text-decoration-color: #000080\">│</span>\n",
       "<span style=\"color: #000080; text-decoration-color: #000080\">│</span> <span style=\"color: #008000; text-decoration-color: #008000\">╰────────────────────────────────────────────────────────────────────────╯</span> <span style=\"color: #000080; text-decoration-color: #000080\">│</span>\n",
       "<span style=\"color: #000080; text-decoration-color: #000080\">│</span>                                                                            <span style=\"color: #000080; text-decoration-color: #000080\">│</span>\n",
       "<span style=\"color: #000080; text-decoration-color: #000080\">│</span> <span style=\"color: #008080; text-decoration-color: #008080; font-weight: bold\">30</span><span style=\"font-style: italic\"> attribute(s) not shown.</span> Run <span style=\"color: #800080; text-decoration-color: #800080; font-weight: bold\">inspect</span><span style=\"font-weight: bold\">(</span>inspect<span style=\"font-weight: bold\">)</span> for options.               <span style=\"color: #000080; text-decoration-color: #000080\">│</span>\n",
       "<span style=\"color: #000080; text-decoration-color: #000080\">╰────────────────────────────────────────────────────────────────────────────╯</span>\n",
       "</pre>\n"
      ],
      "text/plain": [
       "\u001b[34m╭─\u001b[0m\u001b[34m───────────────────────────── \u001b[0m\u001b[1;34m<\u001b[0m\u001b[1;95mclass\u001b[0m\u001b[39m \u001b[0m\u001b[32m'dict'\u001b[0m\u001b[1;34m>\u001b[0m\u001b[34m ─────────────────────────────\u001b[0m\u001b[34m─╮\u001b[0m\n",
       "\u001b[34m│\u001b[0m \u001b[1;35mdict\u001b[0m\u001b[1;36m(\u001b[0m\u001b[1;36m)\u001b[0m\u001b[36m -> new empty dictionary\u001b[0m                                             \u001b[34m│\u001b[0m\n",
       "\u001b[34m│\u001b[0m \u001b[1;35mdict\u001b[0m\u001b[1;36m(\u001b[0m\u001b[36mmapping\u001b[0m\u001b[1;36m)\u001b[0m\u001b[36m -> new dictionary initialized from a mapping object's\u001b[0m        \u001b[34m│\u001b[0m\n",
       "\u001b[34m│\u001b[0m \u001b[36m    \u001b[0m\u001b[1;36m(\u001b[0m\u001b[36mkey, value\u001b[0m\u001b[1;36m)\u001b[0m\u001b[36m pairs\u001b[0m                                                     \u001b[34m│\u001b[0m\n",
       "\u001b[34m│\u001b[0m \u001b[1;35mdict\u001b[0m\u001b[1;36m(\u001b[0m\u001b[36miterable\u001b[0m\u001b[1;36m)\u001b[0m\u001b[36m -> new dictionary initialized as if via:\u001b[0m                    \u001b[34m│\u001b[0m\n",
       "\u001b[34m│\u001b[0m \u001b[36m    d = \u001b[0m\u001b[1;36m{\u001b[0m\u001b[1;36m}\u001b[0m                                                                 \u001b[34m│\u001b[0m\n",
       "\u001b[34m│\u001b[0m \u001b[36m    for k, v in iterable:\u001b[0m                                                  \u001b[34m│\u001b[0m\n",
       "\u001b[34m│\u001b[0m \u001b[36m        d\u001b[0m\u001b[1;36m[\u001b[0m\u001b[36mk\u001b[0m\u001b[1;36m]\u001b[0m\u001b[36m = v\u001b[0m                                                           \u001b[34m│\u001b[0m\n",
       "\u001b[34m│\u001b[0m \u001b[1;35mdict\u001b[0m\u001b[1;36m(\u001b[0m\u001b[36m**kwargs\u001b[0m\u001b[1;36m)\u001b[0m\u001b[36m -> new dictionary initialized with the \u001b[0m\u001b[33mname\u001b[0m\u001b[36m=\u001b[0m\u001b[35mvalue\u001b[0m\u001b[36m pairs\u001b[0m     \u001b[34m│\u001b[0m\n",
       "\u001b[34m│\u001b[0m \u001b[36m    in the keyword argument list.  For example:  \u001b[0m\u001b[1;35mdict\u001b[0m\u001b[1;36m(\u001b[0m\u001b[33mone\u001b[0m\u001b[36m=\u001b[0m\u001b[1;36m1\u001b[0m\u001b[36m, \u001b[0m\u001b[33mtwo\u001b[0m\u001b[36m=\u001b[0m\u001b[1;36m2\u001b[0m\u001b[1;36m)\u001b[0m        \u001b[34m│\u001b[0m\n",
       "\u001b[34m│\u001b[0m                                                                            \u001b[34m│\u001b[0m\n",
       "\u001b[34m│\u001b[0m \u001b[32m╭────────────────────────────────────────────────────────────────────────╮\u001b[0m \u001b[34m│\u001b[0m\n",
       "\u001b[34m│\u001b[0m \u001b[32m│\u001b[0m \u001b[1m{\u001b[0m\u001b[32m'symbolic'\u001b[0m: \u001b[32m'2'\u001b[0m, \u001b[32m'numeric'\u001b[0m: \u001b[32m'2'\u001b[0m, \u001b[32m'code'\u001b[0m: \u001b[32m'2'\u001b[0m, \u001b[32m'list'\u001b[0m: \u001b[1m[\u001b[0m\u001b[1m]\u001b[0m, \u001b[32m'dict'\u001b[0m: \u001b[1m{\u001b[0m\u001b[1m}\u001b[0m\u001b[1m}\u001b[0m \u001b[32m│\u001b[0m \u001b[34m│\u001b[0m\n",
       "\u001b[34m│\u001b[0m \u001b[32m╰────────────────────────────────────────────────────────────────────────╯\u001b[0m \u001b[34m│\u001b[0m\n",
       "\u001b[34m│\u001b[0m                                                                            \u001b[34m│\u001b[0m\n",
       "\u001b[34m│\u001b[0m \u001b[1;36m30\u001b[0m\u001b[3m attribute(s) not shown.\u001b[0m Run \u001b[1;35minspect\u001b[0m\u001b[1m(\u001b[0minspect\u001b[1m)\u001b[0m for options.               \u001b[34m│\u001b[0m\n",
       "\u001b[34m╰────────────────────────────────────────────────────────────────────────────╯\u001b[0m\n"
      ]
     },
     "metadata": {},
     "output_type": "display_data"
    },
    {
     "name": "stdout",
     "output_type": "stream",
     "text": [
      "Processing Arg: <_ast.Constant object at 0x0000028E51EE3400>\n",
      "Constant(\n",
      "  value = 's',\n",
      "  kind = None)\n",
      "numeric=' '\n"
     ]
    },
    {
     "data": {
      "text/html": [
       "<pre style=\"white-space:pre;overflow-x:auto;line-height:normal;font-family:Menlo,'DejaVu Sans Mono',consolas,'Courier New',monospace\"><span style=\"color: #000080; text-decoration-color: #000080\">╭─────────────────────────────── </span><span style=\"color: #000080; text-decoration-color: #000080; font-weight: bold\">&lt;</span><span style=\"color: #ff00ff; text-decoration-color: #ff00ff; font-weight: bold\">class</span><span style=\"color: #000000; text-decoration-color: #000000\"> </span><span style=\"color: #008000; text-decoration-color: #008000\">'dict'</span><span style=\"color: #000080; text-decoration-color: #000080; font-weight: bold\">&gt;</span><span style=\"color: #000080; text-decoration-color: #000080\"> ───────────────────────────────╮</span>\n",
       "<span style=\"color: #000080; text-decoration-color: #000080\">│</span> <span style=\"color: #800080; text-decoration-color: #800080; font-weight: bold\">dict</span><span style=\"color: #008080; text-decoration-color: #008080; font-weight: bold\">()</span><span style=\"color: #008080; text-decoration-color: #008080\"> -&gt; new empty dictionary</span>                                               <span style=\"color: #000080; text-decoration-color: #000080\">│</span>\n",
       "<span style=\"color: #000080; text-decoration-color: #000080\">│</span> <span style=\"color: #800080; text-decoration-color: #800080; font-weight: bold\">dict</span><span style=\"color: #008080; text-decoration-color: #008080; font-weight: bold\">(</span><span style=\"color: #008080; text-decoration-color: #008080\">mapping</span><span style=\"color: #008080; text-decoration-color: #008080; font-weight: bold\">)</span><span style=\"color: #008080; text-decoration-color: #008080\"> -&gt; new dictionary initialized from a mapping object's</span>          <span style=\"color: #000080; text-decoration-color: #000080\">│</span>\n",
       "<span style=\"color: #000080; text-decoration-color: #000080\">│</span> <span style=\"color: #008080; text-decoration-color: #008080\">    </span><span style=\"color: #008080; text-decoration-color: #008080; font-weight: bold\">(</span><span style=\"color: #008080; text-decoration-color: #008080\">key, value</span><span style=\"color: #008080; text-decoration-color: #008080; font-weight: bold\">)</span><span style=\"color: #008080; text-decoration-color: #008080\"> pairs</span>                                                       <span style=\"color: #000080; text-decoration-color: #000080\">│</span>\n",
       "<span style=\"color: #000080; text-decoration-color: #000080\">│</span> <span style=\"color: #800080; text-decoration-color: #800080; font-weight: bold\">dict</span><span style=\"color: #008080; text-decoration-color: #008080; font-weight: bold\">(</span><span style=\"color: #008080; text-decoration-color: #008080\">iterable</span><span style=\"color: #008080; text-decoration-color: #008080; font-weight: bold\">)</span><span style=\"color: #008080; text-decoration-color: #008080\"> -&gt; new dictionary initialized as if via:</span>                      <span style=\"color: #000080; text-decoration-color: #000080\">│</span>\n",
       "<span style=\"color: #000080; text-decoration-color: #000080\">│</span> <span style=\"color: #008080; text-decoration-color: #008080\">    d = </span><span style=\"color: #008080; text-decoration-color: #008080; font-weight: bold\">{}</span>                                                                   <span style=\"color: #000080; text-decoration-color: #000080\">│</span>\n",
       "<span style=\"color: #000080; text-decoration-color: #000080\">│</span> <span style=\"color: #008080; text-decoration-color: #008080\">    for k, v in iterable:</span>                                                    <span style=\"color: #000080; text-decoration-color: #000080\">│</span>\n",
       "<span style=\"color: #000080; text-decoration-color: #000080\">│</span> <span style=\"color: #008080; text-decoration-color: #008080\">        d</span><span style=\"color: #008080; text-decoration-color: #008080; font-weight: bold\">[</span><span style=\"color: #008080; text-decoration-color: #008080\">k</span><span style=\"color: #008080; text-decoration-color: #008080; font-weight: bold\">]</span><span style=\"color: #008080; text-decoration-color: #008080\"> = v</span>                                                             <span style=\"color: #000080; text-decoration-color: #000080\">│</span>\n",
       "<span style=\"color: #000080; text-decoration-color: #000080\">│</span> <span style=\"color: #800080; text-decoration-color: #800080; font-weight: bold\">dict</span><span style=\"color: #008080; text-decoration-color: #008080; font-weight: bold\">(</span><span style=\"color: #008080; text-decoration-color: #008080\">**kwargs</span><span style=\"color: #008080; text-decoration-color: #008080; font-weight: bold\">)</span><span style=\"color: #008080; text-decoration-color: #008080\"> -&gt; new dictionary initialized with the </span><span style=\"color: #808000; text-decoration-color: #808000\">name</span><span style=\"color: #008080; text-decoration-color: #008080\">=</span><span style=\"color: #800080; text-decoration-color: #800080\">value</span><span style=\"color: #008080; text-decoration-color: #008080\"> pairs</span>       <span style=\"color: #000080; text-decoration-color: #000080\">│</span>\n",
       "<span style=\"color: #000080; text-decoration-color: #000080\">│</span> <span style=\"color: #008080; text-decoration-color: #008080\">    in the keyword argument list.  For example:  </span><span style=\"color: #800080; text-decoration-color: #800080; font-weight: bold\">dict</span><span style=\"color: #008080; text-decoration-color: #008080; font-weight: bold\">(</span><span style=\"color: #808000; text-decoration-color: #808000\">one</span><span style=\"color: #008080; text-decoration-color: #008080\">=</span><span style=\"color: #008080; text-decoration-color: #008080; font-weight: bold\">1</span><span style=\"color: #008080; text-decoration-color: #008080\">, </span><span style=\"color: #808000; text-decoration-color: #808000\">two</span><span style=\"color: #008080; text-decoration-color: #008080\">=</span><span style=\"color: #008080; text-decoration-color: #008080; font-weight: bold\">2</span><span style=\"color: #008080; text-decoration-color: #008080; font-weight: bold\">)</span>          <span style=\"color: #000080; text-decoration-color: #000080\">│</span>\n",
       "<span style=\"color: #000080; text-decoration-color: #000080\">│</span>                                                                              <span style=\"color: #000080; text-decoration-color: #000080\">│</span>\n",
       "<span style=\"color: #000080; text-decoration-color: #000080\">│</span> <span style=\"color: #008000; text-decoration-color: #008000\">╭──────────────────────────────────────────────────────────────────────────╮</span> <span style=\"color: #000080; text-decoration-color: #000080\">│</span>\n",
       "<span style=\"color: #000080; text-decoration-color: #000080\">│</span> <span style=\"color: #008000; text-decoration-color: #008000\">│</span> <span style=\"font-weight: bold\">{</span><span style=\"color: #008000; text-decoration-color: #008000\">'symbolic'</span>: <span style=\"color: #008000; text-decoration-color: #008000\">'s'</span>, <span style=\"color: #008000; text-decoration-color: #008000\">'numeric'</span>: <span style=\"color: #008000; text-decoration-color: #008000\">'s'</span>, <span style=\"color: #008000; text-decoration-color: #008000\">'code'</span>: <span style=\"color: #008000; text-decoration-color: #008000\">\"'s'\"</span>, <span style=\"color: #008000; text-decoration-color: #008000\">'list'</span>: <span style=\"font-weight: bold\">[]</span>, <span style=\"color: #008000; text-decoration-color: #008000\">'dict'</span>: <span style=\"font-weight: bold\">{}}</span> <span style=\"color: #008000; text-decoration-color: #008000\">│</span> <span style=\"color: #000080; text-decoration-color: #000080\">│</span>\n",
       "<span style=\"color: #000080; text-decoration-color: #000080\">│</span> <span style=\"color: #008000; text-decoration-color: #008000\">╰──────────────────────────────────────────────────────────────────────────╯</span> <span style=\"color: #000080; text-decoration-color: #000080\">│</span>\n",
       "<span style=\"color: #000080; text-decoration-color: #000080\">│</span>                                                                              <span style=\"color: #000080; text-decoration-color: #000080\">│</span>\n",
       "<span style=\"color: #000080; text-decoration-color: #000080\">│</span> <span style=\"color: #008080; text-decoration-color: #008080; font-weight: bold\">30</span><span style=\"font-style: italic\"> attribute(s) not shown.</span> Run <span style=\"color: #800080; text-decoration-color: #800080; font-weight: bold\">inspect</span><span style=\"font-weight: bold\">(</span>inspect<span style=\"font-weight: bold\">)</span> for options.                 <span style=\"color: #000080; text-decoration-color: #000080\">│</span>\n",
       "<span style=\"color: #000080; text-decoration-color: #000080\">╰──────────────────────────────────────────────────────────────────────────────╯</span>\n",
       "</pre>\n"
      ],
      "text/plain": [
       "\u001b[34m╭─\u001b[0m\u001b[34m────────────────────────────── \u001b[0m\u001b[1;34m<\u001b[0m\u001b[1;95mclass\u001b[0m\u001b[39m \u001b[0m\u001b[32m'dict'\u001b[0m\u001b[1;34m>\u001b[0m\u001b[34m ──────────────────────────────\u001b[0m\u001b[34m─╮\u001b[0m\n",
       "\u001b[34m│\u001b[0m \u001b[1;35mdict\u001b[0m\u001b[1;36m(\u001b[0m\u001b[1;36m)\u001b[0m\u001b[36m -> new empty dictionary\u001b[0m                                               \u001b[34m│\u001b[0m\n",
       "\u001b[34m│\u001b[0m \u001b[1;35mdict\u001b[0m\u001b[1;36m(\u001b[0m\u001b[36mmapping\u001b[0m\u001b[1;36m)\u001b[0m\u001b[36m -> new dictionary initialized from a mapping object's\u001b[0m          \u001b[34m│\u001b[0m\n",
       "\u001b[34m│\u001b[0m \u001b[36m    \u001b[0m\u001b[1;36m(\u001b[0m\u001b[36mkey, value\u001b[0m\u001b[1;36m)\u001b[0m\u001b[36m pairs\u001b[0m                                                       \u001b[34m│\u001b[0m\n",
       "\u001b[34m│\u001b[0m \u001b[1;35mdict\u001b[0m\u001b[1;36m(\u001b[0m\u001b[36miterable\u001b[0m\u001b[1;36m)\u001b[0m\u001b[36m -> new dictionary initialized as if via:\u001b[0m                      \u001b[34m│\u001b[0m\n",
       "\u001b[34m│\u001b[0m \u001b[36m    d = \u001b[0m\u001b[1;36m{\u001b[0m\u001b[1;36m}\u001b[0m                                                                   \u001b[34m│\u001b[0m\n",
       "\u001b[34m│\u001b[0m \u001b[36m    for k, v in iterable:\u001b[0m                                                    \u001b[34m│\u001b[0m\n",
       "\u001b[34m│\u001b[0m \u001b[36m        d\u001b[0m\u001b[1;36m[\u001b[0m\u001b[36mk\u001b[0m\u001b[1;36m]\u001b[0m\u001b[36m = v\u001b[0m                                                             \u001b[34m│\u001b[0m\n",
       "\u001b[34m│\u001b[0m \u001b[1;35mdict\u001b[0m\u001b[1;36m(\u001b[0m\u001b[36m**kwargs\u001b[0m\u001b[1;36m)\u001b[0m\u001b[36m -> new dictionary initialized with the \u001b[0m\u001b[33mname\u001b[0m\u001b[36m=\u001b[0m\u001b[35mvalue\u001b[0m\u001b[36m pairs\u001b[0m       \u001b[34m│\u001b[0m\n",
       "\u001b[34m│\u001b[0m \u001b[36m    in the keyword argument list.  For example:  \u001b[0m\u001b[1;35mdict\u001b[0m\u001b[1;36m(\u001b[0m\u001b[33mone\u001b[0m\u001b[36m=\u001b[0m\u001b[1;36m1\u001b[0m\u001b[36m, \u001b[0m\u001b[33mtwo\u001b[0m\u001b[36m=\u001b[0m\u001b[1;36m2\u001b[0m\u001b[1;36m)\u001b[0m          \u001b[34m│\u001b[0m\n",
       "\u001b[34m│\u001b[0m                                                                              \u001b[34m│\u001b[0m\n",
       "\u001b[34m│\u001b[0m \u001b[32m╭──────────────────────────────────────────────────────────────────────────╮\u001b[0m \u001b[34m│\u001b[0m\n",
       "\u001b[34m│\u001b[0m \u001b[32m│\u001b[0m \u001b[1m{\u001b[0m\u001b[32m'symbolic'\u001b[0m: \u001b[32m's'\u001b[0m, \u001b[32m'numeric'\u001b[0m: \u001b[32m's'\u001b[0m, \u001b[32m'code'\u001b[0m: \u001b[32m\"'s'\"\u001b[0m, \u001b[32m'list'\u001b[0m: \u001b[1m[\u001b[0m\u001b[1m]\u001b[0m, \u001b[32m'dict'\u001b[0m: \u001b[1m{\u001b[0m\u001b[1m}\u001b[0m\u001b[1m}\u001b[0m \u001b[32m│\u001b[0m \u001b[34m│\u001b[0m\n",
       "\u001b[34m│\u001b[0m \u001b[32m╰──────────────────────────────────────────────────────────────────────────╯\u001b[0m \u001b[34m│\u001b[0m\n",
       "\u001b[34m│\u001b[0m                                                                              \u001b[34m│\u001b[0m\n",
       "\u001b[34m│\u001b[0m \u001b[1;36m30\u001b[0m\u001b[3m attribute(s) not shown.\u001b[0m Run \u001b[1;35minspect\u001b[0m\u001b[1m(\u001b[0minspect\u001b[1m)\u001b[0m for options.                 \u001b[34m│\u001b[0m\n",
       "\u001b[34m╰──────────────────────────────────────────────────────────────────────────────╯\u001b[0m\n"
      ]
     },
     "metadata": {},
     "output_type": "display_data"
    },
    {
     "name": "stdout",
     "output_type": "stream",
     "text": [
      "Processing Quantity: Quantity(2, 's')\n",
      "      node.args=[<_ast.Constant object at 0x0000028E51EE3940>, <_ast.Constant object at 0x0000028E51EE3400>]\n",
      "to_numeric: Quantity(2, 's')\n",
      "Name(\n",
      "  id = 'x',\n",
      "  ctx = Store())\n",
      "numeric=' '\n",
      "to_numeric: x\n",
      "Name(\n",
      "  id = 'a',\n",
      "  ctx = Store())\n",
      "numeric=' '\n",
      "to_numeric: a\n",
      "Name(\n",
      "  id = 'v',\n",
      "  ctx = Store())\n",
      "numeric=' '\n",
      "to_numeric: v\n",
      "LHS_Symbolic: x\n",
      "RHS_Symbolic: \\frac{ 3\\ \\mathrm{m} }{ 2\\ \\mathrm{s} }\n",
      "RHS_Numeric: \\frac{ 3\\ \\mathrm{m} }{ 2\\ \\mathrm{s} }\n",
      "LHS_Numeric: 1.5\\ \\frac{\\mathrm{m}}{\\mathrm{s}}\n",
      "Call(\n",
      "  func = Attribute(\n",
      "    value = Call(\n",
      "      func = Name(\n",
      "        id = 'Quantity',\n",
      "        ctx = Load()),\n",
      "      args = [\n",
      "        Constant(\n",
      "          value = 2,\n",
      "          kind = None),\n",
      "        Constant(\n",
      "          value = 'ft',\n",
      "          kind = None)],\n",
      "      keywords = []),\n",
      "    attr = 'plus_minus',\n",
      "    ctx = Load()),\n",
      "  args = [\n",
      "    Constant(\n",
      "      value = 0.2,\n",
      "      kind = None)],\n",
      "  keywords = [])\n",
      "numeric=' '\n",
      "Attribute(\n",
      "  value = Call(\n",
      "    func = Name(\n",
      "      id = 'Quantity',\n",
      "      ctx = Load()),\n",
      "    args = [\n",
      "      Constant(\n",
      "        value = 2,\n",
      "        kind = None),\n",
      "      Constant(\n",
      "        value = 'ft',\n",
      "        kind = None)],\n",
      "    keywords = []),\n",
      "  attr = 'plus_minus',\n",
      "  ctx = Load())\n",
      "numeric=' '\n",
      "Call(\n",
      "  func = Name(\n",
      "    id = 'Quantity',\n",
      "    ctx = Load()),\n",
      "  args = [\n",
      "    Constant(\n",
      "      value = 2,\n",
      "      kind = None),\n",
      "    Constant(\n",
      "      value = 'ft',\n",
      "      kind = None)],\n",
      "  keywords = [])\n",
      "numeric=' '\n",
      "Processing Arg: <_ast.Constant object at 0x0000028E51B95C10>\n",
      "Constant(\n",
      "  value = 2,\n",
      "  kind = None)\n",
      "numeric=' '\n"
     ]
    },
    {
     "data": {
      "text/html": [
       "<pre style=\"white-space:pre;overflow-x:auto;line-height:normal;font-family:Menlo,'DejaVu Sans Mono',consolas,'Courier New',monospace\"><span style=\"color: #000080; text-decoration-color: #000080\">╭────────────────────────────── </span><span style=\"color: #000080; text-decoration-color: #000080; font-weight: bold\">&lt;</span><span style=\"color: #ff00ff; text-decoration-color: #ff00ff; font-weight: bold\">class</span><span style=\"color: #000000; text-decoration-color: #000000\"> </span><span style=\"color: #008000; text-decoration-color: #008000\">'dict'</span><span style=\"color: #000080; text-decoration-color: #000080; font-weight: bold\">&gt;</span><span style=\"color: #000080; text-decoration-color: #000080\"> ──────────────────────────────╮</span>\n",
       "<span style=\"color: #000080; text-decoration-color: #000080\">│</span> <span style=\"color: #800080; text-decoration-color: #800080; font-weight: bold\">dict</span><span style=\"color: #008080; text-decoration-color: #008080; font-weight: bold\">()</span><span style=\"color: #008080; text-decoration-color: #008080\"> -&gt; new empty dictionary</span>                                             <span style=\"color: #000080; text-decoration-color: #000080\">│</span>\n",
       "<span style=\"color: #000080; text-decoration-color: #000080\">│</span> <span style=\"color: #800080; text-decoration-color: #800080; font-weight: bold\">dict</span><span style=\"color: #008080; text-decoration-color: #008080; font-weight: bold\">(</span><span style=\"color: #008080; text-decoration-color: #008080\">mapping</span><span style=\"color: #008080; text-decoration-color: #008080; font-weight: bold\">)</span><span style=\"color: #008080; text-decoration-color: #008080\"> -&gt; new dictionary initialized from a mapping object's</span>        <span style=\"color: #000080; text-decoration-color: #000080\">│</span>\n",
       "<span style=\"color: #000080; text-decoration-color: #000080\">│</span> <span style=\"color: #008080; text-decoration-color: #008080\">    </span><span style=\"color: #008080; text-decoration-color: #008080; font-weight: bold\">(</span><span style=\"color: #008080; text-decoration-color: #008080\">key, value</span><span style=\"color: #008080; text-decoration-color: #008080; font-weight: bold\">)</span><span style=\"color: #008080; text-decoration-color: #008080\"> pairs</span>                                                     <span style=\"color: #000080; text-decoration-color: #000080\">│</span>\n",
       "<span style=\"color: #000080; text-decoration-color: #000080\">│</span> <span style=\"color: #800080; text-decoration-color: #800080; font-weight: bold\">dict</span><span style=\"color: #008080; text-decoration-color: #008080; font-weight: bold\">(</span><span style=\"color: #008080; text-decoration-color: #008080\">iterable</span><span style=\"color: #008080; text-decoration-color: #008080; font-weight: bold\">)</span><span style=\"color: #008080; text-decoration-color: #008080\"> -&gt; new dictionary initialized as if via:</span>                    <span style=\"color: #000080; text-decoration-color: #000080\">│</span>\n",
       "<span style=\"color: #000080; text-decoration-color: #000080\">│</span> <span style=\"color: #008080; text-decoration-color: #008080\">    d = </span><span style=\"color: #008080; text-decoration-color: #008080; font-weight: bold\">{}</span>                                                                 <span style=\"color: #000080; text-decoration-color: #000080\">│</span>\n",
       "<span style=\"color: #000080; text-decoration-color: #000080\">│</span> <span style=\"color: #008080; text-decoration-color: #008080\">    for k, v in iterable:</span>                                                  <span style=\"color: #000080; text-decoration-color: #000080\">│</span>\n",
       "<span style=\"color: #000080; text-decoration-color: #000080\">│</span> <span style=\"color: #008080; text-decoration-color: #008080\">        d</span><span style=\"color: #008080; text-decoration-color: #008080; font-weight: bold\">[</span><span style=\"color: #008080; text-decoration-color: #008080\">k</span><span style=\"color: #008080; text-decoration-color: #008080; font-weight: bold\">]</span><span style=\"color: #008080; text-decoration-color: #008080\"> = v</span>                                                           <span style=\"color: #000080; text-decoration-color: #000080\">│</span>\n",
       "<span style=\"color: #000080; text-decoration-color: #000080\">│</span> <span style=\"color: #800080; text-decoration-color: #800080; font-weight: bold\">dict</span><span style=\"color: #008080; text-decoration-color: #008080; font-weight: bold\">(</span><span style=\"color: #008080; text-decoration-color: #008080\">**kwargs</span><span style=\"color: #008080; text-decoration-color: #008080; font-weight: bold\">)</span><span style=\"color: #008080; text-decoration-color: #008080\"> -&gt; new dictionary initialized with the </span><span style=\"color: #808000; text-decoration-color: #808000\">name</span><span style=\"color: #008080; text-decoration-color: #008080\">=</span><span style=\"color: #800080; text-decoration-color: #800080\">value</span><span style=\"color: #008080; text-decoration-color: #008080\"> pairs</span>     <span style=\"color: #000080; text-decoration-color: #000080\">│</span>\n",
       "<span style=\"color: #000080; text-decoration-color: #000080\">│</span> <span style=\"color: #008080; text-decoration-color: #008080\">    in the keyword argument list.  For example:  </span><span style=\"color: #800080; text-decoration-color: #800080; font-weight: bold\">dict</span><span style=\"color: #008080; text-decoration-color: #008080; font-weight: bold\">(</span><span style=\"color: #808000; text-decoration-color: #808000\">one</span><span style=\"color: #008080; text-decoration-color: #008080\">=</span><span style=\"color: #008080; text-decoration-color: #008080; font-weight: bold\">1</span><span style=\"color: #008080; text-decoration-color: #008080\">, </span><span style=\"color: #808000; text-decoration-color: #808000\">two</span><span style=\"color: #008080; text-decoration-color: #008080\">=</span><span style=\"color: #008080; text-decoration-color: #008080; font-weight: bold\">2</span><span style=\"color: #008080; text-decoration-color: #008080; font-weight: bold\">)</span>        <span style=\"color: #000080; text-decoration-color: #000080\">│</span>\n",
       "<span style=\"color: #000080; text-decoration-color: #000080\">│</span>                                                                            <span style=\"color: #000080; text-decoration-color: #000080\">│</span>\n",
       "<span style=\"color: #000080; text-decoration-color: #000080\">│</span> <span style=\"color: #008000; text-decoration-color: #008000\">╭────────────────────────────────────────────────────────────────────────╮</span> <span style=\"color: #000080; text-decoration-color: #000080\">│</span>\n",
       "<span style=\"color: #000080; text-decoration-color: #000080\">│</span> <span style=\"color: #008000; text-decoration-color: #008000\">│</span> <span style=\"font-weight: bold\">{</span><span style=\"color: #008000; text-decoration-color: #008000\">'symbolic'</span>: <span style=\"color: #008000; text-decoration-color: #008000\">'2'</span>, <span style=\"color: #008000; text-decoration-color: #008000\">'numeric'</span>: <span style=\"color: #008000; text-decoration-color: #008000\">'2'</span>, <span style=\"color: #008000; text-decoration-color: #008000\">'code'</span>: <span style=\"color: #008000; text-decoration-color: #008000\">'2'</span>, <span style=\"color: #008000; text-decoration-color: #008000\">'list'</span>: <span style=\"font-weight: bold\">[]</span>, <span style=\"color: #008000; text-decoration-color: #008000\">'dict'</span>: <span style=\"font-weight: bold\">{}}</span> <span style=\"color: #008000; text-decoration-color: #008000\">│</span> <span style=\"color: #000080; text-decoration-color: #000080\">│</span>\n",
       "<span style=\"color: #000080; text-decoration-color: #000080\">│</span> <span style=\"color: #008000; text-decoration-color: #008000\">╰────────────────────────────────────────────────────────────────────────╯</span> <span style=\"color: #000080; text-decoration-color: #000080\">│</span>\n",
       "<span style=\"color: #000080; text-decoration-color: #000080\">│</span>                                                                            <span style=\"color: #000080; text-decoration-color: #000080\">│</span>\n",
       "<span style=\"color: #000080; text-decoration-color: #000080\">│</span> <span style=\"color: #008080; text-decoration-color: #008080; font-weight: bold\">30</span><span style=\"font-style: italic\"> attribute(s) not shown.</span> Run <span style=\"color: #800080; text-decoration-color: #800080; font-weight: bold\">inspect</span><span style=\"font-weight: bold\">(</span>inspect<span style=\"font-weight: bold\">)</span> for options.               <span style=\"color: #000080; text-decoration-color: #000080\">│</span>\n",
       "<span style=\"color: #000080; text-decoration-color: #000080\">╰────────────────────────────────────────────────────────────────────────────╯</span>\n",
       "</pre>\n"
      ],
      "text/plain": [
       "\u001b[34m╭─\u001b[0m\u001b[34m───────────────────────────── \u001b[0m\u001b[1;34m<\u001b[0m\u001b[1;95mclass\u001b[0m\u001b[39m \u001b[0m\u001b[32m'dict'\u001b[0m\u001b[1;34m>\u001b[0m\u001b[34m ─────────────────────────────\u001b[0m\u001b[34m─╮\u001b[0m\n",
       "\u001b[34m│\u001b[0m \u001b[1;35mdict\u001b[0m\u001b[1;36m(\u001b[0m\u001b[1;36m)\u001b[0m\u001b[36m -> new empty dictionary\u001b[0m                                             \u001b[34m│\u001b[0m\n",
       "\u001b[34m│\u001b[0m \u001b[1;35mdict\u001b[0m\u001b[1;36m(\u001b[0m\u001b[36mmapping\u001b[0m\u001b[1;36m)\u001b[0m\u001b[36m -> new dictionary initialized from a mapping object's\u001b[0m        \u001b[34m│\u001b[0m\n",
       "\u001b[34m│\u001b[0m \u001b[36m    \u001b[0m\u001b[1;36m(\u001b[0m\u001b[36mkey, value\u001b[0m\u001b[1;36m)\u001b[0m\u001b[36m pairs\u001b[0m                                                     \u001b[34m│\u001b[0m\n",
       "\u001b[34m│\u001b[0m \u001b[1;35mdict\u001b[0m\u001b[1;36m(\u001b[0m\u001b[36miterable\u001b[0m\u001b[1;36m)\u001b[0m\u001b[36m -> new dictionary initialized as if via:\u001b[0m                    \u001b[34m│\u001b[0m\n",
       "\u001b[34m│\u001b[0m \u001b[36m    d = \u001b[0m\u001b[1;36m{\u001b[0m\u001b[1;36m}\u001b[0m                                                                 \u001b[34m│\u001b[0m\n",
       "\u001b[34m│\u001b[0m \u001b[36m    for k, v in iterable:\u001b[0m                                                  \u001b[34m│\u001b[0m\n",
       "\u001b[34m│\u001b[0m \u001b[36m        d\u001b[0m\u001b[1;36m[\u001b[0m\u001b[36mk\u001b[0m\u001b[1;36m]\u001b[0m\u001b[36m = v\u001b[0m                                                           \u001b[34m│\u001b[0m\n",
       "\u001b[34m│\u001b[0m \u001b[1;35mdict\u001b[0m\u001b[1;36m(\u001b[0m\u001b[36m**kwargs\u001b[0m\u001b[1;36m)\u001b[0m\u001b[36m -> new dictionary initialized with the \u001b[0m\u001b[33mname\u001b[0m\u001b[36m=\u001b[0m\u001b[35mvalue\u001b[0m\u001b[36m pairs\u001b[0m     \u001b[34m│\u001b[0m\n",
       "\u001b[34m│\u001b[0m \u001b[36m    in the keyword argument list.  For example:  \u001b[0m\u001b[1;35mdict\u001b[0m\u001b[1;36m(\u001b[0m\u001b[33mone\u001b[0m\u001b[36m=\u001b[0m\u001b[1;36m1\u001b[0m\u001b[36m, \u001b[0m\u001b[33mtwo\u001b[0m\u001b[36m=\u001b[0m\u001b[1;36m2\u001b[0m\u001b[1;36m)\u001b[0m        \u001b[34m│\u001b[0m\n",
       "\u001b[34m│\u001b[0m                                                                            \u001b[34m│\u001b[0m\n",
       "\u001b[34m│\u001b[0m \u001b[32m╭────────────────────────────────────────────────────────────────────────╮\u001b[0m \u001b[34m│\u001b[0m\n",
       "\u001b[34m│\u001b[0m \u001b[32m│\u001b[0m \u001b[1m{\u001b[0m\u001b[32m'symbolic'\u001b[0m: \u001b[32m'2'\u001b[0m, \u001b[32m'numeric'\u001b[0m: \u001b[32m'2'\u001b[0m, \u001b[32m'code'\u001b[0m: \u001b[32m'2'\u001b[0m, \u001b[32m'list'\u001b[0m: \u001b[1m[\u001b[0m\u001b[1m]\u001b[0m, \u001b[32m'dict'\u001b[0m: \u001b[1m{\u001b[0m\u001b[1m}\u001b[0m\u001b[1m}\u001b[0m \u001b[32m│\u001b[0m \u001b[34m│\u001b[0m\n",
       "\u001b[34m│\u001b[0m \u001b[32m╰────────────────────────────────────────────────────────────────────────╯\u001b[0m \u001b[34m│\u001b[0m\n",
       "\u001b[34m│\u001b[0m                                                                            \u001b[34m│\u001b[0m\n",
       "\u001b[34m│\u001b[0m \u001b[1;36m30\u001b[0m\u001b[3m attribute(s) not shown.\u001b[0m Run \u001b[1;35minspect\u001b[0m\u001b[1m(\u001b[0minspect\u001b[1m)\u001b[0m for options.               \u001b[34m│\u001b[0m\n",
       "\u001b[34m╰────────────────────────────────────────────────────────────────────────────╯\u001b[0m\n"
      ]
     },
     "metadata": {},
     "output_type": "display_data"
    },
    {
     "name": "stdout",
     "output_type": "stream",
     "text": [
      "Processing Arg: <_ast.Constant object at 0x0000028E51B95CA0>\n",
      "Constant(\n",
      "  value = 'ft',\n",
      "  kind = None)\n",
      "numeric=' '\n"
     ]
    },
    {
     "data": {
      "text/html": [
       "<pre style=\"white-space:pre;overflow-x:auto;line-height:normal;font-family:Menlo,'DejaVu Sans Mono',consolas,'Courier New',monospace\"><span style=\"color: #000080; text-decoration-color: #000080\">╭──────────────────────────────── </span><span style=\"color: #000080; text-decoration-color: #000080; font-weight: bold\">&lt;</span><span style=\"color: #ff00ff; text-decoration-color: #ff00ff; font-weight: bold\">class</span><span style=\"color: #000000; text-decoration-color: #000000\"> </span><span style=\"color: #008000; text-decoration-color: #008000\">'dict'</span><span style=\"color: #000080; text-decoration-color: #000080; font-weight: bold\">&gt;</span><span style=\"color: #000080; text-decoration-color: #000080\"> ─────────────────────────────────╮</span>\n",
       "<span style=\"color: #000080; text-decoration-color: #000080\">│</span> <span style=\"color: #800080; text-decoration-color: #800080; font-weight: bold\">dict</span><span style=\"color: #008080; text-decoration-color: #008080; font-weight: bold\">()</span><span style=\"color: #008080; text-decoration-color: #008080\"> -&gt; new empty dictionary</span>                                                  <span style=\"color: #000080; text-decoration-color: #000080\">│</span>\n",
       "<span style=\"color: #000080; text-decoration-color: #000080\">│</span> <span style=\"color: #800080; text-decoration-color: #800080; font-weight: bold\">dict</span><span style=\"color: #008080; text-decoration-color: #008080; font-weight: bold\">(</span><span style=\"color: #008080; text-decoration-color: #008080\">mapping</span><span style=\"color: #008080; text-decoration-color: #008080; font-weight: bold\">)</span><span style=\"color: #008080; text-decoration-color: #008080\"> -&gt; new dictionary initialized from a mapping object's</span>             <span style=\"color: #000080; text-decoration-color: #000080\">│</span>\n",
       "<span style=\"color: #000080; text-decoration-color: #000080\">│</span> <span style=\"color: #008080; text-decoration-color: #008080\">    </span><span style=\"color: #008080; text-decoration-color: #008080; font-weight: bold\">(</span><span style=\"color: #008080; text-decoration-color: #008080\">key, value</span><span style=\"color: #008080; text-decoration-color: #008080; font-weight: bold\">)</span><span style=\"color: #008080; text-decoration-color: #008080\"> pairs</span>                                                          <span style=\"color: #000080; text-decoration-color: #000080\">│</span>\n",
       "<span style=\"color: #000080; text-decoration-color: #000080\">│</span> <span style=\"color: #800080; text-decoration-color: #800080; font-weight: bold\">dict</span><span style=\"color: #008080; text-decoration-color: #008080; font-weight: bold\">(</span><span style=\"color: #008080; text-decoration-color: #008080\">iterable</span><span style=\"color: #008080; text-decoration-color: #008080; font-weight: bold\">)</span><span style=\"color: #008080; text-decoration-color: #008080\"> -&gt; new dictionary initialized as if via:</span>                         <span style=\"color: #000080; text-decoration-color: #000080\">│</span>\n",
       "<span style=\"color: #000080; text-decoration-color: #000080\">│</span> <span style=\"color: #008080; text-decoration-color: #008080\">    d = </span><span style=\"color: #008080; text-decoration-color: #008080; font-weight: bold\">{}</span>                                                                      <span style=\"color: #000080; text-decoration-color: #000080\">│</span>\n",
       "<span style=\"color: #000080; text-decoration-color: #000080\">│</span> <span style=\"color: #008080; text-decoration-color: #008080\">    for k, v in iterable:</span>                                                       <span style=\"color: #000080; text-decoration-color: #000080\">│</span>\n",
       "<span style=\"color: #000080; text-decoration-color: #000080\">│</span> <span style=\"color: #008080; text-decoration-color: #008080\">        d</span><span style=\"color: #008080; text-decoration-color: #008080; font-weight: bold\">[</span><span style=\"color: #008080; text-decoration-color: #008080\">k</span><span style=\"color: #008080; text-decoration-color: #008080; font-weight: bold\">]</span><span style=\"color: #008080; text-decoration-color: #008080\"> = v</span>                                                                <span style=\"color: #000080; text-decoration-color: #000080\">│</span>\n",
       "<span style=\"color: #000080; text-decoration-color: #000080\">│</span> <span style=\"color: #800080; text-decoration-color: #800080; font-weight: bold\">dict</span><span style=\"color: #008080; text-decoration-color: #008080; font-weight: bold\">(</span><span style=\"color: #008080; text-decoration-color: #008080\">**kwargs</span><span style=\"color: #008080; text-decoration-color: #008080; font-weight: bold\">)</span><span style=\"color: #008080; text-decoration-color: #008080\"> -&gt; new dictionary initialized with the </span><span style=\"color: #808000; text-decoration-color: #808000\">name</span><span style=\"color: #008080; text-decoration-color: #008080\">=</span><span style=\"color: #800080; text-decoration-color: #800080\">value</span><span style=\"color: #008080; text-decoration-color: #008080\"> pairs</span>          <span style=\"color: #000080; text-decoration-color: #000080\">│</span>\n",
       "<span style=\"color: #000080; text-decoration-color: #000080\">│</span> <span style=\"color: #008080; text-decoration-color: #008080\">    in the keyword argument list.  For example:  </span><span style=\"color: #800080; text-decoration-color: #800080; font-weight: bold\">dict</span><span style=\"color: #008080; text-decoration-color: #008080; font-weight: bold\">(</span><span style=\"color: #808000; text-decoration-color: #808000\">one</span><span style=\"color: #008080; text-decoration-color: #008080\">=</span><span style=\"color: #008080; text-decoration-color: #008080; font-weight: bold\">1</span><span style=\"color: #008080; text-decoration-color: #008080\">, </span><span style=\"color: #808000; text-decoration-color: #808000\">two</span><span style=\"color: #008080; text-decoration-color: #008080\">=</span><span style=\"color: #008080; text-decoration-color: #008080; font-weight: bold\">2</span><span style=\"color: #008080; text-decoration-color: #008080; font-weight: bold\">)</span>             <span style=\"color: #000080; text-decoration-color: #000080\">│</span>\n",
       "<span style=\"color: #000080; text-decoration-color: #000080\">│</span>                                                                                 <span style=\"color: #000080; text-decoration-color: #000080\">│</span>\n",
       "<span style=\"color: #000080; text-decoration-color: #000080\">│</span> <span style=\"color: #008000; text-decoration-color: #008000\">╭─────────────────────────────────────────────────────────────────────────────╮</span> <span style=\"color: #000080; text-decoration-color: #000080\">│</span>\n",
       "<span style=\"color: #000080; text-decoration-color: #000080\">│</span> <span style=\"color: #008000; text-decoration-color: #008000\">│</span> <span style=\"font-weight: bold\">{</span><span style=\"color: #008000; text-decoration-color: #008000\">'symbolic'</span>: <span style=\"color: #008000; text-decoration-color: #008000\">'ft'</span>, <span style=\"color: #008000; text-decoration-color: #008000\">'numeric'</span>: <span style=\"color: #008000; text-decoration-color: #008000\">'ft'</span>, <span style=\"color: #008000; text-decoration-color: #008000\">'code'</span>: <span style=\"color: #008000; text-decoration-color: #008000\">\"'ft'\"</span>, <span style=\"color: #008000; text-decoration-color: #008000\">'list'</span>: <span style=\"font-weight: bold\">[]</span>, <span style=\"color: #008000; text-decoration-color: #008000\">'dict'</span>: <span style=\"font-weight: bold\">{}}</span> <span style=\"color: #008000; text-decoration-color: #008000\">│</span> <span style=\"color: #000080; text-decoration-color: #000080\">│</span>\n",
       "<span style=\"color: #000080; text-decoration-color: #000080\">│</span> <span style=\"color: #008000; text-decoration-color: #008000\">╰─────────────────────────────────────────────────────────────────────────────╯</span> <span style=\"color: #000080; text-decoration-color: #000080\">│</span>\n",
       "<span style=\"color: #000080; text-decoration-color: #000080\">│</span>                                                                                 <span style=\"color: #000080; text-decoration-color: #000080\">│</span>\n",
       "<span style=\"color: #000080; text-decoration-color: #000080\">│</span> <span style=\"color: #008080; text-decoration-color: #008080; font-weight: bold\">30</span><span style=\"font-style: italic\"> attribute(s) not shown.</span> Run <span style=\"color: #800080; text-decoration-color: #800080; font-weight: bold\">inspect</span><span style=\"font-weight: bold\">(</span>inspect<span style=\"font-weight: bold\">)</span> for options.                    <span style=\"color: #000080; text-decoration-color: #000080\">│</span>\n",
       "<span style=\"color: #000080; text-decoration-color: #000080\">╰─────────────────────────────────────────────────────────────────────────────────╯</span>\n",
       "</pre>\n"
      ],
      "text/plain": [
       "\u001b[34m╭─\u001b[0m\u001b[34m─────────────────────────────── \u001b[0m\u001b[1;34m<\u001b[0m\u001b[1;95mclass\u001b[0m\u001b[39m \u001b[0m\u001b[32m'dict'\u001b[0m\u001b[1;34m>\u001b[0m\u001b[34m ────────────────────────────────\u001b[0m\u001b[34m─╮\u001b[0m\n",
       "\u001b[34m│\u001b[0m \u001b[1;35mdict\u001b[0m\u001b[1;36m(\u001b[0m\u001b[1;36m)\u001b[0m\u001b[36m -> new empty dictionary\u001b[0m                                                  \u001b[34m│\u001b[0m\n",
       "\u001b[34m│\u001b[0m \u001b[1;35mdict\u001b[0m\u001b[1;36m(\u001b[0m\u001b[36mmapping\u001b[0m\u001b[1;36m)\u001b[0m\u001b[36m -> new dictionary initialized from a mapping object's\u001b[0m             \u001b[34m│\u001b[0m\n",
       "\u001b[34m│\u001b[0m \u001b[36m    \u001b[0m\u001b[1;36m(\u001b[0m\u001b[36mkey, value\u001b[0m\u001b[1;36m)\u001b[0m\u001b[36m pairs\u001b[0m                                                          \u001b[34m│\u001b[0m\n",
       "\u001b[34m│\u001b[0m \u001b[1;35mdict\u001b[0m\u001b[1;36m(\u001b[0m\u001b[36miterable\u001b[0m\u001b[1;36m)\u001b[0m\u001b[36m -> new dictionary initialized as if via:\u001b[0m                         \u001b[34m│\u001b[0m\n",
       "\u001b[34m│\u001b[0m \u001b[36m    d = \u001b[0m\u001b[1;36m{\u001b[0m\u001b[1;36m}\u001b[0m                                                                      \u001b[34m│\u001b[0m\n",
       "\u001b[34m│\u001b[0m \u001b[36m    for k, v in iterable:\u001b[0m                                                       \u001b[34m│\u001b[0m\n",
       "\u001b[34m│\u001b[0m \u001b[36m        d\u001b[0m\u001b[1;36m[\u001b[0m\u001b[36mk\u001b[0m\u001b[1;36m]\u001b[0m\u001b[36m = v\u001b[0m                                                                \u001b[34m│\u001b[0m\n",
       "\u001b[34m│\u001b[0m \u001b[1;35mdict\u001b[0m\u001b[1;36m(\u001b[0m\u001b[36m**kwargs\u001b[0m\u001b[1;36m)\u001b[0m\u001b[36m -> new dictionary initialized with the \u001b[0m\u001b[33mname\u001b[0m\u001b[36m=\u001b[0m\u001b[35mvalue\u001b[0m\u001b[36m pairs\u001b[0m          \u001b[34m│\u001b[0m\n",
       "\u001b[34m│\u001b[0m \u001b[36m    in the keyword argument list.  For example:  \u001b[0m\u001b[1;35mdict\u001b[0m\u001b[1;36m(\u001b[0m\u001b[33mone\u001b[0m\u001b[36m=\u001b[0m\u001b[1;36m1\u001b[0m\u001b[36m, \u001b[0m\u001b[33mtwo\u001b[0m\u001b[36m=\u001b[0m\u001b[1;36m2\u001b[0m\u001b[1;36m)\u001b[0m             \u001b[34m│\u001b[0m\n",
       "\u001b[34m│\u001b[0m                                                                                 \u001b[34m│\u001b[0m\n",
       "\u001b[34m│\u001b[0m \u001b[32m╭─────────────────────────────────────────────────────────────────────────────╮\u001b[0m \u001b[34m│\u001b[0m\n",
       "\u001b[34m│\u001b[0m \u001b[32m│\u001b[0m \u001b[1m{\u001b[0m\u001b[32m'symbolic'\u001b[0m: \u001b[32m'ft'\u001b[0m, \u001b[32m'numeric'\u001b[0m: \u001b[32m'ft'\u001b[0m, \u001b[32m'code'\u001b[0m: \u001b[32m\"'ft'\"\u001b[0m, \u001b[32m'list'\u001b[0m: \u001b[1m[\u001b[0m\u001b[1m]\u001b[0m, \u001b[32m'dict'\u001b[0m: \u001b[1m{\u001b[0m\u001b[1m}\u001b[0m\u001b[1m}\u001b[0m \u001b[32m│\u001b[0m \u001b[34m│\u001b[0m\n",
       "\u001b[34m│\u001b[0m \u001b[32m╰─────────────────────────────────────────────────────────────────────────────╯\u001b[0m \u001b[34m│\u001b[0m\n",
       "\u001b[34m│\u001b[0m                                                                                 \u001b[34m│\u001b[0m\n",
       "\u001b[34m│\u001b[0m \u001b[1;36m30\u001b[0m\u001b[3m attribute(s) not shown.\u001b[0m Run \u001b[1;35minspect\u001b[0m\u001b[1m(\u001b[0minspect\u001b[1m)\u001b[0m for options.                    \u001b[34m│\u001b[0m\n",
       "\u001b[34m╰─────────────────────────────────────────────────────────────────────────────────╯\u001b[0m\n"
      ]
     },
     "metadata": {},
     "output_type": "display_data"
    },
    {
     "name": "stdout",
     "output_type": "stream",
     "text": [
      "Processing Quantity: Quantity(2, 'ft')\n",
      "      node.args=[<_ast.Constant object at 0x0000028E51B95C10>, <_ast.Constant object at 0x0000028E51B95CA0>]\n",
      "to_numeric: Quantity(2, 'ft')\n",
      "Processing Arg: <_ast.Constant object at 0x0000028E51B95CD0>\n",
      "Constant(\n",
      "  value = 0.2,\n",
      "  kind = None)\n",
      "numeric=' '\n"
     ]
    },
    {
     "data": {
      "text/html": [
       "<pre style=\"white-space:pre;overflow-x:auto;line-height:normal;font-family:Menlo,'DejaVu Sans Mono',consolas,'Courier New',monospace\"><span style=\"color: #000080; text-decoration-color: #000080\">╭──────────────────────────────── </span><span style=\"color: #000080; text-decoration-color: #000080; font-weight: bold\">&lt;</span><span style=\"color: #ff00ff; text-decoration-color: #ff00ff; font-weight: bold\">class</span><span style=\"color: #000000; text-decoration-color: #000000\"> </span><span style=\"color: #008000; text-decoration-color: #008000\">'dict'</span><span style=\"color: #000080; text-decoration-color: #000080; font-weight: bold\">&gt;</span><span style=\"color: #000080; text-decoration-color: #000080\"> ─────────────────────────────────╮</span>\n",
       "<span style=\"color: #000080; text-decoration-color: #000080\">│</span> <span style=\"color: #800080; text-decoration-color: #800080; font-weight: bold\">dict</span><span style=\"color: #008080; text-decoration-color: #008080; font-weight: bold\">()</span><span style=\"color: #008080; text-decoration-color: #008080\"> -&gt; new empty dictionary</span>                                                  <span style=\"color: #000080; text-decoration-color: #000080\">│</span>\n",
       "<span style=\"color: #000080; text-decoration-color: #000080\">│</span> <span style=\"color: #800080; text-decoration-color: #800080; font-weight: bold\">dict</span><span style=\"color: #008080; text-decoration-color: #008080; font-weight: bold\">(</span><span style=\"color: #008080; text-decoration-color: #008080\">mapping</span><span style=\"color: #008080; text-decoration-color: #008080; font-weight: bold\">)</span><span style=\"color: #008080; text-decoration-color: #008080\"> -&gt; new dictionary initialized from a mapping object's</span>             <span style=\"color: #000080; text-decoration-color: #000080\">│</span>\n",
       "<span style=\"color: #000080; text-decoration-color: #000080\">│</span> <span style=\"color: #008080; text-decoration-color: #008080\">    </span><span style=\"color: #008080; text-decoration-color: #008080; font-weight: bold\">(</span><span style=\"color: #008080; text-decoration-color: #008080\">key, value</span><span style=\"color: #008080; text-decoration-color: #008080; font-weight: bold\">)</span><span style=\"color: #008080; text-decoration-color: #008080\"> pairs</span>                                                          <span style=\"color: #000080; text-decoration-color: #000080\">│</span>\n",
       "<span style=\"color: #000080; text-decoration-color: #000080\">│</span> <span style=\"color: #800080; text-decoration-color: #800080; font-weight: bold\">dict</span><span style=\"color: #008080; text-decoration-color: #008080; font-weight: bold\">(</span><span style=\"color: #008080; text-decoration-color: #008080\">iterable</span><span style=\"color: #008080; text-decoration-color: #008080; font-weight: bold\">)</span><span style=\"color: #008080; text-decoration-color: #008080\"> -&gt; new dictionary initialized as if via:</span>                         <span style=\"color: #000080; text-decoration-color: #000080\">│</span>\n",
       "<span style=\"color: #000080; text-decoration-color: #000080\">│</span> <span style=\"color: #008080; text-decoration-color: #008080\">    d = </span><span style=\"color: #008080; text-decoration-color: #008080; font-weight: bold\">{}</span>                                                                      <span style=\"color: #000080; text-decoration-color: #000080\">│</span>\n",
       "<span style=\"color: #000080; text-decoration-color: #000080\">│</span> <span style=\"color: #008080; text-decoration-color: #008080\">    for k, v in iterable:</span>                                                       <span style=\"color: #000080; text-decoration-color: #000080\">│</span>\n",
       "<span style=\"color: #000080; text-decoration-color: #000080\">│</span> <span style=\"color: #008080; text-decoration-color: #008080\">        d</span><span style=\"color: #008080; text-decoration-color: #008080; font-weight: bold\">[</span><span style=\"color: #008080; text-decoration-color: #008080\">k</span><span style=\"color: #008080; text-decoration-color: #008080; font-weight: bold\">]</span><span style=\"color: #008080; text-decoration-color: #008080\"> = v</span>                                                                <span style=\"color: #000080; text-decoration-color: #000080\">│</span>\n",
       "<span style=\"color: #000080; text-decoration-color: #000080\">│</span> <span style=\"color: #800080; text-decoration-color: #800080; font-weight: bold\">dict</span><span style=\"color: #008080; text-decoration-color: #008080; font-weight: bold\">(</span><span style=\"color: #008080; text-decoration-color: #008080\">**kwargs</span><span style=\"color: #008080; text-decoration-color: #008080; font-weight: bold\">)</span><span style=\"color: #008080; text-decoration-color: #008080\"> -&gt; new dictionary initialized with the </span><span style=\"color: #808000; text-decoration-color: #808000\">name</span><span style=\"color: #008080; text-decoration-color: #008080\">=</span><span style=\"color: #800080; text-decoration-color: #800080\">value</span><span style=\"color: #008080; text-decoration-color: #008080\"> pairs</span>          <span style=\"color: #000080; text-decoration-color: #000080\">│</span>\n",
       "<span style=\"color: #000080; text-decoration-color: #000080\">│</span> <span style=\"color: #008080; text-decoration-color: #008080\">    in the keyword argument list.  For example:  </span><span style=\"color: #800080; text-decoration-color: #800080; font-weight: bold\">dict</span><span style=\"color: #008080; text-decoration-color: #008080; font-weight: bold\">(</span><span style=\"color: #808000; text-decoration-color: #808000\">one</span><span style=\"color: #008080; text-decoration-color: #008080\">=</span><span style=\"color: #008080; text-decoration-color: #008080; font-weight: bold\">1</span><span style=\"color: #008080; text-decoration-color: #008080\">, </span><span style=\"color: #808000; text-decoration-color: #808000\">two</span><span style=\"color: #008080; text-decoration-color: #008080\">=</span><span style=\"color: #008080; text-decoration-color: #008080; font-weight: bold\">2</span><span style=\"color: #008080; text-decoration-color: #008080; font-weight: bold\">)</span>             <span style=\"color: #000080; text-decoration-color: #000080\">│</span>\n",
       "<span style=\"color: #000080; text-decoration-color: #000080\">│</span>                                                                                 <span style=\"color: #000080; text-decoration-color: #000080\">│</span>\n",
       "<span style=\"color: #000080; text-decoration-color: #000080\">│</span> <span style=\"color: #008000; text-decoration-color: #008000\">╭─────────────────────────────────────────────────────────────────────────────╮</span> <span style=\"color: #000080; text-decoration-color: #000080\">│</span>\n",
       "<span style=\"color: #000080; text-decoration-color: #000080\">│</span> <span style=\"color: #008000; text-decoration-color: #008000\">│</span> <span style=\"font-weight: bold\">{</span><span style=\"color: #008000; text-decoration-color: #008000\">'symbolic'</span>: <span style=\"color: #008000; text-decoration-color: #008000\">'0.2'</span>, <span style=\"color: #008000; text-decoration-color: #008000\">'numeric'</span>: <span style=\"color: #008000; text-decoration-color: #008000\">'0.2'</span>, <span style=\"color: #008000; text-decoration-color: #008000\">'code'</span>: <span style=\"color: #008000; text-decoration-color: #008000\">'.2'</span>, <span style=\"color: #008000; text-decoration-color: #008000\">'list'</span>: <span style=\"font-weight: bold\">[]</span>, <span style=\"color: #008000; text-decoration-color: #008000\">'dict'</span>: <span style=\"font-weight: bold\">{}}</span> <span style=\"color: #008000; text-decoration-color: #008000\">│</span> <span style=\"color: #000080; text-decoration-color: #000080\">│</span>\n",
       "<span style=\"color: #000080; text-decoration-color: #000080\">│</span> <span style=\"color: #008000; text-decoration-color: #008000\">╰─────────────────────────────────────────────────────────────────────────────╯</span> <span style=\"color: #000080; text-decoration-color: #000080\">│</span>\n",
       "<span style=\"color: #000080; text-decoration-color: #000080\">│</span>                                                                                 <span style=\"color: #000080; text-decoration-color: #000080\">│</span>\n",
       "<span style=\"color: #000080; text-decoration-color: #000080\">│</span> <span style=\"color: #008080; text-decoration-color: #008080; font-weight: bold\">30</span><span style=\"font-style: italic\"> attribute(s) not shown.</span> Run <span style=\"color: #800080; text-decoration-color: #800080; font-weight: bold\">inspect</span><span style=\"font-weight: bold\">(</span>inspect<span style=\"font-weight: bold\">)</span> for options.                    <span style=\"color: #000080; text-decoration-color: #000080\">│</span>\n",
       "<span style=\"color: #000080; text-decoration-color: #000080\">╰─────────────────────────────────────────────────────────────────────────────────╯</span>\n",
       "</pre>\n"
      ],
      "text/plain": [
       "\u001b[34m╭─\u001b[0m\u001b[34m─────────────────────────────── \u001b[0m\u001b[1;34m<\u001b[0m\u001b[1;95mclass\u001b[0m\u001b[39m \u001b[0m\u001b[32m'dict'\u001b[0m\u001b[1;34m>\u001b[0m\u001b[34m ────────────────────────────────\u001b[0m\u001b[34m─╮\u001b[0m\n",
       "\u001b[34m│\u001b[0m \u001b[1;35mdict\u001b[0m\u001b[1;36m(\u001b[0m\u001b[1;36m)\u001b[0m\u001b[36m -> new empty dictionary\u001b[0m                                                  \u001b[34m│\u001b[0m\n",
       "\u001b[34m│\u001b[0m \u001b[1;35mdict\u001b[0m\u001b[1;36m(\u001b[0m\u001b[36mmapping\u001b[0m\u001b[1;36m)\u001b[0m\u001b[36m -> new dictionary initialized from a mapping object's\u001b[0m             \u001b[34m│\u001b[0m\n",
       "\u001b[34m│\u001b[0m \u001b[36m    \u001b[0m\u001b[1;36m(\u001b[0m\u001b[36mkey, value\u001b[0m\u001b[1;36m)\u001b[0m\u001b[36m pairs\u001b[0m                                                          \u001b[34m│\u001b[0m\n",
       "\u001b[34m│\u001b[0m \u001b[1;35mdict\u001b[0m\u001b[1;36m(\u001b[0m\u001b[36miterable\u001b[0m\u001b[1;36m)\u001b[0m\u001b[36m -> new dictionary initialized as if via:\u001b[0m                         \u001b[34m│\u001b[0m\n",
       "\u001b[34m│\u001b[0m \u001b[36m    d = \u001b[0m\u001b[1;36m{\u001b[0m\u001b[1;36m}\u001b[0m                                                                      \u001b[34m│\u001b[0m\n",
       "\u001b[34m│\u001b[0m \u001b[36m    for k, v in iterable:\u001b[0m                                                       \u001b[34m│\u001b[0m\n",
       "\u001b[34m│\u001b[0m \u001b[36m        d\u001b[0m\u001b[1;36m[\u001b[0m\u001b[36mk\u001b[0m\u001b[1;36m]\u001b[0m\u001b[36m = v\u001b[0m                                                                \u001b[34m│\u001b[0m\n",
       "\u001b[34m│\u001b[0m \u001b[1;35mdict\u001b[0m\u001b[1;36m(\u001b[0m\u001b[36m**kwargs\u001b[0m\u001b[1;36m)\u001b[0m\u001b[36m -> new dictionary initialized with the \u001b[0m\u001b[33mname\u001b[0m\u001b[36m=\u001b[0m\u001b[35mvalue\u001b[0m\u001b[36m pairs\u001b[0m          \u001b[34m│\u001b[0m\n",
       "\u001b[34m│\u001b[0m \u001b[36m    in the keyword argument list.  For example:  \u001b[0m\u001b[1;35mdict\u001b[0m\u001b[1;36m(\u001b[0m\u001b[33mone\u001b[0m\u001b[36m=\u001b[0m\u001b[1;36m1\u001b[0m\u001b[36m, \u001b[0m\u001b[33mtwo\u001b[0m\u001b[36m=\u001b[0m\u001b[1;36m2\u001b[0m\u001b[1;36m)\u001b[0m             \u001b[34m│\u001b[0m\n",
       "\u001b[34m│\u001b[0m                                                                                 \u001b[34m│\u001b[0m\n",
       "\u001b[34m│\u001b[0m \u001b[32m╭─────────────────────────────────────────────────────────────────────────────╮\u001b[0m \u001b[34m│\u001b[0m\n",
       "\u001b[34m│\u001b[0m \u001b[32m│\u001b[0m \u001b[1m{\u001b[0m\u001b[32m'symbolic'\u001b[0m: \u001b[32m'0.2'\u001b[0m, \u001b[32m'numeric'\u001b[0m: \u001b[32m'0.2'\u001b[0m, \u001b[32m'code'\u001b[0m: \u001b[32m'.2'\u001b[0m, \u001b[32m'list'\u001b[0m: \u001b[1m[\u001b[0m\u001b[1m]\u001b[0m, \u001b[32m'dict'\u001b[0m: \u001b[1m{\u001b[0m\u001b[1m}\u001b[0m\u001b[1m}\u001b[0m \u001b[32m│\u001b[0m \u001b[34m│\u001b[0m\n",
       "\u001b[34m│\u001b[0m \u001b[32m╰─────────────────────────────────────────────────────────────────────────────╯\u001b[0m \u001b[34m│\u001b[0m\n",
       "\u001b[34m│\u001b[0m                                                                                 \u001b[34m│\u001b[0m\n",
       "\u001b[34m│\u001b[0m \u001b[1;36m30\u001b[0m\u001b[3m attribute(s) not shown.\u001b[0m Run \u001b[1;35minspect\u001b[0m\u001b[1m(\u001b[0minspect\u001b[1m)\u001b[0m for options.                    \u001b[34m│\u001b[0m\n",
       "\u001b[34m╰─────────────────────────────────────────────────────────────────────────────────╯\u001b[0m\n"
      ]
     },
     "metadata": {},
     "output_type": "display_data"
    },
    {
     "name": "stdout",
     "output_type": "stream",
     "text": [
      "Processing plus_minus: Quantity(2, 'ft').plus_minus(.2)\n",
      "      node.args=[<_ast.Constant object at 0x0000028E51B95CD0>]\n",
      "      node.keywords=[]\n",
      "Call(\n",
      "  func = Name(\n",
      "    id = 'Quantity',\n",
      "    ctx = Load()),\n",
      "  args = [\n",
      "    Constant(\n",
      "      value = 2,\n",
      "      kind = None),\n",
      "    Constant(\n",
      "      value = 'ft',\n",
      "      kind = None)],\n",
      "  keywords = [])\n",
      "numeric=' '\n",
      "Processing Arg: <_ast.Constant object at 0x0000028E51B95C10>\n",
      "Constant(\n",
      "  value = 2,\n",
      "  kind = None)\n",
      "numeric=' '\n"
     ]
    },
    {
     "data": {
      "text/html": [
       "<pre style=\"white-space:pre;overflow-x:auto;line-height:normal;font-family:Menlo,'DejaVu Sans Mono',consolas,'Courier New',monospace\"><span style=\"color: #000080; text-decoration-color: #000080\">╭────────────────────────────── </span><span style=\"color: #000080; text-decoration-color: #000080; font-weight: bold\">&lt;</span><span style=\"color: #ff00ff; text-decoration-color: #ff00ff; font-weight: bold\">class</span><span style=\"color: #000000; text-decoration-color: #000000\"> </span><span style=\"color: #008000; text-decoration-color: #008000\">'dict'</span><span style=\"color: #000080; text-decoration-color: #000080; font-weight: bold\">&gt;</span><span style=\"color: #000080; text-decoration-color: #000080\"> ──────────────────────────────╮</span>\n",
       "<span style=\"color: #000080; text-decoration-color: #000080\">│</span> <span style=\"color: #800080; text-decoration-color: #800080; font-weight: bold\">dict</span><span style=\"color: #008080; text-decoration-color: #008080; font-weight: bold\">()</span><span style=\"color: #008080; text-decoration-color: #008080\"> -&gt; new empty dictionary</span>                                             <span style=\"color: #000080; text-decoration-color: #000080\">│</span>\n",
       "<span style=\"color: #000080; text-decoration-color: #000080\">│</span> <span style=\"color: #800080; text-decoration-color: #800080; font-weight: bold\">dict</span><span style=\"color: #008080; text-decoration-color: #008080; font-weight: bold\">(</span><span style=\"color: #008080; text-decoration-color: #008080\">mapping</span><span style=\"color: #008080; text-decoration-color: #008080; font-weight: bold\">)</span><span style=\"color: #008080; text-decoration-color: #008080\"> -&gt; new dictionary initialized from a mapping object's</span>        <span style=\"color: #000080; text-decoration-color: #000080\">│</span>\n",
       "<span style=\"color: #000080; text-decoration-color: #000080\">│</span> <span style=\"color: #008080; text-decoration-color: #008080\">    </span><span style=\"color: #008080; text-decoration-color: #008080; font-weight: bold\">(</span><span style=\"color: #008080; text-decoration-color: #008080\">key, value</span><span style=\"color: #008080; text-decoration-color: #008080; font-weight: bold\">)</span><span style=\"color: #008080; text-decoration-color: #008080\"> pairs</span>                                                     <span style=\"color: #000080; text-decoration-color: #000080\">│</span>\n",
       "<span style=\"color: #000080; text-decoration-color: #000080\">│</span> <span style=\"color: #800080; text-decoration-color: #800080; font-weight: bold\">dict</span><span style=\"color: #008080; text-decoration-color: #008080; font-weight: bold\">(</span><span style=\"color: #008080; text-decoration-color: #008080\">iterable</span><span style=\"color: #008080; text-decoration-color: #008080; font-weight: bold\">)</span><span style=\"color: #008080; text-decoration-color: #008080\"> -&gt; new dictionary initialized as if via:</span>                    <span style=\"color: #000080; text-decoration-color: #000080\">│</span>\n",
       "<span style=\"color: #000080; text-decoration-color: #000080\">│</span> <span style=\"color: #008080; text-decoration-color: #008080\">    d = </span><span style=\"color: #008080; text-decoration-color: #008080; font-weight: bold\">{}</span>                                                                 <span style=\"color: #000080; text-decoration-color: #000080\">│</span>\n",
       "<span style=\"color: #000080; text-decoration-color: #000080\">│</span> <span style=\"color: #008080; text-decoration-color: #008080\">    for k, v in iterable:</span>                                                  <span style=\"color: #000080; text-decoration-color: #000080\">│</span>\n",
       "<span style=\"color: #000080; text-decoration-color: #000080\">│</span> <span style=\"color: #008080; text-decoration-color: #008080\">        d</span><span style=\"color: #008080; text-decoration-color: #008080; font-weight: bold\">[</span><span style=\"color: #008080; text-decoration-color: #008080\">k</span><span style=\"color: #008080; text-decoration-color: #008080; font-weight: bold\">]</span><span style=\"color: #008080; text-decoration-color: #008080\"> = v</span>                                                           <span style=\"color: #000080; text-decoration-color: #000080\">│</span>\n",
       "<span style=\"color: #000080; text-decoration-color: #000080\">│</span> <span style=\"color: #800080; text-decoration-color: #800080; font-weight: bold\">dict</span><span style=\"color: #008080; text-decoration-color: #008080; font-weight: bold\">(</span><span style=\"color: #008080; text-decoration-color: #008080\">**kwargs</span><span style=\"color: #008080; text-decoration-color: #008080; font-weight: bold\">)</span><span style=\"color: #008080; text-decoration-color: #008080\"> -&gt; new dictionary initialized with the </span><span style=\"color: #808000; text-decoration-color: #808000\">name</span><span style=\"color: #008080; text-decoration-color: #008080\">=</span><span style=\"color: #800080; text-decoration-color: #800080\">value</span><span style=\"color: #008080; text-decoration-color: #008080\"> pairs</span>     <span style=\"color: #000080; text-decoration-color: #000080\">│</span>\n",
       "<span style=\"color: #000080; text-decoration-color: #000080\">│</span> <span style=\"color: #008080; text-decoration-color: #008080\">    in the keyword argument list.  For example:  </span><span style=\"color: #800080; text-decoration-color: #800080; font-weight: bold\">dict</span><span style=\"color: #008080; text-decoration-color: #008080; font-weight: bold\">(</span><span style=\"color: #808000; text-decoration-color: #808000\">one</span><span style=\"color: #008080; text-decoration-color: #008080\">=</span><span style=\"color: #008080; text-decoration-color: #008080; font-weight: bold\">1</span><span style=\"color: #008080; text-decoration-color: #008080\">, </span><span style=\"color: #808000; text-decoration-color: #808000\">two</span><span style=\"color: #008080; text-decoration-color: #008080\">=</span><span style=\"color: #008080; text-decoration-color: #008080; font-weight: bold\">2</span><span style=\"color: #008080; text-decoration-color: #008080; font-weight: bold\">)</span>        <span style=\"color: #000080; text-decoration-color: #000080\">│</span>\n",
       "<span style=\"color: #000080; text-decoration-color: #000080\">│</span>                                                                            <span style=\"color: #000080; text-decoration-color: #000080\">│</span>\n",
       "<span style=\"color: #000080; text-decoration-color: #000080\">│</span> <span style=\"color: #008000; text-decoration-color: #008000\">╭────────────────────────────────────────────────────────────────────────╮</span> <span style=\"color: #000080; text-decoration-color: #000080\">│</span>\n",
       "<span style=\"color: #000080; text-decoration-color: #000080\">│</span> <span style=\"color: #008000; text-decoration-color: #008000\">│</span> <span style=\"font-weight: bold\">{</span><span style=\"color: #008000; text-decoration-color: #008000\">'symbolic'</span>: <span style=\"color: #008000; text-decoration-color: #008000\">'2'</span>, <span style=\"color: #008000; text-decoration-color: #008000\">'numeric'</span>: <span style=\"color: #008000; text-decoration-color: #008000\">'2'</span>, <span style=\"color: #008000; text-decoration-color: #008000\">'code'</span>: <span style=\"color: #008000; text-decoration-color: #008000\">'2'</span>, <span style=\"color: #008000; text-decoration-color: #008000\">'list'</span>: <span style=\"font-weight: bold\">[]</span>, <span style=\"color: #008000; text-decoration-color: #008000\">'dict'</span>: <span style=\"font-weight: bold\">{}}</span> <span style=\"color: #008000; text-decoration-color: #008000\">│</span> <span style=\"color: #000080; text-decoration-color: #000080\">│</span>\n",
       "<span style=\"color: #000080; text-decoration-color: #000080\">│</span> <span style=\"color: #008000; text-decoration-color: #008000\">╰────────────────────────────────────────────────────────────────────────╯</span> <span style=\"color: #000080; text-decoration-color: #000080\">│</span>\n",
       "<span style=\"color: #000080; text-decoration-color: #000080\">│</span>                                                                            <span style=\"color: #000080; text-decoration-color: #000080\">│</span>\n",
       "<span style=\"color: #000080; text-decoration-color: #000080\">│</span> <span style=\"color: #008080; text-decoration-color: #008080; font-weight: bold\">30</span><span style=\"font-style: italic\"> attribute(s) not shown.</span> Run <span style=\"color: #800080; text-decoration-color: #800080; font-weight: bold\">inspect</span><span style=\"font-weight: bold\">(</span>inspect<span style=\"font-weight: bold\">)</span> for options.               <span style=\"color: #000080; text-decoration-color: #000080\">│</span>\n",
       "<span style=\"color: #000080; text-decoration-color: #000080\">╰────────────────────────────────────────────────────────────────────────────╯</span>\n",
       "</pre>\n"
      ],
      "text/plain": [
       "\u001b[34m╭─\u001b[0m\u001b[34m───────────────────────────── \u001b[0m\u001b[1;34m<\u001b[0m\u001b[1;95mclass\u001b[0m\u001b[39m \u001b[0m\u001b[32m'dict'\u001b[0m\u001b[1;34m>\u001b[0m\u001b[34m ─────────────────────────────\u001b[0m\u001b[34m─╮\u001b[0m\n",
       "\u001b[34m│\u001b[0m \u001b[1;35mdict\u001b[0m\u001b[1;36m(\u001b[0m\u001b[1;36m)\u001b[0m\u001b[36m -> new empty dictionary\u001b[0m                                             \u001b[34m│\u001b[0m\n",
       "\u001b[34m│\u001b[0m \u001b[1;35mdict\u001b[0m\u001b[1;36m(\u001b[0m\u001b[36mmapping\u001b[0m\u001b[1;36m)\u001b[0m\u001b[36m -> new dictionary initialized from a mapping object's\u001b[0m        \u001b[34m│\u001b[0m\n",
       "\u001b[34m│\u001b[0m \u001b[36m    \u001b[0m\u001b[1;36m(\u001b[0m\u001b[36mkey, value\u001b[0m\u001b[1;36m)\u001b[0m\u001b[36m pairs\u001b[0m                                                     \u001b[34m│\u001b[0m\n",
       "\u001b[34m│\u001b[0m \u001b[1;35mdict\u001b[0m\u001b[1;36m(\u001b[0m\u001b[36miterable\u001b[0m\u001b[1;36m)\u001b[0m\u001b[36m -> new dictionary initialized as if via:\u001b[0m                    \u001b[34m│\u001b[0m\n",
       "\u001b[34m│\u001b[0m \u001b[36m    d = \u001b[0m\u001b[1;36m{\u001b[0m\u001b[1;36m}\u001b[0m                                                                 \u001b[34m│\u001b[0m\n",
       "\u001b[34m│\u001b[0m \u001b[36m    for k, v in iterable:\u001b[0m                                                  \u001b[34m│\u001b[0m\n",
       "\u001b[34m│\u001b[0m \u001b[36m        d\u001b[0m\u001b[1;36m[\u001b[0m\u001b[36mk\u001b[0m\u001b[1;36m]\u001b[0m\u001b[36m = v\u001b[0m                                                           \u001b[34m│\u001b[0m\n",
       "\u001b[34m│\u001b[0m \u001b[1;35mdict\u001b[0m\u001b[1;36m(\u001b[0m\u001b[36m**kwargs\u001b[0m\u001b[1;36m)\u001b[0m\u001b[36m -> new dictionary initialized with the \u001b[0m\u001b[33mname\u001b[0m\u001b[36m=\u001b[0m\u001b[35mvalue\u001b[0m\u001b[36m pairs\u001b[0m     \u001b[34m│\u001b[0m\n",
       "\u001b[34m│\u001b[0m \u001b[36m    in the keyword argument list.  For example:  \u001b[0m\u001b[1;35mdict\u001b[0m\u001b[1;36m(\u001b[0m\u001b[33mone\u001b[0m\u001b[36m=\u001b[0m\u001b[1;36m1\u001b[0m\u001b[36m, \u001b[0m\u001b[33mtwo\u001b[0m\u001b[36m=\u001b[0m\u001b[1;36m2\u001b[0m\u001b[1;36m)\u001b[0m        \u001b[34m│\u001b[0m\n",
       "\u001b[34m│\u001b[0m                                                                            \u001b[34m│\u001b[0m\n",
       "\u001b[34m│\u001b[0m \u001b[32m╭────────────────────────────────────────────────────────────────────────╮\u001b[0m \u001b[34m│\u001b[0m\n",
       "\u001b[34m│\u001b[0m \u001b[32m│\u001b[0m \u001b[1m{\u001b[0m\u001b[32m'symbolic'\u001b[0m: \u001b[32m'2'\u001b[0m, \u001b[32m'numeric'\u001b[0m: \u001b[32m'2'\u001b[0m, \u001b[32m'code'\u001b[0m: \u001b[32m'2'\u001b[0m, \u001b[32m'list'\u001b[0m: \u001b[1m[\u001b[0m\u001b[1m]\u001b[0m, \u001b[32m'dict'\u001b[0m: \u001b[1m{\u001b[0m\u001b[1m}\u001b[0m\u001b[1m}\u001b[0m \u001b[32m│\u001b[0m \u001b[34m│\u001b[0m\n",
       "\u001b[34m│\u001b[0m \u001b[32m╰────────────────────────────────────────────────────────────────────────╯\u001b[0m \u001b[34m│\u001b[0m\n",
       "\u001b[34m│\u001b[0m                                                                            \u001b[34m│\u001b[0m\n",
       "\u001b[34m│\u001b[0m \u001b[1;36m30\u001b[0m\u001b[3m attribute(s) not shown.\u001b[0m Run \u001b[1;35minspect\u001b[0m\u001b[1m(\u001b[0minspect\u001b[1m)\u001b[0m for options.               \u001b[34m│\u001b[0m\n",
       "\u001b[34m╰────────────────────────────────────────────────────────────────────────────╯\u001b[0m\n"
      ]
     },
     "metadata": {},
     "output_type": "display_data"
    },
    {
     "name": "stdout",
     "output_type": "stream",
     "text": [
      "Processing Arg: <_ast.Constant object at 0x0000028E51B95CA0>\n",
      "Constant(\n",
      "  value = 'ft',\n",
      "  kind = None)\n",
      "numeric=' '\n"
     ]
    },
    {
     "data": {
      "text/html": [
       "<pre style=\"white-space:pre;overflow-x:auto;line-height:normal;font-family:Menlo,'DejaVu Sans Mono',consolas,'Courier New',monospace\"><span style=\"color: #000080; text-decoration-color: #000080\">╭──────────────────────────────── </span><span style=\"color: #000080; text-decoration-color: #000080; font-weight: bold\">&lt;</span><span style=\"color: #ff00ff; text-decoration-color: #ff00ff; font-weight: bold\">class</span><span style=\"color: #000000; text-decoration-color: #000000\"> </span><span style=\"color: #008000; text-decoration-color: #008000\">'dict'</span><span style=\"color: #000080; text-decoration-color: #000080; font-weight: bold\">&gt;</span><span style=\"color: #000080; text-decoration-color: #000080\"> ─────────────────────────────────╮</span>\n",
       "<span style=\"color: #000080; text-decoration-color: #000080\">│</span> <span style=\"color: #800080; text-decoration-color: #800080; font-weight: bold\">dict</span><span style=\"color: #008080; text-decoration-color: #008080; font-weight: bold\">()</span><span style=\"color: #008080; text-decoration-color: #008080\"> -&gt; new empty dictionary</span>                                                  <span style=\"color: #000080; text-decoration-color: #000080\">│</span>\n",
       "<span style=\"color: #000080; text-decoration-color: #000080\">│</span> <span style=\"color: #800080; text-decoration-color: #800080; font-weight: bold\">dict</span><span style=\"color: #008080; text-decoration-color: #008080; font-weight: bold\">(</span><span style=\"color: #008080; text-decoration-color: #008080\">mapping</span><span style=\"color: #008080; text-decoration-color: #008080; font-weight: bold\">)</span><span style=\"color: #008080; text-decoration-color: #008080\"> -&gt; new dictionary initialized from a mapping object's</span>             <span style=\"color: #000080; text-decoration-color: #000080\">│</span>\n",
       "<span style=\"color: #000080; text-decoration-color: #000080\">│</span> <span style=\"color: #008080; text-decoration-color: #008080\">    </span><span style=\"color: #008080; text-decoration-color: #008080; font-weight: bold\">(</span><span style=\"color: #008080; text-decoration-color: #008080\">key, value</span><span style=\"color: #008080; text-decoration-color: #008080; font-weight: bold\">)</span><span style=\"color: #008080; text-decoration-color: #008080\"> pairs</span>                                                          <span style=\"color: #000080; text-decoration-color: #000080\">│</span>\n",
       "<span style=\"color: #000080; text-decoration-color: #000080\">│</span> <span style=\"color: #800080; text-decoration-color: #800080; font-weight: bold\">dict</span><span style=\"color: #008080; text-decoration-color: #008080; font-weight: bold\">(</span><span style=\"color: #008080; text-decoration-color: #008080\">iterable</span><span style=\"color: #008080; text-decoration-color: #008080; font-weight: bold\">)</span><span style=\"color: #008080; text-decoration-color: #008080\"> -&gt; new dictionary initialized as if via:</span>                         <span style=\"color: #000080; text-decoration-color: #000080\">│</span>\n",
       "<span style=\"color: #000080; text-decoration-color: #000080\">│</span> <span style=\"color: #008080; text-decoration-color: #008080\">    d = </span><span style=\"color: #008080; text-decoration-color: #008080; font-weight: bold\">{}</span>                                                                      <span style=\"color: #000080; text-decoration-color: #000080\">│</span>\n",
       "<span style=\"color: #000080; text-decoration-color: #000080\">│</span> <span style=\"color: #008080; text-decoration-color: #008080\">    for k, v in iterable:</span>                                                       <span style=\"color: #000080; text-decoration-color: #000080\">│</span>\n",
       "<span style=\"color: #000080; text-decoration-color: #000080\">│</span> <span style=\"color: #008080; text-decoration-color: #008080\">        d</span><span style=\"color: #008080; text-decoration-color: #008080; font-weight: bold\">[</span><span style=\"color: #008080; text-decoration-color: #008080\">k</span><span style=\"color: #008080; text-decoration-color: #008080; font-weight: bold\">]</span><span style=\"color: #008080; text-decoration-color: #008080\"> = v</span>                                                                <span style=\"color: #000080; text-decoration-color: #000080\">│</span>\n",
       "<span style=\"color: #000080; text-decoration-color: #000080\">│</span> <span style=\"color: #800080; text-decoration-color: #800080; font-weight: bold\">dict</span><span style=\"color: #008080; text-decoration-color: #008080; font-weight: bold\">(</span><span style=\"color: #008080; text-decoration-color: #008080\">**kwargs</span><span style=\"color: #008080; text-decoration-color: #008080; font-weight: bold\">)</span><span style=\"color: #008080; text-decoration-color: #008080\"> -&gt; new dictionary initialized with the </span><span style=\"color: #808000; text-decoration-color: #808000\">name</span><span style=\"color: #008080; text-decoration-color: #008080\">=</span><span style=\"color: #800080; text-decoration-color: #800080\">value</span><span style=\"color: #008080; text-decoration-color: #008080\"> pairs</span>          <span style=\"color: #000080; text-decoration-color: #000080\">│</span>\n",
       "<span style=\"color: #000080; text-decoration-color: #000080\">│</span> <span style=\"color: #008080; text-decoration-color: #008080\">    in the keyword argument list.  For example:  </span><span style=\"color: #800080; text-decoration-color: #800080; font-weight: bold\">dict</span><span style=\"color: #008080; text-decoration-color: #008080; font-weight: bold\">(</span><span style=\"color: #808000; text-decoration-color: #808000\">one</span><span style=\"color: #008080; text-decoration-color: #008080\">=</span><span style=\"color: #008080; text-decoration-color: #008080; font-weight: bold\">1</span><span style=\"color: #008080; text-decoration-color: #008080\">, </span><span style=\"color: #808000; text-decoration-color: #808000\">two</span><span style=\"color: #008080; text-decoration-color: #008080\">=</span><span style=\"color: #008080; text-decoration-color: #008080; font-weight: bold\">2</span><span style=\"color: #008080; text-decoration-color: #008080; font-weight: bold\">)</span>             <span style=\"color: #000080; text-decoration-color: #000080\">│</span>\n",
       "<span style=\"color: #000080; text-decoration-color: #000080\">│</span>                                                                                 <span style=\"color: #000080; text-decoration-color: #000080\">│</span>\n",
       "<span style=\"color: #000080; text-decoration-color: #000080\">│</span> <span style=\"color: #008000; text-decoration-color: #008000\">╭─────────────────────────────────────────────────────────────────────────────╮</span> <span style=\"color: #000080; text-decoration-color: #000080\">│</span>\n",
       "<span style=\"color: #000080; text-decoration-color: #000080\">│</span> <span style=\"color: #008000; text-decoration-color: #008000\">│</span> <span style=\"font-weight: bold\">{</span><span style=\"color: #008000; text-decoration-color: #008000\">'symbolic'</span>: <span style=\"color: #008000; text-decoration-color: #008000\">'ft'</span>, <span style=\"color: #008000; text-decoration-color: #008000\">'numeric'</span>: <span style=\"color: #008000; text-decoration-color: #008000\">'ft'</span>, <span style=\"color: #008000; text-decoration-color: #008000\">'code'</span>: <span style=\"color: #008000; text-decoration-color: #008000\">\"'ft'\"</span>, <span style=\"color: #008000; text-decoration-color: #008000\">'list'</span>: <span style=\"font-weight: bold\">[]</span>, <span style=\"color: #008000; text-decoration-color: #008000\">'dict'</span>: <span style=\"font-weight: bold\">{}}</span> <span style=\"color: #008000; text-decoration-color: #008000\">│</span> <span style=\"color: #000080; text-decoration-color: #000080\">│</span>\n",
       "<span style=\"color: #000080; text-decoration-color: #000080\">│</span> <span style=\"color: #008000; text-decoration-color: #008000\">╰─────────────────────────────────────────────────────────────────────────────╯</span> <span style=\"color: #000080; text-decoration-color: #000080\">│</span>\n",
       "<span style=\"color: #000080; text-decoration-color: #000080\">│</span>                                                                                 <span style=\"color: #000080; text-decoration-color: #000080\">│</span>\n",
       "<span style=\"color: #000080; text-decoration-color: #000080\">│</span> <span style=\"color: #008080; text-decoration-color: #008080; font-weight: bold\">30</span><span style=\"font-style: italic\"> attribute(s) not shown.</span> Run <span style=\"color: #800080; text-decoration-color: #800080; font-weight: bold\">inspect</span><span style=\"font-weight: bold\">(</span>inspect<span style=\"font-weight: bold\">)</span> for options.                    <span style=\"color: #000080; text-decoration-color: #000080\">│</span>\n",
       "<span style=\"color: #000080; text-decoration-color: #000080\">╰─────────────────────────────────────────────────────────────────────────────────╯</span>\n",
       "</pre>\n"
      ],
      "text/plain": [
       "\u001b[34m╭─\u001b[0m\u001b[34m─────────────────────────────── \u001b[0m\u001b[1;34m<\u001b[0m\u001b[1;95mclass\u001b[0m\u001b[39m \u001b[0m\u001b[32m'dict'\u001b[0m\u001b[1;34m>\u001b[0m\u001b[34m ────────────────────────────────\u001b[0m\u001b[34m─╮\u001b[0m\n",
       "\u001b[34m│\u001b[0m \u001b[1;35mdict\u001b[0m\u001b[1;36m(\u001b[0m\u001b[1;36m)\u001b[0m\u001b[36m -> new empty dictionary\u001b[0m                                                  \u001b[34m│\u001b[0m\n",
       "\u001b[34m│\u001b[0m \u001b[1;35mdict\u001b[0m\u001b[1;36m(\u001b[0m\u001b[36mmapping\u001b[0m\u001b[1;36m)\u001b[0m\u001b[36m -> new dictionary initialized from a mapping object's\u001b[0m             \u001b[34m│\u001b[0m\n",
       "\u001b[34m│\u001b[0m \u001b[36m    \u001b[0m\u001b[1;36m(\u001b[0m\u001b[36mkey, value\u001b[0m\u001b[1;36m)\u001b[0m\u001b[36m pairs\u001b[0m                                                          \u001b[34m│\u001b[0m\n",
       "\u001b[34m│\u001b[0m \u001b[1;35mdict\u001b[0m\u001b[1;36m(\u001b[0m\u001b[36miterable\u001b[0m\u001b[1;36m)\u001b[0m\u001b[36m -> new dictionary initialized as if via:\u001b[0m                         \u001b[34m│\u001b[0m\n",
       "\u001b[34m│\u001b[0m \u001b[36m    d = \u001b[0m\u001b[1;36m{\u001b[0m\u001b[1;36m}\u001b[0m                                                                      \u001b[34m│\u001b[0m\n",
       "\u001b[34m│\u001b[0m \u001b[36m    for k, v in iterable:\u001b[0m                                                       \u001b[34m│\u001b[0m\n",
       "\u001b[34m│\u001b[0m \u001b[36m        d\u001b[0m\u001b[1;36m[\u001b[0m\u001b[36mk\u001b[0m\u001b[1;36m]\u001b[0m\u001b[36m = v\u001b[0m                                                                \u001b[34m│\u001b[0m\n",
       "\u001b[34m│\u001b[0m \u001b[1;35mdict\u001b[0m\u001b[1;36m(\u001b[0m\u001b[36m**kwargs\u001b[0m\u001b[1;36m)\u001b[0m\u001b[36m -> new dictionary initialized with the \u001b[0m\u001b[33mname\u001b[0m\u001b[36m=\u001b[0m\u001b[35mvalue\u001b[0m\u001b[36m pairs\u001b[0m          \u001b[34m│\u001b[0m\n",
       "\u001b[34m│\u001b[0m \u001b[36m    in the keyword argument list.  For example:  \u001b[0m\u001b[1;35mdict\u001b[0m\u001b[1;36m(\u001b[0m\u001b[33mone\u001b[0m\u001b[36m=\u001b[0m\u001b[1;36m1\u001b[0m\u001b[36m, \u001b[0m\u001b[33mtwo\u001b[0m\u001b[36m=\u001b[0m\u001b[1;36m2\u001b[0m\u001b[1;36m)\u001b[0m             \u001b[34m│\u001b[0m\n",
       "\u001b[34m│\u001b[0m                                                                                 \u001b[34m│\u001b[0m\n",
       "\u001b[34m│\u001b[0m \u001b[32m╭─────────────────────────────────────────────────────────────────────────────╮\u001b[0m \u001b[34m│\u001b[0m\n",
       "\u001b[34m│\u001b[0m \u001b[32m│\u001b[0m \u001b[1m{\u001b[0m\u001b[32m'symbolic'\u001b[0m: \u001b[32m'ft'\u001b[0m, \u001b[32m'numeric'\u001b[0m: \u001b[32m'ft'\u001b[0m, \u001b[32m'code'\u001b[0m: \u001b[32m\"'ft'\"\u001b[0m, \u001b[32m'list'\u001b[0m: \u001b[1m[\u001b[0m\u001b[1m]\u001b[0m, \u001b[32m'dict'\u001b[0m: \u001b[1m{\u001b[0m\u001b[1m}\u001b[0m\u001b[1m}\u001b[0m \u001b[32m│\u001b[0m \u001b[34m│\u001b[0m\n",
       "\u001b[34m│\u001b[0m \u001b[32m╰─────────────────────────────────────────────────────────────────────────────╯\u001b[0m \u001b[34m│\u001b[0m\n",
       "\u001b[34m│\u001b[0m                                                                                 \u001b[34m│\u001b[0m\n",
       "\u001b[34m│\u001b[0m \u001b[1;36m30\u001b[0m\u001b[3m attribute(s) not shown.\u001b[0m Run \u001b[1;35minspect\u001b[0m\u001b[1m(\u001b[0minspect\u001b[1m)\u001b[0m for options.                    \u001b[34m│\u001b[0m\n",
       "\u001b[34m╰─────────────────────────────────────────────────────────────────────────────────╯\u001b[0m\n"
      ]
     },
     "metadata": {},
     "output_type": "display_data"
    },
    {
     "name": "stdout",
     "output_type": "stream",
     "text": [
      "Processing Quantity: Quantity(2, 'ft')\n",
      "      node.args=[<_ast.Constant object at 0x0000028E51B95C10>, <_ast.Constant object at 0x0000028E51B95CA0>]\n",
      "to_numeric: Quantity(2, 'ft')\n",
      "Name(\n",
      "  id = 'm',\n",
      "  ctx = Store())\n",
      "numeric=' '\n",
      "to_numeric: m\n",
      "LHS_Symbolic: m\n",
      "RHS_Symbolic: \\left( 2 \\pm 0.2 \\right)\\ \\mathrm{ft}\n",
      "RHS_Numeric: \\left( 2 \\pm 0.2 \\right)\\ \\mathrm{ft}\n",
      "LHS_Numeric: \\left(2.00 \\pm 0.20\\right)\\ \\mathrm{ft}\n",
      "Call(\n",
      "  func = Name(\n",
      "    id = 'Quantity',\n",
      "    ctx = Load()),\n",
      "  args = [\n",
      "    Constant(\n",
      "      value = 4,\n",
      "      kind = None),\n",
      "    Constant(\n",
      "      value = 'mph',\n",
      "      kind = None)],\n",
      "  keywords = [])\n",
      "numeric=' '\n",
      "Processing Arg: <_ast.Constant object at 0x0000028E51F218B0>\n",
      "Constant(\n",
      "  value = 4,\n",
      "  kind = None)\n",
      "numeric=' '\n"
     ]
    },
    {
     "data": {
      "text/html": [
       "<pre style=\"white-space:pre;overflow-x:auto;line-height:normal;font-family:Menlo,'DejaVu Sans Mono',consolas,'Courier New',monospace\"><span style=\"color: #000080; text-decoration-color: #000080\">╭────────────────────────────── </span><span style=\"color: #000080; text-decoration-color: #000080; font-weight: bold\">&lt;</span><span style=\"color: #ff00ff; text-decoration-color: #ff00ff; font-weight: bold\">class</span><span style=\"color: #000000; text-decoration-color: #000000\"> </span><span style=\"color: #008000; text-decoration-color: #008000\">'dict'</span><span style=\"color: #000080; text-decoration-color: #000080; font-weight: bold\">&gt;</span><span style=\"color: #000080; text-decoration-color: #000080\"> ──────────────────────────────╮</span>\n",
       "<span style=\"color: #000080; text-decoration-color: #000080\">│</span> <span style=\"color: #800080; text-decoration-color: #800080; font-weight: bold\">dict</span><span style=\"color: #008080; text-decoration-color: #008080; font-weight: bold\">()</span><span style=\"color: #008080; text-decoration-color: #008080\"> -&gt; new empty dictionary</span>                                             <span style=\"color: #000080; text-decoration-color: #000080\">│</span>\n",
       "<span style=\"color: #000080; text-decoration-color: #000080\">│</span> <span style=\"color: #800080; text-decoration-color: #800080; font-weight: bold\">dict</span><span style=\"color: #008080; text-decoration-color: #008080; font-weight: bold\">(</span><span style=\"color: #008080; text-decoration-color: #008080\">mapping</span><span style=\"color: #008080; text-decoration-color: #008080; font-weight: bold\">)</span><span style=\"color: #008080; text-decoration-color: #008080\"> -&gt; new dictionary initialized from a mapping object's</span>        <span style=\"color: #000080; text-decoration-color: #000080\">│</span>\n",
       "<span style=\"color: #000080; text-decoration-color: #000080\">│</span> <span style=\"color: #008080; text-decoration-color: #008080\">    </span><span style=\"color: #008080; text-decoration-color: #008080; font-weight: bold\">(</span><span style=\"color: #008080; text-decoration-color: #008080\">key, value</span><span style=\"color: #008080; text-decoration-color: #008080; font-weight: bold\">)</span><span style=\"color: #008080; text-decoration-color: #008080\"> pairs</span>                                                     <span style=\"color: #000080; text-decoration-color: #000080\">│</span>\n",
       "<span style=\"color: #000080; text-decoration-color: #000080\">│</span> <span style=\"color: #800080; text-decoration-color: #800080; font-weight: bold\">dict</span><span style=\"color: #008080; text-decoration-color: #008080; font-weight: bold\">(</span><span style=\"color: #008080; text-decoration-color: #008080\">iterable</span><span style=\"color: #008080; text-decoration-color: #008080; font-weight: bold\">)</span><span style=\"color: #008080; text-decoration-color: #008080\"> -&gt; new dictionary initialized as if via:</span>                    <span style=\"color: #000080; text-decoration-color: #000080\">│</span>\n",
       "<span style=\"color: #000080; text-decoration-color: #000080\">│</span> <span style=\"color: #008080; text-decoration-color: #008080\">    d = </span><span style=\"color: #008080; text-decoration-color: #008080; font-weight: bold\">{}</span>                                                                 <span style=\"color: #000080; text-decoration-color: #000080\">│</span>\n",
       "<span style=\"color: #000080; text-decoration-color: #000080\">│</span> <span style=\"color: #008080; text-decoration-color: #008080\">    for k, v in iterable:</span>                                                  <span style=\"color: #000080; text-decoration-color: #000080\">│</span>\n",
       "<span style=\"color: #000080; text-decoration-color: #000080\">│</span> <span style=\"color: #008080; text-decoration-color: #008080\">        d</span><span style=\"color: #008080; text-decoration-color: #008080; font-weight: bold\">[</span><span style=\"color: #008080; text-decoration-color: #008080\">k</span><span style=\"color: #008080; text-decoration-color: #008080; font-weight: bold\">]</span><span style=\"color: #008080; text-decoration-color: #008080\"> = v</span>                                                           <span style=\"color: #000080; text-decoration-color: #000080\">│</span>\n",
       "<span style=\"color: #000080; text-decoration-color: #000080\">│</span> <span style=\"color: #800080; text-decoration-color: #800080; font-weight: bold\">dict</span><span style=\"color: #008080; text-decoration-color: #008080; font-weight: bold\">(</span><span style=\"color: #008080; text-decoration-color: #008080\">**kwargs</span><span style=\"color: #008080; text-decoration-color: #008080; font-weight: bold\">)</span><span style=\"color: #008080; text-decoration-color: #008080\"> -&gt; new dictionary initialized with the </span><span style=\"color: #808000; text-decoration-color: #808000\">name</span><span style=\"color: #008080; text-decoration-color: #008080\">=</span><span style=\"color: #800080; text-decoration-color: #800080\">value</span><span style=\"color: #008080; text-decoration-color: #008080\"> pairs</span>     <span style=\"color: #000080; text-decoration-color: #000080\">│</span>\n",
       "<span style=\"color: #000080; text-decoration-color: #000080\">│</span> <span style=\"color: #008080; text-decoration-color: #008080\">    in the keyword argument list.  For example:  </span><span style=\"color: #800080; text-decoration-color: #800080; font-weight: bold\">dict</span><span style=\"color: #008080; text-decoration-color: #008080; font-weight: bold\">(</span><span style=\"color: #808000; text-decoration-color: #808000\">one</span><span style=\"color: #008080; text-decoration-color: #008080\">=</span><span style=\"color: #008080; text-decoration-color: #008080; font-weight: bold\">1</span><span style=\"color: #008080; text-decoration-color: #008080\">, </span><span style=\"color: #808000; text-decoration-color: #808000\">two</span><span style=\"color: #008080; text-decoration-color: #008080\">=</span><span style=\"color: #008080; text-decoration-color: #008080; font-weight: bold\">2</span><span style=\"color: #008080; text-decoration-color: #008080; font-weight: bold\">)</span>        <span style=\"color: #000080; text-decoration-color: #000080\">│</span>\n",
       "<span style=\"color: #000080; text-decoration-color: #000080\">│</span>                                                                            <span style=\"color: #000080; text-decoration-color: #000080\">│</span>\n",
       "<span style=\"color: #000080; text-decoration-color: #000080\">│</span> <span style=\"color: #008000; text-decoration-color: #008000\">╭────────────────────────────────────────────────────────────────────────╮</span> <span style=\"color: #000080; text-decoration-color: #000080\">│</span>\n",
       "<span style=\"color: #000080; text-decoration-color: #000080\">│</span> <span style=\"color: #008000; text-decoration-color: #008000\">│</span> <span style=\"font-weight: bold\">{</span><span style=\"color: #008000; text-decoration-color: #008000\">'symbolic'</span>: <span style=\"color: #008000; text-decoration-color: #008000\">'4'</span>, <span style=\"color: #008000; text-decoration-color: #008000\">'numeric'</span>: <span style=\"color: #008000; text-decoration-color: #008000\">'4'</span>, <span style=\"color: #008000; text-decoration-color: #008000\">'code'</span>: <span style=\"color: #008000; text-decoration-color: #008000\">'4'</span>, <span style=\"color: #008000; text-decoration-color: #008000\">'list'</span>: <span style=\"font-weight: bold\">[]</span>, <span style=\"color: #008000; text-decoration-color: #008000\">'dict'</span>: <span style=\"font-weight: bold\">{}}</span> <span style=\"color: #008000; text-decoration-color: #008000\">│</span> <span style=\"color: #000080; text-decoration-color: #000080\">│</span>\n",
       "<span style=\"color: #000080; text-decoration-color: #000080\">│</span> <span style=\"color: #008000; text-decoration-color: #008000\">╰────────────────────────────────────────────────────────────────────────╯</span> <span style=\"color: #000080; text-decoration-color: #000080\">│</span>\n",
       "<span style=\"color: #000080; text-decoration-color: #000080\">│</span>                                                                            <span style=\"color: #000080; text-decoration-color: #000080\">│</span>\n",
       "<span style=\"color: #000080; text-decoration-color: #000080\">│</span> <span style=\"color: #008080; text-decoration-color: #008080; font-weight: bold\">30</span><span style=\"font-style: italic\"> attribute(s) not shown.</span> Run <span style=\"color: #800080; text-decoration-color: #800080; font-weight: bold\">inspect</span><span style=\"font-weight: bold\">(</span>inspect<span style=\"font-weight: bold\">)</span> for options.               <span style=\"color: #000080; text-decoration-color: #000080\">│</span>\n",
       "<span style=\"color: #000080; text-decoration-color: #000080\">╰────────────────────────────────────────────────────────────────────────────╯</span>\n",
       "</pre>\n"
      ],
      "text/plain": [
       "\u001b[34m╭─\u001b[0m\u001b[34m───────────────────────────── \u001b[0m\u001b[1;34m<\u001b[0m\u001b[1;95mclass\u001b[0m\u001b[39m \u001b[0m\u001b[32m'dict'\u001b[0m\u001b[1;34m>\u001b[0m\u001b[34m ─────────────────────────────\u001b[0m\u001b[34m─╮\u001b[0m\n",
       "\u001b[34m│\u001b[0m \u001b[1;35mdict\u001b[0m\u001b[1;36m(\u001b[0m\u001b[1;36m)\u001b[0m\u001b[36m -> new empty dictionary\u001b[0m                                             \u001b[34m│\u001b[0m\n",
       "\u001b[34m│\u001b[0m \u001b[1;35mdict\u001b[0m\u001b[1;36m(\u001b[0m\u001b[36mmapping\u001b[0m\u001b[1;36m)\u001b[0m\u001b[36m -> new dictionary initialized from a mapping object's\u001b[0m        \u001b[34m│\u001b[0m\n",
       "\u001b[34m│\u001b[0m \u001b[36m    \u001b[0m\u001b[1;36m(\u001b[0m\u001b[36mkey, value\u001b[0m\u001b[1;36m)\u001b[0m\u001b[36m pairs\u001b[0m                                                     \u001b[34m│\u001b[0m\n",
       "\u001b[34m│\u001b[0m \u001b[1;35mdict\u001b[0m\u001b[1;36m(\u001b[0m\u001b[36miterable\u001b[0m\u001b[1;36m)\u001b[0m\u001b[36m -> new dictionary initialized as if via:\u001b[0m                    \u001b[34m│\u001b[0m\n",
       "\u001b[34m│\u001b[0m \u001b[36m    d = \u001b[0m\u001b[1;36m{\u001b[0m\u001b[1;36m}\u001b[0m                                                                 \u001b[34m│\u001b[0m\n",
       "\u001b[34m│\u001b[0m \u001b[36m    for k, v in iterable:\u001b[0m                                                  \u001b[34m│\u001b[0m\n",
       "\u001b[34m│\u001b[0m \u001b[36m        d\u001b[0m\u001b[1;36m[\u001b[0m\u001b[36mk\u001b[0m\u001b[1;36m]\u001b[0m\u001b[36m = v\u001b[0m                                                           \u001b[34m│\u001b[0m\n",
       "\u001b[34m│\u001b[0m \u001b[1;35mdict\u001b[0m\u001b[1;36m(\u001b[0m\u001b[36m**kwargs\u001b[0m\u001b[1;36m)\u001b[0m\u001b[36m -> new dictionary initialized with the \u001b[0m\u001b[33mname\u001b[0m\u001b[36m=\u001b[0m\u001b[35mvalue\u001b[0m\u001b[36m pairs\u001b[0m     \u001b[34m│\u001b[0m\n",
       "\u001b[34m│\u001b[0m \u001b[36m    in the keyword argument list.  For example:  \u001b[0m\u001b[1;35mdict\u001b[0m\u001b[1;36m(\u001b[0m\u001b[33mone\u001b[0m\u001b[36m=\u001b[0m\u001b[1;36m1\u001b[0m\u001b[36m, \u001b[0m\u001b[33mtwo\u001b[0m\u001b[36m=\u001b[0m\u001b[1;36m2\u001b[0m\u001b[1;36m)\u001b[0m        \u001b[34m│\u001b[0m\n",
       "\u001b[34m│\u001b[0m                                                                            \u001b[34m│\u001b[0m\n",
       "\u001b[34m│\u001b[0m \u001b[32m╭────────────────────────────────────────────────────────────────────────╮\u001b[0m \u001b[34m│\u001b[0m\n",
       "\u001b[34m│\u001b[0m \u001b[32m│\u001b[0m \u001b[1m{\u001b[0m\u001b[32m'symbolic'\u001b[0m: \u001b[32m'4'\u001b[0m, \u001b[32m'numeric'\u001b[0m: \u001b[32m'4'\u001b[0m, \u001b[32m'code'\u001b[0m: \u001b[32m'4'\u001b[0m, \u001b[32m'list'\u001b[0m: \u001b[1m[\u001b[0m\u001b[1m]\u001b[0m, \u001b[32m'dict'\u001b[0m: \u001b[1m{\u001b[0m\u001b[1m}\u001b[0m\u001b[1m}\u001b[0m \u001b[32m│\u001b[0m \u001b[34m│\u001b[0m\n",
       "\u001b[34m│\u001b[0m \u001b[32m╰────────────────────────────────────────────────────────────────────────╯\u001b[0m \u001b[34m│\u001b[0m\n",
       "\u001b[34m│\u001b[0m                                                                            \u001b[34m│\u001b[0m\n",
       "\u001b[34m│\u001b[0m \u001b[1;36m30\u001b[0m\u001b[3m attribute(s) not shown.\u001b[0m Run \u001b[1;35minspect\u001b[0m\u001b[1m(\u001b[0minspect\u001b[1m)\u001b[0m for options.               \u001b[34m│\u001b[0m\n",
       "\u001b[34m╰────────────────────────────────────────────────────────────────────────────╯\u001b[0m\n"
      ]
     },
     "metadata": {},
     "output_type": "display_data"
    },
    {
     "name": "stdout",
     "output_type": "stream",
     "text": [
      "Processing Arg: <_ast.Constant object at 0x0000028E51F21580>\n",
      "Constant(\n",
      "  value = 'mph',\n",
      "  kind = None)\n",
      "numeric=' '\n"
     ]
    },
    {
     "data": {
      "text/html": [
       "<pre style=\"white-space:pre;overflow-x:auto;line-height:normal;font-family:Menlo,'DejaVu Sans Mono',consolas,'Courier New',monospace\"><span style=\"color: #000080; text-decoration-color: #000080\">╭────────────────────────────────── </span><span style=\"color: #000080; text-decoration-color: #000080; font-weight: bold\">&lt;</span><span style=\"color: #ff00ff; text-decoration-color: #ff00ff; font-weight: bold\">class</span><span style=\"color: #000000; text-decoration-color: #000000\"> </span><span style=\"color: #008000; text-decoration-color: #008000\">'dict'</span><span style=\"color: #000080; text-decoration-color: #000080; font-weight: bold\">&gt;</span><span style=\"color: #000080; text-decoration-color: #000080\"> ──────────────────────────────────╮</span>\n",
       "<span style=\"color: #000080; text-decoration-color: #000080\">│</span> <span style=\"color: #800080; text-decoration-color: #800080; font-weight: bold\">dict</span><span style=\"color: #008080; text-decoration-color: #008080; font-weight: bold\">()</span><span style=\"color: #008080; text-decoration-color: #008080\"> -&gt; new empty dictionary</span>                                                     <span style=\"color: #000080; text-decoration-color: #000080\">│</span>\n",
       "<span style=\"color: #000080; text-decoration-color: #000080\">│</span> <span style=\"color: #800080; text-decoration-color: #800080; font-weight: bold\">dict</span><span style=\"color: #008080; text-decoration-color: #008080; font-weight: bold\">(</span><span style=\"color: #008080; text-decoration-color: #008080\">mapping</span><span style=\"color: #008080; text-decoration-color: #008080; font-weight: bold\">)</span><span style=\"color: #008080; text-decoration-color: #008080\"> -&gt; new dictionary initialized from a mapping object's</span>                <span style=\"color: #000080; text-decoration-color: #000080\">│</span>\n",
       "<span style=\"color: #000080; text-decoration-color: #000080\">│</span> <span style=\"color: #008080; text-decoration-color: #008080\">    </span><span style=\"color: #008080; text-decoration-color: #008080; font-weight: bold\">(</span><span style=\"color: #008080; text-decoration-color: #008080\">key, value</span><span style=\"color: #008080; text-decoration-color: #008080; font-weight: bold\">)</span><span style=\"color: #008080; text-decoration-color: #008080\"> pairs</span>                                                             <span style=\"color: #000080; text-decoration-color: #000080\">│</span>\n",
       "<span style=\"color: #000080; text-decoration-color: #000080\">│</span> <span style=\"color: #800080; text-decoration-color: #800080; font-weight: bold\">dict</span><span style=\"color: #008080; text-decoration-color: #008080; font-weight: bold\">(</span><span style=\"color: #008080; text-decoration-color: #008080\">iterable</span><span style=\"color: #008080; text-decoration-color: #008080; font-weight: bold\">)</span><span style=\"color: #008080; text-decoration-color: #008080\"> -&gt; new dictionary initialized as if via:</span>                            <span style=\"color: #000080; text-decoration-color: #000080\">│</span>\n",
       "<span style=\"color: #000080; text-decoration-color: #000080\">│</span> <span style=\"color: #008080; text-decoration-color: #008080\">    d = </span><span style=\"color: #008080; text-decoration-color: #008080; font-weight: bold\">{}</span>                                                                         <span style=\"color: #000080; text-decoration-color: #000080\">│</span>\n",
       "<span style=\"color: #000080; text-decoration-color: #000080\">│</span> <span style=\"color: #008080; text-decoration-color: #008080\">    for k, v in iterable:</span>                                                          <span style=\"color: #000080; text-decoration-color: #000080\">│</span>\n",
       "<span style=\"color: #000080; text-decoration-color: #000080\">│</span> <span style=\"color: #008080; text-decoration-color: #008080\">        d</span><span style=\"color: #008080; text-decoration-color: #008080; font-weight: bold\">[</span><span style=\"color: #008080; text-decoration-color: #008080\">k</span><span style=\"color: #008080; text-decoration-color: #008080; font-weight: bold\">]</span><span style=\"color: #008080; text-decoration-color: #008080\"> = v</span>                                                                   <span style=\"color: #000080; text-decoration-color: #000080\">│</span>\n",
       "<span style=\"color: #000080; text-decoration-color: #000080\">│</span> <span style=\"color: #800080; text-decoration-color: #800080; font-weight: bold\">dict</span><span style=\"color: #008080; text-decoration-color: #008080; font-weight: bold\">(</span><span style=\"color: #008080; text-decoration-color: #008080\">**kwargs</span><span style=\"color: #008080; text-decoration-color: #008080; font-weight: bold\">)</span><span style=\"color: #008080; text-decoration-color: #008080\"> -&gt; new dictionary initialized with the </span><span style=\"color: #808000; text-decoration-color: #808000\">name</span><span style=\"color: #008080; text-decoration-color: #008080\">=</span><span style=\"color: #800080; text-decoration-color: #800080\">value</span><span style=\"color: #008080; text-decoration-color: #008080\"> pairs</span>             <span style=\"color: #000080; text-decoration-color: #000080\">│</span>\n",
       "<span style=\"color: #000080; text-decoration-color: #000080\">│</span> <span style=\"color: #008080; text-decoration-color: #008080\">    in the keyword argument list.  For example:  </span><span style=\"color: #800080; text-decoration-color: #800080; font-weight: bold\">dict</span><span style=\"color: #008080; text-decoration-color: #008080; font-weight: bold\">(</span><span style=\"color: #808000; text-decoration-color: #808000\">one</span><span style=\"color: #008080; text-decoration-color: #008080\">=</span><span style=\"color: #008080; text-decoration-color: #008080; font-weight: bold\">1</span><span style=\"color: #008080; text-decoration-color: #008080\">, </span><span style=\"color: #808000; text-decoration-color: #808000\">two</span><span style=\"color: #008080; text-decoration-color: #008080\">=</span><span style=\"color: #008080; text-decoration-color: #008080; font-weight: bold\">2</span><span style=\"color: #008080; text-decoration-color: #008080; font-weight: bold\">)</span>                <span style=\"color: #000080; text-decoration-color: #000080\">│</span>\n",
       "<span style=\"color: #000080; text-decoration-color: #000080\">│</span>                                                                                    <span style=\"color: #000080; text-decoration-color: #000080\">│</span>\n",
       "<span style=\"color: #000080; text-decoration-color: #000080\">│</span> <span style=\"color: #008000; text-decoration-color: #008000\">╭────────────────────────────────────────────────────────────────────────────────╮</span> <span style=\"color: #000080; text-decoration-color: #000080\">│</span>\n",
       "<span style=\"color: #000080; text-decoration-color: #000080\">│</span> <span style=\"color: #008000; text-decoration-color: #008000\">│</span> <span style=\"font-weight: bold\">{</span><span style=\"color: #008000; text-decoration-color: #008000\">'symbolic'</span>: <span style=\"color: #008000; text-decoration-color: #008000\">'mph'</span>, <span style=\"color: #008000; text-decoration-color: #008000\">'numeric'</span>: <span style=\"color: #008000; text-decoration-color: #008000\">'mph'</span>, <span style=\"color: #008000; text-decoration-color: #008000\">'code'</span>: <span style=\"color: #008000; text-decoration-color: #008000\">\"'mph'\"</span>, <span style=\"color: #008000; text-decoration-color: #008000\">'list'</span>: <span style=\"font-weight: bold\">[]</span>, <span style=\"color: #008000; text-decoration-color: #008000\">'dict'</span>: <span style=\"font-weight: bold\">{}}</span> <span style=\"color: #008000; text-decoration-color: #008000\">│</span> <span style=\"color: #000080; text-decoration-color: #000080\">│</span>\n",
       "<span style=\"color: #000080; text-decoration-color: #000080\">│</span> <span style=\"color: #008000; text-decoration-color: #008000\">╰────────────────────────────────────────────────────────────────────────────────╯</span> <span style=\"color: #000080; text-decoration-color: #000080\">│</span>\n",
       "<span style=\"color: #000080; text-decoration-color: #000080\">│</span>                                                                                    <span style=\"color: #000080; text-decoration-color: #000080\">│</span>\n",
       "<span style=\"color: #000080; text-decoration-color: #000080\">│</span> <span style=\"color: #008080; text-decoration-color: #008080; font-weight: bold\">30</span><span style=\"font-style: italic\"> attribute(s) not shown.</span> Run <span style=\"color: #800080; text-decoration-color: #800080; font-weight: bold\">inspect</span><span style=\"font-weight: bold\">(</span>inspect<span style=\"font-weight: bold\">)</span> for options.                       <span style=\"color: #000080; text-decoration-color: #000080\">│</span>\n",
       "<span style=\"color: #000080; text-decoration-color: #000080\">╰────────────────────────────────────────────────────────────────────────────────────╯</span>\n",
       "</pre>\n"
      ],
      "text/plain": [
       "\u001b[34m╭─\u001b[0m\u001b[34m───────────────────────────────── \u001b[0m\u001b[1;34m<\u001b[0m\u001b[1;95mclass\u001b[0m\u001b[39m \u001b[0m\u001b[32m'dict'\u001b[0m\u001b[1;34m>\u001b[0m\u001b[34m ─────────────────────────────────\u001b[0m\u001b[34m─╮\u001b[0m\n",
       "\u001b[34m│\u001b[0m \u001b[1;35mdict\u001b[0m\u001b[1;36m(\u001b[0m\u001b[1;36m)\u001b[0m\u001b[36m -> new empty dictionary\u001b[0m                                                     \u001b[34m│\u001b[0m\n",
       "\u001b[34m│\u001b[0m \u001b[1;35mdict\u001b[0m\u001b[1;36m(\u001b[0m\u001b[36mmapping\u001b[0m\u001b[1;36m)\u001b[0m\u001b[36m -> new dictionary initialized from a mapping object's\u001b[0m                \u001b[34m│\u001b[0m\n",
       "\u001b[34m│\u001b[0m \u001b[36m    \u001b[0m\u001b[1;36m(\u001b[0m\u001b[36mkey, value\u001b[0m\u001b[1;36m)\u001b[0m\u001b[36m pairs\u001b[0m                                                             \u001b[34m│\u001b[0m\n",
       "\u001b[34m│\u001b[0m \u001b[1;35mdict\u001b[0m\u001b[1;36m(\u001b[0m\u001b[36miterable\u001b[0m\u001b[1;36m)\u001b[0m\u001b[36m -> new dictionary initialized as if via:\u001b[0m                            \u001b[34m│\u001b[0m\n",
       "\u001b[34m│\u001b[0m \u001b[36m    d = \u001b[0m\u001b[1;36m{\u001b[0m\u001b[1;36m}\u001b[0m                                                                         \u001b[34m│\u001b[0m\n",
       "\u001b[34m│\u001b[0m \u001b[36m    for k, v in iterable:\u001b[0m                                                          \u001b[34m│\u001b[0m\n",
       "\u001b[34m│\u001b[0m \u001b[36m        d\u001b[0m\u001b[1;36m[\u001b[0m\u001b[36mk\u001b[0m\u001b[1;36m]\u001b[0m\u001b[36m = v\u001b[0m                                                                   \u001b[34m│\u001b[0m\n",
       "\u001b[34m│\u001b[0m \u001b[1;35mdict\u001b[0m\u001b[1;36m(\u001b[0m\u001b[36m**kwargs\u001b[0m\u001b[1;36m)\u001b[0m\u001b[36m -> new dictionary initialized with the \u001b[0m\u001b[33mname\u001b[0m\u001b[36m=\u001b[0m\u001b[35mvalue\u001b[0m\u001b[36m pairs\u001b[0m             \u001b[34m│\u001b[0m\n",
       "\u001b[34m│\u001b[0m \u001b[36m    in the keyword argument list.  For example:  \u001b[0m\u001b[1;35mdict\u001b[0m\u001b[1;36m(\u001b[0m\u001b[33mone\u001b[0m\u001b[36m=\u001b[0m\u001b[1;36m1\u001b[0m\u001b[36m, \u001b[0m\u001b[33mtwo\u001b[0m\u001b[36m=\u001b[0m\u001b[1;36m2\u001b[0m\u001b[1;36m)\u001b[0m                \u001b[34m│\u001b[0m\n",
       "\u001b[34m│\u001b[0m                                                                                    \u001b[34m│\u001b[0m\n",
       "\u001b[34m│\u001b[0m \u001b[32m╭────────────────────────────────────────────────────────────────────────────────╮\u001b[0m \u001b[34m│\u001b[0m\n",
       "\u001b[34m│\u001b[0m \u001b[32m│\u001b[0m \u001b[1m{\u001b[0m\u001b[32m'symbolic'\u001b[0m: \u001b[32m'mph'\u001b[0m, \u001b[32m'numeric'\u001b[0m: \u001b[32m'mph'\u001b[0m, \u001b[32m'code'\u001b[0m: \u001b[32m\"'mph'\"\u001b[0m, \u001b[32m'list'\u001b[0m: \u001b[1m[\u001b[0m\u001b[1m]\u001b[0m, \u001b[32m'dict'\u001b[0m: \u001b[1m{\u001b[0m\u001b[1m}\u001b[0m\u001b[1m}\u001b[0m \u001b[32m│\u001b[0m \u001b[34m│\u001b[0m\n",
       "\u001b[34m│\u001b[0m \u001b[32m╰────────────────────────────────────────────────────────────────────────────────╯\u001b[0m \u001b[34m│\u001b[0m\n",
       "\u001b[34m│\u001b[0m                                                                                    \u001b[34m│\u001b[0m\n",
       "\u001b[34m│\u001b[0m \u001b[1;36m30\u001b[0m\u001b[3m attribute(s) not shown.\u001b[0m Run \u001b[1;35minspect\u001b[0m\u001b[1m(\u001b[0minspect\u001b[1m)\u001b[0m for options.                       \u001b[34m│\u001b[0m\n",
       "\u001b[34m╰────────────────────────────────────────────────────────────────────────────────────╯\u001b[0m\n"
      ]
     },
     "metadata": {},
     "output_type": "display_data"
    },
    {
     "name": "stdout",
     "output_type": "stream",
     "text": [
      "Processing Quantity: Quantity(4, 'mph')\n",
      "      node.args=[<_ast.Constant object at 0x0000028E51F218B0>, <_ast.Constant object at 0x0000028E51F21580>]\n",
      "to_numeric: Quantity(4, 'mph')\n",
      "Name(\n",
      "  id = 'y',\n",
      "  ctx = Store())\n",
      "numeric=' '\n",
      "to_numeric: y\n",
      "LHS_Symbolic: y\n",
      "RHS_Symbolic: 4\\ \\mathrm{mph}\n",
      "RHS_Numeric: 4\\ \\mathrm{mph}\n",
      "LHS_Numeric: 4\\ \\mathrm{mph}\n",
      "BinOp(\n",
      "  left = Name(\n",
      "    id = 'x',\n",
      "    ctx = Load()),\n",
      "  op = Add(),\n",
      "  right = Name(\n",
      "    id = 'y',\n",
      "    ctx = Load()))\n",
      "numeric=' '\n",
      "Name(\n",
      "  id = 'x',\n",
      "  ctx = Load())\n",
      "numeric=' '\n",
      "to_numeric: x\n",
      "Name(\n",
      "  id = 'y',\n",
      "  ctx = Load())\n",
      "numeric=' '\n",
      "to_numeric: y\n",
      "Name(\n",
      "  id = 'z',\n",
      "  ctx = Store())\n",
      "numeric=' '\n",
      "to_numeric: z\n",
      "LHS_Symbolic: z\n",
      "RHS_Symbolic: x + y\n",
      "RHS_Numeric: 1.5\\ \\frac{\\mathrm{m}}{\\mathrm{s}} + 4\\ \\mathrm{mph}\n",
      "LHS_Numeric: 3.2882\\ \\frac{\\mathrm{m}}{\\mathrm{s}}\n"
     ]
    },
    {
     "data": {
      "text/markdown": [
       "\n",
       " comment\n",
       "# string example\n",
       "\n",
       "\\begin{align}\n",
       "  x &= a = v =  \\frac{ 3\\ \\mathrm{m} }{ 2\\ \\mathrm{s} }  = 1.5\\ \\frac{\\mathrm{m}}{\\mathrm{s}} \n",
       "\\end{align}\n",
       "\n",
       "\n",
       "\n",
       "\\begin{align}\n",
       "  m &=  \\left( 2 \\pm 0.2 \\right)\\ \\mathrm{ft}  = \\left(2.00 \\pm 0.20\\right)\\ \\mathrm{ft} \n",
       "\\end{align}\n",
       "\n",
       "\n",
       " second string example\n",
       "\n",
       "\n",
       "\\begin{align}\n",
       "  y &=  4\\ \\mathrm{mph} \n",
       "\\end{align}\n",
       "\n",
       "\n",
       "\\begin{align}\n",
       "  z &=  x + y \\\\\n",
       "    &= 1.5\\ \\frac{\\mathrm{m}}{\\mathrm{s}} + 4\\ \\mathrm{mph}\\\\\n",
       "    &= 3.2882\\ \\frac{\\mathrm{m}}{\\mathrm{s}}\n",
       "\\end{align}\n",
       "\n",
       "\n",
       "\n",
       " trailing comment\n"
      ],
      "text/plain": [
       "<IPython.core.display.Markdown object>"
      ]
     },
     "metadata": {},
     "output_type": "display_data"
    }
   ],
   "source": [
    "%%showcalc --comments --verbose\n",
    "\n",
    "# comment\n",
    "\"# string example\"\n",
    "x = a = v = Quantity(3,'m') /Quantity(2,'s')\n",
    "\n",
    "m = Quantity(2,'ft').plus_minus(.2)\n",
    "\" second string example\"\n",
    "if 2500>2300:\n",
    "    Re = 45\n",
    "y = Quantity(4,'mph')\n",
    "z = (x+\n",
    "y)\n",
    "\n",
    "# trailing comment"
   ]
  },
  {
   "cell_type": "code",
   "execution_count": null,
   "metadata": {},
   "outputs": [],
   "source": [
    "import ast\n",
    "\n",
    "code_string = \"\"\"\n",
    "x = Quantity(2,'m',).plus_minus(.5)\n",
    "\"\"\"\n",
    "tree = ast.parse(code_string)\n",
    "n = tree.body[0]\n",
    "n"
   ]
  }
 ],
 "metadata": {
  "kernelspec": {
   "display_name": "base",
   "language": "python",
   "name": "python3"
  },
  "language_info": {
   "codemirror_mode": {
    "name": "ipython",
    "version": 3
   },
   "file_extension": ".py",
   "mimetype": "text/x-python",
   "name": "python",
   "nbconvert_exporter": "python",
   "pygments_lexer": "ipython3",
   "version": "3.8.5"
  },
  "orig_nbformat": 4
 },
 "nbformat": 4,
 "nbformat_minor": 2
}
