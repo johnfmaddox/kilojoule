{
 "cells": [
  {
   "cell_type": "code",
   "execution_count": 1,
   "metadata": {},
   "outputs": [
    {
     "data": {
      "text/plain": [
       "'f:\\\\OneDriveUK\\\\OneDrive - University of Kentucky\\\\Teaching\\\\Python\\\\kilojoule\\\\kilojoule\\\\__init__.py'"
      ]
     },
     "execution_count": 1,
     "metadata": {},
     "output_type": "execute_result"
    }
   ],
   "source": [
    "import kilojoule.magics\n",
    "from kilojoule.units import Quantity\n",
    "\n",
    "kilojoule.__file__"
   ]
  },
  {
   "cell_type": "code",
   "execution_count": 2,
   "metadata": {},
   "outputs": [
    {
     "data": {
      "text/markdown": [
       "\\begin{align}\n",
       "  m &=  \\left( 2 \\pm 20.0\\% \\right)\\ \\mathrm{ft}  = \\left(2.0 \\pm 0.4\\right)\\ \\mathrm{ft} \n",
       "\\end{align}\n",
       "\n"
      ],
      "text/plain": [
       "<IPython.core.display.Markdown object>"
      ]
     },
     "metadata": {},
     "output_type": "display_data"
    }
   ],
   "source": [
    "%%showcalc \n",
    "m = Quantity(2,'ft').plus_minus(.2, relative=True)"
   ]
  },
  {
   "cell_type": "code",
   "execution_count": 5,
   "metadata": {},
   "outputs": [
    {
     "data": {
      "text/markdown": [
       "\\begin{align}\n",
       "  x &=  {\\left[  i - 1  \\right]}_{i=[1, \\ldots, 4]} \\\\\n",
       "    &= [ 0 , \\ldots,  3 ]\\\\\n",
       "    &= ??\n",
       "\\end{align}\n",
       "\n"
      ],
      "text/plain": [
       "<IPython.core.display.Markdown object>"
      ]
     },
     "metadata": {},
     "output_type": "display_data"
    }
   ],
   "source": [
    "%%showcalc\n",
    "x = [i-1 for i in [1,2,3,4]]"
   ]
  },
  {
   "cell_type": "code",
   "execution_count": null,
   "metadata": {},
   "outputs": [],
   "source": [
    "%%showcalc --comments --verbose\n",
    "# comment\n",
    "\"# string example\"\n",
    "x = a = v = Quantity(3,'m') /Quantity(2,'s')\n",
    "\n",
    "m = Quantity(2,'ft').plus_minus(.2)\n",
    "\" second string example\"\n",
    "if 2500>2300:\n",
    "    Re = 45\n",
    "y = Quantity(4,'mph')\n",
    "z = (x+\n",
    "y)\n",
    "\n",
    "# trailing comment"
   ]
  },
  {
   "cell_type": "code",
   "execution_count": null,
   "metadata": {},
   "outputs": [],
   "source": [
    "import ast\n",
    "\n",
    "code_string = \"\"\"\n",
    "x = Quantity(2,'m',).plus_minus(.5)\n",
    "\"\"\"\n",
    "tree = ast.parse(code_string)\n",
    "n = tree.body[0]\n",
    "n"
   ]
  }
 ],
 "metadata": {
  "kernelspec": {
   "display_name": "base",
   "language": "python",
   "name": "python3"
  },
  "language_info": {
   "codemirror_mode": {
    "name": "ipython",
    "version": 3
   },
   "file_extension": ".py",
   "mimetype": "text/x-python",
   "name": "python",
   "nbconvert_exporter": "python",
   "pygments_lexer": "ipython3",
   "version": "3.8.5"
  },
  "orig_nbformat": 4
 },
 "nbformat": 4,
 "nbformat_minor": 2
}
